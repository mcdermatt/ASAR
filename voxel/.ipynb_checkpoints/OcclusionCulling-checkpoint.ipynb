{
 "cells": [
  {
   "cell_type": "markdown",
   "metadata": {},
   "source": [
    "# Occlusion Culling"
   ]
  },
  {
   "cell_type": "code",
   "execution_count": 100,
   "metadata": {},
   "outputs": [
    {
     "name": "stdout",
     "output_type": "stream",
     "text": [
      "The autoreload extension is already loaded. To reload it, use:\n",
      "  %reload_ext autoreload\n"
     ]
    },
    {
     "data": {
      "application/javascript": [
       "IPython.notebook.set_autosave_interval(180000)"
      ]
     },
     "metadata": {},
     "output_type": "display_data"
    },
    {
     "name": "stdout",
     "output_type": "stream",
     "text": [
      "Autosaving every 180 seconds\n"
     ]
    }
   ],
   "source": [
    "from vedo import *\n",
    "# settings.embedWindow(backend='ipyvtk', verbose = True)\n",
    "import os\n",
    "from ipyvtklink.viewer import ViewInteractiveWidget\n",
    "import pykitti\n",
    "from scene import scene\n",
    "import numpy as np\n",
    "%matplotlib notebook\n",
    "%load_ext autoreload\n",
    "%autoreload 2\n",
    "%autosave 180\n",
    "\n",
    "## init KITTI dataset -----------------------------------------------------------------\n",
    "basedir = 'C:/kitti/'\n",
    "date = '2011_09_26'\n",
    "drive = '0005'\n",
    "frame_range = range(150, 151, 1)\n",
    "dataset = pykitti.raw(basedir, date, drive)\n",
    "velo1 = dataset.get_velo(0) # Each scan is a Nx4 array of [x,y,z,reflectance]\n",
    "cloud = velo1[:,:3]\n",
    "# cloud = cloud[cloud[:,2] > -1.5] #ignore ground plane\n",
    "## ------------------------------------------------------------------------------------\n"
   ]
  },
  {
   "cell_type": "code",
   "execution_count": 112,
   "metadata": {},
   "outputs": [
    {
     "data": {
      "application/vnd.jupyter.widget-view+json": {
       "model_id": "07b1fdf97b614746a094d4aefcb6d43a",
       "version_major": 2,
       "version_minor": 0
      },
      "text/plain": [
       "ViewInteractiveWidget(height=960, layout=Layout(height='auto', width='100%'), width=960)"
      ]
     },
     "metadata": {},
     "output_type": "display_data"
    }
   ],
   "source": [
    "S = scene(cloud = cloud, fid = 100)\n",
    "\n",
    "ViewInteractiveWidget(S.plt.window)"
   ]
  },
  {
   "cell_type": "code",
   "execution_count": 99,
   "metadata": {},
   "outputs": [
    {
     "name": "stdout",
     "output_type": "stream",
     "text": [
      "(array([   98,    99,   100, ..., 60102, 60103, 60104], dtype=int64),)\n",
      "(1, 5710)\n"
     ]
    }
   ],
   "source": [
    "#get lidar points within a voxel\n",
    "\n",
    "# test = np.where((S.cloud[:,0] > 50) and (S.cloud[:,1] > 50))\n",
    "# S.cloud[((S.cloud[:,0] > 50) and (S.cloud[:,1] > 50))]\n",
    "# print(test[0])\n",
    "\n",
    "test = np.where(np.array([S.cloud[:,0] > 10, (S.cloud[:,1] > 10)]).all(axis = 0) == True)\n",
    "# print(S.cloud[test])\n",
    "print(test)\n",
    "print(np.shape(test))"
   ]
  },
  {
   "cell_type": "code",
   "execution_count": null,
   "metadata": {},
   "outputs": [],
   "source": [
    "x1 = np.array([1,2,3])\n",
    "x2 = np.array([5,6,7])\n",
    "x3 = np.array([-1,-2,-3])\n",
    "\n",
    "# mesh = np.meshgrid(x1)\n",
    "mesh = np.mgrid[0:10:2, 0:10:2, 0:10:2].reshape(-1,3)\n",
    "print(np.shape(mesh))\n",
    "# print(mesh)"
   ]
  },
  {
   "cell_type": "code",
   "execution_count": null,
   "metadata": {},
   "outputs": [],
   "source": [
    "\"\"\"Manually build a mesh from points and faces\"\"\"\n",
    "from vedo import Mesh, printc, show\n",
    "\n",
    "plt = Plotter(N=1, axes=2,bg = (1,1,1),  interactive=True)\n",
    "\n",
    "verts = [(50,50,50), (70,40,50), (50,40,80), (80,70,50)]\n",
    "faces = [(0,1,2), (2,1,3), (1,0,3)]\n",
    "# (the first triangle face is formed by vertex 0, 1 and 2)\n",
    "\n",
    "# Build the polygonal Mesh object:\n",
    "mesh = Mesh([verts, faces])\n",
    "mesh.backColor('violet').lineColor('tomato').lineWidth(2)\n",
    "labs = mesh.labels('id').c('black')\n",
    "\n",
    "# retrieve them as numpy arrays\n",
    "printc('points():\\n', mesh.points(), c=3)\n",
    "printc('faces(): \\n', mesh.faces(),  c=3)\n",
    "\n",
    "show(mesh, labs, __doc__, viewup='z', axes=2).close()\n",
    "# plt.show(disp)\n",
    "ViewInteractiveWidget(plt.window)"
   ]
  },
  {
   "cell_type": "code",
   "execution_count": null,
   "metadata": {},
   "outputs": [],
   "source": [
    "s  = 10*1j\n",
    "np.mgrid[0:100:s]"
   ]
  },
  {
   "cell_type": "code",
   "execution_count": null,
   "metadata": {},
   "outputs": [],
   "source": []
  },
  {
   "cell_type": "code",
   "execution_count": null,
   "metadata": {},
   "outputs": [],
   "source": []
  }
 ],
 "metadata": {
  "kernelspec": {
   "display_name": "Python 3",
   "language": "python",
   "name": "python3"
  },
  "language_info": {
   "codemirror_mode": {
    "name": "ipython",
    "version": 3
   },
   "file_extension": ".py",
   "mimetype": "text/x-python",
   "name": "python",
   "nbconvert_exporter": "python",
   "pygments_lexer": "ipython3",
   "version": "3.7.6"
  }
 },
 "nbformat": 4,
 "nbformat_minor": 4
}
