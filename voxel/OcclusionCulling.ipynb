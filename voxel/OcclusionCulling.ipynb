{
 "cells": [
  {
   "cell_type": "markdown",
   "metadata": {},
   "source": [
    "# Occlusion Culling"
   ]
  },
  {
   "cell_type": "code",
   "execution_count": 1,
   "metadata": {},
   "outputs": [
    {
     "data": {
      "application/javascript": [
       "IPython.notebook.set_autosave_interval(180000)"
      ]
     },
     "metadata": {},
     "output_type": "display_data"
    },
    {
     "name": "stdout",
     "output_type": "stream",
     "text": [
      "Autosaving every 180 seconds\n"
     ]
    }
   ],
   "source": [
    "from vedo import *\n",
    "# settings.embedWindow(backend='ipyvtk', verbose = True)\n",
    "import os\n",
    "from ipyvtklink.viewer import ViewInteractiveWidget\n",
    "import pykitti\n",
    "from scene import scene\n",
    "import numpy as np\n",
    "%matplotlib notebook\n",
    "%load_ext autoreload\n",
    "%autoreload 2\n",
    "%autosave 180\n",
    "\n",
    "## init KITTI dataset -----------------------------------------------------------------\n",
    "basedir = 'C:/kitti/'\n",
    "date = '2011_09_26'\n",
    "drive = '0005'\n",
    "frame_range = range(150, 151, 1)\n",
    "dataset = pykitti.raw(basedir, date, drive)\n",
    "velo1 = dataset.get_velo(0) # Each scan is a Nx4 array of [x,y,z,reflectance]\n",
    "cloud = velo1[:,:3]\n",
    "# cloud = cloud[cloud[:,2] > -1.5] #ignore ground plane\n",
    "## ------------------------------------------------------------------------------------\n"
   ]
  },
  {
   "cell_type": "code",
   "execution_count": 2,
   "metadata": {
    "scrolled": false
   },
   "outputs": [
    {
     "data": {
      "application/vnd.jupyter.widget-view+json": {
       "model_id": "d6be9746bde3444fa9b99a664d6db402",
       "version_major": 2,
       "version_minor": 0
      },
      "text/plain": [
       "ViewInteractiveWidget(height=960, layout=Layout(height='auto', width='100%'), width=960)"
      ]
     },
     "metadata": {},
     "output_type": "display_data"
    }
   ],
   "source": [
    "c = cloud\n",
    "# c = np.random.randn(10,3)*np.array([20,20,1]) #test random points\n",
    "# c = np.array([[10,-20,-1]])\n",
    "S = scene(cloud = c, fid = 10)\n",
    "\n",
    "ViewInteractiveWidget(S.plt.window)"
   ]
  },
  {
   "cell_type": "code",
   "execution_count": 83,
   "metadata": {
    "scrolled": false
   },
   "outputs": [
    {
     "data": {
      "application/vnd.jupyter.widget-view+json": {
       "model_id": "ac9c400dcdc742a0981bdb081ff32bfd",
       "version_major": 2,
       "version_minor": 0
      },
      "text/plain": [
       "ViewInteractiveWidget(height=960, layout=Layout(height='auto', width='100%'), width=960)"
      ]
     },
     "metadata": {},
     "output_type": "display_data"
    }
   ],
   "source": [
    "c = np.array([[10,-10,-1]])\n",
    "# c = np.random.randn(10,3)*np.array([30,30,1]) #test random points\n",
    "# c = cloud\n",
    "S2 = scene(cloud = c, fid = 10, cull = True, coord = 1)\n",
    "S2.plt.show(S2.disp)\n",
    "ViewInteractiveWidget(S2.plt.window)"
   ]
  },
  {
   "cell_type": "code",
   "execution_count": 86,
   "metadata": {},
   "outputs": [
    {
     "ename": "IndexError",
     "evalue": "index 11 is out of bounds for axis 0 with size 10",
     "output_type": "error",
     "traceback": [
      "\u001b[1;31m---------------------------------------------------------------------------\u001b[0m",
      "\u001b[1;31mIndexError\u001b[0m                                Traceback (most recent call last)",
      "\u001b[1;32m<ipython-input-86-8be74a18c666>\u001b[0m in \u001b[0;36m<module>\u001b[1;34m\u001b[0m\n\u001b[0;32m      1\u001b[0m \u001b[0mtest\u001b[0m \u001b[1;33m=\u001b[0m \u001b[0mnp\u001b[0m\u001b[1;33m.\u001b[0m\u001b[0mzeros\u001b[0m\u001b[1;33m(\u001b[0m\u001b[1;33m[\u001b[0m\u001b[1;36m10\u001b[0m\u001b[1;33m,\u001b[0m\u001b[1;36m3\u001b[0m\u001b[1;33m]\u001b[0m\u001b[1;33m)\u001b[0m\u001b[1;33m\u001b[0m\u001b[1;33m\u001b[0m\u001b[0m\n\u001b[1;32m----> 2\u001b[1;33m \u001b[0mprint\u001b[0m\u001b[1;33m(\u001b[0m\u001b[0mtest\u001b[0m\u001b[1;33m[\u001b[0m\u001b[1;36m11\u001b[0m\u001b[1;33m]\u001b[0m\u001b[1;33m)\u001b[0m\u001b[1;33m\u001b[0m\u001b[1;33m\u001b[0m\u001b[0m\n\u001b[0m",
      "\u001b[1;31mIndexError\u001b[0m: index 11 is out of bounds for axis 0 with size 10"
     ]
    }
   ],
   "source": [
    "test = np.zeros([10,3])\n",
    "print(test[11])"
   ]
  },
  {
   "cell_type": "code",
   "execution_count": null,
   "metadata": {},
   "outputs": [],
   "source": [
    "x1 = np.array([1,2,3])\n",
    "x2 = np.array([5,6,7])\n",
    "x3 = np.array([-1,-2,-3])\n",
    "\n",
    "# mesh = np.meshgrid(x1)\n",
    "mesh = np.mgrid[0:10:2, 0:10:2, 0:10:2].reshape(-1,3)\n",
    "print(np.shape(mesh))\n",
    "# print(mesh)"
   ]
  },
  {
   "cell_type": "code",
   "execution_count": null,
   "metadata": {},
   "outputs": [],
   "source": [
    "\"\"\"Manually build a mesh from points and faces\"\"\"\n",
    "from vedo import Mesh, printc, show\n",
    "\n",
    "plt = Plotter(N=1, axes=2,bg = (1,1,1),  interactive=True)\n",
    "\n",
    "verts = [(50,50,50), (70,40,50), (50,40,80), (80,70,50)]\n",
    "faces = [(0,1,2), (2,1,3), (1,0,3)]\n",
    "# (the first triangle face is formed by vertex 0, 1 and 2)\n",
    "\n",
    "# Build the polygonal Mesh object:\n",
    "mesh = Mesh([verts, faces])\n",
    "mesh.backColor('violet').lineColor('tomato').lineWidth(2)\n",
    "labs = mesh.labels('id').c('black')\n",
    "\n",
    "# retrieve them as numpy arrays\n",
    "printc('points():\\n', mesh.points(), c=3)\n",
    "printc('faces(): \\n', mesh.faces(),  c=3)\n",
    "\n",
    "show(mesh, labs, __doc__, viewup='z', axes=2).close()\n",
    "# plt.show(disp)\n",
    "ViewInteractiveWidget(plt.window)"
   ]
  },
  {
   "cell_type": "code",
   "execution_count": null,
   "metadata": {},
   "outputs": [],
   "source": []
  },
  {
   "cell_type": "code",
   "execution_count": 125,
   "metadata": {},
   "outputs": [
    {
     "data": {
      "text/plain": [
       "100"
      ]
     },
     "execution_count": 125,
     "metadata": {},
     "output_type": "execute_result"
    }
   ],
   "source": [
    "#if v is multiple of 100, add 100, else pass\n",
    "v = 500\n",
    "100*((100-(v%100))//100)"
   ]
  },
  {
   "cell_type": "code",
   "execution_count": null,
   "metadata": {},
   "outputs": [],
   "source": []
  }
 ],
 "metadata": {
  "kernelspec": {
   "display_name": "Python 3",
   "language": "python",
   "name": "python3"
  },
  "language_info": {
   "codemirror_mode": {
    "name": "ipython",
    "version": 3
   },
   "file_extension": ".py",
   "mimetype": "text/x-python",
   "name": "python",
   "nbconvert_exporter": "python",
   "pygments_lexer": "ipython3",
   "version": "3.7.6"
  }
 },
 "nbformat": 4,
 "nbformat_minor": 4
}
