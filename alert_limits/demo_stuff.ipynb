{
 "cells": [
  {
   "cell_type": "code",
   "execution_count": 1,
   "id": "d575929a",
   "metadata": {},
   "outputs": [
    {
     "data": {
      "application/javascript": [
       "IPython.notebook.set_autosave_interval(180000)"
      ]
     },
     "metadata": {},
     "output_type": "display_data"
    },
    {
     "name": "stdout",
     "output_type": "stream",
     "text": [
      "Autosaving every 180 seconds\n"
     ]
    }
   ],
   "source": [
    "import numpy as np\n",
    "import matplotlib.pyplot as plt\n",
    "\n",
    "%load_ext autoreload\n",
    "%autoreload 2\n",
    "%autosave 180\n",
    "%matplotlib notebook"
   ]
  },
  {
   "cell_type": "code",
   "execution_count": 21,
   "id": "399b69e1",
   "metadata": {},
   "outputs": [],
   "source": [
    "def get_X_ebb(gamma = 0.5, dlat = 1, dlon = 1):\n",
    "    \"\"\"gets equation for equation of X_bounding box as a function of ...\"\"\"\n",
    "    \n",
    "    L_v = 3 #length of vehicle\n",
    "    W_v = 1 #width of vehicle\n",
    "    W = 4 #width of lane\n",
    "    \n",
    "    X_al = np.array([[dlat*np.sin(gamma)], [dlon*np.cos(gamma)]])\n",
    "#     print(X_al)\n",
    "\n",
    "    X_of = np.array([[L_v/2], [W_v/2]])\n",
    "    \n",
    "    X_vc = np.array([[0], [-W_v/2 + dlat + W_v]])\n",
    "\n",
    "    X_ebb = X_al + X_of + X_vc\n",
    "\n",
    "    return X_ebb"
   ]
  },
  {
   "cell_type": "code",
   "execution_count": 27,
   "id": "7ed6112a",
   "metadata": {},
   "outputs": [
    {
     "name": "stdout",
     "output_type": "stream",
     "text": [
      "(1,)\n",
      "[[[1.5]\n",
      "  [2. ]]\n",
      "\n",
      " [[2.5]\n",
      "  [3. ]]]\n"
     ]
    }
   ],
   "source": [
    "G = np.array([0])\n",
    "print(np.shape(G))\n",
    "X_ebb = get_X_ebb(gamma = G)\n",
    "print(X_ebb)"
   ]
  },
  {
   "cell_type": "code",
   "execution_count": null,
   "id": "e7f16fd3",
   "metadata": {},
   "outputs": [],
   "source": []
  }
 ],
 "metadata": {
  "kernelspec": {
   "display_name": "Python 3 (ipykernel)",
   "language": "python",
   "name": "python3"
  },
  "language_info": {
   "codemirror_mode": {
    "name": "ipython",
    "version": 3
   },
   "file_extension": ".py",
   "mimetype": "text/x-python",
   "name": "python",
   "nbconvert_exporter": "python",
   "pygments_lexer": "ipython3",
   "version": "3.8.12"
  }
 },
 "nbformat": 4,
 "nbformat_minor": 5
}
