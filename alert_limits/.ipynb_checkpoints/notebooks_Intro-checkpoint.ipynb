{
 "cells": [
  {
   "cell_type": "code",
   "execution_count": 1,
   "id": "e92b1b05-4cac-40a8-ac8b-5e0f5406f684",
   "metadata": {},
   "outputs": [
    {
     "name": "stderr",
     "output_type": "stream",
     "text": [
      "C:\\Users\\Derm\\anaconda3\\envs\\tf23\\lib\\site-packages\\numpy\\_distributor_init.py:32: UserWarning: loaded more than 1 DLL from .libs:\n",
      "C:\\Users\\Derm\\anaconda3\\envs\\tf23\\lib\\site-packages\\numpy\\.libs\\libopenblas.PYQHXLVVQ7VESDPUVUADXEVJOBGHJPAY.gfortran-win_amd64.dll\n",
      "C:\\Users\\Derm\\anaconda3\\envs\\tf23\\lib\\site-packages\\numpy\\.libs\\libopenblas.XWYDX2IKJW2NMTWSFYNGFUWKQU3LYTCZ.gfortran-win_amd64.dll\n",
      "  stacklevel=1)\n"
     ]
    },
    {
     "name": "stdout",
     "output_type": "stream",
     "text": [
      "The optimal gamma for the given road conditions  = 0.015867\n",
      "The optimal delta lat for the given road conditions = 0.731730\n",
      "The optimal delta long for the given road conditions = 634.709495\n"
     ]
    }
   ],
   "source": [
    "import numpy as np\n",
    "import matplotlib.pyplot as plt\n",
    "import math\n",
    "from math import pi\n",
    "from math import sqrt\n",
    "from scipy.optimize import fsolve\n",
    "lv = 5.8\n",
    "wv = 2.1\n",
    "w = 3\n",
    "r = 180\n",
    "y = np.linspace(0, pi/2, 100)\n",
    "d = np.linspace (0, 1.5, 100)\n",
    "pxlist = []\n",
    "nxlist = []\n",
    "x1list = []\n",
    "x2list = []\n",
    "glist = []\n",
    "dictionary = {}\n",
    "glat = {}\n",
    "switchlist = []\n",
    "glatlist = []\n",
    "dlonglist = []\n",
    "arealist = []\n",
    "datalist = []\n",
    "\n",
    "for i in range (len(d)):\n",
    "    g = y[i]\n",
    "    glist.append(g)\n",
    "\n",
    "for i in range (len(d)):\n",
    "    gamma = glist[i]\n",
    "    for i in range (len(d)):\n",
    "        dlat = d[i]\n",
    "        func = ((lv/4)-(.5)*sqrt((((lv**2)/4) + 4*dlat*(r+(w/2)-w + dlat*(1+math.cos(gamma)+wv))*(math.tan(gamma))*(math.sin(gamma)))))**2 \n",
    "        func2 = (r-(w/2)+(dlat)*(1+math.cos(gamma))+(wv))**2\n",
    "        func3 = (r+(w/2))**2\n",
    "        x = func + func2 - func3\n",
    "        dictionary[x] = dlat\n",
    "        if (x <= 0):\n",
    "            nxlist.append(x)\n",
    "        else:\n",
    "            pxlist.append(x)\n",
    "    x1 = max(nxlist)\n",
    "    nxlist.clear()\n",
    "    x1list.append(x1)\n",
    "    x2 = min(pxlist)\n",
    "    pxlist.clear()\n",
    "    x2list.append(x2)\n",
    "    \n",
    "\n",
    "for i in range (len(x2list)):\n",
    "    gamma = glist[i]\n",
    "    z = x1list[i]\n",
    "    dlatz = dictionary[z]\n",
    "    func = lambda dlatz: ((lv/4)-(.5)*sqrt((((lv**2)/4) + 4*(dlatz)*(r + (w/2) - w + (dlatz)*(1+math.cos(gamma)+wv))*(math.tan(gamma))*(math.sin(gamma)))))**2 + (r-(w/2)+(dlatz)*(1+math.cos(gamma)+wv))**2 - (r+(w/2))**2\n",
    "    dlat_initial_guess = dlatz\n",
    "    dlat_solution = fsolve(func, dlat_initial_guess)\n",
    "    switchlist.append(dlat_solution[0])\n",
    "\n",
    "for i in range (len(glist)):\n",
    "    h = switchlist[i] #switchlist are delta lat values\n",
    "    j = glist[i] #glist is the list of gamma values\n",
    "    if (j == 0):\n",
    "        dlong = 0\n",
    "        dlonglist.append(dlong)\n",
    "    else:\n",
    "        dlong = (-lv/2 + sqrt(((lv**2)/4) + 4*h*(r + (w/2) - w + h*(1+math.cos(j)+ wv)*math.tan(j)*math.sin(j))))/(2*math.sin(j))\n",
    "        dlonglist.append(dlong)\n",
    "\n",
    "for i in range (len(switchlist)):\n",
    "    ell = switchlist[i]*dlonglist[i]*pi\n",
    "    arealist.append(ell)\n",
    "optimum = max(arealist)\n",
    "\n",
    "for i in range (len(arealist)):\n",
    "    o = arealist[i]\n",
    "    if (o == optimum):\n",
    "        datalist.append(i)\n",
    "#print(glist[datalist[0]])\n",
    "#print(switchlist[datalist[0]])\n",
    "#print(dlonglist[datalist[0]])\n",
    "\n",
    "print (\"The optimal gamma for the given road conditions  = %f\" % glist[datalist[0]])\n",
    "print (\"The optimal delta lat for the given road conditions = %f\" % switchlist[datalist[0]])\n",
    "print (\"The optimal delta long for the given road conditions = %f\" % dlonglist[datalist[0]])"
   ]
  },
  {
   "cell_type": "code",
   "execution_count": 4,
   "id": "premier-communications",
   "metadata": {},
   "outputs": [
    {
     "name": "stdout",
     "output_type": "stream",
     "text": [
      "[0.0, 0.015866629563584814, 0.03173325912716963, 0.04759988869075445, 0.06346651825433926, 0.07933314781792407, 0.0951997773815089, 0.1110664069450937, 0.12693303650867852, 0.14279966607226333, 0.15866629563584814, 0.17453292519943295, 0.1903995547630178, 0.2062661843266026, 0.2221328138901874, 0.23799944345377222, 0.25386607301735703, 0.26973270258094184, 0.28559933214452665, 0.30146596170811146, 0.3173325912716963, 0.3331992208352811, 0.3490658503988659, 0.3649324799624507, 0.3807991095260356, 0.3966657390896204, 0.4125323686532052, 0.42839899821679, 0.4442656277803748, 0.4601322573439596, 0.47599888690754444, 0.49186551647112925, 0.5077321460347141, 0.5235987755982989, 0.5394654051618837, 0.5553320347254685, 0.5711986642890533, 0.5870652938526382, 0.6029319234162229, 0.6187985529798078, 0.6346651825433925, 0.6505318121069774, 0.6663984416705622, 0.682265071234147, 0.6981317007977318, 0.7139983303613167, 0.7298649599249014, 0.7457315894884863, 0.7615982190520711, 0.7774648486156559, 0.7933314781792408, 0.8091981077428255, 0.8250647373064104, 0.8409313668699951, 0.85679799643358, 0.8726646259971648, 0.8885312555607496, 0.9043978851243344, 0.9202645146879193, 0.936131144251504, 0.9519977738150889, 0.9678644033786736, 0.9837310329422585, 0.9995976625058433, 1.0154642920694281, 1.0313309216330129, 1.0471975511965979, 1.0630641807601826, 1.0789308103237674, 1.0947974398873521, 1.110664069450937, 1.1265306990145219, 1.1423973285781066, 1.1582639581416914, 1.1741305877052763, 1.189997217268861, 1.2058638468324459, 1.2217304763960306, 1.2375971059596156, 1.2534637355232003, 1.269330365086785, 1.28519699465037, 1.3010636242139548, 1.3169302537775396, 1.3327968833411243, 1.3486635129047093, 1.364530142468294, 1.3803967720318788, 1.3962634015954636, 1.4121300311590486, 1.4279966607226333, 1.443863290286218, 1.4597299198498028, 1.4755965494133878, 1.4914631789769726, 1.5073298085405573, 1.5231964381041423, 1.539063067667727, 1.5549296972313118, 1.5707963267948966]\n"
     ]
    }
   ],
   "source": [
    "print(glist)"
   ]
  },
  {
   "cell_type": "code",
   "execution_count": null,
   "id": "boxed-wages",
   "metadata": {},
   "outputs": [],
   "source": []
  }
 ],
 "metadata": {
  "kernelspec": {
   "display_name": "Python 3",
   "language": "python",
   "name": "python3"
  },
  "language_info": {
   "codemirror_mode": {
    "name": "ipython",
    "version": 3
   },
   "file_extension": ".py",
   "mimetype": "text/x-python",
   "name": "python",
   "nbconvert_exporter": "python",
   "pygments_lexer": "ipython3",
   "version": "3.7.10"
  }
 },
 "nbformat": 4,
 "nbformat_minor": 5
}
