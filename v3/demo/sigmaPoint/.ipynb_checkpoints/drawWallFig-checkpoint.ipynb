{
 "cells": [
  {
   "cell_type": "code",
   "execution_count": 1,
   "id": "sized-concentration",
   "metadata": {},
   "outputs": [
    {
     "name": "stderr",
     "output_type": "stream",
     "text": [
      "C:\\Users\\Derm\\anaconda3\\envs\\tf23\\lib\\site-packages\\numpy\\_distributor_init.py:32: UserWarning: loaded more than 1 DLL from .libs:\n",
      "C:\\Users\\Derm\\anaconda3\\envs\\tf23\\lib\\site-packages\\numpy\\.libs\\libopenblas.PYQHXLVVQ7VESDPUVUADXEVJOBGHJPAY.gfortran-win_amd64.dll\n",
      "C:\\Users\\Derm\\anaconda3\\envs\\tf23\\lib\\site-packages\\numpy\\.libs\\libopenblas.XWYDX2IKJW2NMTWSFYNGFUWKQU3LYTCZ.gfortran-win_amd64.dll\n",
      "  stacklevel=1)\n"
     ]
    },
    {
     "name": "stdout",
     "output_type": "stream",
     "text": [
      "2.3.0\n"
     ]
    },
    {
     "data": {
      "application/javascript": [
       "IPython.notebook.set_autosave_interval(180000)"
      ]
     },
     "metadata": {},
     "output_type": "display_data"
    },
    {
     "name": "stdout",
     "output_type": "stream",
     "text": [
      "Autosaving every 180 seconds\n"
     ]
    }
   ],
   "source": [
    "#setup - rememeber to switch to tensorflow 2.3 kernel...\n",
    "import numpy as np\n",
    "import tensorflow as tf\n",
    "import matplotlib.pyplot as plt\n",
    "import scipy.io as sio\n",
    "import datetime\n",
    "import trimesh\n",
    "import time\n",
    "from vedo import *\n",
    "from ipyvtklink.viewer import ViewInteractiveWidget\n",
    "\n",
    "#need to have these two lines to work on my ancient 1060 3gb\n",
    "#  https://stackoverflow.com/questions/43990046/tensorflow-blas-gemm-launch-failed\n",
    "physical_devices = tf.config.list_physical_devices('GPU') \n",
    "tf.config.experimental.set_memory_growth(physical_devices[0], True)\n",
    "\n",
    "print(tf.__version__)\n",
    "\n",
    "# %matplotlib inline\n",
    "# plt.rcParams['figure.figsize'] = (10.0, 8.0) # set default size of plots\n",
    "# plt.rcParams['image.interpolation'] = 'nearest'\n",
    "# plt.rcParams['image.cmap'] = 'gray'\n",
    "%matplotlib notebook\n",
    "\n",
    "%load_ext tensorboard\n",
    "\n",
    "# for auto-reloading external modules\n",
    "%load_ext autoreload\n",
    "%autoreload 2\n",
    "%autosave 180"
   ]
  },
  {
   "cell_type": "code",
   "execution_count": 2,
   "id": "selective-fitness",
   "metadata": {},
   "outputs": [
    {
     "name": "stdout",
     "output_type": "stream",
     "text": [
      "[-40.   -40.    -1.72]\n"
     ]
    }
   ],
   "source": [
    "#load mesh of object\n",
    "surf_fn = \"C:/Users/Derm/vaRLnt/v3/demo/sigmaPoint/wall_scaled.stl\"\n",
    "M = trimesh.load(surf_fn)\n",
    "#get ground truth translation\n",
    "gt = np.loadtxt(\"C:/Users/Derm/vaRLnt/v3/demo/sigmaPoint/gt.txt\")\n",
    "print(gt)\n",
    "#load point clouds of surface generated in Matlab\n",
    "pts1_fn = \"C:/Users/Derm/vaRLnt/v3/demo/sigmaPoint/s1.txt\"\n",
    "pts1 = np.loadtxt(pts1_fn)\n",
    "pts2_fn = \"C:/Users/Derm/vaRLnt/v3/demo/sigmaPoint/s2.txt\"\n",
    "pts2 = np.loadtxt(pts2_fn)\n",
    "# pts = pts - gt #+ np.array([20,5,1.72])"
   ]
  },
  {
   "cell_type": "code",
   "execution_count": 3,
   "id": "compound-cookbook",
   "metadata": {},
   "outputs": [],
   "source": [
    "#plot with Vedo\n",
    "plt1 = Plotter(N = 1, axes = 4, bg = (1, 1, 1), interactive = True)\n",
    "disp = []\n",
    "disp.append(Points(pts1, c = 'blue', r = 5))\n",
    "w = Mesh(M).c(\"gray\").alpha(1)\n",
    "w.pos(gt[0], gt[1], gt[2])\n",
    "disp.append(w)\n",
    "# plt1.show(disp, \"Fig 2.1\")\n",
    "# ViewInteractiveWidget(plt1.window)"
   ]
  },
  {
   "cell_type": "markdown",
   "id": "binary-calcium",
   "metadata": {},
   "source": [
    "## Plot Points + distributions"
   ]
  },
  {
   "cell_type": "code",
   "execution_count": 7,
   "id": "demanding-lottery",
   "metadata": {},
   "outputs": [
    {
     "name": "stdout",
     "output_type": "stream",
     "text": [
      "\n",
      " jumps \n",
      " tf.Tensor(\n",
      "[[ 34   9]\n",
      " [ 49  11]\n",
      " [ 54   9]\n",
      " [ 56   9]\n",
      " [ 59   9]\n",
      " [ 62   9]\n",
      " [ 70   9]\n",
      " [ 72   9]\n",
      " [ 74   8]\n",
      " [ 76   9]\n",
      " [ 78   9]\n",
      " [ 80   9]\n",
      " [ 83   9]\n",
      " [ 88   9]\n",
      " [ 91   9]\n",
      " [ 92   9]\n",
      " [ 94  10]\n",
      " [ 96   9]\n",
      " [ 97   9]\n",
      " [246   6]\n",
      " [276   6]\n",
      " [283   7]\n",
      " [309   6]\n",
      " [311   6]\n",
      " [581   1]\n",
      " [605   0]\n",
      " [606   5]\n",
      " [641   3]\n",
      " [721   0]\n",
      " [761   2]\n",
      " [765   4]], shape=(31, 2), dtype=int64)\n",
      "used tf.Tensor(\n",
      "[[ 9 11  9  9  9  9  9  9  8  9  9  9  9  9  9  9 10  9  9  6  6  7  6  6\n",
      "   1  0  5  3  0  2  4]], shape=(1, 31), dtype=int64)\n",
      "to_add tf.Tensor([], shape=(1, 0), dtype=int64)\n",
      "z tf.Tensor([], shape=(1, 0), dtype=int64)\n",
      "tf.Tensor([], shape=(0, 2), dtype=int64)\n",
      "\n",
      " jumps after fix tf.Tensor(\n",
      "[[ 34   9]\n",
      " [ 49  11]\n",
      " [ 54   9]\n",
      " [ 56   9]\n",
      " [ 59   9]\n",
      " [ 62   9]\n",
      " [ 70   9]\n",
      " [ 72   9]\n",
      " [ 74   8]\n",
      " [ 76   9]\n",
      " [ 78   9]\n",
      " [ 80   9]\n",
      " [ 83   9]\n",
      " [ 88   9]\n",
      " [ 91   9]\n",
      " [ 92   9]\n",
      " [ 94  10]\n",
      " [ 96   9]\n",
      " [ 97   9]\n",
      " [246   6]\n",
      " [276   6]\n",
      " [283   7]\n",
      " [309   6]\n",
      " [311   6]\n",
      " [581   1]\n",
      " [605   0]\n",
      " [606   5]\n",
      " [641   3]\n",
      " [721   0]\n",
      " [761   2]\n",
      " [765   4]], shape=(31, 2), dtype=int64)\n",
      "jumps_i 0  \n",
      " [[  0   0]\n",
      " [605   0]\n",
      " [721   0]]\n",
      "jumps_i 1  \n",
      " [[  0   1]\n",
      " [581   1]]\n",
      "jumps_i 2  \n",
      " [[  0   2]\n",
      " [761   2]]\n",
      "jumps_i 3  \n",
      " [[  0   3]\n",
      " [641   3]]\n",
      "jumps_i 4  \n",
      " [[  0   4]\n",
      " [765   4]]\n",
      "jumps_i 5  \n",
      " [[  0   5]\n",
      " [606   5]]\n",
      "jumps_i 6  \n",
      " [[  0   6]\n",
      " [246   6]\n",
      " [276   6]\n",
      " [309   6]\n",
      " [311   6]]\n",
      "jumps_i 7  \n",
      " [[  0   7]\n",
      " [283   7]]\n",
      "jumps_i 8  \n",
      " [[ 0  8]\n",
      " [74  8]]\n",
      "jumps_i 9  \n",
      " [[ 0  9]\n",
      " [34  9]\n",
      " [54  9]\n",
      " [56  9]\n",
      " [59  9]\n",
      " [62  9]\n",
      " [70  9]\n",
      " [72  9]\n",
      " [76  9]\n",
      " [78  9]\n",
      " [80  9]\n",
      " [83  9]\n",
      " [88  9]\n",
      " [91  9]\n",
      " [92  9]\n",
      " [96  9]\n",
      " [97  9]]\n",
      "jumps_i 10  \n",
      " [[ 0 10]\n",
      " [94 10]]\n",
      "jumps_i 11  \n",
      " [[ 0 11]\n",
      " [49 11]]\n",
      "\n",
      " bounds tf.Tensor(\n",
      "[[54.6967926  61.25611115]\n",
      " [50.41759872 52.35527802]\n",
      " [50.4839859  55.21484756]\n",
      " [54.4349556  62.36277008]\n",
      " [50.65485001 53.01443863]\n",
      " [50.21660233 54.84114075]\n",
      " [51.15684128 53.88608551]\n",
      " [51.34460831 53.3983345 ]\n",
      " [51.7817688  52.61702347]\n",
      " [ 0.          0.        ]\n",
      " [52.01999283 53.24742508]\n",
      " [ 0.          0.        ]], shape=(12, 2), dtype=float64)\n",
      "\n",
      " estimated solution vector X: \n",
      " tf.Tensor([0. 0. 0. 0. 0. 0.], shape=(6,), dtype=float32)\n",
      "\n",
      " estimated solution vector X: \n",
      " tf.Tensor([-0.13718784 -0.13184988 -0.00818768 -0.00963625 -0.01212979  0.00717713], shape=(6,), dtype=float32)\n",
      "\n",
      " estimated solution vector X: \n",
      " tf.Tensor([-0.13917126 -0.13374312 -0.00834165 -0.0104232  -0.01356025  0.0070849 ], shape=(6,), dtype=float32)\n",
      "\n",
      " estimated solution vector X: \n",
      " tf.Tensor([-0.13914502 -0.13371867 -0.00833966 -0.01042477 -0.01353911  0.00710973], shape=(6,), dtype=float32)\n",
      "\n",
      " estimated solution vector X: \n",
      " tf.Tensor([-0.13901263 -0.1335932  -0.00832994 -0.01037737 -0.01346927  0.00712021], shape=(6,), dtype=float32)\n",
      "pred_stds: \n",
      " tf.Tensor([0.00196508 0.00186307 0.00014615 0.00090679 0.00118258 0.00019338], shape=(6,), dtype=float32)\n",
      " L2: \n",
      " tf.Tensor(\n",
      "[[1. 0. 0. 0. 0. 0.]\n",
      " [0. 1. 0. 0. 0. 0.]\n",
      " [0. 0. 1. 0. 0. 0.]\n",
      " [0. 0. 0. 1. 0. 0.]\n",
      " [0. 0. 0. 0. 1. 0.]\n",
      " [0. 0. 0. 0. 0. 1.]], shape=(6, 6), dtype=float32)\n"
     ]
    },
    {
     "data": {
      "application/vnd.jupyter.widget-view+json": {
       "model_id": "ed29c51724c64e678d8e184d43ed6ed2",
       "version_major": 2,
       "version_minor": 0
      },
      "text/plain": [
       "ViewInteractiveWidget(height=960, layout=Layout(height='auto', width='100%'), width=960)"
      ]
     },
     "metadata": {},
     "output_type": "display_data"
    }
   ],
   "source": [
    "#Run ICET\n",
    "import os\n",
    "import sys\n",
    "import inspect\n",
    "currentdir = os.path.dirname(os.path.abspath(inspect.getfile(inspect.currentframe())))\n",
    "parentdir = os.path.dirname(os.path.dirname(currentdir))\n",
    "sys.path.insert(0, parentdir)\n",
    "from ICET_spherical import ICET\n",
    "# print(currentdir)\n",
    "# print(parentdir)\n",
    "\n",
    "it1 = ICET(cloud1 = pts1, cloud2 = pts2,  fid = 40, draw = True, \n",
    "            niter = 5, group= 2, RM = False, DNN_filter = False)\n",
    "ViewInteractiveWidget(it1.plt.window)"
   ]
  },
  {
   "cell_type": "code",
   "execution_count": null,
   "id": "antique-concord",
   "metadata": {},
   "outputs": [],
   "source": []
  },
  {
   "cell_type": "code",
   "execution_count": null,
   "id": "heavy-consultation",
   "metadata": {},
   "outputs": [],
   "source": [
    "#unit test for fixing no skip bug\n",
    "all_spikes = tf.cast(tf.linspace(0,4,5), tf.int64)[None,:]\n",
    "used = tf.constant([0, 1, 5], dtype = tf.int64)[None,:]\n",
    "print(all_spikes)\n",
    "print(used)\n",
    "\n",
    "to_add = tf.sets.difference(all_spikes, used).values[None,:]\n",
    "z = tf.zeros(tf.shape(to_add), dtype = tf.int64)\n",
    "# print(z)\n",
    "to_add = tf.transpose(tf.concat((z, to_add), axis = 0))\n",
    "print(to_add)\n",
    "\n",
    "# print(tf.math.reduce_max(used))\n",
    "\n",
    "t = tf.constant([[1,1]], dtype = tf.int64)\n",
    "print(t)\n",
    "ans = tf.concat((t, to_add), axis = 0)\n",
    "print(ans)\n"
   ]
  },
  {
   "cell_type": "code",
   "execution_count": null,
   "id": "private-bouquet",
   "metadata": {},
   "outputs": [],
   "source": []
  }
 ],
 "metadata": {
  "kernelspec": {
   "display_name": "Python 3",
   "language": "python",
   "name": "python3"
  },
  "language_info": {
   "codemirror_mode": {
    "name": "ipython",
    "version": 3
   },
   "file_extension": ".py",
   "mimetype": "text/x-python",
   "name": "python",
   "nbconvert_exporter": "python",
   "pygments_lexer": "ipython3",
   "version": "3.7.10"
  }
 },
 "nbformat": 4,
 "nbformat_minor": 5
}
