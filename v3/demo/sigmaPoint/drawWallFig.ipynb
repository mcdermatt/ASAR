{
 "cells": [
  {
   "cell_type": "code",
   "execution_count": 1,
   "id": "sized-concentration",
   "metadata": {},
   "outputs": [
    {
     "name": "stderr",
     "output_type": "stream",
     "text": [
      "C:\\Users\\Derm\\anaconda3\\envs\\tf23\\lib\\site-packages\\numpy\\_distributor_init.py:32: UserWarning: loaded more than 1 DLL from .libs:\n",
      "C:\\Users\\Derm\\anaconda3\\envs\\tf23\\lib\\site-packages\\numpy\\.libs\\libopenblas.PYQHXLVVQ7VESDPUVUADXEVJOBGHJPAY.gfortran-win_amd64.dll\n",
      "C:\\Users\\Derm\\anaconda3\\envs\\tf23\\lib\\site-packages\\numpy\\.libs\\libopenblas.XWYDX2IKJW2NMTWSFYNGFUWKQU3LYTCZ.gfortran-win_amd64.dll\n",
      "  stacklevel=1)\n"
     ]
    },
    {
     "name": "stdout",
     "output_type": "stream",
     "text": [
      "2.3.0\n"
     ]
    },
    {
     "data": {
      "application/javascript": [
       "IPython.notebook.set_autosave_interval(180000)"
      ]
     },
     "metadata": {},
     "output_type": "display_data"
    },
    {
     "name": "stdout",
     "output_type": "stream",
     "text": [
      "Autosaving every 180 seconds\n"
     ]
    }
   ],
   "source": [
    "#setup - rememeber to switch to tensorflow 2.3 kernel...\n",
    "import numpy as np\n",
    "import tensorflow as tf\n",
    "import matplotlib.pyplot as plt\n",
    "import scipy.io as sio\n",
    "import datetime\n",
    "import trimesh\n",
    "import time\n",
    "from vedo import *\n",
    "from ipyvtklink.viewer import ViewInteractiveWidget\n",
    "\n",
    "#need to have these two lines to work on my ancient 1060 3gb\n",
    "#  https://stackoverflow.com/questions/43990046/tensorflow-blas-gemm-launch-failed\n",
    "physical_devices = tf.config.list_physical_devices('GPU') \n",
    "tf.config.experimental.set_memory_growth(physical_devices[0], True)\n",
    "\n",
    "print(tf.__version__)\n",
    "\n",
    "# %matplotlib inline\n",
    "# plt.rcParams['figure.figsize'] = (10.0, 8.0) # set default size of plots\n",
    "# plt.rcParams['image.interpolation'] = 'nearest'\n",
    "# plt.rcParams['image.cmap'] = 'gray'\n",
    "%matplotlib notebook\n",
    "\n",
    "%load_ext tensorboard\n",
    "\n",
    "# for auto-reloading external modules\n",
    "%load_ext autoreload\n",
    "%autoreload 2\n",
    "%autosave 180"
   ]
  },
  {
   "cell_type": "code",
   "execution_count": 2,
   "id": "selective-fitness",
   "metadata": {},
   "outputs": [
    {
     "name": "stdout",
     "output_type": "stream",
     "text": [
      "[-40.   -40.    -1.72]\n"
     ]
    }
   ],
   "source": [
    "#load mesh of object\n",
    "surf_fn = \"C:/Users/Derm/vaRLnt/v3/demo/sigmaPoint/wall_scaled.stl\"\n",
    "M = trimesh.load(surf_fn)\n",
    "#get ground truth translation\n",
    "gt = np.loadtxt(\"C:/Users/Derm/vaRLnt/v3/demo/sigmaPoint/gt.txt\")\n",
    "print(gt)\n",
    "#load point clouds of surface generated in Matlab\n",
    "pts1_fn = \"C:/Users/Derm/vaRLnt/v3/demo/sigmaPoint/s1.txt\"\n",
    "pts1 = np.loadtxt(pts1_fn)\n",
    "pts2_fn = \"C:/Users/Derm/vaRLnt/v3/demo/sigmaPoint/s2.txt\"\n",
    "pts2 = np.loadtxt(pts2_fn)\n",
    "# pts = pts - gt #+ np.array([20,5,1.72])"
   ]
  },
  {
   "cell_type": "code",
   "execution_count": 3,
   "id": "compound-cookbook",
   "metadata": {},
   "outputs": [],
   "source": [
    "#plot with Vedo\n",
    "plt1 = Plotter(N = 1, axes = 4, bg = (1, 1, 1), interactive = True)\n",
    "disp = []\n",
    "disp.append(Points(pts1, c = 'blue', r = 5))\n",
    "w = Mesh(M).c(\"gray\").alpha(1)\n",
    "w.pos(gt[0], gt[1], gt[2])\n",
    "disp.append(w)\n",
    "# plt1.show(disp, \"Fig 2.1\")\n",
    "# ViewInteractiveWidget(plt1.window)"
   ]
  },
  {
   "cell_type": "markdown",
   "id": "binary-calcium",
   "metadata": {},
   "source": [
    "## Plot Points + distributions"
   ]
  },
  {
   "cell_type": "code",
   "execution_count": 14,
   "id": "demanding-lottery",
   "metadata": {},
   "outputs": [
    {
     "name": "stdout",
     "output_type": "stream",
     "text": [
      "\n",
      " jumps \n",
      " tf.Tensor(\n",
      "[[ 102    4]\n",
      " [ 116    5]\n",
      " [ 945    0]\n",
      " [1257    3]\n",
      " [1271    2]], shape=(5, 2), dtype=int64)\n",
      "used tf.Tensor([[4 5 0 3 2]], shape=(1, 5), dtype=int64)\n",
      "missing tf.Tensor([[1]], shape=(1, 1), dtype=int64)\n",
      "z tf.Tensor([[0]], shape=(1, 1), dtype=int64)\n",
      "OG_rads tf.Tensor(\n",
      "[[62.233017 55.3377   51.28682  51.299477 52.1207   52.549694]\n",
      " [55.97538  59.062405 50.991444 52.13219  52.109894 52.91746 ]\n",
      " [54.48706  54.104618 50.72865  51.717876 52.075397 52.674427]\n",
      " ...\n",
      " [ 0.       53.510048  0.        0.        0.        0.      ]\n",
      " [ 0.       54.902714  0.        0.        0.        0.      ]\n",
      " [ 0.       62.251385  0.        0.        0.        0.      ]], shape=(1304, 6), dtype=float32)\n",
      "tf.Tensor([[55.97538  59.062405 50.991444 52.13219  52.109894 52.91746 ]], shape=(1, 6), dtype=float32)\n",
      "tf.Tensor([[0 1]], shape=(1, 2), dtype=int64)\n",
      "\n",
      " jumps after fix tf.Tensor(\n",
      "[[ 102    4]\n",
      " [ 116    5]\n",
      " [ 945    0]\n",
      " [1257    3]\n",
      " [1271    2]\n",
      " [   0    1]], shape=(6, 2), dtype=int64)\n",
      "jumps_i 0  \n",
      " [[  0   0]\n",
      " [945   0]]\n",
      "jumps_i 1  \n",
      " [[0 1]\n",
      " [0 1]]\n",
      "jumps_i 2  \n",
      " [[   0    2]\n",
      " [1271    2]]\n",
      "jumps_i 3  \n",
      " [[   0    3]\n",
      " [1257    3]]\n",
      "jumps_i 4  \n",
      " [[  0   4]\n",
      " [102   4]]\n",
      "jumps_i 5  \n",
      " [[  0   5]\n",
      " [116   5]]\n",
      "\n",
      " bounds tf.Tensor(\n",
      "[[51.98115921 63.12488174]\n",
      " [ 0.          0.        ]\n",
      " [50.21660233 52.54222488]\n",
      " [50.65130234 53.3983345 ]\n",
      " [51.7817688  52.79418182]\n",
      " [52.2583313  53.63577652]], shape=(6, 2), dtype=float64)\n",
      "\n",
      " estimated solution vector X: \n",
      " tf.Tensor([0. 0. 0. 0. 0. 0.], shape=(6,), dtype=float32)\n",
      "\n",
      " estimated solution vector X: \n",
      " tf.Tensor([-0.01733368 -0.01454631 -0.00047772  0.02955848  0.03965605  0.01620618], shape=(6,), dtype=float32)\n",
      "\n",
      " estimated solution vector X: \n",
      " tf.Tensor([-0.06721392 -0.05543994 -0.01301818  0.01413288  0.01808962  0.01371247], shape=(6,), dtype=float32)\n",
      "\n",
      " estimated solution vector X: \n",
      " tf.Tensor([-0.09479587 -0.07807601 -0.01972976  0.00423315  0.00561262  0.01068438], shape=(6,), dtype=float32)\n",
      "\n",
      " estimated solution vector X: \n",
      " tf.Tensor([-0.09907006 -0.08155736 -0.02082964  0.00203404  0.00338035  0.00996322], shape=(6,), dtype=float32)\n",
      "pred_stds: \n",
      " tf.Tensor([0.00680896 0.00555848 0.00167801 0.00248804 0.00310088 0.00054405], shape=(6,), dtype=float32)\n",
      " L2: \n",
      " tf.Tensor(\n",
      "[[1. 0. 0. 0. 0. 0.]\n",
      " [0. 1. 0. 0. 0. 0.]\n",
      " [0. 0. 1. 0. 0. 0.]\n",
      " [0. 0. 0. 1. 0. 0.]\n",
      " [0. 0. 0. 0. 1. 0.]\n",
      " [0. 0. 0. 0. 0. 1.]], shape=(6, 6), dtype=float32)\n"
     ]
    },
    {
     "data": {
      "application/vnd.jupyter.widget-view+json": {
       "model_id": "9347bbdb8a5f4088a93e5d5e9c50c8a1",
       "version_major": 2,
       "version_minor": 0
      },
      "text/plain": [
       "ViewInteractiveWidget(height=960, layout=Layout(height='auto', width='100%'), width=960)"
      ]
     },
     "metadata": {},
     "output_type": "display_data"
    }
   ],
   "source": [
    "#Run ICET\n",
    "import os\n",
    "import sys\n",
    "import inspect\n",
    "currentdir = os.path.dirname(os.path.abspath(inspect.getfile(inspect.currentframe())))\n",
    "parentdir = os.path.dirname(os.path.dirname(currentdir))\n",
    "sys.path.insert(0, parentdir)\n",
    "from ICET_spherical import ICET\n",
    "# print(currentdir)\n",
    "# print(parentdir)\n",
    "\n",
    "it1 = ICET(cloud1 = pts1, cloud2 = pts2,  fid = 40, draw = True, \n",
    "            niter = 5, group= 2, RM = False, DNN_filter = False)\n",
    "ViewInteractiveWidget(it1.plt.window)"
   ]
  },
  {
   "cell_type": "code",
   "execution_count": null,
   "id": "antique-concord",
   "metadata": {},
   "outputs": [],
   "source": []
  },
  {
   "cell_type": "code",
   "execution_count": null,
   "id": "heavy-consultation",
   "metadata": {},
   "outputs": [],
   "source": [
    "#unit test for fixing no skip bug\n",
    "all_spikes = tf.cast(tf.linspace(0,4,5), tf.int64)[None,:]\n",
    "used = tf.constant([0, 1, 5], dtype = tf.int64)[None,:]\n",
    "print(all_spikes)\n",
    "print(used)\n",
    "\n",
    "to_add = tf.sets.difference(all_spikes, used).values[None,:]\n",
    "z = tf.zeros(tf.shape(to_add), dtype = tf.int64)\n",
    "# print(z)\n",
    "to_add = tf.transpose(tf.concat((z, to_add), axis = 0))\n",
    "print(to_add)\n",
    "\n",
    "# print(tf.math.reduce_max(used))\n",
    "\n",
    "t = tf.constant([[1,1]], dtype = tf.int64)\n",
    "print(t)\n",
    "ans = tf.concat((t, to_add), axis = 0)\n",
    "print(ans)\n"
   ]
  },
  {
   "cell_type": "code",
   "execution_count": null,
   "id": "private-bouquet",
   "metadata": {},
   "outputs": [],
   "source": []
  }
 ],
 "metadata": {
  "kernelspec": {
   "display_name": "Python 3",
   "language": "python",
   "name": "python3"
  },
  "language_info": {
   "codemirror_mode": {
    "name": "ipython",
    "version": 3
   },
   "file_extension": ".py",
   "mimetype": "text/x-python",
   "name": "python",
   "nbconvert_exporter": "python",
   "pygments_lexer": "ipython3",
   "version": "3.7.10"
  }
 },
 "nbformat": 4,
 "nbformat_minor": 5
}
