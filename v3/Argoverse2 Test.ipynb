{
 "cells": [
  {
   "cell_type": "markdown",
   "id": "weighted-wrong",
   "metadata": {},
   "source": [
    "### Test loading and manipulaitng Argoverse Lidar datasets"
   ]
  },
  {
   "cell_type": "code",
   "execution_count": null,
   "id": "17bdea0b",
   "metadata": {},
   "outputs": [],
   "source": [
    "import av2 #ARGOVERSE API ONLY WORKS WITH PYTHON 3.8+\n",
    "import pandas as pd\n",
    "import numpy as np\n",
    "import pyarrow.feather as feather\n",
    "import os\n",
    "import sys\n",
    "import inspect\n",
    "from vedo import *\n",
    "from ipyvtklink.viewer import ViewInteractiveWidget\n",
    "from matplotlib import pyplot as plt\n",
    "\n",
    "currentdir = os.path.dirname(os.path.abspath(inspect.getfile(inspect.currentframe())))\n",
    "parentdir = os.path.dirname(currentdir)\n",
    "sys.path.insert(0, parentdir)\n",
    "from ICET_spherical import ICET\n",
    "\n",
    "%matplotlib notebook\n",
    "%load_ext autoreload\n",
    "%autoreload 2\n",
    "%autosave 180\n"
   ]
  },
  {
   "cell_type": "code",
   "execution_count": null,
   "id": "comparable-motor",
   "metadata": {},
   "outputs": [],
   "source": [
    "#old\n",
    "# fn1 = \"D:/sensor/train/00a6ffc1-6ce9-3bc3-a060-6006e9893a1a/sensors/lidar/315967376859506000.feather\"\n",
    "# fn2 = \"D:/sensor/train/00a6ffc1-6ce9-3bc3-a060-6006e9893a1a/sensors/lidar/315967376959702000.feather\"\n",
    "\n",
    "#new urban canyon\n",
    "fn1 = \"D:/sensor/train/087fec73-1a0c-399a-9292-cc2cf99dc97f/sensors/lidar/315975422260069000.feather\"\n",
    "fn2 = \"D:/sensor/train/087fec73-1a0c-399a-9292-cc2cf99dc97f/sensors/lidar/315975422359602000.feather\"\n",
    "\n",
    "    \n",
    "df1 = feather.read_feather(fn1)\n",
    "df2 = feather.read_feather(fn2)\n",
    "df1"
   ]
  },
  {
   "cell_type": "raw",
   "id": "premium-virtue",
   "metadata": {},
   "source": []
  },
  {
   "cell_type": "code",
   "execution_count": null,
   "id": "right-ecology",
   "metadata": {},
   "outputs": [],
   "source": [
    "#get ground truth for trajectory file\n",
    "# gtfn = \"D:/sensor/train/00a6ffc1-6ce9-3bc3-a060-6006e9893a1a/city_SE3_egovehicle.feather\" #old\n",
    "# gtfn = \"D:/sensor/train/087fec73-1a0c-399a-9292-cc2cf99dc97f/city_SE3_egovehicle.feather\" #new canyon\n",
    "gtfn = \"D:/sensor/train/04973bcf-fc64-367c-9642-6d6c5f363b61/city_SE3_egovehicle.feather\" #desert suburb\n",
    "\n",
    "gt = feather.read_feather(gtfn)#.to_numpy()\n",
    "# print(gt)\n",
    "# print(np.shape(gt))\n",
    "time = gt[{\"timestamp_ns\"}].to_numpy()\n",
    "x = gt[{\"tx_m\"}].to_numpy()\n",
    "y = gt[{\"ty_m\"}].to_numpy()\n",
    "z = gt[{\"tz_m\"}].to_numpy()\n",
    "# gt = np.array([x, y, z])[:,:,0].T #was this (just xyz)\n",
    "\n",
    "#Need angles too! ~~~~~~~~~~~~~~~~~~~~~~~~~~~~~~~~~~~~~~~\n",
    "qw = gt[{\"qw\"}].to_numpy()\n",
    "qx = gt[{\"qx\"}].to_numpy()\n",
    "qy = gt[{\"qy\"}].to_numpy()\n",
    "qz = gt[{\"qz\"}].to_numpy()\n",
    "#convert quaternions to euler angles\n",
    "from scipy.spatial.transform import Rotation\n",
    "quats = np.array([qw, qx, qy, qz])[:,:,0].T\n",
    "# print(quats)\n",
    "rot = Rotation.from_quat(quats)\n",
    "rot_euler = rot.as_euler('xyz', degrees=True)\n",
    "# print(rot_euler)\n",
    "# print(np.diff(rot_euler, axis = 0))\n",
    "\n",
    "gt = np.concatenate([x, y, z, rot_euler], axis = 1) #test\n",
    "# print(np.diff(x, axis = 0))\n",
    "# print(np.diff(gt, axis = 0)[0])\n",
    "#~~~~~~~~~~~~~~~~~~~~~~~~~~~~~~~~~~~~~~~~~~~~~~~~~~~~~~~~\n",
    "# np.sum(np.diff(gt, axis = 0)[:10], axis = 0)"
   ]
  },
  {
   "cell_type": "code",
   "execution_count": null,
   "id": "friendly-implement",
   "metadata": {},
   "outputs": [],
   "source": [
    "#plot all points in gt\n",
    "fig, ax = plt.subplots()\n",
    "ax.scatter(gt[:,0], gt[:,1])\n",
    "ax.scatter(gt_lidar[:,0], gt_lidar[:,1], marker = 'x')"
   ]
  },
  {
   "cell_type": "code",
   "execution_count": null,
   "id": "horizontal-secondary",
   "metadata": {},
   "outputs": [],
   "source": [
    "#loop though all ~150 frame lidar datasets\n",
    "path = \"D:/sensor/train/\"\n",
    "list_subfolders_with_paths = [f.path for f in os.scandir(path) if f.is_dir()]\n",
    "# loop through each folder in subfolder paths\n",
    "# for i in range(len(list_subfolders_with_paths)):\n",
    "#     print(list_subfolders_with_paths[i])\n",
    "\n",
    "#list all files in path\n",
    "# path = \"D:/sensor/train/087fec73-1a0c-399a-9292-cc2cf99dc97f/sensors/lidar/\" #urabn canyon\n",
    "path = \"D:/sensor/train/04973bcf-fc64-367c-9642-6d6c5f363b61/sensors/lidar/\" #desert suburb\n",
    "files = os.listdir(path)\n",
    "# files[0]\n",
    "# # files[1:]\n",
    "# print(files[0])\n",
    "# for i in files[1:]:\n",
    "#     print(i)"
   ]
  },
  {
   "cell_type": "code",
   "execution_count": null,
   "id": "accepted-journalism",
   "metadata": {},
   "outputs": [],
   "source": [
    "#loop though each lidar frame \n",
    "# path = \"D:/sensor/train/00a6ffc1-6ce9-3bc3-a060-6006e9893a1a/sensors/lidar/\" #big city\n",
    "# path = \"D:/sensor/train/087fec73-1a0c-399a-9292-cc2cf99dc97f/sensors/lidar/\" #urabn canyon\n",
    "path = \"D:/sensor/train/04973bcf-fc64-367c-9642-6d6c5f363b61/sensors/lidar/\" #desert suburb\n",
    "\n",
    "# gt_lidar = np.zeros([0,3])\n",
    "gt_lidar = np.zeros([0,6])\n",
    "\n",
    "count = 0\n",
    "for file in os.listdir(path):\n",
    "    #find ground truth pose recorded closest to this lidar timestamp\n",
    "    t_lidar = int(file[:-8])\n",
    "#     print(t_lidar)\n",
    "#     print(np.where(time == t_lidar))\n",
    "#     print(gt[18])\n",
    "#     print(gt[np.where(time == t_lidar)[0]])\n",
    "    gt_lidar = np.append(gt_lidar, gt[np.where(time == t_lidar)[0]], axis = 0)\n",
    "#     print(gt_lidar)\n",
    "\n",
    "    #read in point cloud\n",
    "#     f = feather.read_feather(path + file)\n",
    "    count += 1\n",
    "#     if count == 10:\n",
    "#         break\n",
    "        \n",
    "# print(gt_lidar)\n",
    "\n",
    "dgt_lidar = np.diff(gt_lidar, axis = 0)\n",
    "# print(dgt_lidar)\n",
    "# print(np.sqrt(np.sum(dgt_lidar**2, axis = 1))) #absolute movement per frame in horizontal plane\n",
    "\n",
    "np.savetxt(\"spherical_paper/Argoverse_results/suburb/gt_lidar.txt\", gt_lidar)\n",
    "print(gt_lidar)"
   ]
  },
  {
   "cell_type": "code",
   "execution_count": null,
   "id": "6d3b5429",
   "metadata": {},
   "outputs": [],
   "source": [
    "pts1 = df1[['x', 'y', 'z']].to_numpy()\n",
    "pts2 = df2[['x', 'y', 'z']].to_numpy()\n",
    "print(pts1) #need to swqp x and z for some reason\n",
    "# pts1 = np.array([pts1[:,2], pts1[:,0], pts1[:,1]]).T\n",
    "# pts2 = np.array([pts2[:,2], pts2[:,0], pts2[:,1]]).T\n",
    "# print(\"\\n\", pts1) #need to swqp x and z for some reason\n"
   ]
  },
  {
   "cell_type": "code",
   "execution_count": null,
   "id": "9c4f6832",
   "metadata": {},
   "outputs": [],
   "source": [
    "ground = 0.3 \n",
    "# ground = -10 #debug\n",
    "pts1 = pts1[pts1[:,2] > ground ]\n",
    "pts2 = pts2[pts2[:,2] > ground ]\n",
    "\n",
    "it1 = ICET(cloud1 = pts1, cloud2 = pts2,  fid = 70, draw = True, \n",
    "            niter = 12, group= 2, RM = False, DNN_filter = False)\n",
    "\n",
    "it1.plt.show(it1.disp, \"Figure 2\", resetcam = False)\n",
    "ViewInteractiveWidget(it1.plt.window)"
   ]
  },
  {
   "cell_type": "code",
   "execution_count": null,
   "id": "037509ee",
   "metadata": {},
   "outputs": [],
   "source": []
  },
  {
   "cell_type": "code",
   "execution_count": null,
   "id": "fc26b113",
   "metadata": {},
   "outputs": [],
   "source": []
  }
 ],
 "metadata": {
  "kernelspec": {
   "display_name": "Python 3 (ipykernel)",
   "language": "python",
   "name": "python3"
  },
  "language_info": {
   "codemirror_mode": {
    "name": "ipython",
    "version": 3
   },
   "file_extension": ".py",
   "mimetype": "text/x-python",
   "name": "python",
   "nbconvert_exporter": "python",
   "pygments_lexer": "ipython3",
   "version": "3.9.13"
  }
 },
 "nbformat": 4,
 "nbformat_minor": 5
}
