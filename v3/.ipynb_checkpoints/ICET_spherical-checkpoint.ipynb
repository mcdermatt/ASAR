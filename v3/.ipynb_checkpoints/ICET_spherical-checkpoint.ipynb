{
 "cells": [
  {
   "cell_type": "markdown",
   "metadata": {},
   "source": [
    "# Spherical ICET"
   ]
  },
  {
   "cell_type": "code",
   "execution_count": 2,
   "metadata": {},
   "outputs": [
    {
     "name": "stdout",
     "output_type": "stream",
     "text": [
      "The autoreload extension is already loaded. To reload it, use:\n",
      "  %reload_ext autoreload\n"
     ]
    },
    {
     "data": {
      "application/javascript": [
       "IPython.notebook.set_autosave_interval(180000)"
      ]
     },
     "metadata": {},
     "output_type": "display_data"
    },
    {
     "name": "stdout",
     "output_type": "stream",
     "text": [
      "Autosaving every 180 seconds\n"
     ]
    }
   ],
   "source": [
    "from vedo import *\n",
    "import os\n",
    "from ipyvtklink.viewer import ViewInteractiveWidget\n",
    "import pykitti\n",
    "import numpy as np\n",
    "import tensorflow as tf\n",
    "from tensorflow.math import sin, cos, tan\n",
    "import tensorflow_probability as tfp\n",
    "\n",
    "physical_devices = tf.config.list_physical_devices('GPU') \n",
    "for device in physical_devices:\n",
    "    tf.config.experimental.set_memory_growth(device, True)\n",
    "    \n",
    "%load_ext autoreload\n",
    "%autoreload 2\n",
    "%autosave 180"
   ]
  },
  {
   "cell_type": "code",
   "execution_count": 158,
   "metadata": {
    "scrolled": false
   },
   "outputs": [
    {
     "name": "stdout",
     "output_type": "stream",
     "text": [
      "estimated solution vector X: \n",
      " tf.Tensor([0.1 0.3 0.  0.  0.  0. ], shape=(6,), dtype=float32)\n",
      "stds: \n",
      " tf.Tensor([0.00719935 0.00119236 0.03293577 0.00505323 0.01085256 0.00081528], shape=(6,), dtype=float32)\n",
      "estimated solution vector X: \n",
      " tf.Tensor([ 0.09633764  0.3014153  -0.06758694  0.01200935 -0.00659267  0.00061171], shape=(6,), dtype=float32)\n",
      "stds: \n",
      " tf.Tensor([0.00770057 0.00122997 0.03705263 0.00515144 0.01211155 0.00081988], shape=(6,), dtype=float32)\n",
      "estimated solution vector X: \n",
      " tf.Tensor([ 0.09150758  0.30108914 -0.09314194  0.01297107 -0.01399547  0.00075039], shape=(6,), dtype=float32)\n",
      "stds: \n",
      " tf.Tensor([0.00789974 0.00125178 0.03763214 0.00519563 0.01236395 0.00082463], shape=(6,), dtype=float32)\n",
      "estimated solution vector X: \n",
      " tf.Tensor([ 0.085802    0.30125824 -0.09189222  0.01313615 -0.01252494  0.00063067], shape=(6,), dtype=float32)\n",
      "stds: \n",
      " tf.Tensor([0.00789317 0.00125228 0.03757168 0.00518623 0.01229094 0.00082359], shape=(6,), dtype=float32)\n",
      "estimated solution vector X: \n",
      " tf.Tensor([ 0.08206227  0.30140072 -0.08599985  0.01246633 -0.01320251  0.00058843], shape=(6,), dtype=float32)\n",
      "stds: \n",
      " tf.Tensor([0.00785888 0.00124458 0.03755969 0.00518829 0.0122472  0.00082873], shape=(6,), dtype=float32)\n",
      "\n",
      " lam \n",
      " tf.Tensor(\n",
      "[[6.7478455e+02 0.0000000e+00 0.0000000e+00 0.0000000e+00 0.0000000e+00\n",
      "  0.0000000e+00]\n",
      " [0.0000000e+00 9.8889043e+03 0.0000000e+00 0.0000000e+00 0.0000000e+00\n",
      "  0.0000000e+00]\n",
      " [0.0000000e+00 0.0000000e+00 1.7725305e+04 0.0000000e+00 0.0000000e+00\n",
      "  0.0000000e+00]\n",
      " [0.0000000e+00 0.0000000e+00 0.0000000e+00 9.8367578e+04 0.0000000e+00\n",
      "  0.0000000e+00]\n",
      " [0.0000000e+00 0.0000000e+00 0.0000000e+00 0.0000000e+00 7.1996925e+05\n",
      "  0.0000000e+00]\n",
      " [0.0000000e+00 0.0000000e+00 0.0000000e+00 0.0000000e+00 0.0000000e+00\n",
      "  1.6482380e+06]], shape=(6, 6), dtype=float32)\n"
     ]
    },
    {
     "data": {
      "application/vnd.jupyter.widget-view+json": {
       "model_id": "0224387a2f31488b816b25141675e1dd",
       "version_major": 2,
       "version_minor": 0
      },
      "text/plain": [
       "ViewInteractiveWidget(height=960, layout=Layout(height='auto', width='100%'), width=960)"
      ]
     },
     "metadata": {},
     "output_type": "display_data"
    }
   ],
   "source": [
    "from ICET_spherical import ICET\n",
    "\n",
    "## init KITTI dataset -----------------------------------------------------------------\n",
    "basedir = 'C:/kitti/'\n",
    "date = '2011_09_26'\n",
    "drive = '0005'\n",
    "frame_range = range(150, 151, 1)\n",
    "dataset = pykitti.raw(basedir, date, drive)\n",
    "velo1 = dataset.get_velo(0) # Each scan is a Nx4 array of [x,y,z,reflectance]\n",
    "c1 = velo1[:,:3]\n",
    "c1 = c1[c1[:,2] > -1.5] #ignore ground plane\n",
    "## ------------------------------------------------------------------------------------\n",
    "\n",
    "#single distinct cluster\n",
    "c1 = np.random.randn(3000,3)*tf.constant([2.,0.04,1.]) + tf.constant([0.,4.,0.])\n",
    "c2 = np.random.randn(3000,3)*tf.constant([1.,0.04,0.5]) + tf.constant([0.,4.,0.]) - np.array([0.1, 0.3, 0.0])\n",
    "# c2 = c1 - np.array([0.1, 0.3, 0.0])\n",
    "\n",
    "it = ICET(cloud1 = c1, cloud2 = c2,  fid = 50, draw = True)\n",
    "ViewInteractiveWidget(it.plt.window)\n"
   ]
  },
  {
   "cell_type": "code",
   "execution_count": null,
   "metadata": {},
   "outputs": [],
   "source": [
    "#test where points are inside spherical cell...\n",
    "# print(it.cloud1_tensor_spherical)\n",
    "maxtheta = tf.constant([[0.2],[0.7]])\n",
    "maxr = tf.constant([[0.5],[2.]])\n",
    "\n",
    "ans1 = tf.greater(it.cloud1_tensor_spherical[:,1], maxtheta)\n",
    "# print(ans1)\n",
    "ans2 = tf.less(it.cloud1_tensor_spherical[:,0], maxr)\n",
    "# print(ans2)\n",
    "combined = tf.Variable([ans1, ans2])\n",
    "# print(combined)\n",
    "ans3 = tf.math.reduce_all(combined, axis = 1)\n",
    "\n",
    "print(ans3)"
   ]
  },
  {
   "cell_type": "code",
   "execution_count": 42,
   "metadata": {},
   "outputs": [
    {
     "name": "stdout",
     "output_type": "stream",
     "text": [
      "tf.Tensor(\n",
      "[[0.]\n",
      " [1.]\n",
      " [2.]\n",
      " [3.]\n",
      " [4.]\n",
      " [5.]], shape=(6, 1), dtype=float64)\n",
      "tf.Tensor(\n",
      "[[0.]\n",
      " [0.]\n",
      " [0.]\n",
      " [1.]\n",
      " [1.]\n",
      " [1.]\n",
      " [2.]\n",
      " [2.]\n",
      " [2.]\n",
      " [3.]\n",
      " [3.]\n",
      " [3.]\n",
      " [4.]\n",
      " [4.]\n",
      " [4.]\n",
      " [5.]\n",
      " [5.]\n",
      " [5.]], shape=(18, 1), dtype=float64)\n",
      "tf.Tensor(\n",
      "[[0. 0. 0.]\n",
      " [1. 1. 1.]\n",
      " [2. 2. 2.]\n",
      " [3. 3. 3.]\n",
      " [4. 4. 4.]\n",
      " [5. 5. 5.]], shape=(6, 3), dtype=float64)\n"
     ]
    }
   ],
   "source": [
    "#duplicate each element of an n*1 vector 3 times\n",
    "t = tf.linspace(0,5,6)[:,None]\n",
    "print(t)\n",
    "\n",
    "test  = tf.tile(t, [3,1])\n",
    "# print(test)\n",
    "test2 = tf.reshape(tf.transpose(tf.reshape(test, [3,-1])), [-1,1])\n",
    "print(test2)\n",
    "test3 = tf.reshape(tf.transpose(tf.reshape(test, [3,-1])), [-1,3])\n",
    "print(test3)"
   ]
  }
 ],
 "metadata": {
  "kernelspec": {
   "display_name": "Python 3",
   "language": "python",
   "name": "python3"
  },
  "language_info": {
   "codemirror_mode": {
    "name": "ipython",
    "version": 3
   },
   "file_extension": ".py",
   "mimetype": "text/x-python",
   "name": "python",
   "nbconvert_exporter": "python",
   "pygments_lexer": "ipython3",
   "version": "3.7.6"
  }
 },
 "nbformat": 4,
 "nbformat_minor": 4
}
