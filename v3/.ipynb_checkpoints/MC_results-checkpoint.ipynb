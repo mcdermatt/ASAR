{
 "cells": [
  {
   "cell_type": "code",
   "execution_count": 1,
   "id": "alert-granny",
   "metadata": {},
   "outputs": [
    {
     "name": "stderr",
     "output_type": "stream",
     "text": [
      "C:\\Users\\Derm\\anaconda3\\envs\\tf23\\lib\\site-packages\\numpy\\_distributor_init.py:32: UserWarning: loaded more than 1 DLL from .libs:\n",
      "C:\\Users\\Derm\\anaconda3\\envs\\tf23\\lib\\site-packages\\numpy\\.libs\\libopenblas.PYQHXLVVQ7VESDPUVUADXEVJOBGHJPAY.gfortran-win_amd64.dll\n",
      "C:\\Users\\Derm\\anaconda3\\envs\\tf23\\lib\\site-packages\\numpy\\.libs\\libopenblas.XWYDX2IKJW2NMTWSFYNGFUWKQU3LYTCZ.gfortran-win_amd64.dll\n",
      "  stacklevel=1)\n"
     ]
    }
   ],
   "source": [
    "import numpy as np\n",
    "from matplotlib import pyplot as plt"
   ]
  },
  {
   "cell_type": "code",
   "execution_count": 14,
   "id": "suffering-typing",
   "metadata": {},
   "outputs": [
    {
     "name": "stdout",
     "output_type": "stream",
     "text": [
      "[9.83475351e-04 8.35241864e-04 1.59838918e-04 1.84567054e-05\n",
      " 1.56421938e-05 1.22536219e-04]\n"
     ]
    }
   ],
   "source": [
    "# Ground truth = [0.5 - eps, eps, 0, 0, 0, 0.01]\n",
    "fn1 = \"MC_results/s2_spherical_ICET_estimates.npy\" \n",
    "fn2 = \"MC_results/s2_spherical_ICET_pred_stds.npy\"\n",
    "\n",
    "est = np.load(fn1)\n",
    "pred_stds = np.load(fn2)\n",
    "\n",
    "print(np.mean(pred_stds, axis = 0))\n",
    "# print(np.std(pred_stds, axis = 0)) #shows consistant prediction for soln std for constant scene"
   ]
  },
  {
   "cell_type": "code",
   "execution_count": 10,
   "id": "several-trash",
   "metadata": {},
   "outputs": [
    {
     "name": "stdout",
     "output_type": "stream",
     "text": [
      "[-4.98280731e-01  2.43349936e-04  2.40381876e-04 -3.91174519e-07\n",
      " -7.77818481e-06 -1.00007547e-02]\n",
      "[1.12733413e-03 6.64087765e-04 1.53453812e-04 1.60986306e-05\n",
      " 1.54541575e-05 1.19608546e-04]\n"
     ]
    }
   ],
   "source": [
    "#calc mean and std\n",
    "mean = np.mean(est, axis = 0)\n",
    "std = np.std(est, axis = 0)\n",
    "\n",
    "print(mean)\n",
    "print(std)"
   ]
  },
  {
   "cell_type": "code",
   "execution_count": null,
   "id": "seventh-postcard",
   "metadata": {},
   "outputs": [],
   "source": []
  }
 ],
 "metadata": {
  "kernelspec": {
   "display_name": "Python 3",
   "language": "python",
   "name": "python3"
  },
  "language_info": {
   "codemirror_mode": {
    "name": "ipython",
    "version": 3
   },
   "file_extension": ".py",
   "mimetype": "text/x-python",
   "name": "python",
   "nbconvert_exporter": "python",
   "pygments_lexer": "ipython3",
   "version": "3.7.10"
  }
 },
 "nbformat": 4,
 "nbformat_minor": 5
}
