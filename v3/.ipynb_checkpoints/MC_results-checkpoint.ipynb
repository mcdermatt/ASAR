{
 "cells": [
  {
   "cell_type": "code",
   "execution_count": 1,
   "id": "coupled-reunion",
   "metadata": {},
   "outputs": [
    {
     "name": "stderr",
     "output_type": "stream",
     "text": [
      "C:\\Users\\Derm\\anaconda3\\envs\\tf23\\lib\\site-packages\\numpy\\_distributor_init.py:32: UserWarning: loaded more than 1 DLL from .libs:\n",
      "C:\\Users\\Derm\\anaconda3\\envs\\tf23\\lib\\site-packages\\numpy\\.libs\\libopenblas.PYQHXLVVQ7VESDPUVUADXEVJOBGHJPAY.gfortran-win_amd64.dll\n",
      "C:\\Users\\Derm\\anaconda3\\envs\\tf23\\lib\\site-packages\\numpy\\.libs\\libopenblas.XWYDX2IKJW2NMTWSFYNGFUWKQU3LYTCZ.gfortran-win_amd64.dll\n",
      "  stacklevel=1)\n"
     ]
    }
   ],
   "source": [
    "import numpy as np\n",
    "from matplotlib import pyplot as plt"
   ]
  },
  {
   "cell_type": "code",
   "execution_count": 58,
   "id": "pediatric-economics",
   "metadata": {},
   "outputs": [
    {
     "name": "stdout",
     "output_type": "stream",
     "text": [
      "[0.00179338 0.00020526 0.00012556]\n",
      "[0.00202566 0.00176009 0.00109857]\n"
     ]
    }
   ],
   "source": [
    "# 100 trials on same set of 2 frames (sensor noise re-applied for each trial)\n",
    "# Ground truth = [0.5, 0., 0., 0.0, 0.0, 0.1]\n",
    "fn1 = \"MC_results/s1_spherical_ICET_estimates.npy\" \n",
    "fn2 = \"MC_results/s1_spherical_ICET_pred_stds.npy\"\n",
    "\n",
    "# fn1 = \"MC_results/s2_spherical_ICET_estimates_no_trees_with_rotation.npy\" \n",
    "# fn2 = \"MC_results/s2_spherical_ICET_pred_stds_no_trees_with_rotation.npy\"\n",
    "\n",
    "est = np.load(fn1)\n",
    "pred_stds = np.load(fn2)\n",
    "\n",
    "print(np.mean(pred_stds, axis = 0)[:3])\n",
    "print(np.rad2deg(np.mean(pred_stds, axis = 0)[3:]))\n",
    "\n",
    "# print(np.std(pred_stds, axis = 0)) #shows consistant prediction for soln std for constant scene"
   ]
  },
  {
   "cell_type": "code",
   "execution_count": 74,
   "id": "central-solution",
   "metadata": {},
   "outputs": [
    {
     "name": "stdout",
     "output_type": "stream",
     "text": [
      "[-5.01104752e-01 -1.31759372e-04 -5.76142438e-05  4.64363280e-06\n",
      "  2.50676512e-05 -9.99985662e-02]\n",
      "[0.00210681 0.0002617  0.00011828]\n",
      "[0.00196316 0.00172678 0.00110991]\n"
     ]
    }
   ],
   "source": [
    "#calc mean and std\n",
    "mean = np.mean(est, axis = 0)\n",
    "std = np.std(est, axis = 0)\n",
    "\n",
    "print(mean)\n",
    "print(std[:3])\n",
    "print(np.rad2deg(std[3:]))"
   ]
  },
  {
   "cell_type": "code",
   "execution_count": 82,
   "id": "checked-length",
   "metadata": {},
   "outputs": [
    {
     "name": "stdout",
     "output_type": "stream",
     "text": [
      "[[2.10680890e-03 6.27288063e-04 2.23612424e-05 5.36261049e-05\n",
      "  5.75751343e-05 3.02715414e-05]\n",
      " [6.27288063e-04 2.61698970e-04 6.97642712e-05 3.34985040e-05\n",
      "  1.86858160e-05 1.42138840e-05]\n",
      " [2.23612424e-05 6.97642712e-05 1.18280401e-04 1.74853437e-05\n",
      "  1.80373831e-05 1.47248693e-05]\n",
      " [5.36261049e-05 3.34985040e-05 1.74853437e-05 3.42635735e-05\n",
      "  8.86463461e-07 7.75656069e-06]\n",
      " [5.75751343e-05 1.86858160e-05 1.80373831e-05 8.86463461e-07\n",
      "  3.01380137e-05 4.17262252e-06]\n",
      " [3.02715414e-05 1.42138840e-05 1.47248693e-05 7.75656069e-06\n",
      "  4.17262252e-06 1.93715878e-05]]\n"
     ]
    }
   ],
   "source": [
    "#test - why does cov[0,0] give different results than std?????\n",
    "#  answer: https://stackoverflow.com/questions/51923846/why-correlation-computed-by-nump-cov-and-np-std-is-different-from-the-result\n",
    "# C = np.cov(est[:,0],est[:,1], ddof = 0) #need to include ddof arg\n",
    "C = np.cov(est.T, ddof = 0) #need to include ddof arg\n",
    "print(np.sqrt(abs(C)))"
   ]
  },
  {
   "cell_type": "code",
   "execution_count": 288,
   "id": "timely-immigration",
   "metadata": {},
   "outputs": [
    {
     "name": "stdout",
     "output_type": "stream",
     "text": [
      "removed  27 outliers from  100 total estimates \n",
      "\n",
      "[0.00466625 0.00022087 0.0001745 ] [0.00210008 0.00125108 0.00102803]\n"
     ]
    }
   ],
   "source": [
    "#40 frame trajectory (3 iterations each pair)\n",
    "# Ground truth = [0.5, 0., 0., 0.0, 0.0, 0.05]\n",
    "\n",
    "# fn1 = \"MC_results/traj1_cart_ICET_estimates_with_GP.npy\" \n",
    "# fn2 = \"MC_results/traj1_cart_ICET_pred_stds_with_GP.npy\"\n",
    "# fn1 = \"MC_results/traj1_cart_ICET_estimates_no_GP.npy\" \n",
    "# fn2 = \"MC_results/traj1_cart_ICET_pred_stds_no_GP.npy\"\n",
    "# fn1 = \"MC_results/traj1_spherical_ICET_estimates.npy\" \n",
    "# fn2 = \"MC_results/traj1_spherical_ICET_pred_stds.npy\"\n",
    "# fn1 = \"MC_results/traj2_spherical_ICET_estimates.npy\" \n",
    "# fn2 = \"MC_results/traj2_spherical_ICET_pred_stds.npy\"\n",
    "fn1 = \"MC_results/traj2_spherical_ICET_estimates.npy\" \n",
    "fn2 = \"MC_results/traj2_spherical_ICET_pred_stds.npy\"\n",
    "est = np.load(fn1)\n",
    "pred_stds = np.load(fn2)\n",
    "\n",
    "#just consider first 100----------------------\n",
    "est = est[:100,:]\n",
    "pred_stds = pred_stds[:100,:]\n",
    "#---------------------------------------------\n",
    "\n",
    "#remove outliers ~~~~~~~~~~~~~~~~~~~~~~~~~~~~\n",
    "before = np.shape(est)[0]\n",
    "#get rid of high translation errors\n",
    "good = np.where(est[:,0] > 0.35) #0.35\n",
    "est = est[good]\n",
    "pred_stds = pred_stds[good]\n",
    "good = np.where(est[:,0] < 0.65) #0.35\n",
    "est = est[good]\n",
    "pred_stds = pred_stds[good]\n",
    "#get rid of high rotation errors\n",
    "good = np.where(abs(est[:,5] < 0.08  ))\n",
    "est = est[good]\n",
    "pred_stds = pred_stds[good]\n",
    "print(\"removed \", before - np.shape(est)[0], \"outliers from \", before, \"total estimates \\n\")\n",
    "#~~~~~~~~~~~~~~~~~~~~~~~~~~~~~~~~~~~~~~~~~~~\n",
    "\n",
    "# print(est[:,0])\n",
    "\n",
    "print(np.mean(pred_stds, axis = 0)[:3], np.rad2deg(np.mean(pred_stds, axis = 0)[3:]))\n",
    "# print(np.mean(pred_stds, axis = 0)[:3],np.mean(pred_stds, axis = 0)[3:])"
   ]
  },
  {
   "cell_type": "code",
   "execution_count": 289,
   "id": "polyphonic-carbon",
   "metadata": {},
   "outputs": [
    {
     "name": "stdout",
     "output_type": "stream",
     "text": [
      "[0.0097758  0.00022551 0.00019693] [0.00258851 0.00089741 0.00105645]\n"
     ]
    }
   ],
   "source": [
    "#calc mean and std\n",
    "# mean = np.mean(est, axis = 0)\n",
    "# print(mean)\n",
    "std = np.std(est, axis = 0)\n",
    "\n",
    "print(std[:3], np.rad2deg(std[3:]))\n",
    "# print(std[:3], std[3:])"
   ]
  },
  {
   "cell_type": "code",
   "execution_count": 283,
   "id": "immune-eagle",
   "metadata": {},
   "outputs": [
    {
     "name": "stdout",
     "output_type": "stream",
     "text": [
      "[[ 0.  1.  2.]\n",
      " [ 3.  4.  5.]\n",
      " [ 6.  7.  8.]\n",
      " [ 9. 10. 11.]] \n",
      "\n",
      "[[0. 1. 2.]\n",
      " [3. 4. 5.]]\n"
     ]
    }
   ],
   "source": [
    "#test removing points too close to the center from scan2 in cartesian ICET\n",
    "#   DEBUGGING GROUND PLANE NEAR EGO-VEHICLE\n",
    "\n",
    "t = np.linspace(0,11,12)\n",
    "t = t.reshape([4,3])\n",
    "print(t, \"\\n\")\n",
    "\n",
    "# print(t[t<3])\n",
    "dist = np.sum(t**2, axis = 1)\n",
    "print(t[dist < 100])"
   ]
  },
  {
   "cell_type": "code",
   "execution_count": 237,
   "id": "grave-confusion",
   "metadata": {},
   "outputs": [
    {
     "data": {
      "text/plain": [
       "[<matplotlib.lines.Line2D at 0x190712eca88>]"
      ]
     },
     "execution_count": 237,
     "metadata": {},
     "output_type": "execute_result"
    },
    {
     "data": {
      "image/png": "[encoded data removed]",
      "text/plain": [
       "<Figure size 432x288 with 1 Axes>"
      ]
     },
     "metadata": {
      "needs_background": "light"
     },
     "output_type": "display_data"
    }
   ],
   "source": [
    "from matplotlib import pyplot as plt\n",
    "\n",
    "fig, ax = plt.subplots()\n",
    "ax.plot(est[:,0])"
   ]
  },
  {
   "cell_type": "code",
   "execution_count": null,
   "id": "collectible-journalist",
   "metadata": {},
   "outputs": [],
   "source": []
  }
 ],
 "metadata": {
  "kernelspec": {
   "display_name": "Python 3",
   "language": "python",
   "name": "python3"
  },
  "language_info": {
   "codemirror_mode": {
    "name": "ipython",
    "version": 3
   },
   "file_extension": ".py",
   "mimetype": "text/x-python",
   "name": "python",
   "nbconvert_exporter": "python",
   "pygments_lexer": "ipython3",
   "version": "3.7.10"
  }
 },
 "nbformat": 4,
 "nbformat_minor": 5
}
