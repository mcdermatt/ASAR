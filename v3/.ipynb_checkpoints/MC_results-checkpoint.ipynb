{
 "cells": [
  {
   "cell_type": "code",
   "execution_count": 1,
   "id": "quiet-input",
   "metadata": {},
   "outputs": [
    {
     "name": "stderr",
     "output_type": "stream",
     "text": [
      "C:\\Users\\Derm\\anaconda3\\envs\\tf23\\lib\\site-packages\\numpy\\_distributor_init.py:32: UserWarning: loaded more than 1 DLL from .libs:\n",
      "C:\\Users\\Derm\\anaconda3\\envs\\tf23\\lib\\site-packages\\numpy\\.libs\\libopenblas.PYQHXLVVQ7VESDPUVUADXEVJOBGHJPAY.gfortran-win_amd64.dll\n",
      "C:\\Users\\Derm\\anaconda3\\envs\\tf23\\lib\\site-packages\\numpy\\.libs\\libopenblas.XWYDX2IKJW2NMTWSFYNGFUWKQU3LYTCZ.gfortran-win_amd64.dll\n",
      "  stacklevel=1)\n"
     ]
    }
   ],
   "source": [
    "import numpy as np\n",
    "from matplotlib import pyplot as plt"
   ]
  },
  {
   "cell_type": "code",
   "execution_count": 39,
   "id": "technical-spyware",
   "metadata": {},
   "outputs": [
    {
     "name": "stdout",
     "output_type": "stream",
     "text": [
      "[0.00328979 0.00025289 0.00012897]\n"
     ]
    }
   ],
   "source": [
    "# Ground truth = [0.5, 0., 0., 0.0, 0.0, 0.01]\n",
    "fn1 = \"MC_results/s1_spherical_ICET_estimates.npy\" \n",
    "fn2 = \"MC_results/s1_spherical_ICET_pred_stds.npy\"\n",
    "\n",
    "# fn1 = \"MC_results/s2_spherical_ICET_estimates_no_trees_with_rotation.npy\" \n",
    "# fn2 = \"MC_results/s2_spherical_ICET_pred_stds_no_trees_with_rotation.npy\"\n",
    "\n",
    "est = np.load(fn1)\n",
    "pred_stds = np.load(fn2)\n",
    "\n",
    "print(np.mean(pred_stds, axis = 0)[:3])\n",
    "print(np.mean(pred_stds, axis = 0))\n",
    "\n",
    "# print(np.std(pred_stds, axis = 0)) #shows consistant prediction for soln std for constant scene"
   ]
  },
  {
   "cell_type": "code",
   "execution_count": 38,
   "id": "explicit-brick",
   "metadata": {},
   "outputs": [
    {
     "name": "stdout",
     "output_type": "stream",
     "text": [
      "[-4.99379832e-01  6.96077910e-06 -2.61592369e-04 -1.28205154e-06\n",
      "  1.42580303e-05 -1.00002453e-02]\n",
      "[1.94507814e-03 2.53339407e-04 1.37810540e-04 3.34550089e-05\n",
      " 3.04136897e-05 2.18444462e-05]\n"
     ]
    }
   ],
   "source": [
    "#calc mean and std\n",
    "mean = np.mean(est, axis = 0)\n",
    "std = np.std(est, axis = 0)\n",
    "\n",
    "print(mean)\n",
    "print(std)"
   ]
  },
  {
   "cell_type": "code",
   "execution_count": null,
   "id": "given-activation",
   "metadata": {},
   "outputs": [],
   "source": []
  }
 ],
 "metadata": {
  "kernelspec": {
   "display_name": "Python 3",
   "language": "python",
   "name": "python3"
  },
  "language_info": {
   "codemirror_mode": {
    "name": "ipython",
    "version": 3
   },
   "file_extension": ".py",
   "mimetype": "text/x-python",
   "name": "python",
   "nbconvert_exporter": "python",
   "pygments_lexer": "ipython3",
   "version": "3.7.10"
  }
 },
 "nbformat": 4,
 "nbformat_minor": 5
}
