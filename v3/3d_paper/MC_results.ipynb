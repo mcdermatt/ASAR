{
 "cells": [
  {
   "cell_type": "code",
   "execution_count": 25,
   "id": "integrated-tribune",
   "metadata": {},
   "outputs": [],
   "source": [
    "import numpy as np\n",
    "from matplotlib import pyplot as plt"
   ]
  },
  {
   "cell_type": "code",
   "execution_count": 65,
   "id": "mobile-falls",
   "metadata": {},
   "outputs": [
    {
     "name": "stdout",
     "output_type": "stream",
     "text": [
      "[9.50068837e-05 1.51882334e-03 6.93788631e-05]\n",
      "[0.00075273 0.0009839  0.00087852]\n"
     ]
    }
   ],
   "source": [
    "# 100 trials on same set of 2 frames (sensor noise re-applied for each trial)\n",
    "# Ground truth = [0.5, 0.5, 0., 0.0, 0.0, -0.05]\n",
    "# fn1 = \"MC_results/scene1_ICET_estimates.npy\" #with extended surface mitigation\n",
    "# fn2 = \"MC_results/scene1_ICET_pred_stds.npy\"\n",
    "# fn1 = \"MC_results/scene1_ICET_estimates_NM.npy\" #no extended surface mitigation\n",
    "# fn2 = \"MC_results/scene1_ICET_pred_stds_NM.npy\"\n",
    "\n",
    "fn1 = \"MC_results/test_ICET_estimates.npy\" \n",
    "fn2 = \"MC_results/test_ICET_pred_stds.npy\"\n",
    "\n",
    "\n",
    "est = np.load(fn1)\n",
    "pred_stds = np.load(fn2)\n",
    "\n",
    "print(np.mean(pred_stds, axis = 0)[:3])\n",
    "print(np.rad2deg(np.mean(pred_stds, axis = 0)[3:]))\n",
    "\n",
    "# print(np.std(pred_stds, axis = 0)) #shows consistant prediction for soln std for constant scene"
   ]
  },
  {
   "cell_type": "code",
   "execution_count": 60,
   "id": "numerical-pearl",
   "metadata": {},
   "outputs": [
    {
     "name": "stdout",
     "output_type": "stream",
     "text": [
      "[-0.72027602 -0.5010607   0.28809793  0.09116076  0.05102569 -0.08664148]\n",
      "[0.71793021 0.5286794  0.38735274]\n",
      "[5.92146851 1.42951806 6.92633386]\n"
     ]
    }
   ],
   "source": [
    "#calc mean and std\n",
    "mean = np.mean(est, axis = 0)\n",
    "std = np.std(est, axis = 0)\n",
    "\n",
    "print(mean)\n",
    "print(std[:3])\n",
    "print(np.rad2deg(std[3:]))"
   ]
  },
  {
   "cell_type": "code",
   "execution_count": 36,
   "id": "natural-collective",
   "metadata": {},
   "outputs": [
    {
     "name": "stdout",
     "output_type": "stream",
     "text": [
      "[9.08332717e-05 5.09211830e-04 6.88964606e-05] [0.00079396 0.00102918 0.00088241]\n"
     ]
    }
   ],
   "source": [
    "#calc mean and std\n",
    "mean = np.mean(est, axis = 0)\n",
    "# print(mean)\n",
    "std = np.std(est, axis = 0)\n",
    "\n",
    "print(std[:3], np.rad2deg(std[3:]))\n",
    "# print(std[:3], std[3:])"
   ]
  },
  {
   "cell_type": "code",
   "execution_count": 67,
   "id": "simple-delhi",
   "metadata": {},
   "outputs": [
    {
     "data": {
      "text/plain": [
       "[<matplotlib.lines.Line2D at 0x1ea02db5a00>]"
      ]
     },
     "execution_count": 67,
     "metadata": {},
     "output_type": "execute_result"
    },
    {
     "data": {
      "image/png": "[encoded data removed]",
      "text/plain": [
       "<Figure size 432x288 with 1 Axes>"
      ]
     },
     "metadata": {
      "needs_background": "light"
     },
     "output_type": "display_data"
    }
   ],
   "source": [
    "#for debug - plot pred_stds to make sure we don't have any outlier trials\n",
    "fig, ax = plt.subplots()\n",
    "\n",
    "ax.plot(pred_stds[:,1])"
   ]
  },
  {
   "cell_type": "code",
   "execution_count": 66,
   "id": "attended-river",
   "metadata": {},
   "outputs": [
    {
     "name": "stdout",
     "output_type": "stream",
     "text": [
      "[[-4.99942094e-01 -5.00393391e-01 -1.20997429e-04  2.28229910e-05\n",
      "   1.59926713e-05 -3.82773578e-06]\n",
      " [-5.00072777e-01 -4.99733150e-01 -6.22849911e-05  1.57058239e-05\n",
      "  -9.17352736e-06  1.45286322e-06]\n",
      " [-5.00048757e-01 -1.26519620e-01 -1.95771456e-04 -7.79749826e-06\n",
      "  -1.09523535e-06  5.28246164e-06]]\n"
     ]
    }
   ],
   "source": [
    "print(est[:3,:])"
   ]
  },
  {
   "cell_type": "code",
   "execution_count": null,
   "id": "8f37c422",
   "metadata": {},
   "outputs": [],
   "source": []
  }
 ],
 "metadata": {
  "kernelspec": {
   "display_name": "Python 3 (ipykernel)",
   "language": "python",
   "name": "python3"
  },
  "language_info": {
   "codemirror_mode": {
    "name": "ipython",
    "version": 3
   },
   "file_extension": ".py",
   "mimetype": "text/x-python",
   "name": "python",
   "nbconvert_exporter": "python",
   "pygments_lexer": "ipython3",
   "version": "3.8.12"
  }
 },
 "nbformat": 4,
 "nbformat_minor": 5
}
