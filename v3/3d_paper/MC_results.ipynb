{
 "cells": [
  {
   "cell_type": "code",
   "execution_count": null,
   "id": "integrated-tribune",
   "metadata": {},
   "outputs": [],
   "source": [
    "import numpy as np\n",
    "from matplotlib import pyplot as plt\n",
    "%matplotlib notebook"
   ]
  },
  {
   "cell_type": "code",
   "execution_count": null,
   "id": "mobile-falls",
   "metadata": {},
   "outputs": [],
   "source": [
    "# n trials on same set of 2 frames (sensor noise re-applied and initial conds randomized for each trial)\n",
    "\n",
    "#part 1--------------------------\n",
    "# with extended surface mitigation\n",
    "fn1 = \"MC_results/scene1_ICET_estimates_v5.npy\" \n",
    "fn2 = \"MC_results/scene1_ICET_pred_stds_v5.npy\"\n",
    "# v4 = 500 trials @ 5iter, v5 = 50 trials @ 10 iter, vj6 = 10 trials, noise ~0.05\n",
    "\n",
    "# #no extended surface mitigation\n",
    "# fn1 = \"MC_results/scene1_ICET_estimates_NM_v4.npy\" \n",
    "# fn2 = \"MC_results/scene1_ICET_pred_stds_NM_v4.npy\"\n",
    "# #v3=500 trials with 5 iter, v4=500 trials with \n",
    "#---------------------------------\n",
    "\n",
    "#part 2---------------------------\n",
    "# with extended surface mitigation\n",
    "# fn1 = \"MC_results/scene2_ICET_estimates_v3.npy\" \n",
    "# fn2 = \"MC_results/scene2_ICET_pred_stds_v3.npy\"\n",
    "#v1 = 500, v2 = 50 test, v3 -= 500 (best)\n",
    "\n",
    "# # #no extended surface mitigation\n",
    "# fn1 = \"MC_results/scene2_ICET_estimates_NM_v3.npy\" \n",
    "# fn2 = \"MC_results/scene2_ICET_pred_stds_NM_v3.npy\"\n",
    "#v1 = 500, v2 = 50 test, v3=500 (best)\n",
    "#---------------------------------\n",
    "\n",
    "# #part 3-------------------------\n",
    "# # with extended surface mitigation\n",
    "# # fn1 = \"MC_results/scene3_ICET_estimates_v1.npy\" \n",
    "# # fn2 = \"MC_results/scene3_ICET_pred_stds_v1.npy\"\n",
    "\n",
    "# # # #no extended surface mitigation\n",
    "# fn1 = \"MC_results/scene3_ICET_estimates_NM_v1.npy\" \n",
    "# fn2 = \"MC_results/scene3_ICET_pred_stds_NM_v1.npy\"\n",
    "# #---------------------------------\n",
    "\n",
    "est = np.load(fn1)\n",
    "pred_stds = np.load(fn2)\n",
    "\n",
    "print(np.mean(pred_stds, axis = 0)[:3])\n",
    "print(np.rad2deg(np.mean(pred_stds, axis = 0)[3:]))\n",
    "\n",
    "# print(np.std(pred_stds, axis = 0)) #shows consistant prediction for soln std for constant scene"
   ]
  },
  {
   "cell_type": "code",
   "execution_count": null,
   "id": "numerical-pearl",
   "metadata": {},
   "outputs": [],
   "source": [
    "#remove outliers from est\n",
    "\n",
    "# # #vertical axis\n",
    "ok = np.where(abs(est[:,2]) < 0.0003)\n",
    "est = est[ok]\n",
    "# #roll\n",
    "ok3 = np.where(abs(est[:,3]) < 0.000058)\n",
    "est = est[ok3]\n",
    "#pitch\n",
    "ok4 = np.where(abs(est[:,4]) < 0.000067)\n",
    "est = est[ok4]\n",
    "# #yaw\n",
    "# ok5 = np.where(abs(est[:,5]) < 0.0000476)\n",
    "# est = est[ok5]\n",
    "\n",
    "#calc mean and std\n",
    "mean = np.mean(est, axis = 0)\n",
    "# print(mean, \"\\n\")\n",
    "std = np.std(est, axis = 0)\n",
    "std[3:] = np.rad2deg(std[3:]) #convert angles to degrees\n",
    "std += np.abs(mean) #add in any net offset\n",
    "\n",
    "print(std)"
   ]
  },
  {
   "cell_type": "code",
   "execution_count": null,
   "id": "simple-delhi",
   "metadata": {},
   "outputs": [],
   "source": [
    "#for debug - plot pred_stds to make sure we don't have any outlier trials\n",
    "fig, ax = plt.subplots()\n",
    "\n",
    "# ax.plot(pred_stds[:,2])\n",
    "\n",
    "ax.plot(est[:,4]) \n",
    "# ax.plot(np.rad2deg(est[:,4]))\n",
    "\n",
    "ok = np.where(abs(est[:,2]) < 0.0003)\n",
    "# ok = np.where(abs(est[:,2]) < 0.1)\n",
    "\n",
    "# print(ok)\n",
    "print(np.std(est[ok], axis = 0)[:3])\n",
    "print(np.rad2deg(np.std(est[ok], axis = 0))[3:])"
   ]
  },
  {
   "cell_type": "code",
   "execution_count": null,
   "id": "attended-river",
   "metadata": {},
   "outputs": [],
   "source": [
    "bad = np.where(est[:,0] > -0.35)\n",
    "print(bad)\n",
    "print(est)"
   ]
  },
  {
   "cell_type": "code",
   "execution_count": null,
   "id": "8f37c422",
   "metadata": {},
   "outputs": [],
   "source": []
  },
  {
   "cell_type": "code",
   "execution_count": null,
   "id": "automotive-swiss",
   "metadata": {},
   "outputs": [],
   "source": []
  }
 ],
 "metadata": {
  "kernelspec": {
   "display_name": "Python 3 (ipykernel)",
   "language": "python",
   "name": "python3"
  },
  "language_info": {
   "codemirror_mode": {
    "name": "ipython",
    "version": 3
   },
   "file_extension": ".py",
   "mimetype": "text/x-python",
   "name": "python",
   "nbconvert_exporter": "python",
   "pygments_lexer": "ipython3",
   "version": "3.9.13"
  }
 },
 "nbformat": 4,
 "nbformat_minor": 5
}
