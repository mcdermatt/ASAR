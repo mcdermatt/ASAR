{
 "cells": [
  {
   "cell_type": "markdown",
   "id": "ec5c1675",
   "metadata": {},
   "source": [
    "### Demo of Registering Distorted LIDAR Scans to HD Map Provided in Newer College Dataset"
   ]
  },
  {
   "cell_type": "code",
   "execution_count": 1,
   "id": "fe994a8e",
   "metadata": {},
   "outputs": [
    {
     "name": "stderr",
     "output_type": "stream",
     "text": [
      "2023-06-19 10:21:57.081349: I tensorflow/core/platform/cpu_feature_guard.cc:193] This TensorFlow binary is optimized with oneAPI Deep Neural Network Library (oneDNN) to use the following CPU instructions in performance-critical operations:  AVX2 FMA\n",
      "To enable them in other operations, rebuild TensorFlow with the appropriate compiler flags.\n",
      "2023-06-19 10:21:57.712966: E tensorflow/stream_executor/cuda/cuda_blas.cc:2981] Unable to register cuBLAS factory: Attempting to register factory for plugin cuBLAS when one has already been registered\n",
      "2023-06-19 10:21:58.854349: W tensorflow/stream_executor/platform/default/dso_loader.cc:64] Could not load dynamic library 'libnvinfer.so.7'; dlerror: libnvinfer.so.7: cannot open shared object file: No such file or directory; LD_LIBRARY_PATH: /home/derm/anaconda3/envs/py39/lib/python3.9/site-packages/cv2/../../lib64:\n",
      "2023-06-19 10:21:58.854437: W tensorflow/stream_executor/platform/default/dso_loader.cc:64] Could not load dynamic library 'libnvinfer_plugin.so.7'; dlerror: libnvinfer_plugin.so.7: cannot open shared object file: No such file or directory; LD_LIBRARY_PATH: /home/derm/anaconda3/envs/py39/lib/python3.9/site-packages/cv2/../../lib64:\n",
      "2023-06-19 10:21:58.854444: W tensorflow/compiler/tf2tensorrt/utils/py_utils.cc:38] TF-TRT Warning: Cannot dlopen some TensorRT libraries. If you would like to use Nvidia GPU with TensorRT, please make sure the missing libraries mentioned above are installed properly.\n",
      "2023-06-19 10:22:00.141147: I tensorflow/stream_executor/cuda/cuda_gpu_executor.cc:980] successful NUMA node read from SysFS had negative value (-1), but there must be at least one NUMA node, so returning NUMA node zero\n",
      "2023-06-19 10:22:00.165931: I tensorflow/stream_executor/cuda/cuda_gpu_executor.cc:980] successful NUMA node read from SysFS had negative value (-1), but there must be at least one NUMA node, so returning NUMA node zero\n",
      "2023-06-19 10:22:00.166113: I tensorflow/stream_executor/cuda/cuda_gpu_executor.cc:980] successful NUMA node read from SysFS had negative value (-1), but there must be at least one NUMA node, so returning NUMA node zero\n"
     ]
    },
    {
     "name": "stdout",
     "output_type": "stream",
     "text": [
      "[PhysicalDevice(name='/physical_device:GPU:0', device_type='GPU')]\n"
     ]
    },
    {
     "name": "stderr",
     "output_type": "stream",
     "text": [
      "2023-06-19 10:22:00.634887: I tensorflow/core/platform/cpu_feature_guard.cc:193] This TensorFlow binary is optimized with oneAPI Deep Neural Network Library (oneDNN) to use the following CPU instructions in performance-critical operations:  AVX2 FMA\n",
      "To enable them in other operations, rebuild TensorFlow with the appropriate compiler flags.\n",
      "2023-06-19 10:22:00.636365: I tensorflow/stream_executor/cuda/cuda_gpu_executor.cc:980] successful NUMA node read from SysFS had negative value (-1), but there must be at least one NUMA node, so returning NUMA node zero\n",
      "2023-06-19 10:22:00.636644: I tensorflow/stream_executor/cuda/cuda_gpu_executor.cc:980] successful NUMA node read from SysFS had negative value (-1), but there must be at least one NUMA node, so returning NUMA node zero\n",
      "2023-06-19 10:22:00.636853: I tensorflow/stream_executor/cuda/cuda_gpu_executor.cc:980] successful NUMA node read from SysFS had negative value (-1), but there must be at least one NUMA node, so returning NUMA node zero\n",
      "2023-06-19 10:22:01.605711: I tensorflow/stream_executor/cuda/cuda_gpu_executor.cc:980] successful NUMA node read from SysFS had negative value (-1), but there must be at least one NUMA node, so returning NUMA node zero\n",
      "2023-06-19 10:22:01.605958: I tensorflow/stream_executor/cuda/cuda_gpu_executor.cc:980] successful NUMA node read from SysFS had negative value (-1), but there must be at least one NUMA node, so returning NUMA node zero\n",
      "2023-06-19 10:22:01.606146: I tensorflow/stream_executor/cuda/cuda_gpu_executor.cc:980] successful NUMA node read from SysFS had negative value (-1), but there must be at least one NUMA node, so returning NUMA node zero\n",
      "2023-06-19 10:22:01.606271: I tensorflow/core/common_runtime/gpu/gpu_device.cc:1616] Created device /job:localhost/replica:0/task:0/device:GPU:0 with 4096 MB memory:  -> device: 0, name: NVIDIA GeForce RTX 3090, pci bus id: 0000:07:00.0, compute capability: 8.6\n"
     ]
    },
    {
     "data": {
      "application/javascript": [
       "IPython.notebook.set_autosave_interval(180000)"
      ]
     },
     "metadata": {},
     "output_type": "display_data"
    },
    {
     "name": "stdout",
     "output_type": "stream",
     "text": [
      "Autosaving every 180 seconds\n"
     ]
    }
   ],
   "source": [
    "from vedo import *\n",
    "import os\n",
    "from ipyvtklink.viewer import ViewInteractiveWidget\n",
    "import pykitti\n",
    "import numpy as np\n",
    "import tensorflow as tf\n",
    "import time\n",
    "import pickle\n",
    "\n",
    "#limit GPU memory ------------------------------------------------\n",
    "gpus = tf.config.experimental.list_physical_devices('GPU')\n",
    "print(gpus)\n",
    "if gpus:\n",
    "  try:\n",
    "    memlim = 4*1024\n",
    "    tf.config.experimental.set_virtual_device_configuration(gpus[0], [tf.config.experimental.VirtualDeviceConfiguration(memory_limit=memlim)])\n",
    "  except RuntimeError as e:\n",
    "    print(e)\n",
    "#-----------------------------------------------------------------\n",
    "\n",
    "from tensorflow.math import sin, cos, tan\n",
    "import tensorflow_probability as tfp\n",
    "import sys\n",
    "current = os.getcwd()\n",
    "parent_directory = os.path.dirname(current)\n",
    "sys.path.append(parent_directory)\n",
    "from ICET_spherical import ICET\n",
    "from utils import R_tf\n",
    "from metpy.calc import lat_lon_grid_deltas\n",
    "# from pioneer.das.api.platform import Platform #conflict with <open3d-python>\n",
    "from scipy.spatial.transform import Rotation as R\n",
    "# from pioneer.das.api.egomotion.imu_egomotion_provider import IMUEgomotionProvider as emp #conflict with <open3d-python>\n",
    "from matplotlib import pyplot as plt\n",
    "\n",
    "%load_ext autoreload\n",
    "%autoreload 2\n",
    "%autosave 180\n",
    "%matplotlib notebook"
   ]
  },
  {
   "cell_type": "code",
   "execution_count": 2,
   "id": "0b4ab0ca",
   "metadata": {},
   "outputs": [],
   "source": [
    "#Load HD Map from .ply File\n",
    "import trimesh\n",
    "\n",
    "# pl = '/home/derm/Downloads/new-college-29-01-2020-1cm-resolution-1stSection - mesh.ply' #provided in Google Drive 03\n",
    "pl = '/media/derm/06EF-127D3/Newer College Dataset/new-college-29-01-2020-1cm-resolution-1stSection - mesh.ply'\n",
    "HD_map = trimesh.load(pl).vertices\n",
    "# print(type(HD_map))"
   ]
  },
  {
   "cell_type": "markdown",
   "id": "acf543e7",
   "metadata": {},
   "source": [
    "# Draw HD Map"
   ]
  },
  {
   "cell_type": "code",
   "execution_count": 3,
   "id": "5bd48cb9",
   "metadata": {},
   "outputs": [
    {
     "name": "stdout",
     "output_type": "stream",
     "text": [
      "(402461, 3)\n"
     ]
    },
    {
     "data": {
      "application/vnd.jupyter.widget-view+json": {
       "model_id": "65f21e2754ad446999dc9de8066e4ffc",
       "version_major": 2,
       "version_minor": 0
      },
      "text/plain": [
       "ViewInteractiveWidget(height=1043, layout=Layout(height='auto', width='100%'), width=1280)"
      ]
     },
     "metadata": {},
     "output_type": "display_data"
    }
   ],
   "source": [
    "#Test drawing downsampled version of HD Map (laptop alert)\n",
    "show_nth = 10 #10\n",
    "submap = HD_map[::show_nth]\n",
    "# submap[:,2] += min(submap[:,2])\n",
    "print(np.shape(submap))\n",
    "\n",
    "plt = Plotter(N = 1, axes = 1, bg = (1, 1, 1), interactive = True) #axes = 4\n",
    "disp=[]\n",
    "# draw in red\n",
    "disp.append(Points(submap, c = \"#CB2314\", r = 2, alpha = 0.1))  \n",
    "\n",
    "## rainbow by z height\n",
    "# # zheight = 50*(np.sin(0.0625*submap[:,2])+1)#was this\n",
    "# zheight = 100*(np.sin(0.25*submap[:,2])+1) #test\n",
    "# print(zheight[::100], min(zheight), max(zheight))\n",
    "# # cname = np.array([zheight, 100*(np.sin(0.5*zheight+256)+1), 128*np.ones(len(zheight))]).T.tolist()\n",
    "# cname = np.array([zheight, zheight, zheight]).T.tolist()\n",
    "# # cname = np.array([64*np.ones(len(zheight)), 256 - zheight/2, 256 - zheight]).T.tolist()\n",
    "# disp.append(Points(submap, c = cname, r = 2, alpha = 0.1))\n",
    "\n",
    "plt.show(disp, \"HD Map\")\n",
    "ViewInteractiveWidget(plt.window)\n"
   ]
  },
  {
   "cell_type": "markdown",
   "id": "ffb60d11",
   "metadata": {},
   "source": [
    "# Register scan using rigid ICET"
   ]
  },
  {
   "cell_type": "code",
   "execution_count": 4,
   "id": "7cabd9ac",
   "metadata": {},
   "outputs": [],
   "source": [
    "idx = 400\n",
    "# fn1 = \"/media/derm/06EF-127D3/Newer College Dataset/05_Quad_With_Dynamics/point_clouds/frame_\" + str(idx) + \".npy\"\n",
    "fn1 = \"/media/derm/06EF-127D3/Newer College Dataset/06_Dynamic_Spinning/point_clouds/frame_\" + str(idx) + \".npy\"\n",
    "\n",
    "pc1 = np.load(fn1)\n",
    "\n",
    "#load ground truth\n",
    "# [sec,nsec,x,y,z,qx,qy,qz,qw]\n",
    "# fn_gt = \"/media/derm/06EF-127D3/Newer College Dataset/05_Quad_With_Dynamics/registered_poses.csv\"\n",
    "fn_gt = \"/media/derm/06EF-127D3/Newer College Dataset/06_Dynamic_Spinning/registered_poses.csv\"\n",
    "gt = np.loadtxt(fn_gt, delimiter=',',skiprows = 1)\n",
    "# print(gt[idx, 2:])\n",
    "\n",
    "offset = 0#for debug \n",
    "rot = R.from_quat(gt[idx+offset,5:]).as_euler('xyz')\n",
    "# rot_m = R.from_quat(gt[idx+offset,5:]).as_matrix()\n",
    "# rot_m = R.from_quat(gt[idx,5:]).inv().as_matrix()\n",
    "rot_m = R.from_euler('xyz', [0, 0, rot[2]]).as_matrix()\n",
    "# rot_m = R.from_euler('xyz', [rot[0], rot[1], -rot[2] - np.pi/8 ]).as_matrix()\n",
    "# rot_m = R.from_quat(gt[idx,5:]).inv().as_matrix()\n",
    "# print(rot_m)\n",
    "\n",
    "initial_guess = tf.cast(tf.constant([gt[idx+offset,2], gt[idx+offset,3], gt[idx+offset,4], rot[0], rot[1], rot[2] ]), tf.float32)\n",
    "# pc1 = pc1 @ rot_m\n",
    "# rotcorr = R.from_euler('xyz', [0,0,np.pi/8]).as_matrix() #need to correct 45 degree offset??\n",
    "# pc1 = pc1 @ rotcorr\n",
    "# pc1 += initial_guess[:3]"
   ]
  },
  {
   "cell_type": "markdown",
   "id": "915e4131",
   "metadata": {},
   "source": [
    "# Get Ground Truth Poses with code from KitWare pyLiDAR-SLAM library"
   ]
  },
  {
   "cell_type": "code",
   "execution_count": null,
   "id": "380b272f",
   "metadata": {},
   "outputs": [],
   "source": [
    "#load ground truth .csv file\n",
    "# [sec,nsec,x,y,z,qx,qy,qz,qw]\n",
    "# fn_gt = \"/media/derm/06EF-127D3/Newer College Dataset/05_Quad_With_Dynamics/registered_poses.csv\"\n",
    "fn_gt = \"/media/derm/06EF-127D3/Newer College Dataset/06_Dynamic_Spinning/registered_poses.csv\"\n",
    "\n",
    "gt = np.loadtxt(fn_gt, delimiter=',',skiprows = 1)\n",
    "seconds = gt[:, 0]\n",
    "nano_seconds = gt[:, 1]\n",
    "xyz = gt[:, 2:5]\n",
    "qxyzw = gt[:, 5:]\n",
    "num_poses = qxyzw.shape[0]\n",
    "poses = np.eye(4, dtype=np.float64).reshape(1, 4, 4).repeat(num_poses, axis=0)\n",
    "poses[:, :3, :3] = R.from_quat(qxyzw).as_matrix()\n",
    "poses[:, :3, 3] = xyz\n",
    "T_CL = np.eye(4, dtype=np.float32)\n",
    "T_CL[:3, :3] = R.from_quat([0.0, 0.0, 0.924, 0.383]).as_matrix() #was this --1134.97 deg\n",
    "T_CL[:3, 3] = np.array([-0.084, -0.025, 0.050], dtype=np.float32) #was this\n",
    "# T_CL[:3, :3] = R.from_euler('xyz', [0,0, np.deg2rad(135)]).as_matrix() #as specified by paper (exactly 45 deg)\n",
    "# T_CL[:3, 3] = np.array([0.084, 0.025, -0.050], dtype=np.float32) #debugging possible sign errors\n",
    "poses = np.einsum(\"nij,jk->nik\", poses, T_CL)\n",
    "\n",
    "initial_pose = np.linalg.inv(poses[0]) \n",
    "\n",
    "poses_timestamps = seconds * 10e9 + nano_seconds\n",
    "poses = np.einsum(\"ij,njk->nik\", np.linalg.inv(poses[0]), poses)"
   ]
  },
  {
   "cell_type": "code",
   "execution_count": null,
   "id": "3df51e98",
   "metadata": {},
   "outputs": [],
   "source": [
    "from matplotlib import pyplot as plt\n",
    "fig, ax = plt.subplots()\n",
    "\n",
    "fwd_vel = np.sqrt(np.diff(poses[:,0,3])**2 + np.diff(poses[:,1,3])**2)\n",
    "ax.plot(fwd_vel)"
   ]
  },
  {
   "cell_type": "markdown",
   "id": "64e1823d",
   "metadata": {},
   "source": [
    "## Regsiter Raw Clouds i, j, and HD Map centered on origin of i "
   ]
  },
  {
   "cell_type": "code",
   "execution_count": null,
   "id": "4628f60a",
   "metadata": {
    "scrolled": false
   },
   "outputs": [],
   "source": [
    "# idx = 2700 #2650 #2000 - 3000 is the running and swinging loop\n",
    "# skip = 5 #how many lidar frames between clouds\n",
    "# # (need to deal with how there are more LIDAR frames than ground truth poses)\n",
    "# offset = 11 #10 #11  #works best for 05 dataset\n",
    "# fn1 = \"/media/derm/06EF-127D3/Newer College Dataset/05_Quad_With_Dynamics/point_clouds/frame_\" + str(idx + offset) + \".npy\"\n",
    "# fn2 = \"/media/derm/06EF-127D3/Newer College Dataset/05_Quad_With_Dynamics/point_clouds/frame_\" + str(idx + skip + offset) + \".npy\"\n",
    "\n",
    "idx = 990 #1080 #950 #fast motion\n",
    "# idx = 116 #slow distortion, very accurate solution\n",
    "skip = 1 #how many lidar frames between clouds\n",
    "offset = 1 #2 #figured out through guess and check (brutal) #1 aligns end of scan (11:00), 2 aligns front (1:00)\n",
    "fn1 = \"/media/derm/06EF-127D3/Newer College Dataset/06_Dynamic_Spinning/point_clouds/frame_\" + str(idx + offset) + \".npy\"\n",
    "fn2 = \"/media/derm/06EF-127D3/Newer College Dataset/06_Dynamic_Spinning/point_clouds/frame_\" + str(idx + skip + offset) + \".npy\"\n",
    "\n",
    "pc1 = np.load(fn1)\n",
    "pc2 = np.load(fn2)\n",
    "\n",
    "plt = Plotter(N = 1, axes = 1, bg = (1, 1, 1), interactive = True) #axes = 4 (simple), 1(scale)\n",
    "disp=[]\n",
    "\n",
    "#apply homogeneous transform matrix\n",
    "scan1_mapframe = (poses[idx] @ np.append(pc1, np.ones([len(pc1),1]), axis=1).T).T  \n",
    "scan2_mapframe = (poses[idx+skip] @ np.append(pc2, np.ones([len(pc2),1]), axis=1).T).T\n",
    "submap_mapframe = (initial_pose @ np.append(submap, np.ones([len(submap),1]), axis =1).T).T\n",
    "\n",
    "#Rotate scans to align beginning of each scan with +X axis ----------\n",
    "#IMPORTANT: Need to do this for <06 Dynamic Spinning> but NOT for <05 Quad With Dynamics> \n",
    "#           this is becuase overall trajectory begins at 05 (at least I think that's why)\n",
    "#Need to do this before applying 12-State ICET since it relies on frame beginning at +X axis\n",
    "scan1_mapframe = (np.linalg.pinv(poses[idx]) @ scan1_mapframe.T).T \n",
    "scan2_mapframe = (np.linalg.pinv(poses[idx]) @ scan2_mapframe.T).T\n",
    "submap_mapframe = (np.linalg.pinv(poses[idx]) @ submap_mapframe.T).T\n",
    "#--------------------------------------------------------------------\n",
    "\n",
    "#remove 4th column and center first scan about origin\n",
    "scan1_lidarframe = scan1_mapframe[:,:3] - poses[idx][:3,3]\n",
    "scan2_lidarframe = scan2_mapframe[:,:3] - poses[idx][:3,3]\n",
    "submap_lidarframe = submap_mapframe[:,:3] - poses[idx][:3,3]\n",
    "\n",
    "#COLOR SCAN1 POINTS BY ORDER IN CLOUD\n",
    "color = 255*np.linspace(0,1,len(scan1_lidarframe))\n",
    "cname = np.array([255-color//2, color, 255-color]).T.tolist()\n",
    "disp.append(Points(scan1_lidarframe, c = cname, r = 3, alpha = 1))\n",
    "\n",
    "# # DRAW SCANS 1, 2\n",
    "# disp.append(Points(scan1_lidarframe, c = '#a65852', r = 3)) #red\n",
    "# disp.append(Points(scan2_lidarframe, c = '#2c7c94', r = 3)) #blue\n",
    "\n",
    "disp.append(Points(submap_lidarframe, c = \"black\", r = 2, alpha = 0.05)) ##CB2314\n",
    "plt.show(disp, \"06 Dynamic Spinning Frame #\" + str(idx))\n",
    "ViewInteractiveWidget(plt.window)\n"
   ]
  },
  {
   "cell_type": "markdown",
   "id": "aebd331b",
   "metadata": {},
   "source": [
    "## Run 12-State ICET"
   ]
  },
  {
   "cell_type": "code",
   "execution_count": null,
   "id": "3db3b5de",
   "metadata": {
    "scrolled": true
   },
   "outputs": [],
   "source": [
    "from linear_corrector import LC\n",
    "A0 = np.array([0., 0, 0, 0, 0, 0,\n",
    "               0, 0, 0, 0, 0, 0])\n",
    "max_buffer = 2.5 #0.5 #was 2.5\n",
    "\n",
    "# #add initial offset for LIDAR scan\n",
    "# trans = np.array([0.5, 0.0, 0.1])\n",
    "# scan1_lidarframe += trans\n",
    "\n",
    "# #scan to submap\n",
    "# dc = LC(cloud1 = submap_lidarframe, cloud2 = scan1_lidarframe, fid = 80, niter = 100, \n",
    "#         draw = True, mnp = 25, RM = False, solver = '12_state', \n",
    "#         max_buffer = max_buffer, A0 = A0)\n",
    "\n",
    "# scan to scan\n",
    "dc = LC(cloud1 = scan1_lidarframe, cloud2 = scan2_lidarframe, fid = 50, niter = 10, \n",
    "        draw = True, mnp = 25, RM = False, solver = '12_state', \n",
    "        max_buffer = 2.5, A0 = A0)\n",
    "\n",
    "ViewInteractiveWidget(dc.plt.window)"
   ]
  },
  {
   "cell_type": "markdown",
   "id": "b290dcd7",
   "metadata": {},
   "source": [
    "## Calculate chamfer distance before and after rectification on single frame\n",
    "\n",
    "#### From the GitHub README:\n",
    "Here, dist is the Chamfer distance between source_cloud and target_cloud. Note that Chamfer distance is not bidirectional (and, in stricter parlance, it is not a distance metric).\n",
    "https://github.com/krrish94/chamferdist/tree/master"
   ]
  },
  {
   "cell_type": "code",
   "execution_count": null,
   "id": "c341f9a5",
   "metadata": {},
   "outputs": [],
   "source": [
    "import torch\n",
    "from chamferdist import ChamferDistance\n",
    "\n",
    "chamferDist = ChamferDistance()\n",
    "\n",
    "source_cloud_OG = torch.from_numpy(dc.cloud2_tensor_OG.numpy())[None,:,:] #OG scan\n",
    "source_cloud_trans = torch.from_numpy(dc.cloud2_tensor.numpy())[None,:,:] #transformed scan\n",
    "\n",
    "#need to downsample to keep runtime down\n",
    "target_cloud = torch.from_numpy(submap_lidarframe[::10,:3].astype(np.float32))[None,:,:] #faster but slightly less accurate?\n",
    "# target_cloud = torch.from_numpy(submap_lidarframe.astype(np.float32))[None,:,:] # tAkEs SooOoOO LoNg tO run...\n",
    "\n",
    "\n",
    "dist_forward_OG = chamferDist(source_cloud_OG, target_cloud)\n",
    "print(\"Chamfer Distance OG: \\n:\", dist_forward_OG.detach().cpu().item())\n",
    "dist_forward_trans = chamferDist(source_cloud_trans, target_cloud)\n",
    "print(\"Chamfer Distance after transform: \\n:\", dist_forward_trans.detach().cpu().item())\n",
    "\n",
    "print(\"\\n Normalized OG CD: \\n\", dist_forward_OG/len(dc.cloud2_tensor))\n",
    "print(\"\\n Normalized transformed CD: \\n\", dist_forward_trans/len(dc.cloud2_tensor))"
   ]
  },
  {
   "cell_type": "markdown",
   "id": "1ab971cf",
   "metadata": {},
   "source": [
    "# Load LOAM Results"
   ]
  },
  {
   "cell_type": "code",
   "execution_count": 35,
   "id": "f50ef4bb",
   "metadata": {},
   "outputs": [
    {
     "name": "stdout",
     "output_type": "stream",
     "text": [
      "(1650, 6)\n"
     ]
    },
    {
     "data": {
      "application/vnd.jupyter.widget-view+json": {
       "model_id": "4abb303ede254107b20319bd9a7c4367",
       "version_major": 2,
       "version_minor": 0
      },
      "text/plain": [
       "ViewInteractiveWidget(height=1043, layout=Layout(height='auto', width='100%'), width=1280)"
      ]
     },
     "metadata": {},
     "output_type": "display_data"
    }
   ],
   "source": [
    "# fn = \"results/LOAM/05_test1.npy\" #before I got mapmaker working\n",
    "# fn = \"results/LOAM/05_test2.npy\" #before I got mapmaker working\n",
    "fn = \"results/LOAM/05_test3.npy\" # 05_01 after reinstalling EVERYTHING and compiling pcl-1.10 from source\n",
    "\n",
    "LOAM_traj = np.load(fn)\n",
    "# LOAM_traj = np.diff(np.load(fn))\n",
    "print(np.shape(LOAM_traj))\n",
    "\n",
    "plt = Plotter(N = 1, axes = 1, bg = (1, 1, 1), interactive = True) #axes = 4\n",
    "disp=[]\n",
    "disp.append(Points(LOAM_traj[:,:3], c = 'black', r = 3, alpha = 0.5))  \n",
    "plt.show(disp, \"HD Map\")\n",
    "ViewInteractiveWidget(plt.window)\n",
    "\n",
    "# from matplotlib import pyplot as plt\n",
    "# fig, ax = plt.subplots()\n",
    "# ax.plot(LOAM_traj[:,0], label = \"x\")\n",
    "# ax.plot(LOAM_traj[:,1], label = \"y\")\n",
    "# ax.plot(LOAM_traj[:,2], label = \"z\")\n",
    "# ax.legend(loc=\"best\")\n"
   ]
  },
  {
   "cell_type": "markdown",
   "id": "d832855c",
   "metadata": {},
   "source": [
    "# Calculate Chamfer Distance for 100 frame sequence: $\\textit{Dynamic Spinning}$ Trajectory\n",
    "\n",
    "Returns results for:\n",
    "\n",
    "\"ground truth\" --> CD when using ground truth poses provided by creators of the dataset\n",
    "\n",
    "\"Rigid ICET\" --> ICET/ NDT registration of raw point clouds with no motion compensation\n",
    "\n",
    "VICET --> Our proposed method"
   ]
  },
  {
   "cell_type": "code",
   "execution_count": null,
   "id": "c2a3c762",
   "metadata": {
    "scrolled": true
   },
   "outputs": [],
   "source": [
    "runlen = 100 #100\n",
    "start_idx = 950 #beginning of 10s of chaotic motion\n",
    "\n",
    "raw_CD_hist = np.zeros(runlen)\n",
    "VICET_CD_hist = np.zeros(runlen)\n",
    "rigid_ICET_CD_hist = np.zeros(runlen)\n",
    "\n",
    "for idx in range(runlen):\n",
    "    \n",
    "    print(\"\\n \\n Frame #\", idx + start_idx, \"\\n \\n\")\n",
    "    \n",
    "    #     get point cloud and initial transform -------------------------\n",
    "    offset = 1 #2 #figured out through guess and check (brutal) #1 aligns end of scan (11:00), 2 aligns front (1:00)\n",
    "    fn1 = \"/media/derm/06EF-127D3/Newer College Dataset/06_Dynamic_Spinning/point_clouds/frame_\" + str(start_idx + idx + offset) + \".npy\"\n",
    "    pc1 = np.load(fn1)\n",
    "\n",
    "    #apply homogeneous transform matrix\n",
    "    scan1_mapframe = (poses[start_idx + idx] @ np.append(pc1, np.ones([len(pc1),1]), axis=1).T).T  \n",
    "    submap_mapframe = (initial_pose @ np.append(submap, np.ones([len(submap),1]), axis =1).T).T\n",
    "\n",
    "    #Rotate scans to align beginning of each scan with +X axis ~~~~~~~~~\n",
    "    #IMPORTANT: Need to do this for <06 Dynamic Spinning> but NOT for <05 Quad With Dynamics> \n",
    "    #           this is becuase overall trajectory begins at 05 (at least I think that's why)\n",
    "    #Need to do this before applying 12-State ICET since it relies on frame beginning at +X axis\n",
    "    scan1_mapframe = (np.linalg.pinv(poses[start_idx + idx]) @ scan1_mapframe.T).T \n",
    "    submap_mapframe = (np.linalg.pinv(poses[start_idx + idx]) @ submap_mapframe.T).T\n",
    "    #~~~~~~~~~~~~~~~~~~~~~~~~~~~~~~~~~~~~~~~~~~~~~~~~~~~~~~~~~~~~~~~~~~~~\n",
    "\n",
    "    #remove 4th column and center first scan about origin\n",
    "    scan1_lidarframe = scan1_mapframe[:,:3] - poses[start_idx + idx][:3,3]\n",
    "    submap_lidarframe = submap_mapframe[:,:3] - poses[start_idx + idx][:3,3]\n",
    "    \n",
    "    # Run VICET ----------------------------------------------------------\n",
    "    A0 = np.array([0., 0, 0, 0, 0, 0,\n",
    "               0, 0, 0, 0, 0, 0])\n",
    "    max_buffer = 2.5 #0.5 #was 2.5 for toy problem\n",
    "    try:\n",
    "        #scan to submap\n",
    "        dc = LC(cloud1 = submap_lidarframe, cloud2 = scan1_lidarframe, fid = 80, niter = 100, \n",
    "                draw = False, mnp = 25, RM = False, solver = '12_state', \n",
    "                max_buffer = max_buffer, A0 = A0)\n",
    "    except:\n",
    "        pass\n",
    "    \n",
    "    #run ICET ------------------------------------------------------------\n",
    "    \n",
    "    it = ICET(cloud1 = submap_lidarframe, cloud2 = scan1_lidarframe, fid = 50, niter = 15, \n",
    "           draw = False, group = 2, RM = False, DNN_filter = False)#, x0 = initial_guess)\n",
    "    \n",
    "    # Calculate CD for raw, ICET, VICET --------------------------\n",
    "    source_cloud_OG = torch.from_numpy(dc.cloud2_tensor_OG.numpy())[None,:,:] #OG scan\n",
    "    source_cloud_VICET = torch.from_numpy(dc.cloud2_tensor.numpy())[None,:,:] #VICET\n",
    "    source_cloud_ICET = torch.from_numpy(it.cloud2_tensor.numpy())[None,:,:] #rigid ICET\n",
    "    \n",
    "    #need to downsample to keep runtime down\n",
    "    target_cloud = torch.from_numpy(submap_lidarframe[::10,:3].astype(np.float32))[None,:,:] \n",
    "\n",
    "    dist_forward_OG = chamferDist(source_cloud_OG, target_cloud)\n",
    "    print(\"Chamfer Distance OG: \\n:\", dist_forward_OG.detach().cpu().item())\n",
    "    dist_forward_VICET = chamferDist(source_cloud_VICET, target_cloud)\n",
    "    print(\"Chamfer Distance after VICET: \\n:\", dist_forward_VICET.detach().cpu().item())\n",
    "    dist_forward_ICET = chamferDist(source_cloud_ICET, target_cloud)\n",
    "    print(\"Chamfer Distance after ICET: \\n:\", dist_forward_ICET.detach().cpu().item())\n",
    "\n",
    "    print(\"\\n Normalized OG CD: \\n\", dist_forward_OG/len(dc.cloud2_tensor))\n",
    "    print(\"\\n Normalized VICET CD: \\n\", dist_forward_VICET/len(dc.cloud2_tensor))\n",
    "    print(\"\\n Normalized ICET CD: \\n\", dist_forward_ICET/len(dc.cloud2_tensor))    \n",
    "    \n",
    "    raw_CD_hist[idx] = dist_forward_OG/len(dc.cloud2_tensor)\n",
    "    rigid_ICET_CD_hist[idx] = dist_forward_ICET/len(it.cloud2_tensor)\n",
    "    VICET_CD_hist[idx] = dist_forward_VICET/len(dc.cloud2_tensor)\n",
    "    "
   ]
  },
  {
   "cell_type": "code",
   "execution_count": null,
   "id": "199541f8",
   "metadata": {},
   "outputs": [],
   "source": [
    "# np.savetxt(\"results/raw_CD_06_950_v2.txt\", raw_CD_hist)\n",
    "# np.savetxt(\"results/ICET_CD_06_950_v2.txt\", rigid_ICET_CD_hist)\n",
    "# np.savetxt(\"results/VICET_CD_06_950_v2.txt\", VICET_CD_hist)\n",
    "\n",
    "# rigid_ICET_CD_hist = np.loadtxt(\"results/ICET_CD_06_950.txt\")\n",
    "# VICET_CD_hist = np.loadtxt(\"results/VICET_CD_06_950.txt\")\n",
    "\n",
    "# #throw out obvious outliers\n",
    "# bad_idx = np.where(VICET_CD_hist > raw_CD_hist)\n",
    "# VICET_CD_hist[bad_idx] = raw_CD_hist[bad_idx]\n",
    "# bad_idx = np.where(rigid_ICET_CD_hist > raw_CD_hist)\n",
    "# rigid_ICET_CD_hist[bad_idx] = raw_CD_hist[bad_idx]\n",
    "\n",
    "VICET_CD_hist[VICET_CD_hist == 0.1 ] = 0.3\n",
    "\n",
    "from matplotlib import pyplot as plt\n",
    "fig, ax = plt.subplots()\n",
    "ax.plot(raw_CD_hist, label = \"Provided Ground Truth Rigid Transform\")\n",
    "ax.plot(rigid_ICET_CD_hist, label = \"ICET\")\n",
    "ax.plot(VICET_CD_hist, label = \"VICET\")\n",
    "ax.legend(loc = 'best')"
   ]
  },
  {
   "cell_type": "code",
   "execution_count": null,
   "id": "12843816",
   "metadata": {},
   "outputs": [],
   "source": [
    "print(\"\\n provided Ground Truth:\", np.mean(raw_CD_hist))\n",
    "print(\"\\n ICET:\", np.mean(rigid_ICET_CD_hist))\n",
    "print(\"\\n VICET:\",np.mean(VICET_CD_hist))"
   ]
  },
  {
   "cell_type": "markdown",
   "id": "9f35e6dd",
   "metadata": {},
   "source": [
    "# Calculate Chamfer Distance over 1000 frames in $\\textit{Quad With Dynamics}$ "
   ]
  },
  {
   "cell_type": "code",
   "execution_count": null,
   "id": "5c258d95",
   "metadata": {},
   "outputs": [],
   "source": [
    "runlen = 10 #100\n",
    "start_idx = 2700 #2000 #one full loop running around the quad\n",
    "\n",
    "raw_CD_hist = np.zeros(runlen)\n",
    "VICET_CD_hist = np.zeros(runlen)\n",
    "rigid_ICET_CD_hist = np.zeros(runlen)\n",
    "\n",
    "err_hist = np.zeros(runlen)\n",
    "\n",
    "for idx in range(runlen):\n",
    "    \n",
    "    print(\"\\n \\n Frame #\", idx + start_idx, \"\\n \\n\")\n",
    "    \n",
    "    #     get point cloud and initial transform -------------------------\n",
    "    offset = 1 #2 #figured out through guess and check (brutal) #1 aligns end of scan (11:00), 2 aligns front (1:00)\n",
    "    fn1 = \"/media/derm/06EF-127D3/Newer College Dataset/05_Quad_With_Dynamics/point_clouds/frame_\" + str(start_idx + idx + offset) + \".npy\"\n",
    "    pc1 = np.load(fn1)\n",
    "\n",
    "    #apply homogeneous transform matrix\n",
    "    scan1_mapframe = (poses[start_idx + idx] @ np.append(pc1, np.ones([len(pc1),1]), axis=1).T).T  \n",
    "    submap_mapframe = (initial_pose @ np.append(submap, np.ones([len(submap),1]), axis =1).T).T\n",
    "\n",
    "#     #Rotate scans to align beginning of each scan with +X axis ~~~~~~~~~\n",
    "#     #IMPORTANT: Need to do this for <06 Dynamic Spinning> but NOT for <05 Quad With Dynamics> \n",
    "#     #           this is becuase overall trajectory begins at 05 (at least I think that's why)\n",
    "#     #Need to do this before applying 12-State ICET since it relies on frame beginning at +X axis\n",
    "#     scan1_mapframe = (np.linalg.pinv(poses[start_idx + idx]) @ scan1_mapframe.T).T \n",
    "#     submap_mapframe = (np.linalg.pinv(poses[start_idx + idx]) @ submap_mapframe.T).T\n",
    "#     #~~~~~~~~~~~~~~~~~~~~~~~~~~~~~~~~~~~~~~~~~~~~~~~~~~~~~~~~~~~~~~~~~~~~\n",
    "\n",
    "    #remove 4th column and center first scan about origin\n",
    "    scan1_lidarframe = scan1_mapframe[:,:3] - poses[start_idx + idx][:3,3]\n",
    "    submap_lidarframe = submap_mapframe[:,:3] - poses[start_idx + idx][:3,3]\n",
    "    \n",
    "    # Run VICET ----------------------------------------------------------\n",
    "    A0 = np.array([0., 0, 0, 0, 0, 0,\n",
    "               0, 0, 0, 0, 0, 0])\n",
    "    max_buffer = 0.5 #0.5 #was 2.5 for toy problem\n",
    "    try:\n",
    "        #scan to submap\n",
    "        dc = LC(cloud1 = submap_lidarframe, cloud2 = scan1_lidarframe, fid = 50, niter = 20, \n",
    "                draw = False, mnp = 25, RM = False, solver = '12_state', \n",
    "                max_buffer = max_buffer, A0 = A0)\n",
    "    except:\n",
    "        err_hist[idx] = 1\n",
    "    \n",
    "    #run ICET ------------------------------------------------------------\n",
    "    \n",
    "    it = ICET(cloud1 = submap_lidarframe, cloud2 = scan1_lidarframe, fid = 50, niter = 10, \n",
    "           draw = False, group = 2, RM = False, DNN_filter = False)#, x0 = initial_guess)\n",
    "    \n",
    "    # Calculate CD for raw, ICET, VICET --------------------------\n",
    "    source_cloud_OG = torch.from_numpy(dc.cloud2_tensor_OG.numpy())[None,:,:] #OG scan\n",
    "    source_cloud_VICET = torch.from_numpy(dc.cloud2_tensor.numpy())[None,:,:] #VICET\n",
    "    source_cloud_ICET = torch.from_numpy(it.cloud2_tensor.numpy())[None,:,:] #rigid ICET\n",
    "    \n",
    "    #need to downsample to keep runtime down\n",
    "    every_nth = 10\n",
    "    target_cloud = torch.from_numpy(submap_lidarframe[::10,:3].astype(np.float32))[None,:,:] \n",
    "    \n",
    "    dist_forward_OG = chamferDist(source_cloud_OG, target_cloud)\n",
    "    print(\"Chamfer Distance OG: \\n:\", dist_forward_OG.detach().cpu().item())\n",
    "    dist_forward_VICET = chamferDist(source_cloud_VICET, target_cloud)\n",
    "    print(\"Chamfer Distance after VICET: \\n:\", dist_forward_VICET.detach().cpu().item())\n",
    "    dist_forward_ICET = chamferDist(source_cloud_ICET, target_cloud)\n",
    "    print(\"Chamfer Distance after ICET: \\n:\", dist_forward_ICET.detach().cpu().item())\n",
    "\n",
    "    print(\"\\n Normalized OG CD: \\n\", dist_forward_OG/len(dc.cloud2_tensor))\n",
    "    print(\"\\n Normalized VICET CD: \\n\", dist_forward_VICET/len(dc.cloud2_tensor))\n",
    "    print(\"\\n Normalized ICET CD: \\n\", dist_forward_ICET/len(dc.cloud2_tensor))    \n",
    "    \n",
    "    raw_CD_hist[idx] = dist_forward_OG/len(dc.cloud2_tensor)\n",
    "    rigid_ICET_CD_hist[idx] = dist_forward_ICET/len(it.cloud2_tensor)\n",
    "    VICET_CD_hist[idx] = dist_forward_VICET/len(dc.cloud2_tensor)\n",
    "    "
   ]
  },
  {
   "cell_type": "code",
   "execution_count": null,
   "id": "9e494a2d",
   "metadata": {},
   "outputs": [],
   "source": [
    "# np.savetxt(\"results/raw_CD_05.txt\", raw_CD_hist)\n",
    "# np.savetxt(\"results/ICET_CD_05.txt\", rigid_ICET_CD_hist)\n",
    "# np.savetxt(\"results/VICET_CD_05.txt\", VICET_CD_hist)\n",
    "\n",
    "from matplotlib import pyplot as plt\n",
    "fig, ax = plt.subplots()\n",
    "ax.plot(raw_CD_hist, label = \"Provided Ground Truth Rigid Transform\")\n",
    "ax.plot(rigid_ICET_CD_hist, label = \"ICET\")\n",
    "ax.plot(VICET_CD_hist, label = \"VICET\")\n",
    "ax.legend(loc = 'best')\n",
    "\n",
    "print(err_hist)"
   ]
  },
  {
   "cell_type": "code",
   "execution_count": null,
   "id": "347d7ed3",
   "metadata": {},
   "outputs": [],
   "source": [
    "print(\"\\n provided Ground Truth:\", np.mean(raw_CD_hist))\n",
    "print(\"\\n ICET:\", np.mean(rigid_ICET_CD_hist))\n",
    "print(\"\\n VICET:\",np.mean(VICET_CD_hist))"
   ]
  },
  {
   "cell_type": "code",
   "execution_count": null,
   "id": "5238c21c",
   "metadata": {},
   "outputs": [],
   "source": [
    "#debug is cloud wrapping around >>360deg???\n",
    "from matplotlib import pyplot as plt\n",
    "fig, ax = plt.subplots()\n",
    "\n",
    "y = dc.yaw_angs\n",
    "yaw_angs_scaled = (y + 2*np.pi)%(2*np.pi)\n",
    "# ax.plot(dc.yaw_angs, label = \"raw (causing bug??)\")\n",
    "ax.plot(yaw_angs_scaled, label=\"new\")\n",
    "\n",
    "#get indices len(yaw_angs_scaled)//8 where yaw_angs_scaled is less than pi  \n",
    "problem_idx = np.argwhere(yaw_angs_scaled[:len(yaw_angs_scaled)//8] < np.pi)\n",
    "all_idx = np.linspace(0,len(yaw_angs_scaled)-1, len(yaw_angs_scaled))\n",
    "good_idx = np.setdiff1d(all_idx, problem_idx).astype(np.int32)\n",
    "ax.plot(yaw_angs_scaled[problem_idx])\n",
    "ax.plot(good_idx, yaw_angs_scaled[good_idx])\n",
    "\n",
    "# ax.plot(dc.yaw_angs, label = \"raw (causing bug??)\")\n",
    "# ax.plot(ordered_yaw_angs, label = \"raw (causing bug??)\")\n",
    "# ordered_yaw_angs = (dc.yaw_angs[np.argsort(dc.yaw_angs)] + np.pi) % (2*np.pi)\n",
    "ax.set_title(\"yaw angles per beam, newer college dataset\")\n",
    "ax.legend(loc=\"best\")"
   ]
  },
  {
   "cell_type": "code",
   "execution_count": null,
   "id": "673df8a3",
   "metadata": {},
   "outputs": [],
   "source": [
    "#debug: try applying arbitrary motion profile scan to try and replicate discontinuity bug \n",
    "plt = Plotter(N = 1, axes = 1, bg = (1, 1, 1), interactive = True) #axes = 4 (simple), 1(scale)\n",
    "disp=[]\n",
    "\n",
    "\n",
    "m_hat = np.array([10., 0., 0., 0., 0., 0.])\n",
    "\n",
    "scan1_distorted = dc.apply_motion_profile(scan1_lidarframe, m_hat)\n",
    "\n",
    "\n",
    "disp.append(Points(scan1_lidarframe, c = \"red\", r = 3, alpha = 0.2)) ##CB2314\n",
    "disp.append(Points(scan1_distorted, c = \"blue\", r = 3, alpha = 0.2)) ##CB2314\n",
    "disp.append(Points(submap_lidarframe, c = \"black\", r = 2, alpha = 0.05)) ##CB2314\n",
    "\n",
    "plt.show(disp, \"06 Dynamic Spinning Frame #\" + str(idx))\n",
    "ViewInteractiveWidget(plt.window)\n"
   ]
  },
  {
   "cell_type": "code",
   "execution_count": null,
   "id": "b3f52a29",
   "metadata": {},
   "outputs": [],
   "source": [
    "#DEBUG: shuffling points in cloud 2 at the beginning produces bug, however, need to randomize \n",
    "#       which points are selected when fitting guassian\n",
    "\n",
    "# print(dc.inside2.bounding_shape())\n",
    "test = dc.fit_gaussian(dc.cloud2_tensor, dc.inside2, tf.cast(dc.npts2, tf.float32))\n",
    "# print(test)\n",
    "# print(tf.shape(dc.cloud2_tensor))\n",
    "# print(dc.inside2[100])\n",
    "\n",
    "#GOAL: shuffle ragged tensor <inside2>\n",
    "digits = tf.ragged.constant([[1,2,3],[],[3,4],[4,5,6,7]])\n",
    "print(digits)\n",
    "a = tf.random.shuffle(tf.range(digits.shape[0]))\n",
    "b = tf.reshape(a, (digits.shape[0], 1))\n",
    "shuffledDigits = tf.gather_nd(digits, b)\n",
    "print(shuffledDigits)\n",
    "\n",
    "print(dc.inside2.bounding_shape())"
   ]
  },
  {
   "cell_type": "markdown",
   "id": "8f3d24df",
   "metadata": {},
   "source": [
    "## Run Rigid (6-State) ICET"
   ]
  },
  {
   "cell_type": "code",
   "execution_count": null,
   "id": "f6beeac3",
   "metadata": {
    "scrolled": true
   },
   "outputs": [],
   "source": [
    "it = ICET(cloud1 = scan1_lidarframe, cloud2 = submap_lidarframe, fid = 50, niter = 25, \n",
    "           draw = True, group = 2, RM = False, DNN_filter = False)#, x0 = initial_guess)\n",
    "print(\"\\n predicted standard deviations of error: \\n\", it.pred_stds)\n",
    "ViewInteractiveWidget(it.plt.window)"
   ]
  },
  {
   "cell_type": "code",
   "execution_count": null,
   "id": "6fbaaeff",
   "metadata": {},
   "outputs": [],
   "source": [
    "print(it.cloud2_tensor.numpy())"
   ]
  },
  {
   "cell_type": "code",
   "execution_count": null,
   "id": "fb9b3f5b",
   "metadata": {},
   "outputs": [],
   "source": [
    "test = dc.cloud1_tensor_spherical\n",
    "print(test)\n",
    "\n",
    "# test2 = tf.gather(tf.)\n",
    "\n",
    "smaller = tf.where(test[:,1] < 0.5)\n",
    "print(smaller)\n",
    "bigger = tf.where(test[:,1] > 0.4)\n",
    "test2 = tf.sets.intersection(tf.transpose(smaller),tf.transpose(bigger))\n",
    "print(test2.values)\n",
    "\n",
    "print(tf.gather(test, test2.values))"
   ]
  },
  {
   "cell_type": "code",
   "execution_count": null,
   "id": "5b172395",
   "metadata": {
    "scrolled": false
   },
   "outputs": [],
   "source": [
    "#transform LIDAR scan to align with HD Map -- not what we want\n",
    "plt = Plotter(N = 1, axes = 1, bg = (1, 1, 1), interactive = True) #axes = 4\n",
    "disp=[]\n",
    "# draw in red\n",
    "disp.append(Points(submap, c = \"#CB2314\", r = 2, alpha = 0.1))  \n",
    "\n",
    "# #matt's attempt:\n",
    "# rot_m = R.from_quat(gt[idx,5:]).as_matrix()\n",
    "# newscan_mapframe = (pc1 @ rot_m) + gt[idx,2:5]\n",
    "# disp.append(Points(newscan_mapframe, c = 'blue',r = 2))\n",
    "\n",
    "#kitware code\n",
    "newscan_mapframe = (poses[idx] @ np.append(pc1, np.zeros([len(pc1),1]), axis=1).T).T\n",
    "print(newscan_mapframe)\n",
    "disp.append(Points(newscan_mapframe[:,:3], c = 'blue',r = 2))\n",
    "\n",
    "#draw trajectory of platform according to <gt>\n",
    "disp.append(Points(gt[2200:3000,2:5], r=3))#, alpha = 0.2))\n",
    "disp.append(Points(gt[idx+offset,2:5][None,:], r=10, c = 'red'))\n",
    "\n",
    "#draw arrows showing heading\n",
    "for i in range(50):\n",
    "    rot_m = R.from_quat(gt[i*20,5:]).as_matrix()\n",
    "    arrow_end = gt[i*20,2:5] + rot_m @ np.array([2.,0.,0.])\n",
    "    disp.append(Arrow(gt[i*20,2:5], arrow_end, c='red'))\n",
    "\n",
    "plt.show(disp, \"HD Map\")\n",
    "ViewInteractiveWidget(plt.window)\n"
   ]
  },
  {
   "cell_type": "code",
   "execution_count": null,
   "id": "a5644d21",
   "metadata": {},
   "outputs": [],
   "source": [
    "#DEBUG\n",
    "from matplotlib import pyplot as plt\n",
    "\n",
    "euls = np.zeros([len(gt), 3])\n",
    "\n",
    "for i in range(len(gt)):\n",
    "    euls[i, :] = R.from_quat(gt[i,5:]).as_euler('xyz')\n",
    "\n",
    "fig, ax = plt.subplots()\n",
    "ax.plot(euls[:,2])\n",
    "\n",
    "# ax.plot(gt[:,2:4])\n",
    "# ax.plot(gt[:,0])"
   ]
  },
  {
   "cell_type": "code",
   "execution_count": null,
   "id": "d885fefe",
   "metadata": {},
   "outputs": [],
   "source": [
    "# #transform HD Map to align with lidar frame\n",
    "# plt = Plotter(N = 1, axes = 1, bg = (1, 1, 1), interactive = True) #axes = 4\n",
    "# disp=[]\n",
    "\n",
    "# # rot_m = R.from_quat(gt[idx,5:]).as_matrix() #nope\n",
    "\n",
    "# rot = R.from_quat(gt[:,5:]).as_euler('xyz')\n",
    "# rot -= rot[0]\n",
    "# rot[:,2] = -rot[:,2]\n",
    "# # print(rot)\n",
    "# rot_m = R.from_euler('xyz', rot[idx]).as_matrix()\n",
    "\n",
    "# map_trans = (submap - gt[idx, 2:5]) @ rot_m\n",
    "# disp.append(Points(pc1, c = 'blue', r = 3))\n",
    "# # disp.append(Points(pc1[:(len(pc1)//2)], c = 'blue', r = 3))\n",
    "# # disp.append(Points(pc1[(len(pc1)//2):], c = 'blue', r = 3, alpha = 0.2))\n",
    "\n",
    "# #draw axis for world frame\n",
    "# disp.append(Arrow([0,0,0], [2,0,0], c = 'red'))\n",
    "# disp.append(Arrow([0,0,0], [0,2,0], c = 'green'))\n",
    "# disp.append(Arrow([0,0,0], [0,0,2], c = 'blue'))\n",
    "# #draw axis for world frame transformed by rot_m\n",
    "# disp.append(Arrow([0,0,0], [2,0,0] @ rot_m, c = 'red', alpha = 0.2))\n",
    "# disp.append(Arrow([0,0,0], [0,2,0] @ rot_m, c = 'green', alpha = 0.2))\n",
    "# disp.append(Arrow([0,0,0], [0,0,2] @ rot_m, c = 'blue', alpha = 0.2))\n",
    "\n",
    "\n",
    "# disp.append(Points(np.array([[0.,0.,0.]]), c = 'purple', r =10))\n",
    "\n",
    "# disp.append(Points(map_trans, c = 'red', r = 2, alpha = 0.2))\n",
    "# plt.show(disp, \"HD Map\")\n",
    "# ViewInteractiveWidget(plt.window)"
   ]
  },
  {
   "cell_type": "code",
   "execution_count": null,
   "id": "e2bb1683",
   "metadata": {},
   "outputs": [],
   "source": [
    "# newscan_mapframe = np.append(pc1, np.zeros([len(pc1),1]), axis=1)\n",
    "# newscan_mapframe = poses[1] @ newscan_mapframe.T\n",
    "# print(newscan_mapframe.T)"
   ]
  },
  {
   "cell_type": "code",
   "execution_count": null,
   "id": "cb206bdb",
   "metadata": {},
   "outputs": [],
   "source": [
    "# print(rot)\n",
    "# rot_m @ np.array([0.,0.,0.])"
   ]
  },
  {
   "cell_type": "code",
   "execution_count": null,
   "id": "768f27e4",
   "metadata": {},
   "outputs": [],
   "source": [
    "# map_trans = (submap - gt[idx, 2:5]) @ rot_m\n",
    "\n",
    "# it = ICET(cloud1 = pc1, cloud2 = map_trans, fid = 50, niter = 5, \n",
    "#            draw = True, group = 2, RM = False, DNN_filter = False)#, x0 = initial_guess)\n",
    "# print(\"\\n predicted standard deviations of error: \\n\", it.pred_stds)\n",
    "# ViewInteractiveWidget(it.plt.window)"
   ]
  },
  {
   "cell_type": "code",
   "execution_count": null,
   "id": "d3367d7f",
   "metadata": {},
   "outputs": [],
   "source": []
  },
  {
   "cell_type": "code",
   "execution_count": null,
   "id": "28285b7b",
   "metadata": {},
   "outputs": [],
   "source": []
  }
 ],
 "metadata": {
  "kernelspec": {
   "display_name": "Python 3 (ipykernel)",
   "language": "python",
   "name": "python3"
  },
  "language_info": {
   "codemirror_mode": {
    "name": "ipython",
    "version": 3
   },
   "file_extension": ".py",
   "mimetype": "text/x-python",
   "name": "python",
   "nbconvert_exporter": "python",
   "pygments_lexer": "ipython3",
   "version": "3.9.13"
  }
 },
 "nbformat": 4,
 "nbformat_minor": 5
}
