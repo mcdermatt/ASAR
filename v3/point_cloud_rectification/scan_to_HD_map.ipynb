{
 "cells": [
  {
   "cell_type": "markdown",
   "id": "ec5c1675",
   "metadata": {},
   "source": [
    "### Demo of Registering Distorted LIDAR Scans to HD Map Provided in Newer College Dataset"
   ]
  },
  {
   "cell_type": "code",
   "execution_count": null,
   "id": "fe994a8e",
   "metadata": {},
   "outputs": [],
   "source": [
    "from vedo import *\n",
    "import os\n",
    "from ipyvtklink.viewer import ViewInteractiveWidget\n",
    "import pykitti\n",
    "import numpy as np\n",
    "import tensorflow as tf\n",
    "import time\n",
    "import pickle\n",
    "\n",
    "#limit GPU memory ------------------------------------------------\n",
    "gpus = tf.config.experimental.list_physical_devices('GPU')\n",
    "print(gpus)\n",
    "if gpus:\n",
    "  try:\n",
    "    memlim = 4*1024\n",
    "    tf.config.experimental.set_virtual_device_configuration(gpus[0], [tf.config.experimental.VirtualDeviceConfiguration(memory_limit=memlim)])\n",
    "  except RuntimeError as e:\n",
    "    print(e)\n",
    "#-----------------------------------------------------------------\n",
    "\n",
    "from tensorflow.math import sin, cos, tan\n",
    "import tensorflow_probability as tfp\n",
    "import sys\n",
    "current = os.getcwd()\n",
    "parent_directory = os.path.dirname(current)\n",
    "sys.path.append(parent_directory)\n",
    "from ICET_spherical import ICET\n",
    "from utils import R_tf\n",
    "from metpy.calc import lat_lon_grid_deltas\n",
    "from pioneer.das.api.platform import Platform\n",
    "from scipy.spatial.transform import Rotation as R\n",
    "from pioneer.das.api.egomotion.imu_egomotion_provider import IMUEgomotionProvider as emp \n",
    "from matplotlib import pyplot as plt\n",
    "\n",
    "%load_ext autoreload\n",
    "%autoreload 2\n",
    "%autosave 180\n",
    "%matplotlib notebook"
   ]
  },
  {
   "cell_type": "code",
   "execution_count": null,
   "id": "0b4ab0ca",
   "metadata": {},
   "outputs": [],
   "source": [
    "#Load HD Map from .ply File\n",
    "import trimesh\n",
    "\n",
    "# pl = '/home/derm/Downloads/new-college-29-01-2020-1cm-resolution-1stSection - mesh.ply' #provided in Google Drive 03\n",
    "pl = '/media/derm/06EF-127D3/Newer College Dataset/new-college-29-01-2020-1cm-resolution-1stSection - mesh.ply'\n",
    "HD_map = trimesh.load(pl).vertices\n",
    "# print(type(HD_map))"
   ]
  },
  {
   "cell_type": "markdown",
   "id": "acf543e7",
   "metadata": {},
   "source": [
    "# Draw HD Map"
   ]
  },
  {
   "cell_type": "code",
   "execution_count": null,
   "id": "5bd48cb9",
   "metadata": {},
   "outputs": [],
   "source": [
    "#Test drawing downsampled version of HD Map (laptop alert)\n",
    "show_nth = 10 #10\n",
    "submap = HD_map[::show_nth]\n",
    "# submap[:,2] += min(submap[:,2])\n",
    "print(np.shape(submap))\n",
    "\n",
    "plt = Plotter(N = 1, axes = 1, bg = (1, 1, 1), interactive = True) #axes = 4\n",
    "disp=[]\n",
    "# draw in red\n",
    "disp.append(Points(submap, c = \"#CB2314\", r = 2, alpha = 0.1))  \n",
    "\n",
    "## rainbow by z height\n",
    "# # zheight = 50*(np.sin(0.0625*submap[:,2])+1)#was this\n",
    "# zheight = 100*(np.sin(0.25*submap[:,2])+1) #test\n",
    "# print(zheight[::100], min(zheight), max(zheight))\n",
    "# # cname = np.array([zheight, 100*(np.sin(0.5*zheight+256)+1), 128*np.ones(len(zheight))]).T.tolist()\n",
    "# cname = np.array([zheight, zheight, zheight]).T.tolist()\n",
    "# # cname = np.array([64*np.ones(len(zheight)), 256 - zheight/2, 256 - zheight]).T.tolist()\n",
    "# disp.append(Points(submap, c = cname, r = 2, alpha = 0.1))\n",
    "\n",
    "plt.show(disp, \"HD Map\")\n",
    "ViewInteractiveWidget(plt.window)\n"
   ]
  },
  {
   "cell_type": "markdown",
   "id": "ffb60d11",
   "metadata": {},
   "source": [
    "# Register scan using rigid ICET"
   ]
  },
  {
   "cell_type": "code",
   "execution_count": null,
   "id": "7cabd9ac",
   "metadata": {},
   "outputs": [],
   "source": [
    "idx = 400\n",
    "fn1 = \"/media/derm/06EF-127D3/Newer College Dataset/05_Quad_With_Dynamics/point_clouds/frame_\" + str(idx) + \".npy\"\n",
    "# fn1 = \"/media/derm/06EF-127D3/Newer College Dataset/06_Dynamic_Spinning/point_clouds/frame_\" + str(idx) + \".npy\"\n",
    "\n",
    "# fn1 = \"/media/derm/06EF-127D3/Newer College Dataset/05_Quad_With_Dynamics/test/frame_\" + str(idx) + \".npy\" #test\n",
    "\n",
    "pc1 = np.load(fn1)\n",
    "\n",
    "#load ground truth\n",
    "# [sec,nsec,x,y,z,qx,qy,qz,qw]\n",
    "fn_gt = \"/media/derm/06EF-127D3/Newer College Dataset/05_Quad_With_Dynamics/registered_poses.csv\"\n",
    "# fn_gt = \"/media/derm/06EF-127D3/Newer College Dataset/06_Dynamic_Spinning/registered_poses.csv\"\n",
    "gt = np.loadtxt(fn_gt, delimiter=',',skiprows = 1)\n",
    "# print(gt[idx, 2:])\n",
    "\n",
    "offset = 0#for debug \n",
    "rot = R.from_quat(gt[idx+offset,5:]).as_euler('xyz')\n",
    "# rot_m = R.from_quat(gt[idx+offset,5:]).as_matrix()\n",
    "# rot_m = R.from_quat(gt[idx,5:]).inv().as_matrix()\n",
    "rot_m = R.from_euler('xyz', [0, 0, rot[2]]).as_matrix()\n",
    "# rot_m = R.from_euler('xyz', [rot[0], rot[1], -rot[2] - np.pi/8 ]).as_matrix()\n",
    "# rot_m = R.from_quat(gt[idx,5:]).inv().as_matrix()\n",
    "# print(rot_m)\n",
    "\n",
    "initial_guess = tf.cast(tf.constant([gt[idx+offset,2], gt[idx+offset,3], gt[idx+offset,4], rot[0], rot[1], rot[2] ]), tf.float32)\n",
    "# pc1 = pc1 @ rot_m\n",
    "# rotcorr = R.from_euler('xyz', [0,0,np.pi/8]).as_matrix() #need to correct 45 degree offset??\n",
    "# pc1 = pc1 @ rotcorr\n",
    "# pc1 += initial_guess[:3]"
   ]
  },
  {
   "cell_type": "code",
   "execution_count": null,
   "id": "3df51e98",
   "metadata": {},
   "outputs": [],
   "source": [
    "# # len(gt)\n",
    "# # # ans = gt[:,0] - gt[0,0]\n",
    "# # # ans = np.where(np.diff(gt[:,0]) > 0.99 )\n",
    "# # # # print(ans)\n",
    "\n",
    "# from matplotlib import pyplot as plt\n",
    "# fig, ax = plt.subplots()\n",
    "\n",
    "# t = gt[:,0] + gt[:,1]/(1e9)\n",
    "# # ax.plot(np.diff(t)) #pretty interesting results for  dynamic spinning dataset\n",
    "# # ax.set_title(\"06- Dynamic Spinning Frame Length\")\n",
    "# # print(np.mean(np.diff(t[100:1100])))\n",
    "\n",
    "# ax.plot(np.diff(gt[:,2]))\n",
    "# len(gt)"
   ]
  },
  {
   "cell_type": "code",
   "execution_count": null,
   "id": "380b272f",
   "metadata": {},
   "outputs": [],
   "source": [
    "# Get Ground Truth Poses via code shamelessly taken from KitWare pyLiDAR-SLAM library\n",
    "\n",
    "#load ground truth .csv file\n",
    "# [sec,nsec,x,y,z,qx,qy,qz,qw]\n",
    "# fn_gt = \"/media/derm/06EF-127D3/Newer College Dataset/05_Quad_With_Dynamics/registered_poses.csv\"\n",
    "fn_gt = \"/media/derm/06EF-127D3/Newer College Dataset/06_Dynamic_Spinning/registered_poses.csv\"\n",
    "gt = np.loadtxt(fn_gt, delimiter=',',skiprows = 1)\n",
    "\n",
    "seconds = gt[:, 0]\n",
    "nano_seconds = gt[:, 1]\n",
    "xyz = gt[:, 2:5]\n",
    "qxyzw = gt[:, 5:]\n",
    "num_poses = qxyzw.shape[0]\n",
    "poses = np.eye(4, dtype=np.float64).reshape(1, 4, 4).repeat(num_poses, axis=0)\n",
    "poses[:, :3, :3] = R.from_quat(qxyzw).as_matrix()\n",
    "poses[:, :3, 3] = xyz\n",
    "T_CL = np.eye(4, dtype=np.float32)\n",
    "T_CL[:3, :3] = R.from_quat([0.0, 0.0, 0.924, 0.383]).as_matrix() #was this --1134.97 deg\n",
    "T_CL[:3, 3] = np.array([-0.084, -0.025, 0.050], dtype=np.float32) #was this\n",
    "# T_CL[:3, :3] = R.from_euler('xyz', [0,0, np.deg2rad(135)]).as_matrix() #as specified by paper (exactly 45 deg)\n",
    "# T_CL[:3, 3] = np.array([0.084, 0.025, -0.050], dtype=np.float32) #debugging possible sign errors\n",
    "poses = np.einsum(\"nij,jk->nik\", poses, T_CL)\n",
    "\n",
    "initial_pose = np.linalg.inv(poses[0]) \n",
    "\n",
    "poses_timestamps = seconds * 10e9 + nano_seconds\n",
    "poses = np.einsum(\"ij,njk->nik\", np.linalg.inv(poses[0]), poses) #try commenting out"
   ]
  },
  {
   "cell_type": "markdown",
   "id": "64e1823d",
   "metadata": {},
   "source": [
    "## Regsiter Raw Clouds i, j, and HD Map centered on origin of i "
   ]
  },
  {
   "cell_type": "code",
   "execution_count": null,
   "id": "4628f60a",
   "metadata": {},
   "outputs": [],
   "source": [
    "# idx = 2000 #2000 - 3000 is the running and swinging loop\n",
    "# skip = 5 #how many lidar frames between clouds\n",
    "# (need to deal with how there are more LIDAR frames than ground truth poses)\n",
    "# offset = 11 #10 #11  #works best for 05 dataset\n",
    "# fn1 = \"/media/derm/06EF-127D3/Newer College Dataset/05_Quad_With_Dynamics/point_clouds/frame_\" + str(idx + offset) + \".npy\"\n",
    "# fn2 = \"/media/derm/06EF-127D3/Newer College Dataset/05_Quad_With_Dynamics/point_clouds/frame_\" + str(idx + skip + offset) + \".npy\"\n",
    "\n",
    "idx = 950#\n",
    "# idx = 116 #slow distortion, very accurate solution\n",
    "skip = 1 #how many lidar frames between clouds\n",
    "offset = 1 #2 #figured out through guess and check (brutal) #1 aligns end of scan (11:00), 2 aligns front (1:00)\n",
    "fn1 = \"/media/derm/06EF-127D3/Newer College Dataset/06_Dynamic_Spinning/point_clouds/frame_\" + str(idx + offset) + \".npy\"\n",
    "fn2 = \"/media/derm/06EF-127D3/Newer College Dataset/06_Dynamic_Spinning/point_clouds/frame_\" + str(idx + skip + offset) + \".npy\"\n",
    "pc1 = np.load(fn1)\n",
    "pc2 = np.load(fn2)\n",
    "\n",
    "plt = Plotter(N = 1, axes = 1, bg = (1, 1, 1), interactive = True) #axes = 4 (simple), 1(scale)\n",
    "disp=[]\n",
    "\n",
    "#apply homogeneous transform matrix\n",
    "scan1_mapframe = (poses[idx] @ np.append(pc1, np.ones([len(pc1),1]), axis=1).T).T  \n",
    "scan2_mapframe = (poses[idx+skip] @ np.append(pc2, np.ones([len(pc2),1]), axis=1).T).T\n",
    "submap_mapframe = (initial_pose @ np.append(submap, np.ones([len(submap),1]), axis =1).T).T\n",
    "\n",
    "#Rotate scans to align beginning of each scan with +X axis ----------\n",
    "#Need to do this before applying 12-State ICET since it relies on frame beginning at +X axis\n",
    "scan1_mapframe = (np.linalg.pinv(poses[idx]) @ scan1_mapframe.T).T\n",
    "scan2_mapframe = (np.linalg.pinv(poses[idx]) @ scan2_mapframe.T).T\n",
    "submap_mapframe = (np.linalg.pinv(poses[idx]) @ submap_mapframe.T).T\n",
    "#--------------------------------------------------------------------\n",
    "\n",
    "#remove 4th column and center first scan about origin\n",
    "scan1_lidarframe = scan1_mapframe[:,:3] - poses[idx][:3,3]\n",
    "scan2_lidarframe = scan2_mapframe[:,:3] - poses[idx][:3,3]\n",
    "submap_lidarframe = submap_mapframe[:,:3] - poses[idx][:3,3]\n",
    "\n",
    "#COLOR SCAN1 POINTS BY ORDER IN CLOUD\n",
    "color = 255*np.linspace(0,1,len(scan1_lidarframe))\n",
    "cname = np.array([255-color//2, color, 255-color]).T.tolist()\n",
    "disp.append(Points(scan1_lidarframe, c = cname, r = 3, alpha = 1))\n",
    "\n",
    "# # DRAW SCANS 1, 2\n",
    "# disp.append(Points(scan1_lidarframe, c = '#a65852', r = 3)) #red\n",
    "# disp.append(Points(scan2_lidarframe, c = '#2c7c94', r = 3)) #blue\n",
    "\n",
    "disp.append(Points(submap_lidarframe, c = \"black\", r = 2, alpha = 0.05)) ##CB2314\n",
    "plt.show(disp, \"06 Dynamic Spinning Frame #\" + str(idx))\n",
    "ViewInteractiveWidget(plt.window)\n"
   ]
  },
  {
   "cell_type": "markdown",
   "id": "aebd331b",
   "metadata": {},
   "source": [
    "## Run 12-State ICET"
   ]
  },
  {
   "cell_type": "code",
   "execution_count": null,
   "id": "2adba926",
   "metadata": {
    "scrolled": true
   },
   "outputs": [],
   "source": [
    "from linear_corrector import LC\n",
    "A0 = np.array([0., 0, 0, 0, 0, 0,\n",
    "               0, 0, 0, 0, 0, 0])\n",
    "max_buffer = 0.5 #was 2.5\n",
    "dc = LC(cloud1 = submap_lidarframe, cloud2 = scan1_lidarframe, fid = 80, niter = 10, \n",
    "        draw = True, mnp = 25, RM = False, solver = '12_state', \n",
    "        max_buffer = max_buffer, A0 = A0)\n",
    "# dc = LC(cloud1 = scan1_lidarframe, cloud2 = scan2_lidarframe, fid = 50, niter = 100, \n",
    "#         draw = True, mnp = 25, RM = False, solver = '12_state', \n",
    "#         max_buffer = 2.5, A0 = A0)\n",
    "\n",
    "ViewInteractiveWidget(dc.plt.window)"
   ]
  },
  {
   "cell_type": "markdown",
   "id": "8f3d24df",
   "metadata": {},
   "source": [
    "## Run Rigid (6-State) ICET"
   ]
  },
  {
   "cell_type": "code",
   "execution_count": null,
   "id": "f6beeac3",
   "metadata": {},
   "outputs": [],
   "source": [
    "it = ICET(cloud1 = scan1_lidarframe, cloud2 = submap_lidarframe, fid = 50, niter = 25, \n",
    "           draw = True, group = 2, RM = False, DNN_filter = False)#, x0 = initial_guess)\n",
    "print(\"\\n predicted standard deviations of error: \\n\", it.pred_stds)\n",
    "ViewInteractiveWidget(it.plt.window)"
   ]
  },
  {
   "cell_type": "code",
   "execution_count": null,
   "id": "fb9b3f5b",
   "metadata": {},
   "outputs": [],
   "source": [
    "test = dc.cloud1_tensor_spherical\n",
    "print(test)\n",
    "\n",
    "# test2 = tf.gather(tf.)\n",
    "\n",
    "smaller = tf.where(test[:,1] < 0.5)\n",
    "print(smaller)\n",
    "bigger = tf.where(test[:,1] > 0.4)\n",
    "test2 = tf.sets.intersection(tf.transpose(smaller),tf.transpose(bigger))\n",
    "print(test2.values)\n",
    "\n",
    "print(tf.gather(test, test2.values))"
   ]
  },
  {
   "cell_type": "code",
   "execution_count": null,
   "id": "5b172395",
   "metadata": {
    "scrolled": false
   },
   "outputs": [],
   "source": [
    "#transform LIDAR scan to align with HD Map -- not what we want\n",
    "plt = Plotter(N = 1, axes = 1, bg = (1, 1, 1), interactive = True) #axes = 4\n",
    "disp=[]\n",
    "# draw in red\n",
    "disp.append(Points(submap, c = \"#CB2314\", r = 2, alpha = 0.1))  \n",
    "\n",
    "# #matt's attempt:\n",
    "# rot_m = R.from_quat(gt[idx,5:]).as_matrix()\n",
    "# newscan_mapframe = (pc1 @ rot_m) + gt[idx,2:5]\n",
    "# disp.append(Points(newscan_mapframe, c = 'blue',r = 2))\n",
    "\n",
    "#kitware code\n",
    "newscan_mapframe = (poses[idx] @ np.append(pc1, np.zeros([len(pc1),1]), axis=1).T).T\n",
    "print(newscan_mapframe)\n",
    "disp.append(Points(newscan_mapframe[:,:3], c = 'blue',r = 2))\n",
    "\n",
    "#draw trajectory of platform according to <gt>\n",
    "disp.append(Points(gt[2000:3000,2:5], r=3))#, alpha = 0.2))\n",
    "disp.append(Points(gt[idx+offset,2:5][None,:], r=10, c = 'red'))\n",
    "\n",
    "#draw arrows showing heading\n",
    "for i in range(50):\n",
    "    rot_m = R.from_quat(gt[i*20,5:]).as_matrix()\n",
    "    arrow_end = gt[i*20,2:5] + rot_m @ np.array([2.,0.,0.])\n",
    "    disp.append(Arrow(gt[i*20,2:5], arrow_end, c='red'))\n",
    "\n",
    "plt.show(disp, \"HD Map\")\n",
    "ViewInteractiveWidget(plt.window)\n"
   ]
  },
  {
   "cell_type": "code",
   "execution_count": null,
   "id": "a5644d21",
   "metadata": {},
   "outputs": [],
   "source": [
    "#DEBUG\n",
    "from matplotlib import pyplot as plt\n",
    "\n",
    "euls = np.zeros([len(gt), 3])\n",
    "\n",
    "for i in range(len(gt)):\n",
    "    euls[i, :] = R.from_quat(gt[i,5:]).as_euler('xyz')\n",
    "\n",
    "fig, ax = plt.subplots()\n",
    "ax.plot(euls[:,2])\n",
    "\n",
    "# ax.plot(gt[:,2:4])\n",
    "# ax.plot(gt[:,0])"
   ]
  },
  {
   "cell_type": "code",
   "execution_count": null,
   "id": "d885fefe",
   "metadata": {},
   "outputs": [],
   "source": [
    "# #transform HD Map to align with lidar frame\n",
    "# plt = Plotter(N = 1, axes = 1, bg = (1, 1, 1), interactive = True) #axes = 4\n",
    "# disp=[]\n",
    "\n",
    "# # rot_m = R.from_quat(gt[idx,5:]).as_matrix() #nope\n",
    "\n",
    "# rot = R.from_quat(gt[:,5:]).as_euler('xyz')\n",
    "# rot -= rot[0]\n",
    "# rot[:,2] = -rot[:,2]\n",
    "# # print(rot)\n",
    "# rot_m = R.from_euler('xyz', rot[idx]).as_matrix()\n",
    "\n",
    "# map_trans = (submap - gt[idx, 2:5]) @ rot_m\n",
    "# disp.append(Points(pc1, c = 'blue', r = 3))\n",
    "# # disp.append(Points(pc1[:(len(pc1)//2)], c = 'blue', r = 3))\n",
    "# # disp.append(Points(pc1[(len(pc1)//2):], c = 'blue', r = 3, alpha = 0.2))\n",
    "\n",
    "# #draw axis for world frame\n",
    "# disp.append(Arrow([0,0,0], [2,0,0], c = 'red'))\n",
    "# disp.append(Arrow([0,0,0], [0,2,0], c = 'green'))\n",
    "# disp.append(Arrow([0,0,0], [0,0,2], c = 'blue'))\n",
    "# #draw axis for world frame transformed by rot_m\n",
    "# disp.append(Arrow([0,0,0], [2,0,0] @ rot_m, c = 'red', alpha = 0.2))\n",
    "# disp.append(Arrow([0,0,0], [0,2,0] @ rot_m, c = 'green', alpha = 0.2))\n",
    "# disp.append(Arrow([0,0,0], [0,0,2] @ rot_m, c = 'blue', alpha = 0.2))\n",
    "\n",
    "\n",
    "# disp.append(Points(np.array([[0.,0.,0.]]), c = 'purple', r =10))\n",
    "\n",
    "# disp.append(Points(map_trans, c = 'red', r = 2, alpha = 0.2))\n",
    "# plt.show(disp, \"HD Map\")\n",
    "# ViewInteractiveWidget(plt.window)"
   ]
  },
  {
   "cell_type": "code",
   "execution_count": null,
   "id": "e2bb1683",
   "metadata": {},
   "outputs": [],
   "source": [
    "# newscan_mapframe = np.append(pc1, np.zeros([len(pc1),1]), axis=1)\n",
    "# newscan_mapframe = poses[1] @ newscan_mapframe.T\n",
    "# print(newscan_mapframe.T)"
   ]
  },
  {
   "cell_type": "code",
   "execution_count": null,
   "id": "cb206bdb",
   "metadata": {},
   "outputs": [],
   "source": [
    "# print(rot)\n",
    "# rot_m @ np.array([0.,0.,0.])"
   ]
  },
  {
   "cell_type": "code",
   "execution_count": null,
   "id": "768f27e4",
   "metadata": {},
   "outputs": [],
   "source": [
    "# map_trans = (submap - gt[idx, 2:5]) @ rot_m\n",
    "\n",
    "# it = ICET(cloud1 = pc1, cloud2 = map_trans, fid = 50, niter = 5, \n",
    "#            draw = True, group = 2, RM = False, DNN_filter = False)#, x0 = initial_guess)\n",
    "# print(\"\\n predicted standard deviations of error: \\n\", it.pred_stds)\n",
    "# ViewInteractiveWidget(it.plt.window)"
   ]
  },
  {
   "cell_type": "code",
   "execution_count": null,
   "id": "d3367d7f",
   "metadata": {},
   "outputs": [],
   "source": []
  },
  {
   "cell_type": "code",
   "execution_count": null,
   "id": "28285b7b",
   "metadata": {},
   "outputs": [],
   "source": []
  }
 ],
 "metadata": {
  "kernelspec": {
   "display_name": "Python 3 (ipykernel)",
   "language": "python",
   "name": "python3"
  },
  "language_info": {
   "codemirror_mode": {
    "name": "ipython",
    "version": 3
   },
   "file_extension": ".py",
   "mimetype": "text/x-python",
   "name": "python",
   "nbconvert_exporter": "python",
   "pygments_lexer": "ipython3",
   "version": "3.9.13"
  }
 },
 "nbformat": 4,
 "nbformat_minor": 5
}
