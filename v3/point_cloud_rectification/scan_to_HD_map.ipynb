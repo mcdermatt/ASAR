{
 "cells": [
  {
   "cell_type": "markdown",
   "id": "ec5c1675",
   "metadata": {},
   "source": [
    "### Demo of Registering Distorted LIDAR Scans to HD Map Provided in Newer College Dataset"
   ]
  },
  {
   "cell_type": "code",
   "execution_count": 1,
   "id": "fe994a8e",
   "metadata": {},
   "outputs": [
    {
     "name": "stderr",
     "output_type": "stream",
     "text": [
      "2023-06-07 13:23:09.181313: I tensorflow/core/platform/cpu_feature_guard.cc:193] This TensorFlow binary is optimized with oneAPI Deep Neural Network Library (oneDNN) to use the following CPU instructions in performance-critical operations:  AVX2 FMA\n",
      "To enable them in other operations, rebuild TensorFlow with the appropriate compiler flags.\n",
      "2023-06-07 13:23:09.283685: E tensorflow/stream_executor/cuda/cuda_blas.cc:2981] Unable to register cuBLAS factory: Attempting to register factory for plugin cuBLAS when one has already been registered\n",
      "2023-06-07 13:23:09.704905: W tensorflow/stream_executor/platform/default/dso_loader.cc:64] Could not load dynamic library 'libnvinfer.so.7'; dlerror: libnvinfer.so.7: cannot open shared object file: No such file or directory; LD_LIBRARY_PATH: /home/derm/anaconda3/envs/py39/lib/python3.9/site-packages/cv2/../../lib64:\n",
      "2023-06-07 13:23:09.704962: W tensorflow/stream_executor/platform/default/dso_loader.cc:64] Could not load dynamic library 'libnvinfer_plugin.so.7'; dlerror: libnvinfer_plugin.so.7: cannot open shared object file: No such file or directory; LD_LIBRARY_PATH: /home/derm/anaconda3/envs/py39/lib/python3.9/site-packages/cv2/../../lib64:\n",
      "2023-06-07 13:23:09.704967: W tensorflow/compiler/tf2tensorrt/utils/py_utils.cc:38] TF-TRT Warning: Cannot dlopen some TensorRT libraries. If you would like to use Nvidia GPU with TensorRT, please make sure the missing libraries mentioned above are installed properly.\n",
      "2023-06-07 13:23:10.180861: I tensorflow/stream_executor/cuda/cuda_gpu_executor.cc:980] successful NUMA node read from SysFS had negative value (-1), but there must be at least one NUMA node, so returning NUMA node zero\n",
      "2023-06-07 13:23:10.204455: I tensorflow/stream_executor/cuda/cuda_gpu_executor.cc:980] successful NUMA node read from SysFS had negative value (-1), but there must be at least one NUMA node, so returning NUMA node zero\n",
      "2023-06-07 13:23:10.204617: I tensorflow/stream_executor/cuda/cuda_gpu_executor.cc:980] successful NUMA node read from SysFS had negative value (-1), but there must be at least one NUMA node, so returning NUMA node zero\n",
      "2023-06-07 13:23:10.328539: I tensorflow/core/platform/cpu_feature_guard.cc:193] This TensorFlow binary is optimized with oneAPI Deep Neural Network Library (oneDNN) to use the following CPU instructions in performance-critical operations:  AVX2 FMA\n",
      "To enable them in other operations, rebuild TensorFlow with the appropriate compiler flags.\n"
     ]
    },
    {
     "name": "stdout",
     "output_type": "stream",
     "text": [
      "[PhysicalDevice(name='/physical_device:GPU:0', device_type='GPU')]\n"
     ]
    },
    {
     "name": "stderr",
     "output_type": "stream",
     "text": [
      "2023-06-07 13:23:10.329290: I tensorflow/stream_executor/cuda/cuda_gpu_executor.cc:980] successful NUMA node read from SysFS had negative value (-1), but there must be at least one NUMA node, so returning NUMA node zero\n",
      "2023-06-07 13:23:10.329500: I tensorflow/stream_executor/cuda/cuda_gpu_executor.cc:980] successful NUMA node read from SysFS had negative value (-1), but there must be at least one NUMA node, so returning NUMA node zero\n",
      "2023-06-07 13:23:10.329646: I tensorflow/stream_executor/cuda/cuda_gpu_executor.cc:980] successful NUMA node read from SysFS had negative value (-1), but there must be at least one NUMA node, so returning NUMA node zero\n",
      "2023-06-07 13:23:10.686492: I tensorflow/stream_executor/cuda/cuda_gpu_executor.cc:980] successful NUMA node read from SysFS had negative value (-1), but there must be at least one NUMA node, so returning NUMA node zero\n",
      "2023-06-07 13:23:10.686670: I tensorflow/stream_executor/cuda/cuda_gpu_executor.cc:980] successful NUMA node read from SysFS had negative value (-1), but there must be at least one NUMA node, so returning NUMA node zero\n",
      "2023-06-07 13:23:10.686805: I tensorflow/stream_executor/cuda/cuda_gpu_executor.cc:980] successful NUMA node read from SysFS had negative value (-1), but there must be at least one NUMA node, so returning NUMA node zero\n",
      "2023-06-07 13:23:10.686909: I tensorflow/core/common_runtime/gpu/gpu_device.cc:1616] Created device /job:localhost/replica:0/task:0/device:GPU:0 with 4096 MB memory:  -> device: 0, name: NVIDIA GeForce RTX 3090, pci bus id: 0000:07:00.0, compute capability: 8.6\n"
     ]
    },
    {
     "name": "stdout",
     "output_type": "stream",
     "text": [
      "Jupyter environment detected. Enabling Open3D WebVisualizer.\n",
      "[Open3D INFO] WebRTC GUI backend enabled.\n",
      "[Open3D INFO] WebRTCWindowSystem: HTTP handshake server disabled.\n"
     ]
    },
    {
     "data": {
      "application/javascript": [
       "IPython.notebook.set_autosave_interval(180000)"
      ]
     },
     "metadata": {},
     "output_type": "display_data"
    },
    {
     "name": "stdout",
     "output_type": "stream",
     "text": [
      "Autosaving every 180 seconds\n"
     ]
    }
   ],
   "source": [
    "from vedo import *\n",
    "import os\n",
    "from ipyvtklink.viewer import ViewInteractiveWidget\n",
    "import pykitti\n",
    "import numpy as np\n",
    "import tensorflow as tf\n",
    "import time\n",
    "import pickle\n",
    "\n",
    "#limit GPU memory ------------------------------------------------\n",
    "gpus = tf.config.experimental.list_physical_devices('GPU')\n",
    "print(gpus)\n",
    "if gpus:\n",
    "  try:\n",
    "    memlim = 4*1024\n",
    "    tf.config.experimental.set_virtual_device_configuration(gpus[0], [tf.config.experimental.VirtualDeviceConfiguration(memory_limit=memlim)])\n",
    "  except RuntimeError as e:\n",
    "    print(e)\n",
    "#-----------------------------------------------------------------\n",
    "\n",
    "from tensorflow.math import sin, cos, tan\n",
    "import tensorflow_probability as tfp\n",
    "import sys\n",
    "current = os.getcwd()\n",
    "parent_directory = os.path.dirname(current)\n",
    "sys.path.append(parent_directory)\n",
    "from ICET_spherical import ICET\n",
    "from utils import R_tf\n",
    "from metpy.calc import lat_lon_grid_deltas\n",
    "from pioneer.das.api.platform import Platform\n",
    "from scipy.spatial.transform import Rotation as R\n",
    "from pioneer.das.api.egomotion.imu_egomotion_provider import IMUEgomotionProvider as emp \n",
    "from matplotlib import pyplot as plt\n",
    "\n",
    "%load_ext autoreload\n",
    "%autoreload 2\n",
    "%autosave 180\n",
    "%matplotlib notebook"
   ]
  },
  {
   "cell_type": "code",
   "execution_count": 2,
   "id": "0b4ab0ca",
   "metadata": {},
   "outputs": [],
   "source": [
    "#Load HD Map from .ply File\n",
    "import trimesh\n",
    "\n",
    "# pl = '/home/derm/Downloads/new-college-29-01-2020-1cm-resolution-1stSection - mesh.ply' #provided in Google Drive 03\n",
    "pl = '/media/derm/06EF-127D3/Newer College Dataset/new-college-29-01-2020-1cm-resolution-1stSection - mesh.ply'\n",
    "HD_map = trimesh.load(pl).vertices\n",
    "# print(type(HD_map))"
   ]
  },
  {
   "cell_type": "markdown",
   "id": "acf543e7",
   "metadata": {},
   "source": [
    "# Draw HD Map"
   ]
  },
  {
   "cell_type": "code",
   "execution_count": 3,
   "id": "5bd48cb9",
   "metadata": {},
   "outputs": [
    {
     "name": "stdout",
     "output_type": "stream",
     "text": [
      "(402461, 3)\n"
     ]
    },
    {
     "name": "stderr",
     "output_type": "stream",
     "text": [
      "/home/derm/anaconda3/envs/py39/lib/python3.9/site-packages/vtkmodules/util/numpy_support.py:74: DeprecationWarning: `np.bool` is a deprecated alias for the builtin `bool`. To silence this warning, use `bool` by itself. Doing this will not modify any behavior and is safe. If you specifically wanted the numpy scalar type, use `np.bool_` here.\n",
      "Deprecated in NumPy 1.20; for more details and guidance: https://numpy.org/devdocs/release/1.20.0-notes.html#deprecations\n",
      "  _vtk_np = {vtkConstants.VTK_BIT:numpy.bool,\n"
     ]
    },
    {
     "data": {
      "application/vnd.jupyter.widget-view+json": {
       "model_id": "c29d49ac2fce43e19f6e9a89b10f3d3e",
       "version_major": 2,
       "version_minor": 0
      },
      "text/plain": [
       "ViewInteractiveWidget(height=1043, layout=Layout(height='auto', width='100%'), width=1280)"
      ]
     },
     "metadata": {},
     "output_type": "display_data"
    }
   ],
   "source": [
    "#Test drawing downsampled version of HD Map (laptop alert)\n",
    "show_nth = 10 #10\n",
    "submap = HD_map[::show_nth]\n",
    "# submap[:,2] += min(submap[:,2])\n",
    "print(np.shape(submap))\n",
    "\n",
    "plt = Plotter(N = 1, axes = 1, bg = (1, 1, 1), interactive = True) #axes = 4\n",
    "disp=[]\n",
    "# draw in red\n",
    "disp.append(Points(submap, c = \"#CB2314\", r = 2, alpha = 0.1))  \n",
    "\n",
    "## rainbow by z height\n",
    "# # zheight = 50*(np.sin(0.0625*submap[:,2])+1)#was this\n",
    "# zheight = 100*(np.sin(0.25*submap[:,2])+1) #test\n",
    "# print(zheight[::100], min(zheight), max(zheight))\n",
    "# # cname = np.array([zheight, 100*(np.sin(0.5*zheight+256)+1), 128*np.ones(len(zheight))]).T.tolist()\n",
    "# cname = np.array([zheight, zheight, zheight]).T.tolist()\n",
    "# # cname = np.array([64*np.ones(len(zheight)), 256 - zheight/2, 256 - zheight]).T.tolist()\n",
    "# disp.append(Points(submap, c = cname, r = 2, alpha = 0.1))\n",
    "\n",
    "plt.show(disp, \"HD Map\")\n",
    "ViewInteractiveWidget(plt.window)\n"
   ]
  },
  {
   "cell_type": "markdown",
   "id": "ffb60d11",
   "metadata": {},
   "source": [
    "# Register scan using rigid ICET"
   ]
  },
  {
   "cell_type": "markdown",
   "id": "c8d4c46c",
   "metadata": {},
   "source": [
    "### 05- Quad With Dynamics"
   ]
  },
  {
   "cell_type": "code",
   "execution_count": 4,
   "id": "7cabd9ac",
   "metadata": {},
   "outputs": [],
   "source": [
    "idx = 0\n",
    "fn1 = \"/media/derm/06EF-127D3/Newer College Dataset/05_Quad_With_Dynamics/point_clouds/frame_\" + str(idx) + \".npy\"\n",
    "# fn1 = \"/media/derm/06EF-127D3/Newer College Dataset/06_Dynamic_Spinning/point_clouds/frame_\" + str(idx) + \".npy\"\n",
    "\n",
    "# fn1 = \"/media/derm/06EF-127D3/Newer College Dataset/05_Quad_With_Dynamics/test/frame_\" + str(idx) + \".npy\" #test\n",
    "\n",
    "pc1 = np.load(fn1)\n",
    "\n",
    "#load ground truth\n",
    "# [sec,nsec,x,y,z,qx,qy,qz,qw]\n",
    "fn_gt = \"/media/derm/06EF-127D3/Newer College Dataset/05_Quad_With_Dynamics/registered_poses.csv\"\n",
    "# fn_gt = \"/media/derm/06EF-127D3/Newer College Dataset/06_Dynamic_Spinning/registered_poses.csv\"\n",
    "gt = np.loadtxt(fn_gt, delimiter=',',skiprows = 1)\n",
    "# print(gt[idx, 2:])\n",
    "\n",
    "offset = 0#for debug \n",
    "rot = R.from_quat(gt[idx+offset,5:]).as_euler('xyz')\n",
    "# rot_m = R.from_quat(gt[idx+offset,5:]).as_matrix()\n",
    "# rot_m = R.from_quat(gt[idx,5:]).inv().as_matrix()\n",
    "rot_m = R.from_euler('xyz', [0, 0, rot[2]]).as_matrix()\n",
    "# rot_m = R.from_euler('xyz', [rot[0], rot[1], -rot[2] - np.pi/8 ]).as_matrix()\n",
    "# rot_m = R.from_quat(gt[idx,5:]).inv().as_matrix()\n",
    "# print(rot_m)\n",
    "\n",
    "initial_guess = tf.cast(tf.constant([gt[idx+offset,2], gt[idx+offset,3], gt[idx+offset,4], rot[0], rot[1], rot[2] ]), tf.float32)\n",
    "# pc1 = pc1 @ rot_m\n",
    "# rotcorr = R.from_euler('xyz', [0,0,np.pi/8]).as_matrix() #need to correct 45 degree offset??\n",
    "# pc1 = pc1 @ rotcorr\n",
    "# pc1 += initial_guess[:3]"
   ]
  },
  {
   "cell_type": "code",
   "execution_count": 25,
   "id": "380b272f",
   "metadata": {},
   "outputs": [
    {
     "data": {
      "text/plain": [
       "3954"
      ]
     },
     "execution_count": 25,
     "metadata": {},
     "output_type": "execute_result"
    }
   ],
   "source": [
    "#code taken from KitWare pyLiDAR-SLAM library\n",
    "\n",
    "seconds = gt[:, 0]\n",
    "nano_seconds = gt[:, 1]\n",
    "\n",
    "xyz = gt[:, 2:5]\n",
    "qxyzw = gt[:, 5:]\n",
    "\n",
    "num_poses = qxyzw.shape[0]\n",
    "poses = np.eye(4, dtype=np.float64).reshape(1, 4, 4).repeat(num_poses, axis=0)\n",
    "poses[:, :3, :3] = R.from_quat(qxyzw).as_matrix()\n",
    "poses[:, :3, 3] = xyz\n",
    "\n",
    "T_CL = np.eye(4, dtype=np.float32)\n",
    "T_CL[:3, :3] = R.from_quat([0.0, 0.0, 0.924, 0.383]).as_matrix()\n",
    "T_CL[:3, 3] = np.array([-0.084, -0.025, 0.050], dtype=np.float32)\n",
    "poses = np.einsum(\"nij,jk->nik\", poses, T_CL)\n",
    "\n",
    "initial_pose = np.linalg.inv(poses[0]) \n",
    "\n",
    "poses_timestamps = seconds * 10e9 + nano_seconds\n",
    "poses = np.einsum(\"ij,njk->nik\", np.linalg.inv(poses[0]), poses)\n",
    "\n",
    "# print(poses)\n",
    "len(poses)\n",
    "\n",
    "# from matplotlib import pyplot as plt\n",
    "# fig, ax = plt.subplots()\n",
    "# ax.plot(poses[:,:,3])"
   ]
  },
  {
   "cell_type": "code",
   "execution_count": null,
   "id": "4628f60a",
   "metadata": {},
   "outputs": [],
   "source": [
    "#register raw clouds i and j using KitWare poses\n",
    "\n",
    "idx = 1000\n",
    "skip = 100\n",
    "fn1 = \"/media/derm/06EF-127D3/Newer College Dataset/05_Quad_With_Dynamics/point_clouds/frame_\" + str(idx) + \".npy\"\n",
    "pc1 = np.load(fn1)\n",
    "fn2 = \"/media/derm/06EF-127D3/Newer College Dataset/05_Quad_With_Dynamics/point_clouds/frame_\" + str(idx+skip) + \".npy\"\n",
    "pc2 = np.load(fn2)\n",
    "\n",
    "plt = Plotter(N = 1, axes = 1, bg = (1, 1, 1), interactive = True) #axes = 4\n",
    "disp=[]\n",
    "\n",
    "# scan1_mapframe = (np.linalg.pinv(poses[idx]) @ np.append(pc1, np.zeros([len(pc1),1]), axis=1).T).T #was this (wrong)\n",
    "# scan2_mapframe = (np.linalg.pinv(poses[idx+skip]) @ np.append(pc2, np.zeros([len(pc2),1]), axis=1).T).T\n",
    "\n",
    "scan1_mapframe = (poses[idx] @ np.append(pc1, np.ones([len(pc1),1]), axis=1).T).T  #works pretty well\n",
    "scan2_mapframe = (poses[idx+skip] @ np.append(pc2, np.ones([len(pc2),1]), axis=1).T).T\n",
    "\n",
    "# print(initial_pose)\n",
    "\n",
    "submap_mapframe = initial_pose @ np.append(submap, np.ones([len(submap),1]), axis =1).T\n",
    "submap_mapframe = submap_mapframe.T[:,:3] - poses[idx][:3,3]\n",
    "print(submap_mapframe.T)\n",
    "\n",
    "# print(poses[idx])\n",
    "# print(poses[idx+ skip])\n",
    "\n",
    "#remove 4th column and center first scan about origin\n",
    "scan1_mapframe = scan1_mapframe[:,:3] - poses[idx][:3,3]\n",
    "scan2_mapframe = scan2_mapframe[:,:3] - poses[idx][:3,3]\n",
    "\n",
    "disp.append(Points(scan1_mapframe, c = 'purple',r = 2))\n",
    "disp.append(Points(scan2_mapframe, c = 'blue',r = 2))\n",
    "\n",
    "disp.append(Points(submap_mapframe, c = \"#CB2314\", r = 2, alpha = 0.1)) #\n",
    "plt.show(disp, \"HD Map\")\n",
    "ViewInteractiveWidget(plt.window)\n"
   ]
  },
  {
   "cell_type": "code",
   "execution_count": 15,
   "id": "2eb35203",
   "metadata": {},
   "outputs": [
    {
     "name": "stdout",
     "output_type": "stream",
     "text": [
      "iter 0\n",
      "iter 1\n",
      "iter 2\n",
      "iter 3\n",
      "iter 4\n",
      "\n",
      " estimated solution vector X: \n",
      " tf.Tensor([-0.08877702 -0.04415215  0.02990641  0.08771084 -0.02181841  0.05436303], shape=(6,), dtype=float32)\n",
      "\n",
      " predicted standard deviations of error: \n",
      " tf.Tensor([0.00061691 0.00057811 0.00021639 0.00002029 0.00003923 0.00006167], shape=(6,), dtype=float32)\n"
     ]
    },
    {
     "data": {
      "application/vnd.jupyter.widget-view+json": {
       "model_id": "3b07bfe6f8744f6db1543ab0227924f4",
       "version_major": 2,
       "version_minor": 0
      },
      "text/plain": [
       "ViewInteractiveWidget(height=1043, layout=Layout(height='auto', width='100%'), width=1280)"
      ]
     },
     "metadata": {},
     "output_type": "display_data"
    }
   ],
   "source": [
    "it = ICET(cloud1 = scan1_mapframe, cloud2 = scan2_mapframe, fid = 50, niter = 5, \n",
    "           draw = True, group = 2, RM = False, DNN_filter = False)#, x0 = initial_guess)\n",
    "print(\"\\n predicted standard deviations of error: \\n\", it.pred_stds)\n",
    "ViewInteractiveWidget(it.plt.window)"
   ]
  },
  {
   "cell_type": "code",
   "execution_count": null,
   "id": "5b172395",
   "metadata": {
    "scrolled": false
   },
   "outputs": [],
   "source": [
    "#transform LIDAR scan to align with HD Map -- not what we want\n",
    "plt = Plotter(N = 1, axes = 1, bg = (1, 1, 1), interactive = True) #axes = 4\n",
    "disp=[]\n",
    "# draw in red\n",
    "disp.append(Points(submap, c = \"#CB2314\", r = 2, alpha = 0.1))  \n",
    "\n",
    "# #matt's attempt:\n",
    "# rot_m = R.from_quat(gt[idx,5:]).as_matrix()\n",
    "# newscan_mapframe = (pc1 @ rot_m) + gt[idx,2:5]\n",
    "# disp.append(Points(newscan_mapframe, c = 'blue',r = 2))\n",
    "\n",
    "#kitware code\n",
    "newscan_mapframe = (poses[idx] @ np.append(pc1, np.zeros([len(pc1),1]), axis=1).T).T\n",
    "print(newscan_mapframe)\n",
    "disp.append(Points(newscan_mapframe[:,:3], c = 'blue',r = 2))\n",
    "\n",
    "#draw trajectory of platform according to <gt>\n",
    "disp.append(Points(gt[:,2:5], r=3))#, alpha = 0.2))\n",
    "disp.append(Points(gt[idx+offset,2:5][None,:], r=10, c = 'red'))\n",
    "\n",
    "#draw arrows showing heading\n",
    "for i in range(50):\n",
    "    rot_m = R.from_quat(gt[i*20,5:]).as_matrix()\n",
    "    arrow_end = gt[i*20,2:5] + rot_m @ np.array([2.,0.,0.])\n",
    "    disp.append(Arrow(gt[i*20,2:5], arrow_end, c='red'))\n",
    "\n",
    "plt.show(disp, \"HD Map\")\n",
    "ViewInteractiveWidget(plt.window)\n"
   ]
  },
  {
   "cell_type": "code",
   "execution_count": null,
   "id": "a5644d21",
   "metadata": {},
   "outputs": [],
   "source": [
    "# #DEBUG\n",
    "# from matplotlib import pyplot as plt\n",
    "\n",
    "# euls = np.zeros([len(gt), 3])\n",
    "\n",
    "# for i in range(len(gt)):\n",
    "#     euls[i, :] = R.from_quat(gt[i,5:]).as_euler('xyz')\n",
    "\n",
    "# fig, ax = plt.subplots()\n",
    "# # ax.plot(euls[:,2])\n",
    "\n",
    "# ax.plot(gt[:,2:4])\n",
    "# # ax.plot(gt[:,0])"
   ]
  },
  {
   "cell_type": "code",
   "execution_count": null,
   "id": "d885fefe",
   "metadata": {},
   "outputs": [],
   "source": [
    "#transform HD Map to align with lidar frame\n",
    "plt = Plotter(N = 1, axes = 1, bg = (1, 1, 1), interactive = True) #axes = 4\n",
    "disp=[]\n",
    "\n",
    "# rot_m = R.from_quat(gt[idx,5:]).as_matrix() #nope\n",
    "\n",
    "rot = R.from_quat(gt[:,5:]).as_euler('xyz')\n",
    "rot -= rot[0]\n",
    "rot[:,2] = -rot[:,2]\n",
    "# print(rot)\n",
    "rot_m = R.from_euler('xyz', rot[idx]).as_matrix()\n",
    "\n",
    "map_trans = (submap - gt[idx, 2:5]) @ rot_m\n",
    "disp.append(Points(pc1, c = 'blue', r = 3))\n",
    "# disp.append(Points(pc1[:(len(pc1)//2)], c = 'blue', r = 3))\n",
    "# disp.append(Points(pc1[(len(pc1)//2):], c = 'blue', r = 3, alpha = 0.2))\n",
    "\n",
    "#draw axis for world frame\n",
    "disp.append(Arrow([0,0,0], [2,0,0], c = 'red'))\n",
    "disp.append(Arrow([0,0,0], [0,2,0], c = 'green'))\n",
    "disp.append(Arrow([0,0,0], [0,0,2], c = 'blue'))\n",
    "#draw axis for world frame transformed by rot_m\n",
    "disp.append(Arrow([0,0,0], [2,0,0] @ rot_m, c = 'red', alpha = 0.2))\n",
    "disp.append(Arrow([0,0,0], [0,2,0] @ rot_m, c = 'green', alpha = 0.2))\n",
    "disp.append(Arrow([0,0,0], [0,0,2] @ rot_m, c = 'blue', alpha = 0.2))\n",
    "\n",
    "\n",
    "disp.append(Points(np.array([[0.,0.,0.]]), c = 'purple', r =10))\n",
    "\n",
    "disp.append(Points(map_trans, c = 'red', r = 2, alpha = 0.2))\n",
    "plt.show(disp, \"HD Map\")\n",
    "ViewInteractiveWidget(plt.window)"
   ]
  },
  {
   "cell_type": "code",
   "execution_count": null,
   "id": "e2bb1683",
   "metadata": {},
   "outputs": [],
   "source": [
    "# newscan_mapframe = np.append(pc1, np.zeros([len(pc1),1]), axis=1)\n",
    "# newscan_mapframe = poses[1] @ newscan_mapframe.T\n",
    "# print(newscan_mapframe.T)"
   ]
  },
  {
   "cell_type": "code",
   "execution_count": null,
   "id": "cb206bdb",
   "metadata": {},
   "outputs": [],
   "source": [
    "# print(rot)\n",
    "rot_m @ np.array([0.,0.,0.])"
   ]
  },
  {
   "cell_type": "code",
   "execution_count": null,
   "id": "768f27e4",
   "metadata": {},
   "outputs": [],
   "source": [
    "map_trans = (submap - gt[idx, 2:5]) @ rot_m\n",
    "\n",
    "it = ICET(cloud1 = pc1, cloud2 = map_trans, fid = 50, niter = 5, \n",
    "           draw = True, group = 2, RM = False, DNN_filter = False)#, x0 = initial_guess)\n",
    "print(\"\\n predicted standard deviations of error: \\n\", it.pred_stds)\n",
    "ViewInteractiveWidget(it.plt.window)"
   ]
  },
  {
   "cell_type": "code",
   "execution_count": null,
   "id": "d3367d7f",
   "metadata": {},
   "outputs": [],
   "source": [
    "len(gt)"
   ]
  },
  {
   "cell_type": "code",
   "execution_count": null,
   "id": "28285b7b",
   "metadata": {},
   "outputs": [],
   "source": []
  }
 ],
 "metadata": {
  "kernelspec": {
   "display_name": "Python 3 (ipykernel)",
   "language": "python",
   "name": "python3"
  },
  "language_info": {
   "codemirror_mode": {
    "name": "ipython",
    "version": 3
   },
   "file_extension": ".py",
   "mimetype": "text/x-python",
   "name": "python",
   "nbconvert_exporter": "python",
   "pygments_lexer": "ipython3",
   "version": "3.9.13"
  }
 },
 "nbformat": 4,
 "nbformat_minor": 5
}
