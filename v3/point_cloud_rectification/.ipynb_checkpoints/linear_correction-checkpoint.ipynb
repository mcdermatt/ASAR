{
 "cells": [
  {
   "cell_type": "code",
   "execution_count": 1,
   "id": "89042def",
   "metadata": {},
   "outputs": [
    {
     "name": "stderr",
     "output_type": "stream",
     "text": [
      "2023-04-19 13:21:11.697886: I tensorflow/core/platform/cpu_feature_guard.cc:193] This TensorFlow binary is optimized with oneAPI Deep Neural Network Library (oneDNN) to use the following CPU instructions in performance-critical operations:  AVX2 FMA\n",
      "To enable them in other operations, rebuild TensorFlow with the appropriate compiler flags.\n",
      "2023-04-19 13:21:12.326764: E tensorflow/stream_executor/cuda/cuda_blas.cc:2981] Unable to register cuBLAS factory: Attempting to register factory for plugin cuBLAS when one has already been registered\n",
      "2023-04-19 13:21:13.472771: W tensorflow/stream_executor/platform/default/dso_loader.cc:64] Could not load dynamic library 'libnvinfer.so.7'; dlerror: libnvinfer.so.7: cannot open shared object file: No such file or directory; LD_LIBRARY_PATH: /home/derm/anaconda3/envs/py39/lib/python3.9/site-packages/cv2/../../lib64:\n",
      "2023-04-19 13:21:13.472866: W tensorflow/stream_executor/platform/default/dso_loader.cc:64] Could not load dynamic library 'libnvinfer_plugin.so.7'; dlerror: libnvinfer_plugin.so.7: cannot open shared object file: No such file or directory; LD_LIBRARY_PATH: /home/derm/anaconda3/envs/py39/lib/python3.9/site-packages/cv2/../../lib64:\n",
      "2023-04-19 13:21:13.472874: W tensorflow/compiler/tf2tensorrt/utils/py_utils.cc:38] TF-TRT Warning: Cannot dlopen some TensorRT libraries. If you would like to use Nvidia GPU with TensorRT, please make sure the missing libraries mentioned above are installed properly.\n",
      "2023-04-19 13:21:14.938510: I tensorflow/stream_executor/cuda/cuda_gpu_executor.cc:980] successful NUMA node read from SysFS had negative value (-1), but there must be at least one NUMA node, so returning NUMA node zero\n",
      "2023-04-19 13:21:15.055186: I tensorflow/stream_executor/cuda/cuda_gpu_executor.cc:980] successful NUMA node read from SysFS had negative value (-1), but there must be at least one NUMA node, so returning NUMA node zero\n",
      "2023-04-19 13:21:15.055507: I tensorflow/stream_executor/cuda/cuda_gpu_executor.cc:980] successful NUMA node read from SysFS had negative value (-1), but there must be at least one NUMA node, so returning NUMA node zero\n"
     ]
    },
    {
     "name": "stdout",
     "output_type": "stream",
     "text": [
      "[PhysicalDevice(name='/physical_device:GPU:0', device_type='GPU')]\n"
     ]
    },
    {
     "name": "stderr",
     "output_type": "stream",
     "text": [
      "2023-04-19 13:21:15.405826: I tensorflow/core/platform/cpu_feature_guard.cc:193] This TensorFlow binary is optimized with oneAPI Deep Neural Network Library (oneDNN) to use the following CPU instructions in performance-critical operations:  AVX2 FMA\n",
      "To enable them in other operations, rebuild TensorFlow with the appropriate compiler flags.\n",
      "2023-04-19 13:21:15.407477: I tensorflow/stream_executor/cuda/cuda_gpu_executor.cc:980] successful NUMA node read from SysFS had negative value (-1), but there must be at least one NUMA node, so returning NUMA node zero\n",
      "2023-04-19 13:21:15.407772: I tensorflow/stream_executor/cuda/cuda_gpu_executor.cc:980] successful NUMA node read from SysFS had negative value (-1), but there must be at least one NUMA node, so returning NUMA node zero\n",
      "2023-04-19 13:21:15.407979: I tensorflow/stream_executor/cuda/cuda_gpu_executor.cc:980] successful NUMA node read from SysFS had negative value (-1), but there must be at least one NUMA node, so returning NUMA node zero\n",
      "2023-04-19 13:21:16.376511: I tensorflow/stream_executor/cuda/cuda_gpu_executor.cc:980] successful NUMA node read from SysFS had negative value (-1), but there must be at least one NUMA node, so returning NUMA node zero\n",
      "2023-04-19 13:21:16.376792: I tensorflow/stream_executor/cuda/cuda_gpu_executor.cc:980] successful NUMA node read from SysFS had negative value (-1), but there must be at least one NUMA node, so returning NUMA node zero\n",
      "2023-04-19 13:21:16.377027: I tensorflow/stream_executor/cuda/cuda_gpu_executor.cc:980] successful NUMA node read from SysFS had negative value (-1), but there must be at least one NUMA node, so returning NUMA node zero\n",
      "2023-04-19 13:21:16.377178: I tensorflow/core/common_runtime/gpu/gpu_device.cc:1616] Created device /job:localhost/replica:0/task:0/device:GPU:0 with 4096 MB memory:  -> device: 0, name: NVIDIA GeForce RTX 3090, pci bus id: 0000:07:00.0, compute capability: 8.6\n"
     ]
    },
    {
     "name": "stdout",
     "output_type": "stream",
     "text": [
      "Jupyter environment detected. Enabling Open3D WebVisualizer.\n",
      "[Open3D INFO] WebRTC GUI backend enabled.\n",
      "[Open3D INFO] WebRTCWindowSystem: HTTP handshake server disabled.\n"
     ]
    },
    {
     "data": {
      "application/javascript": [
       "IPython.notebook.set_autosave_interval(180000)"
      ]
     },
     "metadata": {},
     "output_type": "display_data"
    },
    {
     "name": "stdout",
     "output_type": "stream",
     "text": [
      "Autosaving every 180 seconds\n"
     ]
    }
   ],
   "source": [
    "from vedo import *\n",
    "import os\n",
    "from ipyvtklink.viewer import ViewInteractiveWidget\n",
    "import pykitti\n",
    "import numpy as np\n",
    "import tensorflow as tf\n",
    "import time\n",
    "import pickle\n",
    "\n",
    "#limit GPU memory ------------------------------------------------\n",
    "gpus = tf.config.experimental.list_physical_devices('GPU')\n",
    "print(gpus)\n",
    "if gpus:\n",
    "  try:\n",
    "    memlim = 4*1024\n",
    "    tf.config.experimental.set_virtual_device_configuration(gpus[0], [tf.config.experimental.VirtualDeviceConfiguration(memory_limit=memlim)])\n",
    "  except RuntimeError as e:\n",
    "    print(e)\n",
    "#-----------------------------------------------------------------\n",
    "\n",
    "from tensorflow.math import sin, cos, tan\n",
    "import tensorflow_probability as tfp\n",
    "import sys\n",
    "current = os.getcwd()\n",
    "parent_directory = os.path.dirname(current)\n",
    "sys.path.append(parent_directory)\n",
    "from ICET_spherical import ICET\n",
    "from utils import *\n",
    "from metpy.calc import lat_lon_grid_deltas\n",
    "from pioneer.das.api.platform import Platform\n",
    "from scipy.spatial.transform import Rotation as R\n",
    "from pioneer.das.api.egomotion.imu_egomotion_provider import IMUEgomotionProvider as emp \n",
    "from matplotlib import pyplot as plt\n",
    "\n",
    "%load_ext autoreload\n",
    "%autoreload 2\n",
    "%autosave 180\n",
    "%matplotlib notebook"
   ]
  },
  {
   "cell_type": "markdown",
   "id": "68afb097",
   "metadata": {},
   "source": [
    "# Goal: Estimate acceleration profile $\\hat{m}$ Using Newton-Raphson to compensate for distortion between similar point cloud"
   ]
  },
  {
   "cell_type": "markdown",
   "id": "e27a2deb",
   "metadata": {},
   "source": [
    "Through the first order Taylor approximation we define: \n",
    "\n",
    "$\\mathbf{h}(\\hat{m})$ as the means of voxel centers in cloud $j$ passed through the distortion operator $\\mathbb{C}$ according to estimated motion profile $\\hat{m}$. \n",
    "\n",
    "$\\mathbf{H}$ is the Jacobian of $\\mathbf{h}$, which is multiplied by a linear correction factor $\\delta m$.\n",
    "\n",
    "$    y_i = \\mathbf{h}(\\hat{m}) + \\mathbf{H} \\delta m $\n"
   ]
  },
  {
   "cell_type": "code",
   "execution_count": 56,
   "id": "a120a44a",
   "metadata": {},
   "outputs": [],
   "source": [
    "#load point cloud\n",
    "# no distortion\n",
    "# old_cloud =  np.load(\"sample_data/paper_figures/case1/raw_frame_0.npy\")\n",
    "# m_hat = np.array([-3., -2., 0., 0., 0., 0.0])\n",
    "\n",
    "# movement in x\n",
    "old_cloud =  np.load(\"sample_data/paper_figures/case2/raw_frame_3.npy\") \n",
    "# m_hat = np.array([3, 0, 0., 0., 0., 0])\n",
    "m_hat = np.array([3, 0, 0., 0., 0., -0.1]) #FOR DEBUG-- deform just a little\n",
    "gt =  np.load(\"sample_data/paper_figures/case2/base_vel_2.npy\")\n",
    "\n",
    "# # movement in x, y, & yaw\n",
    "# old_cloud =  np.load(\"sample_data/paper_figures/case3/raw_frame_1.npy\") \n",
    "# m_hat = np.array([3, -1, 0., 0., 0., -1])\n",
    "# gt =  np.load(\"sample_data/paper_figures/case3/base_vel_2.npy\")\n",
    "# # print(gt) \n",
    "\n",
    "# period_lidar = 1\n",
    "# t_scale = (2*np.pi)/(-m_hat[-1] + (2*np.pi/period_lidar))\n",
    "# print(t_scale)\n",
    "# m_hat = m_hat*t_scale\n",
    "# # m_hat[-1] = m_hat[-1]*t_scaled\n",
    "# print(m_hat)\n",
    "\n",
    "\n",
    "#downsample\n",
    "old_cloud = old_cloud[::5,:]"
   ]
  },
  {
   "cell_type": "code",
   "execution_count": 57,
   "id": "50cf50be",
   "metadata": {},
   "outputs": [],
   "source": [
    "from remove_motion_basic import linear_correction_old as lc \n",
    "\n",
    "new_cloud = lc(old_cloud, m_hat)\n",
    "# undistorted = lc(new_cloud, -m_hat)"
   ]
  },
  {
   "cell_type": "code",
   "execution_count": 58,
   "id": "d9a01d62",
   "metadata": {},
   "outputs": [
    {
     "data": {
      "application/vnd.jupyter.widget-view+json": {
       "model_id": "804dec8d07264b199cc6a40c4ce05770",
       "version_major": 2,
       "version_minor": 0
      },
      "text/plain": [
       "ViewInteractiveWidget(height=1043, layout=Layout(height='auto', width='100%'), width=1280)"
      ]
     },
     "metadata": {},
     "output_type": "display_data"
    }
   ],
   "source": [
    "plt = Plotter(N = 1, axes = 4, bg = (1, 1, 1), interactive = True)\n",
    "disp=[]\n",
    "# disp.append(Points(undistorted, c = \"#CB2314\"))\n",
    "# disp.append(Points(old_cloud, c = \"#CB2314\"))\n",
    "disp.append(Points(new_cloud, c = \"#3F5151\"))\n",
    "plt.show(disp, \"test viz\")\n",
    "ViewInteractiveWidget(plt.window)"
   ]
  },
  {
   "cell_type": "markdown",
   "id": "13c2554d",
   "metadata": {},
   "source": [
    "# Analytically calculating derivatives with SymPy"
   ]
  },
  {
   "cell_type": "code",
   "execution_count": 16,
   "id": "cb1f585f",
   "metadata": {},
   "outputs": [],
   "source": [
    "from sympy import *\n",
    "\n",
    "x, y, z = symbols('x y z')\n",
    "\n",
    "init_printing(use_unicode=True)"
   ]
  },
  {
   "cell_type": "code",
   "execution_count": 17,
   "id": "e37a7643",
   "metadata": {},
   "outputs": [
    {
     "name": "stdout",
     "output_type": "stream",
     "text": [
      "-sin(x)\n",
      "Derivative(cos(x), x)\n"
     ]
    }
   ],
   "source": [
    "#sovles for the derivative\n",
    "ans1 = diff(cos(x), x)\n",
    "print(ans1)\n",
    "\n",
    "#creates an unevaluated derivative\n",
    "ans2 = Derivative(cos(x), x)\n",
    "print(ans2)"
   ]
  },
  {
   "cell_type": "code",
   "execution_count": 18,
   "id": "2aac426d",
   "metadata": {},
   "outputs": [
    {
     "data": {
      "image/png": "[encoded data removed]",
      "text/latex": [
       "$\\displaystyle - \\frac{8 \\sin^{2}{\\left(x \\right)} \\sin{\\left(\\frac{x}{2} + \\frac{1}{2} \\right)}}{15} - 2 \\sin^{2}{\\left(x \\right)} \\cos{\\left(\\frac{x}{2} + \\frac{1}{2} \\right)} - \\frac{4 \\sin{\\left(x \\right)} \\cos{\\left(x \\right)} \\cos{\\left(\\frac{x}{2} + \\frac{1}{2} \\right)}}{15} + \\frac{8 \\sin{\\left(\\frac{x}{2} + \\frac{1}{2} \\right)} \\cos^{2}{\\left(x \\right)}}{15} - 2 \\cos^{2}{\\left(x \\right)} \\cos{\\left(\\frac{x}{2} + \\frac{1}{2} \\right)}$"
      ],
      "text/plain": [
       "       2       ⎛x   1⎞                                             ⎛x   1⎞    \n",
       "  8⋅sin (x)⋅sin⎜─ + ─⎟                          4⋅sin(x)⋅cos(x)⋅cos⎜─ + ─⎟   8\n",
       "               ⎝2   2⎠        2       ⎛x   1⎞                      ⎝2   2⎠    \n",
       "- ──────────────────── - 2⋅sin (x)⋅cos⎜─ + ─⎟ - ────────────────────────── + ─\n",
       "           15                         ⎝2   2⎠               15                \n",
       "\n",
       "    ⎛x   1⎞    2                          \n",
       "⋅sin⎜─ + ─⎟⋅cos (x)                       \n",
       "    ⎝2   2⎠                2       ⎛x   1⎞\n",
       "─────────────────── - 2⋅cos (x)⋅cos⎜─ + ─⎟\n",
       "        15                         ⎝2   2⎠"
      ]
     },
     "execution_count": 18,
     "metadata": {},
     "output_type": "execute_result"
    }
   ],
   "source": [
    "ans3 = integrate(sin((x+1)/2)*(cos(x)-sin(x))**2, x)\n",
    "# print(latex(ans3)) #-> converts to LaTeX so I don't have to re-copy everything \n",
    "\n",
    "integrate(sin((x+1)/2)*(cos(x)-sin(x))**2, x)\n"
   ]
  },
  {
   "cell_type": "code",
   "execution_count": 19,
   "id": "cf003a30",
   "metadata": {},
   "outputs": [
    {
     "data": {
      "text/latex": [
       "$\\displaystyle \\left[\\begin{matrix}\\frac{100 x^{3}}{3} + 6 x & 14 x^{2}\\\\21 x^{2} & \\frac{16 x^{3}}{3} + 6 x\\end{matrix}\\right]$"
      ],
      "text/plain": [
       "⎡     3                   ⎤\n",
       "⎢100⋅x                2   ⎥\n",
       "⎢────── + 6⋅x     14⋅x    ⎥\n",
       "⎢  3                      ⎥\n",
       "⎢                         ⎥\n",
       "⎢                  3      ⎥\n",
       "⎢       2      16⋅x       ⎥\n",
       "⎢   21⋅x       ───── + 6⋅x⎥\n",
       "⎣                3        ⎦"
      ]
     },
     "execution_count": 19,
     "metadata": {},
     "output_type": "execute_result"
    }
   ],
   "source": [
    "a = Matrix([[10*x, 2], \n",
    "            [3, 4*x]])\n",
    "# A = integrate(a**2)\n",
    "# print(latex(A))\n",
    "integrate(a**2)"
   ]
  },
  {
   "cell_type": "code",
   "execution_count": 20,
   "id": "a05cf548",
   "metadata": {},
   "outputs": [
    {
     "data": {
      "text/latex": [
       "$\\displaystyle \\left[\\begin{matrix}0 & 0\\\\6 x & 0\\end{matrix}\\right]$"
      ],
      "text/plain": [
       "⎡ 0   0⎤\n",
       "⎢      ⎥\n",
       "⎣6⋅x  0⎦"
      ]
     },
     "execution_count": 20,
     "metadata": {},
     "output_type": "execute_result"
    }
   ],
   "source": [
    "b = Matrix([[x + 1, 2*y],\n",
    "            [3*x**2*y, 3 + x + y**2]])\n",
    "diff(b, y, x)"
   ]
  },
  {
   "cell_type": "markdown",
   "id": "618b6559",
   "metadata": {},
   "source": [
    "# Derive Jacobain H"
   ]
  },
  {
   "cell_type": "markdown",
   "id": "0a735bbc",
   "metadata": {},
   "source": [
    "### $\\mathbf{H} \\in \\mathbb{R}^{4N \\times 6} $\n",
    "\n",
    "### $\\mathbf{H} = \n",
    "\\begin{bmatrix}\n",
    "^{(n)}H_{x} ~ ^{(n)}H_{y} ~ ^{(n)}H_{z} ~ ^{(n)}H_{\\phi} ~ ^{(n)}H_{\\theta} ~ ^{(n)}H_{\\psi}\n",
    "\\end{bmatrix}$\n",
    "\n",
    "### $ ^{(n)}\\mathbf{H}_x =  \\frac{\\delta{\\mathbb{C}}}{\\delta x} ~ ^{(n)}y_j \\in \\mathbb{R}^{4 \\times 1}$\n",
    "\n",
    "### Here $^{(n)}y_j$ refers to distribution mean from scan j inside voxel n, denoted in homogenous coordinates\n",
    "\n",
    "$[x, y, z] \\rightarrow [x, y, z, 1] $ \n",
    "\n",
    "<!-- <span style=\"color:red\"> TODO: figure out if I need to use homogeneous coordinates for $y_j$ </span> -->"
   ]
  },
  {
   "cell_type": "markdown",
   "id": "17dd0287",
   "metadata": {},
   "source": [
    "# Calculate correction  function $\\mathbf{C}$ "
   ]
  },
  {
   "cell_type": "markdown",
   "id": "f289cf03",
   "metadata": {},
   "source": [
    "## $\\mathbf{C}(\\hat{m}) = T_{\\text{rect}}(M(\\hat{m})) \\in \\mathbb{R}^{4 \\times 4} $\n",
    "\n",
    "Here, the rectifying transformation $T_{\\text{rect}}$ for each point in $y_j$ depends on scaled values of $\\hat{m}$ which are concatenated to form matrix $M$. Since points are stored in the order they are recieved and are somewhat even spread throughout the scene, we can approximate $M$ through a simple linspace matrix without needing to transform to a spherical representation. $t_{\\text{scale}}$ is a scaling parameter to normalize the turn rate of the sensor in the presence of composite yaw rotation.\n",
    "\n",
    "## $\n",
    "M = \\bigg{(} \\{ r: r = t_{\\text{scale}} \\frac{p}{P}, p \\in \\{ 0, 1, ..., P \\} \\} \\bigg{)} \\hat{m}\n",
    "\\in \\mathbb{R}^{P \\times 6}\n",
    "% \\begin{bmatrix}\n",
    "% 1 & 1 & 1 & 1 \n",
    "% \\end{bmatrix}\n",
    "$\n",
    "\n",
    "## $t_{\\text{scale}} = \\frac{2\\pi}{-\\psi + \\omega_{\\text{LIDAR}} } $ \n"
   ]
  },
  {
   "cell_type": "markdown",
   "id": "4411222e",
   "metadata": {},
   "source": [
    "My old way of \"unwinding\" was acomplished by converting the point cloud to spherical coordinates, rescaling the yaw angle, and then converting back to Cartesian \n",
    "\n",
    "<!-- ## $y_{j, \\text{unwound}} =\n",
    "\\text{s2c} \\bigg{(} \\text{c2s}(y_{j})\n",
    "\\begin{bmatrix}\n",
    "    1 & 0 & 0 \\\\\n",
    "    0 & 1 & 0 \\\\\n",
    "    0 & 0 & \\psi_{\\text{rect}}\n",
    "\\end{bmatrix} \\bigg{)}$\n",
    " -->\n",
    "Unfortunately, c2s() is a nonlinear operation so it makes things a little tricky when we need to do everything via linear algebra\n",
    "\n",
    "<!-- ## $ \\text{c2s}(y_j) = \n",
    "\\begin{bmatrix}\n",
    "x_1 & y_1 & z_1 \\\\\n",
    "x_2 & y_2 & z_2 \\\\\n",
    " & \\vdots &\n",
    "\\end{bmatrix}\n",
    "\\rightarrow\n",
    "\\begin{bmatrix}\n",
    "r_1 & \\phi_1 & \\theta_1 \\\\\n",
    "r_2 & \\phi_2 & \\theta_2 \\\\\n",
    "r_3 & \\phi_3 & \\theta_3\n",
    "\\end{bmatrix}\n",
    "$\n",
    " -->\n",
    "<!-- ### GPT:\n",
    "lol it really got this wro\n",
    "\n",
    "$ ^{(n)}y_j = \\begin{bmatrix}\n",
    "x \\\\\n",
    "y \\\\\n",
    "z\n",
    "\\end{bmatrix}\n",
    "$\n",
    "\n",
    "$ B = \\begin{bmatrix}\n",
    "\\text{sin}(\\theta) ~ \\text{cos}(\\phi) & \\text{cos}(\\theta) ~ \\text{cos}(\\phi) & -\\text{sin}(\\phi) \\\\\n",
    "\\text{sin}(\\theta)\\text{sin}(\\phi) & \\text{cos}(\\theta)\\text{sin}(\\phi) & \\text{cos}(\\phi) \\\\\n",
    "\\text{cos}(\\theta) & -\\text{sin}(\\theta) & 0\n",
    "\\end{bmatrix}\n",
    "$\n",
    "\n",
    "$B ~ ^{(n)}y_j = ^{(n)}y_{j, \\text{spherical}} $ -->\n",
    "\n",
    "\n",
    "<!-- Putting everything together:\n",
    "\n",
    " $\n",
    "\\mathbb{C}(y_j, \\hat{m}) =\n",
    "M ~ T_{\\text{rect}} \\bigg{[} \\text{s2c} \\bigg{(} \\text{c2s}(y_{j})\n",
    "\\begin{bmatrix}\n",
    "    1 & 0 & 0 \\\\\n",
    "    0 & 1 & 0 \\\\\n",
    "    0 & 0 & \\psi_{\\text{rect}}\n",
    "\\end{bmatrix} \\bigg{)},\n",
    "\\begin{bmatrix}\n",
    "    1 \\\\\n",
    "    \\vdots \n",
    "\\end{bmatrix}\n",
    "\\bigg{]}^T$\n",
    " -->"
   ]
  },
  {
   "cell_type": "code",
   "execution_count": 21,
   "id": "39211bc6",
   "metadata": {},
   "outputs": [
    {
     "name": "stdout",
     "output_type": "stream",
     "text": [
      "(6,)\n"
     ]
    }
   ],
   "source": [
    "period_lidar = 1\n",
    "m_hat = np.array([3, 0, 0., 0., 0., -0.5])\n",
    "t_scale = (2*np.pi)/(-m_hat[-1] + (2*np.pi/period_lidar))\n",
    "# print(t_scale)\n",
    "lsvec = np.linspace(0,t_scale, 100)\n",
    "\n",
    "print(np.shape(m_hat))\n",
    "M = m_hat * np.array([lsvec, lsvec, lsvec, lsvec, lsvec, lsvec]).T\n",
    "# print(np.shape(M))\n",
    "# print(M)"
   ]
  },
  {
   "cell_type": "markdown",
   "id": "938cb598",
   "metadata": {},
   "source": [
    "## Get transform $T_{\\text{rect}}$"
   ]
  },
  {
   "cell_type": "code",
   "execution_count": 41,
   "id": "1679236d",
   "metadata": {},
   "outputs": [
    {
     "name": "stdout",
     "output_type": "stream",
     "text": [
      "T_rect =\n"
     ]
    },
    {
     "data": {
      "text/latex": [
       "$\\displaystyle \\left[\\begin{matrix}\\frac{\\cos{\\left(\\psi \\right)} \\cos{\\left(\\theta \\right)}}{\\sin^{2}{\\left(\\psi \\right)} \\sin^{2}{\\left(\\theta \\right)} + \\sin^{2}{\\left(\\psi \\right)} \\cos^{2}{\\left(\\theta \\right)} + \\sin^{2}{\\left(\\theta \\right)} \\cos^{2}{\\left(\\psi \\right)} + \\cos^{2}{\\left(\\psi \\right)} \\cos^{2}{\\left(\\theta \\right)}} & \\frac{\\sin{\\left(\\phi \\right)} \\sin{\\left(\\theta \\right)} \\cos{\\left(\\psi \\right)} - \\sin{\\left(\\psi \\right)} \\sin^{2}{\\left(\\theta \\right)} \\cos{\\left(\\phi \\right)} - \\sin{\\left(\\psi \\right)} \\cos{\\left(\\phi \\right)} \\cos^{2}{\\left(\\theta \\right)}}{\\sin^{2}{\\left(\\phi \\right)} \\sin^{2}{\\left(\\psi \\right)} \\sin^{2}{\\left(\\theta \\right)} + \\sin^{2}{\\left(\\phi \\right)} \\sin^{2}{\\left(\\psi \\right)} \\cos^{2}{\\left(\\theta \\right)} + \\sin^{2}{\\left(\\phi \\right)} \\sin^{2}{\\left(\\theta \\right)} \\cos^{2}{\\left(\\psi \\right)} + \\sin^{2}{\\left(\\phi \\right)} \\cos^{2}{\\left(\\psi \\right)} \\cos^{2}{\\left(\\theta \\right)} + \\sin^{2}{\\left(\\psi \\right)} \\sin^{2}{\\left(\\theta \\right)} \\cos^{2}{\\left(\\phi \\right)} + \\sin^{2}{\\left(\\psi \\right)} \\cos^{2}{\\left(\\phi \\right)} \\cos^{2}{\\left(\\theta \\right)} + \\sin^{2}{\\left(\\theta \\right)} \\cos^{2}{\\left(\\phi \\right)} \\cos^{2}{\\left(\\psi \\right)} + \\cos^{2}{\\left(\\phi \\right)} \\cos^{2}{\\left(\\psi \\right)} \\cos^{2}{\\left(\\theta \\right)}} & \\frac{\\sin{\\left(\\phi \\right)} \\sin{\\left(\\psi \\right)} \\sin^{2}{\\left(\\theta \\right)} + \\sin{\\left(\\phi \\right)} \\sin{\\left(\\psi \\right)} \\cos^{2}{\\left(\\theta \\right)} + \\sin{\\left(\\theta \\right)} \\cos{\\left(\\phi \\right)} \\cos{\\left(\\psi \\right)}}{\\sin^{2}{\\left(\\phi \\right)} \\sin^{2}{\\left(\\psi \\right)} \\sin^{2}{\\left(\\theta \\right)} + \\sin^{2}{\\left(\\phi \\right)} \\sin^{2}{\\left(\\psi \\right)} \\cos^{2}{\\left(\\theta \\right)} + \\sin^{2}{\\left(\\phi \\right)} \\sin^{2}{\\left(\\theta \\right)} \\cos^{2}{\\left(\\psi \\right)} + \\sin^{2}{\\left(\\phi \\right)} \\cos^{2}{\\left(\\psi \\right)} \\cos^{2}{\\left(\\theta \\right)} + \\sin^{2}{\\left(\\psi \\right)} \\sin^{2}{\\left(\\theta \\right)} \\cos^{2}{\\left(\\phi \\right)} + \\sin^{2}{\\left(\\psi \\right)} \\cos^{2}{\\left(\\phi \\right)} \\cos^{2}{\\left(\\theta \\right)} + \\sin^{2}{\\left(\\theta \\right)} \\cos^{2}{\\left(\\phi \\right)} \\cos^{2}{\\left(\\psi \\right)} + \\cos^{2}{\\left(\\phi \\right)} \\cos^{2}{\\left(\\psi \\right)} \\cos^{2}{\\left(\\theta \\right)}} & - x\\\\\\frac{\\sin{\\left(\\psi \\right)} \\cos{\\left(\\theta \\right)}}{\\sin^{2}{\\left(\\psi \\right)} \\sin^{2}{\\left(\\theta \\right)} + \\sin^{2}{\\left(\\psi \\right)} \\cos^{2}{\\left(\\theta \\right)} + \\sin^{2}{\\left(\\theta \\right)} \\cos^{2}{\\left(\\psi \\right)} + \\cos^{2}{\\left(\\psi \\right)} \\cos^{2}{\\left(\\theta \\right)}} & \\frac{\\sin{\\left(\\phi \\right)} \\sin{\\left(\\psi \\right)} \\sin{\\left(\\theta \\right)} + \\sin^{2}{\\left(\\theta \\right)} \\cos{\\left(\\phi \\right)} \\cos{\\left(\\psi \\right)} + \\cos{\\left(\\phi \\right)} \\cos{\\left(\\psi \\right)} \\cos^{2}{\\left(\\theta \\right)}}{\\sin^{2}{\\left(\\phi \\right)} \\sin^{2}{\\left(\\psi \\right)} \\sin^{2}{\\left(\\theta \\right)} + \\sin^{2}{\\left(\\phi \\right)} \\sin^{2}{\\left(\\psi \\right)} \\cos^{2}{\\left(\\theta \\right)} + \\sin^{2}{\\left(\\phi \\right)} \\sin^{2}{\\left(\\theta \\right)} \\cos^{2}{\\left(\\psi \\right)} + \\sin^{2}{\\left(\\phi \\right)} \\cos^{2}{\\left(\\psi \\right)} \\cos^{2}{\\left(\\theta \\right)} + \\sin^{2}{\\left(\\psi \\right)} \\sin^{2}{\\left(\\theta \\right)} \\cos^{2}{\\left(\\phi \\right)} + \\sin^{2}{\\left(\\psi \\right)} \\cos^{2}{\\left(\\phi \\right)} \\cos^{2}{\\left(\\theta \\right)} + \\sin^{2}{\\left(\\theta \\right)} \\cos^{2}{\\left(\\phi \\right)} \\cos^{2}{\\left(\\psi \\right)} + \\cos^{2}{\\left(\\phi \\right)} \\cos^{2}{\\left(\\psi \\right)} \\cos^{2}{\\left(\\theta \\right)}} & \\frac{- \\sin{\\left(\\phi \\right)} \\sin^{2}{\\left(\\theta \\right)} \\cos{\\left(\\psi \\right)} - \\sin{\\left(\\phi \\right)} \\cos{\\left(\\psi \\right)} \\cos^{2}{\\left(\\theta \\right)} + \\sin{\\left(\\psi \\right)} \\sin{\\left(\\theta \\right)} \\cos{\\left(\\phi \\right)}}{\\sin^{2}{\\left(\\phi \\right)} \\sin^{2}{\\left(\\psi \\right)} \\sin^{2}{\\left(\\theta \\right)} + \\sin^{2}{\\left(\\phi \\right)} \\sin^{2}{\\left(\\psi \\right)} \\cos^{2}{\\left(\\theta \\right)} + \\sin^{2}{\\left(\\phi \\right)} \\sin^{2}{\\left(\\theta \\right)} \\cos^{2}{\\left(\\psi \\right)} + \\sin^{2}{\\left(\\phi \\right)} \\cos^{2}{\\left(\\psi \\right)} \\cos^{2}{\\left(\\theta \\right)} + \\sin^{2}{\\left(\\psi \\right)} \\sin^{2}{\\left(\\theta \\right)} \\cos^{2}{\\left(\\phi \\right)} + \\sin^{2}{\\left(\\psi \\right)} \\cos^{2}{\\left(\\phi \\right)} \\cos^{2}{\\left(\\theta \\right)} + \\sin^{2}{\\left(\\theta \\right)} \\cos^{2}{\\left(\\phi \\right)} \\cos^{2}{\\left(\\psi \\right)} + \\cos^{2}{\\left(\\phi \\right)} \\cos^{2}{\\left(\\psi \\right)} \\cos^{2}{\\left(\\theta \\right)}} & - y\\\\- \\frac{\\sin{\\left(\\theta \\right)}}{\\sin^{2}{\\left(\\theta \\right)} + \\cos^{2}{\\left(\\theta \\right)}} & \\frac{\\sin{\\left(\\phi \\right)} \\cos{\\left(\\theta \\right)}}{\\sin^{2}{\\left(\\phi \\right)} \\sin^{2}{\\left(\\theta \\right)} + \\sin^{2}{\\left(\\phi \\right)} \\cos^{2}{\\left(\\theta \\right)} + \\sin^{2}{\\left(\\theta \\right)} \\cos^{2}{\\left(\\phi \\right)} + \\cos^{2}{\\left(\\phi \\right)} \\cos^{2}{\\left(\\theta \\right)}} & \\frac{\\cos{\\left(\\phi \\right)} \\cos{\\left(\\theta \\right)}}{\\sin^{2}{\\left(\\phi \\right)} \\sin^{2}{\\left(\\theta \\right)} + \\sin^{2}{\\left(\\phi \\right)} \\cos^{2}{\\left(\\theta \\right)} + \\sin^{2}{\\left(\\theta \\right)} \\cos^{2}{\\left(\\phi \\right)} + \\cos^{2}{\\left(\\phi \\right)} \\cos^{2}{\\left(\\theta \\right)}} & - z\\\\0 & 0 & 0 & 1\\end{matrix}\\right]$"
      ],
      "text/plain": [
       "⎡                                                                             \n",
       "⎢                            cos(ψ)⋅cos(θ)                                    \n",
       "⎢─────────────────────────────────────────────────────────────────────  ──────\n",
       "⎢   2       2         2       2         2       2         2       2        2  \n",
       "⎢sin (ψ)⋅sin (θ) + sin (ψ)⋅cos (θ) + sin (θ)⋅cos (ψ) + cos (ψ)⋅cos (θ)  sin (φ\n",
       "⎢                                                                             \n",
       "⎢                                                                             \n",
       "⎢                            sin(ψ)⋅cos(θ)                                    \n",
       "⎢─────────────────────────────────────────────────────────────────────  ──────\n",
       "⎢   2       2         2       2         2       2         2       2        2  \n",
       "⎢sin (ψ)⋅sin (θ) + sin (ψ)⋅cos (θ) + sin (θ)⋅cos (ψ) + cos (ψ)⋅cos (θ)  sin (φ\n",
       "⎢                                                                             \n",
       "⎢                               -sin(θ)                                       \n",
       "⎢                          ─────────────────                                  \n",
       "⎢                             2         2                                     \n",
       "⎢                          sin (θ) + cos (θ)                                  \n",
       "⎢                                                                             \n",
       "⎣                                  0                                          \n",
       "\n",
       "                                                                              \n",
       "                                                               sin(φ)⋅sin(θ)⋅c\n",
       "──────────────────────────────────────────────────────────────────────────────\n",
       "     2       2         2       2       2         2       2       2         2  \n",
       ")⋅sin (ψ)⋅sin (θ) + sin (φ)⋅sin (ψ)⋅cos (θ) + sin (φ)⋅sin (θ)⋅cos (ψ) + sin (φ\n",
       "                                                                              \n",
       "                                                                              \n",
       "                                                               sin(φ)⋅sin(ψ)⋅s\n",
       "──────────────────────────────────────────────────────────────────────────────\n",
       "     2       2         2       2       2         2       2       2         2  \n",
       ")⋅sin (ψ)⋅sin (θ) + sin (φ)⋅sin (ψ)⋅cos (θ) + sin (φ)⋅sin (θ)⋅cos (ψ) + sin (φ\n",
       "                                                                              \n",
       "                                                                              \n",
       "                                                              ────────────────\n",
       "                                                                 2       2    \n",
       "                                                              sin (φ)⋅sin (θ) \n",
       "                                                                              \n",
       "                                                                              \n",
       "\n",
       "                  2                              2                            \n",
       "os(ψ) - sin(ψ)⋅sin (θ)⋅cos(φ) - sin(ψ)⋅cos(φ)⋅cos (θ)                         \n",
       "──────────────────────────────────────────────────────────────────────────────\n",
       "     2       2         2       2       2         2       2       2         2  \n",
       ")⋅cos (ψ)⋅cos (θ) + sin (ψ)⋅sin (θ)⋅cos (φ) + sin (ψ)⋅cos (φ)⋅cos (θ) + sin (θ\n",
       "                                                                              \n",
       "           2                                     2                            \n",
       "in(θ) + sin (θ)⋅cos(φ)⋅cos(ψ) + cos(φ)⋅cos(ψ)⋅cos (θ)                         \n",
       "──────────────────────────────────────────────────────────────────────────────\n",
       "     2       2         2       2       2         2       2       2         2  \n",
       ")⋅cos (ψ)⋅cos (θ) + sin (ψ)⋅sin (θ)⋅cos (φ) + sin (ψ)⋅cos (φ)⋅cos (θ) + sin (θ\n",
       "                                                                              \n",
       "            sin(φ)⋅cos(θ)                                                     \n",
       "─────────────────────────────────────────────────────                         \n",
       "     2       2         2       2         2       2                            \n",
       "+ sin (φ)⋅cos (θ) + sin (θ)⋅cos (φ) + cos (φ)⋅cos (θ)                         \n",
       "                                                                              \n",
       "                  0                                                           \n",
       "\n",
       "                                                                              \n",
       "                                                                              \n",
       "───────────────────────────────────────────  ─────────────────────────────────\n",
       "     2       2         2       2       2        2       2       2         2   \n",
       ")⋅cos (φ)⋅cos (ψ) + cos (φ)⋅cos (ψ)⋅cos (θ)  sin (φ)⋅sin (ψ)⋅sin (θ) + sin (φ)\n",
       "                                                                              \n",
       "                                                                              \n",
       "                                                                              \n",
       "───────────────────────────────────────────  ─────────────────────────────────\n",
       "     2       2         2       2       2        2       2       2         2   \n",
       ")⋅cos (φ)⋅cos (ψ) + cos (φ)⋅cos (ψ)⋅cos (θ)  sin (φ)⋅sin (ψ)⋅sin (θ) + sin (φ)\n",
       "                                                                              \n",
       "                                                                              \n",
       "                                                                              \n",
       "                                                                              \n",
       "                                                                              \n",
       "                                                                              \n",
       "                                                                              \n",
       "\n",
       "                                                     2                       2\n",
       "                                    sin(φ)⋅sin(ψ)⋅sin (θ) + sin(φ)⋅sin(ψ)⋅cos \n",
       "──────────────────────────────────────────────────────────────────────────────\n",
       "    2       2         2       2       2         2       2       2         2   \n",
       "⋅sin (ψ)⋅cos (θ) + sin (φ)⋅sin (θ)⋅cos (ψ) + sin (φ)⋅cos (ψ)⋅cos (θ) + sin (ψ)\n",
       "                                                                              \n",
       "                                               2                              \n",
       "                                   - sin(φ)⋅sin (θ)⋅cos(ψ) - sin(φ)⋅cos(ψ)⋅cos\n",
       "──────────────────────────────────────────────────────────────────────────────\n",
       "    2       2         2       2       2         2       2       2         2   \n",
       "⋅sin (ψ)⋅cos (θ) + sin (φ)⋅sin (θ)⋅cos (ψ) + sin (φ)⋅cos (ψ)⋅cos (θ) + sin (ψ)\n",
       "                                                                              \n",
       "                                                               cos(φ)⋅cos(θ)  \n",
       "                                   ───────────────────────────────────────────\n",
       "                                      2       2         2       2         2   \n",
       "                                   sin (φ)⋅sin (θ) + sin (φ)⋅cos (θ) + sin (θ)\n",
       "                                                                              \n",
       "                                                                     0        \n",
       "\n",
       "                                                                              \n",
       "(θ) + sin(θ)⋅cos(φ)⋅cos(ψ)                                                    \n",
       "──────────────────────────────────────────────────────────────────────────────\n",
       "    2       2         2       2       2         2       2       2         2   \n",
       "⋅sin (θ)⋅cos (φ) + sin (ψ)⋅cos (φ)⋅cos (θ) + sin (θ)⋅cos (φ)⋅cos (ψ) + cos (φ)\n",
       "                                                                              \n",
       "2                                                                             \n",
       " (θ) + sin(ψ)⋅sin(θ)⋅cos(φ)                                                   \n",
       "──────────────────────────────────────────────────────────────────────────────\n",
       "    2       2         2       2       2         2       2       2         2   \n",
       "⋅sin (θ)⋅cos (φ) + sin (ψ)⋅cos (φ)⋅cos (θ) + sin (θ)⋅cos (φ)⋅cos (ψ) + cos (φ)\n",
       "                                                                              \n",
       "                                                                              \n",
       "──────────────────────────                                                    \n",
       "    2         2       2                                                       \n",
       "⋅cos (φ) + cos (φ)⋅cos (θ)                                                    \n",
       "                                                                              \n",
       "                                                                              \n",
       "\n",
       "                    ⎤\n",
       "                    ⎥\n",
       "────────────────  -x⎥\n",
       "    2       2       ⎥\n",
       "⋅cos (ψ)⋅cos (θ)    ⎥\n",
       "                    ⎥\n",
       "                    ⎥\n",
       "                    ⎥\n",
       "────────────────  -y⎥\n",
       "    2       2       ⎥\n",
       "⋅cos (ψ)⋅cos (θ)    ⎥\n",
       "                    ⎥\n",
       "                    ⎥\n",
       "                  -z⎥\n",
       "                    ⎥\n",
       "                    ⎥\n",
       "                    ⎥\n",
       "                  1 ⎦"
      ]
     },
     "execution_count": 41,
     "metadata": {},
     "output_type": "execute_result"
    }
   ],
   "source": [
    "x, y, z, phi, theta, psi = symbols('x y z phi theta psi')\n",
    "# m_hat = Matrix([x, y, z, phi, theta, phi]).T\n",
    "m_hat = np.array([1,2,3,0.4,0.5,0.6])\n",
    "# print( \"m_hat = \", pretty(m_hat))\n",
    "\n",
    "T_roll = Matrix([[1, 0, 0, 0],\n",
    "                 [0, cos(phi), sin(phi), 0],\n",
    "                 [0, -sin(phi), cos(phi), 0],\n",
    "                 [0, 0, 0, 1]])\n",
    "# print(\"\\n T_roll =\") \n",
    "# print(pretty(T_roll))\n",
    "\n",
    "T_pitch = Matrix([[cos(theta), 0, -sin(theta), 0],\n",
    "                 [0, 1, 0, 0],\n",
    "                 [sin(theta), 0, cos(theta), 0],\n",
    "                 [0, 0, 0, 1]])\n",
    "# print(\"\\n T_pitch =\") \n",
    "# print(pretty(T_pitch))\n",
    "\n",
    "#Recall we are setting T_yaw to identity here since scan axis-aligned motion is already compensated for\n",
    "T_yaw = Matrix([[cos(psi), sin(psi), 0, 0],\n",
    "                 [-sin(psi), cos(psi), 0, 0],\n",
    "                 [0, 0, 1, 0],\n",
    "                 [0, 0, 0, 1]])\n",
    "# print(\"\\n T_yaw =\") \n",
    "# print(pretty(T_yaw))\n",
    "\n",
    "T_trans = Matrix([[1, 0, 0, x],\n",
    "                 [0, 1, 0, y],\n",
    "                 [0, 0, 1, z],\n",
    "                 [0, 0, 0, 1]])\n",
    "# print(\"\\n T_trans =\") \n",
    "# print(pretty(T_trans))\n",
    "\n",
    "# T_rect = (T_roll * T_pitch * T_yaw * T_trans)\n",
    "T_rect = (T_roll * T_pitch * T_yaw * T_trans).inv()\n",
    "print(\"T_rect =\")\n",
    "T_rect"
   ]
  },
  {
   "cell_type": "code",
   "execution_count": 44,
   "id": "66663758",
   "metadata": {},
   "outputs": [
    {
     "name": "stdout",
     "output_type": "stream",
     "text": [
      "\\left[\\begin{matrix}\\cos{\\left(\\psi \\right)} \\cos{\\left(\\theta \\right)} & \\sin{\\left(\\phi \\right)} \\sin{\\left(\\theta \\right)} \\cos{\\left(\\psi \\right)} - \\sin{\\left(\\psi \\right)} \\cos{\\left(\\phi \\right)} & \\sin{\\left(\\phi \\right)} \\sin{\\left(\\psi \\right)} + \\sin{\\left(\\theta \\right)} \\cos{\\left(\\phi \\right)} \\cos{\\left(\\psi \\right)} & - x\\\\\\sin{\\left(\\psi \\right)} \\cos{\\left(\\theta \\right)} & \\sin{\\left(\\phi \\right)} \\sin{\\left(\\psi \\right)} \\sin{\\left(\\theta \\right)} + \\cos{\\left(\\phi \\right)} \\cos{\\left(\\psi \\right)} & - \\sin{\\left(\\phi \\right)} \\cos{\\left(\\psi \\right)} + \\sin{\\left(\\psi \\right)} \\sin{\\left(\\theta \\right)} \\cos{\\left(\\phi \\right)} & - y\\\\- \\sin{\\left(\\theta \\right)} & \\sin{\\left(\\phi \\right)} \\cos{\\left(\\theta \\right)} & \\cos{\\left(\\phi \\right)} \\cos{\\left(\\theta \\right)} & - z\\\\0 & 0 & 0 & 1\\end{matrix}\\right]\n"
     ]
    }
   ],
   "source": [
    "#try simplifying T_rect before takiking derivatives!\n",
    "T_rect = simplify(T_rect)\n",
    "# T_rect\n",
    "print(latex(T_rect))"
   ]
  },
  {
   "cell_type": "code",
   "execution_count": 43,
   "id": "8f8e1f9f",
   "metadata": {},
   "outputs": [
    {
     "data": {
      "text/latex": [
       "$\\displaystyle \\left[\\begin{matrix}- \\sin{\\left(\\theta \\right)} \\cos{\\left(\\psi \\right)} & \\sin{\\left(\\phi \\right)} \\cos{\\left(\\psi \\right)} \\cos{\\left(\\theta \\right)} & \\cos{\\left(\\phi \\right)} \\cos{\\left(\\psi \\right)} \\cos{\\left(\\theta \\right)} & 0\\\\- \\sin{\\left(\\psi \\right)} \\sin{\\left(\\theta \\right)} & \\sin{\\left(\\phi \\right)} \\sin{\\left(\\psi \\right)} \\cos{\\left(\\theta \\right)} & \\sin{\\left(\\psi \\right)} \\cos{\\left(\\phi \\right)} \\cos{\\left(\\theta \\right)} & 0\\\\- \\cos{\\left(\\theta \\right)} & - \\sin{\\left(\\phi \\right)} \\sin{\\left(\\theta \\right)} & - \\sin{\\left(\\theta \\right)} \\cos{\\left(\\phi \\right)} & 0\\\\0 & 0 & 0 & 0\\end{matrix}\\right]$"
      ],
      "text/plain": [
       "⎡-sin(θ)⋅cos(ψ)  sin(φ)⋅cos(ψ)⋅cos(θ)  cos(φ)⋅cos(ψ)⋅cos(θ)  0⎤\n",
       "⎢                                                             ⎥\n",
       "⎢-sin(ψ)⋅sin(θ)  sin(φ)⋅sin(ψ)⋅cos(θ)  sin(ψ)⋅cos(φ)⋅cos(θ)  0⎥\n",
       "⎢                                                             ⎥\n",
       "⎢   -cos(θ)         -sin(φ)⋅sin(θ)        -sin(θ)⋅cos(φ)     0⎥\n",
       "⎢                                                             ⎥\n",
       "⎣      0                  0                     0            0⎦"
      ]
     },
     "execution_count": 43,
     "metadata": {},
     "output_type": "execute_result"
    }
   ],
   "source": [
    "# print(diff(T_rect, x))\n",
    "# diff(T_rect,y)\n",
    "# print(diff(T_rect, z))\n",
    "# print(diff(T_rect, psi))\n",
    "# diff(T_rect, phi)\n",
    "diff(T_rect, theta)\n",
    "# diff(T_rect, psi)\n",
    "# print(latex(diff(T_rect, theta)))"
   ]
  },
  {
   "cell_type": "code",
   "execution_count": 24,
   "id": "4d5489a9",
   "metadata": {},
   "outputs": [],
   "source": [
    "# # print(T_rect) # -> take printed output and convert to numpy array\n",
    "\n",
    "# # from tensorflow.math import sin, cos\n",
    "# from numpy import sin, cos\n",
    "\n",
    "# x = np.array([1,2,3])#[:,None]\n",
    "# y = np.array([1,2,3])#[:,None]\n",
    "# z = np.array([1,2,3])#[:,None]\n",
    "# phi = np.array([1,2,3])#[:,None]\n",
    "# theta = np.array([1,2,3])#[:,None]\n",
    "# psi = np.array([1,2,3])#[:,None]\n",
    "# test = np.array([cos(x) * cos(y) / sin(phi), cos(x) * cos(y) / sin(phi)])\n",
    "# print(np.shape(test))\n",
    "# print(test)\n",
    "\n",
    "# T_rect_np = np.array([[cos(psi)*cos(theta)/(sin(psi)**2*sin(theta)**2 + sin(psi)**2*cos(theta)**2 + sin(theta)**2*cos(psi)**2 + cos(psi)**2*cos(theta)**2), (sin(phi)*sin(theta)*cos(psi) - sin(psi)*sin(theta)**2*cos(phi) - sin(psi)*cos(phi)*cos(theta)**2)/(sin(phi)**2*sin(psi)**2*sin(theta)**2 + sin(phi)**2*sin(psi)**2*cos(theta)**2 + sin(phi)**2*sin(theta)**2*cos(psi)**2 + sin(phi)**2*cos(psi)**2*cos(theta)**2 + sin(psi)**2*sin(theta)**2*cos(phi)**2 + sin(psi)**2*cos(phi)**2*cos(theta)**2 + sin(theta)**2*cos(phi)**2*cos(psi)**2 + cos(phi)**2*cos(psi)**2*cos(theta)**2), (sin(phi)*sin(psi)*sin(theta)**2 + sin(phi)*sin(psi)*cos(theta)**2 + sin(theta)*cos(phi)*cos(psi))/(sin(phi)**2*sin(psi)**2*sin(theta)**2 + sin(phi)**2*sin(psi)**2*cos(theta)**2 + sin(phi)**2*sin(theta)**2*cos(psi)**2 + sin(phi)**2*cos(psi)**2*cos(theta)**2 + sin(psi)**2*sin(theta)**2*cos(phi)**2 + sin(psi)**2*cos(phi)**2*cos(theta)**2 + sin(theta)**2*cos(phi)**2*cos(psi)**2 + cos(phi)**2*cos(psi)**2*cos(theta)**2), -x], [sin(psi)*cos(theta)/(sin(psi)**2*sin(theta)**2 + sin(psi)**2*cos(theta)**2 + sin(theta)**2*cos(psi)**2 + cos(psi)**2*cos(theta)**2), (sin(phi)*sin(psi)*sin(theta) + sin(theta)**2*cos(phi)*cos(psi) + cos(phi)*cos(psi)*cos(theta)**2)/(sin(phi)**2*sin(psi)**2*sin(theta)**2 + sin(phi)**2*sin(psi)**2*cos(theta)**2 + sin(phi)**2*sin(theta)**2*cos(psi)**2 + sin(phi)**2*cos(psi)**2*cos(theta)**2 + sin(psi)**2*sin(theta)**2*cos(phi)**2 + sin(psi)**2*cos(phi)**2*cos(theta)**2 + sin(theta)**2*cos(phi)**2*cos(psi)**2 + cos(phi)**2*cos(psi)**2*cos(theta)**2), (-sin(phi)*sin(theta)**2*cos(psi) - sin(phi)*cos(psi)*cos(theta)**2 + sin(psi)*sin(theta)*cos(phi))/(sin(phi)**2*sin(psi)**2*sin(theta)**2 + sin(phi)**2*sin(psi)**2*cos(theta)**2 + sin(phi)**2*sin(theta)**2*cos(psi)**2 + sin(phi)**2*cos(psi)**2*cos(theta)**2 + sin(psi)**2*sin(theta)**2*cos(phi)**2 + sin(psi)**2*cos(phi)**2*cos(theta)**2 + sin(theta)**2*cos(phi)**2*cos(psi)**2 + cos(phi)**2*cos(psi)**2*cos(theta)**2), -y], [-sin(theta)/(sin(theta)**2 + cos(theta)**2), sin(phi)*cos(theta)/(sin(phi)**2*sin(theta)**2 + sin(phi)**2*cos(theta)**2 + sin(theta)**2*cos(phi)**2 + cos(phi)**2*cos(theta)**2), cos(phi)*cos(theta)/(sin(phi)**2*sin(theta)**2 + sin(phi)**2*cos(theta)**2 + sin(theta)**2*cos(phi)**2 + cos(phi)**2*cos(theta)**2), -z], \n",
    "#                       [np.zeros(len(x)), np.zeros(len(x)), np.zeros(len(x)), np.ones(len(x))]])\n",
    "# print(np.shape(T_rect_np))\n",
    "# test = np.transpose(T_rect_np, (2,0,1))\n",
    "# print(test)"
   ]
  },
  {
   "cell_type": "code",
   "execution_count": 14,
   "id": "16141b9d",
   "metadata": {},
   "outputs": [],
   "source": [
    "# y_j = y_j[:3]\n",
    "# if np.shape(y_j)[1] == 3:\n",
    "#     y_j = np.append(y_j, np.ones([len(y_j),1]), axis = 1)\n",
    "\n",
    "# # y_j_tf = tf.convert_to_tensor(y_j[:,:,None])\n",
    "# # test_tf = tf.convert_to_tensor(test)\n",
    "# # print(np.shape(y_j_tf))\n",
    "# # print(np.shape(test_tf))\n",
    "\n",
    "# # ans = y_j_tf * test_tf\n",
    "\n",
    "# print(np.shape(y_j[:,:,None]))\n",
    "# print(np.shape(test))\n",
    "# # ans = y_j[:,:,None] * test\n",
    "# ans = test @ y_j[:,:,None]\n",
    "\n",
    "\n",
    "# print(np.shape(ans))\n",
    "# print(ans)\n",
    "# ans = np.reshape(ans, (-1, 1))\n",
    "# print(ans)"
   ]
  },
  {
   "cell_type": "code",
   "execution_count": 15,
   "id": "686425f5",
   "metadata": {},
   "outputs": [
    {
     "data": {
      "text/latex": [
       "$\\displaystyle \\left[\\begin{matrix}0 & \\frac{\\sin{\\left(\\phi \\right)} \\sin{\\left(\\psi \\right)} \\sin^{2}{\\left(\\theta \\right)} + \\sin{\\left(\\phi \\right)} \\sin{\\left(\\psi \\right)} \\cos^{2}{\\left(\\theta \\right)} + \\sin{\\left(\\theta \\right)} \\cos{\\left(\\phi \\right)} \\cos{\\left(\\psi \\right)}}{\\sin^{2}{\\left(\\phi \\right)} \\sin^{2}{\\left(\\psi \\right)} \\sin^{2}{\\left(\\theta \\right)} + \\sin^{2}{\\left(\\phi \\right)} \\sin^{2}{\\left(\\psi \\right)} \\cos^{2}{\\left(\\theta \\right)} + \\sin^{2}{\\left(\\phi \\right)} \\sin^{2}{\\left(\\theta \\right)} \\cos^{2}{\\left(\\psi \\right)} + \\sin^{2}{\\left(\\phi \\right)} \\cos^{2}{\\left(\\psi \\right)} \\cos^{2}{\\left(\\theta \\right)} + \\sin^{2}{\\left(\\psi \\right)} \\sin^{2}{\\left(\\theta \\right)} \\cos^{2}{\\left(\\phi \\right)} + \\sin^{2}{\\left(\\psi \\right)} \\cos^{2}{\\left(\\phi \\right)} \\cos^{2}{\\left(\\theta \\right)} + \\sin^{2}{\\left(\\theta \\right)} \\cos^{2}{\\left(\\phi \\right)} \\cos^{2}{\\left(\\psi \\right)} + \\cos^{2}{\\left(\\phi \\right)} \\cos^{2}{\\left(\\psi \\right)} \\cos^{2}{\\left(\\theta \\right)}} & \\frac{- \\sin{\\left(\\phi \\right)} \\sin{\\left(\\theta \\right)} \\cos{\\left(\\psi \\right)} + \\sin{\\left(\\psi \\right)} \\sin^{2}{\\left(\\theta \\right)} \\cos{\\left(\\phi \\right)} + \\sin{\\left(\\psi \\right)} \\cos{\\left(\\phi \\right)} \\cos^{2}{\\left(\\theta \\right)}}{\\sin^{2}{\\left(\\phi \\right)} \\sin^{2}{\\left(\\psi \\right)} \\sin^{2}{\\left(\\theta \\right)} + \\sin^{2}{\\left(\\phi \\right)} \\sin^{2}{\\left(\\psi \\right)} \\cos^{2}{\\left(\\theta \\right)} + \\sin^{2}{\\left(\\phi \\right)} \\sin^{2}{\\left(\\theta \\right)} \\cos^{2}{\\left(\\psi \\right)} + \\sin^{2}{\\left(\\phi \\right)} \\cos^{2}{\\left(\\psi \\right)} \\cos^{2}{\\left(\\theta \\right)} + \\sin^{2}{\\left(\\psi \\right)} \\sin^{2}{\\left(\\theta \\right)} \\cos^{2}{\\left(\\phi \\right)} + \\sin^{2}{\\left(\\psi \\right)} \\cos^{2}{\\left(\\phi \\right)} \\cos^{2}{\\left(\\theta \\right)} + \\sin^{2}{\\left(\\theta \\right)} \\cos^{2}{\\left(\\phi \\right)} \\cos^{2}{\\left(\\psi \\right)} + \\cos^{2}{\\left(\\phi \\right)} \\cos^{2}{\\left(\\psi \\right)} \\cos^{2}{\\left(\\theta \\right)}} & 0\\\\0 & \\frac{- \\sin{\\left(\\phi \\right)} \\sin^{2}{\\left(\\theta \\right)} \\cos{\\left(\\psi \\right)} - \\sin{\\left(\\phi \\right)} \\cos{\\left(\\psi \\right)} \\cos^{2}{\\left(\\theta \\right)} + \\sin{\\left(\\psi \\right)} \\sin{\\left(\\theta \\right)} \\cos{\\left(\\phi \\right)}}{\\sin^{2}{\\left(\\phi \\right)} \\sin^{2}{\\left(\\psi \\right)} \\sin^{2}{\\left(\\theta \\right)} + \\sin^{2}{\\left(\\phi \\right)} \\sin^{2}{\\left(\\psi \\right)} \\cos^{2}{\\left(\\theta \\right)} + \\sin^{2}{\\left(\\phi \\right)} \\sin^{2}{\\left(\\theta \\right)} \\cos^{2}{\\left(\\psi \\right)} + \\sin^{2}{\\left(\\phi \\right)} \\cos^{2}{\\left(\\psi \\right)} \\cos^{2}{\\left(\\theta \\right)} + \\sin^{2}{\\left(\\psi \\right)} \\sin^{2}{\\left(\\theta \\right)} \\cos^{2}{\\left(\\phi \\right)} + \\sin^{2}{\\left(\\psi \\right)} \\cos^{2}{\\left(\\phi \\right)} \\cos^{2}{\\left(\\theta \\right)} + \\sin^{2}{\\left(\\theta \\right)} \\cos^{2}{\\left(\\phi \\right)} \\cos^{2}{\\left(\\psi \\right)} + \\cos^{2}{\\left(\\phi \\right)} \\cos^{2}{\\left(\\psi \\right)} \\cos^{2}{\\left(\\theta \\right)}} & \\frac{- \\sin{\\left(\\phi \\right)} \\sin{\\left(\\psi \\right)} \\sin{\\left(\\theta \\right)} - \\sin^{2}{\\left(\\theta \\right)} \\cos{\\left(\\phi \\right)} \\cos{\\left(\\psi \\right)} - \\cos{\\left(\\phi \\right)} \\cos{\\left(\\psi \\right)} \\cos^{2}{\\left(\\theta \\right)}}{\\sin^{2}{\\left(\\phi \\right)} \\sin^{2}{\\left(\\psi \\right)} \\sin^{2}{\\left(\\theta \\right)} + \\sin^{2}{\\left(\\phi \\right)} \\sin^{2}{\\left(\\psi \\right)} \\cos^{2}{\\left(\\theta \\right)} + \\sin^{2}{\\left(\\phi \\right)} \\sin^{2}{\\left(\\theta \\right)} \\cos^{2}{\\left(\\psi \\right)} + \\sin^{2}{\\left(\\phi \\right)} \\cos^{2}{\\left(\\psi \\right)} \\cos^{2}{\\left(\\theta \\right)} + \\sin^{2}{\\left(\\psi \\right)} \\sin^{2}{\\left(\\theta \\right)} \\cos^{2}{\\left(\\phi \\right)} + \\sin^{2}{\\left(\\psi \\right)} \\cos^{2}{\\left(\\phi \\right)} \\cos^{2}{\\left(\\theta \\right)} + \\sin^{2}{\\left(\\theta \\right)} \\cos^{2}{\\left(\\phi \\right)} \\cos^{2}{\\left(\\psi \\right)} + \\cos^{2}{\\left(\\phi \\right)} \\cos^{2}{\\left(\\psi \\right)} \\cos^{2}{\\left(\\theta \\right)}} & 0\\\\0 & \\frac{\\cos{\\left(\\phi \\right)} \\cos{\\left(\\theta \\right)}}{\\sin^{2}{\\left(\\phi \\right)} \\sin^{2}{\\left(\\theta \\right)} + \\sin^{2}{\\left(\\phi \\right)} \\cos^{2}{\\left(\\theta \\right)} + \\sin^{2}{\\left(\\theta \\right)} \\cos^{2}{\\left(\\phi \\right)} + \\cos^{2}{\\left(\\phi \\right)} \\cos^{2}{\\left(\\theta \\right)}} & - \\frac{\\sin{\\left(\\phi \\right)} \\cos{\\left(\\theta \\right)}}{\\sin^{2}{\\left(\\phi \\right)} \\sin^{2}{\\left(\\theta \\right)} + \\sin^{2}{\\left(\\phi \\right)} \\cos^{2}{\\left(\\theta \\right)} + \\sin^{2}{\\left(\\theta \\right)} \\cos^{2}{\\left(\\phi \\right)} + \\cos^{2}{\\left(\\phi \\right)} \\cos^{2}{\\left(\\theta \\right)}} & 0\\\\0 & 0 & 0 & 0\\end{matrix}\\right]$"
      ],
      "text/plain": [
       "⎡                                                                             \n",
       "⎢                                                                        sin(φ\n",
       "⎢0  ──────────────────────────────────────────────────────────────────────────\n",
       "⎢      2       2       2         2       2       2         2       2       2  \n",
       "⎢   sin (φ)⋅sin (ψ)⋅sin (θ) + sin (φ)⋅sin (ψ)⋅cos (θ) + sin (φ)⋅sin (θ)⋅cos (ψ\n",
       "⎢                                                                             \n",
       "⎢                                                                             \n",
       "⎢                                                                       - sin(\n",
       "⎢0  ──────────────────────────────────────────────────────────────────────────\n",
       "⎢      2       2       2         2       2       2         2       2       2  \n",
       "⎢   sin (φ)⋅sin (ψ)⋅sin (θ) + sin (φ)⋅sin (ψ)⋅cos (θ) + sin (φ)⋅sin (θ)⋅cos (ψ\n",
       "⎢                                                                             \n",
       "⎢                                                                             \n",
       "⎢0                                                                      ──────\n",
       "⎢                                                                          2  \n",
       "⎢                                                                       sin (φ\n",
       "⎢                                                                             \n",
       "⎣0                                                                            \n",
       "\n",
       "            2                       2                                         \n",
       ")⋅sin(ψ)⋅sin (θ) + sin(φ)⋅sin(ψ)⋅cos (θ) + sin(θ)⋅cos(φ)⋅cos(ψ)               \n",
       "──────────────────────────────────────────────────────────────────────────────\n",
       "       2       2       2         2       2       2         2       2       2  \n",
       ") + sin (φ)⋅cos (ψ)⋅cos (θ) + sin (ψ)⋅sin (θ)⋅cos (φ) + sin (ψ)⋅cos (φ)⋅cos (θ\n",
       "                                                                              \n",
       "      2                              2                                        \n",
       "φ)⋅sin (θ)⋅cos(ψ) - sin(φ)⋅cos(ψ)⋅cos (θ) + sin(ψ)⋅sin(θ)⋅cos(φ)              \n",
       "──────────────────────────────────────────────────────────────────────────────\n",
       "       2       2       2         2       2       2         2       2       2  \n",
       ") + sin (φ)⋅cos (ψ)⋅cos (θ) + sin (ψ)⋅sin (θ)⋅cos (φ) + sin (ψ)⋅cos (φ)⋅cos (θ\n",
       "                                                                              \n",
       "                      cos(φ)⋅cos(θ)                                           \n",
       "───────────────────────────────────────────────────────────────               \n",
       "     2         2       2         2       2         2       2                  \n",
       ")⋅sin (θ) + sin (φ)⋅cos (θ) + sin (θ)⋅cos (φ) + cos (φ)⋅cos (θ)               \n",
       "                                                                              \n",
       "                            0                                                 \n",
       "\n",
       "                                                                              \n",
       "                                                                              \n",
       "─────────────────────────────────────────────────────  ───────────────────────\n",
       "       2       2       2         2       2       2        2       2       2   \n",
       ") + sin (θ)⋅cos (φ)⋅cos (ψ) + cos (φ)⋅cos (ψ)⋅cos (θ)  sin (φ)⋅sin (ψ)⋅sin (θ)\n",
       "                                                                              \n",
       "                                                                              \n",
       "                                                                              \n",
       "─────────────────────────────────────────────────────  ───────────────────────\n",
       "       2       2       2         2       2       2        2       2       2   \n",
       ") + sin (θ)⋅cos (φ)⋅cos (ψ) + cos (φ)⋅cos (ψ)⋅cos (θ)  sin (φ)⋅sin (ψ)⋅sin (θ)\n",
       "                                                                              \n",
       "                                                                              \n",
       "                                                                              \n",
       "                                                                              \n",
       "                                                                              \n",
       "                                                                              \n",
       "                                                                              \n",
       "\n",
       "                                                                              \n",
       "                                             -sin(φ)⋅sin(θ)⋅cos(ψ) + sin(ψ)⋅si\n",
       "──────────────────────────────────────────────────────────────────────────────\n",
       "      2       2       2         2       2       2         2       2       2   \n",
       " + sin (φ)⋅sin (ψ)⋅cos (θ) + sin (φ)⋅sin (θ)⋅cos (ψ) + sin (φ)⋅cos (ψ)⋅cos (θ)\n",
       "                                                                              \n",
       "                                                                        2     \n",
       "                                             -sin(φ)⋅sin(ψ)⋅sin(θ) - sin (θ)⋅c\n",
       "──────────────────────────────────────────────────────────────────────────────\n",
       "      2       2       2         2       2       2         2       2       2   \n",
       " + sin (φ)⋅sin (ψ)⋅cos (θ) + sin (φ)⋅sin (θ)⋅cos (ψ) + sin (φ)⋅cos (ψ)⋅cos (θ)\n",
       "                                                                              \n",
       "                                                                        -sin(φ\n",
       "                                             ─────────────────────────────────\n",
       "                                                2       2         2       2   \n",
       "                                             sin (φ)⋅sin (θ) + sin (φ)⋅cos (θ)\n",
       "                                                                              \n",
       "                                                                              \n",
       "\n",
       " 2                              2                                             \n",
       "n (θ)⋅cos(φ) + sin(ψ)⋅cos(φ)⋅cos (θ)                                          \n",
       "──────────────────────────────────────────────────────────────────────────────\n",
       "      2       2       2         2       2       2         2       2       2   \n",
       " + sin (ψ)⋅sin (θ)⋅cos (φ) + sin (ψ)⋅cos (φ)⋅cos (θ) + sin (θ)⋅cos (φ)⋅cos (ψ)\n",
       "                                                                              \n",
       "                                2                                             \n",
       "os(φ)⋅cos(ψ) - cos(φ)⋅cos(ψ)⋅cos (θ)                                          \n",
       "──────────────────────────────────────────────────────────────────────────────\n",
       "      2       2       2         2       2       2         2       2       2   \n",
       " + sin (ψ)⋅sin (θ)⋅cos (φ) + sin (ψ)⋅cos (φ)⋅cos (θ) + sin (θ)⋅cos (φ)⋅cos (ψ)\n",
       "                                                                              \n",
       ")⋅cos(θ)                                                                      \n",
       "────────────────────────────────────                                          \n",
       "      2       2         2       2                                             \n",
       " + sin (θ)⋅cos (φ) + cos (φ)⋅cos (θ)                                          \n",
       "                                                                              \n",
       " 0                                                                            \n",
       "\n",
       "                             ⎤\n",
       "                             ⎥\n",
       "──────────────────────────  0⎥\n",
       "      2       2       2      ⎥\n",
       " + cos (φ)⋅cos (ψ)⋅cos (θ)   ⎥\n",
       "                             ⎥\n",
       "                             ⎥\n",
       "                             ⎥\n",
       "──────────────────────────  0⎥\n",
       "      2       2       2      ⎥\n",
       " + cos (φ)⋅cos (ψ)⋅cos (θ)   ⎥\n",
       "                             ⎥\n",
       "                             ⎥\n",
       "                            0⎥\n",
       "                             ⎥\n",
       "                             ⎥\n",
       "                             ⎥\n",
       "                            0⎦"
      ]
     },
     "execution_count": 15,
     "metadata": {},
     "output_type": "execute_result"
    }
   ],
   "source": [
    "# diff(T_rect, x)\n",
    "diff(T_rect, phi)\n",
    "\n",
    "# dT_rect_dx = diff(T_rect, x)\n",
    "# pprint(dT_rect_dx)"
   ]
  },
  {
   "cell_type": "code",
   "execution_count": 16,
   "id": "8901c5c1",
   "metadata": {},
   "outputs": [
    {
     "name": "stdout",
     "output_type": "stream",
     "text": [
      "<class 'numpy.ndarray'>\n",
      "\n",
      " [[ 0.          0.58433397  0.36598239  0.        ]\n",
      " [ 0.         -0.07206591 -0.86560155  0.        ]\n",
      " [ 0.          0.80830707 -0.34174675  0.        ]\n",
      " [ 0.          0.          0.          0.        ]]\n"
     ]
    }
   ],
   "source": [
    "#substitue in values\n",
    "expr = diff(T_rect, phi)\n",
    "# print(expr)\n",
    "# expr = T_rect\n",
    "# print(m_hat)\n",
    "ans = expr.subs([(x, m_hat[0]), \n",
    "                 (y, m_hat[1]),\n",
    "                 (z, m_hat[2]),\n",
    "                 (phi, m_hat[3]),\n",
    "                 (theta, m_hat[4]),\n",
    "                 (psi, m_hat[5])])\n",
    "print(type(np.array(ans)))\n",
    "print(\"\\n\", np.array(ans).astype(np.float64))"
   ]
  },
  {
   "cell_type": "markdown",
   "id": "bdad51e8",
   "metadata": {},
   "source": [
    "# Test rectifying motion distortion usuing SymPy Linalg technique"
   ]
  },
  {
   "cell_type": "code",
   "execution_count": 59,
   "id": "d94129f1",
   "metadata": {
    "scrolled": false
   },
   "outputs": [
    {
     "data": {
      "application/vnd.jupyter.widget-view+json": {
       "model_id": "9ca87fa0dfab4c7a87751ba942eff03d",
       "version_major": 2,
       "version_minor": 0
      },
      "text/plain": [
       "ViewInteractiveWidget(height=1043, layout=Layout(height='auto', width='100%'), width=1280)"
      ]
     },
     "metadata": {},
     "output_type": "display_data"
    }
   ],
   "source": [
    "from remove_motion_basic import get_H\n",
    "from remove_motion_basic import linear_correction_old as lc \n",
    "\n",
    "m_hat = np.array([3, 0, 0, 0, 0, 0])\n",
    "skip = 1\n",
    "y_j = old_cloud[::skip]\n",
    "# y_j = old_cloud[::skip] + np.array([0.5, 0.5, 0.]) #test offset - hurts performance but doesn't cause anything to explode\n",
    "y_i = new_cloud[::skip] #has distortion already corrected\n",
    "\n",
    "# #remove ground plane\n",
    "# y_i = y_i[y_i[:,2] > -1]\n",
    "# y_j = y_j[y_j[:,2] > -1]\n",
    "\n",
    "H = get_H(y_j = y_j, m_hat = m_hat )\n",
    "\n",
    "#plot result\n",
    "plt = Plotter(N = 1, axes = 4, bg = (1, 1, 1), interactive = True)\n",
    "disp=[]\n",
    "disp.append(Points(y_j, c = \"#CB2314\", r=3.5))\n",
    "disp.append(Points(y_i, c = \"#3F5151\", r=3.5))\n",
    "plt.show(disp, \"test viz\")\n",
    "ViewInteractiveWidget(plt.window)"
   ]
  },
  {
   "cell_type": "code",
   "execution_count": 47,
   "id": "1be507d5",
   "metadata": {},
   "outputs": [
    {
     "name": "stdout",
     "output_type": "stream",
     "text": [
      "(66256, 6)\n",
      "66256\n"
     ]
    }
   ],
   "source": [
    "print(np.shape(H))\n",
    "print(np.shape(y_j)[0]*4)"
   ]
  },
  {
   "cell_type": "markdown",
   "id": "5be8a4d8",
   "metadata": {},
   "source": [
    "# Simple Test using pre-rectified point cloud\n",
    "#### in this example we don't need to worry about iteratively finding correspondences\n",
    "(y_i and y_j are the same length and are ordered accordingly) "
   ]
  },
  {
   "cell_type": "code",
   "execution_count": 61,
   "id": "97ebdff8",
   "metadata": {
    "scrolled": true
   },
   "outputs": [
    {
     "name": "stdout",
     "output_type": "stream",
     "text": [
      "~~~~ iteration  0 ~~~~~~~~~~~\n",
      "m_hat =  [0. 0. 0. 0. 0. 0.]\n",
      "(18074, 3)\n",
      "residual (72296,)\n",
      "~~~~ iteration  1 ~~~~~~~~~~~\n",
      "m_hat =  [ 1.33816984e+00 -5.96346995e-02  6.99753174e-04 -9.42749607e-04\n",
      " -1.29104784e-03 -7.39467896e-03]\n",
      "(18074, 3)\n",
      "residual (72296,)\n",
      "~~~~ iteration  2 ~~~~~~~~~~~\n",
      "m_hat =  [ 2.01877768e+00 -8.24260990e-02 -1.12552808e-03 -8.71480221e-04\n",
      " -1.69622158e-03 -3.04790399e-02]\n",
      "(18074, 3)\n",
      "residual (72296,)\n",
      "~~~~ iteration  3 ~~~~~~~~~~~\n",
      "m_hat =  [ 2.39589268e+00 -8.01196796e-02 -2.27509890e-03 -5.91539185e-04\n",
      " -1.63062748e-03 -5.15402930e-02]\n",
      "(18074, 3)\n",
      "residual (72296,)\n",
      "~~~~ iteration  4 ~~~~~~~~~~~\n",
      "m_hat =  [ 2.61888403e+00 -6.74516254e-02 -2.51728922e-03 -3.47985080e-04\n",
      " -1.37004460e-03 -6.72630307e-02]\n",
      "(18074, 3)\n",
      "residual (72296,)\n",
      "~~~~ iteration  5 ~~~~~~~~~~~\n",
      "m_hat =  [ 2.75623612e+00 -5.25475029e-02 -2.23786590e-03 -1.83835316e-04\n",
      " -1.06675522e-03 -7.82070598e-02]\n",
      "(18074, 3)\n",
      "residual (72296,)\n",
      "~~~~ iteration  6 ~~~~~~~~~~~\n",
      "m_hat =  [ 2.84287382e+00 -3.90066268e-02 -1.77104521e-03 -8.56380223e-05\n",
      " -7.91435612e-04 -8.56007128e-02]\n",
      "(18074, 3)\n",
      "residual (72296,)\n",
      "~~~~ iteration  7 ~~~~~~~~~~~\n",
      "m_hat =  [ 2.89826674e+00 -2.80252561e-02 -1.30309109e-03 -3.15463649e-05\n",
      " -5.68320844e-04 -9.05251460e-02]\n",
      "(18074, 3)\n",
      "residual (72296,)\n",
      "~~~~ iteration  8 ~~~~~~~~~~~\n",
      "m_hat =  [ 2.93395775e+00 -1.96737874e-02 -9.11413093e-04 -4.06892070e-06\n",
      " -3.98866171e-04 -9.37807994e-02]\n",
      "(18074, 3)\n",
      "residual (72296,)\n",
      "~~~~ iteration  9 ~~~~~~~~~~~\n",
      "m_hat =  [ 2.95705810e+00 -1.35780696e-02 -6.13547574e-04  8.39385444e-06\n",
      " -2.75365329e-04 -9.59242286e-02]\n",
      "(18074, 3)\n",
      "residual (72296,)\n"
     ]
    },
    {
     "data": {
      "application/vnd.jupyter.widget-view+json": {
       "model_id": "fe2d3ff3c8784aecbc84a0ebab0fcb75",
       "version_major": 2,
       "version_minor": 0
      },
      "text/plain": [
       "ViewInteractiveWidget(height=1043, layout=Layout(height='auto', width='100%'), width=1280)"
      ]
     },
     "metadata": {},
     "output_type": "display_data"
    }
   ],
   "source": [
    "#assume initial correction factor of 0 for each solution component\n",
    "m_hat = np.array([0., 0, 0, 0, 0, 0])\n",
    "skip = 1 #50\n",
    "y_i = new_cloud[::skip] #baseline\n",
    "y_j = old_cloud[::skip] #distorted cloud\n",
    "# y_j = old_cloud[::skip] + np.array([0.5, 0.5, 0.]) #test offset - hurts performance but doesn't cause anything to explode\n",
    "\n",
    "# #add noise \n",
    "# noise_scale = 0.01\n",
    "# y_i += np.random.randn(np.shape(y_i)[0],np.shape(y_i)[1])*noise_scale \n",
    "# y_j += np.random.randn(np.shape(y_j)[0],np.shape(y_j)[1])*noise_scale \n",
    "\n",
    "plt = Plotter(N = 1, axes = 4, bg = (1, 1, 1), interactive = True)\n",
    "disp=[]\n",
    "disp.append(Points(y_i[:,:3], c = \"#2c7c94 \", alpha = 1, r=3.5))\n",
    "\n",
    "runlen = 10\n",
    "for count in range(runlen):\n",
    "    \n",
    "    print(\"~~~~ iteration \", count, \"~~~~~~~~~~~\")\n",
    "    print(\"m_hat = \", m_hat)\n",
    "    \n",
    "    #apply last estimate of correction\n",
    "    y_j_undistort = lc(y_j, m_hat)\n",
    "    print(np.shape(y_j_undistort))\n",
    "    \n",
    "    #delta_m =  ((H^T*H)^-1)(H^T)(yi - yj*)\n",
    "    H = get_H(y_j_undistort, m_hat)\n",
    "    residual = (np.append(y_i, np.ones([len(y_i),1]), axis = 1) -\n",
    "                np.append(y_j_undistort, np.ones([len(y_i),1]), axis = 1)).flatten()\n",
    "    print(\"residual\", np.shape(residual))\n",
    "    delta_m = np.linalg.pinv(H.T @ H) @ H.T @ residual\n",
    "    m_hat[:3] -= delta_m[:3]\n",
    "    m_hat[3:] += delta_m[3:] #TODO: figure out why angles are backwards...    \n",
    "    \n",
    "    #plot updated cloud2\n",
    "#     color = [0.5 + count/(runlen*2), 1 - count/runlen, count/runlen]\n",
    "    disp.append(Points(y_j_undistort[:,:3], c = \"#a65852 \", alpha = (count+1)/(runlen+1), r=3.5))\n",
    "\n",
    "    \n",
    "plt.show(disp, \"test viz\")\n",
    "ViewInteractiveWidget(plt.window)"
   ]
  },
  {
   "cell_type": "markdown",
   "id": "83ab424c",
   "metadata": {},
   "source": [
    "# Test using spherical voxels to form distributions"
   ]
  },
  {
   "cell_type": "code",
   "execution_count": 77,
   "id": "1cc01fa9",
   "metadata": {
    "scrolled": false
   },
   "outputs": [
    {
     "name": "stdout",
     "output_type": "stream",
     "text": [
      "~~~~~~~~~~~Iteration  0 ~~~~~~~~~~\n",
      "H before (168, 6)\n",
      "H after (42, 3, 6)\n",
      "R_noise: (42, 3, 3)\n",
      "LUT tf.Tensor([42  3  3], shape=(3,), dtype=int32)\n",
      "m_hat:  [-0.47879368  0.03630894 -0.06953323 -0.00647635 -0.04132261 -0.00287446]\n",
      "~~~~~~~~~~~Iteration  1 ~~~~~~~~~~\n",
      "H before (164, 6)\n",
      "H after (41, 3, 6)\n",
      "R_noise: (41, 3, 3)\n",
      "LUT tf.Tensor([41  3  3], shape=(3,), dtype=int32)\n",
      "m_hat:  [-1.20070314  0.09508976 -0.02641331 -0.02807861 -0.00626555 -0.01374032]\n",
      "~~~~~~~~~~~Iteration  2 ~~~~~~~~~~\n",
      "H before (148, 6)\n",
      "H after (37, 3, 6)\n",
      "R_noise: (37, 3, 3)\n",
      "LUT tf.Tensor([37  3  3], shape=(3,), dtype=int32)\n",
      "m_hat:  [-1.40856683  0.08682384  0.0297227  -0.03869623 -0.01231185  0.01113413]\n",
      "~~~~~~~~~~~Iteration  3 ~~~~~~~~~~\n",
      "H before (148, 6)\n",
      "H after (37, 3, 6)\n",
      "R_noise: (37, 3, 3)\n",
      "LUT tf.Tensor([37  3  3], shape=(3,), dtype=int32)\n",
      "m_hat:  [-1.61700082  0.06439828  0.09931888 -0.04909858 -0.01781626  0.04287239]\n",
      "~~~~~~~~~~~Iteration  4 ~~~~~~~~~~\n",
      "H before (148, 6)\n",
      "H after (37, 3, 6)\n",
      "R_noise: (37, 3, 3)\n",
      "LUT tf.Tensor([37  3  3], shape=(3,), dtype=int32)\n",
      "m_hat:  [-1.75993967  0.03146528  0.21567991 -0.06183227 -0.0204212   0.08986157]\n",
      "~~~~~~~~~~~Iteration  5 ~~~~~~~~~~\n",
      "H before (140, 6)\n",
      "H after (35, 3, 6)\n",
      "R_noise: (35, 3, 3)\n",
      "LUT tf.Tensor([35  3  3], shape=(3,), dtype=int32)\n",
      "m_hat:  [-1.81716824 -0.02290986  0.38992637 -0.06434152 -0.01503236  0.15489861]\n",
      "~~~~~~~~~~~Iteration  6 ~~~~~~~~~~\n",
      "H before (132, 6)\n",
      "H after (33, 3, 6)\n",
      "R_noise: (33, 3, 3)\n",
      "LUT tf.Tensor([33  3  3], shape=(3,), dtype=int32)\n",
      "m_hat:  [-2.41358137  0.01734589  0.01091689 -0.08389141 -0.1707572   0.16456473]\n",
      "~~~~~~~~~~~Iteration  7 ~~~~~~~~~~\n",
      "H before (140, 6)\n",
      "H after (35, 3, 6)\n",
      "R_noise: (35, 3, 3)\n",
      "LUT tf.Tensor([35  3  3], shape=(3,), dtype=int32)\n",
      "m_hat:  [-2.36692047 -0.0936552   0.3373234  -0.10217194 -0.15758501  0.26216587]\n",
      "~~~~~~~~~~~Iteration  8 ~~~~~~~~~~\n",
      "H before (116, 6)\n",
      "H after (29, 3, 6)\n",
      "R_noise: (29, 3, 3)\n",
      "LUT tf.Tensor([29  3  3], shape=(3,), dtype=int32)\n",
      "m_hat:  [-3.04193258 -0.01807804 -0.3067424  -0.06386433 -0.08679377  0.28758305]\n",
      "~~~~~~~~~~~Iteration  9 ~~~~~~~~~~\n",
      "H before (112, 6)\n",
      "H after (28, 3, 6)\n",
      "R_noise: (28, 3, 3)\n",
      "LUT tf.Tensor([28  3  3], shape=(3,), dtype=int32)\n",
      "m_hat:  [-3.11011505  0.08711703 -0.35427874 -0.07305326 -0.09974866  0.38036284]\n",
      "~~~~~~~~~~~Iteration  10 ~~~~~~~~~~\n",
      "H before (124, 6)\n",
      "H after (31, 3, 6)\n",
      "R_noise: (31, 3, 3)\n",
      "LUT tf.Tensor([31  3  3], shape=(3,), dtype=int32)\n",
      "m_hat:  [-3.51410818  0.20552877 -0.14440405 -0.1293432  -0.09531597  0.45005605]\n",
      "~~~~~~~~~~~Iteration  11 ~~~~~~~~~~\n",
      "H before (116, 6)\n",
      "H after (29, 3, 6)\n",
      "R_noise: (29, 3, 3)\n",
      "LUT tf.Tensor([29  3  3], shape=(3,), dtype=int32)\n",
      "m_hat:  [-4.06528282  0.44709936  0.33787274 -0.22323953 -0.09183362  0.51360798]\n",
      "~~~~~~~~~~~Iteration  12 ~~~~~~~~~~\n",
      "H before (104, 6)\n",
      "H after (26, 3, 6)\n",
      "R_noise: (26, 3, 3)\n",
      "LUT tf.Tensor([26  3  3], shape=(3,), dtype=int32)\n",
      "m_hat:  [-4.64614248  0.96576595  1.75485754 -0.39158133 -0.12290087  0.58191419]\n",
      "~~~~~~~~~~~Iteration  13 ~~~~~~~~~~\n",
      "H before (84, 6)\n",
      "H after (21, 3, 6)\n",
      "R_noise: (21, 3, 3)\n",
      "LUT tf.Tensor([21  3  3], shape=(3,), dtype=int32)\n",
      "m_hat:  [-5.18876934  2.39020157  4.82298756 -0.74930596 -0.05266461  0.629426  ]\n",
      "~~~~~~~~~~~Iteration  14 ~~~~~~~~~~\n",
      "H before (56, 6)\n",
      "H after (14, 3, 6)\n",
      "R_noise: (14, 3, 3)\n",
      "LUT tf.Tensor([14  3  3], shape=(3,), dtype=int32)\n",
      "m_hat:  [-5.1583271   3.97857141  5.09743309 -0.79547215 -0.03028051  0.74991852]\n"
     ]
    },
    {
     "data": {
      "application/vnd.jupyter.widget-view+json": {
       "model_id": "2ec759ee8e2245f0b547a08e7f0840e2",
       "version_major": 2,
       "version_minor": 0
      },
      "text/plain": [
       "ViewInteractiveWidget(height=1043, layout=Layout(height='auto', width='100%'), width=1280)"
      ]
     },
     "metadata": {},
     "output_type": "display_data"
    }
   ],
   "source": [
    "from linear_corrector import LC\n",
    "pc1 = new_cloud\n",
    "pc2 = old_cloud\n",
    "## only take first part of cloud\n",
    "# pc1 = new_cloud[:5000]\n",
    "# pc2 = old_cloud[:5000]\n",
    "# # remove ground plane\n",
    "# pc1 = new_cloud[new_cloud[:,2] > -1]\n",
    "# pc2 = old_cloud[old_cloud[:,2] > -1]\n",
    "m_hat0 = np.array([0.,0, 0, 0, 0, 0]) #cold start\n",
    "dc = LC(cloud1 = pc1, cloud2 = pc2, fid = 30, niter = 15, draw = True, m_hat0 = m_hat0)\n",
    "ViewInteractiveWidget(dc.plt.window)"
   ]
  },
  {
   "cell_type": "code",
   "execution_count": 80,
   "id": "45ddbb65",
   "metadata": {},
   "outputs": [],
   "source": [
    "#DEBUG: how is LC holding on to values of m_hat from the last time it was run??!\n",
    "\n",
    "# plt2 = Plotter(N = 1, axes = 4, bg = (1, 1, 1), interactive = True)\n",
    "# disp=[]\n",
    "# disp.append(Points(pc1,  c = 'red'))\n",
    "# disp.append(Points(pc2, c = 'blue'))\n",
    "# plt2.show(disp, \"test viz\")\n",
    "# ViewInteractiveWidget(plt2.window)"
   ]
  },
  {
   "cell_type": "code",
   "execution_count": null,
   "id": "ac25922c",
   "metadata": {},
   "outputs": [],
   "source": [
    " "
   ]
  }
 ],
 "metadata": {
  "kernelspec": {
   "display_name": "Python 3 (ipykernel)",
   "language": "python",
   "name": "python3"
  },
  "language_info": {
   "codemirror_mode": {
    "name": "ipython",
    "version": 3
   },
   "file_extension": ".py",
   "mimetype": "text/x-python",
   "name": "python",
   "nbconvert_exporter": "python",
   "pygments_lexer": "ipython3",
   "version": "3.9.13"
  }
 },
 "nbformat": 4,
 "nbformat_minor": 5
}
