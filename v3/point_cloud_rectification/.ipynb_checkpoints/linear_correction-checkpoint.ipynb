{
 "cells": [
  {
   "cell_type": "code",
   "execution_count": 1,
   "id": "89042def",
   "metadata": {},
   "outputs": [
    {
     "name": "stderr",
     "output_type": "stream",
     "text": [
      "2023-04-19 13:21:11.697886: I tensorflow/core/platform/cpu_feature_guard.cc:193] This TensorFlow binary is optimized with oneAPI Deep Neural Network Library (oneDNN) to use the following CPU instructions in performance-critical operations:  AVX2 FMA\n",
      "To enable them in other operations, rebuild TensorFlow with the appropriate compiler flags.\n",
      "2023-04-19 13:21:12.326764: E tensorflow/stream_executor/cuda/cuda_blas.cc:2981] Unable to register cuBLAS factory: Attempting to register factory for plugin cuBLAS when one has already been registered\n",
      "2023-04-19 13:21:13.472771: W tensorflow/stream_executor/platform/default/dso_loader.cc:64] Could not load dynamic library 'libnvinfer.so.7'; dlerror: libnvinfer.so.7: cannot open shared object file: No such file or directory; LD_LIBRARY_PATH: /home/derm/anaconda3/envs/py39/lib/python3.9/site-packages/cv2/../../lib64:\n",
      "2023-04-19 13:21:13.472866: W tensorflow/stream_executor/platform/default/dso_loader.cc:64] Could not load dynamic library 'libnvinfer_plugin.so.7'; dlerror: libnvinfer_plugin.so.7: cannot open shared object file: No such file or directory; LD_LIBRARY_PATH: /home/derm/anaconda3/envs/py39/lib/python3.9/site-packages/cv2/../../lib64:\n",
      "2023-04-19 13:21:13.472874: W tensorflow/compiler/tf2tensorrt/utils/py_utils.cc:38] TF-TRT Warning: Cannot dlopen some TensorRT libraries. If you would like to use Nvidia GPU with TensorRT, please make sure the missing libraries mentioned above are installed properly.\n",
      "2023-04-19 13:21:14.938510: I tensorflow/stream_executor/cuda/cuda_gpu_executor.cc:980] successful NUMA node read from SysFS had negative value (-1), but there must be at least one NUMA node, so returning NUMA node zero\n",
      "2023-04-19 13:21:15.055186: I tensorflow/stream_executor/cuda/cuda_gpu_executor.cc:980] successful NUMA node read from SysFS had negative value (-1), but there must be at least one NUMA node, so returning NUMA node zero\n",
      "2023-04-19 13:21:15.055507: I tensorflow/stream_executor/cuda/cuda_gpu_executor.cc:980] successful NUMA node read from SysFS had negative value (-1), but there must be at least one NUMA node, so returning NUMA node zero\n"
     ]
    },
    {
     "name": "stdout",
     "output_type": "stream",
     "text": [
      "[PhysicalDevice(name='/physical_device:GPU:0', device_type='GPU')]\n"
     ]
    },
    {
     "name": "stderr",
     "output_type": "stream",
     "text": [
      "2023-04-19 13:21:15.405826: I tensorflow/core/platform/cpu_feature_guard.cc:193] This TensorFlow binary is optimized with oneAPI Deep Neural Network Library (oneDNN) to use the following CPU instructions in performance-critical operations:  AVX2 FMA\n",
      "To enable them in other operations, rebuild TensorFlow with the appropriate compiler flags.\n",
      "2023-04-19 13:21:15.407477: I tensorflow/stream_executor/cuda/cuda_gpu_executor.cc:980] successful NUMA node read from SysFS had negative value (-1), but there must be at least one NUMA node, so returning NUMA node zero\n",
      "2023-04-19 13:21:15.407772: I tensorflow/stream_executor/cuda/cuda_gpu_executor.cc:980] successful NUMA node read from SysFS had negative value (-1), but there must be at least one NUMA node, so returning NUMA node zero\n",
      "2023-04-19 13:21:15.407979: I tensorflow/stream_executor/cuda/cuda_gpu_executor.cc:980] successful NUMA node read from SysFS had negative value (-1), but there must be at least one NUMA node, so returning NUMA node zero\n",
      "2023-04-19 13:21:16.376511: I tensorflow/stream_executor/cuda/cuda_gpu_executor.cc:980] successful NUMA node read from SysFS had negative value (-1), but there must be at least one NUMA node, so returning NUMA node zero\n",
      "2023-04-19 13:21:16.376792: I tensorflow/stream_executor/cuda/cuda_gpu_executor.cc:980] successful NUMA node read from SysFS had negative value (-1), but there must be at least one NUMA node, so returning NUMA node zero\n",
      "2023-04-19 13:21:16.377027: I tensorflow/stream_executor/cuda/cuda_gpu_executor.cc:980] successful NUMA node read from SysFS had negative value (-1), but there must be at least one NUMA node, so returning NUMA node zero\n",
      "2023-04-19 13:21:16.377178: I tensorflow/core/common_runtime/gpu/gpu_device.cc:1616] Created device /job:localhost/replica:0/task:0/device:GPU:0 with 4096 MB memory:  -> device: 0, name: NVIDIA GeForce RTX 3090, pci bus id: 0000:07:00.0, compute capability: 8.6\n"
     ]
    },
    {
     "name": "stdout",
     "output_type": "stream",
     "text": [
      "Jupyter environment detected. Enabling Open3D WebVisualizer.\n",
      "[Open3D INFO] WebRTC GUI backend enabled.\n",
      "[Open3D INFO] WebRTCWindowSystem: HTTP handshake server disabled.\n"
     ]
    },
    {
     "data": {
      "application/javascript": [
       "IPython.notebook.set_autosave_interval(180000)"
      ]
     },
     "metadata": {},
     "output_type": "display_data"
    },
    {
     "name": "stdout",
     "output_type": "stream",
     "text": [
      "Autosaving every 180 seconds\n"
     ]
    }
   ],
   "source": [
    "from vedo import *\n",
    "import os\n",
    "from ipyvtklink.viewer import ViewInteractiveWidget\n",
    "import pykitti\n",
    "import numpy as np\n",
    "import tensorflow as tf\n",
    "import time\n",
    "import pickle\n",
    "\n",
    "#limit GPU memory ------------------------------------------------\n",
    "gpus = tf.config.experimental.list_physical_devices('GPU')\n",
    "print(gpus)\n",
    "if gpus:\n",
    "  try:\n",
    "    memlim = 4*1024\n",
    "    tf.config.experimental.set_virtual_device_configuration(gpus[0], [tf.config.experimental.VirtualDeviceConfiguration(memory_limit=memlim)])\n",
    "  except RuntimeError as e:\n",
    "    print(e)\n",
    "#-----------------------------------------------------------------\n",
    "\n",
    "from tensorflow.math import sin, cos, tan\n",
    "import tensorflow_probability as tfp\n",
    "import sys\n",
    "current = os.getcwd()\n",
    "parent_directory = os.path.dirname(current)\n",
    "sys.path.append(parent_directory)\n",
    "from ICET_spherical import ICET\n",
    "from utils import *\n",
    "from metpy.calc import lat_lon_grid_deltas\n",
    "from pioneer.das.api.platform import Platform\n",
    "from scipy.spatial.transform import Rotation as R\n",
    "from pioneer.das.api.egomotion.imu_egomotion_provider import IMUEgomotionProvider as emp \n",
    "from matplotlib import pyplot as plt\n",
    "\n",
    "%load_ext autoreload\n",
    "%autoreload 2\n",
    "%autosave 180\n",
    "%matplotlib notebook"
   ]
  },
  {
   "cell_type": "markdown",
   "id": "68afb097",
   "metadata": {},
   "source": [
    "# Goal: Estimate acceleration profile $\\hat{m}$ Using Newton-Raphson to compensate for distortion between similar point cloud"
   ]
  },
  {
   "cell_type": "markdown",
   "id": "e27a2deb",
   "metadata": {},
   "source": [
    "Through the first order Taylor approximation we define: \n",
    "\n",
    "$\\mathbf{h}(\\hat{m})$ as the means of voxel centers in cloud $j$ passed through the distortion operator $\\mathbb{C}$ according to estimated motion profile $\\hat{m}$. \n",
    "\n",
    "$\\mathbf{H}$ is the Jacobian of $\\mathbf{h}$, which is multiplied by a linear correction factor $\\delta m$.\n",
    "\n",
    "$    y_i = \\mathbf{h}(\\hat{m}) + \\mathbf{H} \\delta m $\n"
   ]
  },
  {
   "cell_type": "code",
   "execution_count": 236,
   "id": "a120a44a",
   "metadata": {},
   "outputs": [],
   "source": [
    "#load point cloud\n",
    "# no distortion\n",
    "# old_cloud =  np.load(\"sample_data/paper_figures/case1/raw_frame_0.npy\")\n",
    "# m_hat = np.array([-3., -2., 0., 0., 0., 0.0])\n",
    "\n",
    "# # movement in x\n",
    "# old_cloud =  np.load(\"sample_data/paper_figures/case2/raw_frame_3.npy\") \n",
    "# m_hat = np.array([3, 0, 0., 0., 0., 0])\n",
    "# # m_hat = np.array([3, 0, 0., 0., 0., -0.2]) #FOR DEBUG-- deform just a little\n",
    "# gt =  np.load(\"sample_data/paper_figures/case2/base_vel_2.npy\")\n",
    "\n",
    "# movement in x, y, & yaw\n",
    "old_cloud =  np.load(\"sample_data/paper_figures/case3/raw_frame_1.npy\") \n",
    "m_hat = np.array([3, -1, 0., 0., 0., -1])\n",
    "# m_hat = np.array([3, -1, 0.1, 0.1, 0.05, -1]) #FOR DEBUG-- deform a little extra\n",
    "gt =  np.load(\"sample_data/paper_figures/case3/base_vel_2.npy\")\n",
    "# print(gt) \n",
    "\n",
    "# period_lidar = 1\n",
    "# t_scale = (2*np.pi)/(-m_hat[-1] + (2*np.pi/period_lidar))\n",
    "# print(t_scale)\n",
    "# m_hat = m_hat*t_scale\n",
    "# # m_hat[-1] = m_hat[-1]*t_scaled\n",
    "# print(m_hat)\n",
    "\n",
    "\n",
    "#downsample\n",
    "old_cloud = old_cloud[::5,:]"
   ]
  },
  {
   "cell_type": "code",
   "execution_count": 237,
   "id": "50cf50be",
   "metadata": {},
   "outputs": [],
   "source": [
    "from remove_motion_basic import linear_correction_old as lc \n",
    "\n",
    "new_cloud = lc(old_cloud, m_hat)\n",
    "# undistorted = lc(new_cloud, -m_hat)"
   ]
  },
  {
   "cell_type": "code",
   "execution_count": 238,
   "id": "d9a01d62",
   "metadata": {},
   "outputs": [
    {
     "data": {
      "application/vnd.jupyter.widget-view+json": {
       "model_id": "466fc6c8d3784359af1e3465b9dba743",
       "version_major": 2,
       "version_minor": 0
      },
      "text/plain": [
       "ViewInteractiveWidget(height=1043, layout=Layout(height='auto', width='100%'), width=1280)"
      ]
     },
     "metadata": {},
     "output_type": "display_data"
    }
   ],
   "source": [
    "plt = Plotter(N = 1, axes = 4, bg = (1, 1, 1), interactive = True)\n",
    "disp=[]\n",
    "# disp.append(Points(undistorted, c = \"#CB2314\"))\n",
    "# disp.append(Points(old_cloud, c = \"#CB2314\"))\n",
    "disp.append(Points(new_cloud, c = \"#3F5151\"))\n",
    "plt.show(disp, \"test viz\")\n",
    "ViewInteractiveWidget(plt.window)"
   ]
  },
  {
   "cell_type": "markdown",
   "id": "13c2554d",
   "metadata": {},
   "source": [
    "# Analytically calculating derivatives with SymPy"
   ]
  },
  {
   "cell_type": "code",
   "execution_count": 211,
   "id": "cb1f585f",
   "metadata": {},
   "outputs": [],
   "source": [
    "from sympy import *\n",
    "\n",
    "x, y, z = symbols('x y z')\n",
    "\n",
    "init_printing(use_unicode=True)"
   ]
  },
  {
   "cell_type": "code",
   "execution_count": 212,
   "id": "e37a7643",
   "metadata": {},
   "outputs": [
    {
     "name": "stdout",
     "output_type": "stream",
     "text": [
      "-sin(x)\n",
      "Derivative(cos(x), x)\n"
     ]
    }
   ],
   "source": [
    "#sovles for the derivative\n",
    "ans1 = diff(cos(x), x)\n",
    "print(ans1)\n",
    "\n",
    "#creates an unevaluated derivative\n",
    "ans2 = Derivative(cos(x), x)\n",
    "print(ans2)"
   ]
  },
  {
   "cell_type": "code",
   "execution_count": 213,
   "id": "2aac426d",
   "metadata": {},
   "outputs": [
    {
     "data": {
      "image/png": "[encoded data removed]",
      "text/latex": [
       "$\\displaystyle - \\frac{8 \\sin^{2}{\\left(x \\right)} \\sin{\\left(\\frac{x}{2} + \\frac{1}{2} \\right)}}{15} - 2 \\sin^{2}{\\left(x \\right)} \\cos{\\left(\\frac{x}{2} + \\frac{1}{2} \\right)} - \\frac{4 \\sin{\\left(x \\right)} \\cos{\\left(x \\right)} \\cos{\\left(\\frac{x}{2} + \\frac{1}{2} \\right)}}{15} + \\frac{8 \\sin{\\left(\\frac{x}{2} + \\frac{1}{2} \\right)} \\cos^{2}{\\left(x \\right)}}{15} - 2 \\cos^{2}{\\left(x \\right)} \\cos{\\left(\\frac{x}{2} + \\frac{1}{2} \\right)}$"
      ],
      "text/plain": [
       "       2       ⎛x   1⎞                                             ⎛x   1⎞    \n",
       "  8⋅sin (x)⋅sin⎜─ + ─⎟                          4⋅sin(x)⋅cos(x)⋅cos⎜─ + ─⎟   8\n",
       "               ⎝2   2⎠        2       ⎛x   1⎞                      ⎝2   2⎠    \n",
       "- ──────────────────── - 2⋅sin (x)⋅cos⎜─ + ─⎟ - ────────────────────────── + ─\n",
       "           15                         ⎝2   2⎠               15                \n",
       "\n",
       "    ⎛x   1⎞    2                          \n",
       "⋅sin⎜─ + ─⎟⋅cos (x)                       \n",
       "    ⎝2   2⎠                2       ⎛x   1⎞\n",
       "─────────────────── - 2⋅cos (x)⋅cos⎜─ + ─⎟\n",
       "        15                         ⎝2   2⎠"
      ]
     },
     "execution_count": 213,
     "metadata": {},
     "output_type": "execute_result"
    }
   ],
   "source": [
    "ans3 = integrate(sin((x+1)/2)*(cos(x)-sin(x))**2, x)\n",
    "# print(latex(ans3)) #-> converts to LaTeX so I don't have to re-copy everything \n",
    "\n",
    "integrate(sin((x+1)/2)*(cos(x)-sin(x))**2, x)\n"
   ]
  },
  {
   "cell_type": "code",
   "execution_count": 214,
   "id": "cf003a30",
   "metadata": {},
   "outputs": [
    {
     "data": {
      "text/latex": [
       "$\\displaystyle \\left[\\begin{matrix}\\frac{100 x^{3}}{3} + 6 x & 14 x^{2}\\\\21 x^{2} & \\frac{16 x^{3}}{3} + 6 x\\end{matrix}\\right]$"
      ],
      "text/plain": [
       "⎡     3                   ⎤\n",
       "⎢100⋅x                2   ⎥\n",
       "⎢────── + 6⋅x     14⋅x    ⎥\n",
       "⎢  3                      ⎥\n",
       "⎢                         ⎥\n",
       "⎢                  3      ⎥\n",
       "⎢       2      16⋅x       ⎥\n",
       "⎢   21⋅x       ───── + 6⋅x⎥\n",
       "⎣                3        ⎦"
      ]
     },
     "execution_count": 214,
     "metadata": {},
     "output_type": "execute_result"
    }
   ],
   "source": [
    "a = Matrix([[10*x, 2], \n",
    "            [3, 4*x]])\n",
    "# A = integrate(a**2)\n",
    "# print(latex(A))\n",
    "integrate(a**2)"
   ]
  },
  {
   "cell_type": "code",
   "execution_count": 215,
   "id": "a05cf548",
   "metadata": {},
   "outputs": [
    {
     "data": {
      "text/latex": [
       "$\\displaystyle \\left[\\begin{matrix}0 & 0\\\\6 x & 0\\end{matrix}\\right]$"
      ],
      "text/plain": [
       "⎡ 0   0⎤\n",
       "⎢      ⎥\n",
       "⎣6⋅x  0⎦"
      ]
     },
     "execution_count": 215,
     "metadata": {},
     "output_type": "execute_result"
    }
   ],
   "source": [
    "b = Matrix([[x + 1, 2*y],\n",
    "            [3*x**2*y, 3 + x + y**2]])\n",
    "diff(b, y, x)"
   ]
  },
  {
   "cell_type": "markdown",
   "id": "618b6559",
   "metadata": {},
   "source": [
    "# Derive Jacobain H"
   ]
  },
  {
   "cell_type": "markdown",
   "id": "0a735bbc",
   "metadata": {},
   "source": [
    "### $\\mathbf{H} \\in \\mathbb{R}^{4N \\times 6} $\n",
    "\n",
    "### $\\mathbf{H} = \n",
    "\\begin{bmatrix}\n",
    "^{(n)}H_{x} ~ ^{(n)}H_{y} ~ ^{(n)}H_{z} ~ ^{(n)}H_{\\phi} ~ ^{(n)}H_{\\theta} ~ ^{(n)}H_{\\psi}\n",
    "\\end{bmatrix}$\n",
    "\n",
    "### $ ^{(n)}\\mathbf{H}_x =  \\frac{\\delta{\\mathbb{C}}}{\\delta x} ~ ^{(n)}y_j \\in \\mathbb{R}^{4 \\times 1}$\n",
    "\n",
    "### Here $^{(n)}y_j$ refers to distribution mean from scan j inside voxel n, denoted in homogenous coordinates\n",
    "\n",
    "$[x, y, z] \\rightarrow [x, y, z, 1] $ \n",
    "\n",
    "<!-- <span style=\"color:red\"> TODO: figure out if I need to use homogeneous coordinates for $y_j$ </span> -->"
   ]
  },
  {
   "cell_type": "markdown",
   "id": "17dd0287",
   "metadata": {},
   "source": [
    "# Calculate correction  function $\\mathbf{C}$ "
   ]
  },
  {
   "cell_type": "markdown",
   "id": "f289cf03",
   "metadata": {},
   "source": [
    "## $\\mathbf{C}(\\hat{m}) = T_{\\text{rect}}(M(\\hat{m})) \\in \\mathbb{R}^{4 \\times 4} $\n",
    "\n",
    "Here, the rectifying transformation $T_{\\text{rect}}$ for each point in $y_j$ depends on scaled values of $\\hat{m}$ which are concatenated to form matrix $M$. Since points are stored in the order they are recieved and are somewhat even spread throughout the scene, we can approximate $M$ through a simple linspace matrix without needing to transform to a spherical representation. $t_{\\text{scale}}$ is a scaling parameter to normalize the turn rate of the sensor in the presence of composite yaw rotation.\n",
    "\n",
    "## $\n",
    "M = \\bigg{(} \\{ r: r = t_{\\text{scale}} \\frac{p}{P}, p \\in \\{ 0, 1, ..., P \\} \\} \\bigg{)} \\hat{m}\n",
    "\\in \\mathbb{R}^{P \\times 6}\n",
    "% \\begin{bmatrix}\n",
    "% 1 & 1 & 1 & 1 \n",
    "% \\end{bmatrix}\n",
    "$\n",
    "\n",
    "## $t_{\\text{scale}} = \\frac{2\\pi}{-\\psi + \\omega_{\\text{LIDAR}} } $ \n"
   ]
  },
  {
   "cell_type": "markdown",
   "id": "4411222e",
   "metadata": {},
   "source": [
    "My old way of \"unwinding\" was acomplished by converting the point cloud to spherical coordinates, rescaling the yaw angle, and then converting back to Cartesian \n",
    "\n",
    "<!-- ## $y_{j, \\text{unwound}} =\n",
    "\\text{s2c} \\bigg{(} \\text{c2s}(y_{j})\n",
    "\\begin{bmatrix}\n",
    "    1 & 0 & 0 \\\\\n",
    "    0 & 1 & 0 \\\\\n",
    "    0 & 0 & \\psi_{\\text{rect}}\n",
    "\\end{bmatrix} \\bigg{)}$\n",
    " -->\n",
    "Unfortunately, c2s() is a nonlinear operation so it makes things a little tricky when we need to do everything via linear algebra\n",
    "\n",
    "<!-- ## $ \\text{c2s}(y_j) = \n",
    "\\begin{bmatrix}\n",
    "x_1 & y_1 & z_1 \\\\\n",
    "x_2 & y_2 & z_2 \\\\\n",
    " & \\vdots &\n",
    "\\end{bmatrix}\n",
    "\\rightarrow\n",
    "\\begin{bmatrix}\n",
    "r_1 & \\phi_1 & \\theta_1 \\\\\n",
    "r_2 & \\phi_2 & \\theta_2 \\\\\n",
    "r_3 & \\phi_3 & \\theta_3\n",
    "\\end{bmatrix}\n",
    "$\n",
    " -->\n",
    "<!-- ### GPT:\n",
    "lol it really got this wro\n",
    "\n",
    "$ ^{(n)}y_j = \\begin{bmatrix}\n",
    "x \\\\\n",
    "y \\\\\n",
    "z\n",
    "\\end{bmatrix}\n",
    "$\n",
    "\n",
    "$ B = \\begin{bmatrix}\n",
    "\\text{sin}(\\theta) ~ \\text{cos}(\\phi) & \\text{cos}(\\theta) ~ \\text{cos}(\\phi) & -\\text{sin}(\\phi) \\\\\n",
    "\\text{sin}(\\theta)\\text{sin}(\\phi) & \\text{cos}(\\theta)\\text{sin}(\\phi) & \\text{cos}(\\phi) \\\\\n",
    "\\text{cos}(\\theta) & -\\text{sin}(\\theta) & 0\n",
    "\\end{bmatrix}\n",
    "$\n",
    "\n",
    "$B ~ ^{(n)}y_j = ^{(n)}y_{j, \\text{spherical}} $ -->\n",
    "\n",
    "\n",
    "<!-- Putting everything together:\n",
    "\n",
    " $\n",
    "\\mathbb{C}(y_j, \\hat{m}) =\n",
    "M ~ T_{\\text{rect}} \\bigg{[} \\text{s2c} \\bigg{(} \\text{c2s}(y_{j})\n",
    "\\begin{bmatrix}\n",
    "    1 & 0 & 0 \\\\\n",
    "    0 & 1 & 0 \\\\\n",
    "    0 & 0 & \\psi_{\\text{rect}}\n",
    "\\end{bmatrix} \\bigg{)},\n",
    "\\begin{bmatrix}\n",
    "    1 \\\\\n",
    "    \\vdots \n",
    "\\end{bmatrix}\n",
    "\\bigg{]}^T$\n",
    " -->"
   ]
  },
  {
   "cell_type": "code",
   "execution_count": 216,
   "id": "39211bc6",
   "metadata": {},
   "outputs": [
    {
     "name": "stdout",
     "output_type": "stream",
     "text": [
      "(6,)\n"
     ]
    }
   ],
   "source": [
    "period_lidar = 1\n",
    "m_hat = np.array([3, 0, 0., 0., 0., -0.5])\n",
    "t_scale = (2*np.pi)/(-m_hat[-1] + (2*np.pi/period_lidar))\n",
    "# print(t_scale)\n",
    "lsvec = np.linspace(0,t_scale, 100)\n",
    "\n",
    "print(np.shape(m_hat))\n",
    "M = m_hat * np.array([lsvec, lsvec, lsvec, lsvec, lsvec, lsvec]).T\n",
    "# print(np.shape(M))\n",
    "# print(M)"
   ]
  },
  {
   "cell_type": "markdown",
   "id": "938cb598",
   "metadata": {},
   "source": [
    "## Get transform $T_{\\text{rect}}$"
   ]
  },
  {
   "cell_type": "code",
   "execution_count": 217,
   "id": "1679236d",
   "metadata": {},
   "outputs": [
    {
     "name": "stdout",
     "output_type": "stream",
     "text": [
      "T_rect =\n"
     ]
    },
    {
     "data": {
      "text/latex": [
       "$\\displaystyle \\left[\\begin{matrix}\\cos{\\left(\\psi \\right)} \\cos{\\left(\\theta \\right)} & \\sin{\\left(\\psi \\right)} \\cos{\\left(\\theta \\right)} & - \\sin{\\left(\\theta \\right)} & x \\cos{\\left(\\psi \\right)} \\cos{\\left(\\theta \\right)} + y \\sin{\\left(\\psi \\right)} \\cos{\\left(\\theta \\right)} - z \\sin{\\left(\\theta \\right)}\\\\\\sin{\\left(\\phi \\right)} \\sin{\\left(\\theta \\right)} \\cos{\\left(\\psi \\right)} - \\sin{\\left(\\psi \\right)} \\cos{\\left(\\phi \\right)} & \\sin{\\left(\\phi \\right)} \\sin{\\left(\\psi \\right)} \\sin{\\left(\\theta \\right)} + \\cos{\\left(\\phi \\right)} \\cos{\\left(\\psi \\right)} & \\sin{\\left(\\phi \\right)} \\cos{\\left(\\theta \\right)} & x \\left(\\sin{\\left(\\phi \\right)} \\sin{\\left(\\theta \\right)} \\cos{\\left(\\psi \\right)} - \\sin{\\left(\\psi \\right)} \\cos{\\left(\\phi \\right)}\\right) + y \\left(\\sin{\\left(\\phi \\right)} \\sin{\\left(\\psi \\right)} \\sin{\\left(\\theta \\right)} + \\cos{\\left(\\phi \\right)} \\cos{\\left(\\psi \\right)}\\right) + z \\sin{\\left(\\phi \\right)} \\cos{\\left(\\theta \\right)}\\\\\\sin{\\left(\\phi \\right)} \\sin{\\left(\\psi \\right)} + \\sin{\\left(\\theta \\right)} \\cos{\\left(\\phi \\right)} \\cos{\\left(\\psi \\right)} & - \\sin{\\left(\\phi \\right)} \\cos{\\left(\\psi \\right)} + \\sin{\\left(\\psi \\right)} \\sin{\\left(\\theta \\right)} \\cos{\\left(\\phi \\right)} & \\cos{\\left(\\phi \\right)} \\cos{\\left(\\theta \\right)} & x \\left(\\sin{\\left(\\phi \\right)} \\sin{\\left(\\psi \\right)} + \\sin{\\left(\\theta \\right)} \\cos{\\left(\\phi \\right)} \\cos{\\left(\\psi \\right)}\\right) + y \\left(- \\sin{\\left(\\phi \\right)} \\cos{\\left(\\psi \\right)} + \\sin{\\left(\\psi \\right)} \\sin{\\left(\\theta \\right)} \\cos{\\left(\\phi \\right)}\\right) + z \\cos{\\left(\\phi \\right)} \\cos{\\left(\\theta \\right)}\\\\0 & 0 & 0 & 1\\end{matrix}\\right]$"
      ],
      "text/plain": [
       "⎡           cos(ψ)⋅cos(θ)                          sin(ψ)⋅cos(θ)              \n",
       "⎢                                                                             \n",
       "⎢sin(φ)⋅sin(θ)⋅cos(ψ) - sin(ψ)⋅cos(φ)  sin(φ)⋅sin(ψ)⋅sin(θ) + cos(φ)⋅cos(ψ)   \n",
       "⎢                                                                             \n",
       "⎢sin(φ)⋅sin(ψ) + sin(θ)⋅cos(φ)⋅cos(ψ)  -sin(φ)⋅cos(ψ) + sin(ψ)⋅sin(θ)⋅cos(φ)  \n",
       "⎢                                                                             \n",
       "⎣                 0                                      0                    \n",
       "\n",
       "   -sin(θ)                                  x⋅cos(ψ)⋅cos(θ) + y⋅sin(ψ)⋅cos(θ) \n",
       "                                                                              \n",
       "sin(φ)⋅cos(θ)  x⋅(sin(φ)⋅sin(θ)⋅cos(ψ) - sin(ψ)⋅cos(φ)) + y⋅(sin(φ)⋅sin(ψ)⋅sin\n",
       "                                                                              \n",
       "cos(φ)⋅cos(θ)  x⋅(sin(φ)⋅sin(ψ) + sin(θ)⋅cos(φ)⋅cos(ψ)) + y⋅(-sin(φ)⋅cos(ψ) + \n",
       "                                                                              \n",
       "      0                                                          1            \n",
       "\n",
       "- z⋅sin(θ)                             ⎤\n",
       "                                       ⎥\n",
       "(θ) + cos(φ)⋅cos(ψ)) + z⋅sin(φ)⋅cos(θ) ⎥\n",
       "                                       ⎥\n",
       "sin(ψ)⋅sin(θ)⋅cos(φ)) + z⋅cos(φ)⋅cos(θ)⎥\n",
       "                                       ⎥\n",
       "                                       ⎦"
      ]
     },
     "execution_count": 217,
     "metadata": {},
     "output_type": "execute_result"
    }
   ],
   "source": [
    "x, y, z, phi, theta, psi = symbols('x y z phi theta psi')\n",
    "# m_hat = Matrix([x, y, z, phi, theta, phi]).T\n",
    "m_hat = np.array([1,2,3,0.4,0.5,0.6])\n",
    "# print( \"m_hat = \", pretty(m_hat))\n",
    "\n",
    "T_roll = Matrix([[1, 0, 0, 0],\n",
    "                 [0, cos(phi), sin(phi), 0],\n",
    "                 [0, -sin(phi), cos(phi), 0],\n",
    "                 [0, 0, 0, 1]])\n",
    "# print(\"\\n T_roll =\") \n",
    "# print(pretty(T_roll))\n",
    "\n",
    "T_pitch = Matrix([[cos(theta), 0, -sin(theta), 0],\n",
    "                 [0, 1, 0, 0],\n",
    "                 [sin(theta), 0, cos(theta), 0],\n",
    "                 [0, 0, 0, 1]])\n",
    "# print(\"\\n T_pitch =\") \n",
    "# print(pretty(T_pitch))\n",
    "\n",
    "#Recall we are setting T_yaw to identity here since scan axis-aligned motion is already compensated for\n",
    "T_yaw = Matrix([[cos(psi), sin(psi), 0, 0],\n",
    "                 [-sin(psi), cos(psi), 0, 0],\n",
    "                 [0, 0, 1, 0],\n",
    "                 [0, 0, 0, 1]])\n",
    "# print(\"\\n T_yaw =\") \n",
    "# print(pretty(T_yaw))\n",
    "\n",
    "T_trans = Matrix([[1, 0, 0, x],\n",
    "                 [0, 1, 0, y],\n",
    "                 [0, 0, 1, z],\n",
    "                 [0, 0, 0, 1]])\n",
    "# print(\"\\n T_trans =\") \n",
    "# print(pretty(T_trans))\n",
    "\n",
    "T_rect = (T_roll * T_pitch * T_yaw * T_trans)\n",
    "# T_rect = (T_roll * T_pitch * T_yaw * T_trans).inv()\n",
    "print(\"T_rect =\")\n",
    "T_rect"
   ]
  },
  {
   "cell_type": "code",
   "execution_count": 221,
   "id": "afd2b42f",
   "metadata": {},
   "outputs": [
    {
     "data": {
      "text/latex": [
       "$\\displaystyle \\left[\\begin{matrix}\\cos{\\left(\\psi \\right)} \\cos{\\left(\\theta \\right)} & \\sin{\\left(\\psi \\right)} \\cos{\\left(\\theta \\right)} & - \\sin{\\left(\\theta \\right)} & x \\cos{\\left(\\psi \\right)} \\cos{\\left(\\theta \\right)} + y \\sin{\\left(\\psi \\right)} \\cos{\\left(\\theta \\right)} - z \\sin{\\left(\\theta \\right)}\\\\\\sin{\\left(\\phi \\right)} \\sin{\\left(\\theta \\right)} \\cos{\\left(\\psi \\right)} - \\sin{\\left(\\psi \\right)} \\cos{\\left(\\phi \\right)} & \\sin{\\left(\\phi \\right)} \\sin{\\left(\\psi \\right)} \\sin{\\left(\\theta \\right)} + \\cos{\\left(\\phi \\right)} \\cos{\\left(\\psi \\right)} & \\sin{\\left(\\phi \\right)} \\cos{\\left(\\theta \\right)} & x \\left(\\sin{\\left(\\phi \\right)} \\sin{\\left(\\theta \\right)} \\cos{\\left(\\psi \\right)} - \\sin{\\left(\\psi \\right)} \\cos{\\left(\\phi \\right)}\\right) + y \\left(\\sin{\\left(\\phi \\right)} \\sin{\\left(\\psi \\right)} \\sin{\\left(\\theta \\right)} + \\cos{\\left(\\phi \\right)} \\cos{\\left(\\psi \\right)}\\right) + z \\sin{\\left(\\phi \\right)} \\cos{\\left(\\theta \\right)}\\\\\\sin{\\left(\\phi \\right)} \\sin{\\left(\\psi \\right)} + \\sin{\\left(\\theta \\right)} \\cos{\\left(\\phi \\right)} \\cos{\\left(\\psi \\right)} & - \\sin{\\left(\\phi \\right)} \\cos{\\left(\\psi \\right)} + \\sin{\\left(\\psi \\right)} \\sin{\\left(\\theta \\right)} \\cos{\\left(\\phi \\right)} & \\cos{\\left(\\phi \\right)} \\cos{\\left(\\theta \\right)} & x \\left(\\sin{\\left(\\phi \\right)} \\sin{\\left(\\psi \\right)} + \\sin{\\left(\\theta \\right)} \\cos{\\left(\\phi \\right)} \\cos{\\left(\\psi \\right)}\\right) - y \\left(\\sin{\\left(\\phi \\right)} \\cos{\\left(\\psi \\right)} - \\sin{\\left(\\psi \\right)} \\sin{\\left(\\theta \\right)} \\cos{\\left(\\phi \\right)}\\right) + z \\cos{\\left(\\phi \\right)} \\cos{\\left(\\theta \\right)}\\\\0 & 0 & 0 & 1\\end{matrix}\\right]$"
      ],
      "text/plain": [
       "⎡           cos(ψ)⋅cos(θ)                          sin(ψ)⋅cos(θ)              \n",
       "⎢                                                                             \n",
       "⎢sin(φ)⋅sin(θ)⋅cos(ψ) - sin(ψ)⋅cos(φ)  sin(φ)⋅sin(ψ)⋅sin(θ) + cos(φ)⋅cos(ψ)   \n",
       "⎢                                                                             \n",
       "⎢sin(φ)⋅sin(ψ) + sin(θ)⋅cos(φ)⋅cos(ψ)  -sin(φ)⋅cos(ψ) + sin(ψ)⋅sin(θ)⋅cos(φ)  \n",
       "⎢                                                                             \n",
       "⎣                 0                                      0                    \n",
       "\n",
       "   -sin(θ)                                 x⋅cos(ψ)⋅cos(θ) + y⋅sin(ψ)⋅cos(θ) -\n",
       "                                                                              \n",
       "sin(φ)⋅cos(θ)  x⋅(sin(φ)⋅sin(θ)⋅cos(ψ) - sin(ψ)⋅cos(φ)) + y⋅(sin(φ)⋅sin(ψ)⋅sin\n",
       "                                                                              \n",
       "cos(φ)⋅cos(θ)  x⋅(sin(φ)⋅sin(ψ) + sin(θ)⋅cos(φ)⋅cos(ψ)) - y⋅(sin(φ)⋅cos(ψ) - s\n",
       "                                                                              \n",
       "      0                                                          1            \n",
       "\n",
       " z⋅sin(θ)                             ⎤\n",
       "                                      ⎥\n",
       "(θ) + cos(φ)⋅cos(ψ)) + z⋅sin(φ)⋅cos(θ)⎥\n",
       "                                      ⎥\n",
       "in(ψ)⋅sin(θ)⋅cos(φ)) + z⋅cos(φ)⋅cos(θ)⎥\n",
       "                                      ⎥\n",
       "                                      ⎦"
      ]
     },
     "execution_count": 221,
     "metadata": {},
     "output_type": "execute_result"
    }
   ],
   "source": [
    "#try simplifying T_rect before takiking derivatives!\n",
    "T_rect = simplify(T_rect)\n",
    "T_rect\n",
    "# print(latex(T_rect))\n",
    "# print(T_rect)"
   ]
  },
  {
   "cell_type": "code",
   "execution_count": 111,
   "id": "8f8e1f9f",
   "metadata": {},
   "outputs": [
    {
     "data": {
      "text/latex": [
       "$\\displaystyle \\left[\\begin{matrix}- \\sin{\\left(\\theta \\right)} \\cos{\\left(\\psi \\right)} & \\sin{\\left(\\phi \\right)} \\cos{\\left(\\psi \\right)} \\cos{\\left(\\theta \\right)} & \\cos{\\left(\\phi \\right)} \\cos{\\left(\\psi \\right)} \\cos{\\left(\\theta \\right)} & 0\\\\- \\sin{\\left(\\psi \\right)} \\sin{\\left(\\theta \\right)} & \\sin{\\left(\\phi \\right)} \\sin{\\left(\\psi \\right)} \\cos{\\left(\\theta \\right)} & \\sin{\\left(\\psi \\right)} \\cos{\\left(\\phi \\right)} \\cos{\\left(\\theta \\right)} & 0\\\\- \\cos{\\left(\\theta \\right)} & - \\sin{\\left(\\phi \\right)} \\sin{\\left(\\theta \\right)} & - \\sin{\\left(\\theta \\right)} \\cos{\\left(\\phi \\right)} & 0\\\\0 & 0 & 0 & 0\\end{matrix}\\right]$"
      ],
      "text/plain": [
       "⎡-sin(θ)⋅cos(ψ)  sin(φ)⋅cos(ψ)⋅cos(θ)  cos(φ)⋅cos(ψ)⋅cos(θ)  0⎤\n",
       "⎢                                                             ⎥\n",
       "⎢-sin(ψ)⋅sin(θ)  sin(φ)⋅sin(ψ)⋅cos(θ)  sin(ψ)⋅cos(φ)⋅cos(θ)  0⎥\n",
       "⎢                                                             ⎥\n",
       "⎢   -cos(θ)         -sin(φ)⋅sin(θ)        -sin(θ)⋅cos(φ)     0⎥\n",
       "⎢                                                             ⎥\n",
       "⎣      0                  0                     0            0⎦"
      ]
     },
     "execution_count": 111,
     "metadata": {},
     "output_type": "execute_result"
    }
   ],
   "source": [
    "# print(diff(T_rect, x))\n",
    "# diff(T_rect,y)\n",
    "# print(diff(T_rect, z))\n",
    "# print(diff(T_rect, psi))\n",
    "# diff(T_rect, phi)\n",
    "diff(T_rect, theta)\n",
    "# print(diff(T_rect, theta))\n",
    "# print(latex(diff(T_rect, phi)))"
   ]
  },
  {
   "cell_type": "code",
   "execution_count": 24,
   "id": "4d5489a9",
   "metadata": {},
   "outputs": [],
   "source": [
    "# # print(T_rect) # -> take printed output and convert to numpy array\n",
    "\n",
    "# # from tensorflow.math import sin, cos\n",
    "# from numpy import sin, cos\n",
    "\n",
    "# x = np.array([1,2,3])#[:,None]\n",
    "# y = np.array([1,2,3])#[:,None]\n",
    "# z = np.array([1,2,3])#[:,None]\n",
    "# phi = np.array([1,2,3])#[:,None]\n",
    "# theta = np.array([1,2,3])#[:,None]\n",
    "# psi = np.array([1,2,3])#[:,None]\n",
    "# test = np.array([cos(x) * cos(y) / sin(phi), cos(x) * cos(y) / sin(phi)])\n",
    "# print(np.shape(test))\n",
    "# print(test)\n",
    "\n",
    "# T_rect_np = np.array([[cos(psi)*cos(theta)/(sin(psi)**2*sin(theta)**2 + sin(psi)**2*cos(theta)**2 + sin(theta)**2*cos(psi)**2 + cos(psi)**2*cos(theta)**2), (sin(phi)*sin(theta)*cos(psi) - sin(psi)*sin(theta)**2*cos(phi) - sin(psi)*cos(phi)*cos(theta)**2)/(sin(phi)**2*sin(psi)**2*sin(theta)**2 + sin(phi)**2*sin(psi)**2*cos(theta)**2 + sin(phi)**2*sin(theta)**2*cos(psi)**2 + sin(phi)**2*cos(psi)**2*cos(theta)**2 + sin(psi)**2*sin(theta)**2*cos(phi)**2 + sin(psi)**2*cos(phi)**2*cos(theta)**2 + sin(theta)**2*cos(phi)**2*cos(psi)**2 + cos(phi)**2*cos(psi)**2*cos(theta)**2), (sin(phi)*sin(psi)*sin(theta)**2 + sin(phi)*sin(psi)*cos(theta)**2 + sin(theta)*cos(phi)*cos(psi))/(sin(phi)**2*sin(psi)**2*sin(theta)**2 + sin(phi)**2*sin(psi)**2*cos(theta)**2 + sin(phi)**2*sin(theta)**2*cos(psi)**2 + sin(phi)**2*cos(psi)**2*cos(theta)**2 + sin(psi)**2*sin(theta)**2*cos(phi)**2 + sin(psi)**2*cos(phi)**2*cos(theta)**2 + sin(theta)**2*cos(phi)**2*cos(psi)**2 + cos(phi)**2*cos(psi)**2*cos(theta)**2), -x], [sin(psi)*cos(theta)/(sin(psi)**2*sin(theta)**2 + sin(psi)**2*cos(theta)**2 + sin(theta)**2*cos(psi)**2 + cos(psi)**2*cos(theta)**2), (sin(phi)*sin(psi)*sin(theta) + sin(theta)**2*cos(phi)*cos(psi) + cos(phi)*cos(psi)*cos(theta)**2)/(sin(phi)**2*sin(psi)**2*sin(theta)**2 + sin(phi)**2*sin(psi)**2*cos(theta)**2 + sin(phi)**2*sin(theta)**2*cos(psi)**2 + sin(phi)**2*cos(psi)**2*cos(theta)**2 + sin(psi)**2*sin(theta)**2*cos(phi)**2 + sin(psi)**2*cos(phi)**2*cos(theta)**2 + sin(theta)**2*cos(phi)**2*cos(psi)**2 + cos(phi)**2*cos(psi)**2*cos(theta)**2), (-sin(phi)*sin(theta)**2*cos(psi) - sin(phi)*cos(psi)*cos(theta)**2 + sin(psi)*sin(theta)*cos(phi))/(sin(phi)**2*sin(psi)**2*sin(theta)**2 + sin(phi)**2*sin(psi)**2*cos(theta)**2 + sin(phi)**2*sin(theta)**2*cos(psi)**2 + sin(phi)**2*cos(psi)**2*cos(theta)**2 + sin(psi)**2*sin(theta)**2*cos(phi)**2 + sin(psi)**2*cos(phi)**2*cos(theta)**2 + sin(theta)**2*cos(phi)**2*cos(psi)**2 + cos(phi)**2*cos(psi)**2*cos(theta)**2), -y], [-sin(theta)/(sin(theta)**2 + cos(theta)**2), sin(phi)*cos(theta)/(sin(phi)**2*sin(theta)**2 + sin(phi)**2*cos(theta)**2 + sin(theta)**2*cos(phi)**2 + cos(phi)**2*cos(theta)**2), cos(phi)*cos(theta)/(sin(phi)**2*sin(theta)**2 + sin(phi)**2*cos(theta)**2 + sin(theta)**2*cos(phi)**2 + cos(phi)**2*cos(theta)**2), -z], \n",
    "#                       [np.zeros(len(x)), np.zeros(len(x)), np.zeros(len(x)), np.ones(len(x))]])\n",
    "# print(np.shape(T_rect_np))\n",
    "# test = np.transpose(T_rect_np, (2,0,1))\n",
    "# print(test)"
   ]
  },
  {
   "cell_type": "code",
   "execution_count": 14,
   "id": "16141b9d",
   "metadata": {},
   "outputs": [],
   "source": [
    "# y_j = y_j[:3]\n",
    "# if np.shape(y_j)[1] == 3:\n",
    "#     y_j = np.append(y_j, np.ones([len(y_j),1]), axis = 1)\n",
    "\n",
    "# # y_j_tf = tf.convert_to_tensor(y_j[:,:,None])\n",
    "# # test_tf = tf.convert_to_tensor(test)\n",
    "# # print(np.shape(y_j_tf))\n",
    "# # print(np.shape(test_tf))\n",
    "\n",
    "# # ans = y_j_tf * test_tf\n",
    "\n",
    "# print(np.shape(y_j[:,:,None]))\n",
    "# print(np.shape(test))\n",
    "# # ans = y_j[:,:,None] * test\n",
    "# ans = test @ y_j[:,:,None]\n",
    "\n",
    "\n",
    "# print(np.shape(ans))\n",
    "# print(ans)\n",
    "# ans = np.reshape(ans, (-1, 1))\n",
    "# print(ans)"
   ]
  },
  {
   "cell_type": "code",
   "execution_count": 99,
   "id": "686425f5",
   "metadata": {},
   "outputs": [
    {
     "data": {
      "text/latex": [
       "$\\displaystyle \\left[\\begin{matrix}0 & \\sin{\\left(\\phi \\right)} \\sin{\\left(\\psi \\right)} + \\sin{\\left(\\theta \\right)} \\cos{\\left(\\phi \\right)} \\cos{\\left(\\psi \\right)} & - \\sin{\\left(\\phi \\right)} \\sin{\\left(\\theta \\right)} \\cos{\\left(\\psi \\right)} + \\sin{\\left(\\psi \\right)} \\cos{\\left(\\phi \\right)} & 0\\\\0 & - \\sin{\\left(\\phi \\right)} \\cos{\\left(\\psi \\right)} + \\sin{\\left(\\psi \\right)} \\sin{\\left(\\theta \\right)} \\cos{\\left(\\phi \\right)} & - \\sin{\\left(\\phi \\right)} \\sin{\\left(\\psi \\right)} \\sin{\\left(\\theta \\right)} - \\cos{\\left(\\phi \\right)} \\cos{\\left(\\psi \\right)} & 0\\\\0 & \\cos{\\left(\\phi \\right)} \\cos{\\left(\\theta \\right)} & - \\sin{\\left(\\phi \\right)} \\cos{\\left(\\theta \\right)} & 0\\\\0 & 0 & 0 & 0\\end{matrix}\\right]$"
      ],
      "text/plain": [
       "⎡0  sin(φ)⋅sin(ψ) + sin(θ)⋅cos(φ)⋅cos(ψ)   -sin(φ)⋅sin(θ)⋅cos(ψ) + sin(ψ)⋅cos(\n",
       "⎢                                                                             \n",
       "⎢0  -sin(φ)⋅cos(ψ) + sin(ψ)⋅sin(θ)⋅cos(φ)  -sin(φ)⋅sin(ψ)⋅sin(θ) - cos(φ)⋅cos(\n",
       "⎢                                                                             \n",
       "⎢0              cos(φ)⋅cos(θ)                         -sin(φ)⋅cos(θ)          \n",
       "⎢                                                                             \n",
       "⎣0                    0                                      0                \n",
       "\n",
       "φ)  0⎤\n",
       "     ⎥\n",
       "ψ)  0⎥\n",
       "     ⎥\n",
       "    0⎥\n",
       "     ⎥\n",
       "    0⎦"
      ]
     },
     "execution_count": 99,
     "metadata": {},
     "output_type": "execute_result"
    }
   ],
   "source": [
    "# diff(T_rect, x)\n",
    "diff(T_rect, phi)\n",
    "\n",
    "# dT_rect_dx = diff(T_rect, x)\n",
    "# pprint(dT_rect_dx)"
   ]
  },
  {
   "cell_type": "code",
   "execution_count": 16,
   "id": "8901c5c1",
   "metadata": {},
   "outputs": [
    {
     "name": "stdout",
     "output_type": "stream",
     "text": [
      "<class 'numpy.ndarray'>\n",
      "\n",
      " [[ 0.          0.58433397  0.36598239  0.        ]\n",
      " [ 0.         -0.07206591 -0.86560155  0.        ]\n",
      " [ 0.          0.80830707 -0.34174675  0.        ]\n",
      " [ 0.          0.          0.          0.        ]]\n"
     ]
    }
   ],
   "source": [
    "#substitue in values\n",
    "expr = diff(T_rect, phi)\n",
    "# print(expr)\n",
    "# expr = T_rect\n",
    "# print(m_hat)\n",
    "ans = expr.subs([(x, m_hat[0]), \n",
    "                 (y, m_hat[1]),\n",
    "                 (z, m_hat[2]),\n",
    "                 (phi, m_hat[3]),\n",
    "                 (theta, m_hat[4]),\n",
    "                 (psi, m_hat[5])])\n",
    "print(type(np.array(ans)))\n",
    "print(\"\\n\", np.array(ans).astype(np.float64))"
   ]
  },
  {
   "cell_type": "markdown",
   "id": "bdad51e8",
   "metadata": {},
   "source": [
    "# Test rectifying motion distortion usuing SymPy Linalg technique"
   ]
  },
  {
   "cell_type": "code",
   "execution_count": 239,
   "id": "d94129f1",
   "metadata": {
    "scrolled": false
   },
   "outputs": [
    {
     "data": {
      "application/vnd.jupyter.widget-view+json": {
       "model_id": "0eed57445f094a6c813b04047859ae4f",
       "version_major": 2,
       "version_minor": 0
      },
      "text/plain": [
       "ViewInteractiveWidget(height=1043, layout=Layout(height='auto', width='100%'), width=1280)"
      ]
     },
     "metadata": {},
     "output_type": "display_data"
    }
   ],
   "source": [
    "from remove_motion_basic import get_H\n",
    "from remove_motion_basic import linear_correction_old as lc \n",
    "\n",
    "m_hat = np.array([3, 0, 0, 0, 0, 0])\n",
    "skip = 1\n",
    "y_j = old_cloud[::skip]\n",
    "# y_j = old_cloud[::skip] + np.array([0.5, 0.5, 0.]) #test offset - hurts performance but doesn't cause anything to explode\n",
    "y_i = new_cloud[::skip] #has distortion already corrected\n",
    "\n",
    "# #remove ground plane\n",
    "# y_i = y_i[y_i[:,2] > -1]\n",
    "# y_j = y_j[y_j[:,2] > -1]\n",
    "\n",
    "H = get_H(y_j = y_j, m_hat = m_hat )\n",
    "\n",
    "#plot result\n",
    "plt = Plotter(N = 1, axes = 4, bg = (1, 1, 1), interactive = True)\n",
    "disp=[]\n",
    "disp.append(Points(y_i, c = \"#CB2314\", r=3.5))\n",
    "disp.append(Points(y_j, c = \"#3F5151\", r=3.5))\n",
    "plt.show(disp, \"test viz\")\n",
    "ViewInteractiveWidget(plt.window)"
   ]
  },
  {
   "cell_type": "code",
   "execution_count": 87,
   "id": "1be507d5",
   "metadata": {},
   "outputs": [
    {
     "name": "stdout",
     "output_type": "stream",
     "text": [
      "(66256, 6)\n",
      "66256\n"
     ]
    }
   ],
   "source": [
    "print(np.shape(H))\n",
    "print(np.shape(y_j)[0]*4)"
   ]
  },
  {
   "cell_type": "markdown",
   "id": "5be8a4d8",
   "metadata": {},
   "source": [
    "# Simple Test using pre-rectified point cloud\n",
    "#### in this example we don't need to worry about iteratively finding correspondences\n",
    "(y_i and y_j are the same length and are ordered accordingly) "
   ]
  },
  {
   "cell_type": "code",
   "execution_count": 222,
   "id": "97ebdff8",
   "metadata": {
    "scrolled": true
   },
   "outputs": [
    {
     "name": "stdout",
     "output_type": "stream",
     "text": [
      "~~~~ iteration  0 ~~~~~~~~~~~\n",
      "m_hat =  [0. 0. 0. 0. 0. 0.]\n",
      "(16564, 3)\n",
      "residual (66256,)\n",
      "~~~~ iteration  1 ~~~~~~~~~~~\n",
      "m_hat =  [-0.34599979 -0.45758962  0.00315352 -0.00617179 -0.01010173 -0.39338193]\n",
      "(16564, 3)\n",
      "residual (66256,)\n",
      "~~~~ iteration  2 ~~~~~~~~~~~\n",
      "m_hat =  [-5.21549169e-02 -1.13094770e+00  7.33291572e-04 -1.56620805e-03\n",
      " -1.44139027e-02 -6.04915934e-01]\n",
      "(16564, 3)\n",
      "residual (66256,)\n",
      "~~~~ iteration  3 ~~~~~~~~~~~\n",
      "m_hat =  [ 0.49513983 -1.56394438  0.00167887  0.00308795 -0.01433306 -0.7192103 ]\n",
      "(16564, 3)\n",
      "residual (66256,)\n",
      "~~~~ iteration  4 ~~~~~~~~~~~\n",
      "m_hat =  [ 1.07761083 -1.76336648  0.00527027  0.00596725 -0.01239772 -0.78969595]\n",
      "(16564, 3)\n",
      "residual (66256,)\n",
      "~~~~ iteration  5 ~~~~~~~~~~~\n",
      "m_hat =  [ 1.58916269 -1.80149588  0.00949982  0.00733402 -0.00997579 -0.83877971]\n",
      "(16564, 3)\n",
      "residual (66256,)\n",
      "~~~~ iteration  6 ~~~~~~~~~~~\n",
      "m_hat =  [ 1.99732988 -1.74510936  0.01309584  0.0076637  -0.00766931 -0.87570496]\n",
      "(16564, 3)\n",
      "residual (66256,)\n",
      "~~~~ iteration  7 ~~~~~~~~~~~\n",
      "m_hat =  [ 2.30461584 -1.64321929  0.01552593  0.00735208 -0.00570276 -0.90453154]\n",
      "(16564, 3)\n",
      "residual (66256,)\n",
      "~~~~ iteration  8 ~~~~~~~~~~~\n",
      "m_hat =  [ 2.52683481 -1.52761276  0.01672574  0.0066846  -0.00412555 -0.92728365]\n",
      "(16564, 3)\n",
      "residual (66256,)\n",
      "~~~~ iteration  9 ~~~~~~~~~~~\n",
      "m_hat =  [ 2.68273344 -1.41668684  0.01686556  0.00585435 -0.00291119 -0.94518225]\n",
      "(16564, 3)\n",
      "residual (66256,)\n"
     ]
    },
    {
     "data": {
      "application/vnd.jupyter.widget-view+json": {
       "model_id": "4c9cbb71bb3746b7a8d9c3a7bd28042b",
       "version_major": 2,
       "version_minor": 0
      },
      "text/plain": [
       "ViewInteractiveWidget(height=1043, layout=Layout(height='auto', width='100%'), width=1280)"
      ]
     },
     "metadata": {},
     "output_type": "display_data"
    }
   ],
   "source": [
    "#assume initial correction factor of 0 for each solution component\n",
    "m_hat = np.array([0., 0, 0, 0, 0, 0])\n",
    "skip = 1 #50\n",
    "y_i = new_cloud[::skip] #baseline\n",
    "y_j = old_cloud[::skip] #distorted cloud\n",
    "# y_j = old_cloud[::skip] + np.array([0.5, 0.5, 0.]) #test offset - hurts performance but doesn't cause anything to explode\n",
    "\n",
    "# #add noise \n",
    "# noise_scale = 0.01\n",
    "# y_i += np.random.randn(np.shape(y_i)[0],np.shape(y_i)[1])*noise_scale \n",
    "# y_j += np.random.randn(np.shape(y_j)[0],np.shape(y_j)[1])*noise_scale \n",
    "\n",
    "plt = Plotter(N = 1, axes = 4, bg = (1, 1, 1), interactive = True)\n",
    "disp=[]\n",
    "disp.append(Points(y_i[:,:3], c = \"#2c7c94 \", alpha = 1, r=3.5))\n",
    "\n",
    "runlen = 10\n",
    "for count in range(runlen):\n",
    "    \n",
    "    print(\"~~~~ iteration \", count, \"~~~~~~~~~~~\")\n",
    "    print(\"m_hat = \", m_hat)\n",
    "    \n",
    "    #apply last estimate of correction\n",
    "    y_j_undistort = lc(y_j, m_hat)\n",
    "    print(np.shape(y_j_undistort))\n",
    "    \n",
    "    #delta_m =  ((H^T*H)^-1)(H^T)(yi - yj*)\n",
    "    H = get_H(y_j_undistort, m_hat)\n",
    "    residual = (np.append(y_i, np.ones([len(y_i),1]), axis = 1) -\n",
    "                np.append(y_j_undistort, np.ones([len(y_i),1]), axis = 1)).flatten()\n",
    "    print(\"residual\", np.shape(residual))\n",
    "    delta_m = np.linalg.pinv(H.T @ H) @ H.T @ residual\n",
    "    m_hat[:3] -= delta_m[:3]\n",
    "    m_hat[3:] += delta_m[3:] #TODO: figure out why angles are backwards...    \n",
    "    \n",
    "    #plot updated cloud2\n",
    "#     color = [0.5 + count/(runlen*2), 1 - count/runlen, count/runlen]\n",
    "    disp.append(Points(y_j_undistort[:,:3], c = \"#a65852 \", alpha = (count+1)/(runlen+1), r=3.5))\n",
    "\n",
    "    \n",
    "plt.show(disp, \"test viz\")\n",
    "ViewInteractiveWidget(plt.window)"
   ]
  },
  {
   "cell_type": "markdown",
   "id": "83ab424c",
   "metadata": {},
   "source": [
    "# Test using spherical voxels to form distributions"
   ]
  },
  {
   "cell_type": "code",
   "execution_count": 255,
   "id": "45ddbb65",
   "metadata": {},
   "outputs": [
    {
     "data": {
      "application/vnd.jupyter.widget-view+json": {
       "model_id": "f9d9cefe105d4a2eba12d4e5de01674a",
       "version_major": 2,
       "version_minor": 0
      },
      "text/plain": [
       "ViewInteractiveWidget(height=1043, layout=Layout(height='auto', width='100%'), width=1280)"
      ]
     },
     "metadata": {},
     "output_type": "display_data"
    }
   ],
   "source": [
    "#DEBUG: convert <apply_motion_profile> to linalg \n",
    "pc1 = new_cloud\n",
    "pc2 = old_cloud\n",
    "## only take first part of cloud\n",
    "# pc1 = new_cloud[:5000]\n",
    "# pc2 = old_cloud[:5000]\n",
    "# # remove ground plane\n",
    "# pc1 = new_cloud[new_cloud[:,2] > -1]\n",
    "# pc2 = old_cloud[old_cloud[:,2] > -1]\n",
    "\n",
    "# m_hat = np.array([3, -1, 0, 0, 0, -1])\n",
    "# pc1 = new_cloud + 0.01*np.random.randn(np.shape(new_cloud)[0],3)\n",
    "m_hat = np.array([3, -1, 0, 0, 0, -1])\n",
    "pc2 = dc.apply_motion_profile(old_cloud, m_hat)\n",
    "\n",
    "plt2 = Plotter(N = 1, axes = 4, bg = (1, 1, 1), interactive = True)\n",
    "disp=[]\n",
    "disp.append(Points(pc1,  c = 'red'))\n",
    "disp.append(Points(pc2, c = 'blue'))\n",
    "plt2.show(disp, \"test viz\")\n",
    "ViewInteractiveWidget(plt2.window)"
   ]
  },
  {
   "cell_type": "code",
   "execution_count": 256,
   "id": "1cc01fa9",
   "metadata": {
    "scrolled": true
   },
   "outputs": [
    {
     "name": "stdout",
     "output_type": "stream",
     "text": [
      "~~~~~~~~~~~Iteration  0 ~~~~~~~~~~\n",
      "took 0.01699042320251465 sec  to apply motion profile\n",
      "took 0.0014777183532714844 sec to get H\n",
      "m_hat:  [ 8.09890404e-03  4.50279471e-03  5.46409166e-04 -2.13123203e-05\n",
      " -1.87301892e-04 -1.07714698e-01]\n",
      "~~~~~~~~~~~Iteration  1 ~~~~~~~~~~\n",
      "took 0.015167951583862305 sec  to apply motion profile\n",
      "took 0.0008111000061035156 sec to get H\n",
      "m_hat:  [-2.16947403e-03 -4.01146770e-01  8.93246091e-04 -4.26838524e-05\n",
      " -3.07705399e-04 -2.30850995e-01]\n",
      "~~~~~~~~~~~Iteration  2 ~~~~~~~~~~\n",
      "took 0.01503610610961914 sec  to apply motion profile\n",
      "took 0.0009307861328125 sec to get H\n",
      "m_hat:  [-1.09479688e-01 -5.24482667e-01  1.14885275e-03 -6.19302518e-05\n",
      " -4.34524991e-04 -3.79372001e-01]\n",
      "~~~~~~~~~~~Iteration  3 ~~~~~~~~~~\n",
      "took 0.0146026611328125 sec  to apply motion profile\n",
      "took 0.0008754730224609375 sec to get H\n",
      "m_hat:  [-1.71376854e-01 -6.24264956e-01  1.38213939e-03 -4.55788031e-05\n",
      " -4.32075729e-04 -4.95443165e-01]\n",
      "~~~~~~~~~~~Iteration  4 ~~~~~~~~~~\n",
      "took 0.015429258346557617 sec  to apply motion profile\n",
      "took 0.0008556842803955078 sec to get H\n",
      "m_hat:  [-1.59313694e-01 -6.96897447e-01  1.46664912e-03 -1.31993147e-05\n",
      " -4.14485054e-04 -5.84626853e-01]\n",
      "~~~~~~~~~~~Iteration  5 ~~~~~~~~~~\n",
      "took 0.015616893768310547 sec  to apply motion profile\n",
      "took 0.000835418701171875 sec to get H\n",
      "m_hat:  [-9.63576809e-02 -7.93904185e-01  1.57879072e-03  2.37593704e-05\n",
      " -3.54854390e-04 -6.52076244e-01]\n",
      "~~~~~~~~~~~Iteration  6 ~~~~~~~~~~\n",
      "took 0.014954328536987305 sec  to apply motion profile\n",
      "took 0.0008673667907714844 sec to get H\n",
      "m_hat:  [ 6.22364134e-03 -9.00082111e-01  1.68885058e-03  2.62487483e-05\n",
      " -3.05463152e-04 -7.03882635e-01]\n",
      "~~~~~~~~~~~Iteration  7 ~~~~~~~~~~\n",
      "took 0.015485763549804688 sec  to apply motion profile\n",
      "took 0.0008559226989746094 sec to get H\n",
      "m_hat:  [ 1.50305957e-01 -1.01505756e+00  1.70408003e-03  4.39450523e-05\n",
      " -2.50415003e-04 -7.42551565e-01]\n",
      "~~~~~~~~~~~Iteration  8 ~~~~~~~~~~\n",
      "took 0.015983104705810547 sec  to apply motion profile\n",
      "took 0.00086212158203125 sec to get H\n",
      "m_hat:  [ 3.14452648e-01 -1.10669053e+00  1.61892851e-03  6.24239692e-05\n",
      " -2.02615978e-04 -7.74962485e-01]\n",
      "~~~~~~~~~~~Iteration  9 ~~~~~~~~~~\n",
      "took 0.016060590744018555 sec  to apply motion profile\n",
      "took 0.0009021759033203125 sec to get H\n",
      "m_hat:  [ 4.99098420e-01 -1.17927969e+00  1.51037937e-03  6.10948555e-05\n",
      " -1.63492397e-04 -8.02221894e-01]\n",
      "~~~~~~~~~~~Iteration  10 ~~~~~~~~~~\n",
      "took 0.015308856964111328 sec  to apply motion profile\n",
      "took 0.0008387565612792969 sec to get H\n",
      "m_hat:  [ 7.18401611e-01 -1.15097070e+00  1.39144843e-03  2.69546872e-05\n",
      " -1.26357962e-04 -8.46536160e-01]\n",
      "~~~~~~~~~~~Iteration  11 ~~~~~~~~~~\n",
      "took 0.015706300735473633 sec  to apply motion profile\n",
      "took 0.0008378028869628906 sec to get H\n",
      "m_hat:  [ 9.67812181e-01 -1.17588854e+00  1.18657574e-03  2.38098546e-05\n",
      " -5.27824886e-05 -8.75441074e-01]\n",
      "~~~~~~~~~~~Iteration  12 ~~~~~~~~~~\n",
      "took 0.014899253845214844 sec  to apply motion profile\n",
      "took 0.0008759498596191406 sec to get H\n",
      "m_hat:  [ 1.24233282e+00 -1.19250536e+00  9.08252085e-04  6.45389082e-06\n",
      "  1.73275403e-05 -9.02735412e-01]\n",
      "~~~~~~~~~~~Iteration  13 ~~~~~~~~~~\n",
      "took 0.014976263046264648 sec  to apply motion profile\n",
      "took 0.0008800029754638672 sec to get H\n",
      "m_hat:  [ 1.49966478e+00 -1.21831560e+00  6.56635209e-04 -1.35471400e-05\n",
      "  7.38892995e-05 -9.24682438e-01]\n",
      "~~~~~~~~~~~Iteration  14 ~~~~~~~~~~\n",
      "took 0.01603984832763672 sec  to apply motion profile\n",
      "took 0.0008931159973144531 sec to get H\n",
      "m_hat:  [ 1.81144750e+00 -1.33129668e+00  2.94336845e-04 -1.99835922e-05\n",
      "  1.77237787e-04 -9.32067454e-01]\n",
      "~~~~~~~~~~~Iteration  15 ~~~~~~~~~~\n",
      "took 0.015037298202514648 sec  to apply motion profile\n",
      "took 0.0009090900421142578 sec to get H\n",
      "m_hat:  [ 2.08889771e+00 -1.40149295e+00 -1.87148689e-05 -4.11923465e-05\n",
      "  2.59011722e-04 -9.38786864e-01]\n",
      "~~~~~~~~~~~Iteration  16 ~~~~~~~~~~\n",
      "took 0.015253067016601562 sec  to apply motion profile\n",
      "took 0.0008726119995117188 sec to get H\n",
      "m_hat:  [ 2.29930258e+00 -1.40648937e+00 -2.67829775e-04 -7.51426123e-05\n",
      "  3.06870817e-04 -9.48835969e-01]\n",
      "~~~~~~~~~~~Iteration  17 ~~~~~~~~~~\n",
      "took 0.015065431594848633 sec  to apply motion profile\n",
      "took 0.0015819072723388672 sec to get H\n",
      "m_hat:  [ 2.46899700e+00 -1.38805306e+00 -6.21993560e-04 -6.36394689e-05\n",
      "  3.17778438e-04 -9.57637668e-01]\n",
      "~~~~~~~~~~~Iteration  18 ~~~~~~~~~~\n",
      "took 0.015479564666748047 sec  to apply motion profile\n",
      "took 0.0008866786956787109 sec to get H\n",
      "m_hat:  [ 2.60456252e+00 -1.35212505e+00 -8.78585968e-04 -4.88179794e-05\n",
      "  3.18364328e-04 -9.65754211e-01]\n",
      "~~~~~~~~~~~Iteration  19 ~~~~~~~~~~\n",
      "took 0.015118598937988281 sec  to apply motion profile\n",
      "took 0.0008790493011474609 sec to get H\n",
      "m_hat:  [ 2.71024394e+00 -1.31059623e+00 -1.03367632e-03 -4.24014579e-05\n",
      "  3.17713362e-04 -9.72624063e-01]\n",
      "~~~~~~~~~~~Iteration  20 ~~~~~~~~~~\n",
      "took 0.018445968627929688 sec  to apply motion profile\n",
      "took 0.0008590221405029297 sec to get H\n",
      "m_hat:  [ 2.78872895e+00 -1.26502442e+00 -1.15655118e-03 -2.86574468e-05\n",
      "  3.11851909e-04 -9.78444934e-01]\n",
      "~~~~~~~~~~~Iteration  21 ~~~~~~~~~~\n",
      "took 0.014225006103515625 sec  to apply motion profile\n",
      "took 0.0008730888366699219 sec to get H\n",
      "m_hat:  [ 2.84754395e+00 -1.22109604e+00 -1.18177664e-03 -3.40094266e-05\n",
      "  2.98037892e-04 -9.83273804e-01]\n",
      "~~~~~~~~~~~Iteration  22 ~~~~~~~~~~\n",
      "took 0.016143321990966797 sec  to apply motion profile\n",
      "took 0.0009095668792724609 sec to get H\n",
      "m_hat:  [ 2.89016891e+00 -1.18023014e+00 -1.12053996e-03 -4.99819580e-05\n",
      "  2.72639096e-04 -9.87263381e-01]\n",
      "~~~~~~~~~~~Iteration  23 ~~~~~~~~~~\n",
      "took 0.01585984230041504 sec  to apply motion profile\n",
      "took 0.0019636154174804688 sec to get H\n",
      "m_hat:  [ 2.92132807e+00 -1.14451313e+00 -1.07608968e-03 -5.08281810e-05\n",
      "  2.51927122e-04 -9.90555823e-01]\n",
      "~~~~~~~~~~~Iteration  24 ~~~~~~~~~~\n",
      "took 0.014786005020141602 sec  to apply motion profile\n",
      "took 0.0008699893951416016 sec to get H\n",
      "m_hat:  [ 2.94413543e+00 -1.11411369e+00 -1.04480563e-03 -4.58955037e-05\n",
      "  2.30876351e-04 -9.93168235e-01]\n",
      "~~~~~~~~~~~Iteration  25 ~~~~~~~~~~\n",
      "took 0.01587820053100586 sec  to apply motion profile\n",
      "took 0.0016579627990722656 sec to get H\n",
      "m_hat:  [ 2.96098924e+00 -1.08861876e+00 -1.04210805e-03 -3.21306870e-05\n",
      "  2.12534505e-04 -9.95207608e-01]\n",
      "~~~~~~~~~~~Iteration  26 ~~~~~~~~~~\n",
      "took 0.015300750732421875 sec  to apply motion profile\n",
      "took 0.0008883476257324219 sec to get H\n",
      "m_hat:  [ 2.97352242e+00 -1.06760812e+00 -9.99251846e-04 -2.52047685e-05\n",
      "  1.98116206e-04 -9.96734262e-01]\n",
      "~~~~~~~~~~~Iteration  27 ~~~~~~~~~~\n",
      "took 0.014973640441894531 sec  to apply motion profile\n",
      "took 0.0008754730224609375 sec to get H\n",
      "m_hat:  [ 2.98279333e+00 -1.05064034e+00 -1.00368960e-03 -4.56809175e-06\n",
      "  1.95021654e-04 -9.97857511e-01]\n",
      "~~~~~~~~~~~Iteration  28 ~~~~~~~~~~\n",
      "took 0.016321659088134766 sec  to apply motion profile\n",
      "took 0.0015153884887695312 sec to get H\n",
      "m_hat:  [ 2.98945737e+00 -1.03715384e+00 -9.76713607e-04  6.13341035e-06\n",
      "  1.89031387e-04 -9.98667657e-01]\n",
      "~~~~~~~~~~~Iteration  29 ~~~~~~~~~~\n",
      "took 0.01588582992553711 sec  to apply motion profile\n",
      "took 0.0008759498596191406 sec to get H\n",
      "m_hat:  [ 2.99422646e+00 -1.02656651e+00 -9.59915342e-04  2.03141408e-05\n",
      "  1.89349506e-04 -9.99231219e-01]\n",
      "~~~~~~~~~~~Iteration  30 ~~~~~~~~~~\n",
      "took 0.014694929122924805 sec  to apply motion profile\n",
      "took 0.0008718967437744141 sec to get H\n",
      "m_hat:  [ 2.99751043e+00 -1.01843131e+00 -9.26922774e-04  2.68247495e-05\n",
      "  1.87483995e-04 -9.99614835e-01]\n",
      "~~~~~~~~~~~Iteration  31 ~~~~~~~~~~\n",
      "took 0.016247034072875977 sec  to apply motion profile\n",
      "took 0.0009291172027587891 sec to get H\n",
      "m_hat:  [ 2.99968863e+00 -1.01227331e+00 -9.11088777e-04  3.46513989e-05\n",
      "  1.85592013e-04 -9.99865413e-01]\n",
      "~~~~~~~~~~~Iteration  32 ~~~~~~~~~~\n",
      "took 0.016335010528564453 sec  to apply motion profile\n",
      "took 0.000993967056274414 sec to get H\n",
      "m_hat:  [ 3.00109196e+00 -1.00766802e+00 -8.75608239e-04  3.64218431e-05\n",
      "  1.82103424e-04 -1.00001740e+00]\n",
      "~~~~~~~~~~~Iteration  33 ~~~~~~~~~~\n",
      "took 0.015585899353027344 sec  to apply motion profile\n",
      "took 0.0009038448333740234 sec to get H\n",
      "m_hat:  [ 3.00191331e+00 -1.00433254e+00 -8.16658256e-04  3.04527493e-05\n",
      "  1.76396745e-04 -1.00010324e+00]\n",
      "~~~~~~~~~~~Iteration  34 ~~~~~~~~~~\n",
      "took 0.01644730567932129 sec  to apply motion profile\n",
      "took 0.0009210109710693359 sec to get H\n",
      "m_hat:  [ 3.00235677e+00 -1.00195587e+00 -7.87203317e-04  3.05013182e-05\n",
      "  1.72642496e-04 -1.00014222e+00]\n",
      "~~~~~~~~~~~Iteration  35 ~~~~~~~~~~\n",
      "took 0.014842987060546875 sec  to apply motion profile\n",
      "took 0.0008904933929443359 sec to get H\n",
      "m_hat:  [ 3.00257730e+00 -1.00026655e+00 -8.00294045e-04  3.95233656e-05\n",
      "  1.74054949e-04 -1.00014722e+00]\n",
      "~~~~~~~~~~~Iteration  36 ~~~~~~~~~~\n",
      "took 0.015761852264404297 sec  to apply motion profile\n",
      "took 0.0008866786956787109 sec to get H\n",
      "m_hat:  [ 3.00260615e+00 -9.99123633e-01 -7.96994253e-04  4.30369946e-05\n",
      "  1.73986104e-04 -1.00013459e+00]\n",
      "~~~~~~~~~~~Iteration  37 ~~~~~~~~~~\n"
     ]
    },
    {
     "name": "stdout",
     "output_type": "stream",
     "text": [
      "took 0.015528440475463867 sec  to apply motion profile\n",
      "took 0.0009236335754394531 sec to get H\n",
      "m_hat:  [ 3.00252151e+00 -9.98384774e-01 -7.92633393e-04  4.44178295e-05\n",
      "  1.73232271e-04 -1.00011182e+00]\n",
      "~~~~~~~~~~~Iteration  38 ~~~~~~~~~~\n",
      "took 0.014890432357788086 sec  to apply motion profile\n",
      "took 0.0008800029754638672 sec to get H\n",
      "m_hat:  [ 3.00237346e+00 -9.97935236e-01 -7.87925150e-04  4.52433669e-05\n",
      "  1.72594446e-04 -1.00008416e+00]\n",
      "~~~~~~~~~~~Iteration  39 ~~~~~~~~~~\n",
      "took 0.01525425910949707 sec  to apply motion profile\n",
      "took 0.0008916854858398438 sec to get H\n",
      "m_hat:  [ 3.00220299e+00 -9.97675180e-01 -7.95364613e-04  4.90818566e-05\n",
      "  1.76663118e-04 -1.00005424e+00]\n",
      "~~~~~~~~~~~Iteration  40 ~~~~~~~~~~\n",
      "took 0.015008211135864258 sec  to apply motion profile\n",
      "took 0.0009298324584960938 sec to get H\n",
      "m_hat:  [ 3.00202274e+00 -9.97558832e-01 -7.97518354e-04  4.99111375e-05\n",
      "  1.78588307e-04 -1.00002539e+00]\n",
      "~~~~~~~~~~~Iteration  41 ~~~~~~~~~~\n",
      "took 0.014753580093383789 sec  to apply motion profile\n",
      "took 0.0008983612060546875 sec to get H\n",
      "m_hat:  [ 3.00184965e+00 -9.97536361e-01 -7.96932436e-04  4.96559660e-05\n",
      "  1.79388211e-04 -9.99998748e-01]\n",
      "~~~~~~~~~~~Iteration  42 ~~~~~~~~~~\n",
      "took 0.015961647033691406 sec  to apply motion profile\n",
      "took 0.0008642673492431641 sec to get H\n",
      "m_hat:  [ 3.00169134e+00 -9.97571051e-01 -7.97216024e-04  4.94877859e-05\n",
      "  1.79992930e-04 -9.99975204e-01]\n",
      "~~~~~~~~~~~Iteration  43 ~~~~~~~~~~\n",
      "took 0.01682424545288086 sec  to apply motion profile\n",
      "took 0.000965118408203125 sec to get H\n",
      "m_hat:  [ 3.00155020e+00 -9.97639596e-01 -7.97697518e-04  4.93177358e-05\n",
      "  1.80400937e-04 -9.99955118e-01]\n",
      "~~~~~~~~~~~Iteration  44 ~~~~~~~~~~\n",
      "took 0.015645980834960938 sec  to apply motion profile\n",
      "took 0.0008971691131591797 sec to get H\n",
      "m_hat:  [ 3.00142980e+00 -9.97722626e-01 -7.98274821e-04  4.91714782e-05\n",
      "  1.80726725e-04 -9.99938130e-01]\n",
      "~~~~~~~~~~~Iteration  45 ~~~~~~~~~~\n",
      "took 0.016238927841186523 sec  to apply motion profile\n",
      "took 0.0008747577667236328 sec to get H\n",
      "m_hat:  [ 3.00132823e+00 -9.97811317e-01 -7.98922847e-04  4.90758248e-05\n",
      "  1.81005438e-04 -9.99924242e-01]\n",
      "~~~~~~~~~~~Iteration  46 ~~~~~~~~~~\n",
      "took 0.015478372573852539 sec  to apply motion profile\n",
      "took 0.0008864402770996094 sec to get H\n",
      "m_hat:  [ 3.00124407e+00 -9.97896671e-01 -7.99579022e-04  4.89592858e-05\n",
      "  1.81200870e-04 -9.99912977e-01]\n",
      "~~~~~~~~~~~Iteration  47 ~~~~~~~~~~\n",
      "took 0.015015125274658203 sec  to apply motion profile\n",
      "took 0.0008890628814697266 sec to get H\n",
      "m_hat:  [ 3.00117779e+00 -9.97975469e-01 -8.00223381e-04  4.88583755e-05\n",
      "  1.81373616e-04 -9.99903917e-01]\n",
      "~~~~~~~~~~~Iteration  48 ~~~~~~~~~~\n",
      "took 0.015526294708251953 sec  to apply motion profile\n",
      "took 0.00093841552734375 sec to get H\n",
      "m_hat:  [ 3.00112486e+00 -9.98042822e-01 -8.00693058e-04  4.87621692e-05\n",
      "  1.81520212e-04 -9.99896824e-01]\n",
      "~~~~~~~~~~~Iteration  49 ~~~~~~~~~~\n",
      "took 0.01578664779663086 sec  to apply motion profile\n",
      "took 0.0009284019470214844 sec to get H\n",
      "m_hat:  [ 3.00108314e+00 -9.98102069e-01 -8.01117450e-04  4.86515564e-05\n",
      "  1.81635696e-04 -9.99891281e-01]\n"
     ]
    },
    {
     "data": {
      "application/vnd.jupyter.widget-view+json": {
       "model_id": "f57b7df52f3d42a8af481e23ed0b21bd",
       "version_major": 2,
       "version_minor": 0
      },
      "text/plain": [
       "ViewInteractiveWidget(height=1043, layout=Layout(height='auto', width='100%'), width=1280)"
      ]
     },
     "metadata": {},
     "output_type": "display_data"
    }
   ],
   "source": [
    "from linear_corrector import LC\n",
    "\n",
    "m_hat0 = np.array([0.,0, 0, 0, 0, 0]) #cold start\n",
    "dc = LC(cloud1 = pc1, cloud2 = pc2, fid = 30, niter = 50, draw = True, m_hat0 = m_hat0)\n",
    "ViewInteractiveWidget(dc.plt.window)"
   ]
  },
  {
   "cell_type": "code",
   "execution_count": 186,
   "id": "ac25922c",
   "metadata": {},
   "outputs": [
    {
     "name": "stdout",
     "output_type": "stream",
     "text": [
      "(16564, 4, 4)\n",
      "(16564, 4)\n",
      "(16564, 4)\n"
     ]
    }
   ],
   "source": [
    "from numpy import sin, cos\n",
    "\n",
    "M = dc.motion_profile\n",
    "\n",
    "x = M[:,0]\n",
    "y = M[:,1]\n",
    "z = M[:,2]\n",
    "phi = M[:,3]\n",
    "theta = M[:,4]\n",
    "psi = M[:,5]\n",
    "\n",
    "T_rect_numpy = np.array([[cos(psi)*cos(theta), sin(phi)*sin(theta)*cos(psi) - sin(psi)*cos(phi), sin(phi)*sin(psi) + sin(theta)*cos(phi)*cos(psi), -x], [sin(psi)*cos(theta), sin(phi)*sin(psi)*sin(theta) + cos(phi)*cos(psi), -sin(phi)*cos(psi) + sin(psi)*sin(theta)*cos(phi), -y], [-sin(theta), sin(phi)*cos(theta), cos(phi)*cos(theta), -z], [np.zeros(len(x)), np.zeros(len(x)), np.zeros(len(x)), np.ones(len(x))]])\n",
    "T_rect_numpy = np.transpose(T_rect_numpy, (2,0,1))\n",
    "# print(T_rect_numpy)\n",
    "print(np.shape(T_rect_numpy))\n",
    "\n",
    "pc = np.append(old_cloud, np.ones([len(old_cloud),1]), axis=1)\n",
    "print(np.shape(pc))\n",
    "\n",
    "# T_rect_numpy = np.reshape(T_rect_numpy, (-1, 4))\n",
    "# print(T_rect_numpy)\n",
    "# print(np.shape(T_rect_numpy))\n",
    "\n",
    "ans =  T_rect_numpy @ pc[:,:,None]\n",
    "print(np.shape(ans[:,:,0]))"
   ]
  },
  {
   "cell_type": "code",
   "execution_count": null,
   "id": "5fdc998e",
   "metadata": {},
   "outputs": [],
   "source": []
  }
 ],
 "metadata": {
  "kernelspec": {
   "display_name": "Python 3 (ipykernel)",
   "language": "python",
   "name": "python3"
  },
  "language_info": {
   "codemirror_mode": {
    "name": "ipython",
    "version": 3
   },
   "file_extension": ".py",
   "mimetype": "text/x-python",
   "name": "python",
   "nbconvert_exporter": "python",
   "pygments_lexer": "ipython3",
   "version": "3.9.13"
  }
 },
 "nbformat": 4,
 "nbformat_minor": 5
}
