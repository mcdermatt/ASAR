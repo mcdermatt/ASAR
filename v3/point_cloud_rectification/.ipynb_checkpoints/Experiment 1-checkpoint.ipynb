{
 "cells": [
  {
   "cell_type": "code",
   "execution_count": 12,
   "id": "dc43266c",
   "metadata": {},
   "outputs": [
    {
     "name": "stdout",
     "output_type": "stream",
     "text": [
      "[PhysicalDevice(name='/physical_device:GPU:0', device_type='GPU')]\n",
      "The autoreload extension is already loaded. To reload it, use:\n",
      "  %reload_ext autoreload\n"
     ]
    },
    {
     "data": {
      "application/javascript": [
       "IPython.notebook.set_autosave_interval(180000)"
      ]
     },
     "metadata": {},
     "output_type": "display_data"
    },
    {
     "name": "stdout",
     "output_type": "stream",
     "text": [
      "Autosaving every 180 seconds\n"
     ]
    }
   ],
   "source": [
    "from vedo import *\n",
    "from ipyvtklink.viewer import ViewInteractiveWidget\n",
    "import numpy as np\n",
    "import tensorflow as tf\n",
    "import time\n",
    "\n",
    "#limit GPU memory ------------------------------------------------\n",
    "gpus = tf.config.experimental.list_physical_devices('GPU')\n",
    "print(gpus)\n",
    "if gpus:\n",
    "  try:\n",
    "    memlim = 4*1024\n",
    "    tf.config.experimental.set_virtual_device_configuration(gpus[0], [tf.config.experimental.VirtualDeviceConfiguration(memory_limit=memlim)])\n",
    "  except RuntimeError as e:\n",
    "    print(e)\n",
    "#-----------------------------------------------------------------\n",
    "\n",
    "import sys\n",
    "import os\n",
    "current = os.getcwd()\n",
    "parent_directory = os.path.dirname(current)\n",
    "sys.path.append(parent_directory)\n",
    "from ICET_spherical import ICET\n",
    "from utils import R_tf\n",
    "from metpy.calc import lat_lon_grid_deltas\n",
    "from scipy.spatial.transform import Rotation as R\n",
    "from matplotlib import pyplot as plt\n",
    "import copy\n",
    "import trimesh\n",
    "%load_ext autoreload\n",
    "%autoreload 2\n",
    "%autosave 180\n",
    "%matplotlib notebook\n"
   ]
  },
  {
   "cell_type": "code",
   "execution_count": 17,
   "id": "f847efa0",
   "metadata": {},
   "outputs": [
    {
     "data": {
      "application/vnd.jupyter.widget-view+json": {
       "model_id": "cf44deb71bb34be7a905eab6ce5ee1e3",
       "version_major": 2,
       "version_minor": 0
      },
      "text/plain": [
       "ViewInteractiveWidget(height=1043, layout=Layout(height='auto', width='100%'), width=1280)"
      ]
     },
     "metadata": {},
     "output_type": "display_data"
    }
   ],
   "source": [
    "#load HD Map\n",
    "pl = '/media/derm/06EF-127D3/Newer College Dataset/new-college-29-01-2020-1cm-resolution-1stSection - mesh.ply'\n",
    "HD_map = trimesh.load(pl).vertices\n",
    "show_nth = 10\n",
    "submap = HD_map[::show_nth]\n",
    "plt = Plotter(N = 1, axes = 4, bg = (1, 1, 1), interactive = True)\n",
    "disp=[]\n",
    "disp.append(Points(submap, c = \"#CB2314\", r = 2, alpha = 0.1)) \n",
    "plt.show(disp, \"HD Map\")\n",
    "ViewInteractiveWidget(plt.window)"
   ]
  },
  {
   "cell_type": "code",
   "execution_count": 18,
   "id": "60910198",
   "metadata": {},
   "outputs": [],
   "source": [
    "#load ground truth\n",
    "# [sec,nsec,x,y,z,qx,qy,qz,qw]\n",
    "fn_gt = \"/media/derm/06EF-127D3/Newer College Dataset/05_Quad_With_Dynamics/registered_poses.csv\"\n",
    "gt = np.loadtxt(fn_gt, delimiter=',',skiprows = 1)\n",
    "seconds = gt[:, 0]\n",
    "nano_seconds = gt[:, 1]\n",
    "xyz = gt[:, 2:5]\n",
    "qxyzw = gt[:, 5:]\n",
    "num_poses = qxyzw.shape[0]\n",
    "poses = np.eye(4, dtype=np.float64).reshape(1, 4, 4).repeat(num_poses, axis=0)\n",
    "poses[:, :3, :3] = R.from_quat(qxyzw).as_matrix()\n",
    "poses[:, :3, 3] = xyz\n",
    "T_CL = np.eye(4, dtype=np.float32)\n",
    "T_CL[:3, :3] = R.from_quat([0.0, 0.0, 0.924, 0.383]).as_matrix() #was this --1134.97 deg\n",
    "T_CL[:3, 3] = np.array([-0.084, -0.025, 0.050], dtype=np.float32) #was this\n",
    "poses = np.einsum(\"nij,jk->nik\", poses, T_CL)\n",
    "initial_pose = np.linalg.inv(poses[0]) \n",
    "poses_timestamps = seconds * 10e9 + nano_seconds\n",
    "poses = np.einsum(\"ij,njk->nik\", np.linalg.inv(poses[0]), poses)"
   ]
  },
  {
   "cell_type": "code",
   "execution_count": 42,
   "id": "612eb04b",
   "metadata": {},
   "outputs": [
    {
     "data": {
      "application/vnd.jupyter.widget-view+json": {
       "model_id": "66064982d0a940589a0e8f72ee3c5aa2",
       "version_major": 2,
       "version_minor": 0
      },
      "text/plain": [
       "ViewInteractiveWidget(height=1043, layout=Layout(height='auto', width='100%'), width=1280)"
      ]
     },
     "metadata": {},
     "output_type": "display_data"
    }
   ],
   "source": [
    "#put HD Map and new scan in frame of raw keyframe scan\n",
    "idx = 2850 \n",
    "skip = 1 #10 #how many lidar frames between keyframe and new scan\n",
    "offset = 10 #works best for 05 dataset\n",
    "fn1 = \"/media/derm/06EF-127D3/Newer College Dataset/05_Quad_With_Dynamics/point_clouds/frame_\" + str(idx + offset) + \".npy\"\n",
    "fn2 = \"/media/derm/06EF-127D3/Newer College Dataset/05_Quad_With_Dynamics/point_clouds/frame_\" + str(idx + skip + offset) + \".npy\"\n",
    "pc1 = np.load(fn1)\n",
    "pc2 = np.load(fn2)\n",
    "plt = Plotter(N = 1, axes = 1, bg = (1, 1, 1), interactive = True) #axes = 4 (simple), 1(scale)\n",
    "disp=[]\n",
    "\n",
    "#transform everything to pc1 frame\n",
    "pc2_in_pc1_frame = (np.linalg.pinv(poses[idx]) @ poses[idx+skip] @ np.append(pc2, np.ones([len(pc2),1]), axis=1).T).T\n",
    "pc2_in_pc1_frame = pc2_in_pc1_frame[:,:3] #remove extra axis\n",
    "submap_in_pc1_frame = (np.linalg.pinv(poses[idx]) @ initial_pose @ np.append(submap, np.ones([len(submap),1]), axis =1).T).T\n",
    "submap_in_pc1_frame = submap_in_pc1_frame[:,:3]\n",
    "disp.append(Points(submap_in_pc1_frame, c = \"black\", r = 2, alpha = 0.1)) ##CB2314\n",
    "\n",
    "#remove 4th column and center first scan about origin\n",
    "scan1_lidarframe = scan1_mapframe[:,:3] - poses[idx][:3,3]\n",
    "scan2_lidarframe = scan2_mapframe[:,:3] - poses[idx][:3,3]\n",
    "submap_lidarframe = submap_mapframe[:,:3] - poses[idx][:3,3]\n",
    "\n",
    "# DRAW SCANS 1, 2\n",
    "disp.append(Points(pc1, c = '#a65852', r = 3)) #red\n",
    "# disp.append(Points(pc2_in_pc1_frame, c = '#2c7c94', r = 3)) #blue\n",
    "\n",
    "plt.show(disp, \"06 Dynamic Spinning Frame #\" + str(idx))\n",
    "ViewInteractiveWidget(plt.window)"
   ]
  },
  {
   "cell_type": "code",
   "execution_count": 43,
   "id": "6960b12e",
   "metadata": {},
   "outputs": [
    {
     "name": "stdout",
     "output_type": "stream",
     "text": [
      "[-0.24923162  0.09385803 -0.51998432] [ 0.00792674  0.01801305 -0.00668086]\n"
     ]
    }
   ],
   "source": [
    "#test ICP registration on a single pair of frames\n",
    "# icp_rigid_transform, _, _ = trimesh.registration.icp(pc1, pc2_in_pc1_frame) #scan to scan\n",
    "icp_rigid_transform, _, _ = trimesh.registration.icp(pc1, submap_in_pc1_frame) #scan to HD Map\n",
    "icp_trans = icp_rigid_transform[:3,3]\n",
    "icp_euls = R.from_matrix(icp_rigid_transform[:3,:3]).as_euler('xyz')\n",
    "print(icp_trans, icp_euls)"
   ]
  },
  {
   "cell_type": "code",
   "execution_count": null,
   "id": "1a605567",
   "metadata": {},
   "outputs": [],
   "source": [
    "#run ICP for 200 frames of Newer College \"05: Quad With Dynamics\"\n",
    "\n"
   ]
  }
 ],
 "metadata": {
  "kernelspec": {
   "display_name": "Python 3 (ipykernel)",
   "language": "python",
   "name": "python3"
  },
  "language_info": {
   "codemirror_mode": {
    "name": "ipython",
    "version": 3
   },
   "file_extension": ".py",
   "mimetype": "text/x-python",
   "name": "python",
   "nbconvert_exporter": "python",
   "pygments_lexer": "ipython3",
   "version": "3.9.13"
  }
 },
 "nbformat": 4,
 "nbformat_minor": 5
}
