{
 "cells": [
  {
   "cell_type": "code",
   "execution_count": 1,
   "id": "a584d16a",
   "metadata": {},
   "outputs": [
    {
     "name": "stderr",
     "output_type": "stream",
     "text": [
      "2023-10-21 16:07:12.240231: I tensorflow/core/platform/cpu_feature_guard.cc:193] This TensorFlow binary is optimized with oneAPI Deep Neural Network Library (oneDNN) to use the following CPU instructions in performance-critical operations:  AVX2 FMA\n",
      "To enable them in other operations, rebuild TensorFlow with the appropriate compiler flags.\n",
      "2023-10-21 16:07:12.871424: E tensorflow/stream_executor/cuda/cuda_blas.cc:2981] Unable to register cuBLAS factory: Attempting to register factory for plugin cuBLAS when one has already been registered\n",
      "2023-10-21 16:07:13.989613: W tensorflow/stream_executor/platform/default/dso_loader.cc:64] Could not load dynamic library 'libnvinfer.so.7'; dlerror: libnvinfer.so.7: cannot open shared object file: No such file or directory\n",
      "2023-10-21 16:07:13.989710: W tensorflow/stream_executor/platform/default/dso_loader.cc:64] Could not load dynamic library 'libnvinfer_plugin.so.7'; dlerror: libnvinfer_plugin.so.7: cannot open shared object file: No such file or directory\n",
      "2023-10-21 16:07:13.989717: W tensorflow/compiler/tf2tensorrt/utils/py_utils.cc:38] TF-TRT Warning: Cannot dlopen some TensorRT libraries. If you would like to use Nvidia GPU with TensorRT, please make sure the missing libraries mentioned above are installed properly.\n",
      "2023-10-21 16:07:15.820646: I tensorflow/stream_executor/cuda/cuda_gpu_executor.cc:980] successful NUMA node read from SysFS had negative value (-1), but there must be at least one NUMA node, so returning NUMA node zero\n",
      "2023-10-21 16:07:15.927626: I tensorflow/stream_executor/cuda/cuda_gpu_executor.cc:980] successful NUMA node read from SysFS had negative value (-1), but there must be at least one NUMA node, so returning NUMA node zero\n",
      "2023-10-21 16:07:15.927866: I tensorflow/stream_executor/cuda/cuda_gpu_executor.cc:980] successful NUMA node read from SysFS had negative value (-1), but there must be at least one NUMA node, so returning NUMA node zero\n"
     ]
    },
    {
     "name": "stdout",
     "output_type": "stream",
     "text": [
      "[PhysicalDevice(name='/physical_device:GPU:0', device_type='GPU')]\n"
     ]
    },
    {
     "name": "stderr",
     "output_type": "stream",
     "text": [
      "2023-10-21 16:07:16.294331: I tensorflow/core/platform/cpu_feature_guard.cc:193] This TensorFlow binary is optimized with oneAPI Deep Neural Network Library (oneDNN) to use the following CPU instructions in performance-critical operations:  AVX2 FMA\n",
      "To enable them in other operations, rebuild TensorFlow with the appropriate compiler flags.\n",
      "2023-10-21 16:07:16.296132: I tensorflow/stream_executor/cuda/cuda_gpu_executor.cc:980] successful NUMA node read from SysFS had negative value (-1), but there must be at least one NUMA node, so returning NUMA node zero\n",
      "2023-10-21 16:07:16.296411: I tensorflow/stream_executor/cuda/cuda_gpu_executor.cc:980] successful NUMA node read from SysFS had negative value (-1), but there must be at least one NUMA node, so returning NUMA node zero\n",
      "2023-10-21 16:07:16.296610: I tensorflow/stream_executor/cuda/cuda_gpu_executor.cc:980] successful NUMA node read from SysFS had negative value (-1), but there must be at least one NUMA node, so returning NUMA node zero\n",
      "2023-10-21 16:07:17.216607: I tensorflow/stream_executor/cuda/cuda_gpu_executor.cc:980] successful NUMA node read from SysFS had negative value (-1), but there must be at least one NUMA node, so returning NUMA node zero\n",
      "2023-10-21 16:07:17.216776: I tensorflow/stream_executor/cuda/cuda_gpu_executor.cc:980] successful NUMA node read from SysFS had negative value (-1), but there must be at least one NUMA node, so returning NUMA node zero\n",
      "2023-10-21 16:07:17.216957: I tensorflow/stream_executor/cuda/cuda_gpu_executor.cc:980] successful NUMA node read from SysFS had negative value (-1), but there must be at least one NUMA node, so returning NUMA node zero\n",
      "2023-10-21 16:07:17.217045: I tensorflow/core/common_runtime/gpu/gpu_device.cc:1616] Created device /job:localhost/replica:0/task:0/device:GPU:0 with 22528 MB memory:  -> device: 0, name: NVIDIA GeForce RTX 3090, pci bus id: 0000:07:00.0, compute capability: 8.6\n"
     ]
    },
    {
     "data": {
      "application/javascript": [
       "IPython.notebook.set_autosave_interval(180000)"
      ]
     },
     "metadata": {},
     "output_type": "display_data"
    },
    {
     "name": "stdout",
     "output_type": "stream",
     "text": [
      "Autosaving every 180 seconds\n"
     ]
    }
   ],
   "source": [
    "from vedo import *\n",
    "from ipyvtklink.viewer import ViewInteractiveWidget\n",
    "import numpy as np\n",
    "import tensorflow as tf\n",
    "import time\n",
    "\n",
    "#limit GPU memory ------------------------------------------------\n",
    "gpus = tf.config.experimental.list_physical_devices('GPU')\n",
    "print(gpus)\n",
    "if gpus:\n",
    "  try:\n",
    "    memlim = 22*1024\n",
    "    tf.config.experimental.set_virtual_device_configuration(gpus[0], [tf.config.experimental.VirtualDeviceConfiguration(memory_limit=memlim)])\n",
    "  except RuntimeError as e:\n",
    "    print(e)\n",
    "#-----------------------------------------------------------------\n",
    "\n",
    "import sys\n",
    "import os\n",
    "current = os.getcwd()\n",
    "parent_directory = os.path.dirname(current)\n",
    "sys.path.append(parent_directory)\n",
    "from ICET_spherical import ICET\n",
    "from utils import R_tf\n",
    "from metpy.calc import lat_lon_grid_deltas\n",
    "from scipy.spatial.transform import Rotation as R\n",
    "from matplotlib import pyplot as plt\n",
    "import copy\n",
    "import trimesh\n",
    "%load_ext autoreload\n",
    "%autoreload 2\n",
    "%autosave 180\n",
    "%matplotlib notebook\n"
   ]
  },
  {
   "cell_type": "code",
   "execution_count": 2,
   "id": "fdec8d85",
   "metadata": {},
   "outputs": [],
   "source": [
    "# #test loading individual subsections\n",
    "# # pl = '/media/derm/06EF-127D4/Newer College Dataset/new-college-29-01-2020-1cm-resolution-2ndSection - mesh.ply'\n",
    "# pl = '/media/derm/06EF-127D4/Newer College Dataset/new-college-29-01-2020-1cm-resolution-3rdSection.ply'\n",
    "# HD_map = trimesh.load(pl).vertices\n",
    "# show_nth = 10 #10\n",
    "# submap = HD_map[::show_nth]\n",
    "# plt = Plotter(N = 1, axes = 4, bg = (1, 1, 1), interactive = True)\n",
    "# disp=[]\n",
    "# disp.append(Points(submap, c = \"#CB2314\", r = 2, alpha = 0.1)) \n",
    "# plt.show(disp, \"HD Map\")\n",
    "# ViewInteractiveWidget(plt.window)"
   ]
  },
  {
   "cell_type": "code",
   "execution_count": 199,
   "id": "14bb6e1e",
   "metadata": {},
   "outputs": [
    {
     "name": "stdout",
     "output_type": "stream",
     "text": [
      "(402473, 3)\n",
      "(1137566, 3)\n",
      "(1675711, 3)\n",
      "(3151530, 3)\n",
      "(2121251, 3)\n"
     ]
    },
    {
     "data": {
      "application/vnd.jupyter.widget-view+json": {
       "model_id": "5a7b26ee998c4291b8b7611c9b2708fd",
       "version_major": 2,
       "version_minor": 0
      },
      "text/plain": [
       "ViewInteractiveWidget(height=960, layout=Layout(height='auto', width='100%'), width=960)"
      ]
     },
     "metadata": {},
     "output_type": "display_data"
    }
   ],
   "source": [
    "#stitch together full HD Map\n",
    "show_nth = 10 #10\n",
    "disp=[]\n",
    "plt2 = Plotter(N = 1, axes = 4, bg = (1, 1, 1), interactive = True)\n",
    "\n",
    "pl1 = '/media/derm/06EF-127D4/Newer College Dataset/new-college-29-01-2020-1cm-resolution-1stSection - mesh.ply'\n",
    "HD_map1 = trimesh.load(pl1).vertices\n",
    "submap1 = HD_map1[::show_nth]\n",
    "print(np.shape(submap1))\n",
    "\n",
    "pl2 = '/media/derm/06EF-127D4/Newer College Dataset/new-college-29-01-2020-1cm-resolution-2ndSection.ply'\n",
    "HD_map2 = trimesh.load(pl2).vertices\n",
    "submap2 = HD_map2[::show_nth]\n",
    "print(np.shape(submap2))\n",
    "\n",
    "pl3 = '/media/derm/06EF-127D4/Newer College Dataset/new-college-29-01-2020-1cm-resolution-3rdSection.ply'\n",
    "HD_map3 = trimesh.load(pl3).vertices\n",
    "submap3 = HD_map3[::show_nth]\n",
    "print(np.shape(submap3))\n",
    "\n",
    "pl4 = '/media/derm/06EF-127D4/Newer College Dataset/new-college-29-01-2020-1cm-resolution-4thSection.ply'\n",
    "HD_map4 = trimesh.load(pl4).vertices\n",
    "submap4 = HD_map4[::show_nth]\n",
    "print(np.shape(submap4))\n",
    "\n",
    "pl5 = '/media/derm/06EF-127D4/Newer College Dataset/new-college-29-01-2020-1cm-resolution-5thSection.ply'\n",
    "HD_map5 = trimesh.load(pl5).vertices\n",
    "submap5 = HD_map5[::show_nth]\n",
    "print(np.shape(submap5))\n",
    "\n",
    "# disp.append(Points(submap1, c = \"red\", r = 2, alpha = 0.1)) \n",
    "# disp.append(Points(submap2, c = \"orange\", r = 2, alpha = 0.1)) \n",
    "# disp.append(Points(submap3, c = \"yellow\", r = 2, alpha = 0.1)) \n",
    "# disp.append(Points(submap4, c = \"green\", r = 2, alpha = 0.1)) \n",
    "# disp.append(Points(submap5, c = \"blue\", r = 2, alpha = 0.1)) \n",
    "disp.append(Points(submap1, c = \"grey\", r = 2, alpha = 0.1)) \n",
    "disp.append(Points(submap2, c = \"grey\", r = 2, alpha = 0.1)) \n",
    "disp.append(Points(submap3, c = \"grey\", r = 2, alpha = 0.1)) \n",
    "disp.append(Points(submap4, c = \"grey\", r = 2, alpha = 0.1)) \n",
    "disp.append(Points(submap5, c = \"grey\", r = 2, alpha = 0.1)) \n",
    "\n",
    "plt2.show(disp, \"Full HD Map\")\n",
    "ViewInteractiveWidget(plt2.window)"
   ]
  },
  {
   "cell_type": "code",
   "execution_count": 200,
   "id": "b7d0a22f",
   "metadata": {},
   "outputs": [
    {
     "data": {
      "application/vnd.jupyter.widget-view+json": {
       "model_id": "a6b35cd3a4f64f138a55fcff679c9f67",
       "version_major": 2,
       "version_minor": 0
      },
      "text/plain": [
       "ViewInteractiveWidget(height=960, layout=Layout(height='auto', width='100%'), width=960)"
      ]
     },
     "metadata": {},
     "output_type": "display_data"
    }
   ],
   "source": [
    "#load ground truth\n",
    "# [sec,nsec,x,y,z,qx,qy,qz,qw]\n",
    "fn_gt = \"/media/derm/06EF-127D4/Newer College Dataset/01_Short_Experiment/registered_poses.csv\"\n",
    "gt = np.loadtxt(fn_gt, delimiter=',',skiprows = 1)\n",
    "seconds = gt[:, 0]\n",
    "nano_seconds = gt[:, 1]\n",
    "xyz = gt[:, 2:5]\n",
    "qxyzw = gt[:, 5:]\n",
    "num_poses = qxyzw.shape[0]\n",
    "poses = np.eye(4, dtype=np.float64).reshape(1, 4, 4).repeat(num_poses, axis=0)\n",
    "poses[:, :3, :3] = R.from_quat(qxyzw).as_matrix()\n",
    "poses[:, :3, 3] = xyz\n",
    "T_CL = np.eye(4, dtype=np.float32)\n",
    "T_CL[:3, :3] = R.from_quat([0.0, 0.0, 0.924, 0.383]).as_matrix() #was this --1134.97 deg\n",
    "T_CL[:3, 3] = np.array([-0.084, -0.025, 0.050], dtype=np.float32) #was this\n",
    "poses = np.einsum(\"nij,jk->nik\", poses, T_CL)\n",
    "initial_pose = np.linalg.inv(poses[0]) \n",
    "poses_timestamps = seconds * 10e9 + nano_seconds\n",
    "poses = np.einsum(\"ij,njk->nik\", np.linalg.inv(poses[0]), poses)\n",
    "\n",
    "\n",
    "#draw GT trajectory\n",
    "start_idx = 0\n",
    "gt_lidarframe = gt[:,2:5]\n",
    "gt_lidarframe = (poses[start_idx] @ np.append(gt_lidarframe, np.ones([len(gt_lidarframe),1]), axis = 1).T).T\n",
    "# gt_lidarframe[:,:3] -= gt_lidarframe[start_idx,:3]\n",
    "#rotate 180 deg about vertical axis to align with LOAM results\n",
    "# gt_lidarframe[:,:3] = gt_lidarframe[:,:3] @ R.from_euler('xyz', [np.deg2rad(0), np.deg2rad(10.25), np.deg2rad(75.5)]).as_matrix() #test\n",
    "gt_points = Line(gt_lidarframe[:,:3], c = \"red\", lw = 4, alpha = 1).legend(\"Actual Motion of Platform\")\n",
    "disp.append(gt_points)\n",
    "\n",
    "plt3 = Plotter(N = 1, axes = 4, bg = (1, 1, 1), interactive = True)\n",
    "plt3.show(disp, \"Full HD Map\")\n",
    "ViewInteractiveWidget(plt3.window)"
   ]
  },
  {
   "cell_type": "code",
   "execution_count": 205,
   "id": "4d8b9a93",
   "metadata": {},
   "outputs": [
    {
     "name": "stdout",
     "output_type": "stream",
     "text": [
      "(8488531, 3)\n",
      "[ 583248   78179 3553962 ... 2644767 1477197 1612664]\n",
      "(1000000, 3)\n",
      "(954703, 3)\n"
     ]
    },
    {
     "data": {
      "application/vnd.jupyter.widget-view+json": {
       "model_id": "82c86da7731a4c6ea0080ea6fb0a4686",
       "version_major": 2,
       "version_minor": 0
      },
      "text/plain": [
       "ViewInteractiveWidget(height=960, layout=Layout(height='auto', width='100%'), width=960)"
      ]
     },
     "metadata": {},
     "output_type": "display_data"
    }
   ],
   "source": [
    "#put HD Map and new scan in frame of raw keyframe scan\n",
    "idx = 1000 #test\n",
    "skip = 25 #10 #how many lidar frames between keyframe and new scan\n",
    "offset = 0 #no offset here! This makes life sooo much easier!!!\n",
    "fn1 = \"/media/derm/06EF-127D4/Newer College Dataset/01_Short_Experiment/point_clouds/frame_\" + str(idx + offset) + \".npy\"\n",
    "fn2 = \"/media/derm/06EF-127D4/Newer College Dataset/01_Short_Experiment/point_clouds/frame_\" + str(idx + skip + offset) + \".npy\"\n",
    "pc1 = np.load(fn1)\n",
    "pc2 = np.load(fn2)\n",
    "plt = Plotter(N = 1, axes = 1, bg = (1, 1, 1), interactive = True) #axes = 4 (simple), 1(scale)\n",
    "disp=[]\n",
    "\n",
    "submap = np.concatenate((submap1, submap2, submap3, submap4, submap5), axis = 0) #full scene\n",
    "# submap = np.concatenate((submap2, submap3, submap4), axis = 0) #test\n",
    "# submap = submap4 #test\n",
    "print(np.shape(submap))\n",
    "\n",
    "#transform everything to pc1 frame\n",
    "pc2_in_pc1_frame = (np.linalg.pinv(poses[idx]) @ poses[idx+skip] @ np.append(pc2, np.ones([len(pc2),1]), axis=1).T).T\n",
    "pc2_in_pc1_frame = pc2_in_pc1_frame[:,:3] #remove extra axis\n",
    "submap_in_pc1_frame = (np.linalg.pinv(poses[idx]) @ initial_pose @ np.append(submap, np.ones([len(submap),1]), axis =1).T).T\n",
    "submap_in_pc1_frame = submap_in_pc1_frame[:,:3]\n",
    "\n",
    "# debug: try downsampling submap based on how far away each point is from ego platform\n",
    "rads = np.sqrt(np.sum(submap_in_pc1_frame**2, axis = 1))\n",
    "# submap_in_pc1_frame = submap_in_pc1_frame[np.argwhere(rads < 50)[:,0]] # simple distance cutoff (bad)\n",
    "#randomly drop points proportional to their distance from origin ~~~~~~~\n",
    "# rel_rads = rads/max(rads)\n",
    "# randy = np.random.rand(len(rel_rads))\n",
    "# submap_in_pc1_frame = submap_in_pc1_frame[np.where(randy + rel_rads**(1/3) < 1)]\n",
    "# submap_in_pc1_frame = submap_in_pc1_frame[np.where(randy + rel_rads**(1/2) < 0.8)]\n",
    "\n",
    "#test\n",
    "rel_rads = (1-rads/max(rads))**4\n",
    "sampled_rads = np.random.choice(np.linspace(0,len(rads)-1, len(rads)), 1_000_000, replace=False, p=rel_rads/np.sum(rel_rads)).astype(int)\n",
    "print(sampled_rads)\n",
    "submap_in_pc1_frame = submap_in_pc1_frame[sampled_rads,:]\n",
    "print(np.shape(submap_in_pc1_frame))\n",
    "#~~~~~~~~~~~~~~~~~~~~~~~~~~~~~~~~~~~~~~~~~~~~~~~~~~~~~~~~~~~~~~~~~~~~~~~\n",
    "\n",
    "#remove points from HD Map far outside FOV of sensor\n",
    "phis = LC.c2s(LC, submap_in_pc1_frame)[:,2]\n",
    "not_too_low = np.argwhere(phis > 3*np.pi/8)[:,0]\n",
    "# print(np.shape(not_too_low))\n",
    "not_too_high = np.argwhere(phis < 5*np.pi/8)[:,0]\n",
    "# print(len(not_too_high))\n",
    "good_phis = np.intersect1d(not_too_high, not_too_low)\n",
    "# print(len(good_phis))\n",
    "submap_in_pc1_frame = submap_in_pc1_frame[good_phis,:]\n",
    "\n",
    "# DRAW SUBMAP and SCANS 1, 2\n",
    "print(np.shape(submap_in_pc1_frame))\n",
    "disp.append(Points(submap_in_pc1_frame, c = \"black\", r = 2, alpha = 0.2)) ##CB2314\n",
    "# disp.append(Points(pc1, c = '#a65852', r = 3)) #red\n",
    "# disp.append(Points(pc2_in_pc1_frame, c = '#2c7c94', r = 3)) #blue\n",
    "\n",
    "plt.show(disp, \"05 Quad With Dynamics Frame #\" + str(idx))\n",
    "ViewInteractiveWidget(plt.window)"
   ]
  },
  {
   "cell_type": "markdown",
   "id": "f6bfbbbf",
   "metadata": {},
   "source": [
    "# Run VICET on single frame"
   ]
  },
  {
   "cell_type": "code",
   "execution_count": 209,
   "id": "d8abb075",
   "metadata": {
    "scrolled": true
   },
   "outputs": [
    {
     "name": "stdout",
     "output_type": "stream",
     "text": [
      "A0:\n",
      " [0. 0. 0. 0. 0. 0. 0. 0. 0. 0. 0. 0.]\n",
      "~~~~~~~~~~~Iteration  0 ~~~~~~~~~~\n",
      "A: \n",
      " [ 0.015   0.0414 -0.0316 -0.0022 -0.0037  0.0058] \n",
      " [-0.0112  0.0179  0.0751  0.002   0.0051  0.0008]\n",
      "~~~~~~~~~~~Iteration  1 ~~~~~~~~~~\n",
      "A: \n",
      " [ 0.0265  0.0703 -0.0555 -0.0043 -0.0066  0.011 ] \n",
      " [-0.0147  0.0309  0.1313  0.0041  0.009   0.0001]\n",
      "~~~~~~~~~~~Iteration  2 ~~~~~~~~~~\n",
      "A: \n",
      " [ 0.0367  0.0942 -0.0748 -0.0061 -0.0092  0.0155] \n",
      " [-0.0174  0.041   0.1755  0.0057  0.0123 -0.0011]\n",
      "~~~~~~~~~~~Iteration  3 ~~~~~~~~~~\n",
      "A: \n",
      " [ 0.045   0.1099 -0.089  -0.0077 -0.0111  0.0193] \n",
      " [-0.0182  0.0482  0.2063  0.0069  0.0146 -0.0027]\n",
      "~~~~~~~~~~~Iteration  4 ~~~~~~~~~~\n",
      "A: \n",
      " [ 0.053   0.1215 -0.1027 -0.0089 -0.0131  0.0226] \n",
      " [-0.0187  0.0538  0.2351  0.0079  0.0173 -0.0045]\n",
      "~~~~~~~~~~~Iteration  5 ~~~~~~~~~~\n",
      "A: \n",
      " [ 0.0598  0.1304 -0.1128 -0.0101 -0.0147  0.0254] \n",
      " [-0.0209  0.0581  0.2553  0.0089  0.0194 -0.0063]\n",
      "~~~~~~~~~~~Iteration  6 ~~~~~~~~~~\n",
      "A: \n",
      " [ 0.066   0.1358 -0.1171 -0.0115 -0.0157  0.0279] \n",
      " [-0.0197  0.0607  0.264   0.01    0.0205 -0.0083]\n",
      "~~~~~~~~~~~Iteration  7 ~~~~~~~~~~\n",
      "A: \n",
      " [ 0.0714  0.1409 -0.1192 -0.0126 -0.0165  0.03  ] \n",
      " [-0.0201  0.0632  0.2672  0.0105  0.0211 -0.0098]\n",
      "~~~~~~~~~~~Iteration  8 ~~~~~~~~~~\n",
      "A: \n",
      " [ 0.0749  0.1432 -0.1178 -0.0139 -0.0169  0.0318] \n",
      " [-0.0173  0.0642  0.2643  0.0113  0.0209 -0.0115]\n",
      "~~~~~~~~~~~Iteration  9 ~~~~~~~~~~\n",
      "A: \n",
      " [ 0.0794  0.1449 -0.115  -0.015  -0.017   0.0333] \n",
      " [-0.0175  0.065   0.2575  0.0116  0.0203 -0.013 ]\n",
      "~~~~~~~~~~~Iteration  10 ~~~~~~~~~~\n",
      "A: \n",
      " [ 0.0822  0.1462 -0.1104 -0.0161 -0.0169  0.0346] \n",
      " [-0.0152  0.0655  0.2478  0.0121  0.0194 -0.0144]\n",
      "~~~~~~~~~~~Iteration  11 ~~~~~~~~~~\n",
      "A: \n",
      " [ 0.0848  0.148  -0.1045 -0.017  -0.0166  0.0359] \n",
      " [-0.0124  0.0662  0.2353  0.0123  0.0182 -0.0157]\n",
      "~~~~~~~~~~~Iteration  12 ~~~~~~~~~~\n",
      "A: \n",
      " [ 0.0874  0.1491 -0.0973 -0.018  -0.016   0.037 ] \n",
      " [-0.0117  0.0665  0.2198  0.0124  0.0166 -0.0169]\n",
      "~~~~~~~~~~~Iteration  13 ~~~~~~~~~~\n",
      "A: \n",
      " [ 0.0892  0.1498 -0.0918 -0.0188 -0.0157  0.0379] \n",
      " [-0.0093  0.0667  0.2086  0.0126  0.0155 -0.0181]\n",
      "~~~~~~~~~~~Iteration  14 ~~~~~~~~~~\n",
      "A: \n",
      " [ 0.0907  0.15   -0.0853 -0.0196 -0.0152  0.0387] \n",
      " [-0.0077  0.0666  0.1955  0.0127  0.0142 -0.019 ]\n",
      "~~~~~~~~~~~Iteration  15 ~~~~~~~~~~\n",
      "A: \n",
      " [ 0.0928  0.149  -0.079  -0.0204 -0.0146  0.0394] \n",
      " [-0.0074  0.066   0.1826  0.0128  0.0129 -0.0197]\n",
      "~~~~~~~~~~~Iteration  16 ~~~~~~~~~~\n",
      "A: \n",
      " [ 0.0947  0.1479 -0.0728 -0.0211 -0.0142  0.0401] \n",
      " [-0.007   0.0653  0.1704  0.013   0.0117 -0.0204]\n",
      "~~~~~~~~~~~Iteration  17 ~~~~~~~~~~\n",
      "A: \n",
      " [ 0.0959  0.1474 -0.067  -0.0217 -0.0137  0.0407] \n",
      " [-0.0046  0.0649  0.1588  0.0131  0.0106 -0.0212]\n",
      "~~~~~~~~~~~Iteration  18 ~~~~~~~~~~\n",
      "A: \n",
      " [ 0.0965  0.1462 -0.0614 -0.0223 -0.0132  0.0412] \n",
      " [-0.0015  0.0642  0.1476  0.0131  0.0095 -0.022 ]\n",
      "~~~~~~~~~~~Iteration  19 ~~~~~~~~~~\n",
      "A: \n",
      " [ 0.0972  0.1456 -0.0557 -0.0228 -0.0126  0.0416] \n",
      " [-0.0009  0.0639  0.1361  0.013   0.0083 -0.0225]\n",
      "~~~~~~~~~~~Iteration  20 ~~~~~~~~~~\n",
      "A: \n",
      " [ 0.0974  0.145  -0.0506 -0.0232 -0.0121  0.042 ] \n",
      " [ 0.0006  0.0635  0.1255  0.013   0.0073 -0.0229]\n",
      "~~~~~~~~~~~Iteration  21 ~~~~~~~~~~\n",
      "A: \n",
      " [ 0.0975  0.1446 -0.0447 -0.0236 -0.0114  0.0424] \n",
      " [ 0.0027  0.0632  0.1129  0.0126  0.0061 -0.0234]\n",
      "~~~~~~~~~~~Iteration  22 ~~~~~~~~~~\n",
      "A: \n",
      " [ 0.0988  0.1445 -0.0398 -0.0239 -0.0109  0.0427] \n",
      " [ 0.0032  0.0631  0.1029  0.0124  0.0052 -0.0238]\n",
      "~~~~~~~~~~~Iteration  23 ~~~~~~~~~~\n",
      "A: \n",
      " [ 0.0987  0.1445 -0.0355 -0.0243 -0.0105  0.0431] \n",
      " [ 0.0053  0.063   0.0941  0.0123  0.0043 -0.0243]\n",
      "~~~~~~~~~~~Iteration  24 ~~~~~~~~~~\n",
      "A: \n",
      " [ 0.099   0.144  -0.0314 -0.0245 -0.01    0.0433] \n",
      " [ 0.0058  0.0627  0.0858  0.0121  0.0034 -0.0246]\n",
      "~~~~~~~~~~~Iteration  25 ~~~~~~~~~~\n",
      "A: \n",
      " [ 0.1001  0.1428 -0.0277 -0.0247 -0.0096  0.0435] \n",
      " [ 0.0051  0.062   0.0778  0.0118  0.0027 -0.0248]\n",
      "~~~~~~~~~~~Iteration  26 ~~~~~~~~~~\n",
      "A: \n",
      " [ 0.1006  0.1425 -0.0253 -0.0249 -0.0093  0.0438] \n",
      " [ 0.0061  0.0619  0.0733  0.0117  0.0023 -0.0253]\n",
      "~~~~~~~~~~~Iteration  27 ~~~~~~~~~~\n",
      "A: \n",
      " [ 0.1022  0.1429 -0.0227 -0.025  -0.009   0.044 ] \n",
      " [ 0.0046  0.062   0.0678  0.0115  0.0018 -0.0255]\n",
      "~~~~~~~~~~~Iteration  28 ~~~~~~~~~~\n",
      "A: \n",
      " [ 0.1017  0.1424 -0.0199 -0.0252 -0.0087  0.0442] \n",
      " [ 0.0061  0.0618  0.062   0.0113  0.0012 -0.0258]\n",
      "~~~~~~~~~~~Iteration  29 ~~~~~~~~~~\n",
      "A: \n",
      " [ 0.1024  0.142  -0.0178 -0.0253 -0.0084  0.0443] \n",
      " [ 0.0058  0.0616  0.058   0.0112  0.0008 -0.026 ]\n"
     ]
    },
    {
     "data": {
      "application/vnd.jupyter.widget-view+json": {
       "model_id": "98554398befb4824ae50d082b9e30c17",
       "version_major": 2,
       "version_minor": 0
      },
      "text/plain": [
       "ViewInteractiveWidget(height=1376, layout=Layout(height='auto', width='100%'), width=2488)"
      ]
     },
     "metadata": {},
     "output_type": "display_data"
    }
   ],
   "source": [
    "from linear_corrector import LC\n",
    "\n",
    "A0 = np.array([0., 0., 0, 0, 0, 0,\n",
    "               0, 0, 0, 0, 0, 0])\n",
    "max_buffer = 0.5 \n",
    "\n",
    "dc = LC(cloud1 = submap_in_pc1_frame, cloud2 = pc1, fid = 60, niter = 30, \n",
    "        draw = True, mnp = 50, RM = False, solver = '12_state', \n",
    "        max_buffer = max_buffer, A0 = A0)\n",
    "# dc = LC(cloud1 = pc1, cloud2 = pc2_in_pc1_frame, fid = 60, niter = 50, \n",
    "#         draw = True, mnp = 50, RM = False, solver = '12_state', \n",
    "#         max_buffer = max_buffer, A0 = A0)\n",
    "\n",
    "ViewInteractiveWidget(dc.plt.window)"
   ]
  },
  {
   "cell_type": "code",
   "execution_count": null,
   "id": "71428204",
   "metadata": {},
   "outputs": [],
   "source": [
    "#plot velocity of platform...\n",
    "from matplotlib import pyplot as p\n",
    "\n",
    "print(gt_lidarframe)\n",
    "\n",
    "fig, ax = p.subplots()\n",
    "# ax.plot(np.diff(poses[:,1,-1]))\n",
    "ax.plot(gt_lidarframe[:,0])\n"
   ]
  },
  {
   "cell_type": "code",
   "execution_count": 5,
   "id": "84dc89d5",
   "metadata": {},
   "outputs": [
    {
     "data": {
      "application/vnd.jupyter.widget-view+json": {
       "model_id": "69555d7262e3496d862df4f3944487b2",
       "version_major": 2,
       "version_minor": 0
      },
      "text/plain": [
       "ViewInteractiveWidget(height=960, layout=Layout(height='auto', width='100%'), width=960)"
      ]
     },
     "metadata": {},
     "output_type": "display_data"
    }
   ],
   "source": [
    "#plot just trajectory --> let's find a good test trajectory\n",
    "disp =[]\n",
    "test_traj = gt[:3000,2:5]\n",
    "# test_traj_points = Line(test_traj, c = \"red\", lw = 4, alpha = 1).legend(\"Actual Motion of Platform\")\n",
    "test_traj_points = Points(test_traj, c = \"red\", alpha = 1).legend(\"Actual Motion of Platform\")\n",
    "disp.append(test_traj_points)\n",
    "\n",
    "plt4 = Plotter(N = 1, axes = 1, bg = (1, 1, 1), interactive = True)\n",
    "plt4.show(disp, \"test trajectory\")\n",
    "ViewInteractiveWidget(plt4.window)"
   ]
  },
  {
   "cell_type": "code",
   "execution_count": null,
   "id": "3d9b9053",
   "metadata": {},
   "outputs": [],
   "source": []
  }
 ],
 "metadata": {
  "kernelspec": {
   "display_name": "Python 3 (ipykernel)",
   "language": "python",
   "name": "python3"
  },
  "language_info": {
   "codemirror_mode": {
    "name": "ipython",
    "version": 3
   },
   "file_extension": ".py",
   "mimetype": "text/x-python",
   "name": "python",
   "nbconvert_exporter": "python",
   "pygments_lexer": "ipython3",
   "version": "3.9.13"
  }
 },
 "nbformat": 4,
 "nbformat_minor": 5
}
