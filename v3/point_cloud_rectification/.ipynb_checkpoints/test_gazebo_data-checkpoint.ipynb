{
 "cells": [
  {
   "cell_type": "markdown",
   "id": "33d91be6",
   "metadata": {},
   "source": [
    "# Compare accuracy of ICET with different distortion rectification methods  "
   ]
  },
  {
   "cell_type": "code",
   "execution_count": 1,
   "id": "5f01b16e",
   "metadata": {},
   "outputs": [
    {
     "name": "stderr",
     "output_type": "stream",
     "text": [
      "2023-04-06 14:18:51.741762: I tensorflow/core/platform/cpu_feature_guard.cc:193] This TensorFlow binary is optimized with oneAPI Deep Neural Network Library (oneDNN) to use the following CPU instructions in performance-critical operations:  AVX2 FMA\n",
      "To enable them in other operations, rebuild TensorFlow with the appropriate compiler flags.\n",
      "2023-04-06 14:18:51.843481: E tensorflow/stream_executor/cuda/cuda_blas.cc:2981] Unable to register cuBLAS factory: Attempting to register factory for plugin cuBLAS when one has already been registered\n",
      "2023-04-06 14:18:52.262435: W tensorflow/stream_executor/platform/default/dso_loader.cc:64] Could not load dynamic library 'libnvinfer.so.7'; dlerror: libnvinfer.so.7: cannot open shared object file: No such file or directory; LD_LIBRARY_PATH: /home/derm/anaconda3/envs/py39/lib/python3.9/site-packages/cv2/../../lib64:\n",
      "2023-04-06 14:18:52.262490: W tensorflow/stream_executor/platform/default/dso_loader.cc:64] Could not load dynamic library 'libnvinfer_plugin.so.7'; dlerror: libnvinfer_plugin.so.7: cannot open shared object file: No such file or directory; LD_LIBRARY_PATH: /home/derm/anaconda3/envs/py39/lib/python3.9/site-packages/cv2/../../lib64:\n",
      "2023-04-06 14:18:52.262495: W tensorflow/compiler/tf2tensorrt/utils/py_utils.cc:38] TF-TRT Warning: Cannot dlopen some TensorRT libraries. If you would like to use Nvidia GPU with TensorRT, please make sure the missing libraries mentioned above are installed properly.\n",
      "2023-04-06 14:18:52.746223: I tensorflow/stream_executor/cuda/cuda_gpu_executor.cc:980] successful NUMA node read from SysFS had negative value (-1), but there must be at least one NUMA node, so returning NUMA node zero\n",
      "2023-04-06 14:18:52.771289: I tensorflow/stream_executor/cuda/cuda_gpu_executor.cc:980] successful NUMA node read from SysFS had negative value (-1), but there must be at least one NUMA node, so returning NUMA node zero\n",
      "2023-04-06 14:18:52.771453: I tensorflow/stream_executor/cuda/cuda_gpu_executor.cc:980] successful NUMA node read from SysFS had negative value (-1), but there must be at least one NUMA node, so returning NUMA node zero\n"
     ]
    },
    {
     "name": "stdout",
     "output_type": "stream",
     "text": [
      "[PhysicalDevice(name='/physical_device:GPU:0', device_type='GPU')]\n"
     ]
    },
    {
     "name": "stderr",
     "output_type": "stream",
     "text": [
      "2023-04-06 14:18:52.890561: I tensorflow/core/platform/cpu_feature_guard.cc:193] This TensorFlow binary is optimized with oneAPI Deep Neural Network Library (oneDNN) to use the following CPU instructions in performance-critical operations:  AVX2 FMA\n",
      "To enable them in other operations, rebuild TensorFlow with the appropriate compiler flags.\n",
      "2023-04-06 14:18:52.891336: I tensorflow/stream_executor/cuda/cuda_gpu_executor.cc:980] successful NUMA node read from SysFS had negative value (-1), but there must be at least one NUMA node, so returning NUMA node zero\n",
      "2023-04-06 14:18:52.891510: I tensorflow/stream_executor/cuda/cuda_gpu_executor.cc:980] successful NUMA node read from SysFS had negative value (-1), but there must be at least one NUMA node, so returning NUMA node zero\n",
      "2023-04-06 14:18:52.891636: I tensorflow/stream_executor/cuda/cuda_gpu_executor.cc:980] successful NUMA node read from SysFS had negative value (-1), but there must be at least one NUMA node, so returning NUMA node zero\n",
      "2023-04-06 14:18:53.264030: I tensorflow/stream_executor/cuda/cuda_gpu_executor.cc:980] successful NUMA node read from SysFS had negative value (-1), but there must be at least one NUMA node, so returning NUMA node zero\n",
      "2023-04-06 14:18:53.264206: I tensorflow/stream_executor/cuda/cuda_gpu_executor.cc:980] successful NUMA node read from SysFS had negative value (-1), but there must be at least one NUMA node, so returning NUMA node zero\n",
      "2023-04-06 14:18:53.264335: I tensorflow/stream_executor/cuda/cuda_gpu_executor.cc:980] successful NUMA node read from SysFS had negative value (-1), but there must be at least one NUMA node, so returning NUMA node zero\n",
      "2023-04-06 14:18:53.264431: I tensorflow/core/common_runtime/gpu/gpu_device.cc:1616] Created device /job:localhost/replica:0/task:0/device:GPU:0 with 4096 MB memory:  -> device: 0, name: NVIDIA GeForce RTX 3090, pci bus id: 0000:07:00.0, compute capability: 8.6\n"
     ]
    },
    {
     "name": "stdout",
     "output_type": "stream",
     "text": [
      "Jupyter environment detected. Enabling Open3D WebVisualizer.\n",
      "[Open3D INFO] WebRTC GUI backend enabled.\n",
      "[Open3D INFO] WebRTCWindowSystem: HTTP handshake server disabled.\n"
     ]
    },
    {
     "data": {
      "application/javascript": [
       "IPython.notebook.set_autosave_interval(180000)"
      ]
     },
     "metadata": {},
     "output_type": "display_data"
    },
    {
     "name": "stdout",
     "output_type": "stream",
     "text": [
      "Autosaving every 180 seconds\n"
     ]
    }
   ],
   "source": [
    "from vedo import *\n",
    "import os\n",
    "from ipyvtklink.viewer import ViewInteractiveWidget\n",
    "import pykitti\n",
    "import numpy as np\n",
    "import tensorflow as tf\n",
    "import time\n",
    "import pickle\n",
    "\n",
    "#limit GPU memory ------------------------------------------------\n",
    "gpus = tf.config.experimental.list_physical_devices('GPU')\n",
    "print(gpus)\n",
    "if gpus:\n",
    "  try:\n",
    "    memlim = 4*1024\n",
    "    tf.config.experimental.set_virtual_device_configuration(gpus[0], [tf.config.experimental.VirtualDeviceConfiguration(memory_limit=memlim)])\n",
    "  except RuntimeError as e:\n",
    "    print(e)\n",
    "#-----------------------------------------------------------------\n",
    "\n",
    "from tensorflow.math import sin, cos, tan\n",
    "import tensorflow_probability as tfp\n",
    "import sys\n",
    "current = os.getcwd()\n",
    "parent_directory = os.path.dirname(current)\n",
    "sys.path.append(parent_directory)\n",
    "from ICET_spherical import ICET\n",
    "from utils import R_tf\n",
    "from metpy.calc import lat_lon_grid_deltas\n",
    "from pioneer.das.api.platform import Platform\n",
    "from scipy.spatial.transform import Rotation as R\n",
    "from pioneer.das.api.egomotion.imu_egomotion_provider import IMUEgomotionProvider as emp \n",
    "from matplotlib import pyplot as plt\n",
    "\n",
    "%load_ext autoreload\n",
    "%autoreload 2\n",
    "%autosave 180\n",
    "%matplotlib notebook"
   ]
  },
  {
   "cell_type": "markdown",
   "id": "7189178e",
   "metadata": {},
   "source": [
    "# Motion distortion in simple box scene"
   ]
  },
  {
   "cell_type": "code",
   "execution_count": 42,
   "id": "c00b17d0",
   "metadata": {},
   "outputs": [
    {
     "name": "stdout",
     "output_type": "stream",
     "text": [
      "\n",
      " estimated solution vector X: \n",
      " tf.Tensor(\n",
      "[-2.7449417e-01  6.9197793e-03 -7.5813419e-05 -2.4621406e-05\n",
      " -7.9114950e-05  6.8587149e-03], shape=(6,), dtype=float32)\n",
      "\n",
      " predicted standard deviations of error: \n",
      " tf.Tensor(\n",
      "[4.7997743e-04 2.5466617e-04 4.0330411e-05 9.4665475e-06 9.6382964e-06\n",
      " 4.4176802e-05], shape=(6,), dtype=float32)\n"
     ]
    },
    {
     "data": {
      "application/vnd.jupyter.widget-view+json": {
       "model_id": "35c6932dd69c481a83c0a91a5cf54afe",
       "version_major": 2,
       "version_minor": 0
      },
      "text/plain": [
       "ViewInteractiveWidget(height=1043, layout=Layout(height='auto', width='100%'), width=1280)"
      ]
     },
     "metadata": {},
     "output_type": "display_data"
    }
   ],
   "source": [
    "#case2: forward linear motion \n",
    "# scan1 = np.load(\"sample_data/paper_figures/case2/raw_frame_2.npy\") #static\n",
    "scan1 = np.load(\"sample_data/paper_figures/case2/raw_frame_3.npy\")\n",
    "scan2 = np.load(\"sample_data/paper_figures/case2/rectified_linear_frame_3.npy\")\n",
    "#erase the extra points in 2nd scan that didn't get properly rectified\n",
    "scan2 = scan2[:-150,:]\n",
    "\n",
    "#remove ground plance from both scans\n",
    "# scan1 = scan1[scan1[:,2] > -1.2]\n",
    "# scan2 = scan2[scan2[:,2] > -1.2]\n",
    "\n",
    "it = ICET(cloud1 = scan1, cloud2 = scan2, fid = 50, niter = 10, \n",
    "           draw = True, group = 2, RM = False, DNN_filter = False)#, x0 = initial_guess)\n",
    "print(\"\\n predicted standard deviations of error: \\n\", it.pred_stds)\n",
    "ViewInteractiveWidget(it.plt.window)\n"
   ]
  },
  {
   "cell_type": "markdown",
   "id": "defca01e",
   "metadata": {},
   "source": [
    "# Linear motion through simulated urban area"
   ]
  },
  {
   "cell_type": "code",
   "execution_count": null,
   "id": "3feb6c80",
   "metadata": {},
   "outputs": [],
   "source": [
    "### 10 mph -- test1\n",
    "scan1 = np.load(\"sample_data/test1/rectified_linear_frame_4.npy\")\n",
    "scan2 = np.load(\"sample_data/test1/rectified_linear_frame_5.npy\")\n",
    "\n",
    "# # simple linear motion -- test2\n",
    "# scan1 = np.load(\"sample_data/test2/rectified_linear_frame_2.npy\")\n",
    "# scan2 = np.load(\"sample_data/test2/rectified_linear_frame_3.npy\")\n",
    "# initial_guess = tf.constant([1.25, 0, 0, 0, 0, 0])\n",
    "\n",
    "it = ICET(cloud1 = scan1, cloud2 = scan2, fid = 110, niter = 10, \n",
    "           draw = True, group = 2, RM = False, DNN_filter = False)#, x0 = initial_guess)\n",
    "print(\"\\n predicted standard deviations of error: \\n\", it.pred_stds)\n",
    "ViewInteractiveWidget(it.plt.window)\n"
   ]
  },
  {
   "cell_type": "code",
   "execution_count": null,
   "id": "ebfaaac5",
   "metadata": {},
   "outputs": [],
   "source": [
    "#load ground truth data\n",
    "gt = np.load(\"sample_data/test1/base_vel_7.npy\")\n",
    "print(len(gt))"
   ]
  },
  {
   "cell_type": "code",
   "execution_count": null,
   "id": "95db5e3e",
   "metadata": {},
   "outputs": [],
   "source": []
  }
 ],
 "metadata": {
  "kernelspec": {
   "display_name": "Python 3 (ipykernel)",
   "language": "python",
   "name": "python3"
  },
  "language_info": {
   "codemirror_mode": {
    "name": "ipython",
    "version": 3
   },
   "file_extension": ".py",
   "mimetype": "text/x-python",
   "name": "python",
   "nbconvert_exporter": "python",
   "pygments_lexer": "ipython3",
   "version": "3.9.13"
  }
 },
 "nbformat": 4,
 "nbformat_minor": 5
}
