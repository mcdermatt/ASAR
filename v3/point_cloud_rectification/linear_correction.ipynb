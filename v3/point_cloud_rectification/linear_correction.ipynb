{
 "cells": [
  {
   "cell_type": "code",
   "execution_count": 3,
   "id": "89042def",
   "metadata": {},
   "outputs": [
    {
     "name": "stdout",
     "output_type": "stream",
     "text": [
      "[PhysicalDevice(name='/physical_device:GPU:0', device_type='GPU')]\n",
      "The autoreload extension is already loaded. To reload it, use:\n",
      "  %reload_ext autoreload\n"
     ]
    },
    {
     "data": {
      "application/javascript": [
       "IPython.notebook.set_autosave_interval(180000)"
      ]
     },
     "metadata": {},
     "output_type": "display_data"
    },
    {
     "name": "stdout",
     "output_type": "stream",
     "text": [
      "Autosaving every 180 seconds\n"
     ]
    }
   ],
   "source": [
    "from vedo import *\n",
    "import os\n",
    "from ipyvtklink.viewer import ViewInteractiveWidget\n",
    "import pykitti\n",
    "import numpy as np\n",
    "import tensorflow as tf\n",
    "import time\n",
    "import pickle\n",
    "\n",
    "#limit GPU memory ------------------------------------------------\n",
    "gpus = tf.config.experimental.list_physical_devices('GPU')\n",
    "print(gpus)\n",
    "if gpus:\n",
    "  try:\n",
    "    memlim = 4*1024\n",
    "    tf.config.experimental.set_virtual_device_configuration(gpus[0], [tf.config.experimental.VirtualDeviceConfiguration(memory_limit=memlim)])\n",
    "  except RuntimeError as e:\n",
    "    print(e)\n",
    "#-----------------------------------------------------------------\n",
    "\n",
    "from tensorflow.math import sin, cos, tan\n",
    "import tensorflow_probability as tfp\n",
    "import sys\n",
    "current = os.getcwd()\n",
    "parent_directory = os.path.dirname(current)\n",
    "sys.path.append(parent_directory)\n",
    "from ICET_spherical import ICET\n",
    "from utils import R_tf\n",
    "from metpy.calc import lat_lon_grid_deltas\n",
    "from pioneer.das.api.platform import Platform\n",
    "from scipy.spatial.transform import Rotation as R\n",
    "from pioneer.das.api.egomotion.imu_egomotion_provider import IMUEgomotionProvider as emp \n",
    "from matplotlib import pyplot as plt\n",
    "\n",
    "%load_ext autoreload\n",
    "%autoreload 2\n",
    "%autosave 180\n",
    "%matplotlib notebook"
   ]
  },
  {
   "cell_type": "markdown",
   "id": "68afb097",
   "metadata": {},
   "source": [
    "# Goal: Estimate acceleration profile $\\hat{m}$ Using Newton-Raphson to compensate for distortion between similar point cloud"
   ]
  },
  {
   "cell_type": "markdown",
   "id": "e27a2deb",
   "metadata": {},
   "source": [
    "Through the first order Taylor approximation we define: \n",
    "\n",
    "$\\mathbf{h}(\\hat{m})$ as the means of voxel centers in cloud $j$ passed through the distortion operator $\\mathbb{C}$ according to estimated motion profile $\\hat{m}$. \n",
    "\n",
    "$\\mathbf{H}$ is the Jacobian of $\\mathbf{h}$, which is multiplied by a linear correction factor $\\delta m$.\n",
    "\n",
    "$    y_i = \\mathbf{h}(\\hat{m}) + \\mathbf{H} \\delta m $\n"
   ]
  },
  {
   "cell_type": "code",
   "execution_count": 747,
   "id": "a120a44a",
   "metadata": {},
   "outputs": [],
   "source": [
    "#load point cloud\n",
    "# no distortion\n",
    "# old_cloud =  np.load(\"sample_data/paper_figures/case1/raw_frame_0.npy\")\n",
    "# m_hat = np.array([-3., -2., 0., 0., 0., 0.0])\n",
    "\n",
    "# movement in x\n",
    "old_cloud =  np.load(\"sample_data/paper_figures/case2/raw_frame_3.npy\") \n",
    "m_hat = np.array([3, 0, 0., 0., 0., 0])\n",
    "gt =  np.load(\"sample_data/paper_figures/case2/base_vel_2.npy\")\n",
    "\n",
    "# # movement in x, y, & yaw\n",
    "# old_cloud =  np.load(\"sample_data/paper_figures/case3/raw_frame_1.npy\") \n",
    "# m_hat = np.array([3, -1, 0., 0., 0., -1])\n",
    "# gt =  np.load(\"sample_data/paper_figures/case3/base_vel_2.npy\")\n",
    "# # print(gt) \n",
    "\n",
    "#downsample\n",
    "old_cloud = old_cloud[::5,:]"
   ]
  },
  {
   "cell_type": "code",
   "execution_count": 748,
   "id": "50cf50be",
   "metadata": {},
   "outputs": [],
   "source": [
    "from remove_motion_basic import linear_correction_old as lc \n",
    "\n",
    "new_cloud = lc(old_cloud, m_hat)\n",
    "# undistorted = lc(new_cloud, -m_hat)"
   ]
  },
  {
   "cell_type": "code",
   "execution_count": 749,
   "id": "d9a01d62",
   "metadata": {},
   "outputs": [
    {
     "data": {
      "application/vnd.jupyter.widget-view+json": {
       "model_id": "cfbb2c201a4745d7bec98a8f73d15140",
       "version_major": 2,
       "version_minor": 0
      },
      "text/plain": [
       "ViewInteractiveWidget(height=1043, layout=Layout(height='auto', width='100%'), width=1280)"
      ]
     },
     "metadata": {},
     "output_type": "display_data"
    }
   ],
   "source": [
    "plt = Plotter(N = 1, axes = 4, bg = (1, 1, 1), interactive = True)\n",
    "disp=[]\n",
    "# disp.append(Points(undistorted, c = \"#CB2314\"))\n",
    "# disp.append(Points(old_cloud, c = \"#CB2314\"))\n",
    "disp.append(Points(new_cloud, c = \"#3F5151\"))\n",
    "plt.show(disp, \"test viz\")\n",
    "ViewInteractiveWidget(plt.window)"
   ]
  },
  {
   "cell_type": "markdown",
   "id": "13c2554d",
   "metadata": {},
   "source": [
    "# Analytically calculating derivatives with SymPy"
   ]
  },
  {
   "cell_type": "code",
   "execution_count": 937,
   "id": "cb1f585f",
   "metadata": {},
   "outputs": [],
   "source": [
    "from sympy import *\n",
    "\n",
    "x, y, z = symbols('x y z')\n",
    "\n",
    "init_printing(use_unicode=True)"
   ]
  },
  {
   "cell_type": "code",
   "execution_count": 264,
   "id": "e37a7643",
   "metadata": {},
   "outputs": [
    {
     "name": "stdout",
     "output_type": "stream",
     "text": [
      "-sin(x)\n",
      "Derivative(cos(x), x)\n"
     ]
    }
   ],
   "source": [
    "#sovles for the derivative\n",
    "ans1 = diff(cos(x), x)\n",
    "print(ans1)\n",
    "\n",
    "#creates an unevaluated derivative\n",
    "ans2 = Derivative(cos(x), x)\n",
    "print(ans2)"
   ]
  },
  {
   "cell_type": "code",
   "execution_count": 265,
   "id": "2aac426d",
   "metadata": {},
   "outputs": [
    {
     "data": {
      "image/png": "[encoded data removed]",
      "text/latex": [
       "$\\displaystyle - \\frac{8 \\sin^{2}{\\left(x \\right)} \\sin{\\left(\\frac{x}{2} + \\frac{1}{2} \\right)}}{15} - 2 \\sin^{2}{\\left(x \\right)} \\cos{\\left(\\frac{x}{2} + \\frac{1}{2} \\right)} - \\frac{4 \\sin{\\left(x \\right)} \\cos{\\left(x \\right)} \\cos{\\left(\\frac{x}{2} + \\frac{1}{2} \\right)}}{15} + \\frac{8 \\sin{\\left(\\frac{x}{2} + \\frac{1}{2} \\right)} \\cos^{2}{\\left(x \\right)}}{15} - 2 \\cos^{2}{\\left(x \\right)} \\cos{\\left(\\frac{x}{2} + \\frac{1}{2} \\right)}$"
      ],
      "text/plain": [
       "       2       ⎛x   1⎞                                             ⎛x   1⎞    \n",
       "  8⋅sin (x)⋅sin⎜─ + ─⎟                          4⋅sin(x)⋅cos(x)⋅cos⎜─ + ─⎟   8\n",
       "               ⎝2   2⎠        2       ⎛x   1⎞                      ⎝2   2⎠    \n",
       "- ──────────────────── - 2⋅sin (x)⋅cos⎜─ + ─⎟ - ────────────────────────── + ─\n",
       "           15                         ⎝2   2⎠               15                \n",
       "\n",
       "    ⎛x   1⎞    2                          \n",
       "⋅sin⎜─ + ─⎟⋅cos (x)                       \n",
       "    ⎝2   2⎠                2       ⎛x   1⎞\n",
       "─────────────────── - 2⋅cos (x)⋅cos⎜─ + ─⎟\n",
       "        15                         ⎝2   2⎠"
      ]
     },
     "execution_count": 265,
     "metadata": {},
     "output_type": "execute_result"
    }
   ],
   "source": [
    "ans3 = integrate(sin((x+1)/2)*(cos(x)-sin(x))**2, x)\n",
    "# print(latex(ans3)) #-> converts to LaTeX so I don't have to re-copy everything \n",
    "\n",
    "integrate(sin((x+1)/2)*(cos(x)-sin(x))**2, x)\n"
   ]
  },
  {
   "cell_type": "code",
   "execution_count": 274,
   "id": "cf003a30",
   "metadata": {},
   "outputs": [
    {
     "data": {
      "text/latex": [
       "$\\displaystyle \\left[\\begin{matrix}\\frac{100 x^{3}}{3} + 6 x & 14 x^{2}\\\\21 x^{2} & \\frac{16 x^{3}}{3} + 6 x\\end{matrix}\\right]$"
      ],
      "text/plain": [
       "⎡     3                   ⎤\n",
       "⎢100⋅x                2   ⎥\n",
       "⎢────── + 6⋅x     14⋅x    ⎥\n",
       "⎢  3                      ⎥\n",
       "⎢                         ⎥\n",
       "⎢                  3      ⎥\n",
       "⎢       2      16⋅x       ⎥\n",
       "⎢   21⋅x       ───── + 6⋅x⎥\n",
       "⎣                3        ⎦"
      ]
     },
     "execution_count": 274,
     "metadata": {},
     "output_type": "execute_result"
    }
   ],
   "source": [
    "a = Matrix([[10*x, 2], \n",
    "            [3, 4*x]])\n",
    "# A = integrate(a**2)\n",
    "# print(latex(A))\n",
    "integrate(a**2)"
   ]
  },
  {
   "cell_type": "code",
   "execution_count": 288,
   "id": "a05cf548",
   "metadata": {},
   "outputs": [
    {
     "data": {
      "text/latex": [
       "$\\displaystyle \\left[\\begin{matrix}0 & 0\\\\6 x & 0\\end{matrix}\\right]$"
      ],
      "text/plain": [
       "⎡ 0   0⎤\n",
       "⎢      ⎥\n",
       "⎣6⋅x  0⎦"
      ]
     },
     "execution_count": 288,
     "metadata": {},
     "output_type": "execute_result"
    }
   ],
   "source": [
    "b = Matrix([[x + 1, 2*y],\n",
    "            [3*x**2*y, 3 + x + y**2]])\n",
    "diff(b, y, x)"
   ]
  },
  {
   "cell_type": "markdown",
   "id": "618b6559",
   "metadata": {},
   "source": [
    "# Derive Jacobain H"
   ]
  },
  {
   "cell_type": "markdown",
   "id": "0a735bbc",
   "metadata": {},
   "source": [
    "### $\\mathbf{H} \\in \\mathbb{R}^{4N \\times 6} $\n",
    "\n",
    "### $\\mathbf{H} = \n",
    "\\begin{bmatrix}\n",
    "^{(n)}H_{x} ~ ^{(n)}H_{y} ~ ^{(n)}H_{z} ~ ^{(n)}H_{\\phi} ~ ^{(n)}H_{\\theta} ~ ^{(n)}H_{\\psi}\n",
    "\\end{bmatrix}$\n",
    "\n",
    "### $ ^{(n)}\\mathbf{H}_x =  \\frac{\\delta{\\mathbb{C}}}{\\delta x} ~ ^{(n)}y_j \\in \\mathbb{R}^{4 \\times 1}$\n",
    "\n",
    "### Here $^{(n)}y_j$ refers to distribution mean from scan j inside voxel n, denoted in homogenous coordinates\n",
    "\n",
    "$[x, y, z] \\rightarrow [x, y, z, 1] $ \n",
    "\n",
    "<!-- <span style=\"color:red\"> TODO: figure out if I need to use homogeneous coordinates for $y_j$ </span> -->"
   ]
  },
  {
   "cell_type": "markdown",
   "id": "17dd0287",
   "metadata": {},
   "source": [
    "# Calculate correction  function $\\mathbb{C}$ "
   ]
  },
  {
   "cell_type": "markdown",
   "id": "f289cf03",
   "metadata": {},
   "source": [
    "## $\\mathbb{C}(\\hat{m}) = T_{\\text{rect}}(M(\\hat{m})) \\in \\mathbb{R}^{4 \\times 4} $\n",
    "\n",
    "Here, the rectifying transformation $T_{\\text{rect}}$ for each point in $y_j$ depends on scaled values of $\\hat{m}$ which are concatenated to form matrix $M$. Since points are stored in the order they are recieved and are somewhat even spread throughout the scene, we can approximate $M$ through a simple linspace matrix without needing to transform to a spherical representation. $t_{\\text{scale}}$ is a scaling parameter to normalize the turn rate of the sensor in the presence of composite yaw rotation.\n",
    "\n",
    "## $\n",
    "M = \\bigg{(} \\{ r: r = t_{\\text{scale}} \\frac{p}{P}, p \\in \\{ 0, 1, ..., P \\} \\} \\bigg{)} \\hat{m}\n",
    "\\in \\mathbb{R}^{P \\times 6}\n",
    "% \\begin{bmatrix}\n",
    "% 1 & 1 & 1 & 1 \n",
    "% \\end{bmatrix}\n",
    "$\n",
    "\n",
    "## $t_{\\text{scale}} = \\frac{2\\pi}{-\\psi + \\omega_{\\text{LIDAR}} } $ \n"
   ]
  },
  {
   "cell_type": "markdown",
   "id": "4411222e",
   "metadata": {},
   "source": [
    "My old way of \"unwinding\" was acomplished by converting the point cloud to spherical coordinates, rescaling the yaw angle, and then converting back to Cartesian \n",
    "\n",
    "<!-- ## $y_{j, \\text{unwound}} =\n",
    "\\text{s2c} \\bigg{(} \\text{c2s}(y_{j})\n",
    "\\begin{bmatrix}\n",
    "    1 & 0 & 0 \\\\\n",
    "    0 & 1 & 0 \\\\\n",
    "    0 & 0 & \\psi_{\\text{rect}}\n",
    "\\end{bmatrix} \\bigg{)}$\n",
    " -->\n",
    "Unfortunately, c2s() is a nonlinear operation so it makes things a little tricky when we need to do everything via linear algebra\n",
    "\n",
    "<!-- ## $ \\text{c2s}(y_j) = \n",
    "\\begin{bmatrix}\n",
    "x_1 & y_1 & z_1 \\\\\n",
    "x_2 & y_2 & z_2 \\\\\n",
    " & \\vdots &\n",
    "\\end{bmatrix}\n",
    "\\rightarrow\n",
    "\\begin{bmatrix}\n",
    "r_1 & \\phi_1 & \\theta_1 \\\\\n",
    "r_2 & \\phi_2 & \\theta_2 \\\\\n",
    "r_3 & \\phi_3 & \\theta_3\n",
    "\\end{bmatrix}\n",
    "$\n",
    " -->\n",
    "<!-- ### GPT:\n",
    "lol it really got this wro\n",
    "\n",
    "$ ^{(n)}y_j = \\begin{bmatrix}\n",
    "x \\\\\n",
    "y \\\\\n",
    "z\n",
    "\\end{bmatrix}\n",
    "$\n",
    "\n",
    "$ B = \\begin{bmatrix}\n",
    "\\text{sin}(\\theta) ~ \\text{cos}(\\phi) & \\text{cos}(\\theta) ~ \\text{cos}(\\phi) & -\\text{sin}(\\phi) \\\\\n",
    "\\text{sin}(\\theta)\\text{sin}(\\phi) & \\text{cos}(\\theta)\\text{sin}(\\phi) & \\text{cos}(\\phi) \\\\\n",
    "\\text{cos}(\\theta) & -\\text{sin}(\\theta) & 0\n",
    "\\end{bmatrix}\n",
    "$\n",
    "\n",
    "$B ~ ^{(n)}y_j = ^{(n)}y_{j, \\text{spherical}} $ -->\n",
    "\n",
    "\n",
    "<!-- Putting everything together:\n",
    "\n",
    " $\n",
    "\\mathbb{C}(y_j, \\hat{m}) =\n",
    "M ~ T_{\\text{rect}} \\bigg{[} \\text{s2c} \\bigg{(} \\text{c2s}(y_{j})\n",
    "\\begin{bmatrix}\n",
    "    1 & 0 & 0 \\\\\n",
    "    0 & 1 & 0 \\\\\n",
    "    0 & 0 & \\psi_{\\text{rect}}\n",
    "\\end{bmatrix} \\bigg{)},\n",
    "\\begin{bmatrix}\n",
    "    1 \\\\\n",
    "    \\vdots \n",
    "\\end{bmatrix}\n",
    "\\bigg{]}^T$\n",
    " -->"
   ]
  },
  {
   "cell_type": "code",
   "execution_count": 656,
   "id": "5b21cec0",
   "metadata": {},
   "outputs": [
    {
     "name": "stdout",
     "output_type": "stream",
     "text": [
      "(6,)\n"
     ]
    }
   ],
   "source": [
    "period_lidar = 1\n",
    "m_hat = np.array([3, 0, 0., 0., 0., -0.5])\n",
    "t_scale = (2*np.pi)/(-m_hat[-1] + (2*np.pi/period_lidar))\n",
    "# print(t_scale)\n",
    "lsvec = np.linspace(0,t_scale, 100)\n",
    "\n",
    "print(np.shape(m_hat))\n",
    "M = m_hat * np.array([lsvec, lsvec, lsvec, lsvec, lsvec, lsvec]).T\n",
    "# print(np.shape(M))\n",
    "# print(M)"
   ]
  },
  {
   "cell_type": "markdown",
   "id": "f2897c19",
   "metadata": {},
   "source": [
    "## Get transform $T_{\\text{rect}}$"
   ]
  },
  {
   "cell_type": "code",
   "execution_count": 938,
   "id": "1679236d",
   "metadata": {},
   "outputs": [
    {
     "name": "stdout",
     "output_type": "stream",
     "text": [
      "m_hat =  [1.  2.  3.  0.4 0.5 0.6]\n",
      "T_rect =\n"
     ]
    },
    {
     "data": {
      "text/latex": [
       "$\\displaystyle \\left[\\begin{matrix}\\frac{\\cos{\\left(\\psi \\right)} \\cos{\\left(\\theta \\right)}}{\\sin^{2}{\\left(\\psi \\right)} \\sin^{2}{\\left(\\theta \\right)} + \\sin^{2}{\\left(\\psi \\right)} \\cos^{2}{\\left(\\theta \\right)} + \\sin^{2}{\\left(\\theta \\right)} \\cos^{2}{\\left(\\psi \\right)} + \\cos^{2}{\\left(\\psi \\right)} \\cos^{2}{\\left(\\theta \\right)}} & \\frac{\\sin{\\left(\\phi \\right)} \\sin{\\left(\\theta \\right)} \\cos{\\left(\\psi \\right)} - \\sin{\\left(\\psi \\right)} \\sin^{2}{\\left(\\theta \\right)} \\cos{\\left(\\phi \\right)} - \\sin{\\left(\\psi \\right)} \\cos{\\left(\\phi \\right)} \\cos^{2}{\\left(\\theta \\right)}}{\\sin^{2}{\\left(\\phi \\right)} \\sin^{2}{\\left(\\psi \\right)} \\sin^{2}{\\left(\\theta \\right)} + \\sin^{2}{\\left(\\phi \\right)} \\sin^{2}{\\left(\\psi \\right)} \\cos^{2}{\\left(\\theta \\right)} + \\sin^{2}{\\left(\\phi \\right)} \\sin^{2}{\\left(\\theta \\right)} \\cos^{2}{\\left(\\psi \\right)} + \\sin^{2}{\\left(\\phi \\right)} \\cos^{2}{\\left(\\psi \\right)} \\cos^{2}{\\left(\\theta \\right)} + \\sin^{2}{\\left(\\psi \\right)} \\sin^{2}{\\left(\\theta \\right)} \\cos^{2}{\\left(\\phi \\right)} + \\sin^{2}{\\left(\\psi \\right)} \\cos^{2}{\\left(\\phi \\right)} \\cos^{2}{\\left(\\theta \\right)} + \\sin^{2}{\\left(\\theta \\right)} \\cos^{2}{\\left(\\phi \\right)} \\cos^{2}{\\left(\\psi \\right)} + \\cos^{2}{\\left(\\phi \\right)} \\cos^{2}{\\left(\\psi \\right)} \\cos^{2}{\\left(\\theta \\right)}} & \\frac{\\sin{\\left(\\phi \\right)} \\sin{\\left(\\psi \\right)} \\sin^{2}{\\left(\\theta \\right)} + \\sin{\\left(\\phi \\right)} \\sin{\\left(\\psi \\right)} \\cos^{2}{\\left(\\theta \\right)} + \\sin{\\left(\\theta \\right)} \\cos{\\left(\\phi \\right)} \\cos{\\left(\\psi \\right)}}{\\sin^{2}{\\left(\\phi \\right)} \\sin^{2}{\\left(\\psi \\right)} \\sin^{2}{\\left(\\theta \\right)} + \\sin^{2}{\\left(\\phi \\right)} \\sin^{2}{\\left(\\psi \\right)} \\cos^{2}{\\left(\\theta \\right)} + \\sin^{2}{\\left(\\phi \\right)} \\sin^{2}{\\left(\\theta \\right)} \\cos^{2}{\\left(\\psi \\right)} + \\sin^{2}{\\left(\\phi \\right)} \\cos^{2}{\\left(\\psi \\right)} \\cos^{2}{\\left(\\theta \\right)} + \\sin^{2}{\\left(\\psi \\right)} \\sin^{2}{\\left(\\theta \\right)} \\cos^{2}{\\left(\\phi \\right)} + \\sin^{2}{\\left(\\psi \\right)} \\cos^{2}{\\left(\\phi \\right)} \\cos^{2}{\\left(\\theta \\right)} + \\sin^{2}{\\left(\\theta \\right)} \\cos^{2}{\\left(\\phi \\right)} \\cos^{2}{\\left(\\psi \\right)} + \\cos^{2}{\\left(\\phi \\right)} \\cos^{2}{\\left(\\psi \\right)} \\cos^{2}{\\left(\\theta \\right)}} & - x\\\\\\frac{\\sin{\\left(\\psi \\right)} \\cos{\\left(\\theta \\right)}}{\\sin^{2}{\\left(\\psi \\right)} \\sin^{2}{\\left(\\theta \\right)} + \\sin^{2}{\\left(\\psi \\right)} \\cos^{2}{\\left(\\theta \\right)} + \\sin^{2}{\\left(\\theta \\right)} \\cos^{2}{\\left(\\psi \\right)} + \\cos^{2}{\\left(\\psi \\right)} \\cos^{2}{\\left(\\theta \\right)}} & \\frac{\\sin{\\left(\\phi \\right)} \\sin{\\left(\\psi \\right)} \\sin{\\left(\\theta \\right)} + \\sin^{2}{\\left(\\theta \\right)} \\cos{\\left(\\phi \\right)} \\cos{\\left(\\psi \\right)} + \\cos{\\left(\\phi \\right)} \\cos{\\left(\\psi \\right)} \\cos^{2}{\\left(\\theta \\right)}}{\\sin^{2}{\\left(\\phi \\right)} \\sin^{2}{\\left(\\psi \\right)} \\sin^{2}{\\left(\\theta \\right)} + \\sin^{2}{\\left(\\phi \\right)} \\sin^{2}{\\left(\\psi \\right)} \\cos^{2}{\\left(\\theta \\right)} + \\sin^{2}{\\left(\\phi \\right)} \\sin^{2}{\\left(\\theta \\right)} \\cos^{2}{\\left(\\psi \\right)} + \\sin^{2}{\\left(\\phi \\right)} \\cos^{2}{\\left(\\psi \\right)} \\cos^{2}{\\left(\\theta \\right)} + \\sin^{2}{\\left(\\psi \\right)} \\sin^{2}{\\left(\\theta \\right)} \\cos^{2}{\\left(\\phi \\right)} + \\sin^{2}{\\left(\\psi \\right)} \\cos^{2}{\\left(\\phi \\right)} \\cos^{2}{\\left(\\theta \\right)} + \\sin^{2}{\\left(\\theta \\right)} \\cos^{2}{\\left(\\phi \\right)} \\cos^{2}{\\left(\\psi \\right)} + \\cos^{2}{\\left(\\phi \\right)} \\cos^{2}{\\left(\\psi \\right)} \\cos^{2}{\\left(\\theta \\right)}} & \\frac{- \\sin{\\left(\\phi \\right)} \\sin^{2}{\\left(\\theta \\right)} \\cos{\\left(\\psi \\right)} - \\sin{\\left(\\phi \\right)} \\cos{\\left(\\psi \\right)} \\cos^{2}{\\left(\\theta \\right)} + \\sin{\\left(\\psi \\right)} \\sin{\\left(\\theta \\right)} \\cos{\\left(\\phi \\right)}}{\\sin^{2}{\\left(\\phi \\right)} \\sin^{2}{\\left(\\psi \\right)} \\sin^{2}{\\left(\\theta \\right)} + \\sin^{2}{\\left(\\phi \\right)} \\sin^{2}{\\left(\\psi \\right)} \\cos^{2}{\\left(\\theta \\right)} + \\sin^{2}{\\left(\\phi \\right)} \\sin^{2}{\\left(\\theta \\right)} \\cos^{2}{\\left(\\psi \\right)} + \\sin^{2}{\\left(\\phi \\right)} \\cos^{2}{\\left(\\psi \\right)} \\cos^{2}{\\left(\\theta \\right)} + \\sin^{2}{\\left(\\psi \\right)} \\sin^{2}{\\left(\\theta \\right)} \\cos^{2}{\\left(\\phi \\right)} + \\sin^{2}{\\left(\\psi \\right)} \\cos^{2}{\\left(\\phi \\right)} \\cos^{2}{\\left(\\theta \\right)} + \\sin^{2}{\\left(\\theta \\right)} \\cos^{2}{\\left(\\phi \\right)} \\cos^{2}{\\left(\\psi \\right)} + \\cos^{2}{\\left(\\phi \\right)} \\cos^{2}{\\left(\\psi \\right)} \\cos^{2}{\\left(\\theta \\right)}} & - y\\\\- \\frac{\\sin{\\left(\\theta \\right)}}{\\sin^{2}{\\left(\\theta \\right)} + \\cos^{2}{\\left(\\theta \\right)}} & \\frac{\\sin{\\left(\\phi \\right)} \\cos{\\left(\\theta \\right)}}{\\sin^{2}{\\left(\\phi \\right)} \\sin^{2}{\\left(\\theta \\right)} + \\sin^{2}{\\left(\\phi \\right)} \\cos^{2}{\\left(\\theta \\right)} + \\sin^{2}{\\left(\\theta \\right)} \\cos^{2}{\\left(\\phi \\right)} + \\cos^{2}{\\left(\\phi \\right)} \\cos^{2}{\\left(\\theta \\right)}} & \\frac{\\cos{\\left(\\phi \\right)} \\cos{\\left(\\theta \\right)}}{\\sin^{2}{\\left(\\phi \\right)} \\sin^{2}{\\left(\\theta \\right)} + \\sin^{2}{\\left(\\phi \\right)} \\cos^{2}{\\left(\\theta \\right)} + \\sin^{2}{\\left(\\theta \\right)} \\cos^{2}{\\left(\\phi \\right)} + \\cos^{2}{\\left(\\phi \\right)} \\cos^{2}{\\left(\\theta \\right)}} & - z\\\\0 & 0 & 0 & 1\\end{matrix}\\right]$"
      ],
      "text/plain": [
       "⎡                                                                             \n",
       "⎢                            cos(ψ)⋅cos(θ)                                    \n",
       "⎢─────────────────────────────────────────────────────────────────────  ──────\n",
       "⎢   2       2         2       2         2       2         2       2        2  \n",
       "⎢sin (ψ)⋅sin (θ) + sin (ψ)⋅cos (θ) + sin (θ)⋅cos (ψ) + cos (ψ)⋅cos (θ)  sin (φ\n",
       "⎢                                                                             \n",
       "⎢                                                                             \n",
       "⎢                            sin(ψ)⋅cos(θ)                                    \n",
       "⎢─────────────────────────────────────────────────────────────────────  ──────\n",
       "⎢   2       2         2       2         2       2         2       2        2  \n",
       "⎢sin (ψ)⋅sin (θ) + sin (ψ)⋅cos (θ) + sin (θ)⋅cos (ψ) + cos (ψ)⋅cos (θ)  sin (φ\n",
       "⎢                                                                             \n",
       "⎢                               -sin(θ)                                       \n",
       "⎢                          ─────────────────                                  \n",
       "⎢                             2         2                                     \n",
       "⎢                          sin (θ) + cos (θ)                                  \n",
       "⎢                                                                             \n",
       "⎣                                  0                                          \n",
       "\n",
       "                                                                              \n",
       "                                                               sin(φ)⋅sin(θ)⋅c\n",
       "──────────────────────────────────────────────────────────────────────────────\n",
       "     2       2         2       2       2         2       2       2         2  \n",
       ")⋅sin (ψ)⋅sin (θ) + sin (φ)⋅sin (ψ)⋅cos (θ) + sin (φ)⋅sin (θ)⋅cos (ψ) + sin (φ\n",
       "                                                                              \n",
       "                                                                              \n",
       "                                                               sin(φ)⋅sin(ψ)⋅s\n",
       "──────────────────────────────────────────────────────────────────────────────\n",
       "     2       2         2       2       2         2       2       2         2  \n",
       ")⋅sin (ψ)⋅sin (θ) + sin (φ)⋅sin (ψ)⋅cos (θ) + sin (φ)⋅sin (θ)⋅cos (ψ) + sin (φ\n",
       "                                                                              \n",
       "                                                                              \n",
       "                                                              ────────────────\n",
       "                                                                 2       2    \n",
       "                                                              sin (φ)⋅sin (θ) \n",
       "                                                                              \n",
       "                                                                              \n",
       "\n",
       "                  2                              2                            \n",
       "os(ψ) - sin(ψ)⋅sin (θ)⋅cos(φ) - sin(ψ)⋅cos(φ)⋅cos (θ)                         \n",
       "──────────────────────────────────────────────────────────────────────────────\n",
       "     2       2         2       2       2         2       2       2         2  \n",
       ")⋅cos (ψ)⋅cos (θ) + sin (ψ)⋅sin (θ)⋅cos (φ) + sin (ψ)⋅cos (φ)⋅cos (θ) + sin (θ\n",
       "                                                                              \n",
       "           2                                     2                            \n",
       "in(θ) + sin (θ)⋅cos(φ)⋅cos(ψ) + cos(φ)⋅cos(ψ)⋅cos (θ)                         \n",
       "──────────────────────────────────────────────────────────────────────────────\n",
       "     2       2         2       2       2         2       2       2         2  \n",
       ")⋅cos (ψ)⋅cos (θ) + sin (ψ)⋅sin (θ)⋅cos (φ) + sin (ψ)⋅cos (φ)⋅cos (θ) + sin (θ\n",
       "                                                                              \n",
       "            sin(φ)⋅cos(θ)                                                     \n",
       "─────────────────────────────────────────────────────                         \n",
       "     2       2         2       2         2       2                            \n",
       "+ sin (φ)⋅cos (θ) + sin (θ)⋅cos (φ) + cos (φ)⋅cos (θ)                         \n",
       "                                                                              \n",
       "                  0                                                           \n",
       "\n",
       "                                                                              \n",
       "                                                                              \n",
       "───────────────────────────────────────────  ─────────────────────────────────\n",
       "     2       2         2       2       2        2       2       2         2   \n",
       ")⋅cos (φ)⋅cos (ψ) + cos (φ)⋅cos (ψ)⋅cos (θ)  sin (φ)⋅sin (ψ)⋅sin (θ) + sin (φ)\n",
       "                                                                              \n",
       "                                                                              \n",
       "                                                                              \n",
       "───────────────────────────────────────────  ─────────────────────────────────\n",
       "     2       2         2       2       2        2       2       2         2   \n",
       ")⋅cos (φ)⋅cos (ψ) + cos (φ)⋅cos (ψ)⋅cos (θ)  sin (φ)⋅sin (ψ)⋅sin (θ) + sin (φ)\n",
       "                                                                              \n",
       "                                                                              \n",
       "                                                                              \n",
       "                                                                              \n",
       "                                                                              \n",
       "                                                                              \n",
       "                                                                              \n",
       "\n",
       "                                                     2                       2\n",
       "                                    sin(φ)⋅sin(ψ)⋅sin (θ) + sin(φ)⋅sin(ψ)⋅cos \n",
       "──────────────────────────────────────────────────────────────────────────────\n",
       "    2       2         2       2       2         2       2       2         2   \n",
       "⋅sin (ψ)⋅cos (θ) + sin (φ)⋅sin (θ)⋅cos (ψ) + sin (φ)⋅cos (ψ)⋅cos (θ) + sin (ψ)\n",
       "                                                                              \n",
       "                                               2                              \n",
       "                                   - sin(φ)⋅sin (θ)⋅cos(ψ) - sin(φ)⋅cos(ψ)⋅cos\n",
       "──────────────────────────────────────────────────────────────────────────────\n",
       "    2       2         2       2       2         2       2       2         2   \n",
       "⋅sin (ψ)⋅cos (θ) + sin (φ)⋅sin (θ)⋅cos (ψ) + sin (φ)⋅cos (ψ)⋅cos (θ) + sin (ψ)\n",
       "                                                                              \n",
       "                                                               cos(φ)⋅cos(θ)  \n",
       "                                   ───────────────────────────────────────────\n",
       "                                      2       2         2       2         2   \n",
       "                                   sin (φ)⋅sin (θ) + sin (φ)⋅cos (θ) + sin (θ)\n",
       "                                                                              \n",
       "                                                                     0        \n",
       "\n",
       "                                                                              \n",
       "(θ) + sin(θ)⋅cos(φ)⋅cos(ψ)                                                    \n",
       "──────────────────────────────────────────────────────────────────────────────\n",
       "    2       2         2       2       2         2       2       2         2   \n",
       "⋅sin (θ)⋅cos (φ) + sin (ψ)⋅cos (φ)⋅cos (θ) + sin (θ)⋅cos (φ)⋅cos (ψ) + cos (φ)\n",
       "                                                                              \n",
       "2                                                                             \n",
       " (θ) + sin(ψ)⋅sin(θ)⋅cos(φ)                                                   \n",
       "──────────────────────────────────────────────────────────────────────────────\n",
       "    2       2         2       2       2         2       2       2         2   \n",
       "⋅sin (θ)⋅cos (φ) + sin (ψ)⋅cos (φ)⋅cos (θ) + sin (θ)⋅cos (φ)⋅cos (ψ) + cos (φ)\n",
       "                                                                              \n",
       "                                                                              \n",
       "──────────────────────────                                                    \n",
       "    2         2       2                                                       \n",
       "⋅cos (φ) + cos (φ)⋅cos (θ)                                                    \n",
       "                                                                              \n",
       "                                                                              \n",
       "\n",
       "                    ⎤\n",
       "                    ⎥\n",
       "────────────────  -x⎥\n",
       "    2       2       ⎥\n",
       "⋅cos (ψ)⋅cos (θ)    ⎥\n",
       "                    ⎥\n",
       "                    ⎥\n",
       "                    ⎥\n",
       "────────────────  -y⎥\n",
       "    2       2       ⎥\n",
       "⋅cos (ψ)⋅cos (θ)    ⎥\n",
       "                    ⎥\n",
       "                    ⎥\n",
       "                  -z⎥\n",
       "                    ⎥\n",
       "                    ⎥\n",
       "                    ⎥\n",
       "                  1 ⎦"
      ]
     },
     "execution_count": 938,
     "metadata": {},
     "output_type": "execute_result"
    }
   ],
   "source": [
    "x, y, z, phi, theta, psi = symbols('x y z phi theta psi')\n",
    "# m_hat = Matrix([x, y, z, phi, theta, phi]).T\n",
    "m_hat = np.array([1,2,3,0.4,0.5,0.6])\n",
    "print( \"m_hat = \", pretty(m_hat))\n",
    "\n",
    "T_roll = Matrix([[1, 0, 0, 0],\n",
    "                 [0, cos(phi), sin(phi), 0],\n",
    "                 [0, -sin(phi), cos(phi), 0],\n",
    "                 [0, 0, 0, 1]])\n",
    "# print(\"\\n T_roll =\") \n",
    "# print(pretty(T_roll))\n",
    "\n",
    "T_pitch = Matrix([[cos(theta), 0, -sin(theta), 0],\n",
    "                 [0, 1, 0, 0],\n",
    "                 [sin(theta), 0, cos(theta), 0],\n",
    "                 [0, 0, 0, 1]])\n",
    "# print(\"\\n T_pitch =\") \n",
    "# print(pretty(T_pitch))\n",
    "\n",
    "#Recall we are setting T_yaw to identity here since scan axis-aligned motion is already compensated for\n",
    "T_yaw = Matrix([[cos(psi), sin(psi), 0, 0],\n",
    "                 [-sin(psi), cos(psi), 0, 0],\n",
    "                 [0, 0, 1, 0],\n",
    "                 [0, 0, 0, 1]])\n",
    "# print(\"\\n T_yaw =\") \n",
    "# print(pretty(T_yaw))\n",
    "\n",
    "T_trans = Matrix([[1, 0, 0, x],\n",
    "                 [0, 1, 0, y],\n",
    "                 [0, 0, 1, z],\n",
    "                 [0, 0, 0, 1]])\n",
    "# print(\"\\n T_trans =\") \n",
    "# print(pretty(T_trans))\n",
    "\n",
    "# T_rect = (T_roll * T_pitch * T_yaw * T_trans)\n",
    "T_rect = (T_roll * T_pitch * T_yaw * T_trans).inv()\n",
    "print(\"T_rect =\")\n",
    "T_rect\n"
   ]
  },
  {
   "cell_type": "code",
   "execution_count": 964,
   "id": "22843082",
   "metadata": {},
   "outputs": [
    {
     "name": "stdout",
     "output_type": "stream",
     "text": [
      "Matrix([[-sin(psi)*cos(theta)/(sin(psi)**2*sin(theta)**2 + sin(psi)**2*cos(theta)**2 + sin(theta)**2*cos(psi)**2 + cos(psi)**2*cos(theta)**2), (-sin(phi)*sin(psi)*sin(theta) - sin(theta)**2*cos(phi)*cos(psi) - cos(phi)*cos(psi)*cos(theta)**2)/(sin(phi)**2*sin(psi)**2*sin(theta)**2 + sin(phi)**2*sin(psi)**2*cos(theta)**2 + sin(phi)**2*sin(theta)**2*cos(psi)**2 + sin(phi)**2*cos(psi)**2*cos(theta)**2 + sin(psi)**2*sin(theta)**2*cos(phi)**2 + sin(psi)**2*cos(phi)**2*cos(theta)**2 + sin(theta)**2*cos(phi)**2*cos(psi)**2 + cos(phi)**2*cos(psi)**2*cos(theta)**2), (sin(phi)*sin(theta)**2*cos(psi) + sin(phi)*cos(psi)*cos(theta)**2 - sin(psi)*sin(theta)*cos(phi))/(sin(phi)**2*sin(psi)**2*sin(theta)**2 + sin(phi)**2*sin(psi)**2*cos(theta)**2 + sin(phi)**2*sin(theta)**2*cos(psi)**2 + sin(phi)**2*cos(psi)**2*cos(theta)**2 + sin(psi)**2*sin(theta)**2*cos(phi)**2 + sin(psi)**2*cos(phi)**2*cos(theta)**2 + sin(theta)**2*cos(phi)**2*cos(psi)**2 + cos(phi)**2*cos(psi)**2*cos(theta)**2), 0], [cos(psi)*cos(theta)/(sin(psi)**2*sin(theta)**2 + sin(psi)**2*cos(theta)**2 + sin(theta)**2*cos(psi)**2 + cos(psi)**2*cos(theta)**2), (sin(phi)*sin(theta)*cos(psi) - sin(psi)*sin(theta)**2*cos(phi) - sin(psi)*cos(phi)*cos(theta)**2)/(sin(phi)**2*sin(psi)**2*sin(theta)**2 + sin(phi)**2*sin(psi)**2*cos(theta)**2 + sin(phi)**2*sin(theta)**2*cos(psi)**2 + sin(phi)**2*cos(psi)**2*cos(theta)**2 + sin(psi)**2*sin(theta)**2*cos(phi)**2 + sin(psi)**2*cos(phi)**2*cos(theta)**2 + sin(theta)**2*cos(phi)**2*cos(psi)**2 + cos(phi)**2*cos(psi)**2*cos(theta)**2), (sin(phi)*sin(psi)*sin(theta)**2 + sin(phi)*sin(psi)*cos(theta)**2 + sin(theta)*cos(phi)*cos(psi))/(sin(phi)**2*sin(psi)**2*sin(theta)**2 + sin(phi)**2*sin(psi)**2*cos(theta)**2 + sin(phi)**2*sin(theta)**2*cos(psi)**2 + sin(phi)**2*cos(psi)**2*cos(theta)**2 + sin(psi)**2*sin(theta)**2*cos(phi)**2 + sin(psi)**2*cos(phi)**2*cos(theta)**2 + sin(theta)**2*cos(phi)**2*cos(psi)**2 + cos(phi)**2*cos(psi)**2*cos(theta)**2), 0], [0, 0, 0, 0], [0, 0, 0, 0]])\n"
     ]
    },
    {
     "data": {
      "text/latex": [
       "$\\displaystyle \\left[\\begin{matrix}- \\frac{\\sin{\\left(\\psi \\right)} \\cos{\\left(\\theta \\right)}}{\\sin^{2}{\\left(\\psi \\right)} \\sin^{2}{\\left(\\theta \\right)} + \\sin^{2}{\\left(\\psi \\right)} \\cos^{2}{\\left(\\theta \\right)} + \\sin^{2}{\\left(\\theta \\right)} \\cos^{2}{\\left(\\psi \\right)} + \\cos^{2}{\\left(\\psi \\right)} \\cos^{2}{\\left(\\theta \\right)}} & \\frac{- \\sin{\\left(\\phi \\right)} \\sin{\\left(\\psi \\right)} \\sin{\\left(\\theta \\right)} - \\sin^{2}{\\left(\\theta \\right)} \\cos{\\left(\\phi \\right)} \\cos{\\left(\\psi \\right)} - \\cos{\\left(\\phi \\right)} \\cos{\\left(\\psi \\right)} \\cos^{2}{\\left(\\theta \\right)}}{\\sin^{2}{\\left(\\phi \\right)} \\sin^{2}{\\left(\\psi \\right)} \\sin^{2}{\\left(\\theta \\right)} + \\sin^{2}{\\left(\\phi \\right)} \\sin^{2}{\\left(\\psi \\right)} \\cos^{2}{\\left(\\theta \\right)} + \\sin^{2}{\\left(\\phi \\right)} \\sin^{2}{\\left(\\theta \\right)} \\cos^{2}{\\left(\\psi \\right)} + \\sin^{2}{\\left(\\phi \\right)} \\cos^{2}{\\left(\\psi \\right)} \\cos^{2}{\\left(\\theta \\right)} + \\sin^{2}{\\left(\\psi \\right)} \\sin^{2}{\\left(\\theta \\right)} \\cos^{2}{\\left(\\phi \\right)} + \\sin^{2}{\\left(\\psi \\right)} \\cos^{2}{\\left(\\phi \\right)} \\cos^{2}{\\left(\\theta \\right)} + \\sin^{2}{\\left(\\theta \\right)} \\cos^{2}{\\left(\\phi \\right)} \\cos^{2}{\\left(\\psi \\right)} + \\cos^{2}{\\left(\\phi \\right)} \\cos^{2}{\\left(\\psi \\right)} \\cos^{2}{\\left(\\theta \\right)}} & \\frac{\\sin{\\left(\\phi \\right)} \\sin^{2}{\\left(\\theta \\right)} \\cos{\\left(\\psi \\right)} + \\sin{\\left(\\phi \\right)} \\cos{\\left(\\psi \\right)} \\cos^{2}{\\left(\\theta \\right)} - \\sin{\\left(\\psi \\right)} \\sin{\\left(\\theta \\right)} \\cos{\\left(\\phi \\right)}}{\\sin^{2}{\\left(\\phi \\right)} \\sin^{2}{\\left(\\psi \\right)} \\sin^{2}{\\left(\\theta \\right)} + \\sin^{2}{\\left(\\phi \\right)} \\sin^{2}{\\left(\\psi \\right)} \\cos^{2}{\\left(\\theta \\right)} + \\sin^{2}{\\left(\\phi \\right)} \\sin^{2}{\\left(\\theta \\right)} \\cos^{2}{\\left(\\psi \\right)} + \\sin^{2}{\\left(\\phi \\right)} \\cos^{2}{\\left(\\psi \\right)} \\cos^{2}{\\left(\\theta \\right)} + \\sin^{2}{\\left(\\psi \\right)} \\sin^{2}{\\left(\\theta \\right)} \\cos^{2}{\\left(\\phi \\right)} + \\sin^{2}{\\left(\\psi \\right)} \\cos^{2}{\\left(\\phi \\right)} \\cos^{2}{\\left(\\theta \\right)} + \\sin^{2}{\\left(\\theta \\right)} \\cos^{2}{\\left(\\phi \\right)} \\cos^{2}{\\left(\\psi \\right)} + \\cos^{2}{\\left(\\phi \\right)} \\cos^{2}{\\left(\\psi \\right)} \\cos^{2}{\\left(\\theta \\right)}} & 0\\\\\\frac{\\cos{\\left(\\psi \\right)} \\cos{\\left(\\theta \\right)}}{\\sin^{2}{\\left(\\psi \\right)} \\sin^{2}{\\left(\\theta \\right)} + \\sin^{2}{\\left(\\psi \\right)} \\cos^{2}{\\left(\\theta \\right)} + \\sin^{2}{\\left(\\theta \\right)} \\cos^{2}{\\left(\\psi \\right)} + \\cos^{2}{\\left(\\psi \\right)} \\cos^{2}{\\left(\\theta \\right)}} & \\frac{\\sin{\\left(\\phi \\right)} \\sin{\\left(\\theta \\right)} \\cos{\\left(\\psi \\right)} - \\sin{\\left(\\psi \\right)} \\sin^{2}{\\left(\\theta \\right)} \\cos{\\left(\\phi \\right)} - \\sin{\\left(\\psi \\right)} \\cos{\\left(\\phi \\right)} \\cos^{2}{\\left(\\theta \\right)}}{\\sin^{2}{\\left(\\phi \\right)} \\sin^{2}{\\left(\\psi \\right)} \\sin^{2}{\\left(\\theta \\right)} + \\sin^{2}{\\left(\\phi \\right)} \\sin^{2}{\\left(\\psi \\right)} \\cos^{2}{\\left(\\theta \\right)} + \\sin^{2}{\\left(\\phi \\right)} \\sin^{2}{\\left(\\theta \\right)} \\cos^{2}{\\left(\\psi \\right)} + \\sin^{2}{\\left(\\phi \\right)} \\cos^{2}{\\left(\\psi \\right)} \\cos^{2}{\\left(\\theta \\right)} + \\sin^{2}{\\left(\\psi \\right)} \\sin^{2}{\\left(\\theta \\right)} \\cos^{2}{\\left(\\phi \\right)} + \\sin^{2}{\\left(\\psi \\right)} \\cos^{2}{\\left(\\phi \\right)} \\cos^{2}{\\left(\\theta \\right)} + \\sin^{2}{\\left(\\theta \\right)} \\cos^{2}{\\left(\\phi \\right)} \\cos^{2}{\\left(\\psi \\right)} + \\cos^{2}{\\left(\\phi \\right)} \\cos^{2}{\\left(\\psi \\right)} \\cos^{2}{\\left(\\theta \\right)}} & \\frac{\\sin{\\left(\\phi \\right)} \\sin{\\left(\\psi \\right)} \\sin^{2}{\\left(\\theta \\right)} + \\sin{\\left(\\phi \\right)} \\sin{\\left(\\psi \\right)} \\cos^{2}{\\left(\\theta \\right)} + \\sin{\\left(\\theta \\right)} \\cos{\\left(\\phi \\right)} \\cos{\\left(\\psi \\right)}}{\\sin^{2}{\\left(\\phi \\right)} \\sin^{2}{\\left(\\psi \\right)} \\sin^{2}{\\left(\\theta \\right)} + \\sin^{2}{\\left(\\phi \\right)} \\sin^{2}{\\left(\\psi \\right)} \\cos^{2}{\\left(\\theta \\right)} + \\sin^{2}{\\left(\\phi \\right)} \\sin^{2}{\\left(\\theta \\right)} \\cos^{2}{\\left(\\psi \\right)} + \\sin^{2}{\\left(\\phi \\right)} \\cos^{2}{\\left(\\psi \\right)} \\cos^{2}{\\left(\\theta \\right)} + \\sin^{2}{\\left(\\psi \\right)} \\sin^{2}{\\left(\\theta \\right)} \\cos^{2}{\\left(\\phi \\right)} + \\sin^{2}{\\left(\\psi \\right)} \\cos^{2}{\\left(\\phi \\right)} \\cos^{2}{\\left(\\theta \\right)} + \\sin^{2}{\\left(\\theta \\right)} \\cos^{2}{\\left(\\phi \\right)} \\cos^{2}{\\left(\\psi \\right)} + \\cos^{2}{\\left(\\phi \\right)} \\cos^{2}{\\left(\\psi \\right)} \\cos^{2}{\\left(\\theta \\right)}} & 0\\\\0 & 0 & 0 & 0\\\\0 & 0 & 0 & 0\\end{matrix}\\right]$"
      ],
      "text/plain": [
       "⎡                                                                             \n",
       "⎢                           -sin(ψ)⋅cos(θ)                                    \n",
       "⎢─────────────────────────────────────────────────────────────────────  ──────\n",
       "⎢   2       2         2       2         2       2         2       2        2  \n",
       "⎢sin (ψ)⋅sin (θ) + sin (ψ)⋅cos (θ) + sin (θ)⋅cos (ψ) + cos (ψ)⋅cos (θ)  sin (φ\n",
       "⎢                                                                             \n",
       "⎢                                                                             \n",
       "⎢                            cos(ψ)⋅cos(θ)                                    \n",
       "⎢─────────────────────────────────────────────────────────────────────  ──────\n",
       "⎢   2       2         2       2         2       2         2       2        2  \n",
       "⎢sin (ψ)⋅sin (θ) + sin (ψ)⋅cos (θ) + sin (θ)⋅cos (ψ) + cos (ψ)⋅cos (θ)  sin (φ\n",
       "⎢                                                                             \n",
       "⎢                                  0                                          \n",
       "⎢                                                                             \n",
       "⎣                                  0                                          \n",
       "\n",
       "                                                                              \n",
       "                                                              -sin(φ)⋅sin(ψ)⋅s\n",
       "──────────────────────────────────────────────────────────────────────────────\n",
       "     2       2         2       2       2         2       2       2         2  \n",
       ")⋅sin (ψ)⋅sin (θ) + sin (φ)⋅sin (ψ)⋅cos (θ) + sin (φ)⋅sin (θ)⋅cos (ψ) + sin (φ\n",
       "                                                                              \n",
       "                                                                              \n",
       "                                                               sin(φ)⋅sin(θ)⋅c\n",
       "──────────────────────────────────────────────────────────────────────────────\n",
       "     2       2         2       2       2         2       2       2         2  \n",
       ")⋅sin (ψ)⋅sin (θ) + sin (φ)⋅sin (ψ)⋅cos (θ) + sin (φ)⋅sin (θ)⋅cos (ψ) + sin (φ\n",
       "                                                                              \n",
       "                                                                              \n",
       "                                                                              \n",
       "                                                                              \n",
       "\n",
       "           2                                     2                            \n",
       "in(θ) - sin (θ)⋅cos(φ)⋅cos(ψ) - cos(φ)⋅cos(ψ)⋅cos (θ)                         \n",
       "──────────────────────────────────────────────────────────────────────────────\n",
       "     2       2         2       2       2         2       2       2         2  \n",
       ")⋅cos (ψ)⋅cos (θ) + sin (ψ)⋅sin (θ)⋅cos (φ) + sin (ψ)⋅cos (φ)⋅cos (θ) + sin (θ\n",
       "                                                                              \n",
       "                  2                              2                            \n",
       "os(ψ) - sin(ψ)⋅sin (θ)⋅cos(φ) - sin(ψ)⋅cos(φ)⋅cos (θ)                         \n",
       "──────────────────────────────────────────────────────────────────────────────\n",
       "     2       2         2       2       2         2       2       2         2  \n",
       ")⋅cos (ψ)⋅cos (θ) + sin (ψ)⋅sin (θ)⋅cos (φ) + sin (ψ)⋅cos (φ)⋅cos (θ) + sin (θ\n",
       "                                                                              \n",
       "                  0                                                           \n",
       "                                                                              \n",
       "                  0                                                           \n",
       "\n",
       "                                                                              \n",
       "                                                                              \n",
       "───────────────────────────────────────────  ─────────────────────────────────\n",
       "     2       2         2       2       2        2       2       2         2   \n",
       ")⋅cos (φ)⋅cos (ψ) + cos (φ)⋅cos (ψ)⋅cos (θ)  sin (φ)⋅sin (ψ)⋅sin (θ) + sin (φ)\n",
       "                                                                              \n",
       "                                                                              \n",
       "                                                                              \n",
       "───────────────────────────────────────────  ─────────────────────────────────\n",
       "     2       2         2       2       2        2       2       2         2   \n",
       ")⋅cos (φ)⋅cos (ψ) + cos (φ)⋅cos (ψ)⋅cos (θ)  sin (φ)⋅sin (ψ)⋅sin (θ) + sin (φ)\n",
       "                                                                              \n",
       "                                                                              \n",
       "                                                                              \n",
       "                                                                              \n",
       "\n",
       "                                              2                              2\n",
       "                                    sin(φ)⋅sin (θ)⋅cos(ψ) + sin(φ)⋅cos(ψ)⋅cos \n",
       "──────────────────────────────────────────────────────────────────────────────\n",
       "    2       2         2       2       2         2       2       2         2   \n",
       "⋅sin (ψ)⋅cos (θ) + sin (φ)⋅sin (θ)⋅cos (ψ) + sin (φ)⋅cos (ψ)⋅cos (θ) + sin (ψ)\n",
       "                                                                              \n",
       "                                                     2                       2\n",
       "                                    sin(φ)⋅sin(ψ)⋅sin (θ) + sin(φ)⋅sin(ψ)⋅cos \n",
       "──────────────────────────────────────────────────────────────────────────────\n",
       "    2       2         2       2       2         2       2       2         2   \n",
       "⋅sin (ψ)⋅cos (θ) + sin (φ)⋅sin (θ)⋅cos (ψ) + sin (φ)⋅cos (ψ)⋅cos (θ) + sin (ψ)\n",
       "                                                                              \n",
       "                                                                     0        \n",
       "                                                                              \n",
       "                                                                     0        \n",
       "\n",
       "                                                                              \n",
       "(θ) - sin(ψ)⋅sin(θ)⋅cos(φ)                                                    \n",
       "──────────────────────────────────────────────────────────────────────────────\n",
       "    2       2         2       2       2         2       2       2         2   \n",
       "⋅sin (θ)⋅cos (φ) + sin (ψ)⋅cos (φ)⋅cos (θ) + sin (θ)⋅cos (φ)⋅cos (ψ) + cos (φ)\n",
       "                                                                              \n",
       "                                                                              \n",
       "(θ) + sin(θ)⋅cos(φ)⋅cos(ψ)                                                    \n",
       "──────────────────────────────────────────────────────────────────────────────\n",
       "    2       2         2       2       2         2       2       2         2   \n",
       "⋅sin (θ)⋅cos (φ) + sin (ψ)⋅cos (φ)⋅cos (θ) + sin (θ)⋅cos (φ)⋅cos (ψ) + cos (φ)\n",
       "                                                                              \n",
       "                                                                              \n",
       "                                                                              \n",
       "                                                                              \n",
       "\n",
       "                   ⎤\n",
       "                   ⎥\n",
       "────────────────  0⎥\n",
       "    2       2      ⎥\n",
       "⋅cos (ψ)⋅cos (θ)   ⎥\n",
       "                   ⎥\n",
       "                   ⎥\n",
       "                   ⎥\n",
       "────────────────  0⎥\n",
       "    2       2      ⎥\n",
       "⋅cos (ψ)⋅cos (θ)   ⎥\n",
       "                   ⎥\n",
       "                  0⎥\n",
       "                   ⎥\n",
       "                  0⎦"
      ]
     },
     "execution_count": 964,
     "metadata": {},
     "output_type": "execute_result"
    }
   ],
   "source": [
    "# print(diff(T_rect, x))\n",
    "# diff(T_rect,y)\n",
    "# print(diff(T_rect, z))\n",
    "print(diff(T_rect, psi))\n",
    "# diff(T_rect, phi)\n",
    "diff(T_rect, psi)\n"
   ]
  },
  {
   "cell_type": "code",
   "execution_count": 903,
   "id": "f691445a",
   "metadata": {},
   "outputs": [
    {
     "name": "stdout",
     "output_type": "stream",
     "text": [
      "[PhysicalDevice(name='/physical_device:GPU:0', device_type='GPU')]\n",
      "(2, 3)\n",
      "[[0.34692412 0.19045274 6.94504739]\n",
      " [0.34692412 0.19045274 6.94504739]]\n",
      "(4, 4, 3)\n",
      "[[[ 0.29192658 -0.07207501  0.95372117 -1.        ]\n",
      "  [ 0.45464871  0.88774982 -0.07207501 -1.        ]\n",
      "  [-0.84147098  0.45464871  0.29192658 -1.        ]\n",
      "  [ 0.          0.          0.          1.        ]]\n",
      "\n",
      " [[ 0.17317819  0.03432197  0.98429229 -2.        ]\n",
      "  [-0.37840125  0.92500513  0.03432197 -2.        ]\n",
      "  [-0.90929743 -0.37840125  0.17317819 -2.        ]\n",
      "  [ 0.          0.          0.          1.        ]]\n",
      "\n",
      " [[ 0.98008514  0.11999219  0.15822448 -3.        ]\n",
      "  [-0.13970775  0.98289553  0.11999219 -3.        ]\n",
      "  [-0.14112001 -0.13970775  0.98008514 -3.        ]\n",
      "  [ 0.          0.          0.          1.        ]]]\n"
     ]
    }
   ],
   "source": [
    "# print(T_rect) # -> take printed output and convert to numpy array\n",
    "\n",
    "# from tensorflow.math import sin, cos\n",
    "from numpy import sin, cos\n",
    "\n",
    "\n",
    "# x = 1\n",
    "# y = 2\n",
    "# z = 3\n",
    "# phi = 0.1\n",
    "# theta = 0.2\n",
    "# psi = 0.3\n",
    "\n",
    "# x = tf.transpose(tf.constant([[1.,2.,3.,4.,5.]], tf.float64))\n",
    "# y = tf.transpose(tf.constant([[1.,2.,3.,4.,5.]], tf.float64))\n",
    "# z = tf.transpose(tf.constant([[1.,2.,3.,4.,5.]], tf.float64))\n",
    "# phi = tf.transpose(tf.constant([[1.,2.,3.,4.,5.]], tf.float64))\n",
    "# theta = tf.transpose(tf.constant([[1.,2.,3.,4.,5.]], tf.float64))\n",
    "# psi = tf.transpose(tf.constant([[1.,2.,3.,4.,5.]], tf.float64))\n",
    "\n",
    "# print(x)\n",
    "\n",
    "x = np.array([1,2,3])#[:,None]\n",
    "y = np.array([1,2,3])#[:,None]\n",
    "z = np.array([1,2,3])#[:,None]\n",
    "phi = np.array([1,2,3])#[:,None]\n",
    "theta = np.array([1,2,3])#[:,None]\n",
    "psi = np.array([1,2,3])#[:,None]\n",
    "test = np.array([cos(x) * cos(y) / sin(phi), cos(x) * cos(y) / sin(phi)])\n",
    "print(np.shape(test))\n",
    "print(test)\n",
    "\n",
    "# T_rect_np = tf.Variable([[cos(psi)*cos(theta)/(sin(psi)**2*sin(theta)**2 + sin(psi)**2*cos(theta)**2 + sin(theta)**2*cos(psi)**2 + cos(psi)**2*cos(theta)**2), (sin(phi)*sin(theta)*cos(psi) - sin(psi)*sin(theta)**2*cos(phi) - sin(psi)*cos(phi)*cos(theta)**2)/(sin(phi)**2*sin(psi)**2*sin(theta)**2 + sin(phi)**2*sin(psi)**2*cos(theta)**2 + sin(phi)**2*sin(theta)**2*cos(psi)**2 + sin(phi)**2*cos(psi)**2*cos(theta)**2 + sin(psi)**2*sin(theta)**2*cos(phi)**2 + sin(psi)**2*cos(phi)**2*cos(theta)**2 + sin(theta)**2*cos(phi)**2*cos(psi)**2 + cos(phi)**2*cos(psi)**2*cos(theta)**2), (sin(phi)*sin(psi)*sin(theta)**2 + sin(phi)*sin(psi)*cos(theta)**2 + sin(theta)*cos(phi)*cos(psi))/(sin(phi)**2*sin(psi)**2*sin(theta)**2 + sin(phi)**2*sin(psi)**2*cos(theta)**2 + sin(phi)**2*sin(theta)**2*cos(psi)**2 + sin(phi)**2*cos(psi)**2*cos(theta)**2 + sin(psi)**2*sin(theta)**2*cos(phi)**2 + sin(psi)**2*cos(phi)**2*cos(theta)**2 + sin(theta)**2*cos(phi)**2*cos(psi)**2 + cos(phi)**2*cos(psi)**2*cos(theta)**2), -x], [sin(psi)*cos(theta)/(sin(psi)**2*sin(theta)**2 + sin(psi)**2*cos(theta)**2 + sin(theta)**2*cos(psi)**2 + cos(psi)**2*cos(theta)**2), (sin(phi)*sin(psi)*sin(theta) + sin(theta)**2*cos(phi)*cos(psi) + cos(phi)*cos(psi)*cos(theta)**2)/(sin(phi)**2*sin(psi)**2*sin(theta)**2 + sin(phi)**2*sin(psi)**2*cos(theta)**2 + sin(phi)**2*sin(theta)**2*cos(psi)**2 + sin(phi)**2*cos(psi)**2*cos(theta)**2 + sin(psi)**2*sin(theta)**2*cos(phi)**2 + sin(psi)**2*cos(phi)**2*cos(theta)**2 + sin(theta)**2*cos(phi)**2*cos(psi)**2 + cos(phi)**2*cos(psi)**2*cos(theta)**2), (-sin(phi)*sin(theta)**2*cos(psi) - sin(phi)*cos(psi)*cos(theta)**2 + sin(psi)*sin(theta)*cos(phi))/(sin(phi)**2*sin(psi)**2*sin(theta)**2 + sin(phi)**2*sin(psi)**2*cos(theta)**2 + sin(phi)**2*sin(theta)**2*cos(psi)**2 + sin(phi)**2*cos(psi)**2*cos(theta)**2 + sin(psi)**2*sin(theta)**2*cos(phi)**2 + sin(psi)**2*cos(phi)**2*cos(theta)**2 + sin(theta)**2*cos(phi)**2*cos(psi)**2 + cos(phi)**2*cos(psi)**2*cos(theta)**2), -y], [-sin(theta)/(sin(theta)**2 + cos(theta)**2), sin(phi)*cos(theta)/(sin(phi)**2*sin(theta)**2 + sin(phi)**2*cos(theta)**2 + sin(theta)**2*cos(phi)**2 + cos(phi)**2*cos(theta)**2), cos(phi)*cos(theta)/(sin(phi)**2*sin(theta)**2 + sin(phi)**2*cos(theta)**2 + sin(theta)**2*cos(phi)**2 + cos(phi)**2*cos(theta)**2), -z], [0, 0, 0, 1]])\n",
    "\n",
    "T_rect_np = np.array([[cos(psi)*cos(theta)/(sin(psi)**2*sin(theta)**2 + sin(psi)**2*cos(theta)**2 + sin(theta)**2*cos(psi)**2 + cos(psi)**2*cos(theta)**2), (sin(phi)*sin(theta)*cos(psi) - sin(psi)*sin(theta)**2*cos(phi) - sin(psi)*cos(phi)*cos(theta)**2)/(sin(phi)**2*sin(psi)**2*sin(theta)**2 + sin(phi)**2*sin(psi)**2*cos(theta)**2 + sin(phi)**2*sin(theta)**2*cos(psi)**2 + sin(phi)**2*cos(psi)**2*cos(theta)**2 + sin(psi)**2*sin(theta)**2*cos(phi)**2 + sin(psi)**2*cos(phi)**2*cos(theta)**2 + sin(theta)**2*cos(phi)**2*cos(psi)**2 + cos(phi)**2*cos(psi)**2*cos(theta)**2), (sin(phi)*sin(psi)*sin(theta)**2 + sin(phi)*sin(psi)*cos(theta)**2 + sin(theta)*cos(phi)*cos(psi))/(sin(phi)**2*sin(psi)**2*sin(theta)**2 + sin(phi)**2*sin(psi)**2*cos(theta)**2 + sin(phi)**2*sin(theta)**2*cos(psi)**2 + sin(phi)**2*cos(psi)**2*cos(theta)**2 + sin(psi)**2*sin(theta)**2*cos(phi)**2 + sin(psi)**2*cos(phi)**2*cos(theta)**2 + sin(theta)**2*cos(phi)**2*cos(psi)**2 + cos(phi)**2*cos(psi)**2*cos(theta)**2), -x], [sin(psi)*cos(theta)/(sin(psi)**2*sin(theta)**2 + sin(psi)**2*cos(theta)**2 + sin(theta)**2*cos(psi)**2 + cos(psi)**2*cos(theta)**2), (sin(phi)*sin(psi)*sin(theta) + sin(theta)**2*cos(phi)*cos(psi) + cos(phi)*cos(psi)*cos(theta)**2)/(sin(phi)**2*sin(psi)**2*sin(theta)**2 + sin(phi)**2*sin(psi)**2*cos(theta)**2 + sin(phi)**2*sin(theta)**2*cos(psi)**2 + sin(phi)**2*cos(psi)**2*cos(theta)**2 + sin(psi)**2*sin(theta)**2*cos(phi)**2 + sin(psi)**2*cos(phi)**2*cos(theta)**2 + sin(theta)**2*cos(phi)**2*cos(psi)**2 + cos(phi)**2*cos(psi)**2*cos(theta)**2), (-sin(phi)*sin(theta)**2*cos(psi) - sin(phi)*cos(psi)*cos(theta)**2 + sin(psi)*sin(theta)*cos(phi))/(sin(phi)**2*sin(psi)**2*sin(theta)**2 + sin(phi)**2*sin(psi)**2*cos(theta)**2 + sin(phi)**2*sin(theta)**2*cos(psi)**2 + sin(phi)**2*cos(psi)**2*cos(theta)**2 + sin(psi)**2*sin(theta)**2*cos(phi)**2 + sin(psi)**2*cos(phi)**2*cos(theta)**2 + sin(theta)**2*cos(phi)**2*cos(psi)**2 + cos(phi)**2*cos(psi)**2*cos(theta)**2), -y], [-sin(theta)/(sin(theta)**2 + cos(theta)**2), sin(phi)*cos(theta)/(sin(phi)**2*sin(theta)**2 + sin(phi)**2*cos(theta)**2 + sin(theta)**2*cos(phi)**2 + cos(phi)**2*cos(theta)**2), cos(phi)*cos(theta)/(sin(phi)**2*sin(theta)**2 + sin(phi)**2*cos(theta)**2 + sin(theta)**2*cos(phi)**2 + cos(phi)**2*cos(theta)**2), -z], \n",
    "                      [np.zeros(len(x)), np.zeros(len(x)), np.zeros(len(x)), np.ones(len(x))]])\n",
    "print(np.shape(T_rect_np))\n",
    "test = np.transpose(T_rect_np, (2,0,1))\n",
    "print(test)\n",
    "# test = np.reshape(test, [-1, 4])\n",
    "# print(test)\n",
    "# print(T_rect_np)\n",
    "# print(T_rect_np[0])"
   ]
  },
  {
   "cell_type": "code",
   "execution_count": 935,
   "id": "61583e9a",
   "metadata": {},
   "outputs": [
    {
     "name": "stdout",
     "output_type": "stream",
     "text": [
      "(3, 4, 1)\n",
      "(3, 4, 4)\n",
      "(3, 4, 1)\n",
      "[[[ -1.69575953]\n",
      "  [  0.25482605]\n",
      "  [ -3.58853231]\n",
      "  [  1.        ]]\n",
      "\n",
      " [[  0.6746111 ]\n",
      "  [ -6.03234702]\n",
      "  [-12.41095148]\n",
      "  [  1.        ]]\n",
      "\n",
      " [[  8.1516287 ]\n",
      "  [ -4.04420869]\n",
      "  [ -5.57667941]\n",
      "  [  1.        ]]]\n",
      "[[ -1.69575953]\n",
      " [  0.25482605]\n",
      " [ -3.58853231]\n",
      " [  1.        ]\n",
      " [  0.6746111 ]\n",
      " [ -6.03234702]\n",
      " [-12.41095148]\n",
      " [  1.        ]\n",
      " [  8.1516287 ]\n",
      " [ -4.04420869]\n",
      " [ -5.57667941]\n",
      " [  1.        ]]\n"
     ]
    }
   ],
   "source": [
    "y_j = y_j[:3]\n",
    "if np.shape(y_j)[1] == 3:\n",
    "    y_j = np.append(y_j, np.ones([len(y_j),1]), axis = 1)\n",
    "\n",
    "# y_j_tf = tf.convert_to_tensor(y_j[:,:,None])\n",
    "# test_tf = tf.convert_to_tensor(test)\n",
    "# print(np.shape(y_j_tf))\n",
    "# print(np.shape(test_tf))\n",
    "\n",
    "# ans = y_j_tf * test_tf\n",
    "\n",
    "print(np.shape(y_j[:,:,None]))\n",
    "print(np.shape(test))\n",
    "# ans = y_j[:,:,None] * test\n",
    "ans = test @ y_j[:,:,None]\n",
    "\n",
    "\n",
    "print(np.shape(ans))\n",
    "print(ans)\n",
    "ans = np.reshape(ans, (-1, 1))\n",
    "print(ans)"
   ]
  },
  {
   "cell_type": "code",
   "execution_count": 957,
   "id": "686425f5",
   "metadata": {},
   "outputs": [
    {
     "name": "stdout",
     "output_type": "stream",
     "text": [
      "[PhysicalDevice(name='/physical_device:GPU:0', device_type='GPU')]\n"
     ]
    },
    {
     "data": {
      "text/latex": [
       "$\\displaystyle \\left[\\begin{matrix}0 & \\frac{\\sin{\\left(\\phi \\right)} \\sin{\\left(\\psi \\right)} \\sin^{2}{\\left(\\theta \\right)} + \\sin{\\left(\\phi \\right)} \\sin{\\left(\\psi \\right)} \\cos^{2}{\\left(\\theta \\right)} + \\sin{\\left(\\theta \\right)} \\cos{\\left(\\phi \\right)} \\cos{\\left(\\psi \\right)}}{\\sin^{2}{\\left(\\phi \\right)} \\sin^{2}{\\left(\\psi \\right)} \\sin^{2}{\\left(\\theta \\right)} + \\sin^{2}{\\left(\\phi \\right)} \\sin^{2}{\\left(\\psi \\right)} \\cos^{2}{\\left(\\theta \\right)} + \\sin^{2}{\\left(\\phi \\right)} \\sin^{2}{\\left(\\theta \\right)} \\cos^{2}{\\left(\\psi \\right)} + \\sin^{2}{\\left(\\phi \\right)} \\cos^{2}{\\left(\\psi \\right)} \\cos^{2}{\\left(\\theta \\right)} + \\sin^{2}{\\left(\\psi \\right)} \\sin^{2}{\\left(\\theta \\right)} \\cos^{2}{\\left(\\phi \\right)} + \\sin^{2}{\\left(\\psi \\right)} \\cos^{2}{\\left(\\phi \\right)} \\cos^{2}{\\left(\\theta \\right)} + \\sin^{2}{\\left(\\theta \\right)} \\cos^{2}{\\left(\\phi \\right)} \\cos^{2}{\\left(\\psi \\right)} + \\cos^{2}{\\left(\\phi \\right)} \\cos^{2}{\\left(\\psi \\right)} \\cos^{2}{\\left(\\theta \\right)}} & \\frac{- \\sin{\\left(\\phi \\right)} \\sin{\\left(\\theta \\right)} \\cos{\\left(\\psi \\right)} + \\sin{\\left(\\psi \\right)} \\sin^{2}{\\left(\\theta \\right)} \\cos{\\left(\\phi \\right)} + \\sin{\\left(\\psi \\right)} \\cos{\\left(\\phi \\right)} \\cos^{2}{\\left(\\theta \\right)}}{\\sin^{2}{\\left(\\phi \\right)} \\sin^{2}{\\left(\\psi \\right)} \\sin^{2}{\\left(\\theta \\right)} + \\sin^{2}{\\left(\\phi \\right)} \\sin^{2}{\\left(\\psi \\right)} \\cos^{2}{\\left(\\theta \\right)} + \\sin^{2}{\\left(\\phi \\right)} \\sin^{2}{\\left(\\theta \\right)} \\cos^{2}{\\left(\\psi \\right)} + \\sin^{2}{\\left(\\phi \\right)} \\cos^{2}{\\left(\\psi \\right)} \\cos^{2}{\\left(\\theta \\right)} + \\sin^{2}{\\left(\\psi \\right)} \\sin^{2}{\\left(\\theta \\right)} \\cos^{2}{\\left(\\phi \\right)} + \\sin^{2}{\\left(\\psi \\right)} \\cos^{2}{\\left(\\phi \\right)} \\cos^{2}{\\left(\\theta \\right)} + \\sin^{2}{\\left(\\theta \\right)} \\cos^{2}{\\left(\\phi \\right)} \\cos^{2}{\\left(\\psi \\right)} + \\cos^{2}{\\left(\\phi \\right)} \\cos^{2}{\\left(\\psi \\right)} \\cos^{2}{\\left(\\theta \\right)}} & 0\\\\0 & \\frac{- \\sin{\\left(\\phi \\right)} \\sin^{2}{\\left(\\theta \\right)} \\cos{\\left(\\psi \\right)} - \\sin{\\left(\\phi \\right)} \\cos{\\left(\\psi \\right)} \\cos^{2}{\\left(\\theta \\right)} + \\sin{\\left(\\psi \\right)} \\sin{\\left(\\theta \\right)} \\cos{\\left(\\phi \\right)}}{\\sin^{2}{\\left(\\phi \\right)} \\sin^{2}{\\left(\\psi \\right)} \\sin^{2}{\\left(\\theta \\right)} + \\sin^{2}{\\left(\\phi \\right)} \\sin^{2}{\\left(\\psi \\right)} \\cos^{2}{\\left(\\theta \\right)} + \\sin^{2}{\\left(\\phi \\right)} \\sin^{2}{\\left(\\theta \\right)} \\cos^{2}{\\left(\\psi \\right)} + \\sin^{2}{\\left(\\phi \\right)} \\cos^{2}{\\left(\\psi \\right)} \\cos^{2}{\\left(\\theta \\right)} + \\sin^{2}{\\left(\\psi \\right)} \\sin^{2}{\\left(\\theta \\right)} \\cos^{2}{\\left(\\phi \\right)} + \\sin^{2}{\\left(\\psi \\right)} \\cos^{2}{\\left(\\phi \\right)} \\cos^{2}{\\left(\\theta \\right)} + \\sin^{2}{\\left(\\theta \\right)} \\cos^{2}{\\left(\\phi \\right)} \\cos^{2}{\\left(\\psi \\right)} + \\cos^{2}{\\left(\\phi \\right)} \\cos^{2}{\\left(\\psi \\right)} \\cos^{2}{\\left(\\theta \\right)}} & \\frac{- \\sin{\\left(\\phi \\right)} \\sin{\\left(\\psi \\right)} \\sin{\\left(\\theta \\right)} - \\sin^{2}{\\left(\\theta \\right)} \\cos{\\left(\\phi \\right)} \\cos{\\left(\\psi \\right)} - \\cos{\\left(\\phi \\right)} \\cos{\\left(\\psi \\right)} \\cos^{2}{\\left(\\theta \\right)}}{\\sin^{2}{\\left(\\phi \\right)} \\sin^{2}{\\left(\\psi \\right)} \\sin^{2}{\\left(\\theta \\right)} + \\sin^{2}{\\left(\\phi \\right)} \\sin^{2}{\\left(\\psi \\right)} \\cos^{2}{\\left(\\theta \\right)} + \\sin^{2}{\\left(\\phi \\right)} \\sin^{2}{\\left(\\theta \\right)} \\cos^{2}{\\left(\\psi \\right)} + \\sin^{2}{\\left(\\phi \\right)} \\cos^{2}{\\left(\\psi \\right)} \\cos^{2}{\\left(\\theta \\right)} + \\sin^{2}{\\left(\\psi \\right)} \\sin^{2}{\\left(\\theta \\right)} \\cos^{2}{\\left(\\phi \\right)} + \\sin^{2}{\\left(\\psi \\right)} \\cos^{2}{\\left(\\phi \\right)} \\cos^{2}{\\left(\\theta \\right)} + \\sin^{2}{\\left(\\theta \\right)} \\cos^{2}{\\left(\\phi \\right)} \\cos^{2}{\\left(\\psi \\right)} + \\cos^{2}{\\left(\\phi \\right)} \\cos^{2}{\\left(\\psi \\right)} \\cos^{2}{\\left(\\theta \\right)}} & 0\\\\0 & \\frac{\\cos{\\left(\\phi \\right)} \\cos{\\left(\\theta \\right)}}{\\sin^{2}{\\left(\\phi \\right)} \\sin^{2}{\\left(\\theta \\right)} + \\sin^{2}{\\left(\\phi \\right)} \\cos^{2}{\\left(\\theta \\right)} + \\sin^{2}{\\left(\\theta \\right)} \\cos^{2}{\\left(\\phi \\right)} + \\cos^{2}{\\left(\\phi \\right)} \\cos^{2}{\\left(\\theta \\right)}} & - \\frac{\\sin{\\left(\\phi \\right)} \\cos{\\left(\\theta \\right)}}{\\sin^{2}{\\left(\\phi \\right)} \\sin^{2}{\\left(\\theta \\right)} + \\sin^{2}{\\left(\\phi \\right)} \\cos^{2}{\\left(\\theta \\right)} + \\sin^{2}{\\left(\\theta \\right)} \\cos^{2}{\\left(\\phi \\right)} + \\cos^{2}{\\left(\\phi \\right)} \\cos^{2}{\\left(\\theta \\right)}} & 0\\\\0 & 0 & 0 & 0\\end{matrix}\\right]$"
      ],
      "text/plain": [
       "⎡                                                                             \n",
       "⎢                                                                        sin(φ\n",
       "⎢0  ──────────────────────────────────────────────────────────────────────────\n",
       "⎢      2       2       2         2       2       2         2       2       2  \n",
       "⎢   sin (φ)⋅sin (ψ)⋅sin (θ) + sin (φ)⋅sin (ψ)⋅cos (θ) + sin (φ)⋅sin (θ)⋅cos (ψ\n",
       "⎢                                                                             \n",
       "⎢                                                                             \n",
       "⎢                                                                       - sin(\n",
       "⎢0  ──────────────────────────────────────────────────────────────────────────\n",
       "⎢      2       2       2         2       2       2         2       2       2  \n",
       "⎢   sin (φ)⋅sin (ψ)⋅sin (θ) + sin (φ)⋅sin (ψ)⋅cos (θ) + sin (φ)⋅sin (θ)⋅cos (ψ\n",
       "⎢                                                                             \n",
       "⎢                                                                             \n",
       "⎢0                                                                      ──────\n",
       "⎢                                                                          2  \n",
       "⎢                                                                       sin (φ\n",
       "⎢                                                                             \n",
       "⎣0                                                                            \n",
       "\n",
       "            2                       2                                         \n",
       ")⋅sin(ψ)⋅sin (θ) + sin(φ)⋅sin(ψ)⋅cos (θ) + sin(θ)⋅cos(φ)⋅cos(ψ)               \n",
       "──────────────────────────────────────────────────────────────────────────────\n",
       "       2       2       2         2       2       2         2       2       2  \n",
       ") + sin (φ)⋅cos (ψ)⋅cos (θ) + sin (ψ)⋅sin (θ)⋅cos (φ) + sin (ψ)⋅cos (φ)⋅cos (θ\n",
       "                                                                              \n",
       "      2                              2                                        \n",
       "φ)⋅sin (θ)⋅cos(ψ) - sin(φ)⋅cos(ψ)⋅cos (θ) + sin(ψ)⋅sin(θ)⋅cos(φ)              \n",
       "──────────────────────────────────────────────────────────────────────────────\n",
       "       2       2       2         2       2       2         2       2       2  \n",
       ") + sin (φ)⋅cos (ψ)⋅cos (θ) + sin (ψ)⋅sin (θ)⋅cos (φ) + sin (ψ)⋅cos (φ)⋅cos (θ\n",
       "                                                                              \n",
       "                      cos(φ)⋅cos(θ)                                           \n",
       "───────────────────────────────────────────────────────────────               \n",
       "     2         2       2         2       2         2       2                  \n",
       ")⋅sin (θ) + sin (φ)⋅cos (θ) + sin (θ)⋅cos (φ) + cos (φ)⋅cos (θ)               \n",
       "                                                                              \n",
       "                            0                                                 \n",
       "\n",
       "                                                                              \n",
       "                                                                              \n",
       "─────────────────────────────────────────────────────  ───────────────────────\n",
       "       2       2       2         2       2       2        2       2       2   \n",
       ") + sin (θ)⋅cos (φ)⋅cos (ψ) + cos (φ)⋅cos (ψ)⋅cos (θ)  sin (φ)⋅sin (ψ)⋅sin (θ)\n",
       "                                                                              \n",
       "                                                                              \n",
       "                                                                              \n",
       "─────────────────────────────────────────────────────  ───────────────────────\n",
       "       2       2       2         2       2       2        2       2       2   \n",
       ") + sin (θ)⋅cos (φ)⋅cos (ψ) + cos (φ)⋅cos (ψ)⋅cos (θ)  sin (φ)⋅sin (ψ)⋅sin (θ)\n",
       "                                                                              \n",
       "                                                                              \n",
       "                                                                              \n",
       "                                                                              \n",
       "                                                                              \n",
       "                                                                              \n",
       "                                                                              \n",
       "\n",
       "                                                                              \n",
       "                                             -sin(φ)⋅sin(θ)⋅cos(ψ) + sin(ψ)⋅si\n",
       "──────────────────────────────────────────────────────────────────────────────\n",
       "      2       2       2         2       2       2         2       2       2   \n",
       " + sin (φ)⋅sin (ψ)⋅cos (θ) + sin (φ)⋅sin (θ)⋅cos (ψ) + sin (φ)⋅cos (ψ)⋅cos (θ)\n",
       "                                                                              \n",
       "                                                                        2     \n",
       "                                             -sin(φ)⋅sin(ψ)⋅sin(θ) - sin (θ)⋅c\n",
       "──────────────────────────────────────────────────────────────────────────────\n",
       "      2       2       2         2       2       2         2       2       2   \n",
       " + sin (φ)⋅sin (ψ)⋅cos (θ) + sin (φ)⋅sin (θ)⋅cos (ψ) + sin (φ)⋅cos (ψ)⋅cos (θ)\n",
       "                                                                              \n",
       "                                                                        -sin(φ\n",
       "                                             ─────────────────────────────────\n",
       "                                                2       2         2       2   \n",
       "                                             sin (φ)⋅sin (θ) + sin (φ)⋅cos (θ)\n",
       "                                                                              \n",
       "                                                                              \n",
       "\n",
       " 2                              2                                             \n",
       "n (θ)⋅cos(φ) + sin(ψ)⋅cos(φ)⋅cos (θ)                                          \n",
       "──────────────────────────────────────────────────────────────────────────────\n",
       "      2       2       2         2       2       2         2       2       2   \n",
       " + sin (ψ)⋅sin (θ)⋅cos (φ) + sin (ψ)⋅cos (φ)⋅cos (θ) + sin (θ)⋅cos (φ)⋅cos (ψ)\n",
       "                                                                              \n",
       "                                2                                             \n",
       "os(φ)⋅cos(ψ) - cos(φ)⋅cos(ψ)⋅cos (θ)                                          \n",
       "──────────────────────────────────────────────────────────────────────────────\n",
       "      2       2       2         2       2       2         2       2       2   \n",
       " + sin (ψ)⋅sin (θ)⋅cos (φ) + sin (ψ)⋅cos (φ)⋅cos (θ) + sin (θ)⋅cos (φ)⋅cos (ψ)\n",
       "                                                                              \n",
       ")⋅cos(θ)                                                                      \n",
       "────────────────────────────────────                                          \n",
       "      2       2         2       2                                             \n",
       " + sin (θ)⋅cos (φ) + cos (φ)⋅cos (θ)                                          \n",
       "                                                                              \n",
       " 0                                                                            \n",
       "\n",
       "                             ⎤\n",
       "                             ⎥\n",
       "──────────────────────────  0⎥\n",
       "      2       2       2      ⎥\n",
       " + cos (φ)⋅cos (ψ)⋅cos (θ)   ⎥\n",
       "                             ⎥\n",
       "                             ⎥\n",
       "                             ⎥\n",
       "──────────────────────────  0⎥\n",
       "      2       2       2      ⎥\n",
       " + cos (φ)⋅cos (ψ)⋅cos (θ)   ⎥\n",
       "                             ⎥\n",
       "                             ⎥\n",
       "                            0⎥\n",
       "                             ⎥\n",
       "                             ⎥\n",
       "                             ⎥\n",
       "                            0⎦"
      ]
     },
     "execution_count": 957,
     "metadata": {},
     "output_type": "execute_result"
    }
   ],
   "source": [
    "# diff(T_rect, x)\n",
    "diff(T_rect, phi)\n",
    "\n",
    "# dT_rect_dx = diff(T_rect, x)\n",
    "# pprint(dT_rect_dx)"
   ]
  },
  {
   "cell_type": "code",
   "execution_count": 663,
   "id": "8901c5c1",
   "metadata": {},
   "outputs": [
    {
     "name": "stdout",
     "output_type": "stream",
     "text": [
      "<class 'numpy.ndarray'>\n",
      "\n",
      " [[ 0.  0.  0.  0.]\n",
      " [ 0.  0. -1.  0.]\n",
      " [ 0.  1.  0.  0.]\n",
      " [ 0.  0.  0.  0.]]\n"
     ]
    }
   ],
   "source": [
    "#substitue in values\n",
    "expr = diff(T_rect, phi)\n",
    "# print(expr)\n",
    "# expr = T_rect\n",
    "# print(m_hat)\n",
    "ans = expr.subs([(x, m_hat[0]), \n",
    "                 (y, m_hat[1]),\n",
    "                 (z, m_hat[2]),\n",
    "                 (phi, m_hat[3]),\n",
    "                 (theta, m_hat[4]),\n",
    "                 (psi, m_hat[5])])\n",
    "print(type(np.array(ans)))\n",
    "print(\"\\n\", np.array(ans).astype(np.float64))"
   ]
  },
  {
   "cell_type": "markdown",
   "id": "fa0e613b",
   "metadata": {},
   "source": [
    "# Test rectifying motion distortion usuing SymPy Linalg technique"
   ]
  },
  {
   "cell_type": "code",
   "execution_count": 955,
   "id": "2800abfd",
   "metadata": {
    "scrolled": false
   },
   "outputs": [
    {
     "name": "stdout",
     "output_type": "stream",
     "text": [
      "[PhysicalDevice(name='/physical_device:GPU:0', device_type='GPU')]\n"
     ]
    },
    {
     "data": {
      "application/vnd.jupyter.widget-view+json": {
       "model_id": "f5b001954b4049c0a6b9242c5baa3f5f",
       "version_major": 2,
       "version_minor": 0
      },
      "text/plain": [
       "ViewInteractiveWidget(height=1043, layout=Layout(height='auto', width='100%'), width=1280)"
      ]
     },
     "metadata": {},
     "output_type": "display_data"
    }
   ],
   "source": [
    "from remove_motion_basic import get_H\n",
    "from remove_motion_basic import linear_correction_old as lc \n",
    "\n",
    "m_hat = np.array([3, 0, 0, 0, 0, 0])\n",
    "skip = 1\n",
    "y_j = old_cloud[::skip]\n",
    "y_i = new_cloud[::skip] #has distortion already corrected\n",
    "H = get_H(y_j = y_j, m_hat = m_hat )\n",
    "\n",
    "#plot result\n",
    "plt = Plotter(N = 1, axes = 4, bg = (1, 1, 1), interactive = True)\n",
    "disp=[]\n",
    "disp.append(Points(y_j, c = \"#CB2314\", r=10))\n",
    "disp.append(Points(y_i, c = \"#3F5151\", r=10))\n",
    "plt.show(disp, \"test viz\")\n",
    "ViewInteractiveWidget(plt.window)"
   ]
  },
  {
   "cell_type": "code",
   "execution_count": 956,
   "id": "d85aa48f",
   "metadata": {},
   "outputs": [
    {
     "name": "stdout",
     "output_type": "stream",
     "text": [
      "(72296, 6)\n",
      "72296\n"
     ]
    }
   ],
   "source": [
    "print(np.shape(H))\n",
    "print(np.shape(y_j)[0]*4)"
   ]
  },
  {
   "cell_type": "markdown",
   "id": "04be1237",
   "metadata": {},
   "source": [
    "# Simple Test using pre-rectified point cloud\n",
    "#### (in this example we don't need to worry about iteratively finding correspondences)"
   ]
  },
  {
   "cell_type": "code",
   "execution_count": 753,
   "id": "ea6a5b2e",
   "metadata": {
    "scrolled": true
   },
   "outputs": [
    {
     "name": "stdout",
     "output_type": "stream",
     "text": [
      "~~~~ iteration  0 ~~~~~~~~~~~\n",
      "m_hat =  [0. 0. 0. 0. 0. 0.]\n",
      "(181, 3)\n",
      "(724,)\n",
      "~~~~ iteration  1 ~~~~~~~~~~~\n",
      "m_hat =  [ 1.49453200e+00  2.13243978e-02  1.20762254e-04 -5.77911268e-04\n",
      " -2.26279706e-04  4.27833604e-02]\n",
      "(181, 3)\n",
      "(724,)\n",
      "~~~~ iteration  2 ~~~~~~~~~~~\n",
      "m_hat =  [ 2.18209107e+00  2.75540523e-03 -8.67128012e-04 -7.29990380e-04\n",
      " -6.54331168e-04  4.20907672e-02]\n",
      "(181, 3)\n",
      "(724,)\n",
      "~~~~ iteration  3 ~~~~~~~~~~~\n",
      "m_hat =  [ 2.52489275e+00 -9.15997447e-03 -1.74965108e-03 -6.23135577e-04\n",
      " -7.88707958e-04  3.18724910e-02]\n",
      "(181, 3)\n",
      "(724,)\n",
      "~~~~ iteration  4 ~~~~~~~~~~~\n",
      "m_hat =  [ 2.71106725e+00 -1.31152264e-02 -2.05721004e-03 -4.64593038e-04\n",
      " -7.29326061e-04  2.21123034e-02]\n",
      "(181, 3)\n",
      "(724,)\n",
      "~~~~ iteration  5 ~~~~~~~~~~~\n",
      "m_hat =  [ 2.81902895e+00 -1.27322326e-02 -1.94032594e-03 -3.28564549e-04\n",
      " -5.92573150e-04  1.48042529e-02]\n",
      "(181, 3)\n",
      "(724,)\n",
      "~~~~ iteration  6 ~~~~~~~~~~~\n",
      "m_hat =  [ 2.88435160e+00 -1.06441483e-02 -1.62870457e-03 -2.28363873e-04\n",
      " -4.46230275e-04  9.77044571e-03]\n",
      "(181, 3)\n",
      "(724,)\n",
      "~~~~ iteration  7 ~~~~~~~~~~~\n",
      "m_hat =  [ 2.92488755e+00 -8.23337391e-03 -1.27592041e-03 -1.58664099e-04\n",
      " -3.19777568e-04  6.42521595e-03]\n",
      "(181, 3)\n",
      "(724,)\n",
      "~~~~ iteration  8 ~~~~~~~~~~~\n",
      "m_hat =  [ 2.95040903e+00 -6.08984628e-03 -9.57211405e-04 -1.11126986e-04\n",
      " -2.21281873e-04  4.23942009e-03]\n",
      "(181, 3)\n",
      "(724,)\n",
      "~~~~ iteration  9 ~~~~~~~~~~~\n",
      "m_hat =  [ 2.96660947e+00 -4.39075260e-03 -6.98483538e-04 -7.87976298e-05\n",
      " -1.49088043e-04  2.82310307e-03]\n",
      "(181, 3)\n",
      "(724,)\n",
      "~~~~ iteration  10 ~~~~~~~~~~~\n",
      "m_hat =  [ 2.97694096e+00 -3.12810068e-03 -5.00848276e-04 -5.67154883e-05\n",
      " -9.82107194e-05  1.90926396e-03]\n",
      "(181, 3)\n",
      "(724,)\n",
      "~~~~ iteration  11 ~~~~~~~~~~~\n",
      "m_hat =  [ 2.98354725e+00 -2.22729281e-03 -3.55470092e-04 -4.15328115e-05\n",
      " -6.33095342e-05  1.32091775e-03]\n",
      "(181, 3)\n",
      "(724,)\n",
      "~~~~ iteration  12 ~~~~~~~~~~~\n",
      "m_hat =  [ 2.98777816e+00 -1.60214136e-03 -2.51115790e-04 -3.10260408e-05\n",
      " -3.98255427e-05  9.42556303e-04]\n",
      "(181, 3)\n",
      "(724,)\n",
      "~~~~ iteration  13 ~~~~~~~~~~~\n",
      "m_hat =  [ 2.99049035e+00 -1.17668348e-03 -1.77413849e-04 -2.37157224e-05\n",
      " -2.42479811e-05  6.99376743e-04]\n",
      "(181, 3)\n",
      "(724,)\n",
      "~~~~ iteration  14 ~~~~~~~~~~~\n",
      "m_hat =  [ 2.99223001e+00 -8.91218933e-04 -1.25921239e-04 -1.86084961e-05\n",
      " -1.40266878e-05  5.43128265e-04]\n",
      "(181, 3)\n",
      "(724,)\n",
      "~~~~ iteration  15 ~~~~~~~~~~~\n",
      "m_hat =  [ 2.99334630e+00 -7.01698117e-04 -9.02031710e-05 -1.50299979e-05\n",
      " -7.37664907e-06  4.42750682e-04]\n",
      "(181, 3)\n",
      "(724,)\n",
      "~~~~ iteration  16 ~~~~~~~~~~~\n",
      "m_hat =  [ 2.99406276e+00 -5.76874641e-04 -6.55429217e-05 -1.25177194e-05\n",
      " -3.07946807e-06  3.78270971e-04]\n",
      "(181, 3)\n",
      "(724,)\n",
      "~~~~ iteration  17 ~~~~~~~~~~~\n",
      "m_hat =  [ 2.99452268e+00 -4.95162120e-04 -4.85669457e-05 -1.07517907e-05\n",
      " -3.18255264e-07  3.36852677e-04]\n",
      "(181, 3)\n",
      "(724,)\n",
      "~~~~ iteration  18 ~~~~~~~~~~~\n",
      "m_hat =  [ 2.99481796e+00 -4.41921975e-04 -3.69005721e-05 -9.50958955e-06\n",
      "  1.44751047e-06  3.10248297e-04]\n",
      "(181, 3)\n",
      "(724,)\n",
      "~~~~ iteration  19 ~~~~~~~~~~~\n",
      "m_hat =  [ 2.99500756e+00 -4.07359778e-04 -2.88897136e-05 -8.63547676e-06\n",
      "  2.57192491e-06  2.93159531e-04]\n",
      "(181, 3)\n",
      "(724,)\n",
      "~~~~ iteration  20 ~~~~~~~~~~~\n",
      "m_hat =  [ 2.99512930e+00 -3.84987144e-04 -2.33901222e-05 -8.02030829e-06\n",
      "  3.28515814e-06  2.82182943e-04]\n",
      "(181, 3)\n",
      "(724,)\n",
      "~~~~ iteration  21 ~~~~~~~~~~~\n",
      "m_hat =  [ 2.99520747e+00 -3.70537861e-04 -1.96137427e-05 -7.58739363e-06\n",
      "  3.73589774e-06  2.75132368e-04]\n",
      "(181, 3)\n",
      "(724,)\n",
      "~~~~ iteration  22 ~~~~~~~~~~~\n",
      "m_hat =  [ 2.99525767e+00 -3.61222783e-04 -1.70193110e-05 -7.28278078e-06\n",
      "  4.01970409e-06  2.70603571e-04]\n",
      "(181, 3)\n",
      "(724,)\n",
      "~~~~ iteration  23 ~~~~~~~~~~~\n",
      "m_hat =  [ 2.99528991e+00 -3.55226416e-04 -1.52356369e-05 -7.06848902e-06\n",
      "  4.19772701e-06  2.67694576e-04]\n",
      "(181, 3)\n",
      "(724,)\n",
      "~~~~ iteration  24 ~~~~~~~~~~~\n",
      "m_hat =  [ 2.99531062e+00 -3.51371052e-04 -1.40083384e-05 -6.91777292e-06\n",
      "  4.30894771e-06  2.65826025e-04]\n",
      "(181, 3)\n",
      "(724,)\n"
     ]
    },
    {
     "data": {
      "application/vnd.jupyter.widget-view+json": {
       "model_id": "cc69cc284cf24d61b58cb8ab7565c19f",
       "version_major": 2,
       "version_minor": 0
      },
      "text/plain": [
       "ViewInteractiveWidget(height=1043, layout=Layout(height='auto', width='100%'), width=1280)"
      ]
     },
     "metadata": {},
     "output_type": "display_data"
    }
   ],
   "source": [
    "#assume initial correction factor of 0 for each solution component\n",
    "m_hat = np.array([0., 0, 0, 0, 0, 0])\n",
    "skip = 100 #50\n",
    "y_i = new_cloud[::skip] #baseline\n",
    "y_j = old_cloud[::skip] #distorted cloud\n",
    "# y_j = old_cloud[::skip] + np.array([0, 1., 0.]) #test offset - hurts performance\n",
    "\n",
    "plt = Plotter(N = 1, axes = 4, bg = (1, 1, 1), interactive = True)\n",
    "disp=[]\n",
    "disp.append(Points(y_i[:,:3], c = \"#3F5151\", alpha = (count+1)/(runlen+1), r=10))\n",
    "\n",
    "runlen = 25\n",
    "for count in range(runlen):\n",
    "    \n",
    "    print(\"~~~~ iteration \", count, \"~~~~~~~~~~~\")\n",
    "    print(\"m_hat = \", m_hat)\n",
    "    \n",
    "    #apply last estimate of correction\n",
    "    y_j_undistort = lc(y_j, m_hat)\n",
    "    print(np.shape(y_j_undistort))\n",
    "    \n",
    "    #delta_m =  ((H^T*H)^-1)(H^T)(yi - yj*)\n",
    "    H = get_H(y_j_undistort, m_hat)\n",
    "    residual = (np.append(y_i, np.ones([len(y_i),1]), axis = 1) -\n",
    "                np.append(y_j_undistort, np.ones([len(y_i),1]), axis = 1)).flatten()\n",
    "    \n",
    "    print(np.shape(residual))\n",
    "    delta_m = np.linalg.pinv(H.T @ H) @ H.T @ residual\n",
    "    m_hat[:3] -= delta_m[:3]\n",
    "    m_hat[3:] += delta_m[3:] #TODO: figure out why angles are backwards...    \n",
    "    \n",
    "    #plot updated cloud2\n",
    "#     color = [0.5 + count/(runlen*2), 1 - count/runlen, count/runlen]\n",
    "    disp.append(Points(y_j_undistort[:,:3], c = \"#CB2314\", alpha = (count+1)/(runlen+1), r=10))\n",
    "\n",
    "    \n",
    "plt.show(disp, \"test viz\")\n",
    "ViewInteractiveWidget(plt.window)"
   ]
  },
  {
   "cell_type": "code",
   "execution_count": 719,
   "id": "02648d39",
   "metadata": {},
   "outputs": [
    {
     "name": "stdout",
     "output_type": "stream",
     "text": [
      "[ 3.38350195e+00  9.08477967e-02  5.62851297e-03  2.89060111e-03\n",
      " -1.12482944e-02 -3.13726236e-01]\n"
     ]
    }
   ],
   "source": [
    "print(m_hat)"
   ]
  },
  {
   "cell_type": "code",
   "execution_count": 704,
   "id": "39068244",
   "metadata": {},
   "outputs": [
    {
     "name": "stdout",
     "output_type": "stream",
     "text": [
      "[[1 2]\n",
      " [3 4]]\n",
      "[1 2 3 4]\n"
     ]
    }
   ],
   "source": [
    "a = np.array([[1,2],[3,4]])\n",
    "print(a)\n",
    "print(a.flatten())"
   ]
  },
  {
   "cell_type": "code",
   "execution_count": null,
   "id": "076ca410",
   "metadata": {},
   "outputs": [],
   "source": []
  }
 ],
 "metadata": {
  "kernelspec": {
   "display_name": "Python 3 (ipykernel)",
   "language": "python",
   "name": "python3"
  },
  "language_info": {
   "codemirror_mode": {
    "name": "ipython",
    "version": 3
   },
   "file_extension": ".py",
   "mimetype": "text/x-python",
   "name": "python",
   "nbconvert_exporter": "python",
   "pygments_lexer": "ipython3",
   "version": "3.9.13"
  }
 },
 "nbformat": 4,
 "nbformat_minor": 5
}
