{
 "cells": [
  {
   "cell_type": "code",
   "execution_count": 3,
   "id": "6565d22b",
   "metadata": {},
   "outputs": [
    {
     "name": "stdout",
     "output_type": "stream",
     "text": [
      "[PhysicalDevice(name='/physical_device:GPU:0', device_type='GPU')]\n",
      "The autoreload extension is already loaded. To reload it, use:\n",
      "  %reload_ext autoreload\n"
     ]
    },
    {
     "data": {
      "application/javascript": [
       "IPython.notebook.set_autosave_interval(180000)"
      ]
     },
     "metadata": {},
     "output_type": "display_data"
    },
    {
     "name": "stdout",
     "output_type": "stream",
     "text": [
      "Autosaving every 180 seconds\n"
     ]
    }
   ],
   "source": [
    "from vedo import *\n",
    "import os\n",
    "from ipyvtklink.viewer import ViewInteractiveWidget\n",
    "import pykitti\n",
    "import numpy as np\n",
    "import tensorflow as tf\n",
    "import time\n",
    "import pickle\n",
    "\n",
    "#limit GPU memory ------------------------------------------------\n",
    "gpus = tf.config.experimental.list_physical_devices('GPU')\n",
    "print(gpus)\n",
    "if gpus:\n",
    "  try:\n",
    "    memlim = 4*1024\n",
    "    tf.config.experimental.set_virtual_device_configuration(gpus[0], [tf.config.experimental.VirtualDeviceConfiguration(memory_limit=memlim)])\n",
    "  except RuntimeError as e:\n",
    "    print(e)\n",
    "#-----------------------------------------------------------------\n",
    "\n",
    "from tensorflow.math import sin, cos, tan\n",
    "import tensorflow_probability as tfp\n",
    "import sys\n",
    "current = os.getcwd()\n",
    "parent_directory = os.path.dirname(current)\n",
    "sys.path.append(parent_directory)\n",
    "from ICET_spherical import ICET\n",
    "from utils import R_tf\n",
    "from metpy.calc import lat_lon_grid_deltas\n",
    "from pioneer.das.api.platform import Platform\n",
    "from scipy.spatial.transform import Rotation as R\n",
    "from pioneer.das.api.egomotion.imu_egomotion_provider import IMUEgomotionProvider as emp \n",
    "from matplotlib import pyplot as plt\n",
    "\n",
    "%load_ext autoreload\n",
    "%autoreload 2\n",
    "%autosave 180\n",
    "%matplotlib notebook"
   ]
  },
  {
   "cell_type": "markdown",
   "id": "2f8761e1",
   "metadata": {},
   "source": [
    "# Goal: Estimate acceleration profile $\\hat{m}$ Using Newton-Raphson to compensate for distortion between similar point cloud"
   ]
  },
  {
   "cell_type": "markdown",
   "id": "079dc9f9",
   "metadata": {},
   "source": [
    "Through the first order Taylor approximation we define: \n",
    "\n",
    "$\\mathbf{h}(\\hat{m})$ as the means of voxel centers in cloud $j$ passed through the distortion operator $\\mathbb{C}$ according to estimated motion profile $\\hat{m}$. \n",
    "\n",
    "$\\mathbf{H}$ is the Jacobian of $\\mathbf{h}$, which is multiplied by a linear correction factor $\\delta m$.\n",
    "\n",
    "$    y_i = \\mathbf{h}(\\hat{m}) + \\mathbf{H} \\delta m $\n"
   ]
  },
  {
   "cell_type": "code",
   "execution_count": 226,
   "id": "c689e6bf",
   "metadata": {},
   "outputs": [],
   "source": [
    "#load point cloud\n",
    "# no distortion\n",
    "# old_cloud =  np.load(\"sample_data/paper_figures/case1/raw_frame_0.npy\")\n",
    "# m_hat = np.array([-3., -2., 0., 0., 0., 0.0])\n",
    "\n",
    "# movement in x, y, & yaw\n",
    "old_cloud =  np.load(\"sample_data/paper_figures/case3/raw_frame_1.npy\") \n",
    "m_hat = np.array([3., 1, 0., 0., 0., -1])\n",
    "# gt =  np.load(\"sample_data/paper_figures/case3/base_vel_2.npy\")\n",
    "# print(gt)\n",
    "\n",
    "#downsample\n",
    "old_cloud = old_cloud[::5,:]"
   ]
  },
  {
   "cell_type": "code",
   "execution_count": 227,
   "id": "143f6432",
   "metadata": {},
   "outputs": [],
   "source": [
    "from remove_motion_basic import linear_correction_old as lc \n",
    "\n",
    "new_cloud = lc(old_cloud, m_hat)\n",
    "# undistorted = lc(new_cloud, -m_hat)"
   ]
  },
  {
   "cell_type": "code",
   "execution_count": 228,
   "id": "a5f887a2",
   "metadata": {},
   "outputs": [
    {
     "data": {
      "application/vnd.jupyter.widget-view+json": {
       "model_id": "cb796c0e3a4849a4a98b02cb9cff607c",
       "version_major": 2,
       "version_minor": 0
      },
      "text/plain": [
       "ViewInteractiveWidget(height=1043, layout=Layout(height='auto', width='100%'), width=1280)"
      ]
     },
     "metadata": {},
     "output_type": "display_data"
    }
   ],
   "source": [
    "plt = Plotter(N = 1, axes = 4, bg = (1, 1, 1), interactive = True)\n",
    "disp=[]\n",
    "# disp.append(Points(undistorted, c = \"#CB2314\"))\n",
    "# disp.append(Points(old_cloud, c = \"#3F5151\"))\n",
    "disp.append(Points(new_cloud, c = \"#3F5151\"))\n",
    "plt.show(disp, \"test viz\")\n",
    "ViewInteractiveWidget(plt.window)"
   ]
  },
  {
   "cell_type": "markdown",
   "id": "a9ec0c11",
   "metadata": {},
   "source": [
    "# Analytically calculate derivatives with SymPy"
   ]
  },
  {
   "cell_type": "code",
   "execution_count": 233,
   "id": "9f0b2f4c",
   "metadata": {},
   "outputs": [],
   "source": [
    "from sympy import *\n",
    "\n",
    "x, y, z = symbols('x y z')\n",
    "\n",
    "init_printing(use_unicode=True)"
   ]
  },
  {
   "cell_type": "code",
   "execution_count": 264,
   "id": "54f0caaf",
   "metadata": {},
   "outputs": [
    {
     "name": "stdout",
     "output_type": "stream",
     "text": [
      "-sin(x)\n",
      "Derivative(cos(x), x)\n"
     ]
    }
   ],
   "source": [
    "#sovles for the derivative\n",
    "ans1 = diff(cos(x), x)\n",
    "print(ans1)\n",
    "\n",
    "#creates an unevaluated derivative\n",
    "ans2 = Derivative(cos(x), x)\n",
    "print(ans2)"
   ]
  },
  {
   "cell_type": "code",
   "execution_count": 265,
   "id": "ba8fb85c",
   "metadata": {},
   "outputs": [
    {
     "data": {
      "image/png": "[encoded data removed]",
      "text/latex": [
       "$\\displaystyle - \\frac{8 \\sin^{2}{\\left(x \\right)} \\sin{\\left(\\frac{x}{2} + \\frac{1}{2} \\right)}}{15} - 2 \\sin^{2}{\\left(x \\right)} \\cos{\\left(\\frac{x}{2} + \\frac{1}{2} \\right)} - \\frac{4 \\sin{\\left(x \\right)} \\cos{\\left(x \\right)} \\cos{\\left(\\frac{x}{2} + \\frac{1}{2} \\right)}}{15} + \\frac{8 \\sin{\\left(\\frac{x}{2} + \\frac{1}{2} \\right)} \\cos^{2}{\\left(x \\right)}}{15} - 2 \\cos^{2}{\\left(x \\right)} \\cos{\\left(\\frac{x}{2} + \\frac{1}{2} \\right)}$"
      ],
      "text/plain": [
       "       2       ⎛x   1⎞                                             ⎛x   1⎞    \n",
       "  8⋅sin (x)⋅sin⎜─ + ─⎟                          4⋅sin(x)⋅cos(x)⋅cos⎜─ + ─⎟   8\n",
       "               ⎝2   2⎠        2       ⎛x   1⎞                      ⎝2   2⎠    \n",
       "- ──────────────────── - 2⋅sin (x)⋅cos⎜─ + ─⎟ - ────────────────────────── + ─\n",
       "           15                         ⎝2   2⎠               15                \n",
       "\n",
       "    ⎛x   1⎞    2                          \n",
       "⋅sin⎜─ + ─⎟⋅cos (x)                       \n",
       "    ⎝2   2⎠                2       ⎛x   1⎞\n",
       "─────────────────── - 2⋅cos (x)⋅cos⎜─ + ─⎟\n",
       "        15                         ⎝2   2⎠"
      ]
     },
     "execution_count": 265,
     "metadata": {},
     "output_type": "execute_result"
    }
   ],
   "source": [
    "ans3 = integrate(sin((x+1)/2)*(cos(x)-sin(x))**2, x)\n",
    "# print(latex(ans3)) #-> converts to LaTeX so I don't have to re-copy everything \n",
    "\n",
    "integrate(sin((x+1)/2)*(cos(x)-sin(x))**2, x)\n"
   ]
  },
  {
   "cell_type": "code",
   "execution_count": 270,
   "id": "90a0f1ed",
   "metadata": {},
   "outputs": [
    {
     "data": {
      "text/latex": [
       "$\\displaystyle \\left[\\begin{matrix}7 x & 4 x^{2} + 2 x\\\\6 x^{2} + 3 x & \\frac{16 x^{3}}{3} + 6 x\\end{matrix}\\right]$"
      ],
      "text/plain": [
       "⎡               2       ⎤\n",
       "⎢   7⋅x      4⋅x  + 2⋅x ⎥\n",
       "⎢                       ⎥\n",
       "⎢                3      ⎥\n",
       "⎢   2        16⋅x       ⎥\n",
       "⎢6⋅x  + 3⋅x  ───── + 6⋅x⎥\n",
       "⎣              3        ⎦"
      ]
     },
     "execution_count": 270,
     "metadata": {},
     "output_type": "execute_result"
    }
   ],
   "source": [
    "a = Matrix([[1, 2], \n",
    "            [3, 4*x]])\n",
    "# A = integrate(a**2)\n",
    "# print(latex(A))\n",
    "integrate(a**2)"
   ]
  },
  {
   "cell_type": "code",
   "execution_count": null,
   "id": "e4c76cae",
   "metadata": {},
   "outputs": [],
   "source": []
  },
  {
   "cell_type": "markdown",
   "id": "912a2cd0",
   "metadata": {},
   "source": []
  }
 ],
 "metadata": {
  "kernelspec": {
   "display_name": "Python 3 (ipykernel)",
   "language": "python",
   "name": "python3"
  },
  "language_info": {
   "codemirror_mode": {
    "name": "ipython",
    "version": 3
   },
   "file_extension": ".py",
   "mimetype": "text/x-python",
   "name": "python",
   "nbconvert_exporter": "python",
   "pygments_lexer": "ipython3",
   "version": "3.9.13"
  }
 },
 "nbformat": 4,
 "nbformat_minor": 5
}
