{
 "cells": [
  {
   "cell_type": "code",
   "execution_count": 1,
   "id": "89042def",
   "metadata": {},
   "outputs": [
    {
     "name": "stderr",
     "output_type": "stream",
     "text": [
      "2023-04-19 13:21:11.697886: I tensorflow/core/platform/cpu_feature_guard.cc:193] This TensorFlow binary is optimized with oneAPI Deep Neural Network Library (oneDNN) to use the following CPU instructions in performance-critical operations:  AVX2 FMA\n",
      "To enable them in other operations, rebuild TensorFlow with the appropriate compiler flags.\n",
      "2023-04-19 13:21:12.326764: E tensorflow/stream_executor/cuda/cuda_blas.cc:2981] Unable to register cuBLAS factory: Attempting to register factory for plugin cuBLAS when one has already been registered\n",
      "2023-04-19 13:21:13.472771: W tensorflow/stream_executor/platform/default/dso_loader.cc:64] Could not load dynamic library 'libnvinfer.so.7'; dlerror: libnvinfer.so.7: cannot open shared object file: No such file or directory; LD_LIBRARY_PATH: /home/derm/anaconda3/envs/py39/lib/python3.9/site-packages/cv2/../../lib64:\n",
      "2023-04-19 13:21:13.472866: W tensorflow/stream_executor/platform/default/dso_loader.cc:64] Could not load dynamic library 'libnvinfer_plugin.so.7'; dlerror: libnvinfer_plugin.so.7: cannot open shared object file: No such file or directory; LD_LIBRARY_PATH: /home/derm/anaconda3/envs/py39/lib/python3.9/site-packages/cv2/../../lib64:\n",
      "2023-04-19 13:21:13.472874: W tensorflow/compiler/tf2tensorrt/utils/py_utils.cc:38] TF-TRT Warning: Cannot dlopen some TensorRT libraries. If you would like to use Nvidia GPU with TensorRT, please make sure the missing libraries mentioned above are installed properly.\n",
      "2023-04-19 13:21:14.938510: I tensorflow/stream_executor/cuda/cuda_gpu_executor.cc:980] successful NUMA node read from SysFS had negative value (-1), but there must be at least one NUMA node, so returning NUMA node zero\n",
      "2023-04-19 13:21:15.055186: I tensorflow/stream_executor/cuda/cuda_gpu_executor.cc:980] successful NUMA node read from SysFS had negative value (-1), but there must be at least one NUMA node, so returning NUMA node zero\n",
      "2023-04-19 13:21:15.055507: I tensorflow/stream_executor/cuda/cuda_gpu_executor.cc:980] successful NUMA node read from SysFS had negative value (-1), but there must be at least one NUMA node, so returning NUMA node zero\n"
     ]
    },
    {
     "name": "stdout",
     "output_type": "stream",
     "text": [
      "[PhysicalDevice(name='/physical_device:GPU:0', device_type='GPU')]\n"
     ]
    },
    {
     "name": "stderr",
     "output_type": "stream",
     "text": [
      "2023-04-19 13:21:15.405826: I tensorflow/core/platform/cpu_feature_guard.cc:193] This TensorFlow binary is optimized with oneAPI Deep Neural Network Library (oneDNN) to use the following CPU instructions in performance-critical operations:  AVX2 FMA\n",
      "To enable them in other operations, rebuild TensorFlow with the appropriate compiler flags.\n",
      "2023-04-19 13:21:15.407477: I tensorflow/stream_executor/cuda/cuda_gpu_executor.cc:980] successful NUMA node read from SysFS had negative value (-1), but there must be at least one NUMA node, so returning NUMA node zero\n",
      "2023-04-19 13:21:15.407772: I tensorflow/stream_executor/cuda/cuda_gpu_executor.cc:980] successful NUMA node read from SysFS had negative value (-1), but there must be at least one NUMA node, so returning NUMA node zero\n",
      "2023-04-19 13:21:15.407979: I tensorflow/stream_executor/cuda/cuda_gpu_executor.cc:980] successful NUMA node read from SysFS had negative value (-1), but there must be at least one NUMA node, so returning NUMA node zero\n",
      "2023-04-19 13:21:16.376511: I tensorflow/stream_executor/cuda/cuda_gpu_executor.cc:980] successful NUMA node read from SysFS had negative value (-1), but there must be at least one NUMA node, so returning NUMA node zero\n",
      "2023-04-19 13:21:16.376792: I tensorflow/stream_executor/cuda/cuda_gpu_executor.cc:980] successful NUMA node read from SysFS had negative value (-1), but there must be at least one NUMA node, so returning NUMA node zero\n",
      "2023-04-19 13:21:16.377027: I tensorflow/stream_executor/cuda/cuda_gpu_executor.cc:980] successful NUMA node read from SysFS had negative value (-1), but there must be at least one NUMA node, so returning NUMA node zero\n",
      "2023-04-19 13:21:16.377178: I tensorflow/core/common_runtime/gpu/gpu_device.cc:1616] Created device /job:localhost/replica:0/task:0/device:GPU:0 with 4096 MB memory:  -> device: 0, name: NVIDIA GeForce RTX 3090, pci bus id: 0000:07:00.0, compute capability: 8.6\n"
     ]
    },
    {
     "name": "stdout",
     "output_type": "stream",
     "text": [
      "Jupyter environment detected. Enabling Open3D WebVisualizer.\n",
      "[Open3D INFO] WebRTC GUI backend enabled.\n",
      "[Open3D INFO] WebRTCWindowSystem: HTTP handshake server disabled.\n"
     ]
    },
    {
     "data": {
      "application/javascript": [
       "IPython.notebook.set_autosave_interval(180000)"
      ]
     },
     "metadata": {},
     "output_type": "display_data"
    },
    {
     "name": "stdout",
     "output_type": "stream",
     "text": [
      "Autosaving every 180 seconds\n"
     ]
    }
   ],
   "source": [
    "from vedo import *\n",
    "import os\n",
    "from ipyvtklink.viewer import ViewInteractiveWidget\n",
    "import pykitti\n",
    "import numpy as np\n",
    "import tensorflow as tf\n",
    "import time\n",
    "import pickle\n",
    "\n",
    "#limit GPU memory ------------------------------------------------\n",
    "gpus = tf.config.experimental.list_physical_devices('GPU')\n",
    "print(gpus)\n",
    "if gpus:\n",
    "  try:\n",
    "    memlim = 4*1024\n",
    "    tf.config.experimental.set_virtual_device_configuration(gpus[0], [tf.config.experimental.VirtualDeviceConfiguration(memory_limit=memlim)])\n",
    "  except RuntimeError as e:\n",
    "    print(e)\n",
    "#-----------------------------------------------------------------\n",
    "\n",
    "from tensorflow.math import sin, cos, tan\n",
    "import tensorflow_probability as tfp\n",
    "import sys\n",
    "current = os.getcwd()\n",
    "parent_directory = os.path.dirname(current)\n",
    "sys.path.append(parent_directory)\n",
    "from ICET_spherical import ICET\n",
    "from utils import *\n",
    "from metpy.calc import lat_lon_grid_deltas\n",
    "from pioneer.das.api.platform import Platform\n",
    "from scipy.spatial.transform import Rotation as R\n",
    "from pioneer.das.api.egomotion.imu_egomotion_provider import IMUEgomotionProvider as emp \n",
    "from matplotlib import pyplot as plt\n",
    "\n",
    "%load_ext autoreload\n",
    "%autoreload 2\n",
    "%autosave 180\n",
    "%matplotlib notebook"
   ]
  },
  {
   "cell_type": "markdown",
   "id": "68afb097",
   "metadata": {},
   "source": [
    "# Goal: Estimate acceleration profile $\\hat{m}$ Using Newton-Raphson to compensate for distortion between similar point cloud"
   ]
  },
  {
   "cell_type": "markdown",
   "id": "e27a2deb",
   "metadata": {},
   "source": [
    "Through the first order Taylor approximation we define: \n",
    "\n",
    "$\\mathbf{h}(\\hat{m})$ as the means of voxel centers in cloud $j$ passed through the distortion operator $\\mathbb{C}$ according to estimated motion profile $\\hat{m}$. \n",
    "\n",
    "$\\mathbf{H}$ is the Jacobian of $\\mathbf{h}$, which is multiplied by a linear correction factor $\\delta m$.\n",
    "\n",
    "$    y_i = \\mathbf{h}(\\hat{m}) + \\mathbf{H} \\delta m $\n"
   ]
  },
  {
   "cell_type": "code",
   "execution_count": 90,
   "id": "a120a44a",
   "metadata": {},
   "outputs": [],
   "source": [
    "#load point cloud\n",
    "# no distortion\n",
    "# old_cloud =  np.load(\"sample_data/paper_figures/case1/raw_frame_0.npy\")\n",
    "# m_hat = np.array([-3., -2., 0., 0., 0., 0.0])\n",
    "\n",
    "# # movement in x\n",
    "# old_cloud =  np.load(\"sample_data/paper_figures/case2/raw_frame_3.npy\") \n",
    "# m_hat = np.array([3, 0, 0., 0., 0., 0])\n",
    "# # m_hat = np.array([3, 0, 0., 0., 0., -0.2]) #FOR DEBUG-- deform just a little\n",
    "# gt =  np.load(\"sample_data/paper_figures/case2/base_vel_2.npy\")\n",
    "\n",
    "# movement in x, y, & yaw\n",
    "old_cloud =  np.load(\"sample_data/paper_figures/case3/raw_frame_1.npy\") \n",
    "m_hat = np.array([3, -1, 0., 0., 0., -1])\n",
    "gt =  np.load(\"sample_data/paper_figures/case3/base_vel_2.npy\")\n",
    "# print(gt) \n",
    "\n",
    "# period_lidar = 1\n",
    "# t_scale = (2*np.pi)/(-m_hat[-1] + (2*np.pi/period_lidar))\n",
    "# print(t_scale)\n",
    "# m_hat = m_hat*t_scale\n",
    "# # m_hat[-1] = m_hat[-1]*t_scaled\n",
    "# print(m_hat)\n",
    "\n",
    "\n",
    "#downsample\n",
    "old_cloud = old_cloud[::5,:]"
   ]
  },
  {
   "cell_type": "code",
   "execution_count": 91,
   "id": "50cf50be",
   "metadata": {},
   "outputs": [],
   "source": [
    "from remove_motion_basic import linear_correction_old as lc \n",
    "\n",
    "new_cloud = lc(old_cloud, m_hat)\n",
    "# undistorted = lc(new_cloud, -m_hat)"
   ]
  },
  {
   "cell_type": "code",
   "execution_count": 92,
   "id": "d9a01d62",
   "metadata": {},
   "outputs": [
    {
     "data": {
      "application/vnd.jupyter.widget-view+json": {
       "model_id": "386965778d4949cdba5e9ba035f3ad99",
       "version_major": 2,
       "version_minor": 0
      },
      "text/plain": [
       "ViewInteractiveWidget(height=1043, layout=Layout(height='auto', width='100%'), width=1280)"
      ]
     },
     "metadata": {},
     "output_type": "display_data"
    }
   ],
   "source": [
    "plt = Plotter(N = 1, axes = 4, bg = (1, 1, 1), interactive = True)\n",
    "disp=[]\n",
    "# disp.append(Points(undistorted, c = \"#CB2314\"))\n",
    "# disp.append(Points(old_cloud, c = \"#CB2314\"))\n",
    "disp.append(Points(new_cloud, c = \"#3F5151\"))\n",
    "plt.show(disp, \"test viz\")\n",
    "ViewInteractiveWidget(plt.window)"
   ]
  },
  {
   "cell_type": "markdown",
   "id": "13c2554d",
   "metadata": {},
   "source": [
    "# Analytically calculating derivatives with SymPy"
   ]
  },
  {
   "cell_type": "code",
   "execution_count": 211,
   "id": "cb1f585f",
   "metadata": {},
   "outputs": [],
   "source": [
    "from sympy import *\n",
    "\n",
    "x, y, z = symbols('x y z')\n",
    "\n",
    "init_printing(use_unicode=True)"
   ]
  },
  {
   "cell_type": "code",
   "execution_count": 212,
   "id": "e37a7643",
   "metadata": {},
   "outputs": [
    {
     "name": "stdout",
     "output_type": "stream",
     "text": [
      "-sin(x)\n",
      "Derivative(cos(x), x)\n"
     ]
    }
   ],
   "source": [
    "#sovles for the derivative\n",
    "ans1 = diff(cos(x), x)\n",
    "print(ans1)\n",
    "\n",
    "#creates an unevaluated derivative\n",
    "ans2 = Derivative(cos(x), x)\n",
    "print(ans2)"
   ]
  },
  {
   "cell_type": "code",
   "execution_count": 213,
   "id": "2aac426d",
   "metadata": {},
   "outputs": [
    {
     "data": {
      "image/png": "[encoded data removed]",
      "text/latex": [
       "$\\displaystyle - \\frac{8 \\sin^{2}{\\left(x \\right)} \\sin{\\left(\\frac{x}{2} + \\frac{1}{2} \\right)}}{15} - 2 \\sin^{2}{\\left(x \\right)} \\cos{\\left(\\frac{x}{2} + \\frac{1}{2} \\right)} - \\frac{4 \\sin{\\left(x \\right)} \\cos{\\left(x \\right)} \\cos{\\left(\\frac{x}{2} + \\frac{1}{2} \\right)}}{15} + \\frac{8 \\sin{\\left(\\frac{x}{2} + \\frac{1}{2} \\right)} \\cos^{2}{\\left(x \\right)}}{15} - 2 \\cos^{2}{\\left(x \\right)} \\cos{\\left(\\frac{x}{2} + \\frac{1}{2} \\right)}$"
      ],
      "text/plain": [
       "       2       ⎛x   1⎞                                             ⎛x   1⎞    \n",
       "  8⋅sin (x)⋅sin⎜─ + ─⎟                          4⋅sin(x)⋅cos(x)⋅cos⎜─ + ─⎟   8\n",
       "               ⎝2   2⎠        2       ⎛x   1⎞                      ⎝2   2⎠    \n",
       "- ──────────────────── - 2⋅sin (x)⋅cos⎜─ + ─⎟ - ────────────────────────── + ─\n",
       "           15                         ⎝2   2⎠               15                \n",
       "\n",
       "    ⎛x   1⎞    2                          \n",
       "⋅sin⎜─ + ─⎟⋅cos (x)                       \n",
       "    ⎝2   2⎠                2       ⎛x   1⎞\n",
       "─────────────────── - 2⋅cos (x)⋅cos⎜─ + ─⎟\n",
       "        15                         ⎝2   2⎠"
      ]
     },
     "execution_count": 213,
     "metadata": {},
     "output_type": "execute_result"
    }
   ],
   "source": [
    "ans3 = integrate(sin((x+1)/2)*(cos(x)-sin(x))**2, x)\n",
    "# print(latex(ans3)) #-> converts to LaTeX so I don't have to re-copy everything \n",
    "\n",
    "integrate(sin((x+1)/2)*(cos(x)-sin(x))**2, x)\n"
   ]
  },
  {
   "cell_type": "code",
   "execution_count": 214,
   "id": "cf003a30",
   "metadata": {},
   "outputs": [
    {
     "data": {
      "text/latex": [
       "$\\displaystyle \\left[\\begin{matrix}\\frac{100 x^{3}}{3} + 6 x & 14 x^{2}\\\\21 x^{2} & \\frac{16 x^{3}}{3} + 6 x\\end{matrix}\\right]$"
      ],
      "text/plain": [
       "⎡     3                   ⎤\n",
       "⎢100⋅x                2   ⎥\n",
       "⎢────── + 6⋅x     14⋅x    ⎥\n",
       "⎢  3                      ⎥\n",
       "⎢                         ⎥\n",
       "⎢                  3      ⎥\n",
       "⎢       2      16⋅x       ⎥\n",
       "⎢   21⋅x       ───── + 6⋅x⎥\n",
       "⎣                3        ⎦"
      ]
     },
     "execution_count": 214,
     "metadata": {},
     "output_type": "execute_result"
    }
   ],
   "source": [
    "a = Matrix([[10*x, 2], \n",
    "            [3, 4*x]])\n",
    "# A = integrate(a**2)\n",
    "# print(latex(A))\n",
    "integrate(a**2)"
   ]
  },
  {
   "cell_type": "code",
   "execution_count": 215,
   "id": "a05cf548",
   "metadata": {},
   "outputs": [
    {
     "data": {
      "text/latex": [
       "$\\displaystyle \\left[\\begin{matrix}0 & 0\\\\6 x & 0\\end{matrix}\\right]$"
      ],
      "text/plain": [
       "⎡ 0   0⎤\n",
       "⎢      ⎥\n",
       "⎣6⋅x  0⎦"
      ]
     },
     "execution_count": 215,
     "metadata": {},
     "output_type": "execute_result"
    }
   ],
   "source": [
    "b = Matrix([[x + 1, 2*y],\n",
    "            [3*x**2*y, 3 + x + y**2]])\n",
    "diff(b, y, x)"
   ]
  },
  {
   "cell_type": "markdown",
   "id": "618b6559",
   "metadata": {},
   "source": [
    "# Derive Jacobain H"
   ]
  },
  {
   "cell_type": "markdown",
   "id": "0a735bbc",
   "metadata": {},
   "source": [
    "### $\\mathbf{H} \\in \\mathbb{R}^{4N \\times 6} $\n",
    "\n",
    "### $\\mathbf{H} = \n",
    "\\begin{bmatrix}\n",
    "^{(n)}H_{x} ~ ^{(n)}H_{y} ~ ^{(n)}H_{z} ~ ^{(n)}H_{\\phi} ~ ^{(n)}H_{\\theta} ~ ^{(n)}H_{\\psi}\n",
    "\\end{bmatrix}$\n",
    "\n",
    "### $ ^{(n)}\\mathbf{H}_x =  \\frac{\\delta{\\mathbb{C}}}{\\delta x} ~ ^{(n)}y_j \\in \\mathbb{R}^{4 \\times 1}$\n",
    "\n",
    "### Here $^{(n)}y_j$ refers to distribution mean from scan j inside voxel n, denoted in homogenous coordinates\n",
    "\n",
    "$[x, y, z] \\rightarrow [x, y, z, 1] $ \n",
    "\n",
    "<!-- <span style=\"color:red\"> TODO: figure out if I need to use homogeneous coordinates for $y_j$ </span> -->"
   ]
  },
  {
   "cell_type": "markdown",
   "id": "17dd0287",
   "metadata": {},
   "source": [
    "# Calculate correction  function $\\mathbf{C}$ "
   ]
  },
  {
   "cell_type": "markdown",
   "id": "f289cf03",
   "metadata": {},
   "source": [
    "## $\\mathbf{C}(\\hat{m}) = T_{\\text{rect}}(M(\\hat{m})) \\in \\mathbb{R}^{4 \\times 4} $\n",
    "\n",
    "Here, the rectifying transformation $T_{\\text{rect}}$ for each point in $y_j$ depends on scaled values of $\\hat{m}$ which are concatenated to form matrix $M$. Since points are stored in the order they are recieved and are somewhat even spread throughout the scene, we can approximate $M$ through a simple linspace matrix without needing to transform to a spherical representation. $t_{\\text{scale}}$ is a scaling parameter to normalize the turn rate of the sensor in the presence of composite yaw rotation.\n",
    "\n",
    "## $\n",
    "M = \\bigg{(} \\{ r: r = t_{\\text{scale}} \\frac{p}{P}, p \\in \\{ 0, 1, ..., P \\} \\} \\bigg{)} \\hat{m}\n",
    "\\in \\mathbb{R}^{P \\times 6}\n",
    "% \\begin{bmatrix}\n",
    "% 1 & 1 & 1 & 1 \n",
    "% \\end{bmatrix}\n",
    "$\n",
    "\n",
    "## $t_{\\text{scale}} = \\frac{2\\pi}{-\\psi + \\omega_{\\text{LIDAR}} } $ \n"
   ]
  },
  {
   "cell_type": "markdown",
   "id": "4411222e",
   "metadata": {},
   "source": [
    "My old way of \"unwinding\" was acomplished by converting the point cloud to spherical coordinates, rescaling the yaw angle, and then converting back to Cartesian \n",
    "\n",
    "<!-- ## $y_{j, \\text{unwound}} =\n",
    "\\text{s2c} \\bigg{(} \\text{c2s}(y_{j})\n",
    "\\begin{bmatrix}\n",
    "    1 & 0 & 0 \\\\\n",
    "    0 & 1 & 0 \\\\\n",
    "    0 & 0 & \\psi_{\\text{rect}}\n",
    "\\end{bmatrix} \\bigg{)}$\n",
    " -->\n",
    "Unfortunately, c2s() is a nonlinear operation so it makes things a little tricky when we need to do everything via linear algebra\n",
    "\n",
    "<!-- ## $ \\text{c2s}(y_j) = \n",
    "\\begin{bmatrix}\n",
    "x_1 & y_1 & z_1 \\\\\n",
    "x_2 & y_2 & z_2 \\\\\n",
    " & \\vdots &\n",
    "\\end{bmatrix}\n",
    "\\rightarrow\n",
    "\\begin{bmatrix}\n",
    "r_1 & \\phi_1 & \\theta_1 \\\\\n",
    "r_2 & \\phi_2 & \\theta_2 \\\\\n",
    "r_3 & \\phi_3 & \\theta_3\n",
    "\\end{bmatrix}\n",
    "$\n",
    " -->\n",
    "<!-- ### GPT:\n",
    "lol it really got this wro\n",
    "\n",
    "$ ^{(n)}y_j = \\begin{bmatrix}\n",
    "x \\\\\n",
    "y \\\\\n",
    "z\n",
    "\\end{bmatrix}\n",
    "$\n",
    "\n",
    "$ B = \\begin{bmatrix}\n",
    "\\text{sin}(\\theta) ~ \\text{cos}(\\phi) & \\text{cos}(\\theta) ~ \\text{cos}(\\phi) & -\\text{sin}(\\phi) \\\\\n",
    "\\text{sin}(\\theta)\\text{sin}(\\phi) & \\text{cos}(\\theta)\\text{sin}(\\phi) & \\text{cos}(\\phi) \\\\\n",
    "\\text{cos}(\\theta) & -\\text{sin}(\\theta) & 0\n",
    "\\end{bmatrix}\n",
    "$\n",
    "\n",
    "$B ~ ^{(n)}y_j = ^{(n)}y_{j, \\text{spherical}} $ -->\n",
    "\n",
    "\n",
    "<!-- Putting everything together:\n",
    "\n",
    " $\n",
    "\\mathbb{C}(y_j, \\hat{m}) =\n",
    "M ~ T_{\\text{rect}} \\bigg{[} \\text{s2c} \\bigg{(} \\text{c2s}(y_{j})\n",
    "\\begin{bmatrix}\n",
    "    1 & 0 & 0 \\\\\n",
    "    0 & 1 & 0 \\\\\n",
    "    0 & 0 & \\psi_{\\text{rect}}\n",
    "\\end{bmatrix} \\bigg{)},\n",
    "\\begin{bmatrix}\n",
    "    1 \\\\\n",
    "    \\vdots \n",
    "\\end{bmatrix}\n",
    "\\bigg{]}^T$\n",
    " -->"
   ]
  },
  {
   "cell_type": "code",
   "execution_count": 216,
   "id": "39211bc6",
   "metadata": {},
   "outputs": [
    {
     "name": "stdout",
     "output_type": "stream",
     "text": [
      "(6,)\n"
     ]
    }
   ],
   "source": [
    "period_lidar = 1\n",
    "m_hat = np.array([3, 0, 0., 0., 0., -0.5])\n",
    "t_scale = (2*np.pi)/(-m_hat[-1] + (2*np.pi/period_lidar))\n",
    "# print(t_scale)\n",
    "lsvec = np.linspace(0,t_scale, 100)\n",
    "\n",
    "print(np.shape(m_hat))\n",
    "M = m_hat * np.array([lsvec, lsvec, lsvec, lsvec, lsvec, lsvec]).T\n",
    "# print(np.shape(M))\n",
    "# print(M)"
   ]
  },
  {
   "cell_type": "markdown",
   "id": "938cb598",
   "metadata": {},
   "source": [
    "## Get transform $T_{\\text{rect}}$"
   ]
  },
  {
   "cell_type": "code",
   "execution_count": 217,
   "id": "1679236d",
   "metadata": {},
   "outputs": [
    {
     "name": "stdout",
     "output_type": "stream",
     "text": [
      "T_rect =\n"
     ]
    },
    {
     "data": {
      "text/latex": [
       "$\\displaystyle \\left[\\begin{matrix}\\cos{\\left(\\psi \\right)} \\cos{\\left(\\theta \\right)} & \\sin{\\left(\\psi \\right)} \\cos{\\left(\\theta \\right)} & - \\sin{\\left(\\theta \\right)} & x \\cos{\\left(\\psi \\right)} \\cos{\\left(\\theta \\right)} + y \\sin{\\left(\\psi \\right)} \\cos{\\left(\\theta \\right)} - z \\sin{\\left(\\theta \\right)}\\\\\\sin{\\left(\\phi \\right)} \\sin{\\left(\\theta \\right)} \\cos{\\left(\\psi \\right)} - \\sin{\\left(\\psi \\right)} \\cos{\\left(\\phi \\right)} & \\sin{\\left(\\phi \\right)} \\sin{\\left(\\psi \\right)} \\sin{\\left(\\theta \\right)} + \\cos{\\left(\\phi \\right)} \\cos{\\left(\\psi \\right)} & \\sin{\\left(\\phi \\right)} \\cos{\\left(\\theta \\right)} & x \\left(\\sin{\\left(\\phi \\right)} \\sin{\\left(\\theta \\right)} \\cos{\\left(\\psi \\right)} - \\sin{\\left(\\psi \\right)} \\cos{\\left(\\phi \\right)}\\right) + y \\left(\\sin{\\left(\\phi \\right)} \\sin{\\left(\\psi \\right)} \\sin{\\left(\\theta \\right)} + \\cos{\\left(\\phi \\right)} \\cos{\\left(\\psi \\right)}\\right) + z \\sin{\\left(\\phi \\right)} \\cos{\\left(\\theta \\right)}\\\\\\sin{\\left(\\phi \\right)} \\sin{\\left(\\psi \\right)} + \\sin{\\left(\\theta \\right)} \\cos{\\left(\\phi \\right)} \\cos{\\left(\\psi \\right)} & - \\sin{\\left(\\phi \\right)} \\cos{\\left(\\psi \\right)} + \\sin{\\left(\\psi \\right)} \\sin{\\left(\\theta \\right)} \\cos{\\left(\\phi \\right)} & \\cos{\\left(\\phi \\right)} \\cos{\\left(\\theta \\right)} & x \\left(\\sin{\\left(\\phi \\right)} \\sin{\\left(\\psi \\right)} + \\sin{\\left(\\theta \\right)} \\cos{\\left(\\phi \\right)} \\cos{\\left(\\psi \\right)}\\right) + y \\left(- \\sin{\\left(\\phi \\right)} \\cos{\\left(\\psi \\right)} + \\sin{\\left(\\psi \\right)} \\sin{\\left(\\theta \\right)} \\cos{\\left(\\phi \\right)}\\right) + z \\cos{\\left(\\phi \\right)} \\cos{\\left(\\theta \\right)}\\\\0 & 0 & 0 & 1\\end{matrix}\\right]$"
      ],
      "text/plain": [
       "⎡           cos(ψ)⋅cos(θ)                          sin(ψ)⋅cos(θ)              \n",
       "⎢                                                                             \n",
       "⎢sin(φ)⋅sin(θ)⋅cos(ψ) - sin(ψ)⋅cos(φ)  sin(φ)⋅sin(ψ)⋅sin(θ) + cos(φ)⋅cos(ψ)   \n",
       "⎢                                                                             \n",
       "⎢sin(φ)⋅sin(ψ) + sin(θ)⋅cos(φ)⋅cos(ψ)  -sin(φ)⋅cos(ψ) + sin(ψ)⋅sin(θ)⋅cos(φ)  \n",
       "⎢                                                                             \n",
       "⎣                 0                                      0                    \n",
       "\n",
       "   -sin(θ)                                  x⋅cos(ψ)⋅cos(θ) + y⋅sin(ψ)⋅cos(θ) \n",
       "                                                                              \n",
       "sin(φ)⋅cos(θ)  x⋅(sin(φ)⋅sin(θ)⋅cos(ψ) - sin(ψ)⋅cos(φ)) + y⋅(sin(φ)⋅sin(ψ)⋅sin\n",
       "                                                                              \n",
       "cos(φ)⋅cos(θ)  x⋅(sin(φ)⋅sin(ψ) + sin(θ)⋅cos(φ)⋅cos(ψ)) + y⋅(-sin(φ)⋅cos(ψ) + \n",
       "                                                                              \n",
       "      0                                                          1            \n",
       "\n",
       "- z⋅sin(θ)                             ⎤\n",
       "                                       ⎥\n",
       "(θ) + cos(φ)⋅cos(ψ)) + z⋅sin(φ)⋅cos(θ) ⎥\n",
       "                                       ⎥\n",
       "sin(ψ)⋅sin(θ)⋅cos(φ)) + z⋅cos(φ)⋅cos(θ)⎥\n",
       "                                       ⎥\n",
       "                                       ⎦"
      ]
     },
     "execution_count": 217,
     "metadata": {},
     "output_type": "execute_result"
    }
   ],
   "source": [
    "x, y, z, phi, theta, psi = symbols('x y z phi theta psi')\n",
    "# m_hat = Matrix([x, y, z, phi, theta, phi]).T\n",
    "m_hat = np.array([1,2,3,0.4,0.5,0.6])\n",
    "# print( \"m_hat = \", pretty(m_hat))\n",
    "\n",
    "T_roll = Matrix([[1, 0, 0, 0],\n",
    "                 [0, cos(phi), sin(phi), 0],\n",
    "                 [0, -sin(phi), cos(phi), 0],\n",
    "                 [0, 0, 0, 1]])\n",
    "# print(\"\\n T_roll =\") \n",
    "# print(pretty(T_roll))\n",
    "\n",
    "T_pitch = Matrix([[cos(theta), 0, -sin(theta), 0],\n",
    "                 [0, 1, 0, 0],\n",
    "                 [sin(theta), 0, cos(theta), 0],\n",
    "                 [0, 0, 0, 1]])\n",
    "# print(\"\\n T_pitch =\") \n",
    "# print(pretty(T_pitch))\n",
    "\n",
    "#Recall we are setting T_yaw to identity here since scan axis-aligned motion is already compensated for\n",
    "T_yaw = Matrix([[cos(psi), sin(psi), 0, 0],\n",
    "                 [-sin(psi), cos(psi), 0, 0],\n",
    "                 [0, 0, 1, 0],\n",
    "                 [0, 0, 0, 1]])\n",
    "# print(\"\\n T_yaw =\") \n",
    "# print(pretty(T_yaw))\n",
    "\n",
    "T_trans = Matrix([[1, 0, 0, x],\n",
    "                 [0, 1, 0, y],\n",
    "                 [0, 0, 1, z],\n",
    "                 [0, 0, 0, 1]])\n",
    "# print(\"\\n T_trans =\") \n",
    "# print(pretty(T_trans))\n",
    "\n",
    "T_rect = (T_roll * T_pitch * T_yaw * T_trans)\n",
    "# T_rect = (T_roll * T_pitch * T_yaw * T_trans).inv()\n",
    "print(\"T_rect =\")\n",
    "T_rect"
   ]
  },
  {
   "cell_type": "code",
   "execution_count": 221,
   "id": "95dd8a00",
   "metadata": {},
   "outputs": [
    {
     "data": {
      "text/latex": [
       "$\\displaystyle \\left[\\begin{matrix}\\cos{\\left(\\psi \\right)} \\cos{\\left(\\theta \\right)} & \\sin{\\left(\\psi \\right)} \\cos{\\left(\\theta \\right)} & - \\sin{\\left(\\theta \\right)} & x \\cos{\\left(\\psi \\right)} \\cos{\\left(\\theta \\right)} + y \\sin{\\left(\\psi \\right)} \\cos{\\left(\\theta \\right)} - z \\sin{\\left(\\theta \\right)}\\\\\\sin{\\left(\\phi \\right)} \\sin{\\left(\\theta \\right)} \\cos{\\left(\\psi \\right)} - \\sin{\\left(\\psi \\right)} \\cos{\\left(\\phi \\right)} & \\sin{\\left(\\phi \\right)} \\sin{\\left(\\psi \\right)} \\sin{\\left(\\theta \\right)} + \\cos{\\left(\\phi \\right)} \\cos{\\left(\\psi \\right)} & \\sin{\\left(\\phi \\right)} \\cos{\\left(\\theta \\right)} & x \\left(\\sin{\\left(\\phi \\right)} \\sin{\\left(\\theta \\right)} \\cos{\\left(\\psi \\right)} - \\sin{\\left(\\psi \\right)} \\cos{\\left(\\phi \\right)}\\right) + y \\left(\\sin{\\left(\\phi \\right)} \\sin{\\left(\\psi \\right)} \\sin{\\left(\\theta \\right)} + \\cos{\\left(\\phi \\right)} \\cos{\\left(\\psi \\right)}\\right) + z \\sin{\\left(\\phi \\right)} \\cos{\\left(\\theta \\right)}\\\\\\sin{\\left(\\phi \\right)} \\sin{\\left(\\psi \\right)} + \\sin{\\left(\\theta \\right)} \\cos{\\left(\\phi \\right)} \\cos{\\left(\\psi \\right)} & - \\sin{\\left(\\phi \\right)} \\cos{\\left(\\psi \\right)} + \\sin{\\left(\\psi \\right)} \\sin{\\left(\\theta \\right)} \\cos{\\left(\\phi \\right)} & \\cos{\\left(\\phi \\right)} \\cos{\\left(\\theta \\right)} & x \\left(\\sin{\\left(\\phi \\right)} \\sin{\\left(\\psi \\right)} + \\sin{\\left(\\theta \\right)} \\cos{\\left(\\phi \\right)} \\cos{\\left(\\psi \\right)}\\right) - y \\left(\\sin{\\left(\\phi \\right)} \\cos{\\left(\\psi \\right)} - \\sin{\\left(\\psi \\right)} \\sin{\\left(\\theta \\right)} \\cos{\\left(\\phi \\right)}\\right) + z \\cos{\\left(\\phi \\right)} \\cos{\\left(\\theta \\right)}\\\\0 & 0 & 0 & 1\\end{matrix}\\right]$"
      ],
      "text/plain": [
       "⎡           cos(ψ)⋅cos(θ)                          sin(ψ)⋅cos(θ)              \n",
       "⎢                                                                             \n",
       "⎢sin(φ)⋅sin(θ)⋅cos(ψ) - sin(ψ)⋅cos(φ)  sin(φ)⋅sin(ψ)⋅sin(θ) + cos(φ)⋅cos(ψ)   \n",
       "⎢                                                                             \n",
       "⎢sin(φ)⋅sin(ψ) + sin(θ)⋅cos(φ)⋅cos(ψ)  -sin(φ)⋅cos(ψ) + sin(ψ)⋅sin(θ)⋅cos(φ)  \n",
       "⎢                                                                             \n",
       "⎣                 0                                      0                    \n",
       "\n",
       "   -sin(θ)                                 x⋅cos(ψ)⋅cos(θ) + y⋅sin(ψ)⋅cos(θ) -\n",
       "                                                                              \n",
       "sin(φ)⋅cos(θ)  x⋅(sin(φ)⋅sin(θ)⋅cos(ψ) - sin(ψ)⋅cos(φ)) + y⋅(sin(φ)⋅sin(ψ)⋅sin\n",
       "                                                                              \n",
       "cos(φ)⋅cos(θ)  x⋅(sin(φ)⋅sin(ψ) + sin(θ)⋅cos(φ)⋅cos(ψ)) - y⋅(sin(φ)⋅cos(ψ) - s\n",
       "                                                                              \n",
       "      0                                                          1            \n",
       "\n",
       " z⋅sin(θ)                             ⎤\n",
       "                                      ⎥\n",
       "(θ) + cos(φ)⋅cos(ψ)) + z⋅sin(φ)⋅cos(θ)⎥\n",
       "                                      ⎥\n",
       "in(ψ)⋅sin(θ)⋅cos(φ)) + z⋅cos(φ)⋅cos(θ)⎥\n",
       "                                      ⎥\n",
       "                                      ⎦"
      ]
     },
     "execution_count": 221,
     "metadata": {},
     "output_type": "execute_result"
    }
   ],
   "source": [
    "#try simplifying T_rect before takiking derivatives!\n",
    "T_rect = simplify(T_rect)\n",
    "T_rect\n",
    "# print(latex(T_rect))\n",
    "# print(T_rect)"
   ]
  },
  {
   "cell_type": "code",
   "execution_count": 111,
   "id": "8f8e1f9f",
   "metadata": {},
   "outputs": [
    {
     "data": {
      "text/latex": [
       "$\\displaystyle \\left[\\begin{matrix}- \\sin{\\left(\\theta \\right)} \\cos{\\left(\\psi \\right)} & \\sin{\\left(\\phi \\right)} \\cos{\\left(\\psi \\right)} \\cos{\\left(\\theta \\right)} & \\cos{\\left(\\phi \\right)} \\cos{\\left(\\psi \\right)} \\cos{\\left(\\theta \\right)} & 0\\\\- \\sin{\\left(\\psi \\right)} \\sin{\\left(\\theta \\right)} & \\sin{\\left(\\phi \\right)} \\sin{\\left(\\psi \\right)} \\cos{\\left(\\theta \\right)} & \\sin{\\left(\\psi \\right)} \\cos{\\left(\\phi \\right)} \\cos{\\left(\\theta \\right)} & 0\\\\- \\cos{\\left(\\theta \\right)} & - \\sin{\\left(\\phi \\right)} \\sin{\\left(\\theta \\right)} & - \\sin{\\left(\\theta \\right)} \\cos{\\left(\\phi \\right)} & 0\\\\0 & 0 & 0 & 0\\end{matrix}\\right]$"
      ],
      "text/plain": [
       "⎡-sin(θ)⋅cos(ψ)  sin(φ)⋅cos(ψ)⋅cos(θ)  cos(φ)⋅cos(ψ)⋅cos(θ)  0⎤\n",
       "⎢                                                             ⎥\n",
       "⎢-sin(ψ)⋅sin(θ)  sin(φ)⋅sin(ψ)⋅cos(θ)  sin(ψ)⋅cos(φ)⋅cos(θ)  0⎥\n",
       "⎢                                                             ⎥\n",
       "⎢   -cos(θ)         -sin(φ)⋅sin(θ)        -sin(θ)⋅cos(φ)     0⎥\n",
       "⎢                                                             ⎥\n",
       "⎣      0                  0                     0            0⎦"
      ]
     },
     "execution_count": 111,
     "metadata": {},
     "output_type": "execute_result"
    }
   ],
   "source": [
    "# print(diff(T_rect, x))\n",
    "# diff(T_rect,y)\n",
    "# print(diff(T_rect, z))\n",
    "# print(diff(T_rect, psi))\n",
    "# diff(T_rect, phi)\n",
    "diff(T_rect, theta)\n",
    "# print(diff(T_rect, theta))\n",
    "# print(latex(diff(T_rect, phi)))"
   ]
  },
  {
   "cell_type": "code",
   "execution_count": 24,
   "id": "4d5489a9",
   "metadata": {},
   "outputs": [],
   "source": [
    "# # print(T_rect) # -> take printed output and convert to numpy array\n",
    "\n",
    "# # from tensorflow.math import sin, cos\n",
    "# from numpy import sin, cos\n",
    "\n",
    "# x = np.array([1,2,3])#[:,None]\n",
    "# y = np.array([1,2,3])#[:,None]\n",
    "# z = np.array([1,2,3])#[:,None]\n",
    "# phi = np.array([1,2,3])#[:,None]\n",
    "# theta = np.array([1,2,3])#[:,None]\n",
    "# psi = np.array([1,2,3])#[:,None]\n",
    "# test = np.array([cos(x) * cos(y) / sin(phi), cos(x) * cos(y) / sin(phi)])\n",
    "# print(np.shape(test))\n",
    "# print(test)\n",
    "\n",
    "# T_rect_np = np.array([[cos(psi)*cos(theta)/(sin(psi)**2*sin(theta)**2 + sin(psi)**2*cos(theta)**2 + sin(theta)**2*cos(psi)**2 + cos(psi)**2*cos(theta)**2), (sin(phi)*sin(theta)*cos(psi) - sin(psi)*sin(theta)**2*cos(phi) - sin(psi)*cos(phi)*cos(theta)**2)/(sin(phi)**2*sin(psi)**2*sin(theta)**2 + sin(phi)**2*sin(psi)**2*cos(theta)**2 + sin(phi)**2*sin(theta)**2*cos(psi)**2 + sin(phi)**2*cos(psi)**2*cos(theta)**2 + sin(psi)**2*sin(theta)**2*cos(phi)**2 + sin(psi)**2*cos(phi)**2*cos(theta)**2 + sin(theta)**2*cos(phi)**2*cos(psi)**2 + cos(phi)**2*cos(psi)**2*cos(theta)**2), (sin(phi)*sin(psi)*sin(theta)**2 + sin(phi)*sin(psi)*cos(theta)**2 + sin(theta)*cos(phi)*cos(psi))/(sin(phi)**2*sin(psi)**2*sin(theta)**2 + sin(phi)**2*sin(psi)**2*cos(theta)**2 + sin(phi)**2*sin(theta)**2*cos(psi)**2 + sin(phi)**2*cos(psi)**2*cos(theta)**2 + sin(psi)**2*sin(theta)**2*cos(phi)**2 + sin(psi)**2*cos(phi)**2*cos(theta)**2 + sin(theta)**2*cos(phi)**2*cos(psi)**2 + cos(phi)**2*cos(psi)**2*cos(theta)**2), -x], [sin(psi)*cos(theta)/(sin(psi)**2*sin(theta)**2 + sin(psi)**2*cos(theta)**2 + sin(theta)**2*cos(psi)**2 + cos(psi)**2*cos(theta)**2), (sin(phi)*sin(psi)*sin(theta) + sin(theta)**2*cos(phi)*cos(psi) + cos(phi)*cos(psi)*cos(theta)**2)/(sin(phi)**2*sin(psi)**2*sin(theta)**2 + sin(phi)**2*sin(psi)**2*cos(theta)**2 + sin(phi)**2*sin(theta)**2*cos(psi)**2 + sin(phi)**2*cos(psi)**2*cos(theta)**2 + sin(psi)**2*sin(theta)**2*cos(phi)**2 + sin(psi)**2*cos(phi)**2*cos(theta)**2 + sin(theta)**2*cos(phi)**2*cos(psi)**2 + cos(phi)**2*cos(psi)**2*cos(theta)**2), (-sin(phi)*sin(theta)**2*cos(psi) - sin(phi)*cos(psi)*cos(theta)**2 + sin(psi)*sin(theta)*cos(phi))/(sin(phi)**2*sin(psi)**2*sin(theta)**2 + sin(phi)**2*sin(psi)**2*cos(theta)**2 + sin(phi)**2*sin(theta)**2*cos(psi)**2 + sin(phi)**2*cos(psi)**2*cos(theta)**2 + sin(psi)**2*sin(theta)**2*cos(phi)**2 + sin(psi)**2*cos(phi)**2*cos(theta)**2 + sin(theta)**2*cos(phi)**2*cos(psi)**2 + cos(phi)**2*cos(psi)**2*cos(theta)**2), -y], [-sin(theta)/(sin(theta)**2 + cos(theta)**2), sin(phi)*cos(theta)/(sin(phi)**2*sin(theta)**2 + sin(phi)**2*cos(theta)**2 + sin(theta)**2*cos(phi)**2 + cos(phi)**2*cos(theta)**2), cos(phi)*cos(theta)/(sin(phi)**2*sin(theta)**2 + sin(phi)**2*cos(theta)**2 + sin(theta)**2*cos(phi)**2 + cos(phi)**2*cos(theta)**2), -z], \n",
    "#                       [np.zeros(len(x)), np.zeros(len(x)), np.zeros(len(x)), np.ones(len(x))]])\n",
    "# print(np.shape(T_rect_np))\n",
    "# test = np.transpose(T_rect_np, (2,0,1))\n",
    "# print(test)"
   ]
  },
  {
   "cell_type": "code",
   "execution_count": 14,
   "id": "16141b9d",
   "metadata": {},
   "outputs": [],
   "source": [
    "# y_j = y_j[:3]\n",
    "# if np.shape(y_j)[1] == 3:\n",
    "#     y_j = np.append(y_j, np.ones([len(y_j),1]), axis = 1)\n",
    "\n",
    "# # y_j_tf = tf.convert_to_tensor(y_j[:,:,None])\n",
    "# # test_tf = tf.convert_to_tensor(test)\n",
    "# # print(np.shape(y_j_tf))\n",
    "# # print(np.shape(test_tf))\n",
    "\n",
    "# # ans = y_j_tf * test_tf\n",
    "\n",
    "# print(np.shape(y_j[:,:,None]))\n",
    "# print(np.shape(test))\n",
    "# # ans = y_j[:,:,None] * test\n",
    "# ans = test @ y_j[:,:,None]\n",
    "\n",
    "\n",
    "# print(np.shape(ans))\n",
    "# print(ans)\n",
    "# ans = np.reshape(ans, (-1, 1))\n",
    "# print(ans)"
   ]
  },
  {
   "cell_type": "code",
   "execution_count": 99,
   "id": "686425f5",
   "metadata": {},
   "outputs": [
    {
     "data": {
      "text/latex": [
       "$\\displaystyle \\left[\\begin{matrix}0 & \\sin{\\left(\\phi \\right)} \\sin{\\left(\\psi \\right)} + \\sin{\\left(\\theta \\right)} \\cos{\\left(\\phi \\right)} \\cos{\\left(\\psi \\right)} & - \\sin{\\left(\\phi \\right)} \\sin{\\left(\\theta \\right)} \\cos{\\left(\\psi \\right)} + \\sin{\\left(\\psi \\right)} \\cos{\\left(\\phi \\right)} & 0\\\\0 & - \\sin{\\left(\\phi \\right)} \\cos{\\left(\\psi \\right)} + \\sin{\\left(\\psi \\right)} \\sin{\\left(\\theta \\right)} \\cos{\\left(\\phi \\right)} & - \\sin{\\left(\\phi \\right)} \\sin{\\left(\\psi \\right)} \\sin{\\left(\\theta \\right)} - \\cos{\\left(\\phi \\right)} \\cos{\\left(\\psi \\right)} & 0\\\\0 & \\cos{\\left(\\phi \\right)} \\cos{\\left(\\theta \\right)} & - \\sin{\\left(\\phi \\right)} \\cos{\\left(\\theta \\right)} & 0\\\\0 & 0 & 0 & 0\\end{matrix}\\right]$"
      ],
      "text/plain": [
       "⎡0  sin(φ)⋅sin(ψ) + sin(θ)⋅cos(φ)⋅cos(ψ)   -sin(φ)⋅sin(θ)⋅cos(ψ) + sin(ψ)⋅cos(\n",
       "⎢                                                                             \n",
       "⎢0  -sin(φ)⋅cos(ψ) + sin(ψ)⋅sin(θ)⋅cos(φ)  -sin(φ)⋅sin(ψ)⋅sin(θ) - cos(φ)⋅cos(\n",
       "⎢                                                                             \n",
       "⎢0              cos(φ)⋅cos(θ)                         -sin(φ)⋅cos(θ)          \n",
       "⎢                                                                             \n",
       "⎣0                    0                                      0                \n",
       "\n",
       "φ)  0⎤\n",
       "     ⎥\n",
       "ψ)  0⎥\n",
       "     ⎥\n",
       "    0⎥\n",
       "     ⎥\n",
       "    0⎦"
      ]
     },
     "execution_count": 99,
     "metadata": {},
     "output_type": "execute_result"
    }
   ],
   "source": [
    "# diff(T_rect, x)\n",
    "diff(T_rect, phi)\n",
    "\n",
    "# dT_rect_dx = diff(T_rect, x)\n",
    "# pprint(dT_rect_dx)"
   ]
  },
  {
   "cell_type": "code",
   "execution_count": 16,
   "id": "8901c5c1",
   "metadata": {},
   "outputs": [
    {
     "name": "stdout",
     "output_type": "stream",
     "text": [
      "<class 'numpy.ndarray'>\n",
      "\n",
      " [[ 0.          0.58433397  0.36598239  0.        ]\n",
      " [ 0.         -0.07206591 -0.86560155  0.        ]\n",
      " [ 0.          0.80830707 -0.34174675  0.        ]\n",
      " [ 0.          0.          0.          0.        ]]\n"
     ]
    }
   ],
   "source": [
    "#substitue in values\n",
    "expr = diff(T_rect, phi)\n",
    "# print(expr)\n",
    "# expr = T_rect\n",
    "# print(m_hat)\n",
    "ans = expr.subs([(x, m_hat[0]), \n",
    "                 (y, m_hat[1]),\n",
    "                 (z, m_hat[2]),\n",
    "                 (phi, m_hat[3]),\n",
    "                 (theta, m_hat[4]),\n",
    "                 (psi, m_hat[5])])\n",
    "print(type(np.array(ans)))\n",
    "print(\"\\n\", np.array(ans).astype(np.float64))"
   ]
  },
  {
   "cell_type": "markdown",
   "id": "bdad51e8",
   "metadata": {},
   "source": [
    "# Test rectifying motion distortion usuing SymPy Linalg technique"
   ]
  },
  {
   "cell_type": "code",
   "execution_count": 95,
   "id": "d94129f1",
   "metadata": {
    "scrolled": false
   },
   "outputs": [
    {
     "data": {
      "application/vnd.jupyter.widget-view+json": {
       "model_id": "6499d805e2eb4d449015d2bb33fab53a",
       "version_major": 2,
       "version_minor": 0
      },
      "text/plain": [
       "ViewInteractiveWidget(height=1043, layout=Layout(height='auto', width='100%'), width=1280)"
      ]
     },
     "metadata": {},
     "output_type": "display_data"
    }
   ],
   "source": [
    "from remove_motion_basic import get_H\n",
    "from remove_motion_basic import linear_correction_old as lc \n",
    "\n",
    "m_hat = np.array([3, 0, 0, 0, 0, 0])\n",
    "skip = 1\n",
    "y_j = old_cloud[::skip]\n",
    "# y_j = old_cloud[::skip] + np.array([0.5, 0.5, 0.]) #test offset - hurts performance but doesn't cause anything to explode\n",
    "y_i = new_cloud[::skip] #has distortion already corrected\n",
    "\n",
    "# #remove ground plane\n",
    "# y_i = y_i[y_i[:,2] > -1]\n",
    "# y_j = y_j[y_j[:,2] > -1]\n",
    "\n",
    "H = get_H(y_j = y_j, m_hat = m_hat )\n",
    "\n",
    "#plot result\n",
    "plt = Plotter(N = 1, axes = 4, bg = (1, 1, 1), interactive = True)\n",
    "disp=[]\n",
    "disp.append(Points(y_i, c = \"#CB2314\", r=3.5))\n",
    "disp.append(Points(y_j, c = \"#3F5151\", r=3.5))\n",
    "plt.show(disp, \"test viz\")\n",
    "ViewInteractiveWidget(plt.window)"
   ]
  },
  {
   "cell_type": "code",
   "execution_count": 87,
   "id": "1be507d5",
   "metadata": {},
   "outputs": [
    {
     "name": "stdout",
     "output_type": "stream",
     "text": [
      "(66256, 6)\n",
      "66256\n"
     ]
    }
   ],
   "source": [
    "print(np.shape(H))\n",
    "print(np.shape(y_j)[0]*4)"
   ]
  },
  {
   "cell_type": "markdown",
   "id": "5be8a4d8",
   "metadata": {},
   "source": [
    "# Simple Test using pre-rectified point cloud\n",
    "#### in this example we don't need to worry about iteratively finding correspondences\n",
    "(y_i and y_j are the same length and are ordered accordingly) "
   ]
  },
  {
   "cell_type": "code",
   "execution_count": 222,
   "id": "97ebdff8",
   "metadata": {
    "scrolled": true
   },
   "outputs": [
    {
     "name": "stdout",
     "output_type": "stream",
     "text": [
      "~~~~ iteration  0 ~~~~~~~~~~~\n",
      "m_hat =  [0. 0. 0. 0. 0. 0.]\n",
      "(16564, 3)\n",
      "residual (66256,)\n",
      "~~~~ iteration  1 ~~~~~~~~~~~\n",
      "m_hat =  [-0.34599979 -0.45758962  0.00315352 -0.00617179 -0.01010173 -0.39338193]\n",
      "(16564, 3)\n",
      "residual (66256,)\n",
      "~~~~ iteration  2 ~~~~~~~~~~~\n",
      "m_hat =  [-5.21549169e-02 -1.13094770e+00  7.33291572e-04 -1.56620805e-03\n",
      " -1.44139027e-02 -6.04915934e-01]\n",
      "(16564, 3)\n",
      "residual (66256,)\n",
      "~~~~ iteration  3 ~~~~~~~~~~~\n",
      "m_hat =  [ 0.49513983 -1.56394438  0.00167887  0.00308795 -0.01433306 -0.7192103 ]\n",
      "(16564, 3)\n",
      "residual (66256,)\n",
      "~~~~ iteration  4 ~~~~~~~~~~~\n",
      "m_hat =  [ 1.07761083 -1.76336648  0.00527027  0.00596725 -0.01239772 -0.78969595]\n",
      "(16564, 3)\n",
      "residual (66256,)\n",
      "~~~~ iteration  5 ~~~~~~~~~~~\n",
      "m_hat =  [ 1.58916269 -1.80149588  0.00949982  0.00733402 -0.00997579 -0.83877971]\n",
      "(16564, 3)\n",
      "residual (66256,)\n",
      "~~~~ iteration  6 ~~~~~~~~~~~\n",
      "m_hat =  [ 1.99732988 -1.74510936  0.01309584  0.0076637  -0.00766931 -0.87570496]\n",
      "(16564, 3)\n",
      "residual (66256,)\n",
      "~~~~ iteration  7 ~~~~~~~~~~~\n",
      "m_hat =  [ 2.30461584 -1.64321929  0.01552593  0.00735208 -0.00570276 -0.90453154]\n",
      "(16564, 3)\n",
      "residual (66256,)\n",
      "~~~~ iteration  8 ~~~~~~~~~~~\n",
      "m_hat =  [ 2.52683481 -1.52761276  0.01672574  0.0066846  -0.00412555 -0.92728365]\n",
      "(16564, 3)\n",
      "residual (66256,)\n",
      "~~~~ iteration  9 ~~~~~~~~~~~\n",
      "m_hat =  [ 2.68273344 -1.41668684  0.01686556  0.00585435 -0.00291119 -0.94518225]\n",
      "(16564, 3)\n",
      "residual (66256,)\n"
     ]
    },
    {
     "data": {
      "application/vnd.jupyter.widget-view+json": {
       "model_id": "4c9cbb71bb3746b7a8d9c3a7bd28042b",
       "version_major": 2,
       "version_minor": 0
      },
      "text/plain": [
       "ViewInteractiveWidget(height=1043, layout=Layout(height='auto', width='100%'), width=1280)"
      ]
     },
     "metadata": {},
     "output_type": "display_data"
    }
   ],
   "source": [
    "#assume initial correction factor of 0 for each solution component\n",
    "m_hat = np.array([0., 0, 0, 0, 0, 0])\n",
    "skip = 1 #50\n",
    "y_i = new_cloud[::skip] #baseline\n",
    "y_j = old_cloud[::skip] #distorted cloud\n",
    "# y_j = old_cloud[::skip] + np.array([0.5, 0.5, 0.]) #test offset - hurts performance but doesn't cause anything to explode\n",
    "\n",
    "# #add noise \n",
    "# noise_scale = 0.01\n",
    "# y_i += np.random.randn(np.shape(y_i)[0],np.shape(y_i)[1])*noise_scale \n",
    "# y_j += np.random.randn(np.shape(y_j)[0],np.shape(y_j)[1])*noise_scale \n",
    "\n",
    "plt = Plotter(N = 1, axes = 4, bg = (1, 1, 1), interactive = True)\n",
    "disp=[]\n",
    "disp.append(Points(y_i[:,:3], c = \"#2c7c94 \", alpha = 1, r=3.5))\n",
    "\n",
    "runlen = 10\n",
    "for count in range(runlen):\n",
    "    \n",
    "    print(\"~~~~ iteration \", count, \"~~~~~~~~~~~\")\n",
    "    print(\"m_hat = \", m_hat)\n",
    "    \n",
    "    #apply last estimate of correction\n",
    "    y_j_undistort = lc(y_j, m_hat)\n",
    "    print(np.shape(y_j_undistort))\n",
    "    \n",
    "    #delta_m =  ((H^T*H)^-1)(H^T)(yi - yj*)\n",
    "    H = get_H(y_j_undistort, m_hat)\n",
    "    residual = (np.append(y_i, np.ones([len(y_i),1]), axis = 1) -\n",
    "                np.append(y_j_undistort, np.ones([len(y_i),1]), axis = 1)).flatten()\n",
    "    print(\"residual\", np.shape(residual))\n",
    "    delta_m = np.linalg.pinv(H.T @ H) @ H.T @ residual\n",
    "    m_hat[:3] -= delta_m[:3]\n",
    "    m_hat[3:] += delta_m[3:] #TODO: figure out why angles are backwards...    \n",
    "    \n",
    "    #plot updated cloud2\n",
    "#     color = [0.5 + count/(runlen*2), 1 - count/runlen, count/runlen]\n",
    "    disp.append(Points(y_j_undistort[:,:3], c = \"#a65852 \", alpha = (count+1)/(runlen+1), r=3.5))\n",
    "\n",
    "    \n",
    "plt.show(disp, \"test viz\")\n",
    "ViewInteractiveWidget(plt.window)"
   ]
  },
  {
   "cell_type": "markdown",
   "id": "83ab424c",
   "metadata": {},
   "source": [
    "# Test using spherical voxels to form distributions"
   ]
  },
  {
   "cell_type": "code",
   "execution_count": 225,
   "id": "1cc01fa9",
   "metadata": {
    "scrolled": true
   },
   "outputs": [
    {
     "name": "stdout",
     "output_type": "stream",
     "text": [
      "~~~~~~~~~~~Iteration  0 ~~~~~~~~~~\n",
      "took 0.01632523536682129 sec  to apply motion profile\n",
      "took 0.0007874965667724609 sec to get H\n",
      "m_hat:  [ 8.02512281e-03  4.51408699e-03  5.46537864e-04 -2.13453968e-05\n",
      " -1.87310623e-04 -1.07727960e-01]\n",
      "~~~~~~~~~~~Iteration  1 ~~~~~~~~~~\n",
      "took 0.015578031539916992 sec  to apply motion profile\n",
      "took 0.0008263587951660156 sec to get H\n",
      "m_hat:  [-2.05413252e-03 -4.01571393e-01  8.93145858e-04 -4.27311643e-05\n",
      " -3.07635841e-04 -2.30820239e-01]\n",
      "~~~~~~~~~~~Iteration  2 ~~~~~~~~~~\n",
      "took 0.0156404972076416 sec  to apply motion profile\n",
      "took 0.0017690658569335938 sec to get H\n",
      "m_hat:  [-1.09390169e-01 -5.24780095e-01  1.15157315e-03 -6.26153269e-05\n",
      " -4.34882240e-04 -3.79357994e-01]\n",
      "~~~~~~~~~~~Iteration  3 ~~~~~~~~~~\n",
      "took 0.016193628311157227 sec  to apply motion profile\n",
      "took 0.0008654594421386719 sec to get H\n",
      "m_hat:  [-1.71261862e-01 -6.24436975e-01  1.38334441e-03 -4.58920586e-05\n",
      " -4.32478904e-04 -4.95440066e-01]\n",
      "~~~~~~~~~~~Iteration  4 ~~~~~~~~~~\n",
      "took 0.015751361846923828 sec  to apply motion profile\n",
      "took 0.0008161067962646484 sec to get H\n",
      "m_hat:  [-1.59185231e-01 -6.96968436e-01  1.46710116e-03 -1.32476089e-05\n",
      " -4.14730224e-04 -5.84628344e-01]\n",
      "~~~~~~~~~~~Iteration  5 ~~~~~~~~~~\n",
      "took 0.015148162841796875 sec  to apply motion profile\n",
      "took 0.0008108615875244141 sec to get H\n",
      "m_hat:  [-9.61902291e-02 -7.94024646e-01  1.57886581e-03  2.38057437e-05\n",
      " -3.54935968e-04 -6.52065873e-01]\n",
      "~~~~~~~~~~~Iteration  6 ~~~~~~~~~~\n",
      "took 0.016160964965820312 sec  to apply motion profile\n",
      "took 0.0008640289306640625 sec to get H\n",
      "m_hat:  [ 6.39193505e-03 -9.00195301e-01  1.68315764e-03  2.48752149e-05\n",
      " -3.05701542e-04 -7.03870237e-01]\n",
      "~~~~~~~~~~~Iteration  7 ~~~~~~~~~~\n",
      "took 0.014636039733886719 sec  to apply motion profile\n",
      "took 0.00080108642578125 sec to get H\n",
      "m_hat:  [ 1.50436908e-01 -1.01511705e+00  1.69923343e-03  4.30844157e-05\n",
      " -2.50277255e-04 -7.42544591e-01]\n",
      "~~~~~~~~~~~Iteration  8 ~~~~~~~~~~\n",
      "took 0.015413522720336914 sec  to apply motion profile\n",
      "took 0.0008111000061035156 sec to get H\n",
      "m_hat:  [ 3.14521044e-01 -1.10672426e+00  1.61485397e-03  6.18162521e-05\n",
      " -2.02349314e-04 -7.74958670e-01]\n",
      "~~~~~~~~~~~Iteration  9 ~~~~~~~~~~\n",
      "took 0.014940977096557617 sec  to apply motion profile\n",
      "took 0.0009021759033203125 sec to get H\n",
      "m_hat:  [ 4.99123096e-01 -1.17929518e+00  1.50719669e-03  6.06145841e-05\n",
      " -1.63210832e-04 -8.02221179e-01]\n",
      "~~~~~~~~~~~Iteration  10 ~~~~~~~~~~\n",
      "took 0.015501976013183594 sec  to apply motion profile\n",
      "took 0.0008263587951660156 sec to get H\n",
      "m_hat:  [ 7.18359947e-01 -1.15096474e+00  1.38884073e-03  2.65949748e-05\n",
      " -1.26072206e-04 -8.46540093e-01]\n",
      "~~~~~~~~~~~Iteration  11 ~~~~~~~~~~\n",
      "took 0.015609502792358398 sec  to apply motion profile\n",
      "took 0.0008003711700439453 sec to get H\n",
      "m_hat:  [ 9.67774391e-01 -1.17588747e+00  1.18432287e-03  2.36325322e-05\n",
      " -5.24548814e-05 -8.75445247e-01]\n",
      "~~~~~~~~~~~Iteration  12 ~~~~~~~~~~\n",
      "took 0.015261650085449219 sec  to apply motion profile\n",
      "took 0.0008680820465087891 sec to get H\n",
      "m_hat:  [ 1.24231756e+00 -1.19250822e+00  9.06539732e-04  6.28670205e-06\n",
      "  1.75604582e-05 -9.02738571e-01]\n",
      "~~~~~~~~~~~Iteration  13 ~~~~~~~~~~\n",
      "took 0.01629042625427246 sec  to apply motion profile\n",
      "took 0.0009601116180419922 sec to get H\n",
      "m_hat:  [ 1.49962687e+00 -1.21831524e+00  6.55290612e-04 -1.36805029e-05\n",
      "  7.41176773e-05 -9.24686849e-01]\n",
      "~~~~~~~~~~~Iteration  14 ~~~~~~~~~~\n",
      "took 0.016529321670532227 sec  to apply motion profile\n",
      "took 0.001989603042602539 sec to get H\n",
      "m_hat:  [ 1.81143475e+00 -1.33130324e+00  2.93206016e-04 -2.00725517e-05\n",
      "  1.77445501e-04 -9.32070136e-01]\n",
      "~~~~~~~~~~~Iteration  15 ~~~~~~~~~~\n",
      "took 0.016122102737426758 sec  to apply motion profile\n",
      "took 0.0010585784912109375 sec to get H\n",
      "m_hat:  [ 2.08890557e+00 -1.40150392e+00 -1.95809407e-05 -4.12401350e-05\n",
      "  2.59163731e-04 -9.38787639e-01]\n",
      "~~~~~~~~~~~Iteration  16 ~~~~~~~~~~\n",
      "took 0.015918493270874023 sec  to apply motion profile\n",
      "took 0.0009233951568603516 sec to get H\n",
      "m_hat:  [ 2.29947543e+00 -1.40687370e+00 -2.68803968e-04 -7.47930753e-05\n",
      "  3.07593989e-04 -9.48800564e-01]\n",
      "~~~~~~~~~~~Iteration  17 ~~~~~~~~~~\n",
      "took 0.015213966369628906 sec  to apply motion profile\n",
      "took 0.0018634796142578125 sec to get H\n",
      "m_hat:  [ 2.46855354e+00 -1.38707650e+00 -6.22847700e-04 -6.24890235e-05\n",
      "  3.19002633e-04 -9.57726479e-01]\n",
      "~~~~~~~~~~~Iteration  18 ~~~~~~~~~~\n",
      "took 0.0158536434173584 sec  to apply motion profile\n",
      "took 0.0009362697601318359 sec to get H\n",
      "m_hat:  [ 2.60441017e+00 -1.35159099e+00 -8.76651728e-04 -4.88045152e-05\n",
      "  3.19261599e-04 -9.65792954e-01]\n",
      "~~~~~~~~~~~Iteration  19 ~~~~~~~~~~\n",
      "took 0.015358924865722656 sec  to apply motion profile\n",
      "took 0.0010807514190673828 sec to get H\n",
      "m_hat:  [ 2.71018171e+00 -1.31027210e+00 -1.03288842e-03 -4.23364472e-05\n",
      "  3.18263541e-04 -9.72643793e-01]\n",
      "~~~~~~~~~~~Iteration  20 ~~~~~~~~~~\n",
      "took 0.016138553619384766 sec  to apply motion profile\n",
      "took 0.0009510517120361328 sec to get H\n",
      "m_hat:  [ 2.78845501e+00 -1.26484299e+00 -1.15615956e-03 -2.87135517e-05\n",
      "  3.12851509e-04 -9.78458107e-01]\n",
      "~~~~~~~~~~~Iteration  21 ~~~~~~~~~~\n",
      "took 0.014887332916259766 sec  to apply motion profile\n",
      "took 0.0009925365447998047 sec to get H\n",
      "m_hat:  [ 2.84737659e+00 -1.22102702e+00 -1.18207757e-03 -3.40781553e-05\n",
      "  2.98685482e-04 -9.83277261e-01]\n",
      "~~~~~~~~~~~Iteration  22 ~~~~~~~~~~\n",
      "took 0.016867637634277344 sec  to apply motion profile\n",
      "took 0.0020956993103027344 sec to get H\n",
      "m_hat:  [ 2.89006233e+00 -1.18021798e+00 -1.12029538e-03 -5.00383503e-05\n",
      "  2.73325655e-04 -9.87262309e-01]\n",
      "~~~~~~~~~~~Iteration  23 ~~~~~~~~~~\n",
      "took 0.015256404876708984 sec  to apply motion profile\n",
      "took 0.0009200572967529297 sec to get H\n",
      "m_hat:  [ 2.92125559e+00 -1.14452744e+00 -1.07621099e-03 -5.08987068e-05\n",
      "  2.52372585e-04 -9.90552902e-01]\n",
      "~~~~~~~~~~~Iteration  24 ~~~~~~~~~~\n",
      "took 0.01578664779663086 sec  to apply motion profile\n",
      "took 0.0009210109710693359 sec to get H\n",
      "m_hat:  [ 2.94408560e+00 -1.11414039e+00 -1.04516593e-03 -4.59436196e-05\n",
      "  2.31180238e-04 -9.93164897e-01]\n",
      "~~~~~~~~~~~Iteration  25 ~~~~~~~~~~\n",
      "took 0.01627635955810547 sec  to apply motion profile\n",
      "took 0.0009119510650634766 sec to get H\n",
      "m_hat:  [ 2.96095562e+00 -1.08864868e+00 -1.04256056e-03 -3.21565749e-05\n",
      "  2.12767394e-04 -9.95204389e-01]\n",
      "~~~~~~~~~~~Iteration  26 ~~~~~~~~~~\n",
      "took 0.017078399658203125 sec  to apply motion profile\n",
      "took 0.0009350776672363281 sec to get H\n",
      "m_hat:  [ 2.97349715e+00 -1.06763542e+00 -9.99758020e-04 -2.52122227e-05\n",
      "  1.98285677e-04 -9.96731579e-01]\n",
      "~~~~~~~~~~~Iteration  27 ~~~~~~~~~~\n",
      "took 0.01697993278503418 sec  to apply motion profile\n",
      "took 0.0008981227874755859 sec to get H\n",
      "m_hat:  [ 2.98277473e+00 -1.05066574e+00 -1.00416888e-03 -4.56966882e-06\n",
      "  1.95152330e-04 -9.97855484e-01]\n",
      "~~~~~~~~~~~Iteration  28 ~~~~~~~~~~\n",
      "took 0.015516042709350586 sec  to apply motion profile\n",
      "took 0.0008907318115234375 sec to get H\n",
      "m_hat:  [ 2.98944449e+00 -1.03717470e+00 -9.77132469e-04  6.13762677e-06\n",
      "  1.89138314e-04 -9.98666048e-01]\n",
      "~~~~~~~~~~~Iteration  29 ~~~~~~~~~~\n",
      "took 0.015227317810058594 sec  to apply motion profile\n",
      "took 0.0008866786956787109 sec to get H\n",
      "m_hat:  [ 2.99421763e+00 -1.02658451e+00 -9.60248522e-04  2.03174059e-05\n",
      "  1.89449231e-04 -9.99229968e-01]\n",
      "~~~~~~~~~~~Iteration  30 ~~~~~~~~~~\n",
      "took 0.015048980712890625 sec  to apply motion profile\n",
      "took 0.0008935928344726562 sec to get H\n",
      "m_hat:  [ 2.99750400e+00 -1.01844418e+00 -9.27224639e-04  2.68354706e-05\n",
      "  1.87570593e-04 -9.99613881e-01]\n",
      "~~~~~~~~~~~Iteration  31 ~~~~~~~~~~\n",
      "took 0.015042304992675781 sec  to apply motion profile\n",
      "took 0.0009176731109619141 sec to get H\n",
      "m_hat:  [ 2.99968433e+00 -1.01228344e+00 -9.09815542e-04  3.49346228e-05\n",
      "  1.85938654e-04 -9.99864638e-01]\n",
      "~~~~~~~~~~~Iteration  32 ~~~~~~~~~~\n",
      "took 0.016423940658569336 sec  to apply motion profile\n",
      "took 0.0009067058563232422 sec to get H\n",
      "m_hat:  [ 3.00108743e+00 -1.00767541e+00 -8.74670863e-04  3.66194581e-05\n",
      "  1.82266289e-04 -1.00001681e+00]\n",
      "~~~~~~~~~~~Iteration  33 ~~~~~~~~~~\n",
      "took 0.017034053802490234 sec  to apply motion profile\n",
      "took 0.0009245872497558594 sec to get H\n",
      "m_hat:  [ 3.00191069e+00 -1.00433779e+00 -8.15940730e-04  3.06031761e-05\n",
      "  1.76470814e-04 -1.00010264e+00]\n",
      "~~~~~~~~~~~Iteration  34 ~~~~~~~~~~\n",
      "took 0.016150712966918945 sec  to apply motion profile\n",
      "took 0.0009267330169677734 sec to get H\n",
      "m_hat:  [ 3.00235438e+00 -1.00196028e+00 -7.86656921e-04  3.06075526e-05\n",
      "  1.72643093e-04 -1.00014186e+00]\n",
      "~~~~~~~~~~~Iteration  35 ~~~~~~~~~~\n",
      "took 0.015885591506958008 sec  to apply motion profile\n",
      "took 0.0010280609130859375 sec to get H\n",
      "m_hat:  [ 3.00257683e+00 -1.00026917e+00 -7.99845438e-04  3.96356481e-05\n",
      "  1.74026078e-04 -1.00014687e+00]\n",
      "~~~~~~~~~~~Iteration  36 ~~~~~~~~~~\n",
      "took 0.016264677047729492 sec  to apply motion profile\n"
     ]
    },
    {
     "name": "stdout",
     "output_type": "stream",
     "text": [
      "took 0.0009508132934570312 sec to get H\n",
      "m_hat:  [ 3.00260568e+00 -9.99126017e-01 -7.96713633e-04  4.31412263e-05\n",
      "  1.73984678e-04 -1.00013423e+00]\n",
      "~~~~~~~~~~~Iteration  37 ~~~~~~~~~~\n",
      "took 0.016037940979003906 sec  to apply motion profile\n",
      "took 0.0009055137634277344 sec to get H\n",
      "m_hat:  [ 3.00252032e+00 -9.98385489e-01 -7.92478560e-04  4.45081096e-05\n",
      "  1.73218592e-04 -1.00011158e+00]\n",
      "~~~~~~~~~~~Iteration  38 ~~~~~~~~~~\n",
      "took 0.014557123184204102 sec  to apply motion profile\n",
      "took 0.0008769035339355469 sec to get H\n",
      "m_hat:  [ 3.00237250e+00 -9.97936189e-01 -7.87777244e-04  4.53293469e-05\n",
      "  1.72599932e-04 -1.00008392e+00]\n",
      "~~~~~~~~~~~Iteration  39 ~~~~~~~~~~\n",
      "took 0.015808820724487305 sec  to apply motion profile\n",
      "took 0.0009436607360839844 sec to get H\n",
      "m_hat:  [ 3.00220275e+00 -9.97676075e-01 -7.95304019e-04  4.91649262e-05\n",
      "  1.76641392e-04 -1.00005388e+00]\n",
      "~~~~~~~~~~~Iteration  40 ~~~~~~~~~~\n",
      "took 0.015505313873291016 sec  to apply motion profile\n",
      "took 0.0008842945098876953 sec to get H\n",
      "m_hat:  [ 3.00202179e+00 -9.97560263e-01 -7.97479996e-04  4.99743473e-05\n",
      "  1.78549977e-04 -1.00002515e+00]\n",
      "~~~~~~~~~~~Iteration  41 ~~~~~~~~~~\n",
      "took 0.016309261322021484 sec  to apply motion profile\n",
      "took 0.0010247230529785156 sec to get H\n",
      "m_hat:  [ 3.00185061e+00 -9.97537613e-01 -7.96932320e-04  4.97464534e-05\n",
      "  1.79390976e-04 -9.99998510e-01]\n",
      "~~~~~~~~~~~Iteration  42 ~~~~~~~~~~\n",
      "took 0.01669168472290039 sec  to apply motion profile\n",
      "took 0.0009288787841796875 sec to get H\n",
      "m_hat:  [ 3.00169182e+00 -9.97571588e-01 -7.97097688e-04  4.95613094e-05\n",
      "  1.79963419e-04 -9.99975026e-01]\n",
      "~~~~~~~~~~~Iteration  43 ~~~~~~~~~~\n",
      "took 0.016907691955566406 sec  to apply motion profile\n",
      "took 0.0008974075317382812 sec to get H\n",
      "m_hat:  [ 3.00155091e+00 -9.97640133e-01 -7.97659392e-04  4.94185333e-05\n",
      "  1.80415911e-04 -9.99954939e-01]\n",
      "~~~~~~~~~~~Iteration  44 ~~~~~~~~~~\n",
      "took 0.015707969665527344 sec  to apply motion profile\n",
      "took 0.0008754730224609375 sec to get H\n",
      "m_hat:  [ 3.00143075e+00 -9.97722864e-01 -7.98181281e-04  4.92654144e-05\n",
      "  1.80731251e-04 -9.99937892e-01]\n",
      "~~~~~~~~~~~Iteration  45 ~~~~~~~~~~\n",
      "took 0.015614986419677734 sec  to apply motion profile\n",
      "took 0.0008637905120849609 sec to get H\n",
      "m_hat:  [ 3.00132823e+00 -9.97811019e-01 -7.98843859e-04  4.91471656e-05\n",
      "  1.80968957e-04 -9.99924004e-01]\n",
      "~~~~~~~~~~~Iteration  46 ~~~~~~~~~~\n",
      "took 0.016201019287109375 sec  to apply motion profile\n",
      "took 0.0008859634399414062 sec to get H\n",
      "m_hat:  [ 3.00124431e+00 -9.97896314e-01 -7.99530419e-04  4.90321108e-05\n",
      "  1.81189986e-04 -9.99912739e-01]\n",
      "~~~~~~~~~~~Iteration  47 ~~~~~~~~~~\n",
      "took 0.015262126922607422 sec  to apply motion profile\n",
      "took 0.0008668899536132812 sec to get H\n",
      "m_hat:  [ 3.00117755e+00 -9.97974932e-01 -8.00013659e-04  4.89048944e-05\n",
      "  1.81369294e-04 -9.99903619e-01]\n",
      "~~~~~~~~~~~Iteration  48 ~~~~~~~~~~\n",
      "took 0.015799522399902344 sec  to apply motion profile\n",
      "took 0.0008602142333984375 sec to get H\n",
      "m_hat:  [ 3.00112295e+00 -9.98043358e-01 -8.00561451e-04  4.88365185e-05\n",
      "  1.81511074e-04 -9.99896526e-01]\n",
      "~~~~~~~~~~~Iteration  49 ~~~~~~~~~~\n",
      "took 0.015981435775756836 sec  to apply motion profile\n",
      "took 0.000904083251953125 sec to get H\n",
      "m_hat:  [ 3.00108147e+00 -9.98103321e-01 -8.01078219e-04  4.87623292e-05\n",
      "  1.81637151e-04 -9.99890983e-01]\n"
     ]
    },
    {
     "data": {
      "application/vnd.jupyter.widget-view+json": {
       "model_id": "818de59bdb114950a92611f28404b70d",
       "version_major": 2,
       "version_minor": 0
      },
      "text/plain": [
       "ViewInteractiveWidget(height=1043, layout=Layout(height='auto', width='100%'), width=1280)"
      ]
     },
     "metadata": {},
     "output_type": "display_data"
    }
   ],
   "source": [
    "from linear_corrector import LC\n",
    "pc1 = new_cloud\n",
    "pc2 = old_cloud\n",
    "## only take first part of cloud\n",
    "# pc1 = new_cloud[:5000]\n",
    "# pc2 = old_cloud[:5000]\n",
    "# # remove ground plane\n",
    "# pc1 = new_cloud[new_cloud[:,2] > -1]\n",
    "# pc2 = old_cloud[old_cloud[:,2] > -1]\n",
    "m_hat0 = np.array([0.,0, 0, 0, 0, 0]) #cold start\n",
    "dc = LC(cloud1 = pc1, cloud2 = pc2, fid = 30, niter = 50, draw = True, m_hat0 = m_hat0)\n",
    "ViewInteractiveWidget(dc.plt.window)"
   ]
  },
  {
   "cell_type": "code",
   "execution_count": 205,
   "id": "45ddbb65",
   "metadata": {},
   "outputs": [
    {
     "name": "stdout",
     "output_type": "stream",
     "text": [
      "(16564, 3)\n",
      "cloud homo (16564, 4)\n"
     ]
    },
    {
     "data": {
      "application/vnd.jupyter.widget-view+json": {
       "model_id": "e5eab39624944b579d2556f2270dce3f",
       "version_major": 2,
       "version_minor": 0
      },
      "text/plain": [
       "ViewInteractiveWidget(height=1043, layout=Layout(height='auto', width='100%'), width=1280)"
      ]
     },
     "metadata": {},
     "output_type": "display_data"
    }
   ],
   "source": [
    "#DEBUG: convert <apply_motion_profile> to linalg \n",
    "\n",
    "# print(old_cloud)\n",
    "\n",
    "# print(dc.m_hat)\n",
    "m_hat = np.array([3, -1, 0, 0, 0, -1])\n",
    "\n",
    "pc1 = new_cloud + 0.01*np.random.randn(np.shape(new_cloud)[0],3)\n",
    "pc2 = dc.apply_motion_profile(old_cloud, m_hat)\n",
    "\n",
    "plt2 = Plotter(N = 1, axes = 4, bg = (1, 1, 1), interactive = True)\n",
    "disp=[]\n",
    "disp.append(Points(pc1,  c = 'red'))\n",
    "disp.append(Points(pc2, c = 'blue'))\n",
    "plt2.show(disp, \"test viz\")\n",
    "ViewInteractiveWidget(plt2.window)"
   ]
  },
  {
   "cell_type": "code",
   "execution_count": 186,
   "id": "ac25922c",
   "metadata": {},
   "outputs": [
    {
     "name": "stdout",
     "output_type": "stream",
     "text": [
      "(16564, 4, 4)\n",
      "(16564, 4)\n",
      "(16564, 4)\n"
     ]
    }
   ],
   "source": [
    "from numpy import sin, cos\n",
    "\n",
    "M = dc.motion_profile\n",
    "\n",
    "x = M[:,0]\n",
    "y = M[:,1]\n",
    "z = M[:,2]\n",
    "phi = M[:,3]\n",
    "theta = M[:,4]\n",
    "psi = M[:,5]\n",
    "\n",
    "T_rect_numpy = np.array([[cos(psi)*cos(theta), sin(phi)*sin(theta)*cos(psi) - sin(psi)*cos(phi), sin(phi)*sin(psi) + sin(theta)*cos(phi)*cos(psi), -x], [sin(psi)*cos(theta), sin(phi)*sin(psi)*sin(theta) + cos(phi)*cos(psi), -sin(phi)*cos(psi) + sin(psi)*sin(theta)*cos(phi), -y], [-sin(theta), sin(phi)*cos(theta), cos(phi)*cos(theta), -z], [np.zeros(len(x)), np.zeros(len(x)), np.zeros(len(x)), np.ones(len(x))]])\n",
    "T_rect_numpy = np.transpose(T_rect_numpy, (2,0,1))\n",
    "# print(T_rect_numpy)\n",
    "print(np.shape(T_rect_numpy))\n",
    "\n",
    "pc = np.append(old_cloud, np.ones([len(old_cloud),1]), axis=1)\n",
    "print(np.shape(pc))\n",
    "\n",
    "# T_rect_numpy = np.reshape(T_rect_numpy, (-1, 4))\n",
    "# print(T_rect_numpy)\n",
    "# print(np.shape(T_rect_numpy))\n",
    "\n",
    "ans =  T_rect_numpy @ pc[:,:,None]\n",
    "print(np.shape(ans[:,:,0]))"
   ]
  },
  {
   "cell_type": "code",
   "execution_count": null,
   "id": "99f9afb3",
   "metadata": {},
   "outputs": [],
   "source": []
  }
 ],
 "metadata": {
  "kernelspec": {
   "display_name": "Python 3 (ipykernel)",
   "language": "python",
   "name": "python3"
  },
  "language_info": {
   "codemirror_mode": {
    "name": "ipython",
    "version": 3
   },
   "file_extension": ".py",
   "mimetype": "text/x-python",
   "name": "python",
   "nbconvert_exporter": "python",
   "pygments_lexer": "ipython3",
   "version": "3.9.13"
  }
 },
 "nbformat": 4,
 "nbformat_minor": 5
}
