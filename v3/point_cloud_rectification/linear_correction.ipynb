{
 "cells": [
  {
   "cell_type": "code",
   "execution_count": 1,
   "id": "89042def",
   "metadata": {},
   "outputs": [
    {
     "name": "stderr",
     "output_type": "stream",
     "text": [
      "2023-04-19 13:21:11.697886: I tensorflow/core/platform/cpu_feature_guard.cc:193] This TensorFlow binary is optimized with oneAPI Deep Neural Network Library (oneDNN) to use the following CPU instructions in performance-critical operations:  AVX2 FMA\n",
      "To enable them in other operations, rebuild TensorFlow with the appropriate compiler flags.\n",
      "2023-04-19 13:21:12.326764: E tensorflow/stream_executor/cuda/cuda_blas.cc:2981] Unable to register cuBLAS factory: Attempting to register factory for plugin cuBLAS when one has already been registered\n",
      "2023-04-19 13:21:13.472771: W tensorflow/stream_executor/platform/default/dso_loader.cc:64] Could not load dynamic library 'libnvinfer.so.7'; dlerror: libnvinfer.so.7: cannot open shared object file: No such file or directory; LD_LIBRARY_PATH: /home/derm/anaconda3/envs/py39/lib/python3.9/site-packages/cv2/../../lib64:\n",
      "2023-04-19 13:21:13.472866: W tensorflow/stream_executor/platform/default/dso_loader.cc:64] Could not load dynamic library 'libnvinfer_plugin.so.7'; dlerror: libnvinfer_plugin.so.7: cannot open shared object file: No such file or directory; LD_LIBRARY_PATH: /home/derm/anaconda3/envs/py39/lib/python3.9/site-packages/cv2/../../lib64:\n",
      "2023-04-19 13:21:13.472874: W tensorflow/compiler/tf2tensorrt/utils/py_utils.cc:38] TF-TRT Warning: Cannot dlopen some TensorRT libraries. If you would like to use Nvidia GPU with TensorRT, please make sure the missing libraries mentioned above are installed properly.\n",
      "2023-04-19 13:21:14.938510: I tensorflow/stream_executor/cuda/cuda_gpu_executor.cc:980] successful NUMA node read from SysFS had negative value (-1), but there must be at least one NUMA node, so returning NUMA node zero\n",
      "2023-04-19 13:21:15.055186: I tensorflow/stream_executor/cuda/cuda_gpu_executor.cc:980] successful NUMA node read from SysFS had negative value (-1), but there must be at least one NUMA node, so returning NUMA node zero\n",
      "2023-04-19 13:21:15.055507: I tensorflow/stream_executor/cuda/cuda_gpu_executor.cc:980] successful NUMA node read from SysFS had negative value (-1), but there must be at least one NUMA node, so returning NUMA node zero\n"
     ]
    },
    {
     "name": "stdout",
     "output_type": "stream",
     "text": [
      "[PhysicalDevice(name='/physical_device:GPU:0', device_type='GPU')]\n"
     ]
    },
    {
     "name": "stderr",
     "output_type": "stream",
     "text": [
      "2023-04-19 13:21:15.405826: I tensorflow/core/platform/cpu_feature_guard.cc:193] This TensorFlow binary is optimized with oneAPI Deep Neural Network Library (oneDNN) to use the following CPU instructions in performance-critical operations:  AVX2 FMA\n",
      "To enable them in other operations, rebuild TensorFlow with the appropriate compiler flags.\n",
      "2023-04-19 13:21:15.407477: I tensorflow/stream_executor/cuda/cuda_gpu_executor.cc:980] successful NUMA node read from SysFS had negative value (-1), but there must be at least one NUMA node, so returning NUMA node zero\n",
      "2023-04-19 13:21:15.407772: I tensorflow/stream_executor/cuda/cuda_gpu_executor.cc:980] successful NUMA node read from SysFS had negative value (-1), but there must be at least one NUMA node, so returning NUMA node zero\n",
      "2023-04-19 13:21:15.407979: I tensorflow/stream_executor/cuda/cuda_gpu_executor.cc:980] successful NUMA node read from SysFS had negative value (-1), but there must be at least one NUMA node, so returning NUMA node zero\n",
      "2023-04-19 13:21:16.376511: I tensorflow/stream_executor/cuda/cuda_gpu_executor.cc:980] successful NUMA node read from SysFS had negative value (-1), but there must be at least one NUMA node, so returning NUMA node zero\n",
      "2023-04-19 13:21:16.376792: I tensorflow/stream_executor/cuda/cuda_gpu_executor.cc:980] successful NUMA node read from SysFS had negative value (-1), but there must be at least one NUMA node, so returning NUMA node zero\n",
      "2023-04-19 13:21:16.377027: I tensorflow/stream_executor/cuda/cuda_gpu_executor.cc:980] successful NUMA node read from SysFS had negative value (-1), but there must be at least one NUMA node, so returning NUMA node zero\n",
      "2023-04-19 13:21:16.377178: I tensorflow/core/common_runtime/gpu/gpu_device.cc:1616] Created device /job:localhost/replica:0/task:0/device:GPU:0 with 4096 MB memory:  -> device: 0, name: NVIDIA GeForce RTX 3090, pci bus id: 0000:07:00.0, compute capability: 8.6\n"
     ]
    },
    {
     "name": "stdout",
     "output_type": "stream",
     "text": [
      "Jupyter environment detected. Enabling Open3D WebVisualizer.\n",
      "[Open3D INFO] WebRTC GUI backend enabled.\n",
      "[Open3D INFO] WebRTCWindowSystem: HTTP handshake server disabled.\n"
     ]
    },
    {
     "data": {
      "application/javascript": [
       "IPython.notebook.set_autosave_interval(180000)"
      ]
     },
     "metadata": {},
     "output_type": "display_data"
    },
    {
     "name": "stdout",
     "output_type": "stream",
     "text": [
      "Autosaving every 180 seconds\n"
     ]
    }
   ],
   "source": [
    "from vedo import *\n",
    "import os\n",
    "from ipyvtklink.viewer import ViewInteractiveWidget\n",
    "import pykitti\n",
    "import numpy as np\n",
    "import tensorflow as tf\n",
    "import time\n",
    "import pickle\n",
    "\n",
    "#limit GPU memory ------------------------------------------------\n",
    "gpus = tf.config.experimental.list_physical_devices('GPU')\n",
    "print(gpus)\n",
    "if gpus:\n",
    "  try:\n",
    "    memlim = 4*1024\n",
    "    tf.config.experimental.set_virtual_device_configuration(gpus[0], [tf.config.experimental.VirtualDeviceConfiguration(memory_limit=memlim)])\n",
    "  except RuntimeError as e:\n",
    "    print(e)\n",
    "#-----------------------------------------------------------------\n",
    "\n",
    "from tensorflow.math import sin, cos, tan\n",
    "import tensorflow_probability as tfp\n",
    "import sys\n",
    "current = os.getcwd()\n",
    "parent_directory = os.path.dirname(current)\n",
    "sys.path.append(parent_directory)\n",
    "from ICET_spherical import ICET\n",
    "from utils import *\n",
    "from metpy.calc import lat_lon_grid_deltas\n",
    "from pioneer.das.api.platform import Platform\n",
    "from scipy.spatial.transform import Rotation as R\n",
    "from pioneer.das.api.egomotion.imu_egomotion_provider import IMUEgomotionProvider as emp \n",
    "from matplotlib import pyplot as plt\n",
    "\n",
    "%load_ext autoreload\n",
    "%autoreload 2\n",
    "%autosave 180\n",
    "%matplotlib notebook"
   ]
  },
  {
   "cell_type": "markdown",
   "id": "68afb097",
   "metadata": {},
   "source": [
    "# Goal: Estimate acceleration profile $\\hat{m}$ Using Newton-Raphson to compensate for distortion between similar point cloud"
   ]
  },
  {
   "cell_type": "markdown",
   "id": "e27a2deb",
   "metadata": {},
   "source": [
    "Through the first order Taylor approximation we define: \n",
    "\n",
    "$\\mathbf{h}(\\hat{m})$ as the means of voxel centers in cloud $j$ passed through the distortion operator $\\mathbb{C}$ according to estimated motion profile $\\hat{m}$. \n",
    "\n",
    "$\\mathbf{H}$ is the Jacobian of $\\mathbf{h}$, which is multiplied by a linear correction factor $\\delta m$.\n",
    "\n",
    "$    y_i = \\mathbf{h}(\\hat{m}) + \\mathbf{H} \\delta m $\n"
   ]
  },
  {
   "cell_type": "code",
   "execution_count": 236,
   "id": "a120a44a",
   "metadata": {},
   "outputs": [],
   "source": [
    "#load point cloud\n",
    "# no distortion\n",
    "# old_cloud =  np.load(\"sample_data/paper_figures/case1/raw_frame_0.npy\")\n",
    "# m_hat = np.array([-3., -2., 0., 0., 0., 0.0])\n",
    "\n",
    "# # movement in x\n",
    "# old_cloud =  np.load(\"sample_data/paper_figures/case2/raw_frame_3.npy\") \n",
    "# m_hat = np.array([3, 0, 0., 0., 0., 0])\n",
    "# # m_hat = np.array([3, 0, 0., 0., 0., -0.2]) #FOR DEBUG-- deform just a little\n",
    "# gt =  np.load(\"sample_data/paper_figures/case2/base_vel_2.npy\")\n",
    "\n",
    "# movement in x, y, & yaw\n",
    "old_cloud =  np.load(\"sample_data/paper_figures/case3/raw_frame_1.npy\") \n",
    "m_hat = np.array([3, -1, 0., 0., 0., -1])\n",
    "# m_hat = np.array([3, -1, 0.1, 0.1, 0.05, -1]) #FOR DEBUG-- deform a little extra\n",
    "gt =  np.load(\"sample_data/paper_figures/case3/base_vel_2.npy\")\n",
    "# print(gt) \n",
    "\n",
    "# period_lidar = 1\n",
    "# t_scale = (2*np.pi)/(-m_hat[-1] + (2*np.pi/period_lidar))\n",
    "# print(t_scale)\n",
    "# m_hat = m_hat*t_scale\n",
    "# # m_hat[-1] = m_hat[-1]*t_scaled\n",
    "# print(m_hat)\n",
    "\n",
    "\n",
    "#downsample\n",
    "old_cloud = old_cloud[::5,:]"
   ]
  },
  {
   "cell_type": "code",
   "execution_count": 237,
   "id": "50cf50be",
   "metadata": {},
   "outputs": [],
   "source": [
    "from remove_motion_basic import linear_correction_old as lc \n",
    "\n",
    "new_cloud = lc(old_cloud, m_hat)\n",
    "# undistorted = lc(new_cloud, -m_hat)"
   ]
  },
  {
   "cell_type": "code",
   "execution_count": 238,
   "id": "d9a01d62",
   "metadata": {},
   "outputs": [
    {
     "data": {
      "application/vnd.jupyter.widget-view+json": {
       "model_id": "466fc6c8d3784359af1e3465b9dba743",
       "version_major": 2,
       "version_minor": 0
      },
      "text/plain": [
       "ViewInteractiveWidget(height=1043, layout=Layout(height='auto', width='100%'), width=1280)"
      ]
     },
     "metadata": {},
     "output_type": "display_data"
    }
   ],
   "source": [
    "plt = Plotter(N = 1, axes = 4, bg = (1, 1, 1), interactive = True)\n",
    "disp=[]\n",
    "# disp.append(Points(undistorted, c = \"#CB2314\"))\n",
    "# disp.append(Points(old_cloud, c = \"#CB2314\"))\n",
    "disp.append(Points(new_cloud, c = \"#3F5151\"))\n",
    "plt.show(disp, \"test viz\")\n",
    "ViewInteractiveWidget(plt.window)"
   ]
  },
  {
   "cell_type": "markdown",
   "id": "13c2554d",
   "metadata": {},
   "source": [
    "# Analytically calculating derivatives with SymPy"
   ]
  },
  {
   "cell_type": "code",
   "execution_count": 211,
   "id": "cb1f585f",
   "metadata": {},
   "outputs": [],
   "source": [
    "from sympy import *\n",
    "\n",
    "x, y, z = symbols('x y z')\n",
    "\n",
    "init_printing(use_unicode=True)"
   ]
  },
  {
   "cell_type": "code",
   "execution_count": 212,
   "id": "e37a7643",
   "metadata": {},
   "outputs": [
    {
     "name": "stdout",
     "output_type": "stream",
     "text": [
      "-sin(x)\n",
      "Derivative(cos(x), x)\n"
     ]
    }
   ],
   "source": [
    "#sovles for the derivative\n",
    "ans1 = diff(cos(x), x)\n",
    "print(ans1)\n",
    "\n",
    "#creates an unevaluated derivative\n",
    "ans2 = Derivative(cos(x), x)\n",
    "print(ans2)"
   ]
  },
  {
   "cell_type": "code",
   "execution_count": 213,
   "id": "2aac426d",
   "metadata": {},
   "outputs": [
    {
     "data": {
      "image/png": "[encoded data removed]",
      "text/latex": [
       "$\\displaystyle - \\frac{8 \\sin^{2}{\\left(x \\right)} \\sin{\\left(\\frac{x}{2} + \\frac{1}{2} \\right)}}{15} - 2 \\sin^{2}{\\left(x \\right)} \\cos{\\left(\\frac{x}{2} + \\frac{1}{2} \\right)} - \\frac{4 \\sin{\\left(x \\right)} \\cos{\\left(x \\right)} \\cos{\\left(\\frac{x}{2} + \\frac{1}{2} \\right)}}{15} + \\frac{8 \\sin{\\left(\\frac{x}{2} + \\frac{1}{2} \\right)} \\cos^{2}{\\left(x \\right)}}{15} - 2 \\cos^{2}{\\left(x \\right)} \\cos{\\left(\\frac{x}{2} + \\frac{1}{2} \\right)}$"
      ],
      "text/plain": [
       "       2       ⎛x   1⎞                                             ⎛x   1⎞    \n",
       "  8⋅sin (x)⋅sin⎜─ + ─⎟                          4⋅sin(x)⋅cos(x)⋅cos⎜─ + ─⎟   8\n",
       "               ⎝2   2⎠        2       ⎛x   1⎞                      ⎝2   2⎠    \n",
       "- ──────────────────── - 2⋅sin (x)⋅cos⎜─ + ─⎟ - ────────────────────────── + ─\n",
       "           15                         ⎝2   2⎠               15                \n",
       "\n",
       "    ⎛x   1⎞    2                          \n",
       "⋅sin⎜─ + ─⎟⋅cos (x)                       \n",
       "    ⎝2   2⎠                2       ⎛x   1⎞\n",
       "─────────────────── - 2⋅cos (x)⋅cos⎜─ + ─⎟\n",
       "        15                         ⎝2   2⎠"
      ]
     },
     "execution_count": 213,
     "metadata": {},
     "output_type": "execute_result"
    }
   ],
   "source": [
    "ans3 = integrate(sin((x+1)/2)*(cos(x)-sin(x))**2, x)\n",
    "# print(latex(ans3)) #-> converts to LaTeX so I don't have to re-copy everything \n",
    "\n",
    "integrate(sin((x+1)/2)*(cos(x)-sin(x))**2, x)\n"
   ]
  },
  {
   "cell_type": "code",
   "execution_count": 214,
   "id": "cf003a30",
   "metadata": {},
   "outputs": [
    {
     "data": {
      "text/latex": [
       "$\\displaystyle \\left[\\begin{matrix}\\frac{100 x^{3}}{3} + 6 x & 14 x^{2}\\\\21 x^{2} & \\frac{16 x^{3}}{3} + 6 x\\end{matrix}\\right]$"
      ],
      "text/plain": [
       "⎡     3                   ⎤\n",
       "⎢100⋅x                2   ⎥\n",
       "⎢────── + 6⋅x     14⋅x    ⎥\n",
       "⎢  3                      ⎥\n",
       "⎢                         ⎥\n",
       "⎢                  3      ⎥\n",
       "⎢       2      16⋅x       ⎥\n",
       "⎢   21⋅x       ───── + 6⋅x⎥\n",
       "⎣                3        ⎦"
      ]
     },
     "execution_count": 214,
     "metadata": {},
     "output_type": "execute_result"
    }
   ],
   "source": [
    "a = Matrix([[10*x, 2], \n",
    "            [3, 4*x]])\n",
    "# A = integrate(a**2)\n",
    "# print(latex(A))\n",
    "integrate(a**2)"
   ]
  },
  {
   "cell_type": "code",
   "execution_count": 215,
   "id": "a05cf548",
   "metadata": {},
   "outputs": [
    {
     "data": {
      "text/latex": [
       "$\\displaystyle \\left[\\begin{matrix}0 & 0\\\\6 x & 0\\end{matrix}\\right]$"
      ],
      "text/plain": [
       "⎡ 0   0⎤\n",
       "⎢      ⎥\n",
       "⎣6⋅x  0⎦"
      ]
     },
     "execution_count": 215,
     "metadata": {},
     "output_type": "execute_result"
    }
   ],
   "source": [
    "b = Matrix([[x + 1, 2*y],\n",
    "            [3*x**2*y, 3 + x + y**2]])\n",
    "diff(b, y, x)"
   ]
  },
  {
   "cell_type": "markdown",
   "id": "618b6559",
   "metadata": {},
   "source": [
    "# Derive Jacobain H"
   ]
  },
  {
   "cell_type": "markdown",
   "id": "0a735bbc",
   "metadata": {},
   "source": [
    "### $\\mathbf{H} \\in \\mathbb{R}^{4N \\times 6} $\n",
    "\n",
    "### $\\mathbf{H} = \n",
    "\\begin{bmatrix}\n",
    "^{(n)}H_{x} ~ ^{(n)}H_{y} ~ ^{(n)}H_{z} ~ ^{(n)}H_{\\phi} ~ ^{(n)}H_{\\theta} ~ ^{(n)}H_{\\psi}\n",
    "\\end{bmatrix}$\n",
    "\n",
    "### $ ^{(n)}\\mathbf{H}_x =  \\frac{\\delta{\\mathbb{C}}}{\\delta x} ~ ^{(n)}y_j \\in \\mathbb{R}^{4 \\times 1}$\n",
    "\n",
    "### Here $^{(n)}y_j$ refers to distribution mean from scan j inside voxel n, denoted in homogenous coordinates\n",
    "\n",
    "$[x, y, z] \\rightarrow [x, y, z, 1] $ \n",
    "\n",
    "<!-- <span style=\"color:red\"> TODO: figure out if I need to use homogeneous coordinates for $y_j$ </span> -->"
   ]
  },
  {
   "cell_type": "markdown",
   "id": "17dd0287",
   "metadata": {},
   "source": [
    "# Calculate correction  function $\\mathbf{C}$ "
   ]
  },
  {
   "cell_type": "markdown",
   "id": "f289cf03",
   "metadata": {},
   "source": [
    "## $\\mathbf{C}(\\hat{m}) = T_{\\text{rect}}(M(\\hat{m})) \\in \\mathbb{R}^{4 \\times 4} $\n",
    "\n",
    "Here, the rectifying transformation $T_{\\text{rect}}$ for each point in $y_j$ depends on scaled values of $\\hat{m}$ which are concatenated to form matrix $M$. Since points are stored in the order they are recieved and are somewhat even spread throughout the scene, we can approximate $M$ through a simple linspace matrix without needing to transform to a spherical representation. $t_{\\text{scale}}$ is a scaling parameter to normalize the turn rate of the sensor in the presence of composite yaw rotation.\n",
    "\n",
    "## $\n",
    "M = \\bigg{(} \\{ r: r = t_{\\text{scale}} \\frac{p}{P}, p \\in \\{ 0, 1, ..., P \\} \\} \\bigg{)} \\hat{m}\n",
    "\\in \\mathbb{R}^{P \\times 6}\n",
    "% \\begin{bmatrix}\n",
    "% 1 & 1 & 1 & 1 \n",
    "% \\end{bmatrix}\n",
    "$\n",
    "\n",
    "## $t_{\\text{scale}} = \\frac{2\\pi}{-\\psi + \\omega_{\\text{LIDAR}} } $ \n"
   ]
  },
  {
   "cell_type": "markdown",
   "id": "4411222e",
   "metadata": {},
   "source": [
    "My old way of \"unwinding\" was acomplished by converting the point cloud to spherical coordinates, rescaling the yaw angle, and then converting back to Cartesian \n",
    "\n",
    "<!-- ## $y_{j, \\text{unwound}} =\n",
    "\\text{s2c} \\bigg{(} \\text{c2s}(y_{j})\n",
    "\\begin{bmatrix}\n",
    "    1 & 0 & 0 \\\\\n",
    "    0 & 1 & 0 \\\\\n",
    "    0 & 0 & \\psi_{\\text{rect}}\n",
    "\\end{bmatrix} \\bigg{)}$\n",
    " -->\n",
    "Unfortunately, c2s() is a nonlinear operation so it makes things a little tricky when we need to do everything via linear algebra\n",
    "\n",
    "<!-- ## $ \\text{c2s}(y_j) = \n",
    "\\begin{bmatrix}\n",
    "x_1 & y_1 & z_1 \\\\\n",
    "x_2 & y_2 & z_2 \\\\\n",
    " & \\vdots &\n",
    "\\end{bmatrix}\n",
    "\\rightarrow\n",
    "\\begin{bmatrix}\n",
    "r_1 & \\phi_1 & \\theta_1 \\\\\n",
    "r_2 & \\phi_2 & \\theta_2 \\\\\n",
    "r_3 & \\phi_3 & \\theta_3\n",
    "\\end{bmatrix}\n",
    "$\n",
    " -->\n",
    "<!-- ### GPT:\n",
    "lol it really got this wro\n",
    "\n",
    "$ ^{(n)}y_j = \\begin{bmatrix}\n",
    "x \\\\\n",
    "y \\\\\n",
    "z\n",
    "\\end{bmatrix}\n",
    "$\n",
    "\n",
    "$ B = \\begin{bmatrix}\n",
    "\\text{sin}(\\theta) ~ \\text{cos}(\\phi) & \\text{cos}(\\theta) ~ \\text{cos}(\\phi) & -\\text{sin}(\\phi) \\\\\n",
    "\\text{sin}(\\theta)\\text{sin}(\\phi) & \\text{cos}(\\theta)\\text{sin}(\\phi) & \\text{cos}(\\phi) \\\\\n",
    "\\text{cos}(\\theta) & -\\text{sin}(\\theta) & 0\n",
    "\\end{bmatrix}\n",
    "$\n",
    "\n",
    "$B ~ ^{(n)}y_j = ^{(n)}y_{j, \\text{spherical}} $ -->\n",
    "\n",
    "\n",
    "<!-- Putting everything together:\n",
    "\n",
    " $\n",
    "\\mathbb{C}(y_j, \\hat{m}) =\n",
    "M ~ T_{\\text{rect}} \\bigg{[} \\text{s2c} \\bigg{(} \\text{c2s}(y_{j})\n",
    "\\begin{bmatrix}\n",
    "    1 & 0 & 0 \\\\\n",
    "    0 & 1 & 0 \\\\\n",
    "    0 & 0 & \\psi_{\\text{rect}}\n",
    "\\end{bmatrix} \\bigg{)},\n",
    "\\begin{bmatrix}\n",
    "    1 \\\\\n",
    "    \\vdots \n",
    "\\end{bmatrix}\n",
    "\\bigg{]}^T$\n",
    " -->"
   ]
  },
  {
   "cell_type": "code",
   "execution_count": 216,
   "id": "39211bc6",
   "metadata": {},
   "outputs": [
    {
     "name": "stdout",
     "output_type": "stream",
     "text": [
      "(6,)\n"
     ]
    }
   ],
   "source": [
    "period_lidar = 1\n",
    "m_hat = np.array([3, 0, 0., 0., 0., -0.5])\n",
    "t_scale = (2*np.pi)/(-m_hat[-1] + (2*np.pi/period_lidar))\n",
    "# print(t_scale)\n",
    "lsvec = np.linspace(0,t_scale, 100)\n",
    "\n",
    "print(np.shape(m_hat))\n",
    "M = m_hat * np.array([lsvec, lsvec, lsvec, lsvec, lsvec, lsvec]).T\n",
    "# print(np.shape(M))\n",
    "# print(M)"
   ]
  },
  {
   "cell_type": "markdown",
   "id": "938cb598",
   "metadata": {},
   "source": [
    "## Get transform $T_{\\text{rect}}$"
   ]
  },
  {
   "cell_type": "code",
   "execution_count": 217,
   "id": "1679236d",
   "metadata": {},
   "outputs": [
    {
     "name": "stdout",
     "output_type": "stream",
     "text": [
      "T_rect =\n"
     ]
    },
    {
     "data": {
      "text/latex": [
       "$\\displaystyle \\left[\\begin{matrix}\\cos{\\left(\\psi \\right)} \\cos{\\left(\\theta \\right)} & \\sin{\\left(\\psi \\right)} \\cos{\\left(\\theta \\right)} & - \\sin{\\left(\\theta \\right)} & x \\cos{\\left(\\psi \\right)} \\cos{\\left(\\theta \\right)} + y \\sin{\\left(\\psi \\right)} \\cos{\\left(\\theta \\right)} - z \\sin{\\left(\\theta \\right)}\\\\\\sin{\\left(\\phi \\right)} \\sin{\\left(\\theta \\right)} \\cos{\\left(\\psi \\right)} - \\sin{\\left(\\psi \\right)} \\cos{\\left(\\phi \\right)} & \\sin{\\left(\\phi \\right)} \\sin{\\left(\\psi \\right)} \\sin{\\left(\\theta \\right)} + \\cos{\\left(\\phi \\right)} \\cos{\\left(\\psi \\right)} & \\sin{\\left(\\phi \\right)} \\cos{\\left(\\theta \\right)} & x \\left(\\sin{\\left(\\phi \\right)} \\sin{\\left(\\theta \\right)} \\cos{\\left(\\psi \\right)} - \\sin{\\left(\\psi \\right)} \\cos{\\left(\\phi \\right)}\\right) + y \\left(\\sin{\\left(\\phi \\right)} \\sin{\\left(\\psi \\right)} \\sin{\\left(\\theta \\right)} + \\cos{\\left(\\phi \\right)} \\cos{\\left(\\psi \\right)}\\right) + z \\sin{\\left(\\phi \\right)} \\cos{\\left(\\theta \\right)}\\\\\\sin{\\left(\\phi \\right)} \\sin{\\left(\\psi \\right)} + \\sin{\\left(\\theta \\right)} \\cos{\\left(\\phi \\right)} \\cos{\\left(\\psi \\right)} & - \\sin{\\left(\\phi \\right)} \\cos{\\left(\\psi \\right)} + \\sin{\\left(\\psi \\right)} \\sin{\\left(\\theta \\right)} \\cos{\\left(\\phi \\right)} & \\cos{\\left(\\phi \\right)} \\cos{\\left(\\theta \\right)} & x \\left(\\sin{\\left(\\phi \\right)} \\sin{\\left(\\psi \\right)} + \\sin{\\left(\\theta \\right)} \\cos{\\left(\\phi \\right)} \\cos{\\left(\\psi \\right)}\\right) + y \\left(- \\sin{\\left(\\phi \\right)} \\cos{\\left(\\psi \\right)} + \\sin{\\left(\\psi \\right)} \\sin{\\left(\\theta \\right)} \\cos{\\left(\\phi \\right)}\\right) + z \\cos{\\left(\\phi \\right)} \\cos{\\left(\\theta \\right)}\\\\0 & 0 & 0 & 1\\end{matrix}\\right]$"
      ],
      "text/plain": [
       "⎡           cos(ψ)⋅cos(θ)                          sin(ψ)⋅cos(θ)              \n",
       "⎢                                                                             \n",
       "⎢sin(φ)⋅sin(θ)⋅cos(ψ) - sin(ψ)⋅cos(φ)  sin(φ)⋅sin(ψ)⋅sin(θ) + cos(φ)⋅cos(ψ)   \n",
       "⎢                                                                             \n",
       "⎢sin(φ)⋅sin(ψ) + sin(θ)⋅cos(φ)⋅cos(ψ)  -sin(φ)⋅cos(ψ) + sin(ψ)⋅sin(θ)⋅cos(φ)  \n",
       "⎢                                                                             \n",
       "⎣                 0                                      0                    \n",
       "\n",
       "   -sin(θ)                                  x⋅cos(ψ)⋅cos(θ) + y⋅sin(ψ)⋅cos(θ) \n",
       "                                                                              \n",
       "sin(φ)⋅cos(θ)  x⋅(sin(φ)⋅sin(θ)⋅cos(ψ) - sin(ψ)⋅cos(φ)) + y⋅(sin(φ)⋅sin(ψ)⋅sin\n",
       "                                                                              \n",
       "cos(φ)⋅cos(θ)  x⋅(sin(φ)⋅sin(ψ) + sin(θ)⋅cos(φ)⋅cos(ψ)) + y⋅(-sin(φ)⋅cos(ψ) + \n",
       "                                                                              \n",
       "      0                                                          1            \n",
       "\n",
       "- z⋅sin(θ)                             ⎤\n",
       "                                       ⎥\n",
       "(θ) + cos(φ)⋅cos(ψ)) + z⋅sin(φ)⋅cos(θ) ⎥\n",
       "                                       ⎥\n",
       "sin(ψ)⋅sin(θ)⋅cos(φ)) + z⋅cos(φ)⋅cos(θ)⎥\n",
       "                                       ⎥\n",
       "                                       ⎦"
      ]
     },
     "execution_count": 217,
     "metadata": {},
     "output_type": "execute_result"
    }
   ],
   "source": [
    "x, y, z, phi, theta, psi = symbols('x y z phi theta psi')\n",
    "# m_hat = Matrix([x, y, z, phi, theta, phi]).T\n",
    "m_hat = np.array([1,2,3,0.4,0.5,0.6])\n",
    "# print( \"m_hat = \", pretty(m_hat))\n",
    "\n",
    "T_roll = Matrix([[1, 0, 0, 0],\n",
    "                 [0, cos(phi), sin(phi), 0],\n",
    "                 [0, -sin(phi), cos(phi), 0],\n",
    "                 [0, 0, 0, 1]])\n",
    "# print(\"\\n T_roll =\") \n",
    "# print(pretty(T_roll))\n",
    "\n",
    "T_pitch = Matrix([[cos(theta), 0, -sin(theta), 0],\n",
    "                 [0, 1, 0, 0],\n",
    "                 [sin(theta), 0, cos(theta), 0],\n",
    "                 [0, 0, 0, 1]])\n",
    "# print(\"\\n T_pitch =\") \n",
    "# print(pretty(T_pitch))\n",
    "\n",
    "#Recall we are setting T_yaw to identity here since scan axis-aligned motion is already compensated for\n",
    "T_yaw = Matrix([[cos(psi), sin(psi), 0, 0],\n",
    "                 [-sin(psi), cos(psi), 0, 0],\n",
    "                 [0, 0, 1, 0],\n",
    "                 [0, 0, 0, 1]])\n",
    "# print(\"\\n T_yaw =\") \n",
    "# print(pretty(T_yaw))\n",
    "\n",
    "T_trans = Matrix([[1, 0, 0, x],\n",
    "                 [0, 1, 0, y],\n",
    "                 [0, 0, 1, z],\n",
    "                 [0, 0, 0, 1]])\n",
    "# print(\"\\n T_trans =\") \n",
    "# print(pretty(T_trans))\n",
    "\n",
    "T_rect = (T_roll * T_pitch * T_yaw * T_trans)\n",
    "# T_rect = (T_roll * T_pitch * T_yaw * T_trans).inv()\n",
    "print(\"T_rect =\")\n",
    "T_rect"
   ]
  },
  {
   "cell_type": "code",
   "execution_count": 221,
   "id": "0254323c",
   "metadata": {},
   "outputs": [
    {
     "data": {
      "text/latex": [
       "$\\displaystyle \\left[\\begin{matrix}\\cos{\\left(\\psi \\right)} \\cos{\\left(\\theta \\right)} & \\sin{\\left(\\psi \\right)} \\cos{\\left(\\theta \\right)} & - \\sin{\\left(\\theta \\right)} & x \\cos{\\left(\\psi \\right)} \\cos{\\left(\\theta \\right)} + y \\sin{\\left(\\psi \\right)} \\cos{\\left(\\theta \\right)} - z \\sin{\\left(\\theta \\right)}\\\\\\sin{\\left(\\phi \\right)} \\sin{\\left(\\theta \\right)} \\cos{\\left(\\psi \\right)} - \\sin{\\left(\\psi \\right)} \\cos{\\left(\\phi \\right)} & \\sin{\\left(\\phi \\right)} \\sin{\\left(\\psi \\right)} \\sin{\\left(\\theta \\right)} + \\cos{\\left(\\phi \\right)} \\cos{\\left(\\psi \\right)} & \\sin{\\left(\\phi \\right)} \\cos{\\left(\\theta \\right)} & x \\left(\\sin{\\left(\\phi \\right)} \\sin{\\left(\\theta \\right)} \\cos{\\left(\\psi \\right)} - \\sin{\\left(\\psi \\right)} \\cos{\\left(\\phi \\right)}\\right) + y \\left(\\sin{\\left(\\phi \\right)} \\sin{\\left(\\psi \\right)} \\sin{\\left(\\theta \\right)} + \\cos{\\left(\\phi \\right)} \\cos{\\left(\\psi \\right)}\\right) + z \\sin{\\left(\\phi \\right)} \\cos{\\left(\\theta \\right)}\\\\\\sin{\\left(\\phi \\right)} \\sin{\\left(\\psi \\right)} + \\sin{\\left(\\theta \\right)} \\cos{\\left(\\phi \\right)} \\cos{\\left(\\psi \\right)} & - \\sin{\\left(\\phi \\right)} \\cos{\\left(\\psi \\right)} + \\sin{\\left(\\psi \\right)} \\sin{\\left(\\theta \\right)} \\cos{\\left(\\phi \\right)} & \\cos{\\left(\\phi \\right)} \\cos{\\left(\\theta \\right)} & x \\left(\\sin{\\left(\\phi \\right)} \\sin{\\left(\\psi \\right)} + \\sin{\\left(\\theta \\right)} \\cos{\\left(\\phi \\right)} \\cos{\\left(\\psi \\right)}\\right) - y \\left(\\sin{\\left(\\phi \\right)} \\cos{\\left(\\psi \\right)} - \\sin{\\left(\\psi \\right)} \\sin{\\left(\\theta \\right)} \\cos{\\left(\\phi \\right)}\\right) + z \\cos{\\left(\\phi \\right)} \\cos{\\left(\\theta \\right)}\\\\0 & 0 & 0 & 1\\end{matrix}\\right]$"
      ],
      "text/plain": [
       "⎡           cos(ψ)⋅cos(θ)                          sin(ψ)⋅cos(θ)              \n",
       "⎢                                                                             \n",
       "⎢sin(φ)⋅sin(θ)⋅cos(ψ) - sin(ψ)⋅cos(φ)  sin(φ)⋅sin(ψ)⋅sin(θ) + cos(φ)⋅cos(ψ)   \n",
       "⎢                                                                             \n",
       "⎢sin(φ)⋅sin(ψ) + sin(θ)⋅cos(φ)⋅cos(ψ)  -sin(φ)⋅cos(ψ) + sin(ψ)⋅sin(θ)⋅cos(φ)  \n",
       "⎢                                                                             \n",
       "⎣                 0                                      0                    \n",
       "\n",
       "   -sin(θ)                                 x⋅cos(ψ)⋅cos(θ) + y⋅sin(ψ)⋅cos(θ) -\n",
       "                                                                              \n",
       "sin(φ)⋅cos(θ)  x⋅(sin(φ)⋅sin(θ)⋅cos(ψ) - sin(ψ)⋅cos(φ)) + y⋅(sin(φ)⋅sin(ψ)⋅sin\n",
       "                                                                              \n",
       "cos(φ)⋅cos(θ)  x⋅(sin(φ)⋅sin(ψ) + sin(θ)⋅cos(φ)⋅cos(ψ)) - y⋅(sin(φ)⋅cos(ψ) - s\n",
       "                                                                              \n",
       "      0                                                          1            \n",
       "\n",
       " z⋅sin(θ)                             ⎤\n",
       "                                      ⎥\n",
       "(θ) + cos(φ)⋅cos(ψ)) + z⋅sin(φ)⋅cos(θ)⎥\n",
       "                                      ⎥\n",
       "in(ψ)⋅sin(θ)⋅cos(φ)) + z⋅cos(φ)⋅cos(θ)⎥\n",
       "                                      ⎥\n",
       "                                      ⎦"
      ]
     },
     "execution_count": 221,
     "metadata": {},
     "output_type": "execute_result"
    }
   ],
   "source": [
    "#try simplifying T_rect before takiking derivatives!\n",
    "T_rect = simplify(T_rect)\n",
    "T_rect\n",
    "# print(latex(T_rect))\n",
    "# print(T_rect)"
   ]
  },
  {
   "cell_type": "code",
   "execution_count": 111,
   "id": "8f8e1f9f",
   "metadata": {},
   "outputs": [
    {
     "data": {
      "text/latex": [
       "$\\displaystyle \\left[\\begin{matrix}- \\sin{\\left(\\theta \\right)} \\cos{\\left(\\psi \\right)} & \\sin{\\left(\\phi \\right)} \\cos{\\left(\\psi \\right)} \\cos{\\left(\\theta \\right)} & \\cos{\\left(\\phi \\right)} \\cos{\\left(\\psi \\right)} \\cos{\\left(\\theta \\right)} & 0\\\\- \\sin{\\left(\\psi \\right)} \\sin{\\left(\\theta \\right)} & \\sin{\\left(\\phi \\right)} \\sin{\\left(\\psi \\right)} \\cos{\\left(\\theta \\right)} & \\sin{\\left(\\psi \\right)} \\cos{\\left(\\phi \\right)} \\cos{\\left(\\theta \\right)} & 0\\\\- \\cos{\\left(\\theta \\right)} & - \\sin{\\left(\\phi \\right)} \\sin{\\left(\\theta \\right)} & - \\sin{\\left(\\theta \\right)} \\cos{\\left(\\phi \\right)} & 0\\\\0 & 0 & 0 & 0\\end{matrix}\\right]$"
      ],
      "text/plain": [
       "⎡-sin(θ)⋅cos(ψ)  sin(φ)⋅cos(ψ)⋅cos(θ)  cos(φ)⋅cos(ψ)⋅cos(θ)  0⎤\n",
       "⎢                                                             ⎥\n",
       "⎢-sin(ψ)⋅sin(θ)  sin(φ)⋅sin(ψ)⋅cos(θ)  sin(ψ)⋅cos(φ)⋅cos(θ)  0⎥\n",
       "⎢                                                             ⎥\n",
       "⎢   -cos(θ)         -sin(φ)⋅sin(θ)        -sin(θ)⋅cos(φ)     0⎥\n",
       "⎢                                                             ⎥\n",
       "⎣      0                  0                     0            0⎦"
      ]
     },
     "execution_count": 111,
     "metadata": {},
     "output_type": "execute_result"
    }
   ],
   "source": [
    "# print(diff(T_rect, x))\n",
    "# diff(T_rect,y)\n",
    "# print(diff(T_rect, z))\n",
    "# print(diff(T_rect, psi))\n",
    "# diff(T_rect, phi)\n",
    "diff(T_rect, theta)\n",
    "# print(diff(T_rect, theta))\n",
    "# print(latex(diff(T_rect, phi)))"
   ]
  },
  {
   "cell_type": "code",
   "execution_count": 24,
   "id": "4d5489a9",
   "metadata": {},
   "outputs": [],
   "source": [
    "# # print(T_rect) # -> take printed output and convert to numpy array\n",
    "\n",
    "# # from tensorflow.math import sin, cos\n",
    "# from numpy import sin, cos\n",
    "\n",
    "# x = np.array([1,2,3])#[:,None]\n",
    "# y = np.array([1,2,3])#[:,None]\n",
    "# z = np.array([1,2,3])#[:,None]\n",
    "# phi = np.array([1,2,3])#[:,None]\n",
    "# theta = np.array([1,2,3])#[:,None]\n",
    "# psi = np.array([1,2,3])#[:,None]\n",
    "# test = np.array([cos(x) * cos(y) / sin(phi), cos(x) * cos(y) / sin(phi)])\n",
    "# print(np.shape(test))\n",
    "# print(test)\n",
    "\n",
    "# T_rect_np = np.array([[cos(psi)*cos(theta)/(sin(psi)**2*sin(theta)**2 + sin(psi)**2*cos(theta)**2 + sin(theta)**2*cos(psi)**2 + cos(psi)**2*cos(theta)**2), (sin(phi)*sin(theta)*cos(psi) - sin(psi)*sin(theta)**2*cos(phi) - sin(psi)*cos(phi)*cos(theta)**2)/(sin(phi)**2*sin(psi)**2*sin(theta)**2 + sin(phi)**2*sin(psi)**2*cos(theta)**2 + sin(phi)**2*sin(theta)**2*cos(psi)**2 + sin(phi)**2*cos(psi)**2*cos(theta)**2 + sin(psi)**2*sin(theta)**2*cos(phi)**2 + sin(psi)**2*cos(phi)**2*cos(theta)**2 + sin(theta)**2*cos(phi)**2*cos(psi)**2 + cos(phi)**2*cos(psi)**2*cos(theta)**2), (sin(phi)*sin(psi)*sin(theta)**2 + sin(phi)*sin(psi)*cos(theta)**2 + sin(theta)*cos(phi)*cos(psi))/(sin(phi)**2*sin(psi)**2*sin(theta)**2 + sin(phi)**2*sin(psi)**2*cos(theta)**2 + sin(phi)**2*sin(theta)**2*cos(psi)**2 + sin(phi)**2*cos(psi)**2*cos(theta)**2 + sin(psi)**2*sin(theta)**2*cos(phi)**2 + sin(psi)**2*cos(phi)**2*cos(theta)**2 + sin(theta)**2*cos(phi)**2*cos(psi)**2 + cos(phi)**2*cos(psi)**2*cos(theta)**2), -x], [sin(psi)*cos(theta)/(sin(psi)**2*sin(theta)**2 + sin(psi)**2*cos(theta)**2 + sin(theta)**2*cos(psi)**2 + cos(psi)**2*cos(theta)**2), (sin(phi)*sin(psi)*sin(theta) + sin(theta)**2*cos(phi)*cos(psi) + cos(phi)*cos(psi)*cos(theta)**2)/(sin(phi)**2*sin(psi)**2*sin(theta)**2 + sin(phi)**2*sin(psi)**2*cos(theta)**2 + sin(phi)**2*sin(theta)**2*cos(psi)**2 + sin(phi)**2*cos(psi)**2*cos(theta)**2 + sin(psi)**2*sin(theta)**2*cos(phi)**2 + sin(psi)**2*cos(phi)**2*cos(theta)**2 + sin(theta)**2*cos(phi)**2*cos(psi)**2 + cos(phi)**2*cos(psi)**2*cos(theta)**2), (-sin(phi)*sin(theta)**2*cos(psi) - sin(phi)*cos(psi)*cos(theta)**2 + sin(psi)*sin(theta)*cos(phi))/(sin(phi)**2*sin(psi)**2*sin(theta)**2 + sin(phi)**2*sin(psi)**2*cos(theta)**2 + sin(phi)**2*sin(theta)**2*cos(psi)**2 + sin(phi)**2*cos(psi)**2*cos(theta)**2 + sin(psi)**2*sin(theta)**2*cos(phi)**2 + sin(psi)**2*cos(phi)**2*cos(theta)**2 + sin(theta)**2*cos(phi)**2*cos(psi)**2 + cos(phi)**2*cos(psi)**2*cos(theta)**2), -y], [-sin(theta)/(sin(theta)**2 + cos(theta)**2), sin(phi)*cos(theta)/(sin(phi)**2*sin(theta)**2 + sin(phi)**2*cos(theta)**2 + sin(theta)**2*cos(phi)**2 + cos(phi)**2*cos(theta)**2), cos(phi)*cos(theta)/(sin(phi)**2*sin(theta)**2 + sin(phi)**2*cos(theta)**2 + sin(theta)**2*cos(phi)**2 + cos(phi)**2*cos(theta)**2), -z], \n",
    "#                       [np.zeros(len(x)), np.zeros(len(x)), np.zeros(len(x)), np.ones(len(x))]])\n",
    "# print(np.shape(T_rect_np))\n",
    "# test = np.transpose(T_rect_np, (2,0,1))\n",
    "# print(test)"
   ]
  },
  {
   "cell_type": "code",
   "execution_count": 14,
   "id": "16141b9d",
   "metadata": {},
   "outputs": [],
   "source": [
    "# y_j = y_j[:3]\n",
    "# if np.shape(y_j)[1] == 3:\n",
    "#     y_j = np.append(y_j, np.ones([len(y_j),1]), axis = 1)\n",
    "\n",
    "# # y_j_tf = tf.convert_to_tensor(y_j[:,:,None])\n",
    "# # test_tf = tf.convert_to_tensor(test)\n",
    "# # print(np.shape(y_j_tf))\n",
    "# # print(np.shape(test_tf))\n",
    "\n",
    "# # ans = y_j_tf * test_tf\n",
    "\n",
    "# print(np.shape(y_j[:,:,None]))\n",
    "# print(np.shape(test))\n",
    "# # ans = y_j[:,:,None] * test\n",
    "# ans = test @ y_j[:,:,None]\n",
    "\n",
    "\n",
    "# print(np.shape(ans))\n",
    "# print(ans)\n",
    "# ans = np.reshape(ans, (-1, 1))\n",
    "# print(ans)"
   ]
  },
  {
   "cell_type": "code",
   "execution_count": 99,
   "id": "686425f5",
   "metadata": {},
   "outputs": [
    {
     "data": {
      "text/latex": [
       "$\\displaystyle \\left[\\begin{matrix}0 & \\sin{\\left(\\phi \\right)} \\sin{\\left(\\psi \\right)} + \\sin{\\left(\\theta \\right)} \\cos{\\left(\\phi \\right)} \\cos{\\left(\\psi \\right)} & - \\sin{\\left(\\phi \\right)} \\sin{\\left(\\theta \\right)} \\cos{\\left(\\psi \\right)} + \\sin{\\left(\\psi \\right)} \\cos{\\left(\\phi \\right)} & 0\\\\0 & - \\sin{\\left(\\phi \\right)} \\cos{\\left(\\psi \\right)} + \\sin{\\left(\\psi \\right)} \\sin{\\left(\\theta \\right)} \\cos{\\left(\\phi \\right)} & - \\sin{\\left(\\phi \\right)} \\sin{\\left(\\psi \\right)} \\sin{\\left(\\theta \\right)} - \\cos{\\left(\\phi \\right)} \\cos{\\left(\\psi \\right)} & 0\\\\0 & \\cos{\\left(\\phi \\right)} \\cos{\\left(\\theta \\right)} & - \\sin{\\left(\\phi \\right)} \\cos{\\left(\\theta \\right)} & 0\\\\0 & 0 & 0 & 0\\end{matrix}\\right]$"
      ],
      "text/plain": [
       "⎡0  sin(φ)⋅sin(ψ) + sin(θ)⋅cos(φ)⋅cos(ψ)   -sin(φ)⋅sin(θ)⋅cos(ψ) + sin(ψ)⋅cos(\n",
       "⎢                                                                             \n",
       "⎢0  -sin(φ)⋅cos(ψ) + sin(ψ)⋅sin(θ)⋅cos(φ)  -sin(φ)⋅sin(ψ)⋅sin(θ) - cos(φ)⋅cos(\n",
       "⎢                                                                             \n",
       "⎢0              cos(φ)⋅cos(θ)                         -sin(φ)⋅cos(θ)          \n",
       "⎢                                                                             \n",
       "⎣0                    0                                      0                \n",
       "\n",
       "φ)  0⎤\n",
       "     ⎥\n",
       "ψ)  0⎥\n",
       "     ⎥\n",
       "    0⎥\n",
       "     ⎥\n",
       "    0⎦"
      ]
     },
     "execution_count": 99,
     "metadata": {},
     "output_type": "execute_result"
    }
   ],
   "source": [
    "# diff(T_rect, x)\n",
    "diff(T_rect, phi)\n",
    "\n",
    "# dT_rect_dx = diff(T_rect, x)\n",
    "# pprint(dT_rect_dx)"
   ]
  },
  {
   "cell_type": "code",
   "execution_count": 16,
   "id": "8901c5c1",
   "metadata": {},
   "outputs": [
    {
     "name": "stdout",
     "output_type": "stream",
     "text": [
      "<class 'numpy.ndarray'>\n",
      "\n",
      " [[ 0.          0.58433397  0.36598239  0.        ]\n",
      " [ 0.         -0.07206591 -0.86560155  0.        ]\n",
      " [ 0.          0.80830707 -0.34174675  0.        ]\n",
      " [ 0.          0.          0.          0.        ]]\n"
     ]
    }
   ],
   "source": [
    "#substitue in values\n",
    "expr = diff(T_rect, phi)\n",
    "# print(expr)\n",
    "# expr = T_rect\n",
    "# print(m_hat)\n",
    "ans = expr.subs([(x, m_hat[0]), \n",
    "                 (y, m_hat[1]),\n",
    "                 (z, m_hat[2]),\n",
    "                 (phi, m_hat[3]),\n",
    "                 (theta, m_hat[4]),\n",
    "                 (psi, m_hat[5])])\n",
    "print(type(np.array(ans)))\n",
    "print(\"\\n\", np.array(ans).astype(np.float64))"
   ]
  },
  {
   "cell_type": "markdown",
   "id": "bdad51e8",
   "metadata": {},
   "source": [
    "# Test rectifying motion distortion usuing SymPy Linalg technique"
   ]
  },
  {
   "cell_type": "code",
   "execution_count": 239,
   "id": "d94129f1",
   "metadata": {
    "scrolled": false
   },
   "outputs": [
    {
     "data": {
      "application/vnd.jupyter.widget-view+json": {
       "model_id": "0eed57445f094a6c813b04047859ae4f",
       "version_major": 2,
       "version_minor": 0
      },
      "text/plain": [
       "ViewInteractiveWidget(height=1043, layout=Layout(height='auto', width='100%'), width=1280)"
      ]
     },
     "metadata": {},
     "output_type": "display_data"
    }
   ],
   "source": [
    "from remove_motion_basic import get_H\n",
    "from remove_motion_basic import linear_correction_old as lc \n",
    "\n",
    "m_hat = np.array([3, 0, 0, 0, 0, 0])\n",
    "skip = 1\n",
    "y_j = old_cloud[::skip]\n",
    "# y_j = old_cloud[::skip] + np.array([0.5, 0.5, 0.]) #test offset - hurts performance but doesn't cause anything to explode\n",
    "y_i = new_cloud[::skip] #has distortion already corrected\n",
    "\n",
    "# #remove ground plane\n",
    "# y_i = y_i[y_i[:,2] > -1]\n",
    "# y_j = y_j[y_j[:,2] > -1]\n",
    "\n",
    "H = get_H(y_j = y_j, m_hat = m_hat )\n",
    "\n",
    "#plot result\n",
    "plt = Plotter(N = 1, axes = 4, bg = (1, 1, 1), interactive = True)\n",
    "disp=[]\n",
    "disp.append(Points(y_i, c = \"#CB2314\", r=3.5))\n",
    "disp.append(Points(y_j, c = \"#3F5151\", r=3.5))\n",
    "plt.show(disp, \"test viz\")\n",
    "ViewInteractiveWidget(plt.window)"
   ]
  },
  {
   "cell_type": "code",
   "execution_count": 87,
   "id": "1be507d5",
   "metadata": {},
   "outputs": [
    {
     "name": "stdout",
     "output_type": "stream",
     "text": [
      "(66256, 6)\n",
      "66256\n"
     ]
    }
   ],
   "source": [
    "print(np.shape(H))\n",
    "print(np.shape(y_j)[0]*4)"
   ]
  },
  {
   "cell_type": "markdown",
   "id": "5be8a4d8",
   "metadata": {},
   "source": [
    "# Simple Test using pre-rectified point cloud\n",
    "#### in this example we don't need to worry about iteratively finding correspondences\n",
    "(y_i and y_j are the same length and are ordered accordingly) "
   ]
  },
  {
   "cell_type": "code",
   "execution_count": 222,
   "id": "97ebdff8",
   "metadata": {
    "scrolled": true
   },
   "outputs": [
    {
     "name": "stdout",
     "output_type": "stream",
     "text": [
      "~~~~ iteration  0 ~~~~~~~~~~~\n",
      "m_hat =  [0. 0. 0. 0. 0. 0.]\n",
      "(16564, 3)\n",
      "residual (66256,)\n",
      "~~~~ iteration  1 ~~~~~~~~~~~\n",
      "m_hat =  [-0.34599979 -0.45758962  0.00315352 -0.00617179 -0.01010173 -0.39338193]\n",
      "(16564, 3)\n",
      "residual (66256,)\n",
      "~~~~ iteration  2 ~~~~~~~~~~~\n",
      "m_hat =  [-5.21549169e-02 -1.13094770e+00  7.33291572e-04 -1.56620805e-03\n",
      " -1.44139027e-02 -6.04915934e-01]\n",
      "(16564, 3)\n",
      "residual (66256,)\n",
      "~~~~ iteration  3 ~~~~~~~~~~~\n",
      "m_hat =  [ 0.49513983 -1.56394438  0.00167887  0.00308795 -0.01433306 -0.7192103 ]\n",
      "(16564, 3)\n",
      "residual (66256,)\n",
      "~~~~ iteration  4 ~~~~~~~~~~~\n",
      "m_hat =  [ 1.07761083 -1.76336648  0.00527027  0.00596725 -0.01239772 -0.78969595]\n",
      "(16564, 3)\n",
      "residual (66256,)\n",
      "~~~~ iteration  5 ~~~~~~~~~~~\n",
      "m_hat =  [ 1.58916269 -1.80149588  0.00949982  0.00733402 -0.00997579 -0.83877971]\n",
      "(16564, 3)\n",
      "residual (66256,)\n",
      "~~~~ iteration  6 ~~~~~~~~~~~\n",
      "m_hat =  [ 1.99732988 -1.74510936  0.01309584  0.0076637  -0.00766931 -0.87570496]\n",
      "(16564, 3)\n",
      "residual (66256,)\n",
      "~~~~ iteration  7 ~~~~~~~~~~~\n",
      "m_hat =  [ 2.30461584 -1.64321929  0.01552593  0.00735208 -0.00570276 -0.90453154]\n",
      "(16564, 3)\n",
      "residual (66256,)\n",
      "~~~~ iteration  8 ~~~~~~~~~~~\n",
      "m_hat =  [ 2.52683481 -1.52761276  0.01672574  0.0066846  -0.00412555 -0.92728365]\n",
      "(16564, 3)\n",
      "residual (66256,)\n",
      "~~~~ iteration  9 ~~~~~~~~~~~\n",
      "m_hat =  [ 2.68273344 -1.41668684  0.01686556  0.00585435 -0.00291119 -0.94518225]\n",
      "(16564, 3)\n",
      "residual (66256,)\n"
     ]
    },
    {
     "data": {
      "application/vnd.jupyter.widget-view+json": {
       "model_id": "4c9cbb71bb3746b7a8d9c3a7bd28042b",
       "version_major": 2,
       "version_minor": 0
      },
      "text/plain": [
       "ViewInteractiveWidget(height=1043, layout=Layout(height='auto', width='100%'), width=1280)"
      ]
     },
     "metadata": {},
     "output_type": "display_data"
    }
   ],
   "source": [
    "#assume initial correction factor of 0 for each solution component\n",
    "m_hat = np.array([0., 0, 0, 0, 0, 0])\n",
    "skip = 1 #50\n",
    "y_i = new_cloud[::skip] #baseline\n",
    "y_j = old_cloud[::skip] #distorted cloud\n",
    "# y_j = old_cloud[::skip] + np.array([0.5, 0.5, 0.]) #test offset - hurts performance but doesn't cause anything to explode\n",
    "\n",
    "# #add noise \n",
    "# noise_scale = 0.01\n",
    "# y_i += np.random.randn(np.shape(y_i)[0],np.shape(y_i)[1])*noise_scale \n",
    "# y_j += np.random.randn(np.shape(y_j)[0],np.shape(y_j)[1])*noise_scale \n",
    "\n",
    "plt = Plotter(N = 1, axes = 4, bg = (1, 1, 1), interactive = True)\n",
    "disp=[]\n",
    "disp.append(Points(y_i[:,:3], c = \"#2c7c94 \", alpha = 1, r=3.5))\n",
    "\n",
    "runlen = 10\n",
    "for count in range(runlen):\n",
    "    \n",
    "    print(\"~~~~ iteration \", count, \"~~~~~~~~~~~\")\n",
    "    print(\"m_hat = \", m_hat)\n",
    "    \n",
    "    #apply last estimate of correction\n",
    "    y_j_undistort = lc(y_j, m_hat)\n",
    "    print(np.shape(y_j_undistort))\n",
    "    \n",
    "    #delta_m =  ((H^T*H)^-1)(H^T)(yi - yj*)\n",
    "    H = get_H(y_j_undistort, m_hat)\n",
    "    residual = (np.append(y_i, np.ones([len(y_i),1]), axis = 1) -\n",
    "                np.append(y_j_undistort, np.ones([len(y_i),1]), axis = 1)).flatten()\n",
    "    print(\"residual\", np.shape(residual))\n",
    "    delta_m = np.linalg.pinv(H.T @ H) @ H.T @ residual\n",
    "    m_hat[:3] -= delta_m[:3]\n",
    "    m_hat[3:] += delta_m[3:] #TODO: figure out why angles are backwards...    \n",
    "    \n",
    "    #plot updated cloud2\n",
    "#     color = [0.5 + count/(runlen*2), 1 - count/runlen, count/runlen]\n",
    "    disp.append(Points(y_j_undistort[:,:3], c = \"#a65852 \", alpha = (count+1)/(runlen+1), r=3.5))\n",
    "\n",
    "    \n",
    "plt.show(disp, \"test viz\")\n",
    "ViewInteractiveWidget(plt.window)"
   ]
  },
  {
   "cell_type": "markdown",
   "id": "83ab424c",
   "metadata": {},
   "source": [
    "# Test using spherical voxels to form distributions"
   ]
  },
  {
   "cell_type": "code",
   "execution_count": 271,
   "id": "45ddbb65",
   "metadata": {},
   "outputs": [
    {
     "data": {
      "application/vnd.jupyter.widget-view+json": {
       "model_id": "af12bc8f4e494028aaf6ed9d6964b810",
       "version_major": 2,
       "version_minor": 0
      },
      "text/plain": [
       "ViewInteractiveWidget(height=1043, layout=Layout(height='auto', width='100%'), width=1280)"
      ]
     },
     "metadata": {},
     "output_type": "display_data"
    }
   ],
   "source": [
    "#DEBUG: convert <apply_motion_profile> to linalg \n",
    "pc1 = new_cloud\n",
    "pc2 = old_cloud\n",
    "## only take first part of cloud\n",
    "# pc1 = new_cloud[:5000]\n",
    "# pc2 = old_cloud[:5000]\n",
    "# # remove ground plane\n",
    "# pc1 = new_cloud[new_cloud[:,2] > -1]\n",
    "# pc2 = old_cloud[old_cloud[:,2] > -1]\n",
    "\n",
    "# m_hat = np.array([3, -1, 0, 0, 0, -1])\n",
    "# pc1 = new_cloud + 0.01*np.random.randn(np.shape(new_cloud)[0],3)\n",
    "# m_hat = np.array([0, 0, 0, 0.2, 0, 0])\n",
    "# pc2 = dc.apply_motion_profile(old_cloud, m_hat)\n",
    "\n",
    "plt2 = Plotter(N = 1, axes = 4, bg = (1, 1, 1), interactive = True)\n",
    "disp=[]\n",
    "disp.append(Points(pc1,  c = 'red'))\n",
    "disp.append(Points(pc2, c = 'blue'))\n",
    "plt2.show(disp, \"test viz\")\n",
    "ViewInteractiveWidget(plt2.window)"
   ]
  },
  {
   "cell_type": "code",
   "execution_count": 273,
   "id": "1cc01fa9",
   "metadata": {
    "scrolled": true
   },
   "outputs": [
    {
     "name": "stdout",
     "output_type": "stream",
     "text": [
      "~~~~~~~~~~~Iteration  0 ~~~~~~~~~~\n",
      "took 0.016081571578979492 sec  to apply motion profile\n",
      "took 0.0008864402770996094 sec to get H\n",
      "m_hat:  [ 4.44629341e-02 -1.04362369e-01  4.62496064e-05 -2.61379500e-05\n",
      " -9.31816321e-05 -6.16396964e-02]\n",
      "~~~~~~~~~~~Iteration  1 ~~~~~~~~~~\n",
      "took 0.015378952026367188 sec  to apply motion profile\n",
      "took 0.0009012222290039062 sec to get H\n",
      "m_hat:  [ 8.18918198e-02 -2.32703969e-01  1.43790807e-04 -3.37903512e-05\n",
      " -9.96215895e-05 -1.35321587e-01]\n",
      "~~~~~~~~~~~Iteration  2 ~~~~~~~~~~\n",
      "took 0.014311790466308594 sec  to apply motion profile\n",
      "took 0.0008947849273681641 sec to get H\n",
      "m_hat:  [ 1.10727683e-01 -3.16358596e-01  2.66961404e-04 -5.49755096e-05\n",
      " -1.06042433e-04 -2.19963565e-01]\n",
      "~~~~~~~~~~~Iteration  3 ~~~~~~~~~~\n",
      "took 0.016206979751586914 sec  to apply motion profile\n",
      "took 0.0009379386901855469 sec to get H\n",
      "m_hat:  [ 1.34100407e-01 -4.41143781e-01  2.49973265e-04 -9.12984324e-05\n",
      " -8.97186110e-05 -3.08513284e-01]\n",
      "~~~~~~~~~~~Iteration  4 ~~~~~~~~~~\n",
      "took 0.014292001724243164 sec  to apply motion profile\n",
      "took 0.0009069442749023438 sec to get H\n",
      "m_hat:  [ 1.56002909e-01 -5.66663265e-01  2.00851471e-04 -1.15288211e-04\n",
      " -8.21655340e-05 -3.96303236e-01]\n",
      "~~~~~~~~~~~Iteration  5 ~~~~~~~~~~\n",
      "took 0.015141487121582031 sec  to apply motion profile\n",
      "took 0.0009090900421142578 sec to get H\n",
      "m_hat:  [ 1.71879694e-01 -6.22844577e-01  1.61609612e-04 -1.41133234e-04\n",
      " -6.71602902e-05 -4.89448845e-01]\n",
      "~~~~~~~~~~~Iteration  6 ~~~~~~~~~~\n",
      "took 0.013833284378051758 sec  to apply motion profile\n",
      "took 0.0010154247283935547 sec to get H\n",
      "m_hat:  [ 2.14205101e-01 -6.79110110e-01  1.74057073e-04 -1.55387781e-04\n",
      " -4.68380676e-05 -5.69014728e-01]\n",
      "~~~~~~~~~~~Iteration  7 ~~~~~~~~~~\n",
      "took 0.015242338180541992 sec  to apply motion profile\n",
      "took 0.0009768009185791016 sec to get H\n",
      "m_hat:  [ 2.38616407e-01 -6.63402081e-01  1.97148387e-04 -1.73065491e-04\n",
      " -2.01547991e-05 -6.47015810e-01]\n",
      "~~~~~~~~~~~Iteration  8 ~~~~~~~~~~\n",
      "took 0.014915704727172852 sec  to apply motion profile\n",
      "took 0.0010154247283935547 sec to get H\n",
      "m_hat:  [ 3.03267211e-01 -7.11641371e-01  2.07310120e-04 -1.55820031e-04\n",
      "  7.76008528e-06 -7.05582976e-01]\n",
      "~~~~~~~~~~~Iteration  9 ~~~~~~~~~~\n",
      "took 0.015032291412353516 sec  to apply motion profile\n",
      "took 0.0010542869567871094 sec to get H\n",
      "m_hat:  [ 4.14815933e-01 -8.09666395e-01  2.42620285e-04 -1.27305058e-04\n",
      "  3.55891243e-05 -7.46481478e-01]\n",
      "~~~~~~~~~~~Iteration  10 ~~~~~~~~~~\n",
      "took 0.014687299728393555 sec  to apply motion profile\n",
      "took 0.0010423660278320312 sec to get H\n",
      "m_hat:  [ 5.42529166e-01 -8.92482460e-01  2.77616607e-04 -1.07089843e-04\n",
      "  5.00485912e-05 -7.79790819e-01]\n",
      "~~~~~~~~~~~Iteration  11 ~~~~~~~~~~\n",
      "took 0.014680862426757812 sec  to apply motion profile\n",
      "took 0.001028299331665039 sec to get H\n",
      "m_hat:  [ 6.90158248e-01 -9.79166090e-01  3.36086203e-04 -8.82204404e-05\n",
      "  5.31767801e-05 -8.04665387e-01]\n",
      "~~~~~~~~~~~Iteration  12 ~~~~~~~~~~\n",
      "took 0.014589548110961914 sec  to apply motion profile\n",
      "took 0.0010540485382080078 sec to get H\n",
      "m_hat:  [ 8.50793242e-01 -1.06570292e+00  3.65250569e-04 -7.89229161e-05\n",
      "  4.57035349e-05 -8.23360920e-01]\n",
      "~~~~~~~~~~~Iteration  13 ~~~~~~~~~~\n",
      "took 0.01652359962463379 sec  to apply motion profile\n",
      "took 0.0010683536529541016 sec to get H\n",
      "m_hat:  [ 1.00432491e+00 -1.12177968e+00  3.43417865e-04 -6.39988575e-05\n",
      "  4.75510351e-05 -8.40621710e-01]\n",
      "~~~~~~~~~~~Iteration  14 ~~~~~~~~~~\n",
      "took 0.014639139175415039 sec  to apply motion profile\n",
      "took 0.0010831356048583984 sec to get H\n",
      "m_hat:  [ 1.15413034e+00 -1.16075850e+00  3.37121339e-04 -4.78388174e-05\n",
      "  5.65160735e-05 -8.56006086e-01]\n",
      "~~~~~~~~~~~Iteration  15 ~~~~~~~~~~\n",
      "took 0.015058755874633789 sec  to apply motion profile\n",
      "took 0.0010657310485839844 sec to get H\n",
      "m_hat:  [ 1.30548501e+00 -1.18522191e+00  3.24893655e-04 -4.25976359e-05\n",
      "  4.05724059e-05 -8.69646192e-01]\n",
      "~~~~~~~~~~~Iteration  16 ~~~~~~~~~~\n",
      "took 0.014828920364379883 sec  to apply motion profile\n",
      "took 0.0011827945709228516 sec to get H\n",
      "m_hat:  [ 1.46080017e+00 -1.19852924e+00  3.95103183e-04 -2.27237906e-05\n",
      "  6.08574228e-05 -8.81826162e-01]\n",
      "~~~~~~~~~~~Iteration  17 ~~~~~~~~~~\n",
      "took 0.015340805053710938 sec  to apply motion profile\n",
      "took 0.0011794567108154297 sec to get H\n",
      "m_hat:  [ 1.62834537e+00 -1.23397791e+00  4.03463899e-04  5.98212318e-06\n",
      "  8.45878531e-05 -8.88370454e-01]\n",
      "~~~~~~~~~~~Iteration  18 ~~~~~~~~~~\n",
      "took 0.014905214309692383 sec  to apply motion profile\n",
      "took 0.001138925552368164 sec to get H\n",
      "m_hat:  [ 1.77204895e+00 -1.24153447e+00  3.96828254e-04  1.91361232e-05\n",
      "  9.40444006e-05 -8.96462739e-01]\n",
      "~~~~~~~~~~~Iteration  19 ~~~~~~~~~~\n",
      "took 0.014945507049560547 sec  to apply motion profile\n",
      "took 0.0012013912200927734 sec to get H\n",
      "m_hat:  [ 1.89759994e+00 -1.23183572e+00  3.44698085e-04  2.06546501e-05\n",
      "  9.76822412e-05 -9.05179501e-01]\n",
      "~~~~~~~~~~~Iteration  20 ~~~~~~~~~~\n",
      "took 0.014269590377807617 sec  to apply motion profile\n",
      "took 0.001188039779663086 sec to get H\n",
      "m_hat:  [ 2.04586387e+00 -1.22777593e+00  2.61390873e-04  2.97468068e-06\n",
      "  1.12027199e-04 -9.14452851e-01]\n",
      "~~~~~~~~~~~Iteration  21 ~~~~~~~~~~\n",
      "took 0.015616655349731445 sec  to apply motion profile\n",
      "took 0.0012028217315673828 sec to get H\n",
      "m_hat:  [ 2.19683957e+00 -1.26406038e+00 -4.47340426e-06 -3.74753217e-05\n",
      "  7.82566785e-05 -9.19138968e-01]\n",
      "~~~~~~~~~~~Iteration  22 ~~~~~~~~~~\n",
      "took 0.015246868133544922 sec  to apply motion profile\n",
      "took 0.0013165473937988281 sec to get H\n",
      "m_hat:  [ 2.33753800e+00 -1.31244290e+00 -2.57685693e-04 -4.54742803e-05\n",
      "  1.01622572e-04 -9.24179077e-01]\n",
      "~~~~~~~~~~~Iteration  23 ~~~~~~~~~~\n",
      "took 0.015320301055908203 sec  to apply motion profile\n",
      "took 0.0013256072998046875 sec to get H\n",
      "m_hat:  [ 2.47913194e+00 -1.32516789e+00 -4.04593011e-04 -7.24689089e-05\n",
      "  1.48430729e-04 -9.33024108e-01]\n",
      "~~~~~~~~~~~Iteration  24 ~~~~~~~~~~\n",
      "took 0.015616655349731445 sec  to apply motion profile\n",
      "took 0.0013053417205810547 sec to get H\n",
      "m_hat:  [ 2.58773470e+00 -1.31213713e+00 -6.25552493e-04 -1.15060648e-04\n",
      "  1.23596910e-04 -9.42388892e-01]\n",
      "~~~~~~~~~~~Iteration  25 ~~~~~~~~~~\n",
      "took 0.014832258224487305 sec  to apply motion profile\n",
      "took 0.0021066665649414062 sec to get H\n",
      "m_hat:  [ 2.67511296e+00 -1.28947830e+00 -7.86511460e-04 -1.31245411e-04\n",
      "  1.12990674e-04 -9.51282620e-01]\n",
      "~~~~~~~~~~~Iteration  26 ~~~~~~~~~~\n",
      "took 0.014771223068237305 sec  to apply motion profile\n",
      "took 0.002813577651977539 sec to get H\n",
      "m_hat:  [ 2.74617076e+00 -1.26308250e+00 -9.05871857e-04 -1.38356932e-04\n",
      "  9.59530153e-05 -9.59368408e-01]\n",
      "~~~~~~~~~~~Iteration  27 ~~~~~~~~~~\n",
      "took 0.014157772064208984 sec  to apply motion profile\n",
      "took 0.0012602806091308594 sec to get H\n",
      "m_hat:  [ 2.80095363e+00 -1.23496318e+00 -9.81619000e-04 -1.38942880e-04\n",
      "  8.41965593e-05 -9.66595173e-01]\n",
      "~~~~~~~~~~~Iteration  28 ~~~~~~~~~~\n",
      "took 0.01473379135131836 sec  to apply motion profile\n",
      "took 0.0019073486328125 sec to get H\n",
      "m_hat:  [ 2.84409714e+00 -1.20590544e+00 -9.98383970e-04 -1.29481748e-04\n",
      "  8.44718597e-05 -9.72863495e-01]\n",
      "~~~~~~~~~~~Iteration  29 ~~~~~~~~~~\n",
      "took 0.014542341232299805 sec  to apply motion profile\n",
      "took 0.0012912750244140625 sec to get H\n",
      "m_hat:  [ 2.87790298e+00 -1.17742813e+00 -9.99834039e-04 -1.21065605e-04\n",
      "  8.28066404e-05 -9.78302836e-01]\n",
      "~~~~~~~~~~~Iteration  30 ~~~~~~~~~~\n",
      "took 0.0163118839263916 sec  to apply motion profile\n",
      "took 0.0013246536254882812 sec to get H\n",
      "m_hat:  [ 2.90552568e+00 -1.15149009e+00 -9.87504842e-04 -1.09687004e-04\n",
      "  8.36965191e-05 -9.82777536e-01]\n",
      "~~~~~~~~~~~Iteration  31 ~~~~~~~~~~\n",
      "took 0.014514923095703125 sec  to apply motion profile\n",
      "took 0.0013375282287597656 sec to get H\n",
      "m_hat:  [ 2.92748260e+00 -1.12677491e+00 -9.30045673e-04 -9.61850747e-05\n",
      "  9.29098169e-05 -9.86529648e-01]\n",
      "~~~~~~~~~~~Iteration  32 ~~~~~~~~~~\n",
      "took 0.015476465225219727 sec  to apply motion profile\n",
      "took 0.0014417171478271484 sec to get H\n",
      "m_hat:  [ 2.94428158e+00 -1.10407388e+00 -8.52982630e-04 -7.94242515e-05\n",
      "  1.01712576e-04 -9.89659786e-01]\n",
      "~~~~~~~~~~~Iteration  33 ~~~~~~~~~~\n",
      "took 0.015339136123657227 sec  to apply motion profile\n",
      "took 0.0012907981872558594 sec to get H\n",
      "m_hat:  [ 2.95771265e+00 -1.08442366e+00 -7.81615265e-04 -6.35864417e-05\n",
      "  1.07686748e-04 -9.92164969e-01]\n",
      "~~~~~~~~~~~Iteration  34 ~~~~~~~~~~\n",
      "took 0.014512777328491211 sec  to apply motion profile\n",
      "took 0.0012977123260498047 sec to get H\n"
     ]
    },
    {
     "name": "stdout",
     "output_type": "stream",
     "text": [
      "m_hat:  [ 2.96831107e+00 -1.06755424e+00 -7.03703205e-04 -4.51995948e-05\n",
      "  1.15926945e-04 -9.94145989e-01]\n",
      "~~~~~~~~~~~Iteration  35 ~~~~~~~~~~\n",
      "took 0.017315149307250977 sec  to apply motion profile\n",
      "took 0.0017206668853759766 sec to get H\n",
      "m_hat:  [ 2.97653437e+00 -1.05341053e+00 -6.34459429e-04 -3.18830425e-05\n",
      "  1.19082237e-04 -9.95694637e-01]\n",
      "~~~~~~~~~~~Iteration  36 ~~~~~~~~~~\n",
      "took 0.01545405387878418 sec  to apply motion profile\n",
      "took 0.0012922286987304688 sec to get H\n",
      "m_hat:  [ 2.98264027e+00 -1.04173899e+00 -5.63739799e-04 -2.01215080e-05\n",
      "  1.21485573e-04 -9.96898651e-01]\n",
      "~~~~~~~~~~~Iteration  37 ~~~~~~~~~~\n",
      "took 0.015724897384643555 sec  to apply motion profile\n",
      "took 0.0012912750244140625 sec to get H\n",
      "m_hat:  [ 2.98737884e+00 -1.03227925e+00 -5.05382952e-04 -1.16422389e-05\n",
      "  1.19457065e-04 -9.97814655e-01]\n",
      "~~~~~~~~~~~Iteration  38 ~~~~~~~~~~\n",
      "took 0.01629161834716797 sec  to apply motion profile\n",
      "took 0.0013201236724853516 sec to get H\n",
      "m_hat:  [ 2.99099970e+00 -1.02470517e+00 -4.58574330e-04 -4.84403154e-06\n",
      "  1.16134732e-04 -9.98506069e-01]\n",
      "~~~~~~~~~~~Iteration  39 ~~~~~~~~~~\n",
      "took 0.014268875122070312 sec  to apply motion profile\n",
      "took 0.001310586929321289 sec to get H\n",
      "m_hat:  [ 2.99373555e+00 -1.01866591e+00 -4.14374168e-04  3.24762914e-06\n",
      "  1.13714559e-04 -9.99020755e-01]\n",
      "~~~~~~~~~~~Iteration  40 ~~~~~~~~~~\n",
      "took 0.014028549194335938 sec  to apply motion profile\n",
      "took 0.0012810230255126953 sec to get H\n",
      "m_hat:  [ 2.99576998e+00 -1.01393127e+00 -3.73501040e-04  9.04853187e-06\n",
      "  1.10715242e-04 -9.99397218e-01]\n",
      "~~~~~~~~~~~Iteration  41 ~~~~~~~~~~\n",
      "took 0.014650583267211914 sec  to apply motion profile\n",
      "took 0.0013458728790283203 sec to get H\n",
      "m_hat:  [ 2.99721861e+00 -1.01024532e+00 -3.37253907e-04  1.35733408e-05\n",
      "  1.07811924e-04 -9.99671876e-01]\n",
      "~~~~~~~~~~~Iteration  42 ~~~~~~~~~~\n",
      "took 0.014959335327148438 sec  to apply motion profile\n",
      "took 0.0012850761413574219 sec to get H\n",
      "m_hat:  [ 2.99824309e+00 -1.00740719e+00 -3.06189118e-04  1.75706173e-05\n",
      "  1.05376152e-04 -9.99867857e-01]\n",
      "~~~~~~~~~~~Iteration  43 ~~~~~~~~~~\n",
      "took 0.014028072357177734 sec  to apply motion profile\n",
      "took 0.0012748241424560547 sec to get H\n",
      "m_hat:  [ 2.99895263e+00 -1.00525081e+00 -2.80198874e-04  2.12368541e-05\n",
      "  1.03608865e-04 -1.00000477e+00]\n",
      "~~~~~~~~~~~Iteration  44 ~~~~~~~~~~\n",
      "took 0.01677107810974121 sec  to apply motion profile\n",
      "took 0.0015344619750976562 sec to get H\n",
      "m_hat:  [ 2.99942112e+00 -1.00363171e+00 -2.58311105e-04  2.44151706e-05\n",
      "  1.02083752e-04 -1.00009668e+00]\n",
      "~~~~~~~~~~~Iteration  45 ~~~~~~~~~~\n",
      "took 0.016374826431274414 sec  to apply motion profile\n",
      "took 0.0012722015380859375 sec to get H\n",
      "m_hat:  [ 2.99971676e+00 -1.00243902e+00 -2.39154077e-04  2.75602470e-05\n",
      "  1.00926554e-04 -1.00015628e+00]\n",
      "~~~~~~~~~~~Iteration  46 ~~~~~~~~~~\n",
      "took 0.014987468719482422 sec  to apply motion profile\n",
      "took 0.002424478530883789 sec to get H\n",
      "m_hat:  [ 2.99989295e+00 -1.00157857e+00 -2.31736572e-04  2.83339705e-05\n",
      "  9.83790451e-05 -1.00019264e+00]\n",
      "~~~~~~~~~~~Iteration  47 ~~~~~~~~~~\n",
      "took 0.01454305648803711 sec  to apply motion profile\n",
      "took 0.0013246536254882812 sec to get H\n",
      "m_hat:  [ 2.99998808e+00 -1.00096583e+00 -2.24562158e-04  2.92769309e-05\n",
      "  9.68337699e-05 -1.00021291e+00]\n",
      "~~~~~~~~~~~Iteration  48 ~~~~~~~~~~\n",
      "took 0.01553797721862793 sec  to apply motion profile\n",
      "took 0.001300811767578125 sec to get H\n",
      "m_hat:  [ 3.00003362e+00 -1.00054061e+00 -2.17968205e-04  3.01739656e-05\n",
      "  9.57937955e-05 -1.00022101e+00]\n",
      "~~~~~~~~~~~Iteration  49 ~~~~~~~~~~\n",
      "took 0.015179872512817383 sec  to apply motion profile\n",
      "took 0.0013623237609863281 sec to get H\n",
      "m_hat:  [ 3.00004029e+00 -1.00025129e+00 -2.12146988e-04  3.09894385e-05\n",
      "  9.50973481e-05 -1.00022221e+00]\n",
      "~~~~~~~~~~~Iteration  50 ~~~~~~~~~~\n",
      "took 0.014870882034301758 sec  to apply motion profile\n",
      "took 0.0013308525085449219 sec to get H\n",
      "m_hat:  [ 3.00002337e+00 -1.00006223e+00 -2.07127770e-04  3.16565784e-05\n",
      "  9.45421125e-05 -1.00021911e+00]\n",
      "~~~~~~~~~~~Iteration  51 ~~~~~~~~~~\n",
      "took 0.015147924423217773 sec  to apply motion profile\n",
      "took 0.001322031021118164 sec to get H\n",
      "m_hat:  [ 2.99999309e+00 -9.99945223e-01 -2.02917829e-04  3.22249507e-05\n",
      "  9.41137405e-05 -1.00021350e+00]\n",
      "~~~~~~~~~~~Iteration  52 ~~~~~~~~~~\n",
      "took 0.014741182327270508 sec  to apply motion profile\n",
      "took 0.001310110092163086 sec to get H\n",
      "m_hat:  [ 2.99995112e+00 -9.99877930e-01 -1.99328584e-04  3.27013258e-05\n",
      "  9.37867444e-05 -1.00020778e+00]\n",
      "~~~~~~~~~~~Iteration  53 ~~~~~~~~~~\n",
      "took 0.015303373336791992 sec  to apply motion profile\n",
      "took 0.0016636848449707031 sec to get H\n",
      "m_hat:  [ 2.99991131e+00 -9.99846399e-01 -1.96389097e-04  3.30931543e-05\n",
      "  9.35154385e-05 -1.00020134e+00]\n",
      "~~~~~~~~~~~Iteration  54 ~~~~~~~~~~\n",
      "took 0.013925790786743164 sec  to apply motion profile\n",
      "took 0.0012600421905517578 sec to get H\n",
      "m_hat:  [ 2.99987435e+00 -9.99837875e-01 -1.93958782e-04  3.34023207e-05\n",
      "  9.32819166e-05 -1.00019491e+00]\n",
      "~~~~~~~~~~~Iteration  55 ~~~~~~~~~~\n",
      "took 0.014864444732666016 sec  to apply motion profile\n",
      "took 0.001252889633178711 sec to get H\n",
      "m_hat:  [ 2.99984193e+00 -9.99843657e-01 -1.91978237e-04  3.36481171e-05\n",
      "  9.30635433e-05 -1.00018883e+00]\n",
      "~~~~~~~~~~~Iteration  56 ~~~~~~~~~~\n",
      "took 0.014593839645385742 sec  to apply motion profile\n",
      "took 0.0012509822845458984 sec to get H\n",
      "m_hat:  [ 2.99981403e+00 -9.99859452e-01 -1.90335079e-04  3.38397076e-05\n",
      "  9.28849622e-05 -1.00018322e+00]\n",
      "~~~~~~~~~~~Iteration  57 ~~~~~~~~~~\n",
      "took 0.01427459716796875 sec  to apply motion profile\n",
      "took 0.0012881755828857422 sec to get H\n",
      "m_hat:  [ 2.99978971e+00 -9.99878228e-01 -1.89022365e-04  3.40041297e-05\n",
      "  9.27362707e-05 -1.00017834e+00]\n",
      "~~~~~~~~~~~Iteration  58 ~~~~~~~~~~\n",
      "took 0.01569843292236328 sec  to apply motion profile\n",
      "took 0.0012993812561035156 sec to get H\n",
      "m_hat:  [ 2.99976873e+00 -9.99897897e-01 -1.87934755e-04  3.41376435e-05\n",
      "  9.26173961e-05 -1.00017416e+00]\n",
      "~~~~~~~~~~~Iteration  59 ~~~~~~~~~~\n",
      "took 0.014532327651977539 sec  to apply motion profile\n",
      "took 0.0012984275817871094 sec to get H\n",
      "m_hat:  [ 2.99975133e+00 -9.99917507e-01 -1.86972989e-04  3.42573912e-05\n",
      "  9.25260319e-05 -1.00017071e+00]\n",
      "~~~~~~~~~~~Iteration  60 ~~~~~~~~~~\n",
      "took 0.014845848083496094 sec  to apply motion profile\n",
      "took 0.0013079643249511719 sec to get H\n",
      "m_hat:  [ 2.99973655e+00 -9.99935567e-01 -1.86244506e-04  3.43516949e-05\n",
      "  9.24459018e-05 -1.00016785e+00]\n",
      "~~~~~~~~~~~Iteration  61 ~~~~~~~~~~\n",
      "took 0.014923095703125 sec  to apply motion profile\n",
      "took 0.0012633800506591797 sec to get H\n",
      "m_hat:  [ 2.99972486e+00 -9.99951899e-01 -1.85585086e-04  3.44371911e-05\n",
      "  9.23930347e-05 -1.00016546e+00]\n",
      "~~~~~~~~~~~Iteration  62 ~~~~~~~~~~\n",
      "took 0.014616966247558594 sec  to apply motion profile\n",
      "took 0.0012483596801757812 sec to get H\n",
      "m_hat:  [ 2.99971533e+00 -9.99966145e-01 -1.85045879e-04  3.44942418e-05\n",
      "  9.23316547e-05 -1.00016356e+00]\n",
      "~~~~~~~~~~~Iteration  63 ~~~~~~~~~~\n",
      "took 0.014155864715576172 sec  to apply motion profile\n",
      "took 0.0012655258178710938 sec to get H\n",
      "m_hat:  [ 2.99970746e+00 -9.99978483e-01 -1.84599339e-04  3.45449916e-05\n",
      "  9.22808613e-05 -1.00016201e+00]\n",
      "~~~~~~~~~~~Iteration  64 ~~~~~~~~~~\n",
      "took 0.014694690704345703 sec  to apply motion profile\n",
      "took 0.0012660026550292969 sec to get H\n",
      "m_hat:  [ 2.99970150e+00 -9.99989092e-01 -1.84241653e-04  3.45722983e-05\n",
      "  9.22356558e-05 -1.00016081e+00]\n",
      "~~~~~~~~~~~Iteration  65 ~~~~~~~~~~\n",
      "took 0.014831781387329102 sec  to apply motion profile\n",
      "took 0.0030226707458496094 sec to get H\n",
      "m_hat:  [ 2.99969673e+00 -9.99997795e-01 -1.83939614e-04  3.46018787e-05\n",
      "  9.22044419e-05 -1.00015998e+00]\n",
      "~~~~~~~~~~~Iteration  66 ~~~~~~~~~~\n",
      "took 0.015048980712890625 sec  to apply motion profile\n",
      "took 0.0013141632080078125 sec to get H\n",
      "m_hat:  [ 2.99969316e+00 -1.00000477e+00 -1.83727112e-04  3.46348679e-05\n",
      "  9.21766405e-05 -1.00015926e+00]\n",
      "~~~~~~~~~~~Iteration  67 ~~~~~~~~~~\n",
      "took 0.015456914901733398 sec  to apply motion profile\n",
      "took 0.0012798309326171875 sec to get H\n",
      "m_hat:  [ 2.99969053e+00 -1.00001037e+00 -1.83550030e-04  3.46521410e-05\n",
      "  9.21431347e-05 -1.00015879e+00]\n",
      "~~~~~~~~~~~Iteration  68 ~~~~~~~~~~\n",
      "took 0.014245033264160156 sec  to apply motion profile\n",
      "took 0.0012552738189697266 sec to get H\n",
      "m_hat:  [ 2.99968886e+00 -1.00001466e+00 -1.83396391e-04  3.46745728e-05\n",
      "  9.21271130e-05 -1.00015831e+00]\n",
      "~~~~~~~~~~~Iteration  69 ~~~~~~~~~~\n",
      "took 0.013753652572631836 sec  to apply motion profile\n",
      "took 0.0012624263763427734 sec to get H\n"
     ]
    },
    {
     "name": "stdout",
     "output_type": "stream",
     "text": [
      "m_hat:  [ 2.99968719e+00 -1.00001788e+00 -1.83282056e-04  3.46906309e-05\n",
      "  9.21134633e-05 -1.00015807e+00]\n",
      "~~~~~~~~~~~Iteration  70 ~~~~~~~~~~\n",
      "took 0.01525568962097168 sec  to apply motion profile\n",
      "took 0.0012707710266113281 sec to get H\n",
      "m_hat:  [ 2.99968624e+00 -1.00002086e+00 -1.83199125e-04  3.47044770e-05\n",
      "  9.20931998e-05 -1.00015783e+00]\n",
      "~~~~~~~~~~~Iteration  71 ~~~~~~~~~~\n",
      "took 0.014360666275024414 sec  to apply motion profile\n",
      "took 0.0024406909942626953 sec to get H\n",
      "m_hat:  [ 2.99968553e+00 -1.00002277e+00 -1.83040305e-04  3.47121459e-05\n",
      "  9.20870298e-05 -1.00015759e+00]\n",
      "~~~~~~~~~~~Iteration  72 ~~~~~~~~~~\n",
      "took 0.013941049575805664 sec  to apply motion profile\n",
      "took 0.0012812614440917969 sec to get H\n",
      "m_hat:  [ 2.99968505e+00 -1.00002408e+00 -1.82974167e-04  3.47198220e-05\n",
      "  9.20826933e-05 -1.00015748e+00]\n",
      "~~~~~~~~~~~Iteration  73 ~~~~~~~~~~\n",
      "took 0.015856266021728516 sec  to apply motion profile\n",
      "took 0.0027723312377929688 sec to get H\n",
      "m_hat:  [ 2.99968433e+00 -1.00002563e+00 -1.82889387e-04  3.47280074e-05\n",
      "  9.20710590e-05 -1.00015748e+00]\n",
      "~~~~~~~~~~~Iteration  74 ~~~~~~~~~~\n",
      "took 0.014339447021484375 sec  to apply motion profile\n",
      "took 0.002756834030151367 sec to get H\n",
      "m_hat:  [ 2.99968362e+00 -1.00002658e+00 -1.82828371e-04  3.47386376e-05\n",
      "  9.20682942e-05 -1.00015748e+00]\n",
      "~~~~~~~~~~~Iteration  75 ~~~~~~~~~~\n",
      "took 0.014085531234741211 sec  to apply motion profile\n",
      "took 0.0012884140014648438 sec to get H\n",
      "m_hat:  [ 2.99968386e+00 -1.00002766e+00 -1.82782533e-04  3.47429450e-05\n",
      "  9.20650491e-05 -1.00015748e+00]\n",
      "~~~~~~~~~~~Iteration  76 ~~~~~~~~~~\n",
      "took 0.016519546508789062 sec  to apply motion profile\n",
      "took 0.0013151168823242188 sec to get H\n",
      "m_hat:  [ 2.99968410e+00 -1.00002813e+00 -1.82752352e-04  3.47527312e-05\n",
      "  9.20515740e-05 -1.00015748e+00]\n",
      "~~~~~~~~~~~Iteration  77 ~~~~~~~~~~\n",
      "took 0.015136480331420898 sec  to apply motion profile\n",
      "took 0.0012857913970947266 sec to get H\n",
      "m_hat:  [ 2.99968410e+00 -1.00002801e+00 -1.82678079e-04  3.47517562e-05\n",
      "  9.20511811e-05 -1.00015748e+00]\n",
      "~~~~~~~~~~~Iteration  78 ~~~~~~~~~~\n",
      "took 0.016484498977661133 sec  to apply motion profile\n",
      "took 0.0012843608856201172 sec to get H\n",
      "m_hat:  [ 2.99968433e+00 -1.00002778e+00 -1.82676187e-04  3.47660462e-05\n",
      "  9.20569510e-05 -1.00015748e+00]\n",
      "~~~~~~~~~~~Iteration  79 ~~~~~~~~~~\n",
      "took 0.014678239822387695 sec  to apply motion profile\n",
      "took 0.001346588134765625 sec to get H\n",
      "m_hat:  [ 2.99968433e+00 -1.00002789e+00 -1.82689197e-04  3.47639980e-05\n",
      "  9.20524399e-05 -1.00015748e+00]\n",
      "~~~~~~~~~~~Iteration  80 ~~~~~~~~~~\n",
      "took 0.01645207405090332 sec  to apply motion profile\n",
      "took 0.001341104507446289 sec to get H\n",
      "m_hat:  [ 2.99968433e+00 -1.00002813e+00 -1.82722171e-04  3.47561581e-05\n",
      "  9.20317834e-05 -1.00015748e+00]\n",
      "~~~~~~~~~~~Iteration  81 ~~~~~~~~~~\n",
      "took 0.016002893447875977 sec  to apply motion profile\n",
      "took 0.0013225078582763672 sec to get H\n",
      "m_hat:  [ 2.99968433e+00 -1.00002789e+00 -1.82648102e-04  3.47568784e-05\n",
      "  9.20409730e-05 -1.00015748e+00]\n",
      "~~~~~~~~~~~Iteration  82 ~~~~~~~~~~\n",
      "took 0.016760826110839844 sec  to apply motion profile\n",
      "took 0.001341104507446289 sec to get H\n",
      "m_hat:  [ 2.99968433e+00 -1.00002789e+00 -1.82660995e-04  3.47712812e-05\n",
      "  9.20486927e-05 -1.00015748e+00]\n",
      "~~~~~~~~~~~Iteration  83 ~~~~~~~~~~\n",
      "took 0.016275405883789062 sec  to apply motion profile\n",
      "took 0.0013344287872314453 sec to get H\n",
      "m_hat:  [ 2.99968410e+00 -1.00002801e+00 -1.82596908e-04  3.47599052e-05\n",
      "  9.20404855e-05 -1.00015748e+00]\n",
      "~~~~~~~~~~~Iteration  84 ~~~~~~~~~~\n",
      "took 0.015898942947387695 sec  to apply motion profile\n",
      "took 0.0013079643249511719 sec to get H\n",
      "m_hat:  [ 2.99968386e+00 -1.00002801e+00 -1.82612566e-04  3.47607238e-05\n",
      "  9.20311504e-05 -1.00015748e+00]\n",
      "~~~~~~~~~~~Iteration  85 ~~~~~~~~~~\n",
      "took 0.014497756958007812 sec  to apply motion profile\n",
      "took 0.0012927055358886719 sec to get H\n",
      "m_hat:  [ 2.99968362e+00 -1.00002849e+00 -1.82619522e-04  3.47678179e-05\n",
      "  9.20326274e-05 -1.00015748e+00]\n",
      "~~~~~~~~~~~Iteration  86 ~~~~~~~~~~\n",
      "took 0.016551971435546875 sec  to apply motion profile\n",
      "took 0.0012941360473632812 sec to get H\n",
      "m_hat:  [ 2.99968338e+00 -1.00002861e+00 -1.82634525e-04  3.47673194e-05\n",
      "  9.20259190e-05 -1.00015748e+00]\n",
      "~~~~~~~~~~~Iteration  87 ~~~~~~~~~~\n",
      "took 0.014285564422607422 sec  to apply motion profile\n",
      "took 0.0012683868408203125 sec to get H\n",
      "m_hat:  [ 2.99968338e+00 -1.00002849e+00 -1.82611693e-04  3.47795212e-05\n",
      "  9.20404491e-05 -1.00015748e+00]\n",
      "~~~~~~~~~~~Iteration  88 ~~~~~~~~~~\n",
      "took 0.01549077033996582 sec  to apply motion profile\n",
      "took 0.0027730464935302734 sec to get H\n",
      "m_hat:  [ 2.99968338e+00 -1.00002849e+00 -1.82579621e-04  3.47819368e-05\n",
      "  9.20502207e-05 -1.00015748e+00]\n",
      "~~~~~~~~~~~Iteration  89 ~~~~~~~~~~\n",
      "took 0.01630234718322754 sec  to apply motion profile\n",
      "took 0.0012776851654052734 sec to get H\n",
      "m_hat:  [ 2.99968410e+00 -1.00002837e+00 -1.82558098e-04  3.47764071e-05\n",
      "  9.20443272e-05 -1.00015748e+00]\n",
      "~~~~~~~~~~~Iteration  90 ~~~~~~~~~~\n",
      "took 0.0158388614654541 sec  to apply motion profile\n",
      "took 0.0012919902801513672 sec to get H\n",
      "m_hat:  [ 2.99968433e+00 -1.00002813e+00 -1.82578253e-04  3.47855675e-05\n",
      "  9.20503517e-05 -1.00015748e+00]\n",
      "~~~~~~~~~~~Iteration  91 ~~~~~~~~~~\n",
      "took 0.015350818634033203 sec  to apply motion profile\n",
      "took 0.001312255859375 sec to get H\n",
      "m_hat:  [ 2.99968433e+00 -1.00002801e+00 -1.82563905e-04  3.47793903e-05\n",
      "  9.20460006e-05 -1.00015748e+00]\n",
      "~~~~~~~~~~~Iteration  92 ~~~~~~~~~~\n",
      "took 0.01710224151611328 sec  to apply motion profile\n",
      "took 0.0012829303741455078 sec to get H\n",
      "m_hat:  [ 2.99968433e+00 -1.00002801e+00 -1.82570628e-04  3.47828609e-05\n",
      "  9.20419261e-05 -1.00015748e+00]\n",
      "~~~~~~~~~~~Iteration  93 ~~~~~~~~~~\n",
      "took 0.014984607696533203 sec  to apply motion profile\n",
      "took 0.0012638568878173828 sec to get H\n",
      "m_hat:  [ 2.99968410e+00 -1.00002789e+00 -1.82561140e-04  3.47690730e-05\n",
      "  9.20325547e-05 -1.00015748e+00]\n",
      "~~~~~~~~~~~Iteration  94 ~~~~~~~~~~\n",
      "took 0.015408754348754883 sec  to apply motion profile\n",
      "took 0.001268625259399414 sec to get H\n",
      "m_hat:  [ 2.99968410e+00 -1.00002813e+00 -1.82578297e-04  3.47739697e-05\n",
      "  9.20264574e-05 -1.00015748e+00]\n",
      "~~~~~~~~~~~Iteration  95 ~~~~~~~~~~\n",
      "took 0.01425790786743164 sec  to apply motion profile\n",
      "took 0.0013132095336914062 sec to get H\n",
      "m_hat:  [ 2.99968410e+00 -1.00002813e+00 -1.82543168e-04  3.47778187e-05\n",
      "  9.20297753e-05 -1.00015748e+00]\n",
      "~~~~~~~~~~~Iteration  96 ~~~~~~~~~~\n",
      "took 0.014446496963500977 sec  to apply motion profile\n",
      "took 0.001264810562133789 sec to get H\n",
      "m_hat:  [ 2.99968362e+00 -1.00002837e+00 -1.82539399e-04  3.47863679e-05\n",
      "  9.20429666e-05 -1.00015748e+00]\n",
      "~~~~~~~~~~~Iteration  97 ~~~~~~~~~~\n",
      "took 0.015237569808959961 sec  to apply motion profile\n",
      "took 0.0012700557708740234 sec to get H\n",
      "m_hat:  [ 2.99968386e+00 -1.00002837e+00 -1.82536984e-04  3.47752866e-05\n",
      "  9.20383900e-05 -1.00015748e+00]\n",
      "~~~~~~~~~~~Iteration  98 ~~~~~~~~~~\n",
      "took 0.014951229095458984 sec  to apply motion profile\n",
      "took 0.0012712478637695312 sec to get H\n",
      "m_hat:  [ 2.99968362e+00 -1.00002825e+00 -1.82555843e-04  3.47796595e-05\n",
      "  9.20346210e-05 -1.00015748e+00]\n",
      "~~~~~~~~~~~Iteration  99 ~~~~~~~~~~\n",
      "took 0.014756917953491211 sec  to apply motion profile\n",
      "took 0.0012862682342529297 sec to get H\n",
      "m_hat:  [ 2.99968338e+00 -1.00002825e+00 -1.82571690e-04  3.47785754e-05\n",
      "  9.20233506e-05 -1.00015748e+00]\n"
     ]
    },
    {
     "data": {
      "application/vnd.jupyter.widget-view+json": {
       "model_id": "1591cc707ef64ae08385072a0571ca55",
       "version_major": 2,
       "version_minor": 0
      },
      "text/plain": [
       "ViewInteractiveWidget(height=1043, layout=Layout(height='auto', width='100%'), width=1280)"
      ]
     },
     "metadata": {},
     "output_type": "display_data"
    }
   ],
   "source": [
    "from linear_corrector import LC\n",
    "\n",
    "m_hat0 = np.array([0.,0, 0, 0, 0, 0]) #cold start\n",
    "dc = LC(cloud1 = pc1, cloud2 = pc2, fid = 50, niter = 100, draw = True, m_hat0 = m_hat0)\n",
    "ViewInteractiveWidget(dc.plt.window)"
   ]
  },
  {
   "cell_type": "code",
   "execution_count": 186,
   "id": "ac25922c",
   "metadata": {},
   "outputs": [
    {
     "name": "stdout",
     "output_type": "stream",
     "text": [
      "(16564, 4, 4)\n",
      "(16564, 4)\n",
      "(16564, 4)\n"
     ]
    }
   ],
   "source": [
    "from numpy import sin, cos\n",
    "\n",
    "M = dc.motion_profile\n",
    "\n",
    "x = M[:,0]\n",
    "y = M[:,1]\n",
    "z = M[:,2]\n",
    "phi = M[:,3]\n",
    "theta = M[:,4]\n",
    "psi = M[:,5]\n",
    "\n",
    "T_rect_numpy = np.array([[cos(psi)*cos(theta), sin(phi)*sin(theta)*cos(psi) - sin(psi)*cos(phi), sin(phi)*sin(psi) + sin(theta)*cos(phi)*cos(psi), -x], [sin(psi)*cos(theta), sin(phi)*sin(psi)*sin(theta) + cos(phi)*cos(psi), -sin(phi)*cos(psi) + sin(psi)*sin(theta)*cos(phi), -y], [-sin(theta), sin(phi)*cos(theta), cos(phi)*cos(theta), -z], [np.zeros(len(x)), np.zeros(len(x)), np.zeros(len(x)), np.ones(len(x))]])\n",
    "T_rect_numpy = np.transpose(T_rect_numpy, (2,0,1))\n",
    "# print(T_rect_numpy)\n",
    "print(np.shape(T_rect_numpy))\n",
    "\n",
    "pc = np.append(old_cloud, np.ones([len(old_cloud),1]), axis=1)\n",
    "print(np.shape(pc))\n",
    "\n",
    "# T_rect_numpy = np.reshape(T_rect_numpy, (-1, 4))\n",
    "# print(T_rect_numpy)\n",
    "# print(np.shape(T_rect_numpy))\n",
    "\n",
    "ans =  T_rect_numpy @ pc[:,:,None]\n",
    "print(np.shape(ans[:,:,0]))"
   ]
  },
  {
   "cell_type": "code",
   "execution_count": null,
   "id": "0b016d61",
   "metadata": {},
   "outputs": [],
   "source": []
  }
 ],
 "metadata": {
  "kernelspec": {
   "display_name": "Python 3 (ipykernel)",
   "language": "python",
   "name": "python3"
  },
  "language_info": {
   "codemirror_mode": {
    "name": "ipython",
    "version": 3
   },
   "file_extension": ".py",
   "mimetype": "text/x-python",
   "name": "python",
   "nbconvert_exporter": "python",
   "pygments_lexer": "ipython3",
   "version": "3.9.13"
  }
 },
 "nbformat": 4,
 "nbformat_minor": 5
}
