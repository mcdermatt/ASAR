{
 "cells": [
  {
   "cell_type": "markdown",
   "id": "cefcf5ac",
   "metadata": {},
   "source": [
    "## Notebook for experiments on Oxford Newer College LIDAR dataset "
   ]
  },
  {
   "cell_type": "code",
   "execution_count": null,
   "id": "f2e2815d",
   "metadata": {},
   "outputs": [],
   "source": [
    "from vedo import *\n",
    "import os\n",
    "from ipyvtklink.viewer import ViewInteractiveWidget\n",
    "import pykitti\n",
    "import numpy as np\n",
    "import tensorflow as tf\n",
    "import time\n",
    "import pickle\n",
    "\n",
    "#limit GPU memory ------------------------------------------------\n",
    "gpus = tf.config.experimental.list_physical_devices('GPU')\n",
    "print(gpus)\n",
    "if gpus:\n",
    "  try:\n",
    "    memlim = 4*1024\n",
    "    tf.config.experimental.set_virtual_device_configuration(gpus[0], [tf.config.experimental.VirtualDeviceConfiguration(memory_limit=memlim)])\n",
    "  except RuntimeError as e:\n",
    "    print(e)\n",
    "#-----------------------------------------------------------------\n",
    "\n",
    "from tensorflow.math import sin, cos, tan\n",
    "import tensorflow_probability as tfp\n",
    "import sys\n",
    "current = os.getcwd()\n",
    "parent_directory = os.path.dirname(current)\n",
    "sys.path.append(parent_directory)\n",
    "from ICET_spherical import ICET\n",
    "from utils import R_tf\n",
    "from metpy.calc import lat_lon_grid_deltas\n",
    "from pioneer.das.api.platform import Platform\n",
    "from scipy.spatial.transform import Rotation as R\n",
    "from pioneer.das.api.egomotion.imu_egomotion_provider import IMUEgomotionProvider as emp \n",
    "from matplotlib import pyplot as plt\n",
    "\n",
    "%load_ext autoreload\n",
    "%autoreload 2\n",
    "%autosave 180\n",
    "%matplotlib notebook"
   ]
  },
  {
   "cell_type": "markdown",
   "id": "c6b37b2f",
   "metadata": {},
   "source": [
    "### Load ground truth data -- specified as accurate within 1cm\n",
    "\n",
    "#### sec, nsec, x, y, z, qx, qy, qz, qw\n"
   ]
  },
  {
   "cell_type": "code",
   "execution_count": null,
   "id": "df2e8db1",
   "metadata": {},
   "outputs": [],
   "source": [
    "dir_name = \"/media/derm/06EF-127D3/Newer College Dataset/\"\n",
    "experiment_name = \"01_short_experiment-20230331T172433Z-009/01_short_experiment/\"\n",
    "fn_gt = dir_name + experiment_name + \"ground_truth/registered_poses.csv\"\n",
    "# print(fn_gt)\n",
    "\n",
    "#sec,nsec,x,y,z,qx,qy,qz,qw\n",
    "gt = np.loadtxt(fn_gt, delimiter=',',skiprows = 1)\n",
    "# print(np.shape(gt))\n",
    "print(gt[20,:])"
   ]
  },
  {
   "cell_type": "markdown",
   "id": "1d91aa0c",
   "metadata": {},
   "source": [
    "### Load  point clouds"
   ]
  },
  {
   "cell_type": "code",
   "execution_count": null,
   "id": "7d6d463c",
   "metadata": {},
   "outputs": [],
   "source": [
    "import open3d as o3d\n",
    "from os import listdir\n",
    "scan_dir = dir_name + experiment_name + \"raw_format/ouster_zip_files/ouster_scan-007/ouster_scan/\"\n",
    "list_of_all_scans = sorted(listdir(scan_dir))\n",
    "# print(scan_dir)\n",
    "# print(len(list_of_all_scans))\n",
    "\n",
    "idx = 100\n",
    "scan1_fn = scan_dir + str(list_of_all_scans[idx])\n",
    "print(scan1_fn)\n",
    "pc1 = o3d.io.read_point_cloud(scan1_fn)\n",
    "pc1 = np.asarray(pc1.points)  \n",
    "\n",
    "scan2_fn = scan_dir + str(list_of_all_scans[idx+1])\n",
    "print(scan2_fn)\n",
    "pc2 = o3d.io.read_point_cloud(scan2_fn)\n",
    "pc2 = np.asarray(pc2.points)  "
   ]
  },
  {
   "cell_type": "code",
   "execution_count": null,
   "id": "1b19091f",
   "metadata": {},
   "outputs": [],
   "source": [
    "it = ICET(cloud1 = pc1, cloud2 = pc2, fid = 50, niter = 10, \n",
    "           draw = True, group = 2, RM = False, DNN_filter = False)#, x0 = initial_guess)\n",
    "print(\"\\n predicted standard deviations of error: \\n\", it.pred_stds)\n",
    "ViewInteractiveWidget(it.plt.window)"
   ]
  },
  {
   "cell_type": "code",
   "execution_count": null,
   "id": "48c94180",
   "metadata": {},
   "outputs": [],
   "source": [
    "#plot ground truth trajectory\n",
    "fig, ax = plt.subplots()\n",
    "ax.set_aspect('equal')\n",
    "ax.set_xlabel(\"x (m)\")\n",
    "ax.set_ylabel(\"y (m)\")\n",
    "ax.plot(gt[:,2], gt[:,3], label = \"ground truth\")\n",
    "\n",
    "#superimpose trajectory from <short_experiment_01>\n",
    "first_timestamp = int(list_of_all_scans[0][6:16])\n",
    "last_timestamp = int(list_of_all_scans[-1][6:16]) #scrape timestamp from name of velodyne .pcl file\n",
    "\n",
    "# print(first_timestamp)\n",
    "# print(last_timestamp)\n",
    "first_idx = np.argwhere(gt[:,0] == first_timestamp)[0][0]\n",
    "last_idx = np.argwhere(gt[:,0] == last_timestamp)[0][0]\n",
    "# print(last_idx)\n",
    "ax.plot(gt[first_idx:last_idx,2], gt[first_idx:last_idx,3], 'r', lw = 10, alpha = 0.3, label = 'area covered by lidar data')\n",
    "ax.legend(loc = 'best')"
   ]
  },
  {
   "cell_type": "code",
   "execution_count": null,
   "id": "f76e9f7f",
   "metadata": {},
   "outputs": [],
   "source": [
    "#iteratively run through clouds and generate trajectory\n",
    "runlen = 100\n",
    "x_hist = np.zeros([runlen, 6])\n",
    "\n",
    "for idx in range(runlen):\n",
    "    print(\"~~~~~~~~~~ iter: \", idx, \"~~~~~~~~~~~~~~\")\n",
    "    \n",
    "    scan1_fn = scan_dir + str(list_of_all_scans[idx])\n",
    "#     print(scan1_fn)\n",
    "    pc1 = o3d.io.read_point_cloud(scan1_fn)\n",
    "    pc1 = np.asarray(pc1.points)  \n",
    "\n",
    "    scan2_fn = scan_dir + str(list_of_all_scans[idx+1])\n",
    "#     print(scan2_fn)\n",
    "    pc2 = o3d.io.read_point_cloud(scan2_fn)\n",
    "    pc2 = np.asarray(pc2.points) \n",
    "    \n",
    "    it = ICET(cloud1 = pc1, cloud2 = pc2, fid = 50, niter = 10, \n",
    "           draw = False, group = 2, RM = False, DNN_filter = False)\n",
    "    x_hist[idx] = it.X"
   ]
  },
  {
   "cell_type": "code",
   "execution_count": null,
   "id": "b59c7834",
   "metadata": {},
   "outputs": [],
   "source": [
    "fig, ax = plt.subplots()\n",
    "ax.plot(x_hist[:,0])\n",
    "ax.plot(np.diff(gt[::10,2]))"
   ]
  },
  {
   "cell_type": "markdown",
   "id": "b01556be",
   "metadata": {},
   "source": [
    "## Main Goal:  05 - Quad with Dynamics\n",
    "https://www.youtube.com/watch?v=sAmaJlql-vs"
   ]
  },
  {
   "cell_type": "code",
   "execution_count": null,
   "id": "d66c2017",
   "metadata": {},
   "outputs": [],
   "source": [
    "idx = 1000\n",
    "fn1 = \"/media/derm/06EF-127D3/Newer College Dataset/05_Quad_With_Dynamics/point_clouds/frame_\" + str(idx) + \".npy\"\n",
    "pc1 = np.load(fn1)\n",
    "fn2 = \"/media/derm/06EF-127D3/Newer College Dataset/05_Quad_With_Dynamics/point_clouds/frame_\" + str(idx + 1) + \".npy\"\n",
    "pc2 = np.load(fn2)\n",
    "\n",
    "it = ICET(cloud1 = pc1, cloud2 = pc2, fid = 50, niter = 10, \n",
    "           draw = True, group = 2, RM = False, DNN_filter = False)#, x0 = initial_guess)\n",
    "print(\"\\n predicted standard deviations of error: \\n\", it.pred_stds)\n",
    "ViewInteractiveWidget(it.plt.window)"
   ]
  },
  {
   "cell_type": "markdown",
   "id": "80d6ee15",
   "metadata": {},
   "source": [
    "## Stretch Goal: get point cloud registration algorithm to work in 06-Dynamic Spinning test\n",
    "https://www.youtube.com/watch?v=9K-ljJt5mVY "
   ]
  },
  {
   "cell_type": "code",
   "execution_count": null,
   "id": "41af7fe5",
   "metadata": {},
   "outputs": [],
   "source": [
    "idx = 140 #245\n",
    "fn1 = \"/media/derm/06EF-127D3/Newer College Dataset/06_Dynamic_Spinning/point_clouds/frame_\" + str(idx) + \".npy\"\n",
    "pc1 = np.load(fn1)\n",
    "fn2 = \"/media/derm/06EF-127D3/Newer College Dataset/06_Dynamic_Spinning/point_clouds/frame_\" + str(idx + 1) + \".npy\"\n",
    "pc2 = np.load(fn2)\n",
    "\n",
    "it = ICET(cloud1 = pc1, cloud2 = pc2, fid = 50, niter = 10, \n",
    "           draw = True, group = 2, RM = False, DNN_filter = False)#, x0 = initial_guess)\n",
    "print(\"\\n predicted standard deviations of error: \\n\", it.pred_stds)\n",
    "ViewInteractiveWidget(it.plt.window)"
   ]
  },
  {
   "cell_type": "code",
   "execution_count": null,
   "id": "a02eefcb",
   "metadata": {},
   "outputs": [],
   "source": [
    "gt_fn = \"/media/derm/06EF-127D3/Newer College Dataset/06_Dynamic_Spinning/registered_poses.csv\"\n",
    "# sec, nsec, x, y, z, qx, qy, qz, qw\n",
    "gt = np.loadtxt(gt_fn, delimiter=',',skiprows = 1)\n",
    "print(gt[idx])"
   ]
  },
  {
   "cell_type": "code",
   "execution_count": null,
   "id": "ab66c4ea",
   "metadata": {},
   "outputs": [],
   "source": [
    "fig, ax = plt.subplots()\n",
    "\n",
    "ax.plot(gt[920:950,2], gt[920:950,3])"
   ]
  },
  {
   "cell_type": "markdown",
   "id": "87506153",
   "metadata": {},
   "source": [
    "## Debug multiplying quaternions"
   ]
  },
  {
   "cell_type": "code",
   "execution_count": null,
   "id": "98d3e3f2",
   "metadata": {},
   "outputs": [],
   "source": [
    "from scipy.spatial.transform import Rotation as R\n",
    "\n",
    "# a = R.from_euler('xyz', [0.1,0,0]).as_quat()\n",
    "# b = R.from_euler('xyz', [0.1,0,0]).as_quat()\n",
    "\n",
    "# a = R.from_euler('xyz', [0.,0,0]).as_rotvec()\n",
    "# b = R.from_euler('xyz', [0.,0,10]).as_rotvec()\n",
    "\n",
    "a = R.from_euler('xyz', [0,   -0.5,  -0.1])\n",
    "b = R.from_euler('xyz', [0.4583, -1.1846,  -0.6786])\n",
    "\n",
    "c = b * a\n",
    "# print(a, b)\n",
    "# print(c)\n",
    "print(c.as_euler('xyz'))\n",
    "# print(R.from_quat(c).as_euler('xyz'))"
   ]
  },
  {
   "cell_type": "code",
   "execution_count": null,
   "id": "77356edf",
   "metadata": {},
   "outputs": [],
   "source": []
  }
 ],
 "metadata": {
  "kernelspec": {
   "display_name": "Python 3 (ipykernel)",
   "language": "python",
   "name": "python3"
  },
  "language_info": {
   "codemirror_mode": {
    "name": "ipython",
    "version": 3
   },
   "file_extension": ".py",
   "mimetype": "text/x-python",
   "name": "python",
   "nbconvert_exporter": "python",
   "pygments_lexer": "ipython3",
   "version": "3.9.16"
  }
 },
 "nbformat": 4,
 "nbformat_minor": 5
}
