{
 "cells": [
  {
   "cell_type": "code",
   "execution_count": 1,
   "id": "7a7cd31a",
   "metadata": {},
   "outputs": [
    {
     "name": "stderr",
     "output_type": "stream",
     "text": [
      "2023-10-18 21:24:35.832916: I tensorflow/core/platform/cpu_feature_guard.cc:193] This TensorFlow binary is optimized with oneAPI Deep Neural Network Library (oneDNN) to use the following CPU instructions in performance-critical operations:  AVX2 FMA\n",
      "To enable them in other operations, rebuild TensorFlow with the appropriate compiler flags.\n",
      "2023-10-18 21:24:35.923613: E tensorflow/stream_executor/cuda/cuda_blas.cc:2981] Unable to register cuBLAS factory: Attempting to register factory for plugin cuBLAS when one has already been registered\n",
      "2023-10-18 21:24:36.235736: W tensorflow/stream_executor/platform/default/dso_loader.cc:64] Could not load dynamic library 'libnvinfer.so.7'; dlerror: libnvinfer.so.7: cannot open shared object file: No such file or directory\n",
      "2023-10-18 21:24:36.235783: W tensorflow/stream_executor/platform/default/dso_loader.cc:64] Could not load dynamic library 'libnvinfer_plugin.so.7'; dlerror: libnvinfer_plugin.so.7: cannot open shared object file: No such file or directory\n",
      "2023-10-18 21:24:36.235787: W tensorflow/compiler/tf2tensorrt/utils/py_utils.cc:38] TF-TRT Warning: Cannot dlopen some TensorRT libraries. If you would like to use Nvidia GPU with TensorRT, please make sure the missing libraries mentioned above are installed properly.\n",
      "2023-10-18 21:24:36.776914: I tensorflow/stream_executor/cuda/cuda_gpu_executor.cc:980] successful NUMA node read from SysFS had negative value (-1), but there must be at least one NUMA node, so returning NUMA node zero\n",
      "2023-10-18 21:24:36.801278: I tensorflow/stream_executor/cuda/cuda_gpu_executor.cc:980] successful NUMA node read from SysFS had negative value (-1), but there must be at least one NUMA node, so returning NUMA node zero\n",
      "2023-10-18 21:24:36.801416: I tensorflow/stream_executor/cuda/cuda_gpu_executor.cc:980] successful NUMA node read from SysFS had negative value (-1), but there must be at least one NUMA node, so returning NUMA node zero\n"
     ]
    },
    {
     "name": "stdout",
     "output_type": "stream",
     "text": [
      "[PhysicalDevice(name='/physical_device:GPU:0', device_type='GPU')]\n"
     ]
    },
    {
     "name": "stderr",
     "output_type": "stream",
     "text": [
      "2023-10-18 21:24:36.906691: I tensorflow/core/platform/cpu_feature_guard.cc:193] This TensorFlow binary is optimized with oneAPI Deep Neural Network Library (oneDNN) to use the following CPU instructions in performance-critical operations:  AVX2 FMA\n",
      "To enable them in other operations, rebuild TensorFlow with the appropriate compiler flags.\n",
      "2023-10-18 21:24:36.907331: I tensorflow/stream_executor/cuda/cuda_gpu_executor.cc:980] successful NUMA node read from SysFS had negative value (-1), but there must be at least one NUMA node, so returning NUMA node zero\n",
      "2023-10-18 21:24:36.907482: I tensorflow/stream_executor/cuda/cuda_gpu_executor.cc:980] successful NUMA node read from SysFS had negative value (-1), but there must be at least one NUMA node, so returning NUMA node zero\n",
      "2023-10-18 21:24:36.907602: I tensorflow/stream_executor/cuda/cuda_gpu_executor.cc:980] successful NUMA node read from SysFS had negative value (-1), but there must be at least one NUMA node, so returning NUMA node zero\n",
      "2023-10-18 21:24:37.199952: I tensorflow/stream_executor/cuda/cuda_gpu_executor.cc:980] successful NUMA node read from SysFS had negative value (-1), but there must be at least one NUMA node, so returning NUMA node zero\n",
      "2023-10-18 21:24:37.200111: I tensorflow/stream_executor/cuda/cuda_gpu_executor.cc:980] successful NUMA node read from SysFS had negative value (-1), but there must be at least one NUMA node, so returning NUMA node zero\n",
      "2023-10-18 21:24:37.200234: I tensorflow/stream_executor/cuda/cuda_gpu_executor.cc:980] successful NUMA node read from SysFS had negative value (-1), but there must be at least one NUMA node, so returning NUMA node zero\n",
      "2023-10-18 21:24:37.200320: I tensorflow/core/common_runtime/gpu/gpu_device.cc:1616] Created device /job:localhost/replica:0/task:0/device:GPU:0 with 4096 MB memory:  -> device: 0, name: NVIDIA GeForce RTX 3090, pci bus id: 0000:07:00.0, compute capability: 8.6\n"
     ]
    },
    {
     "data": {
      "application/javascript": [
       "IPython.notebook.set_autosave_interval(180000)"
      ]
     },
     "metadata": {},
     "output_type": "display_data"
    },
    {
     "name": "stdout",
     "output_type": "stream",
     "text": [
      "Autosaving every 180 seconds\n"
     ]
    }
   ],
   "source": [
    "from vedo import *\n",
    "from ipyvtklink.viewer import ViewInteractiveWidget\n",
    "import numpy as np\n",
    "import tensorflow as tf\n",
    "import time\n",
    "\n",
    "#limit GPU memory ------------------------------------------------\n",
    "gpus = tf.config.experimental.list_physical_devices('GPU')\n",
    "print(gpus)\n",
    "if gpus:\n",
    "  try:\n",
    "    memlim = 4*1024\n",
    "    tf.config.experimental.set_virtual_device_configuration(gpus[0], [tf.config.experimental.VirtualDeviceConfiguration(memory_limit=memlim)])\n",
    "  except RuntimeError as e:\n",
    "    print(e)\n",
    "#-----------------------------------------------------------------\n",
    "\n",
    "import sys\n",
    "import os\n",
    "current = os.getcwd()\n",
    "parent_directory = os.path.dirname(current)\n",
    "sys.path.append(parent_directory)\n",
    "from ICET_spherical import ICET\n",
    "from utils import R_tf\n",
    "from metpy.calc import lat_lon_grid_deltas\n",
    "from scipy.spatial.transform import Rotation as R\n",
    "from matplotlib import pyplot as plt\n",
    "import copy\n",
    "import trimesh\n",
    "%load_ext autoreload\n",
    "%autoreload 2\n",
    "%autosave 180\n",
    "%matplotlib notebook\n"
   ]
  },
  {
   "cell_type": "code",
   "execution_count": 2,
   "id": "2cdc0354",
   "metadata": {},
   "outputs": [],
   "source": [
    "# #test loading individual subsections\n",
    "# # pl = '/media/derm/06EF-127D4/Newer College Dataset/new-college-29-01-2020-1cm-resolution-2ndSection - mesh.ply'\n",
    "# pl = '/media/derm/06EF-127D4/Newer College Dataset/new-college-29-01-2020-1cm-resolution-3rdSection.ply'\n",
    "# HD_map = trimesh.load(pl).vertices\n",
    "# show_nth = 10 #10\n",
    "# submap = HD_map[::show_nth]\n",
    "# plt = Plotter(N = 1, axes = 4, bg = (1, 1, 1), interactive = True)\n",
    "# disp=[]\n",
    "# disp.append(Points(submap, c = \"#CB2314\", r = 2, alpha = 0.1)) \n",
    "# plt.show(disp, \"HD Map\")\n",
    "# ViewInteractiveWidget(plt.window)"
   ]
  },
  {
   "cell_type": "code",
   "execution_count": 3,
   "id": "bdae9c53",
   "metadata": {},
   "outputs": [
    {
     "data": {
      "application/vnd.jupyter.widget-view+json": {
       "model_id": "c87b3bc10eaa4bc381afed87e130491b",
       "version_major": 2,
       "version_minor": 0
      },
      "text/plain": [
       "ViewInteractiveWidget(height=960, layout=Layout(height='auto', width='100%'), width=960)"
      ]
     },
     "metadata": {},
     "output_type": "display_data"
    }
   ],
   "source": [
    "#stitch together full HD Map\n",
    "show_nth = 10 #10\n",
    "disp=[]\n",
    "plt2 = Plotter(N = 1, axes = 4, bg = (1, 1, 1), interactive = True)\n",
    "\n",
    "pl1 = '/media/derm/06EF-127D4/Newer College Dataset/new-college-29-01-2020-1cm-resolution-1stSection - mesh.ply'\n",
    "HD_map1 = trimesh.load(pl1).vertices\n",
    "submap1 = HD_map1[::show_nth]\n",
    "\n",
    "pl2 = '/media/derm/06EF-127D4/Newer College Dataset/new-college-29-01-2020-1cm-resolution-2ndSection.ply'\n",
    "HD_map2 = trimesh.load(pl2).vertices\n",
    "submap2 = HD_map2[::show_nth]\n",
    "\n",
    "pl3 = '/media/derm/06EF-127D4/Newer College Dataset/new-college-29-01-2020-1cm-resolution-3rdSection.ply'\n",
    "HD_map3 = trimesh.load(pl3).vertices\n",
    "submap3 = HD_map3[::show_nth]\n",
    "\n",
    "pl4 = '/media/derm/06EF-127D4/Newer College Dataset/new-college-29-01-2020-1cm-resolution-4thSection.ply'\n",
    "HD_map4 = trimesh.load(pl4).vertices\n",
    "submap4 = HD_map4[::show_nth]\n",
    "\n",
    "pl5 = '/media/derm/06EF-127D4/Newer College Dataset/new-college-29-01-2020-1cm-resolution-5thSection.ply'\n",
    "HD_map5 = trimesh.load(pl5).vertices\n",
    "submap5 = HD_map5[::show_nth]\n",
    "\n",
    "# disp.append(Points(submap1, c = \"red\", r = 2, alpha = 0.1)) \n",
    "# disp.append(Points(submap2, c = \"orange\", r = 2, alpha = 0.1)) \n",
    "# disp.append(Points(submap3, c = \"yellow\", r = 2, alpha = 0.1)) \n",
    "# disp.append(Points(submap4, c = \"green\", r = 2, alpha = 0.1)) \n",
    "# disp.append(Points(submap5, c = \"blue\", r = 2, alpha = 0.1)) \n",
    "disp.append(Points(submap1, c = \"grey\", r = 2, alpha = 0.1)) \n",
    "disp.append(Points(submap2, c = \"grey\", r = 2, alpha = 0.1)) \n",
    "disp.append(Points(submap3, c = \"grey\", r = 2, alpha = 0.1)) \n",
    "disp.append(Points(submap4, c = \"grey\", r = 2, alpha = 0.1)) \n",
    "disp.append(Points(submap5, c = \"grey\", r = 2, alpha = 0.1)) \n",
    "\n",
    "plt2.show(disp, \"Full HD Map\")\n",
    "ViewInteractiveWidget(plt2.window)"
   ]
  },
  {
   "cell_type": "code",
   "execution_count": 4,
   "id": "8a4d3518",
   "metadata": {},
   "outputs": [
    {
     "data": {
      "application/vnd.jupyter.widget-view+json": {
       "model_id": "a2841f7ad3a2411bb71fce1353e581c6",
       "version_major": 2,
       "version_minor": 0
      },
      "text/plain": [
       "ViewInteractiveWidget(height=1376, layout=Layout(height='auto', width='100%'), width=2488)"
      ]
     },
     "metadata": {},
     "output_type": "display_data"
    }
   ],
   "source": [
    "#load ground truth\n",
    "# [sec,nsec,x,y,z,qx,qy,qz,qw]\n",
    "fn_gt = \"/media/derm/06EF-127D4/Newer College Dataset/01_Short_Experiment/registered_poses.csv\"\n",
    "gt = np.loadtxt(fn_gt, delimiter=',',skiprows = 1)\n",
    "seconds = gt[:, 0]\n",
    "nano_seconds = gt[:, 1]\n",
    "xyz = gt[:, 2:5]\n",
    "qxyzw = gt[:, 5:]\n",
    "num_poses = qxyzw.shape[0]\n",
    "poses = np.eye(4, dtype=np.float64).reshape(1, 4, 4).repeat(num_poses, axis=0)\n",
    "poses[:, :3, :3] = R.from_quat(qxyzw).as_matrix()\n",
    "poses[:, :3, 3] = xyz\n",
    "T_CL = np.eye(4, dtype=np.float32)\n",
    "T_CL[:3, :3] = R.from_quat([0.0, 0.0, 0.924, 0.383]).as_matrix() #was this --1134.97 deg\n",
    "T_CL[:3, 3] = np.array([-0.084, -0.025, 0.050], dtype=np.float32) #was this\n",
    "poses = np.einsum(\"nij,jk->nik\", poses, T_CL)\n",
    "initial_pose = np.linalg.inv(poses[0]) \n",
    "poses_timestamps = seconds * 10e9 + nano_seconds\n",
    "poses = np.einsum(\"ij,njk->nik\", np.linalg.inv(poses[0]), poses)\n",
    "\n",
    "\n",
    "#draw GT trajectory\n",
    "start_idx = 0\n",
    "gt_lidarframe = gt[:,2:5]\n",
    "gt_lidarframe = (poses[start_idx] @ np.append(gt_lidarframe, np.ones([len(gt_lidarframe),1]), axis = 1).T).T\n",
    "# gt_lidarframe[:,:3] -= gt_lidarframe[start_idx,:3]\n",
    "#rotate 180 deg about vertical axis to align with LOAM results\n",
    "# gt_lidarframe[:,:3] = gt_lidarframe[:,:3] @ R.from_euler('xyz', [np.deg2rad(0), np.deg2rad(10.25), np.deg2rad(75.5)]).as_matrix() #test\n",
    "gt_points = Line(gt_lidarframe[:,:3], c = \"red\", lw = 4, alpha = 1).legend(\"Actual Motion of Platform\")\n",
    "disp.append(gt_points)\n",
    "\n",
    "plt3 = Plotter(N = 1, axes = 4, bg = (1, 1, 1), interactive = True)\n",
    "plt3.show(disp, \"Full HD Map\")\n",
    "ViewInteractiveWidget(plt3.window)"
   ]
  },
  {
   "cell_type": "code",
   "execution_count": 24,
   "id": "33fb229f",
   "metadata": {},
   "outputs": [
    {
     "data": {
      "application/vnd.jupyter.widget-view+json": {
       "model_id": "9666e99a2e38407d9b0336a666821690",
       "version_major": 2,
       "version_minor": 0
      },
      "text/plain": [
       "ViewInteractiveWidget(height=960, layout=Layout(height='auto', width='100%'), width=960)"
      ]
     },
     "metadata": {},
     "output_type": "display_data"
    }
   ],
   "source": [
    "#plot just trajectory --> let's find a good test trajectory\n",
    "disp =[]\n",
    "test_traj = gt[2000:4000,2:5]\n",
    "# test_traj_points = Line(test_traj, c = \"red\", lw = 4, alpha = 1).legend(\"Actual Motion of Platform\")\n",
    "test_traj_points = Points(test_traj, c = \"red\", alpha = 1).legend(\"Actual Motion of Platform\")\n",
    "disp.append(test_traj_points)\n",
    "\n",
    "plt4 = Plotter(N = 1, axes = 1, bg = (1, 1, 1), interactive = True)\n",
    "plt4.show(disp, \"test trajectory\")\n",
    "ViewInteractiveWidget(plt4.window)"
   ]
  },
  {
   "cell_type": "code",
   "execution_count": 14,
   "id": "71a61a69",
   "metadata": {},
   "outputs": [
    {
     "name": "stdout",
     "output_type": "stream",
     "text": [
      "(15301, 4)\n"
     ]
    }
   ],
   "source": [
    "print(np.shape(gt_lidarframe))"
   ]
  },
  {
   "cell_type": "code",
   "execution_count": null,
   "id": "6d7e7f60",
   "metadata": {},
   "outputs": [],
   "source": []
  }
 ],
 "metadata": {
  "kernelspec": {
   "display_name": "Python 3 (ipykernel)",
   "language": "python",
   "name": "python3"
  },
  "language_info": {
   "codemirror_mode": {
    "name": "ipython",
    "version": 3
   },
   "file_extension": ".py",
   "mimetype": "text/x-python",
   "name": "python",
   "nbconvert_exporter": "python",
   "pygments_lexer": "ipython3",
   "version": "3.9.13"
  }
 },
 "nbformat": 4,
 "nbformat_minor": 5
}
