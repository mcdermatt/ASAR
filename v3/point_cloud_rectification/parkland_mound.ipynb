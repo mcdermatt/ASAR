{
 "cells": [
  {
   "cell_type": "code",
   "execution_count": 1,
   "id": "a584d16a",
   "metadata": {},
   "outputs": [
    {
     "name": "stderr",
     "output_type": "stream",
     "text": [
      "2023-10-21 16:07:12.240231: I tensorflow/core/platform/cpu_feature_guard.cc:193] This TensorFlow binary is optimized with oneAPI Deep Neural Network Library (oneDNN) to use the following CPU instructions in performance-critical operations:  AVX2 FMA\n",
      "To enable them in other operations, rebuild TensorFlow with the appropriate compiler flags.\n",
      "2023-10-21 16:07:12.871424: E tensorflow/stream_executor/cuda/cuda_blas.cc:2981] Unable to register cuBLAS factory: Attempting to register factory for plugin cuBLAS when one has already been registered\n",
      "2023-10-21 16:07:13.989613: W tensorflow/stream_executor/platform/default/dso_loader.cc:64] Could not load dynamic library 'libnvinfer.so.7'; dlerror: libnvinfer.so.7: cannot open shared object file: No such file or directory\n",
      "2023-10-21 16:07:13.989710: W tensorflow/stream_executor/platform/default/dso_loader.cc:64] Could not load dynamic library 'libnvinfer_plugin.so.7'; dlerror: libnvinfer_plugin.so.7: cannot open shared object file: No such file or directory\n",
      "2023-10-21 16:07:13.989717: W tensorflow/compiler/tf2tensorrt/utils/py_utils.cc:38] TF-TRT Warning: Cannot dlopen some TensorRT libraries. If you would like to use Nvidia GPU with TensorRT, please make sure the missing libraries mentioned above are installed properly.\n",
      "2023-10-21 16:07:15.820646: I tensorflow/stream_executor/cuda/cuda_gpu_executor.cc:980] successful NUMA node read from SysFS had negative value (-1), but there must be at least one NUMA node, so returning NUMA node zero\n",
      "2023-10-21 16:07:15.927626: I tensorflow/stream_executor/cuda/cuda_gpu_executor.cc:980] successful NUMA node read from SysFS had negative value (-1), but there must be at least one NUMA node, so returning NUMA node zero\n",
      "2023-10-21 16:07:15.927866: I tensorflow/stream_executor/cuda/cuda_gpu_executor.cc:980] successful NUMA node read from SysFS had negative value (-1), but there must be at least one NUMA node, so returning NUMA node zero\n"
     ]
    },
    {
     "name": "stdout",
     "output_type": "stream",
     "text": [
      "[PhysicalDevice(name='/physical_device:GPU:0', device_type='GPU')]\n"
     ]
    },
    {
     "name": "stderr",
     "output_type": "stream",
     "text": [
      "2023-10-21 16:07:16.294331: I tensorflow/core/platform/cpu_feature_guard.cc:193] This TensorFlow binary is optimized with oneAPI Deep Neural Network Library (oneDNN) to use the following CPU instructions in performance-critical operations:  AVX2 FMA\n",
      "To enable them in other operations, rebuild TensorFlow with the appropriate compiler flags.\n",
      "2023-10-21 16:07:16.296132: I tensorflow/stream_executor/cuda/cuda_gpu_executor.cc:980] successful NUMA node read from SysFS had negative value (-1), but there must be at least one NUMA node, so returning NUMA node zero\n",
      "2023-10-21 16:07:16.296411: I tensorflow/stream_executor/cuda/cuda_gpu_executor.cc:980] successful NUMA node read from SysFS had negative value (-1), but there must be at least one NUMA node, so returning NUMA node zero\n",
      "2023-10-21 16:07:16.296610: I tensorflow/stream_executor/cuda/cuda_gpu_executor.cc:980] successful NUMA node read from SysFS had negative value (-1), but there must be at least one NUMA node, so returning NUMA node zero\n",
      "2023-10-21 16:07:17.216607: I tensorflow/stream_executor/cuda/cuda_gpu_executor.cc:980] successful NUMA node read from SysFS had negative value (-1), but there must be at least one NUMA node, so returning NUMA node zero\n",
      "2023-10-21 16:07:17.216776: I tensorflow/stream_executor/cuda/cuda_gpu_executor.cc:980] successful NUMA node read from SysFS had negative value (-1), but there must be at least one NUMA node, so returning NUMA node zero\n",
      "2023-10-21 16:07:17.216957: I tensorflow/stream_executor/cuda/cuda_gpu_executor.cc:980] successful NUMA node read from SysFS had negative value (-1), but there must be at least one NUMA node, so returning NUMA node zero\n",
      "2023-10-21 16:07:17.217045: I tensorflow/core/common_runtime/gpu/gpu_device.cc:1616] Created device /job:localhost/replica:0/task:0/device:GPU:0 with 22528 MB memory:  -> device: 0, name: NVIDIA GeForce RTX 3090, pci bus id: 0000:07:00.0, compute capability: 8.6\n"
     ]
    },
    {
     "data": {
      "application/javascript": [
       "IPython.notebook.set_autosave_interval(180000)"
      ]
     },
     "metadata": {},
     "output_type": "display_data"
    },
    {
     "name": "stdout",
     "output_type": "stream",
     "text": [
      "Autosaving every 180 seconds\n"
     ]
    }
   ],
   "source": [
    "from vedo import *\n",
    "from ipyvtklink.viewer import ViewInteractiveWidget\n",
    "import numpy as np\n",
    "import tensorflow as tf\n",
    "import time\n",
    "\n",
    "#limit GPU memory ------------------------------------------------\n",
    "gpus = tf.config.experimental.list_physical_devices('GPU')\n",
    "print(gpus)\n",
    "if gpus:\n",
    "  try:\n",
    "    memlim = 22*1024\n",
    "    tf.config.experimental.set_virtual_device_configuration(gpus[0], [tf.config.experimental.VirtualDeviceConfiguration(memory_limit=memlim)])\n",
    "  except RuntimeError as e:\n",
    "    print(e)\n",
    "#-----------------------------------------------------------------\n",
    "\n",
    "import sys\n",
    "import os\n",
    "current = os.getcwd()\n",
    "parent_directory = os.path.dirname(current)\n",
    "sys.path.append(parent_directory)\n",
    "from ICET_spherical import ICET\n",
    "from utils import R_tf\n",
    "from metpy.calc import lat_lon_grid_deltas\n",
    "from scipy.spatial.transform import Rotation as R\n",
    "from matplotlib import pyplot as plt\n",
    "import copy\n",
    "import trimesh\n",
    "%load_ext autoreload\n",
    "%autoreload 2\n",
    "%autosave 180\n",
    "%matplotlib notebook\n"
   ]
  },
  {
   "cell_type": "code",
   "execution_count": 2,
   "id": "fdec8d85",
   "metadata": {},
   "outputs": [],
   "source": [
    "# #test loading individual subsections\n",
    "# # pl = '/media/derm/06EF-127D4/Newer College Dataset/new-college-29-01-2020-1cm-resolution-2ndSection - mesh.ply'\n",
    "# pl = '/media/derm/06EF-127D4/Newer College Dataset/new-college-29-01-2020-1cm-resolution-3rdSection.ply'\n",
    "# HD_map = trimesh.load(pl).vertices\n",
    "# show_nth = 10 #10\n",
    "# submap = HD_map[::show_nth]\n",
    "# plt = Plotter(N = 1, axes = 4, bg = (1, 1, 1), interactive = True)\n",
    "# disp=[]\n",
    "# disp.append(Points(submap, c = \"#CB2314\", r = 2, alpha = 0.1)) \n",
    "# plt.show(disp, \"HD Map\")\n",
    "# ViewInteractiveWidget(plt.window)"
   ]
  },
  {
   "cell_type": "code",
   "execution_count": 3,
   "id": "14bb6e1e",
   "metadata": {},
   "outputs": [
    {
     "name": "stdout",
     "output_type": "stream",
     "text": [
      "(201237, 3)\n",
      "(568783, 3)\n",
      "(837856, 3)\n",
      "(1575765, 3)\n",
      "(1060626, 3)\n"
     ]
    },
    {
     "data": {
      "application/vnd.jupyter.widget-view+json": {
       "model_id": "e5832b5196d04e018e0325ff8a3cd8a2",
       "version_major": 2,
       "version_minor": 0
      },
      "text/plain": [
       "ViewInteractiveWidget(height=960, layout=Layout(height='auto', width='100%'), width=960)"
      ]
     },
     "metadata": {},
     "output_type": "display_data"
    }
   ],
   "source": [
    "#stitch together full HD Map\n",
    "show_nth = 20 #10\n",
    "disp=[]\n",
    "plt2 = Plotter(N = 1, axes = 4, bg = (1, 1, 1), interactive = True)\n",
    "\n",
    "pl1 = '/media/derm/06EF-127D4/Newer College Dataset/new-college-29-01-2020-1cm-resolution-1stSection - mesh.ply'\n",
    "HD_map1 = trimesh.load(pl1).vertices\n",
    "submap1 = HD_map1[::show_nth]\n",
    "print(np.shape(submap1))\n",
    "\n",
    "pl2 = '/media/derm/06EF-127D4/Newer College Dataset/new-college-29-01-2020-1cm-resolution-2ndSection.ply'\n",
    "HD_map2 = trimesh.load(pl2).vertices\n",
    "submap2 = HD_map2[::show_nth]\n",
    "print(np.shape(submap2))\n",
    "\n",
    "pl3 = '/media/derm/06EF-127D4/Newer College Dataset/new-college-29-01-2020-1cm-resolution-3rdSection.ply'\n",
    "HD_map3 = trimesh.load(pl3).vertices\n",
    "submap3 = HD_map3[::show_nth]\n",
    "print(np.shape(submap3))\n",
    "\n",
    "pl4 = '/media/derm/06EF-127D4/Newer College Dataset/new-college-29-01-2020-1cm-resolution-4thSection.ply'\n",
    "HD_map4 = trimesh.load(pl4).vertices\n",
    "submap4 = HD_map4[::show_nth]\n",
    "print(np.shape(submap4))\n",
    "\n",
    "pl5 = '/media/derm/06EF-127D4/Newer College Dataset/new-college-29-01-2020-1cm-resolution-5thSection.ply'\n",
    "HD_map5 = trimesh.load(pl5).vertices\n",
    "submap5 = HD_map5[::show_nth]\n",
    "print(np.shape(submap5))\n",
    "\n",
    "# disp.append(Points(submap1, c = \"red\", r = 2, alpha = 0.1)) \n",
    "# disp.append(Points(submap2, c = \"orange\", r = 2, alpha = 0.1)) \n",
    "# disp.append(Points(submap3, c = \"yellow\", r = 2, alpha = 0.1)) \n",
    "# disp.append(Points(submap4, c = \"green\", r = 2, alpha = 0.1)) \n",
    "# disp.append(Points(submap5, c = \"blue\", r = 2, alpha = 0.1)) \n",
    "disp.append(Points(submap1, c = \"grey\", r = 2, alpha = 0.1)) \n",
    "disp.append(Points(submap2, c = \"grey\", r = 2, alpha = 0.1)) \n",
    "disp.append(Points(submap3, c = \"grey\", r = 2, alpha = 0.1)) \n",
    "disp.append(Points(submap4, c = \"grey\", r = 2, alpha = 0.1)) \n",
    "disp.append(Points(submap5, c = \"grey\", r = 2, alpha = 0.1)) \n",
    "\n",
    "plt2.show(disp, \"Full HD Map\")\n",
    "ViewInteractiveWidget(plt2.window)"
   ]
  },
  {
   "cell_type": "code",
   "execution_count": 4,
   "id": "b7d0a22f",
   "metadata": {},
   "outputs": [
    {
     "data": {
      "application/vnd.jupyter.widget-view+json": {
       "model_id": "fba7ef1fe3f34896944cb540a1a17502",
       "version_major": 2,
       "version_minor": 0
      },
      "text/plain": [
       "ViewInteractiveWidget(height=960, layout=Layout(height='auto', width='100%'), width=960)"
      ]
     },
     "metadata": {},
     "output_type": "display_data"
    }
   ],
   "source": [
    "#load ground truth\n",
    "# [sec,nsec,x,y,z,qx,qy,qz,qw]\n",
    "fn_gt = \"/media/derm/06EF-127D4/Newer College Dataset/01_Short_Experiment/registered_poses.csv\"\n",
    "gt = np.loadtxt(fn_gt, delimiter=',',skiprows = 1)\n",
    "seconds = gt[:, 0]\n",
    "nano_seconds = gt[:, 1]\n",
    "xyz = gt[:, 2:5]\n",
    "qxyzw = gt[:, 5:]\n",
    "num_poses = qxyzw.shape[0]\n",
    "poses = np.eye(4, dtype=np.float64).reshape(1, 4, 4).repeat(num_poses, axis=0)\n",
    "poses[:, :3, :3] = R.from_quat(qxyzw).as_matrix()\n",
    "poses[:, :3, 3] = xyz\n",
    "T_CL = np.eye(4, dtype=np.float32)\n",
    "T_CL[:3, :3] = R.from_quat([0.0, 0.0, 0.924, 0.383]).as_matrix() #was this --1134.97 deg\n",
    "T_CL[:3, 3] = np.array([-0.084, -0.025, 0.050], dtype=np.float32) #was this\n",
    "poses = np.einsum(\"nij,jk->nik\", poses, T_CL)\n",
    "initial_pose = np.linalg.inv(poses[0]) \n",
    "poses_timestamps = seconds * 10e9 + nano_seconds\n",
    "poses = np.einsum(\"ij,njk->nik\", np.linalg.inv(poses[0]), poses)\n",
    "\n",
    "\n",
    "#draw GT trajectory\n",
    "start_idx = 0\n",
    "gt_lidarframe = gt[:,2:5]\n",
    "gt_lidarframe = (poses[start_idx] @ np.append(gt_lidarframe, np.ones([len(gt_lidarframe),1]), axis = 1).T).T\n",
    "# gt_lidarframe[:,:3] -= gt_lidarframe[start_idx,:3]\n",
    "#rotate 180 deg about vertical axis to align with LOAM results\n",
    "# gt_lidarframe[:,:3] = gt_lidarframe[:,:3] @ R.from_euler('xyz', [np.deg2rad(0), np.deg2rad(10.25), np.deg2rad(75.5)]).as_matrix() #test\n",
    "gt_points = Line(gt_lidarframe[:,:3], c = \"red\", lw = 4, alpha = 1).legend(\"Actual Motion of Platform\")\n",
    "disp.append(gt_points)\n",
    "\n",
    "plt3 = Plotter(N = 1, axes = 4, bg = (1, 1, 1), interactive = True)\n",
    "plt3.show(disp, \"Full HD Map\")\n",
    "ViewInteractiveWidget(plt3.window)"
   ]
  },
  {
   "cell_type": "code",
   "execution_count": 5,
   "id": "84dc89d5",
   "metadata": {},
   "outputs": [
    {
     "data": {
      "application/vnd.jupyter.widget-view+json": {
       "model_id": "69555d7262e3496d862df4f3944487b2",
       "version_major": 2,
       "version_minor": 0
      },
      "text/plain": [
       "ViewInteractiveWidget(height=960, layout=Layout(height='auto', width='100%'), width=960)"
      ]
     },
     "metadata": {},
     "output_type": "display_data"
    }
   ],
   "source": [
    "#plot just trajectory --> let's find a good test trajectory\n",
    "disp =[]\n",
    "test_traj = gt[:3000,2:5]\n",
    "# test_traj_points = Line(test_traj, c = \"red\", lw = 4, alpha = 1).legend(\"Actual Motion of Platform\")\n",
    "test_traj_points = Points(test_traj, c = \"red\", alpha = 1).legend(\"Actual Motion of Platform\")\n",
    "disp.append(test_traj_points)\n",
    "\n",
    "plt4 = Plotter(N = 1, axes = 1, bg = (1, 1, 1), interactive = True)\n",
    "plt4.show(disp, \"test trajectory\")\n",
    "ViewInteractiveWidget(plt4.window)"
   ]
  },
  {
   "cell_type": "code",
   "execution_count": 155,
   "id": "4d8b9a93",
   "metadata": {},
   "outputs": [
    {
     "name": "stdout",
     "output_type": "stream",
     "text": [
      "(4244267, 3)\n",
      "(850273, 3)\n",
      "(785547, 3)\n"
     ]
    },
    {
     "data": {
      "application/vnd.jupyter.widget-view+json": {
       "model_id": "b7bc0f91d7ab4fd7bc2a4f7706310ce7",
       "version_major": 2,
       "version_minor": 0
      },
      "text/plain": [
       "ViewInteractiveWidget(height=960, layout=Layout(height='auto', width='100%'), width=960)"
      ]
     },
     "metadata": {},
     "output_type": "display_data"
    }
   ],
   "source": [
    "#put HD Map and new scan in frame of raw keyframe scan\n",
    "idx = 5500 #test\n",
    "skip = 25 #10 #how many lidar frames between keyframe and new scan\n",
    "offset = 0 #no offset here! This makes life sooo much easier!!!\n",
    "fn1 = \"/media/derm/06EF-127D4/Newer College Dataset/01_Short_Experiment/point_clouds/frame_\" + str(idx + offset) + \".npy\"\n",
    "fn2 = \"/media/derm/06EF-127D4/Newer College Dataset/01_Short_Experiment/point_clouds/frame_\" + str(idx + skip + offset) + \".npy\"\n",
    "pc1 = np.load(fn1)\n",
    "pc2 = np.load(fn2)\n",
    "plt = Plotter(N = 1, axes = 1, bg = (1, 1, 1), interactive = True) #axes = 4 (simple), 1(scale)\n",
    "disp=[]\n",
    "\n",
    "submap = np.concatenate((submap1, submap2, submap3, submap4, submap5), axis = 0) #full scene\n",
    "# submap = np.concatenate((submap2, submap3, submap4), axis = 0) #test\n",
    "# submap = submap4 #test\n",
    "print(np.shape(submap))\n",
    "\n",
    "#transform everything to pc1 frame\n",
    "pc2_in_pc1_frame = (np.linalg.pinv(poses[idx]) @ poses[idx+skip] @ np.append(pc2, np.ones([len(pc2),1]), axis=1).T).T\n",
    "pc2_in_pc1_frame = pc2_in_pc1_frame[:,:3] #remove extra axis\n",
    "submap_in_pc1_frame = (np.linalg.pinv(poses[idx]) @ initial_pose @ np.append(submap, np.ones([len(submap),1]), axis =1).T).T\n",
    "submap_in_pc1_frame = submap_in_pc1_frame[:,:3]\n",
    "\n",
    "# debug: try downsampling submap based on how far away each point is from ego platform\n",
    "rads = np.sqrt(np.sum(submap_in_pc1_frame**2, axis = 1))\n",
    "# submap_in_pc1_frame = submap_in_pc1_frame[np.argwhere(rads < 50)[:,0]] # simple distance cutoff (bad)\n",
    "#randomly drop points proportional to their distance from origin ~~~~~~~\n",
    "rel_rads = rads/max(rads)\n",
    "randy = np.random.rand(len(rel_rads))\n",
    "# submap_in_pc1_frame = submap_in_pc1_frame[np.where(randy + rel_rads**(1/3) < 1)]\n",
    "submap_in_pc1_frame = submap_in_pc1_frame[np.where(randy + rel_rads**(1/2) < 0.8)]\n",
    "print(np.shape(submap_in_pc1_frame))\n",
    "#~~~~~~~~~~~~~~~~~~~~~~~~~~~~~~~~~~~~~~~~~~~~~~~~~~~~~~~~~~~~~~~~~~~~~~~\n",
    "\n",
    "#remove points from HD Map far outside FOV of sensor\n",
    "phis = LC.c2s(LC, submap_in_pc1_frame)[:,2]\n",
    "not_too_low = np.argwhere(phis > 3*np.pi/8)[:,0]\n",
    "# print(np.shape(not_too_low))\n",
    "not_too_high = np.argwhere(phis < 5*np.pi/8)[:,0]\n",
    "# print(len(not_too_high))\n",
    "good_phis = np.intersect1d(not_too_high, not_too_low)\n",
    "# print(len(good_phis))\n",
    "submap_in_pc1_frame = submap_in_pc1_frame[good_phis,:]\n",
    "\n",
    "# DRAW SUBMAP and SCANS 1, 2\n",
    "print(np.shape(submap_in_pc1_frame))\n",
    "disp.append(Points(submap_in_pc1_frame, c = \"black\", r = 2, alpha = 0.3)) ##CB2314\n",
    "disp.append(Points(pc1, c = '#a65852', r = 3)) #red\n",
    "# disp.append(Points(pc2_in_pc1_frame, c = '#2c7c94', r = 3)) #blue\n",
    "\n",
    "plt.show(disp, \"05 Quad With Dynamics Frame #\" + str(idx))\n",
    "ViewInteractiveWidget(plt.window)"
   ]
  },
  {
   "cell_type": "markdown",
   "id": "f6bfbbbf",
   "metadata": {},
   "source": [
    "# Run VICET on single frame"
   ]
  },
  {
   "cell_type": "code",
   "execution_count": 156,
   "id": "d8abb075",
   "metadata": {
    "scrolled": true
   },
   "outputs": [
    {
     "name": "stdout",
     "output_type": "stream",
     "text": [
      "A0:\n",
      " [0. 0. 0. 0. 0. 0. 0. 0. 0. 0. 0. 0.]\n",
      "~~~~~~~~~~~Iteration  0 ~~~~~~~~~~\n",
      "A: \n",
      " [-0.0132  0.0442  0.0204  0.0012 -0.0005 -0.0064] \n",
      " [ 0.0039  0.0022 -0.0586 -0.0069  0.0037  0.0005]\n",
      "~~~~~~~~~~~Iteration  1 ~~~~~~~~~~\n",
      "A: \n",
      " [-0.0219  0.0771  0.039   0.0025 -0.0007 -0.0116] \n",
      " [ 0.004   0.0043 -0.1141 -0.0134  0.0069  0.001 ]\n",
      "~~~~~~~~~~~Iteration  2 ~~~~~~~~~~\n",
      "A: \n",
      " [-0.0282  0.1023  0.0566  0.0039 -0.0008 -0.0158] \n",
      " [ 0.0009  0.0052 -0.1718 -0.0194  0.0098  0.0011]\n",
      "~~~~~~~~~~~Iteration  3 ~~~~~~~~~~\n",
      "A: \n",
      " [-0.0301  0.1218  0.071   0.0048 -0.0011 -0.0192] \n",
      " [-0.0075  0.005  -0.2194 -0.0232  0.0128  0.0012]\n",
      "~~~~~~~~~~~Iteration  4 ~~~~~~~~~~\n",
      "A: \n",
      " [-0.0292  0.1361  0.0822  0.0057 -0.0016 -0.022 ] \n",
      " [-0.0148  0.0046 -0.2592 -0.0265  0.016   0.0011]\n",
      "~~~~~~~~~~~Iteration  5 ~~~~~~~~~~\n",
      "A: \n",
      " [-0.0258  0.1468  0.0888  0.0067 -0.0021 -0.0241] \n",
      " [-0.0223  0.0041 -0.2878 -0.0294  0.0188  0.001 ]\n",
      "~~~~~~~~~~~Iteration  6 ~~~~~~~~~~\n",
      "A: \n",
      " [-0.0197  0.1548  0.0931  0.0074 -0.0031 -0.0258] \n",
      " [-0.0346  0.0032 -0.3101 -0.0312  0.0224  0.0009]\n",
      "~~~~~~~~~~~Iteration  7 ~~~~~~~~~~\n",
      "A: \n",
      " [-0.0125  0.1609  0.0956  0.0082 -0.0041 -0.0271] \n",
      " [-0.0477  0.0022 -0.3272 -0.033   0.0256  0.0008]\n",
      "~~~~~~~~~~~Iteration  8 ~~~~~~~~~~\n",
      "A: \n",
      " [-0.0054  0.1654  0.097   0.009  -0.005  -0.0282] \n",
      " [-0.0599  0.001  -0.3425 -0.0344  0.0287  0.0007]\n",
      "~~~~~~~~~~~Iteration  9 ~~~~~~~~~~\n",
      "A: \n",
      " [ 0.0023  0.1688  0.0989  0.0093 -0.0062 -0.029 ] \n",
      " [-0.0712 -0.0002 -0.3536 -0.0348  0.0318  0.0007]\n",
      "~~~~~~~~~~~Iteration  10 ~~~~~~~~~~\n",
      "A: \n",
      " [ 0.0094  0.1712  0.098   0.01   -0.0072 -0.0297] \n",
      " [-0.081  -0.0012 -0.3605 -0.0357  0.0347  0.0006]\n",
      "~~~~~~~~~~~Iteration  11 ~~~~~~~~~~\n",
      "A: \n",
      " [ 0.0165  0.1734  0.0975  0.0101 -0.0083 -0.0302] \n",
      " [-0.0891 -0.0027 -0.3651 -0.0356  0.0375  0.0006]\n",
      "~~~~~~~~~~~Iteration  12 ~~~~~~~~~~\n",
      "A: \n",
      " [ 0.0232  0.175   0.0942  0.0107 -0.0092 -0.0306] \n",
      " [-0.096  -0.004  -0.364  -0.0362  0.0396  0.0005]\n",
      "~~~~~~~~~~~Iteration  13 ~~~~~~~~~~\n",
      "A: \n",
      " [ 0.0299  0.1766  0.0921  0.0109 -0.0103 -0.0309] \n",
      " [-0.1029 -0.0056 -0.3622 -0.0359  0.042   0.0004]\n",
      "~~~~~~~~~~~Iteration  14 ~~~~~~~~~~\n",
      "A: \n",
      " [ 0.0359  0.178   0.0888  0.0113 -0.0113 -0.0311] \n",
      " [-0.1087 -0.0071 -0.3588 -0.036   0.0442  0.0004]\n",
      "~~~~~~~~~~~Iteration  15 ~~~~~~~~~~\n",
      "A: \n",
      " [ 0.0408  0.1794  0.0858  0.0116 -0.0121 -0.0312] \n",
      " [-0.1122 -0.0088 -0.3548 -0.0358  0.046   0.0003]\n",
      "~~~~~~~~~~~Iteration  16 ~~~~~~~~~~\n",
      "A: \n",
      " [ 0.0462  0.1807  0.0828  0.0118 -0.0131 -0.0314] \n",
      " [-0.1166 -0.0103 -0.3505 -0.0355  0.048   0.0003]\n",
      "~~~~~~~~~~~Iteration  17 ~~~~~~~~~~\n",
      "A: \n",
      " [ 0.0518  0.1822  0.0791  0.0116 -0.0143 -0.0315] \n",
      " [-0.1211 -0.0123 -0.3413 -0.0342  0.0504  0.0003]\n",
      "~~~~~~~~~~~Iteration  18 ~~~~~~~~~~\n",
      "A: \n",
      " [ 0.0569  0.1834  0.0746  0.012  -0.0153 -0.0315] \n",
      " [-0.125  -0.0139 -0.3343 -0.0342  0.0523  0.0003]\n",
      "~~~~~~~~~~~Iteration  19 ~~~~~~~~~~\n",
      "A: \n",
      " [ 0.0619  0.1849  0.0712  0.0119 -0.0164 -0.0316] \n",
      " [-0.1289 -0.0156 -0.3259 -0.0332  0.0543  0.0003]\n",
      "~~~~~~~~~~~Iteration  20 ~~~~~~~~~~\n",
      "A: \n",
      " [ 0.0683  0.1861  0.0672  0.0127 -0.0167 -0.0316] \n",
      " [-0.1344 -0.0168 -0.3225 -0.0345  0.0554  0.0002]\n",
      "~~~~~~~~~~~Iteration  21 ~~~~~~~~~~\n",
      "A: \n",
      " [ 0.0747  0.1875  0.0628  0.0132 -0.0173 -0.0315] \n",
      " [-0.1401 -0.0183 -0.314  -0.0349  0.0565  0.0001]\n",
      "~~~~~~~~~~~Iteration  22 ~~~~~~~~~~\n",
      "A: \n",
      " [ 0.0814  0.189   0.0591  0.0133 -0.0183 -0.0315] \n",
      " [-0.1466 -0.02   -0.3065 -0.0345  0.0584  0.0001]\n",
      "~~~~~~~~~~~Iteration  23 ~~~~~~~~~~\n",
      "A: \n",
      " [ 0.0866  0.1904  0.0555  0.0135 -0.019  -0.0315] \n",
      " [-0.1515 -0.0215 -0.2987 -0.0342  0.0598  0.0001]\n",
      "~~~~~~~~~~~Iteration  24 ~~~~~~~~~~\n",
      "A: \n",
      " [ 0.0914  0.1919  0.0531  0.0135 -0.0197 -0.0315] \n",
      " [-0.1558 -0.0231 -0.2922 -0.0336  0.0612  0.0001]\n",
      "~~~~~~~~~~~Iteration  25 ~~~~~~~~~~\n",
      "A: \n",
      " [ 0.0953  0.1934  0.049   0.014  -0.0203 -0.0314] \n",
      " [-0.1599 -0.0245 -0.286  -0.0341  0.0625  0.    ]\n",
      "~~~~~~~~~~~Iteration  26 ~~~~~~~~~~\n",
      "A: \n",
      " [ 0.0989  0.1948  0.0455  0.0141 -0.021  -0.0314] \n",
      " [-0.1633 -0.0261 -0.2766 -0.0336  0.0638  0.    ]\n",
      "~~~~~~~~~~~Iteration  27 ~~~~~~~~~~\n",
      "A: \n",
      " [ 0.103   0.1962  0.0418  0.0142 -0.0219 -0.0314] \n",
      " [-0.1677 -0.0277 -0.2685 -0.0332  0.0654  0.0001]\n",
      "~~~~~~~~~~~Iteration  28 ~~~~~~~~~~\n",
      "A: \n",
      " [ 0.1062  0.1977  0.0392  0.0141 -0.0227 -0.0314] \n",
      " [-0.1711 -0.0294 -0.2626 -0.0325  0.067   0.0001]\n",
      "~~~~~~~~~~~Iteration  29 ~~~~~~~~~~\n",
      "A: \n",
      " [ 0.1093  0.199   0.0364  0.014  -0.0234 -0.0314] \n",
      " [-0.1741 -0.031  -0.2548 -0.0317  0.0683  0.0001]\n"
     ]
    },
    {
     "data": {
      "application/vnd.jupyter.widget-view+json": {
       "model_id": "45f329b71d5041dca0a9d861011c6a5a",
       "version_major": 2,
       "version_minor": 0
      },
      "text/plain": [
       "ViewInteractiveWidget(height=1376, layout=Layout(height='auto', width='100%'), width=2488)"
      ]
     },
     "metadata": {},
     "output_type": "display_data"
    }
   ],
   "source": [
    "from linear_corrector import LC\n",
    "\n",
    "A0 = np.array([0., 0., 0, 0, 0, 0,\n",
    "               0, 0, 0, 0, 0, 0])\n",
    "max_buffer = 0.5 \n",
    "\n",
    "dc = LC(cloud1 = submap_in_pc1_frame, cloud2 = pc1, fid = 60, niter = 30, \n",
    "        draw = True, mnp = 50, RM = False, solver = '12_state', \n",
    "        max_buffer = max_buffer, A0 = A0)\n",
    "# dc = LC(cloud1 = pc1, cloud2 = pc2_in_pc1_frame, fid = 60, niter = 50, \n",
    "#         draw = True, mnp = 50, RM = False, solver = '12_state', \n",
    "#         max_buffer = max_buffer, A0 = A0)\n",
    "\n",
    "ViewInteractiveWidget(dc.plt.window)"
   ]
  },
  {
   "cell_type": "code",
   "execution_count": null,
   "id": "71428204",
   "metadata": {},
   "outputs": [],
   "source": [
    "#plot velocity of platform...\n",
    "from matplotlib import pyplot as p\n",
    "\n",
    "print(gt_lidarframe)\n",
    "\n",
    "fig, ax = p.subplots()\n",
    "# ax.plot(np.diff(poses[:,1,-1]))\n",
    "ax.plot(gt_lidarframe[:,0])\n"
   ]
  },
  {
   "cell_type": "code",
   "execution_count": null,
   "id": "3d9b9053",
   "metadata": {},
   "outputs": [],
   "source": []
  }
 ],
 "metadata": {
  "kernelspec": {
   "display_name": "Python 3 (ipykernel)",
   "language": "python",
   "name": "python3"
  },
  "language_info": {
   "codemirror_mode": {
    "name": "ipython",
    "version": 3
   },
   "file_extension": ".py",
   "mimetype": "text/x-python",
   "name": "python",
   "nbconvert_exporter": "python",
   "pygments_lexer": "ipython3",
   "version": "3.9.13"
  }
 },
 "nbformat": 4,
 "nbformat_minor": 5
}
