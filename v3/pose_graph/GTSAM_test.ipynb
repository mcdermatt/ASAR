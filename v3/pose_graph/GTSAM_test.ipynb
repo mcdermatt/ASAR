{
 "cells": [
  {
   "cell_type": "markdown",
   "id": "ccaed5b0",
   "metadata": {},
   "source": [
    "# Exploring GTSAM  Package for Pose Optimization with Factor Graphs"
   ]
  },
  {
   "cell_type": "code",
   "execution_count": 17,
   "id": "ac941201",
   "metadata": {},
   "outputs": [
    {
     "name": "stdout",
     "output_type": "stream",
     "text": [
      "The autoreload extension is already loaded. To reload it, use:\n",
      "  %reload_ext autoreload\n"
     ]
    },
    {
     "data": {
      "application/javascript": [
       "IPython.notebook.set_autosave_interval(180000)"
      ]
     },
     "metadata": {},
     "output_type": "display_data"
    },
    {
     "name": "stdout",
     "output_type": "stream",
     "text": [
      "Autosaving every 180 seconds\n"
     ]
    }
   ],
   "source": [
    "%load_ext autoreload\n",
    "%autoreload 2\n",
    "%autosave 180\n",
    "%matplotlib notebook\n",
    "\n",
    "import gtsampy as gtsam"
   ]
  },
  {
   "cell_type": "markdown",
   "id": "e08ebfde",
   "metadata": {},
   "source": [
    "# Establish Origin \n",
    "\n",
    "$ [x, y, z, \\phi, \\theta, \\psi ] $"
   ]
  },
  {
   "cell_type": "code",
   "execution_count": null,
   "id": "e13f411b",
   "metadata": {},
   "outputs": [],
   "source": [
    "origin = gtsam.Pose3()"
   ]
  },
  {
   "cell_type": "code",
   "execution_count": null,
   "id": "9f261325",
   "metadata": {},
   "outputs": [],
   "source": []
  }
 ],
 "metadata": {
  "kernelspec": {
   "display_name": "Python 3 (ipykernel)",
   "language": "python",
   "name": "python3"
  },
  "language_info": {
   "codemirror_mode": {
    "name": "ipython",
    "version": 3
   },
   "file_extension": ".py",
   "mimetype": "text/x-python",
   "name": "python",
   "nbconvert_exporter": "python",
   "pygments_lexer": "ipython3",
   "version": "3.9.13"
  }
 },
 "nbformat": 4,
 "nbformat_minor": 5
}
