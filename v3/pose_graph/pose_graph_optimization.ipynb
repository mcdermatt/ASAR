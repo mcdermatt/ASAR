{
 "cells": [
  {
   "cell_type": "code",
   "execution_count": 2,
   "id": "315de72a",
   "metadata": {},
   "outputs": [
    {
     "name": "stdout",
     "output_type": "stream",
     "text": [
      "[PhysicalDevice(name='/physical_device:GPU:0', device_type='GPU')]\n",
      "The autoreload extension is already loaded. To reload it, use:\n",
      "  %reload_ext autoreload\n"
     ]
    },
    {
     "data": {
      "application/javascript": [
       "IPython.notebook.set_autosave_interval(180000)"
      ]
     },
     "metadata": {},
     "output_type": "display_data"
    },
    {
     "name": "stdout",
     "output_type": "stream",
     "text": [
      "Autosaving every 180 seconds\n"
     ]
    }
   ],
   "source": [
    "from vedo import *\n",
    "import os\n",
    "from ipyvtklink.viewer import ViewInteractiveWidget\n",
    "import pykitti\n",
    "import numpy as np\n",
    "import tensorflow as tf\n",
    "from tensorflow.math import sin, cos, tan\n",
    "import tensorflow_probability as tfp\n",
    "import pickle\n",
    "import matplotlib.pyplot as plt\n",
    "\n",
    "#limit GPU memory ------------------------------------------------\n",
    "gpus = tf.config.experimental.list_physical_devices('GPU')\n",
    "print(gpus)\n",
    "if gpus:\n",
    "  try:\n",
    "    memlim = 4*1024\n",
    "    tf.config.experimental.set_virtual_device_configuration(gpus[0], [tf.config.experimental.VirtualDeviceConfiguration(memory_limit=memlim)])\n",
    "  except RuntimeError as e:\n",
    "    print(e)\n",
    "#-----------------------------------------------------------------\n",
    "\n",
    "%load_ext autoreload\n",
    "%autoreload 2\n",
    "%autosave 180\n",
    "%matplotlib notebook"
   ]
  },
  {
   "cell_type": "markdown",
   "id": "795fd49e",
   "metadata": {},
   "source": [
    "# Pose Graph Optimization\n",
    "\n",
    "### GOAL: Adjust configuration of absolute poses (nodes) to minimize squared error intorduced by constraints (edges)\n",
    "\n",
    "\n",
    "Node: [x, y, z, r, p, y]\n",
    "\n",
    "Edge: Odometry Measurements"
   ]
  },
  {
   "cell_type": "markdown",
   "id": "c2c6851e",
   "metadata": {},
   "source": [
    "# State vector $x$\n",
    "\n",
    "absolute position and orientation of vehicle at each timestep\n",
    "\n",
    "\\begin{equation}\n",
    "\\textbf{x} = \n",
    "\\begin{bmatrix}\n",
    "\\textbf{x}_1\\\\\n",
    "\\textbf{x}_2\\\\\n",
    "\\textbf{x}_3 \\\\\n",
    "\\vdots\n",
    "\\end{bmatrix} = \n",
    "\\begin{bmatrix}\n",
    "x_1 & y_1 & z_1 & r_1 & p_1 & y_1 \\\\\n",
    "x_2 & y_2 & z_2 & r_2 & p_2 & y_2 \\\\\n",
    "x_3 & y_3 & z_3 & r_3 & p_3 & y_3 \\\\\n",
    "\\vdots & \\vdots & \\vdots & \\vdots & \\vdots & \\vdots & \\\\ \n",
    "\\end{bmatrix}\n",
    "\\end{equation}"
   ]
  },
  {
   "cell_type": "markdown",
   "id": "fef9d19b",
   "metadata": {},
   "source": [
    "# Transformations $\\mathbf{X}$  \n",
    "represeneted in $\\textit{Homogenous Coordinates}$\n",
    "\n",
    "\\begin{equation}\n",
    "\\mathbf{X_i} = \n",
    "\\begin{bmatrix}\n",
    "R_{11} & R_{12} & R_{13} & dx\\\\\n",
    "R_{21} & R_{22} & R_{23} & dy \\\\\n",
    "R_{31} & R_{32} & R_{33} & dz \\\\\n",
    "0 & 0 & 0 & 1\n",
    "\\end{bmatrix} \n",
    "\\end{equation}\n",
    "\n",
    "\n",
    "$\\big(\\mathbf{X}_i^{-1} \\mathbf{X}_{i+1} \\big)$  describes how node $i$ sees node $(i+1)$ (ex: odometry)\n",
    "\n",
    "$\\big(\\mathbf{X}_i^{-1} \\mathbf{X}_{j} \\big)$  describes how node $i$ sees node $j$ (ex: loop closure)"
   ]
  },
  {
   "cell_type": "code",
   "execution_count": 3,
   "id": "ffe4e1db",
   "metadata": {},
   "outputs": [],
   "source": [
    "def v2t(vector):\n",
    "    \"\"\"converts a transformation vector to homogenous coordinate system\"\"\"\n",
    "    if len(tf.shape(vector)) == 1: #allow for 1-D or N-D input\n",
    "        vector = vector[None,:]\n",
    "    angs = vector[:,3:]\n",
    "    phi = angs[:,0]\n",
    "    theta = angs[:,1]\n",
    "    psi = angs[:,2]\n",
    "    rot = tf.Variable([[cos(theta)*cos(psi), sin(psi)*cos(phi) + sin(phi)*sin(theta)*cos(psi), sin(phi)*sin(psi) - sin(theta)*cos(phi)*cos(psi)],\n",
    "                       [-sin(psi)*cos(theta), cos(phi)*cos(psi) - sin(phi)*sin(theta)*sin(psi), sin(phi)*cos(psi) + sin(theta)*sin(psi)*cos(phi)],\n",
    "                       [sin(theta), -sin(phi)*cos(theta), cos(phi)*cos(theta)]])\n",
    "    rot = tf.transpose(rot, [2, 0, 1])\n",
    "    trans = vector[:,:3]\n",
    "    trans = np.reshape(trans, (np.shape(rot)[0], 3, 1))\n",
    "    transform = tf.concat((rot, trans), axis = -1)\n",
    "    extra = tf.tile(tf.constant([[[0., 0., 0., 1.]]], dtype = tf.double), (np.shape(rot)[0],1,1))\n",
    "    transform = tf.concat((transform, extra), axis = -2)\n",
    "    return transform"
   ]
  },
  {
   "cell_type": "code",
   "execution_count": 4,
   "id": "46179c31",
   "metadata": {},
   "outputs": [],
   "source": [
    "def t2v(mat):\n",
    "    \"\"\"converts transformation matrix to state vector\"\"\"\n",
    "    if len( tf.shape(mat) ) == 2:\n",
    "        mat = mat[None, :, :]\n",
    "    R_sum = np.sqrt(( mat[:,0,0]**2 + mat[:,0,1]**2 + mat[:,1,2]**2 + mat[:,2,2]**2 ) / 2)\n",
    "    phi = np.arctan2(-mat[:,1,2],mat[:,2,2])\n",
    "    theta = np.arctan2(mat[:,0,2], R_sum)\n",
    "    psi = np.arctan2(-mat[:,0,1], mat[:,0,0])\n",
    "    angs = np.array([phi, theta, psi])\n",
    "    vector = tf.concat((mat[:,:3,-1], angs.T), axis =1)\n",
    "    return vector"
   ]
  },
  {
   "cell_type": "code",
   "execution_count": null,
   "id": "7920d275",
   "metadata": {},
   "outputs": [],
   "source": [
    "#NOTE: v2t() -> t2v() is returning to the same value only if I take inverse (for rotation) \n",
    "#                     and without inverse only (for translation). [T]^-1 @ [T] = I still\n",
    "#Question: is this normal?  \n",
    "\n",
    "# # test = np.array([1., 2., 3., 0.05, 0.00, -0.14])\n",
    "# test = np.ones([2,6])\n",
    "# test[1,:] = np.array([1., 2., 3., 0.003, 0.001, 0.3])\n",
    "# T = v2t(test)\n",
    "# # print(\"T: \\n\",T)\n",
    "# vect_trans = t2v(T).numpy()[:,:3]\n",
    "# vect_rot = t2v(tf.linalg.inv(T)).numpy()[:,3:]\n",
    "# print(np.append(vect_trans, vect_rot, axis = 1))"
   ]
  },
  {
   "cell_type": "markdown",
   "id": "dbdda32c",
   "metadata": {},
   "source": [
    "# Least Squares Error Function\n",
    "\n",
    "\n",
    "The optimial state vector, $x^*$, occurs where:\n",
    "\n",
    "\\begin{equation}\n",
    "\\Large\n",
    "x^* = \\arg\\min_x \\sum_{ij}^{} e^T_{ij}(x_i,x_j)\\Omega_{ij}e_{ij}(x_i,x_j)\n",
    "\\end{equation}\n",
    "\n",
    "$\\Omega_{ij}$ is the information matrix associated with the odometry estimate that relates $i$ and $j$. $\\Omega_{ij}$ is the inverse of the covariance matrix $\\sigma_{ij}$\n",
    "\n",
    "the error funcion for each connected node $i,j$ as a function of the state vector $x$ is defined as:\n",
    "\n",
    "\\begin{equation}\n",
    "\\Large\n",
    "e_{ij}(x) = \\text{t2v}(Z_{ij}^{-1} (X_j^{-1}X_i))\n",
    "\\end{equation}\n",
    "\n",
    "\\begin{equation}\n",
    "\\large\n",
    "Z_{ij}^{-1} = \\text{constraint (from measurement)}\n",
    "\\end{equation}\n",
    "\n",
    "\\begin{equation}\n",
    "\\large\n",
    "(X_j^{-1}X_i) = x_i \\text{ relative to }x_j \\text{ given the current model of system} \n",
    "\\end{equation}\n",
    "\n",
    "### Important Note: $e_{ij}(x)$ only depends on $x_i$ and $x_j$ "
   ]
  },
  {
   "cell_type": "markdown",
   "id": "6a3da390",
   "metadata": {},
   "source": [
    "# Linearizing the System\n",
    "\n",
    "\\begin{equation}\n",
    "\\Large\n",
    "e_{ij}(x + \\Delta x) \\approx e_{ij}(x) + J_{ij} \\Delta x\n",
    "\\end{equation}\n",
    "\n",
    "### Here, $J_{ij}$ is the the jacobian of $e_{ij}$ with respect to x\n",
    "\n",
    "\\begin{equation}\n",
    "\\Large\n",
    "J_{ij} = \\frac{\\delta e_{ij}(x)}{\\delta x} = \\bigg{(} 0 \\dots \\frac{\\delta e_{ij}(x_i)}{\\delta x_i}\n",
    "\\dots \\frac{\\delta e_{ij}(x_j)}{\\delta x_j} \\dots 0 \\bigg{)}\n",
    "\\end{equation}\n",
    "\n",
    "<!-- \\begin{equation}\n",
    "\\Large\n",
    "J\n",
    "\\end{equation} -->"
   ]
  },
  {
   "cell_type": "code",
   "execution_count": 17,
   "id": "edc9a25e",
   "metadata": {},
   "outputs": [],
   "source": [
    "# TODO make function to generate J\n",
    "\n"
   ]
  },
  {
   "cell_type": "markdown",
   "id": "40a3a211",
   "metadata": {},
   "source": [
    "### Similar to ICET, we can use Newton-Raphson to iteratively solve for small perterbations to the state vector $x$ that bring us towards a better solution\n",
    "\n",
    "\\begin{equation}\n",
    "\\Large\n",
    "x \\rightarrow x + \\Delta x\n",
    "\\end{equation}"
   ]
  },
  {
   "cell_type": "markdown",
   "id": "b67ca0bc",
   "metadata": {},
   "source": [
    "\\begin{equation}\n",
    "\\Large\n",
    "H \\Delta x = -b\n",
    "\\end{equation}\n",
    "\n",
    "\\begin{equation}\n",
    "\\Large\n",
    "b^T = \\sum_{ij}^{}b_{ij} = \\sum_{ij}^{}e_{ij}^T \\Omega_{ij} J_{ij}\n",
    "\\end{equation}\n",
    "\n",
    "\\begin{equation}\n",
    "\\Large\n",
    "H = \\sum_{ij}^{}H_{ij} = \\sum_{ij}^{}J_{ij}^T \\Omega J_{ij}\n",
    "\\end{equation}"
   ]
  },
  {
   "cell_type": "code",
   "execution_count": null,
   "id": "0179bbe7",
   "metadata": {},
   "outputs": [],
   "source": []
  },
  {
   "cell_type": "code",
   "execution_count": 14,
   "id": "d7aa279a",
   "metadata": {
    "scrolled": false
   },
   "outputs": [
    {
     "name": "stdout",
     "output_type": "stream",
     "text": [
      "[[ 2.  3.]\n",
      " [ 3.  4.]\n",
      " [ 2.  3.]\n",
      " [ 4. 11.]\n",
      " [ 3. 11.]\n",
      " [11. 14.]\n",
      " [11. 14.]\n",
      " [14. 17.]\n",
      " [14. 17.]\n",
      " [17. 20.]\n",
      " [17. 20.]\n",
      " [20. 23.]\n",
      " [20. 24.]\n",
      " [23. 26.]\n",
      " [24. 27.]\n",
      " [26. 29.]\n",
      " [27. 30.]\n",
      " [29. 32.]\n",
      " [30. 33.]\n",
      " [32. 35.]]\n"
     ]
    }
   ],
   "source": [
    "# Load test data\n",
    "odometry_history = np.load(\"test_data/leddartech_pixset/T_vec_history.npy\")\n",
    "cov_estimate_history = np.load(\"test_data/leddartech_pixset/cov_vec_history.npy\")\n",
    "print(odometry_history[:20,-2:])\n",
    "# print(cov_estimate_history)"
   ]
  },
  {
   "cell_type": "markdown",
   "id": "5fbce484",
   "metadata": {},
   "source": [
    "# TODO\n",
    "\n",
    "Get derivitive of error function\n",
    "\n",
    "\n",
    "# Questions\n",
    "\n",
    "What is the Jacobian of the error function??\n",
    "\n",
    "Is what we did in ICET to handle sparsity similar to a Choelesky Decomposition?\n",
    "\n",
    "\n",
    "# Potential Contributions\n",
    "\n",
    "Use ICET error covaraince estimation to demonstrate improvement in accuracy for Volpe Dataset \n"
   ]
  },
  {
   "cell_type": "code",
   "execution_count": null,
   "id": "87c82ba7",
   "metadata": {},
   "outputs": [],
   "source": []
  }
 ],
 "metadata": {
  "kernelspec": {
   "display_name": "Python 3 (ipykernel)",
   "language": "python",
   "name": "python3"
  },
  "language_info": {
   "codemirror_mode": {
    "name": "ipython",
    "version": 3
   },
   "file_extension": ".py",
   "mimetype": "text/x-python",
   "name": "python",
   "nbconvert_exporter": "python",
   "pygments_lexer": "ipython3",
   "version": "3.9.13"
  }
 },
 "nbformat": 4,
 "nbformat_minor": 5
}
