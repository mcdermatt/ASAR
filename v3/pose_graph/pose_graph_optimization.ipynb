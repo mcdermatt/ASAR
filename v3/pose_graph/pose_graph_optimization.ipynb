{
 "cells": [
  {
   "cell_type": "code",
   "execution_count": 2,
   "id": "5da9bbcf",
   "metadata": {},
   "outputs": [
    {
     "name": "stdout",
     "output_type": "stream",
     "text": [
      "[PhysicalDevice(name='/physical_device:GPU:0', device_type='GPU')]\n",
      "The autoreload extension is already loaded. To reload it, use:\n",
      "  %reload_ext autoreload\n"
     ]
    },
    {
     "data": {
      "application/javascript": [
       "IPython.notebook.set_autosave_interval(180000)"
      ]
     },
     "metadata": {},
     "output_type": "display_data"
    },
    {
     "name": "stdout",
     "output_type": "stream",
     "text": [
      "Autosaving every 180 seconds\n"
     ]
    }
   ],
   "source": [
    "from vedo import *\n",
    "import os\n",
    "from ipyvtklink.viewer import ViewInteractiveWidget\n",
    "import pykitti\n",
    "import numpy as np\n",
    "import tensorflow as tf\n",
    "from tensorflow.math import sin, cos, tan\n",
    "import tensorflow_probability as tfp\n",
    "import pickle\n",
    "import matplotlib.pyplot as plt\n",
    "\n",
    "#limit GPU memory ------------------------------------------------\n",
    "gpus = tf.config.experimental.list_physical_devices('GPU')\n",
    "print(gpus)\n",
    "if gpus:\n",
    "  try:\n",
    "    memlim = 4*1024\n",
    "    tf.config.experimental.set_virtual_device_configuration(gpus[0], [tf.config.experimental.VirtualDeviceConfiguration(memory_limit=memlim)])\n",
    "  except RuntimeError as e:\n",
    "    print(e)\n",
    "#-----------------------------------------------------------------\n",
    "\n",
    "%load_ext autoreload\n",
    "%autoreload 2\n",
    "%autosave 180\n",
    "%matplotlib notebook"
   ]
  },
  {
   "cell_type": "markdown",
   "id": "efc54bdf",
   "metadata": {},
   "source": [
    "# Pose Graph Optimization\n",
    "\n",
    "### GOAL: Adjust configuration of absolute poses (nodes) to minimize squared error intorduced by constraints (edges)\n",
    "\n",
    "\n",
    "Node: [x, y, z, r, p, y]\n",
    "\n",
    "Edge: Odometry Measurements"
   ]
  },
  {
   "cell_type": "markdown",
   "id": "aaa738f7",
   "metadata": {},
   "source": [
    "# State vector $x$\n",
    "\n",
    "absolute position and orientation of vehicle at each timestep\n",
    "\n",
    "\\begin{equation}\n",
    "\\textbf{x} = \n",
    "\\begin{bmatrix}\n",
    "\\textbf{x}_1\\\\\n",
    "\\textbf{x}_2\\\\\n",
    "\\textbf{x}_3 \\\\\n",
    "\\vdots\n",
    "\\end{bmatrix} = \n",
    "\\begin{bmatrix}\n",
    "x_1 & y_1 & z_1 & r_1 & p_1 & y_1 \\\\\n",
    "x_2 & y_2 & z_2 & r_2 & p_2 & y_2 \\\\\n",
    "x_3 & y_3 & z_3 & r_3 & p_3 & y_3 \\\\\n",
    "\\vdots & \\vdots & \\vdots & \\vdots & \\vdots & \\vdots & \\\\ \n",
    "\\end{bmatrix}\n",
    "\\end{equation}"
   ]
  },
  {
   "cell_type": "markdown",
   "id": "608d1d09",
   "metadata": {},
   "source": [
    "# Transformations $\\mathbf{X}$  \n",
    "Represeneted in Homogenous Coordinates. This is an overparameterization (similar to using quaternions) which helps avoid singularities when calculating the error function to adjust each Gauss-Newton iteration, however, the additional degrees of freedom need to be removed before forming our state vector\n",
    "\n",
    "\\begin{equation}\n",
    "\\mathbf{X_i} = \n",
    "\\begin{bmatrix}\n",
    "R_{11} & R_{12} & R_{13} & dx\\\\\n",
    "R_{21} & R_{22} & R_{23} & dy \\\\\n",
    "R_{31} & R_{32} & R_{33} & dz \\\\\n",
    "0 & 0 & 0 & 1\n",
    "\\end{bmatrix} \n",
    "\\end{equation}\n",
    "\n",
    "\n",
    "$\\big(\\mathbf{X}_i^{-1} \\mathbf{X}_{i+1} \\big)$  describes how node $i$ sees node $(i+1)$ (ex: odometry)\n",
    "\n",
    "$\\big(\\mathbf{X}_i^{-1} \\mathbf{X}_{j} \\big)$  describes how node $i$ sees node $j$ (ex: loop closure)"
   ]
  },
  {
   "cell_type": "code",
   "execution_count": 124,
   "id": "68a7f4d9",
   "metadata": {},
   "outputs": [],
   "source": [
    "def v2t(vector):\n",
    "    \"\"\"converts a transformation vector to homogenous coordinate system\"\"\"\n",
    "    if len(tf.shape(vector)) == 1: #allow for 1-D or N-D input\n",
    "        vector = vector[None,:]\n",
    "    angs = vector[:,3:]\n",
    "    phi = angs[:,0]\n",
    "    theta = angs[:,1]\n",
    "    psi = angs[:,2]\n",
    "    rot = tf.Variable([[cos(theta)*cos(psi), sin(psi)*cos(phi) + sin(phi)*sin(theta)*cos(psi), sin(phi)*sin(psi) - sin(theta)*cos(phi)*cos(psi)],\n",
    "                       [-sin(psi)*cos(theta), cos(phi)*cos(psi) - sin(phi)*sin(theta)*sin(psi), sin(phi)*cos(psi) + sin(theta)*sin(psi)*cos(phi)],\n",
    "                       [sin(theta), -sin(phi)*cos(theta), cos(phi)*cos(theta)]])\n",
    "    rot = tf.transpose(rot, [2, 0, 1])\n",
    "    trans = vector[:,:3]\n",
    "    trans = np.reshape(trans, (np.shape(rot)[0], 3, 1))\n",
    "    transform = tf.concat((rot, trans), axis = -1)\n",
    "    extra = tf.tile(tf.constant([[[0., 0., 0., 1.]]], dtype = tf.double), (np.shape(rot)[0],1,1))\n",
    "    transform = tf.concat((transform, extra), axis = -2)\n",
    "    return transform"
   ]
  },
  {
   "cell_type": "code",
   "execution_count": 125,
   "id": "bc94eef7",
   "metadata": {},
   "outputs": [],
   "source": [
    "def t2v(mat):\n",
    "    \"\"\"converts transformation matrix to state vector\"\"\"\n",
    "    if len( tf.shape(mat) ) == 2:\n",
    "        mat = mat[None, :, :]\n",
    "    R_sum = np.sqrt(( mat[:,0,0]**2 + mat[:,0,1]**2 + mat[:,1,2]**2 + mat[:,2,2]**2 ) / 2)\n",
    "    phi = np.arctan2(-mat[:,1,2],mat[:,2,2])\n",
    "    theta = np.arctan2(mat[:,0,2], R_sum)\n",
    "    psi = np.arctan2(-mat[:,0,1], mat[:,0,0])\n",
    "    angs = np.array([phi, theta, psi])\n",
    "    vector = tf.concat((mat[:,:3,-1], angs.T), axis =1)\n",
    "    return vector"
   ]
  },
  {
   "cell_type": "code",
   "execution_count": 126,
   "id": "3155e83c",
   "metadata": {},
   "outputs": [],
   "source": [
    "#NOTE: v2t() -> t2v() is returning to the same value only if I take inverse (for rotation) \n",
    "#                     and without inverse only (for translation). [T]^-1 @ [T] = I still\n",
    "#Question: is this normal?  \n",
    "\n",
    "# # test = np.array([1., 2., 3., 0.05, 0.00, -0.14])\n",
    "# test = np.ones([2,6])\n",
    "# test[1,:] = np.array([1., 2., 3., 0.003, 0.001, 0.3])\n",
    "# T = v2t(test)\n",
    "# # print(\"T: \\n\",T)\n",
    "# vect_trans = t2v(T).numpy()[:,:3]\n",
    "# vect_rot = t2v(tf.linalg.inv(T)).numpy()[:,3:]\n",
    "# print(np.append(vect_trans, vect_rot, axis = 1))"
   ]
  },
  {
   "cell_type": "markdown",
   "id": "4224fa51",
   "metadata": {},
   "source": [
    "# Least Squares Error Function\n",
    "\n",
    "\n",
    "The optimial state vector, $x^*$, occurs where:\n",
    "\n",
    "\\begin{equation}\n",
    "\\Large\n",
    "x^* = \\arg\\min_x \\sum_{ij}^{} e^T_{ij}(x_i,x_j)\\Omega_{ij}e_{ij}(x_i,x_j)\n",
    "\\end{equation}\n",
    "\n",
    "$\\Omega_{ij}$ is the information matrix associated with the odometry estimate that relates $i$ and $j$. $\\Omega_{ij}$ is the inverse of the covariance matrix $\\sigma_{ij}$\n",
    "\n",
    "the error funcion for each connected node $i,j$ as a function of the state vector $x$ is defined as:\n",
    "\n",
    "\\begin{equation}\n",
    "\\Large\n",
    "e_{ij}(x) = \\text{t2v}(Z_{ij}^{-1} (X_j^{-1}X_i))\n",
    "\\end{equation}\n",
    "\n",
    "\\begin{equation}\n",
    "Z_{ij}^{-1} = \\text{constraint (from measurement)}\n",
    "\\end{equation}\n",
    "\n",
    "\\begin{equation}\n",
    "(X_j^{-1}X_i) = x_i \\text{ relative to }x_j \\text{ given the current model of system} \n",
    "\\end{equation}\n",
    "\n",
    "$ \\text{Stachniss and Grisetti use} \\boxplus \\text{to repersent the mapping of euclidian space } v \\text{ to a homogenous coordinate frame } t$\n",
    "\n",
    "\n",
    "Important Note: $e_{ij}(x)$ only depends on $x_i$ and $x_j$ "
   ]
  },
  {
   "cell_type": "code",
   "execution_count": 145,
   "id": "dc388247",
   "metadata": {},
   "outputs": [],
   "source": [
    "def get_e_ij(Zij, Xij):\n",
    "    \"\"\"calculates error function w.r.t. nodes i and j\n",
    "    Zij == pose j relative to i according to nodes (rotation matrix)\n",
    "    Xij == pose j relative to i according to constraints (rotation matrix)\n",
    "    \"\"\"        \n",
    "    e_ij = t2v(tf.linalg.pinv(Zij) @ Xij) #should be this\n",
    "#     print(\"v1\", e_ij)\n",
    "#     e_ij = t2v(tf.linalg.pinv(tf.linalg.pinv(Zij) @ Xij)) #why do I have to do this to get things to work out?\n",
    "#     print(\"v2\", e_ij)\n",
    "\n",
    "    return(e_ij)    "
   ]
  },
  {
   "cell_type": "code",
   "execution_count": 153,
   "id": "d0d43de7",
   "metadata": {},
   "outputs": [
    {
     "name": "stdout",
     "output_type": "stream",
     "text": [
      "tf.Tensor([[-0.00199992  0.1002945  -0.09968457  0.003       0.01        0.002     ]], shape=(1, 6), dtype=float64)\n"
     ]
    }
   ],
   "source": [
    "Zij = v2t(np.array([1., 2.,  3.,  0.003, 0.01, 0.01 ])) # get from graph \n",
    "Xij = v2t(np.array([1., 2.1, 2.9, 0.,      0.0,    0.008])) # get from odometry message\n",
    "e_ij = get_e_ij(Zij, Xij)\n",
    "print(e_ij)"
   ]
  },
  {
   "cell_type": "markdown",
   "id": "e0d79e04",
   "metadata": {},
   "source": [
    "<span style=\"color:red\"> TODO: fix numerics here! </span>\n"
   ]
  },
  {
   "cell_type": "markdown",
   "id": "79e6ae73",
   "metadata": {},
   "source": [
    "# Linearizing the System\n",
    "\n",
    "\\begin{equation}\n",
    "\\Large\n",
    "e_{ij}(x + \\Delta x) \\approx e_{ij}(x) + J_{ij} \\Delta x\n",
    "\\end{equation}\n",
    "\n",
    "Here, $J_{ij}$ is the the jacobian of $e_{ij}$ with respect to x\n",
    "\n",
    "\\begin{equation}\n",
    "\\Large\n",
    "J_{ij} = \\frac{\\delta e_{ij}(x)}{\\delta x} = \\bigg{(} 0 \\dots \\frac{\\delta e_{ij}(x_i)}{\\delta x_i}\n",
    "\\dots \\frac{\\delta e_{ij}(x_j)}{\\delta x_j} \\dots 0 \\bigg{)}\n",
    "\\end{equation}\n",
    "\n",
    "<!-- \\begin{equation}\n",
    "\\Large\n",
    "J\n",
    "\\end{equation} -->"
   ]
  },
  {
   "cell_type": "markdown",
   "id": "0a334b57",
   "metadata": {},
   "source": [
    "\\begin{equation}\n",
    "\\Large\n",
    "e_{ij}(x) \\in \\mathbb{R}^{6N \\times 1}\n",
    "\\end{equation}\n",
    "where $N$ is the total number of poses being solved for (nodes)"
   ]
  },
  {
   "cell_type": "code",
   "execution_count": 183,
   "id": "0b0ba01d",
   "metadata": {},
   "outputs": [],
   "source": [
    "def get_J_ij(e_ij):\n",
    "    \"\"\"calculates Jacobian of error function w.r.t. nodes i and j using TensorFlow\n",
    "        e_ij == error function [x, y, z, phi, theta, psi]\n",
    "        \"\"\"\n",
    "    e_ij = tf.cast(e_ij, tf.float32)\n",
    "    \n",
    "    p_point = e_ij[:,:3]\n",
    "    phi = e_ij[:,3]\n",
    "    theta = e_ij[:,4]\n",
    "    psi = e_ij[:,5]\n",
    "    \n",
    "    #correct method using tf.tile\n",
    "    eyes = tf.tile(-tf.eye(3), [tf.shape(p_point)[1] , 1])\n",
    "\n",
    "    # (deriv of R() wrt phi).dot(p_point)\n",
    "    #   NOTE: any time sin/cos operator is used, output will be 1x1 instead of constant (not good)\n",
    "    Jx = tf.tensordot(tf.Variable([[tf.constant(0.), (-sin(psi)*sin(phi) + cos(phi)*sin(theta)*cos(psi)), (cos(phi)*sin(psi) + sin(theta)*sin(phi)*cos(psi))],\n",
    "                                   [tf.constant(0.), (-sin(phi)*cos(psi) - cos(phi)*sin(theta)*sin(psi)), (cos(phi)*cos(psi) - sin(theta)*sin(psi)*sin(phi))], \n",
    "                                   [tf.constant(0.), (-cos(phi)*cos(theta)), (-sin(phi)*cos(theta))] ]), p_point, axes = 1)\n",
    "\n",
    "    # (deriv of R() wrt theta).dot(p_point)\n",
    "    Jy = tf.tensordot(tf.Variable([[(-sin(theta)*cos(psi)), (cos(theta)*sin(phi)*cos(psi)), (-cos(theta)*cos(phi)*cos(psi))],\n",
    "                                   [(sin(psi)*sin(theta)), (-cos(theta)*sin(phi)*sin(psi)), (cos(theta)*sin(psi)*cos(phi))],\n",
    "                                   [(cos(theta)), (sin(phi)*sin(theta)), (-sin(theta)*cos(phi))] ]), p_point, axes = 1)\n",
    "\n",
    "    Jz = tf.tensordot(tf.Variable([[(-cos(theta)*sin(psi)), (cos(psi)*cos(phi) - sin(phi)*sin(theta)*sin(psi)), (cos(psi)*sin(phi) + sin(theta)*cos(phi)*sin(psi)) ],\n",
    "                                       [(-cos(psi)*cos(theta)), (-sin(psi)*cos(phi) - sin(phi)*sin(theta)*cos(psi)), (-sin(phi)*sin(psi) + sin(theta)*cos(psi)*cos(phi))],\n",
    "                                       [tf.constant(0.),tf.constant(0.),tf.constant(0.)]]), p_point, axes = 1)\n",
    "\n",
    "    Jx_reshape = tf.reshape(tf.transpose(Jx), shape = (tf.shape(Jx)[0]*tf.shape(Jx)[1],1))\n",
    "    Jy_reshape = tf.reshape(tf.transpose(Jy), shape = (tf.shape(Jy)[0]*tf.shape(Jy)[1],1))\n",
    "    Jz_reshape = tf.reshape(tf.transpose(Jz), shape = (tf.shape(Jz)[0]*tf.shape(Jz)[1],1))\n",
    "\n",
    "    J = tf.concat([eyes, Jx_reshape, Jy_reshape, Jz_reshape], axis = 1)\n",
    "\n",
    "    return J\n"
   ]
  },
  {
   "cell_type": "code",
   "execution_count": 184,
   "id": "e1e09ebe",
   "metadata": {},
   "outputs": [
    {
     "name": "stdout",
     "output_type": "stream",
     "text": [
      "tf.Tensor([[-0.00199992  0.1002945  -0.09968457  0.003       0.01        0.002     ]], shape=(1, 6), dtype=float64)\n"
     ]
    },
    {
     "ename": "InvalidArgumentError",
     "evalue": "{{function_node __wrapped__Pack_N_3_device_/job:localhost/replica:0/task:0/device:GPU:0}} Shapes of all inputs must match: values[0].shape = [] != values[1].shape = [1] [Op:Pack] name: 0",
     "output_type": "error",
     "traceback": [
      "\u001b[0;31m---------------------------------------------------------------------------\u001b[0m",
      "\u001b[0;31mInvalidArgumentError\u001b[0m                      Traceback (most recent call last)",
      "Input \u001b[0;32mIn [184]\u001b[0m, in \u001b[0;36m<cell line: 5>\u001b[0;34m()\u001b[0m\n\u001b[1;32m      1\u001b[0m \u001b[38;5;66;03m# x = odometry_history[:10,:6] #test\u001b[39;00m\n\u001b[1;32m      2\u001b[0m \u001b[38;5;66;03m# print(x)\u001b[39;00m\n\u001b[1;32m      3\u001b[0m \u001b[38;5;28mprint\u001b[39m(e_ij)\n\u001b[0;32m----> 5\u001b[0m J_ij \u001b[38;5;241m=\u001b[39m \u001b[43mget_J_ij\u001b[49m\u001b[43m(\u001b[49m\u001b[43me_ij\u001b[49m\u001b[43m)\u001b[49m\n",
      "Input \u001b[0;32mIn [183]\u001b[0m, in \u001b[0;36mget_J_ij\u001b[0;34m(e_ij)\u001b[0m\n\u001b[1;32m     13\u001b[0m eyes \u001b[38;5;241m=\u001b[39m tf\u001b[38;5;241m.\u001b[39mtile(\u001b[38;5;241m-\u001b[39mtf\u001b[38;5;241m.\u001b[39meye(\u001b[38;5;241m3\u001b[39m), [tf\u001b[38;5;241m.\u001b[39mshape(p_point)[\u001b[38;5;241m1\u001b[39m] , \u001b[38;5;241m1\u001b[39m])\n\u001b[1;32m     15\u001b[0m \u001b[38;5;66;03m# (deriv of R() wrt phi).dot(p_point)\u001b[39;00m\n\u001b[1;32m     16\u001b[0m \u001b[38;5;66;03m#   NOTE: any time sin/cos operator is used, output will be 1x1 instead of constant (not good)\u001b[39;00m\n\u001b[0;32m---> 17\u001b[0m Jx \u001b[38;5;241m=\u001b[39m tf\u001b[38;5;241m.\u001b[39mtensordot(\u001b[43mtf\u001b[49m\u001b[38;5;241;43m.\u001b[39;49m\u001b[43mVariable\u001b[49m\u001b[43m(\u001b[49m\u001b[43m[\u001b[49m\u001b[43m[\u001b[49m\u001b[43mtf\u001b[49m\u001b[38;5;241;43m.\u001b[39;49m\u001b[43mconstant\u001b[49m\u001b[43m(\u001b[49m\u001b[38;5;241;43m0.\u001b[39;49m\u001b[43m)\u001b[49m\u001b[43m,\u001b[49m\u001b[43m \u001b[49m\u001b[43m(\u001b[49m\u001b[38;5;241;43m-\u001b[39;49m\u001b[43msin\u001b[49m\u001b[43m(\u001b[49m\u001b[43mpsi\u001b[49m\u001b[43m)\u001b[49m\u001b[38;5;241;43m*\u001b[39;49m\u001b[43msin\u001b[49m\u001b[43m(\u001b[49m\u001b[43mphi\u001b[49m\u001b[43m)\u001b[49m\u001b[43m \u001b[49m\u001b[38;5;241;43m+\u001b[39;49m\u001b[43m \u001b[49m\u001b[43mcos\u001b[49m\u001b[43m(\u001b[49m\u001b[43mphi\u001b[49m\u001b[43m)\u001b[49m\u001b[38;5;241;43m*\u001b[39;49m\u001b[43msin\u001b[49m\u001b[43m(\u001b[49m\u001b[43mtheta\u001b[49m\u001b[43m)\u001b[49m\u001b[38;5;241;43m*\u001b[39;49m\u001b[43mcos\u001b[49m\u001b[43m(\u001b[49m\u001b[43mpsi\u001b[49m\u001b[43m)\u001b[49m\u001b[43m)\u001b[49m\u001b[43m,\u001b[49m\u001b[43m \u001b[49m\u001b[43m(\u001b[49m\u001b[43mcos\u001b[49m\u001b[43m(\u001b[49m\u001b[43mphi\u001b[49m\u001b[43m)\u001b[49m\u001b[38;5;241;43m*\u001b[39;49m\u001b[43msin\u001b[49m\u001b[43m(\u001b[49m\u001b[43mpsi\u001b[49m\u001b[43m)\u001b[49m\u001b[43m \u001b[49m\u001b[38;5;241;43m+\u001b[39;49m\u001b[43m \u001b[49m\u001b[43msin\u001b[49m\u001b[43m(\u001b[49m\u001b[43mtheta\u001b[49m\u001b[43m)\u001b[49m\u001b[38;5;241;43m*\u001b[39;49m\u001b[43msin\u001b[49m\u001b[43m(\u001b[49m\u001b[43mphi\u001b[49m\u001b[43m)\u001b[49m\u001b[38;5;241;43m*\u001b[39;49m\u001b[43mcos\u001b[49m\u001b[43m(\u001b[49m\u001b[43mpsi\u001b[49m\u001b[43m)\u001b[49m\u001b[43m)\u001b[49m\u001b[43m]\u001b[49m\u001b[43m,\u001b[49m\n\u001b[1;32m     18\u001b[0m \u001b[43m                               \u001b[49m\u001b[43m[\u001b[49m\u001b[43mtf\u001b[49m\u001b[38;5;241;43m.\u001b[39;49m\u001b[43mconstant\u001b[49m\u001b[43m(\u001b[49m\u001b[38;5;241;43m0.\u001b[39;49m\u001b[43m)\u001b[49m\u001b[43m,\u001b[49m\u001b[43m \u001b[49m\u001b[43m(\u001b[49m\u001b[38;5;241;43m-\u001b[39;49m\u001b[43msin\u001b[49m\u001b[43m(\u001b[49m\u001b[43mphi\u001b[49m\u001b[43m)\u001b[49m\u001b[38;5;241;43m*\u001b[39;49m\u001b[43mcos\u001b[49m\u001b[43m(\u001b[49m\u001b[43mpsi\u001b[49m\u001b[43m)\u001b[49m\u001b[43m \u001b[49m\u001b[38;5;241;43m-\u001b[39;49m\u001b[43m \u001b[49m\u001b[43mcos\u001b[49m\u001b[43m(\u001b[49m\u001b[43mphi\u001b[49m\u001b[43m)\u001b[49m\u001b[38;5;241;43m*\u001b[39;49m\u001b[43msin\u001b[49m\u001b[43m(\u001b[49m\u001b[43mtheta\u001b[49m\u001b[43m)\u001b[49m\u001b[38;5;241;43m*\u001b[39;49m\u001b[43msin\u001b[49m\u001b[43m(\u001b[49m\u001b[43mpsi\u001b[49m\u001b[43m)\u001b[49m\u001b[43m)\u001b[49m\u001b[43m,\u001b[49m\u001b[43m \u001b[49m\u001b[43m(\u001b[49m\u001b[43mcos\u001b[49m\u001b[43m(\u001b[49m\u001b[43mphi\u001b[49m\u001b[43m)\u001b[49m\u001b[38;5;241;43m*\u001b[39;49m\u001b[43mcos\u001b[49m\u001b[43m(\u001b[49m\u001b[43mpsi\u001b[49m\u001b[43m)\u001b[49m\u001b[43m \u001b[49m\u001b[38;5;241;43m-\u001b[39;49m\u001b[43m \u001b[49m\u001b[43msin\u001b[49m\u001b[43m(\u001b[49m\u001b[43mtheta\u001b[49m\u001b[43m)\u001b[49m\u001b[38;5;241;43m*\u001b[39;49m\u001b[43msin\u001b[49m\u001b[43m(\u001b[49m\u001b[43mpsi\u001b[49m\u001b[43m)\u001b[49m\u001b[38;5;241;43m*\u001b[39;49m\u001b[43msin\u001b[49m\u001b[43m(\u001b[49m\u001b[43mphi\u001b[49m\u001b[43m)\u001b[49m\u001b[43m)\u001b[49m\u001b[43m]\u001b[49m\u001b[43m,\u001b[49m\u001b[43m \u001b[49m\n\u001b[1;32m     19\u001b[0m \u001b[43m                               \u001b[49m\u001b[43m[\u001b[49m\u001b[43mtf\u001b[49m\u001b[38;5;241;43m.\u001b[39;49m\u001b[43mconstant\u001b[49m\u001b[43m(\u001b[49m\u001b[38;5;241;43m0.\u001b[39;49m\u001b[43m)\u001b[49m\u001b[43m,\u001b[49m\u001b[43m \u001b[49m\u001b[43m(\u001b[49m\u001b[38;5;241;43m-\u001b[39;49m\u001b[43mcos\u001b[49m\u001b[43m(\u001b[49m\u001b[43mphi\u001b[49m\u001b[43m)\u001b[49m\u001b[38;5;241;43m*\u001b[39;49m\u001b[43mcos\u001b[49m\u001b[43m(\u001b[49m\u001b[43mtheta\u001b[49m\u001b[43m)\u001b[49m\u001b[43m)\u001b[49m\u001b[43m,\u001b[49m\u001b[43m \u001b[49m\u001b[43m(\u001b[49m\u001b[38;5;241;43m-\u001b[39;49m\u001b[43msin\u001b[49m\u001b[43m(\u001b[49m\u001b[43mphi\u001b[49m\u001b[43m)\u001b[49m\u001b[38;5;241;43m*\u001b[39;49m\u001b[43mcos\u001b[49m\u001b[43m(\u001b[49m\u001b[43mtheta\u001b[49m\u001b[43m)\u001b[49m\u001b[43m)\u001b[49m\u001b[43m]\u001b[49m\u001b[43m \u001b[49m\u001b[43m]\u001b[49m\u001b[43m)\u001b[49m, p_point, axes \u001b[38;5;241m=\u001b[39m \u001b[38;5;241m1\u001b[39m)\n\u001b[1;32m     21\u001b[0m \u001b[38;5;66;03m# (deriv of R() wrt theta).dot(p_point)\u001b[39;00m\n\u001b[1;32m     22\u001b[0m Jy \u001b[38;5;241m=\u001b[39m tf\u001b[38;5;241m.\u001b[39mtensordot(tf\u001b[38;5;241m.\u001b[39mVariable([[(\u001b[38;5;241m-\u001b[39msin(theta)\u001b[38;5;241m*\u001b[39mcos(psi)), (cos(theta)\u001b[38;5;241m*\u001b[39msin(phi)\u001b[38;5;241m*\u001b[39mcos(psi)), (\u001b[38;5;241m-\u001b[39mcos(theta)\u001b[38;5;241m*\u001b[39mcos(phi)\u001b[38;5;241m*\u001b[39mcos(psi))],\n\u001b[1;32m     23\u001b[0m                                [(sin(psi)\u001b[38;5;241m*\u001b[39msin(theta)), (\u001b[38;5;241m-\u001b[39mcos(theta)\u001b[38;5;241m*\u001b[39msin(phi)\u001b[38;5;241m*\u001b[39msin(psi)), (cos(theta)\u001b[38;5;241m*\u001b[39msin(psi)\u001b[38;5;241m*\u001b[39mcos(phi))],\n\u001b[1;32m     24\u001b[0m                                [(cos(theta)), (sin(phi)\u001b[38;5;241m*\u001b[39msin(theta)), (\u001b[38;5;241m-\u001b[39msin(theta)\u001b[38;5;241m*\u001b[39mcos(phi))] ]), p_point, axes \u001b[38;5;241m=\u001b[39m \u001b[38;5;241m1\u001b[39m)\n",
      "File \u001b[0;32m~/anaconda3/envs/py39/lib/python3.9/site-packages/tensorflow/python/util/traceback_utils.py:153\u001b[0m, in \u001b[0;36mfilter_traceback.<locals>.error_handler\u001b[0;34m(*args, **kwargs)\u001b[0m\n\u001b[1;32m    151\u001b[0m \u001b[38;5;28;01mexcept\u001b[39;00m \u001b[38;5;167;01mException\u001b[39;00m \u001b[38;5;28;01mas\u001b[39;00m e:\n\u001b[1;32m    152\u001b[0m   filtered_tb \u001b[38;5;241m=\u001b[39m _process_traceback_frames(e\u001b[38;5;241m.\u001b[39m__traceback__)\n\u001b[0;32m--> 153\u001b[0m   \u001b[38;5;28;01mraise\u001b[39;00m e\u001b[38;5;241m.\u001b[39mwith_traceback(filtered_tb) \u001b[38;5;28;01mfrom\u001b[39;00m \u001b[38;5;28mNone\u001b[39m\n\u001b[1;32m    154\u001b[0m \u001b[38;5;28;01mfinally\u001b[39;00m:\n\u001b[1;32m    155\u001b[0m   \u001b[38;5;28;01mdel\u001b[39;00m filtered_tb\n",
      "File \u001b[0;32m~/anaconda3/envs/py39/lib/python3.9/site-packages/tensorflow/python/framework/ops.py:7209\u001b[0m, in \u001b[0;36mraise_from_not_ok_status\u001b[0;34m(e, name)\u001b[0m\n\u001b[1;32m   7207\u001b[0m \u001b[38;5;28;01mdef\u001b[39;00m \u001b[38;5;21mraise_from_not_ok_status\u001b[39m(e, name):\n\u001b[1;32m   7208\u001b[0m   e\u001b[38;5;241m.\u001b[39mmessage \u001b[38;5;241m+\u001b[39m\u001b[38;5;241m=\u001b[39m (\u001b[38;5;124m\"\u001b[39m\u001b[38;5;124m name: \u001b[39m\u001b[38;5;124m\"\u001b[39m \u001b[38;5;241m+\u001b[39m name \u001b[38;5;28;01mif\u001b[39;00m name \u001b[38;5;129;01mis\u001b[39;00m \u001b[38;5;129;01mnot\u001b[39;00m \u001b[38;5;28;01mNone\u001b[39;00m \u001b[38;5;28;01melse\u001b[39;00m \u001b[38;5;124m\"\u001b[39m\u001b[38;5;124m\"\u001b[39m)\n\u001b[0;32m-> 7209\u001b[0m   \u001b[38;5;28;01mraise\u001b[39;00m core\u001b[38;5;241m.\u001b[39m_status_to_exception(e) \u001b[38;5;28;01mfrom\u001b[39;00m \u001b[38;5;28mNone\u001b[39m\n",
      "\u001b[0;31mInvalidArgumentError\u001b[0m: {{function_node __wrapped__Pack_N_3_device_/job:localhost/replica:0/task:0/device:GPU:0}} Shapes of all inputs must match: values[0].shape = [] != values[1].shape = [1] [Op:Pack] name: 0"
     ]
    }
   ],
   "source": [
    "# x = odometry_history[:10,:6] #test\n",
    "# print(x)\n",
    "\n",
    "pruint\n",
    "print(e_ij)\n",
    "\n",
    "J_ij = get_J_ij(e_ij)\n"
   ]
  },
  {
   "cell_type": "markdown",
   "id": "de72f8ff",
   "metadata": {},
   "source": [
    "### Similar to ICET, we can use Newton-Raphson to iteratively solve for small perterbations to the state vector $x$ that bring us towards a better solution\n",
    "\n",
    "\\begin{equation}\n",
    "\\Large\n",
    "x \\rightarrow x + \\Delta x\n",
    "\\end{equation}"
   ]
  },
  {
   "cell_type": "markdown",
   "id": "8a6db201",
   "metadata": {},
   "source": [
    "\\begin{equation}\n",
    "\\Large\n",
    "H \\Delta x = -b\n",
    "\\end{equation}\n",
    "\n",
    "\\begin{equation}\n",
    "\\Large\n",
    "b^T = \\sum_{ij}^{}b_{ij} = \\sum_{ij}^{}e_{ij}^T \\Omega_{ij} J_{ij}\n",
    "\\end{equation}\n",
    "\n",
    "\\begin{equation}\n",
    "\\Large\n",
    "H = \\sum_{ij}^{}H_{ij} = \\sum_{ij}^{}J_{ij}^T \\Omega J_{ij}\n",
    "\\end{equation}"
   ]
  },
  {
   "cell_type": "code",
   "execution_count": 156,
   "id": "446619c9",
   "metadata": {
    "scrolled": false
   },
   "outputs": [
    {
     "name": "stdout",
     "output_type": "stream",
     "text": [
      "[[ 2.  3.]\n",
      " [ 3.  4.]\n",
      " [ 2.  3.]\n",
      " [ 4. 11.]\n",
      " [ 3. 11.]\n",
      " [11. 14.]\n",
      " [11. 14.]\n",
      " [14. 17.]\n",
      " [14. 17.]\n",
      " [17. 20.]]\n"
     ]
    }
   ],
   "source": [
    "# Load test data\n",
    "odometry_history = np.load(\"test_data/leddartech_pixset/T_vec_history.npy\")\n",
    "cov_estimate_history = np.load(\"test_data/leddartech_pixset/cov_vec_history.npy\")\n",
    "# print(odometry_history[:10,-2:])\n",
    "# print(cov_estimate_history)"
   ]
  },
  {
   "cell_type": "markdown",
   "id": "4d0ae56a",
   "metadata": {},
   "source": [
    "# TODO\n",
    "\n",
    "Get derivitive of error function\n",
    "\n",
    "Figure out references in Jupyter Notebook\n",
    "\n",
    "\n",
    "# Questions\n",
    "\n",
    "What is the Jacobian of the error function??\n",
    "\n",
    "Are there advantages to reporting state vector in unit quaternions? Besides being less intuitive to work with I've read they can also introduce problems in optimization routine since they add an additional degree of freedom. Every guide I've seen so far uses homogenous coordinate representation for the transformation matrices when computing the loss function, since they can be applied neatly in series. So rotation matrices do not produce singularities?\n",
    "\n",
    "Is what we did in ICET to handle sparsity (i.e. accumulating contributions for corresponding elements rather than performing full matrix inversion) similar to a Choelesky Decomposition?\n",
    "\n",
    "\n",
    "# Potential Contributions\n",
    "\n",
    "Use ICET error covaraince estimation to demonstrate improvement in accuracy for Volpe Dataset \n"
   ]
  },
  {
   "cell_type": "markdown",
   "id": "b5dbea78",
   "metadata": {},
   "source": []
  },
  {
   "cell_type": "code",
   "execution_count": null,
   "id": "f0cc301d",
   "metadata": {},
   "outputs": [],
   "source": []
  },
  {
   "cell_type": "markdown",
   "id": "c413e781",
   "metadata": {},
   "source": []
  },
  {
   "cell_type": "code",
   "execution_count": null,
   "id": "e8eb367e",
   "metadata": {},
   "outputs": [],
   "source": []
  }
 ],
 "metadata": {
  "kernelspec": {
   "display_name": "Python 3 (ipykernel)",
   "language": "python",
   "name": "python3"
  },
  "language_info": {
   "codemirror_mode": {
    "name": "ipython",
    "version": 3
   },
   "file_extension": ".py",
   "mimetype": "text/x-python",
   "name": "python",
   "nbconvert_exporter": "python",
   "pygments_lexer": "ipython3",
   "version": "3.9.13"
  }
 },
 "nbformat": 4,
 "nbformat_minor": 5
}
