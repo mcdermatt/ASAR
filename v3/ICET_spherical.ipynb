{
 "cells": [
  {
   "cell_type": "markdown",
   "metadata": {},
   "source": [
    "# Spherical ICET"
   ]
  },
  {
   "cell_type": "code",
   "execution_count": 2,
   "metadata": {},
   "outputs": [
    {
     "data": {
      "application/javascript": [
       "IPython.notebook.set_autosave_interval(180000)"
      ]
     },
     "metadata": {},
     "output_type": "display_data"
    },
    {
     "name": "stdout",
     "output_type": "stream",
     "text": [
      "Autosaving every 180 seconds\n"
     ]
    }
   ],
   "source": [
    "from vedo import *\n",
    "import os\n",
    "from ipyvtklink.viewer import ViewInteractiveWidget\n",
    "import pykitti\n",
    "import numpy as np\n",
    "import tensorflow as tf\n",
    "from tensorflow.math import sin, cos, tan\n",
    "import tensorflow_probability as tfp\n",
    "\n",
    "physical_devices = tf.config.list_physical_devices('GPU') \n",
    "for device in physical_devices:\n",
    "    tf.config.experimental.set_memory_growth(device, True)\n",
    "    \n",
    "%load_ext autoreload\n",
    "%autoreload 2\n",
    "%autosave 180"
   ]
  },
  {
   "cell_type": "code",
   "execution_count": 51,
   "metadata": {},
   "outputs": [
    {
     "name": "stdout",
     "output_type": "stream",
     "text": [
      "tf.Tensor(\n",
      "[ 38.  nan  nan  25.  21.  nan  42. 103.  50.  nan  nan  nan  nan  33.\n",
      "  nan  82.  nan 113.  13.  nan   1.  nan  nan  21.  47.  78.  nan  54.\n",
      "  21.  81.  39.  49. 110.  22.  97.  nan 105.  nan  98. 109.  90.  26.\n",
      "  87.  49.  37.  95.   7.  34.  43.  64.  46.  21.  nan   4.  nan  nan\n",
      "  66. 112.  54.  30.  23.  86.  14.  96.  nan  14.  81.  nan  70.  64.\n",
      "  12.  99.  47.   1.  nan  93.  24.  85.  nan 102.  25.  nan  nan  16.\n",
      "  15. 114.   6.  nan  nan  41.  nan  62.  nan  90.   2. 103.  nan  10.\n",
      "  97.  97.  74.  85.  40.  nan  73.  73. 110.  60.  nan  17.  nan  81.\n",
      "  nan 114.   0.  90. 100.  nan  nan  nan  nan  nan  43.  74.  nan  nan\n",
      "  50.  27.  nan  66.  nan  90.  57.  18.  90. 102.  17.  nan  nan  37.\n",
      "  59. 113.  55. 114.   6.  nan 114.  57.  43.  46.  nan  73.  70.  nan\n",
      "  78.  67.  72.  31.  35.  nan  10.  23.  78.  nan  78.  32.  43.  22.\n",
      "  51.  77.  nan   4.  nan  52.  10.  85.  97.  87.  20.  nan  64.  nan\n",
      " 113.  nan  nan  30.  70.  nan 110.  nan  89.  33.  nan  nan  65.  52.\n",
      "  71.  46.  50.  17.  37.  nan  25.  nan  98.  nan  nan  nan  nan   1.\n",
      " 107.  33.  nan  nan  nan  nan  90.  44.  nan  54.  90.  74. 106.  42.\n",
      "  26. 104.  98.  62.  65.  43.  98. 113.  13.  34.  53.  nan  49.  77.\n",
      "  25.  77.  nan  32.  98.  nan  nan  nan  85.  42.  nan  86.  nan  26.\n",
      "  46.  nan  16. 112.  51.  78.  nan   6.  nan 114.  21.  75.  nan  27.\n",
      "  65.  80.  94.  81.  15.  nan  nan  28.  68.  nan   5.  60.  54.  nan\n",
      "  65.  98.  nan  nan  46.  98.  nan  nan  69.   9.  49.  34.  nan  97.\n",
      "  31. 108.  77.  34.  nan  26.  59.  nan  50.  25.  nan  nan  55.  50.\n",
      "  77.  29.  nan  51. 114.  nan  10.  nan  nan 109.  nan  85.  41.   9.\n",
      "  80.  80.   1.  98.  33.  56.  82.  17.  42.  nan  nan  25.  nan  nan\n",
      "  66.  67.  54.  nan  nan  nan  nan  84.   5.   2.  nan  nan  86.   1.\n",
      "  34.  nan  37.  nan  nan  10.  97.  41.  41.  nan  nan  nan  28.  nan\n",
      "   3.  18.  98.  54.  60.  10.  27.  nan 114.  75.  35. 109.  74.  nan\n",
      "  nan  37.  89.  82.  nan  nan  85. 114.  nan  81.  nan  79.  89.  89.\n",
      "  nan  79.  66.  29.  15.  66.   1.  91.  89.   6.  13.  26.  44. 100.\n",
      "  57. 108.  70.  50.  77.  65.  nan  nan  82.  55.  82.  nan  69.  49.\n",
      "  14.  86.  29.   9.  86.  32.  nan  nan  18.  nan  nan  58.  23.  33.\n",
      "  69.  70.  70.  79. 110.  29. 105. 107.  nan  47.  nan 112.  84.  16.\n",
      "  97.  nan  86.  61.  nan  13.  12.  nan  63.  nan  97.   2.  30.  34.\n",
      "  70. 101.  81.  nan  58.  29.  17.  82.  63.  25.  83. 113.  69.  14.\n",
      "  74. 103.  61.  nan  89.  34.  73.  25.  78.  96.  17.  71.  nan  74.\n",
      " 105.  nan  50.  59.  12.  93.  18.  83. 115.  76.  nan  11.  69.  nan\n",
      "  83.   2.   3. 108. 114.  37.  nan  51.  55.  51. 104.  nan  nan  35.\n",
      "  29.  35.  56.  nan 114.  nan  58.  75.  29.  98.  64.  nan  nan  nan\n",
      "  nan 105.  68.  91.  nan  29. 103.  nan  68.  48.  nan  76.  67.  nan\n",
      " 101.  28.  99.   0.  96.  93.  17. 111.  82.  22.  49. 105.  nan  22.\n",
      "  66.  77.  nan  nan  46.  30.  nan  98.  16.  nan  45. 108.  80.  86.\n",
      " 114.  12.  nan  nan  nan   9.  nan  nan   9.  77.  nan   9. 113.  23.\n",
      "  46.  nan  nan  47. 107.  nan  81. 109.  32. 111.  93.  29.  61.  40.\n",
      "  nan  42.  nan  43.  nan  53.  13.  43.  nan  38.  nan  38.  12.  50.\n",
      "  nan  nan  nan  25.  90.   3.  38.  97.  nan  32.  89.  31.  26.  99.\n",
      "   5. 113.  70.  nan  49.  35.  70.  62.  88.  90.  68.  nan  64.  22.\n",
      "  81. 111.  47.  32.  25.  nan  nan  34.  40.  nan  34. 101.  18.  85.\n",
      "   2.  44.   1.  76.  72.  nan  65.  nan  77.  nan  30.  85.  77.  22.\n",
      "  nan  57.  11. 114.  48.   3.  78.  69.  49.  48.  nan  83.  nan  17.\n",
      "  34.  23.  33.  96. 112.  96.  76.  88.   2. 105.  87.  57. 115.   9.\n",
      "   2.  49.  86.  41.  47.  nan  62.  27.  22. 113.  93.  60.   9.  67.\n",
      " 111.  57.  nan  70.  73.  nan   0.  73.   9.  33.  34. 109.   1.  58.\n",
      "  25.  34.  79.  80.  nan  nan 107.  nan  nan  14.   9.  74.   2.  15.\n",
      "  nan  nan   1.  nan  nan  73.  29.  nan  nan  nan  87.  96.  76.  41.\n",
      "  30.  53.  97.  23. 113.  25.  nan  nan  nan  nan  21.  nan  nan  nan\n",
      " 112.  69.  nan  96.  nan 112.  34. 109.  10. 105.  53.  nan  50.  90.\n",
      "  nan  56.  71.  61.  17.  86.  42.  43.  74.  40.  47.  94.  98.   5.\n",
      "  65. 101.  87.  nan  11.  13.  65. 103.  99.  25.  nan  nan  85.  21.\n",
      "  69.  97.  nan 106.   5.  90.  nan  71.  75.  96.  10.  70.  nan  nan\n",
      "   6.  74.  nan  23.  nan  nan   2.  26.  nan   4.  64.  73.  25.  17.\n",
      "  20.  nan  82.  79.  98.  34. 103.  40.   9.  nan  nan  92.  88.  nan\n",
      "  nan  98.  nan  68.  nan  88.  18.  74.  88.  86.  14.  nan  71.  24.\n",
      "  71.  76.  31.  63.  nan  38.  85. 114.  nan  60.  nan 100.   5.  50.\n",
      "  nan  39.  nan 114.  54.  nan 106.  27.  16. 109.  97.  nan  58. 113.\n",
      "  86.  18.  nan   5.   9.  88.  20.  89.  26.  25.  69.  nan  51.  46.\n",
      "  17. 105.  nan  34.   0.  29.   1.  nan 110.  15.   9.  nan  71.  45.\n",
      "  nan   8.  64.  23.  55.  40. 106.  72.  22.  46.  17.  81.  nan   9.\n",
      "  41.  25.  65.  nan  nan  94. 100.  40.  37.  74.  77.  nan  nan  50.\n",
      "   8.  nan  nan  34. 109.  65.  29.  17.  nan  nan  70.  nan  94.  61.\n",
      "  nan  70.  28.   4.  nan  71.  nan  nan  nan  nan  nan  nan 101.  nan\n",
      "  29. 110.  86. 111. 110.  41.  nan  nan  70.  81.  nan  nan  nan  nan\n",
      " 108. 112.  nan  nan  nan 111.], shape=(1000,), dtype=float32)\n"
     ]
    },
    {
     "data": {
      "application/vnd.jupyter.widget-view+json": {
       "model_id": "c7e33717ebf24a32afd960eb51778ce8",
       "version_major": 2,
       "version_minor": 0
      },
      "text/plain": [
       "ViewInteractiveWidget(height=960, layout=Layout(height='auto', width='100%'), width=960)"
      ]
     },
     "metadata": {},
     "output_type": "display_data"
    }
   ],
   "source": [
    "from ICET_spherical import ICET\n",
    "\n",
    "# ## init KITTI dataset -----------------------------------------------------------------\n",
    "# basedir = 'C:/kitti/'\n",
    "# date = '2011_09_26'\n",
    "# drive = '0005'\n",
    "# frame_range = range(150, 151, 1)\n",
    "# dataset = pykitti.raw(basedir, date, drive)\n",
    "# velo1 = dataset.get_velo(0) # Each scan is a Nx4 array of [x,y,z,reflectance]\n",
    "# c1 = velo1[:,:3]\n",
    "# c1 = c1[c1[:,2] > -1.5] #ignore ground plane\n",
    "# ## ------------------------------------------------------------------------------------\n",
    "\n",
    "c1 = np.random.randn(1000,3)*tf.constant([3.,3.,1.])\n",
    "\n",
    "it = ICET(cloud1 = c1, fid = 30)\n",
    "ViewInteractiveWidget(it.plt.window)\n"
   ]
  },
  {
   "cell_type": "code",
   "execution_count": 208,
   "metadata": {},
   "outputs": [
    {
     "name": "stdout",
     "output_type": "stream",
     "text": [
      "tf.Tensor(\n",
      "[[False False False False  True False  True False False  True]\n",
      " [False False False False False False False False False False]], shape=(2, 10), dtype=bool)\n"
     ]
    }
   ],
   "source": [
    "#test where points are inside spherical cell...\n",
    "# print(it.cloud1_tensor_spherical)\n",
    "maxtheta = tf.constant([[0.2],[0.7]])\n",
    "maxr = tf.constant([[0.5],[2.]])\n",
    "\n",
    "ans1 = tf.greater(it.cloud1_tensor_spherical[:,1], maxtheta)\n",
    "# print(ans1)\n",
    "ans2 = tf.less(it.cloud1_tensor_spherical[:,0], maxr)\n",
    "# print(ans2)\n",
    "combined = tf.Variable([ans1, ans2])\n",
    "# print(combined)\n",
    "ans3 = tf.math.reduce_all(combined, axis = 1)\n",
    "\n",
    "print(ans3)"
   ]
  },
  {
   "cell_type": "code",
   "execution_count": null,
   "metadata": {},
   "outputs": [],
   "source": []
  }
 ],
 "metadata": {
  "kernelspec": {
   "display_name": "Python 3",
   "language": "python",
   "name": "python3"
  },
  "language_info": {
   "codemirror_mode": {
    "name": "ipython",
    "version": 3
   },
   "file_extension": ".py",
   "mimetype": "text/x-python",
   "name": "python",
   "nbconvert_exporter": "python",
   "pygments_lexer": "ipython3",
   "version": "3.7.6"
  }
 },
 "nbformat": 4,
 "nbformat_minor": 4
}
