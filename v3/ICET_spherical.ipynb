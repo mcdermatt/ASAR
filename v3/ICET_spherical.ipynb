{
 "cells": [
  {
   "cell_type": "markdown",
   "metadata": {},
   "source": [
    "# Spherical ICET"
   ]
  },
  {
   "cell_type": "code",
   "execution_count": 1,
   "metadata": {},
   "outputs": [
    {
     "data": {
      "application/javascript": [
       "IPython.notebook.set_autosave_interval(180000)"
      ]
     },
     "metadata": {},
     "output_type": "display_data"
    },
    {
     "name": "stdout",
     "output_type": "stream",
     "text": [
      "Autosaving every 180 seconds\n"
     ]
    }
   ],
   "source": [
    "from vedo import *\n",
    "import os\n",
    "from ipyvtklink.viewer import ViewInteractiveWidget\n",
    "import pykitti\n",
    "import numpy as np\n",
    "import tensorflow as tf\n",
    "from tensorflow.math import sin, cos, tan\n",
    "import tensorflow_probability as tfp\n",
    "\n",
    "physical_devices = tf.config.list_physical_devices('GPU') \n",
    "for device in physical_devices:\n",
    "    tf.config.experimental.set_memory_growth(device, True)\n",
    "    \n",
    "%load_ext autoreload\n",
    "%autoreload 2\n",
    "%autosave 180"
   ]
  },
  {
   "cell_type": "code",
   "execution_count": 101,
   "metadata": {
    "scrolled": false
   },
   "outputs": [
    {
     "name": "stdout",
     "output_type": "stream",
     "text": [
      "enough1 tf.Tensor([0 1 2 3 4 5 7 8 9], shape=(9,), dtype=int64)\n",
      "tf.Tensor([954 961 970 962 968 955 969 963 956], shape=(9,), dtype=int32)\n",
      "enough2 tf.Tensor([2 3 4 5 7 8], shape=(6,), dtype=int64)\n",
      "tf.Tensor([970 962 968 955 969 963], shape=(6,), dtype=int32)\n",
      "corr indices tf.Tensor([2 3 4 5 7 8], shape=(6,), dtype=int64)\n"
     ]
    },
    {
     "data": {
      "application/vnd.jupyter.widget-view+json": {
       "model_id": "fcbb507ca3164daca97e0aba88bfafc1",
       "version_major": 2,
       "version_minor": 0
      },
      "text/plain": [
       "ViewInteractiveWidget(height=749, layout=Layout(height='auto', width='100%'), width=960)"
      ]
     },
     "metadata": {},
     "output_type": "display_data"
    }
   ],
   "source": [
    "from ICET_spherical import ICET\n",
    "\n",
    "# ## init KITTI dataset -----------------------------------------------------------------\n",
    "# basedir = 'C:/kitti/'\n",
    "# date = '2011_09_26'\n",
    "# drive = '0005'\n",
    "# frame_range = range(150, 151, 1)\n",
    "# dataset = pykitti.raw(basedir, date, drive)\n",
    "# velo1 = dataset.get_velo(0) # Each scan is a Nx4 array of [x,y,z,reflectance]\n",
    "# c1 = velo1[:,:3]\n",
    "# c1 = c1[c1[:,2] > -1.5] #ignore ground plane\n",
    "# ## ------------------------------------------------------------------------------------\n",
    "\n",
    "# c1 = np.random.randn(100,3)*tf.constant([3.,3.,1.])\n",
    "# c1 = np.random.randn(2,3)*tf.constant([3.,3.,0.5])\n",
    "\n",
    "#single distinct cluster\n",
    "c1 = np.random.randn(1000,3)*tf.constant([0.3,0.06,0.3]) + tf.constant([0.,4.,0.])\n",
    "c2 = c1*np.array([1.05, 1.0, 1.0]) - np.array([0.1, 0.3, 0.0])\n",
    "# c2 = c1*np.array([1.05, 1.0, 1.0]) - np.array([2.1, 0.3, 0.0])\n",
    "\n",
    "it = ICET(cloud1 = c1, cloud2 = c2,  fid = 50)\n",
    "ViewInteractiveWidget(it.plt.window)\n"
   ]
  },
  {
   "cell_type": "code",
   "execution_count": null,
   "metadata": {},
   "outputs": [],
   "source": [
    "#test where points are inside spherical cell...\n",
    "# print(it.cloud1_tensor_spherical)\n",
    "maxtheta = tf.constant([[0.2],[0.7]])\n",
    "maxr = tf.constant([[0.5],[2.]])\n",
    "\n",
    "ans1 = tf.greater(it.cloud1_tensor_spherical[:,1], maxtheta)\n",
    "# print(ans1)\n",
    "ans2 = tf.less(it.cloud1_tensor_spherical[:,0], maxr)\n",
    "# print(ans2)\n",
    "combined = tf.Variable([ans1, ans2])\n",
    "# print(combined)\n",
    "ans3 = tf.math.reduce_all(combined, axis = 1)\n",
    "\n",
    "print(ans3)"
   ]
  },
  {
   "cell_type": "code",
   "execution_count": 11,
   "metadata": {},
   "outputs": [
    {
     "ename": "AttributeError",
     "evalue": "module 'vedo.plotter' has no attribute 'hoverLegends'",
     "output_type": "error",
     "traceback": [
      "\u001b[1;31m---------------------------------------------------------------------------\u001b[0m",
      "\u001b[1;31mAttributeError\u001b[0m                            Traceback (most recent call last)",
      "\u001b[1;32m~\\AppData\\Local\\Temp/ipykernel_12604/2054440508.py\u001b[0m in \u001b[0;36m<module>\u001b[1;34m\u001b[0m\n\u001b[0;32m      1\u001b[0m \u001b[1;32mimport\u001b[0m \u001b[0mvedo\u001b[0m\u001b[1;33m\u001b[0m\u001b[1;33m\u001b[0m\u001b[0m\n\u001b[1;32m----> 2\u001b[1;33m \u001b[0mprint\u001b[0m\u001b[1;33m(\u001b[0m\u001b[0mvedo\u001b[0m\u001b[1;33m.\u001b[0m\u001b[0mplotter\u001b[0m\u001b[1;33m.\u001b[0m\u001b[0mhoverLegends\u001b[0m\u001b[1;33m)\u001b[0m\u001b[1;33m\u001b[0m\u001b[1;33m\u001b[0m\u001b[0m\n\u001b[0m",
      "\u001b[1;31mAttributeError\u001b[0m: module 'vedo.plotter' has no attribute 'hoverLegends'"
     ]
    }
   ],
   "source": [
    "import vedo\n",
    "print(vedo.plotter.hoverLegends)"
   ]
  }
 ],
 "metadata": {
  "kernelspec": {
   "display_name": "Python 3 (ipykernel)",
   "language": "python",
   "name": "python3"
  },
  "language_info": {
   "codemirror_mode": {
    "name": "ipython",
    "version": 3
   },
   "file_extension": ".py",
   "mimetype": "text/x-python",
   "name": "python",
   "nbconvert_exporter": "python",
   "pygments_lexer": "ipython3",
   "version": "3.8.12"
  }
 },
 "nbformat": 4,
 "nbformat_minor": 4
}
