{
 "cells": [
  {
   "cell_type": "markdown",
   "metadata": {},
   "source": [
    "# Spherical ICET"
   ]
  },
  {
   "cell_type": "code",
   "execution_count": 2,
   "metadata": {},
   "outputs": [
    {
     "name": "stdout",
     "output_type": "stream",
     "text": [
      "The autoreload extension is already loaded. To reload it, use:\n",
      "  %reload_ext autoreload\n"
     ]
    },
    {
     "data": {
      "application/javascript": [
       "IPython.notebook.set_autosave_interval(180000)"
      ]
     },
     "metadata": {},
     "output_type": "display_data"
    },
    {
     "name": "stdout",
     "output_type": "stream",
     "text": [
      "Autosaving every 180 seconds\n"
     ]
    }
   ],
   "source": [
    "from vedo import *\n",
    "import os\n",
    "from ipyvtklink.viewer import ViewInteractiveWidget\n",
    "import pykitti\n",
    "import numpy as np\n",
    "import tensorflow as tf\n",
    "from tensorflow.math import sin, cos, tan\n",
    "import tensorflow_probability as tfp\n",
    "\n",
    "physical_devices = tf.config.list_physical_devices('GPU') \n",
    "for device in physical_devices:\n",
    "    tf.config.experimental.set_memory_growth(device, True)\n",
    "    \n",
    "%load_ext autoreload\n",
    "%autoreload 2\n",
    "%autosave 180"
   ]
  },
  {
   "cell_type": "code",
   "execution_count": 166,
   "metadata": {
    "scrolled": false
   },
   "outputs": [
    {
     "name": "stdout",
     "output_type": "stream",
     "text": [
      "estimated solution vector X: \n",
      " tf.Tensor([0.1 0.3 0.  0.  0.  0. ], shape=(6,), dtype=float32)\n",
      "stds: \n",
      " tf.Tensor([0.10662948 0.00106549 0.0255875  0.0044843  0.07631556 0.00601539], shape=(6,), dtype=float32)\n",
      "estimated solution vector X: \n",
      " tf.Tensor([ 0.09088177  0.30101523  0.03226731 -0.00501806  0.03149422 -0.00282478], shape=(6,), dtype=float32)\n",
      "stds: \n",
      " tf.Tensor([0.10630993 0.00106438 0.02635844 0.00441634 0.07889022 0.00594828], shape=(6,), dtype=float32)\n",
      "estimated solution vector X: \n",
      " tf.Tensor([ 0.08381683  0.30096936  0.0422958  -0.00399998  0.06346144 -0.00371498], shape=(6,), dtype=float32)\n",
      "stds: \n",
      " tf.Tensor([0.10630614 0.00106955 0.02779579 0.00437668 0.08102326 0.00592286], shape=(6,), dtype=float32)\n",
      "estimated solution vector X: \n",
      " tf.Tensor([ 0.07113962  0.3009315   0.04950405 -0.00343051  0.1196395  -0.00376625], shape=(6,), dtype=float32)\n",
      "stds: \n",
      " tf.Tensor([0.10515884 0.00107619 0.02715474 0.00432565 0.07737441 0.00594224], shape=(6,), dtype=float32)\n",
      "estimated solution vector X: \n",
      " tf.Tensor([ 0.07112513  0.30086517  0.06155644 -0.00327357  0.10061166 -0.00211483], shape=(6,), dtype=float32)\n",
      "stds: \n",
      " tf.Tensor([0.11318387 0.0011689  0.06639217 0.00434308 0.12622176 0.00622232], shape=(6,), dtype=float32)\n",
      "\n",
      " L2 \n",
      " tf.Tensor(\n",
      "[[0. 0. 1. 0. 0. 0.]\n",
      " [0. 0. 0. 1. 0. 0.]\n",
      " [0. 0. 0. 0. 1. 0.]\n",
      " [0. 0. 0. 0. 0. 1.]], shape=(4, 6), dtype=float32)\n",
      "\n",
      " lam \n",
      " tf.Tensor(\n",
      "[[5.3267868e+01 0.0000000e+00 0.0000000e+00 0.0000000e+00 0.0000000e+00\n",
      "  0.0000000e+00]\n",
      " [0.0000000e+00 8.0493385e+01 0.0000000e+00 0.0000000e+00 0.0000000e+00\n",
      "  0.0000000e+00]\n",
      " [0.0000000e+00 0.0000000e+00 5.0403653e+02 0.0000000e+00 0.0000000e+00\n",
      "  0.0000000e+00]\n",
      " [0.0000000e+00 0.0000000e+00 0.0000000e+00 5.7060297e+04 0.0000000e+00\n",
      "  0.0000000e+00]\n",
      " [0.0000000e+00 0.0000000e+00 0.0000000e+00 0.0000000e+00 9.9029352e+04\n",
      "  0.0000000e+00]\n",
      " [0.0000000e+00 0.0000000e+00 0.0000000e+00 0.0000000e+00 0.0000000e+00\n",
      "  9.0255619e+05]], shape=(6, 6), dtype=float32)\n",
      "\n",
      " U2 \n",
      " tf.Tensor(\n",
      "[[ 2.8961521e-01  9.5006859e-01 -1.0571338e-01  1.3468671e-02\n",
      "  -4.6184316e-02  5.4477429e-04]\n",
      " [-2.7168330e-03  7.4827898e-04 -7.2825598e-03 -1.3448279e-02\n",
      "   2.2894399e-02  9.9961698e-01]\n",
      " [ 3.8001809e-01 -1.1841152e-02  9.2430389e-01  1.5646337e-02\n",
      "   2.8445566e-02  7.3346146e-03]\n",
      " [ 2.0710609e-03  1.1274398e-02 -3.1927742e-02  8.2814366e-01\n",
      "   5.5948550e-01 -1.9081077e-03]\n",
      " [ 8.7845820e-01 -3.0828425e-01 -3.6489162e-01 -1.1315593e-02\n",
      "  -1.1138193e-03 -1.6678151e-04]\n",
      " [ 2.9607897e-03  4.5415077e-02 -1.6390894e-02 -5.5985993e-01\n",
      "   8.2674569e-01 -2.6612615e-02]], shape=(6, 6), dtype=float32)\n"
     ]
    },
    {
     "data": {
      "application/vnd.jupyter.widget-view+json": {
       "model_id": "08d5db8e1ecb4931bab12a5bbc1201fc",
       "version_major": 2,
       "version_minor": 0
      },
      "text/plain": [
       "ViewInteractiveWidget(height=960, layout=Layout(height='auto', width='100%'), width=960)"
      ]
     },
     "metadata": {},
     "output_type": "display_data"
    }
   ],
   "source": [
    "from ICET_spherical import ICET\n",
    "\n",
    "## init KITTI dataset -----------------------------------------------------------------\n",
    "basedir = 'C:/kitti/'\n",
    "date = '2011_09_26'\n",
    "drive = '0005'\n",
    "frame_range = range(150, 151, 1)\n",
    "dataset = pykitti.raw(basedir, date, drive)\n",
    "velo1 = dataset.get_velo(0) # Each scan is a Nx4 array of [x,y,z,reflectance]\n",
    "c1 = velo1[:,:3]\n",
    "c1 = c1[c1[:,2] > -1.5] #ignore ground plane\n",
    "## ------------------------------------------------------------------------------------\n",
    "\n",
    "#single distinct cluster\n",
    "c1 = np.random.randn(3000,3)*tf.constant([0.3,0.04,0.3]) + tf.constant([0.,4.,0.])\n",
    "c2 = np.random.randn(3000,3)*tf.constant([0.3,0.04,0.3]) + tf.constant([0.,4.,0.]) - np.array([0.1, 0.3, 0.0])\n",
    "# c2 = c1 - np.array([0.1, 0.3, 0.0])\n",
    "\n",
    "it = ICET(cloud1 = c1, cloud2 = c2,  fid = 50, draw = True)\n",
    "ViewInteractiveWidget(it.plt.window)\n"
   ]
  },
  {
   "cell_type": "code",
   "execution_count": null,
   "metadata": {},
   "outputs": [],
   "source": [
    "#test where points are inside spherical cell...\n",
    "# print(it.cloud1_tensor_spherical)\n",
    "maxtheta = tf.constant([[0.2],[0.7]])\n",
    "maxr = tf.constant([[0.5],[2.]])\n",
    "\n",
    "ans1 = tf.greater(it.cloud1_tensor_spherical[:,1], maxtheta)\n",
    "# print(ans1)\n",
    "ans2 = tf.less(it.cloud1_tensor_spherical[:,0], maxr)\n",
    "# print(ans2)\n",
    "combined = tf.Variable([ans1, ans2])\n",
    "# print(combined)\n",
    "ans3 = tf.math.reduce_all(combined, axis = 1)\n",
    "\n",
    "print(ans3)"
   ]
  },
  {
   "cell_type": "code",
   "execution_count": 42,
   "metadata": {},
   "outputs": [
    {
     "name": "stdout",
     "output_type": "stream",
     "text": [
      "tf.Tensor(\n",
      "[[0.]\n",
      " [1.]\n",
      " [2.]\n",
      " [3.]\n",
      " [4.]\n",
      " [5.]], shape=(6, 1), dtype=float64)\n",
      "tf.Tensor(\n",
      "[[0.]\n",
      " [0.]\n",
      " [0.]\n",
      " [1.]\n",
      " [1.]\n",
      " [1.]\n",
      " [2.]\n",
      " [2.]\n",
      " [2.]\n",
      " [3.]\n",
      " [3.]\n",
      " [3.]\n",
      " [4.]\n",
      " [4.]\n",
      " [4.]\n",
      " [5.]\n",
      " [5.]\n",
      " [5.]], shape=(18, 1), dtype=float64)\n",
      "tf.Tensor(\n",
      "[[0. 0. 0.]\n",
      " [1. 1. 1.]\n",
      " [2. 2. 2.]\n",
      " [3. 3. 3.]\n",
      " [4. 4. 4.]\n",
      " [5. 5. 5.]], shape=(6, 3), dtype=float64)\n"
     ]
    }
   ],
   "source": [
    "#duplicate each element of an n*1 vector 3 times\n",
    "t = tf.linspace(0,5,6)[:,None]\n",
    "print(t)\n",
    "\n",
    "test  = tf.tile(t, [3,1])\n",
    "# print(test)\n",
    "test2 = tf.reshape(tf.transpose(tf.reshape(test, [3,-1])), [-1,1])\n",
    "print(test2)\n",
    "test3 = tf.reshape(tf.transpose(tf.reshape(test, [3,-1])), [-1,3])\n",
    "print(test3)"
   ]
  }
 ],
 "metadata": {
  "kernelspec": {
   "display_name": "Python 3",
   "language": "python",
   "name": "python3"
  },
  "language_info": {
   "codemirror_mode": {
    "name": "ipython",
    "version": 3
   },
   "file_extension": ".py",
   "mimetype": "text/x-python",
   "name": "python",
   "nbconvert_exporter": "python",
   "pygments_lexer": "ipython3",
   "version": "3.7.6"
  }
 },
 "nbformat": 4,
 "nbformat_minor": 4
}
