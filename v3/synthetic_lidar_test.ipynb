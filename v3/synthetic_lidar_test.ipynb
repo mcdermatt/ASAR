{
 "cells": [
  {
   "cell_type": "code",
   "execution_count": 1,
   "metadata": {},
   "outputs": [],
   "source": [
    "from vedo import *\n",
    "import os\n",
    "from ipyvtklink.viewer import ViewInteractiveWidget\n",
    "import pykitti\n",
    "import numpy as np\n",
    "import tensorflow as tf\n",
    "from tensorflow.math import sin, cos, tan\n",
    "import tensorflow_probability as tfp\n",
    "import pickle\n"
   ]
  },
  {
   "cell_type": "code",
   "execution_count": 63,
   "metadata": {},
   "outputs": [
    {
     "name": "stdout",
     "output_type": "stream",
     "text": [
      "[[ 9.99723826e-01  1.41205925e-05  2.35004678e-02  2.34897002e-02]\n",
      " [ 4.53335213e-06  9.99999685e-01 -7.93715611e-04 -1.39734900e-03]\n",
      " [-2.35004716e-02  7.93602944e-04  9.99723511e-01 -1.18903333e-01]\n",
      " [-4.85722573e-17  4.16333634e-17  2.77555756e-17  1.00000000e+00]]\n",
      "[-0.00013423 -0.00047382  0.04371029]\n",
      "[-0.00013244 -0.00048092  0.04543356]\n",
      "[-0.00011485 -0.00048143  0.04816017]\n"
     ]
    }
   ],
   "source": [
    "#aiodrive - CMU RI\n",
    "import pandas as pd\n",
    "# test = pd.read_pickle(r'C:/aiodrive/control/000000.pkl')\n",
    "# print(test[0])\n",
    "# print(len(test))\n",
    "test = pd.read_pickle(r'C:/aiodrive/velocorr/000000.pkl')\n",
    "print(test[0])\n",
    "# print(test[10])\n",
    "# dat = open(r'C:/aiodrive/lidar_velodyne/000001.bin').read_bytes()\n",
    "# print(dat)\n",
    "gps_i = np.loadtxt('C:/aiodrive/gps/000000.txt')\n",
    "print(gps_i)\n",
    "gps_i = np.loadtxt('C:/aiodrive/gps/000001.txt')\n",
    "print(gps_i)\n",
    "gps_i = np.loadtxt('C:/aiodrive/gps/000002.txt')\n",
    "print(gps_i)"
   ]
  },
  {
   "cell_type": "code",
   "execution_count": 81,
   "metadata": {},
   "outputs": [
    {
     "name": "stdout",
     "output_type": "stream",
     "text": [
      "(97819,)\n"
     ]
    }
   ],
   "source": [
    "#SynLiDAR\n",
    "import glob\n",
    "\n",
    "def read_points(path):\n",
    "    scan = np.fromfile(path, dtype=np.float32)\n",
    "    scan = scan.reshape((-1, 4))  # [x,y,z,intensity]\n",
    "    return scan\n",
    "\n",
    "def read_label(path):\n",
    "    label = np.fromfile(path, dtype=np.uint32)\n",
    "    label = label.reshape((-1))\n",
    "    return label\n",
    "\n",
    "f_path = \"C:/SynLiDAR/01/velodyne/000007.bin\"\n",
    "\n",
    "scan = read_points(f_path)\n",
    "# print(np.shape(scan))\n",
    "\n",
    "label_path = f_path.replace('velodyne', 'labels').replace('bin', 'label')\n",
    "labels = read_label(label_path)\n",
    "\n",
    "assert scan.shape[0] == labels.shape[0]\n",
    "\n",
    "print(labels)\n"
   ]
  },
  {
   "cell_type": "code",
   "execution_count": 106,
   "metadata": {},
   "outputs": [
    {
     "name": "stdout",
     "output_type": "stream",
     "text": [
      "[2.1274672e+02 1.9914983e+02 2.3481555e+00 4.6902906e-02 4.4329758e-03\n",
      " 1.2788726e-06]\n",
      "[2.1306000e+02 1.9914983e+02 2.3484421e+00 7.9844911e-03 4.4327090e-03\n",
      " 1.6378874e-06]\n"
     ]
    }
   ],
   "source": [
    "#CODD\n",
    "import h5py\n",
    "\n",
    "filename = 'C:/CODD/data/m1v7p7s769.hdf5'\n",
    "vidx = 0\n",
    "\n",
    "with h5py.File(filename, 'r') as hf:\n",
    "#     pcls = hf['point_cloud'][:]\n",
    "    #[frames, vehicles, points_per_cloud, 4]\n",
    "    pcls = hf['point_cloud'][:, vidx ,: , :3]\n",
    "    #[frames, points_per_cloud, rgb]\n",
    "    \n",
    "#     pose = hf['lidar_pose'][:]\n",
    "    #[frames, vehicles, (x,y,z, rotx, roty, rotz)]\n",
    "    pose = hf['lidar_pose'][:, vidx, :]\n",
    "    \n",
    "# print(np.shape(pcls))\n",
    "# print(np.shape(pose))\n",
    "\n"
   ]
  },
  {
   "cell_type": "code",
   "execution_count": null,
   "metadata": {},
   "outputs": [],
   "source": []
  }
 ],
 "metadata": {
  "kernelspec": {
   "display_name": "Python 3",
   "language": "python",
   "name": "python3"
  },
  "language_info": {
   "codemirror_mode": {
    "name": "ipython",
    "version": 3
   },
   "file_extension": ".py",
   "mimetype": "text/x-python",
   "name": "python",
   "nbconvert_exporter": "python",
   "pygments_lexer": "ipython3",
   "version": "3.7.6"
  }
 },
 "nbformat": 4,
 "nbformat_minor": 4
}
