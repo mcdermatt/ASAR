{
 "cells": [
  {
   "cell_type": "code",
   "execution_count": 1,
   "id": "existing-private",
   "metadata": {},
   "outputs": [
    {
     "name": "stderr",
     "output_type": "stream",
     "text": [
      "C:\\Users\\Derm\\anaconda3\\envs\\tf23\\lib\\site-packages\\numpy\\_distributor_init.py:32: UserWarning: loaded more than 1 DLL from .libs:\n",
      "C:\\Users\\Derm\\anaconda3\\envs\\tf23\\lib\\site-packages\\numpy\\.libs\\libopenblas.PYQHXLVVQ7VESDPUVUADXEVJOBGHJPAY.gfortran-win_amd64.dll\n",
      "C:\\Users\\Derm\\anaconda3\\envs\\tf23\\lib\\site-packages\\numpy\\.libs\\libopenblas.XWYDX2IKJW2NMTWSFYNGFUWKQU3LYTCZ.gfortran-win_amd64.dll\n",
      "  stacklevel=1)\n"
     ]
    }
   ],
   "source": [
    "import numpy as np\n",
    "from matplotlib import pyplot as plt"
   ]
  },
  {
   "cell_type": "code",
   "execution_count": 53,
   "id": "statutory-gabriel",
   "metadata": {},
   "outputs": [
    {
     "name": "stdout",
     "output_type": "stream",
     "text": [
      "[0.00183839 0.00020515 0.00012555]\n",
      "[0.0020247  0.00176425 0.00110244]\n"
     ]
    }
   ],
   "source": [
    "# Ground truth = [0.5, 0., 0., 0.0, 0.0, 0.01]\n",
    "fn1 = \"MC_results/s1_spherical_ICET_estimates.npy\" \n",
    "fn2 = \"MC_results/s1_spherical_ICET_pred_stds.npy\"\n",
    "\n",
    "# fn1 = \"MC_results/s2_spherical_ICET_estimates_no_trees_with_rotation.npy\" \n",
    "# fn2 = \"MC_results/s2_spherical_ICET_pred_stds_no_trees_with_rotation.npy\"\n",
    "\n",
    "est = np.load(fn1)\n",
    "pred_stds = np.load(fn2)\n",
    "\n",
    "print(np.mean(pred_stds, axis = 0)[:3])\n",
    "print(np.rad2deg(np.mean(pred_stds, axis = 0)[3:]))\n",
    "\n",
    "# print(np.std(pred_stds, axis = 0)) #shows consistant prediction for soln std for constant scene"
   ]
  },
  {
   "cell_type": "code",
   "execution_count": 54,
   "id": "returning-offset",
   "metadata": {},
   "outputs": [
    {
     "name": "stdout",
     "output_type": "stream",
     "text": [
      "[-4.98799649e-01  8.10841116e-05 -1.04727248e-04 -1.59457305e-06\n",
      "  2.53975762e-05 -1.00026404e-02]\n",
      "[0.0018876  0.00019527 0.00012981]\n",
      "[0.00238716 0.00187576 0.00123174]\n"
     ]
    }
   ],
   "source": [
    "#calc mean and std\n",
    "mean = np.mean(est, axis = 0)\n",
    "std = np.std(est, axis = 0)\n",
    "\n",
    "print(mean)\n",
    "print(std[:3])\n",
    "print(np.rad2deg(std[3:]))"
   ]
  },
  {
   "cell_type": "code",
   "execution_count": null,
   "id": "stone-satellite",
   "metadata": {},
   "outputs": [],
   "source": []
  }
 ],
 "metadata": {
  "kernelspec": {
   "display_name": "Python 3",
   "language": "python",
   "name": "python3"
  },
  "language_info": {
   "codemirror_mode": {
    "name": "ipython",
    "version": 3
   },
   "file_extension": ".py",
   "mimetype": "text/x-python",
   "name": "python",
   "nbconvert_exporter": "python",
   "pygments_lexer": "ipython3",
   "version": "3.7.10"
  }
 },
 "nbformat": 4,
 "nbformat_minor": 5
}
