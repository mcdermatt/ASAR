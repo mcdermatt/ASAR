{
 "cells": [
  {
   "cell_type": "markdown",
   "id": "1a6c0c44",
   "metadata": {},
   "source": [
    "### Using COLMAP Structure From Motion (SFM) Package\n",
    "\n",
    "see <https://github.com/Fyusion/LLFF/tree/master> for more documentation"
   ]
  },
  {
   "cell_type": "code",
   "execution_count": 5,
   "id": "01776334",
   "metadata": {},
   "outputs": [],
   "source": [
    "import os\n",
    "import sys\n",
    "current = os.getcwd()\n",
    "sys.path.append(current+\"/LLFF\")\n",
    "\n",
    "from LLFF.llff.poses.pose_utils import gen_poses\n",
    "import sys\n",
    "\n",
    "#<imgs2poses.py>:\n",
    "# import argparse\n",
    "# parser = argparse.ArgumentParser()\n",
    "# parser.add_argument('--match_type', type=str, \n",
    "#                     default='exhaustive_matcher', help='type of matcher used.  Valid options: \\\n",
    "#                     exhaustive_matcher sequential_matcher.  Other matchers not supported at this time')\n",
    "# parser.add_argument('scenedir', type=str,\n",
    "#                     help='input scene directory')\n",
    "# args = parser.parse_args()\n",
    "\n",
    "# if args.match_type != 'exhaustive_matcher' and args.match_type != 'sequential_matcher':\n",
    "#     print('ERROR: matcher type ' + args.match_type + ' is not valid.  Aborting')\n",
    "#     sys.exit()\n",
    "\n",
    "# if __name__=='__main__':\n",
    "#     gen_poses(args.scenedir, args.match_type)"
   ]
  },
  {
   "cell_type": "code",
   "execution_count": 2,
   "id": "8c4f9325",
   "metadata": {},
   "outputs": [
    {
     "name": "stdout",
     "output_type": "stream",
     "text": [
      "None\n"
     ]
    }
   ],
   "source": [
    "print(gen_poses.__doc__)"
   ]
  },
  {
   "cell_type": "code",
   "execution_count": 3,
   "id": "91880306",
   "metadata": {},
   "outputs": [
    {
     "name": "stdout",
     "output_type": "stream",
     "text": [
      "desk_demo.ipynb  desk_images  __init__.py  LLFF  tiny_nerf\r\n"
     ]
    }
   ],
   "source": [
    "!ls"
   ]
  },
  {
   "cell_type": "code",
   "execution_count": 4,
   "id": "f8340017",
   "metadata": {},
   "outputs": [
    {
     "name": "stdout",
     "output_type": "stream",
     "text": [
      "['/home/derm/ASAR/v3/nerf', '/home/derm/anaconda3/envs/py39/lib/python39.zip', '/home/derm/anaconda3/envs/py39/lib/python3.9', '/home/derm/anaconda3/envs/py39/lib/python3.9/lib-dynload', '', '/home/derm/anaconda3/envs/py39/lib/python3.9/site-packages', '/home/derm/ASAR/v3/nerf/LLFF', '/home/derm/ASAR/v3']\n"
     ]
    }
   ],
   "source": [
    "print(sys.path)"
   ]
  },
  {
   "cell_type": "code",
   "execution_count": null,
   "id": "b7e0113c",
   "metadata": {},
   "outputs": [],
   "source": []
  },
  {
   "cell_type": "code",
   "execution_count": null,
   "id": "237dabdc",
   "metadata": {},
   "outputs": [],
   "source": []
  },
  {
   "cell_type": "code",
   "execution_count": null,
   "id": "c46e7878",
   "metadata": {},
   "outputs": [],
   "source": []
  }
 ],
 "metadata": {
  "kernelspec": {
   "display_name": "Python 3 (ipykernel)",
   "language": "python",
   "name": "python3"
  },
  "language_info": {
   "codemirror_mode": {
    "name": "ipython",
    "version": 3
   },
   "file_extension": ".py",
   "mimetype": "text/x-python",
   "name": "python",
   "nbconvert_exporter": "python",
   "pygments_lexer": "ipython3",
   "version": "3.9.13"
  }
 },
 "nbformat": 4,
 "nbformat_minor": 5
}
