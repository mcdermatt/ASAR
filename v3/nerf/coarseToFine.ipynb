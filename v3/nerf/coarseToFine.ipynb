{
 "cells": [
  {
   "cell_type": "code",
   "execution_count": 1,
   "id": "83a5025d",
   "metadata": {
    "scrolled": true
   },
   "outputs": [
    {
     "name": "stderr",
     "output_type": "stream",
     "text": [
      "2024-07-27 08:47:39.114826: I tensorflow/core/platform/cpu_feature_guard.cc:193] This TensorFlow binary is optimized with oneAPI Deep Neural Network Library (oneDNN) to use the following CPU instructions in performance-critical operations:  AVX2 FMA\n",
      "To enable them in other operations, rebuild TensorFlow with the appropriate compiler flags.\n",
      "2024-07-27 08:47:39.794599: E tensorflow/stream_executor/cuda/cuda_blas.cc:2981] Unable to register cuBLAS factory: Attempting to register factory for plugin cuBLAS when one has already been registered\n",
      "2024-07-27 08:47:41.026764: W tensorflow/stream_executor/platform/default/dso_loader.cc:64] Could not load dynamic library 'libnvinfer.so.7'; dlerror: libnvinfer.so.7: cannot open shared object file: No such file or directory; LD_LIBRARY_PATH: /usr/local/lib:/usr/local/lib:\n",
      "2024-07-27 08:47:41.026932: W tensorflow/stream_executor/platform/default/dso_loader.cc:64] Could not load dynamic library 'libnvinfer_plugin.so.7'; dlerror: libnvinfer_plugin.so.7: cannot open shared object file: No such file or directory; LD_LIBRARY_PATH: /usr/local/lib:/usr/local/lib:\n",
      "2024-07-27 08:47:41.026943: W tensorflow/compiler/tf2tensorrt/utils/py_utils.cc:38] TF-TRT Warning: Cannot dlopen some TensorRT libraries. If you would like to use Nvidia GPU with TensorRT, please make sure the missing libraries mentioned above are installed properly.\n",
      "2024-07-27 08:47:43.271210: I tensorflow/stream_executor/cuda/cuda_gpu_executor.cc:980] successful NUMA node read from SysFS had negative value (-1), but there must be at least one NUMA node, so returning NUMA node zero\n",
      "2024-07-27 08:47:43.381508: I tensorflow/stream_executor/cuda/cuda_gpu_executor.cc:980] successful NUMA node read from SysFS had negative value (-1), but there must be at least one NUMA node, so returning NUMA node zero\n",
      "2024-07-27 08:47:43.381850: I tensorflow/stream_executor/cuda/cuda_gpu_executor.cc:980] successful NUMA node read from SysFS had negative value (-1), but there must be at least one NUMA node, so returning NUMA node zero\n"
     ]
    },
    {
     "name": "stdout",
     "output_type": "stream",
     "text": [
      "[PhysicalDevice(name='/physical_device:GPU:0', device_type='GPU')]\n"
     ]
    },
    {
     "name": "stderr",
     "output_type": "stream",
     "text": [
      "2024-07-27 08:47:43.761192: I tensorflow/core/platform/cpu_feature_guard.cc:193] This TensorFlow binary is optimized with oneAPI Deep Neural Network Library (oneDNN) to use the following CPU instructions in performance-critical operations:  AVX2 FMA\n",
      "To enable them in other operations, rebuild TensorFlow with the appropriate compiler flags.\n",
      "2024-07-27 08:47:43.763097: I tensorflow/stream_executor/cuda/cuda_gpu_executor.cc:980] successful NUMA node read from SysFS had negative value (-1), but there must be at least one NUMA node, so returning NUMA node zero\n",
      "2024-07-27 08:47:43.763416: I tensorflow/stream_executor/cuda/cuda_gpu_executor.cc:980] successful NUMA node read from SysFS had negative value (-1), but there must be at least one NUMA node, so returning NUMA node zero\n",
      "2024-07-27 08:47:43.763674: I tensorflow/stream_executor/cuda/cuda_gpu_executor.cc:980] successful NUMA node read from SysFS had negative value (-1), but there must be at least one NUMA node, so returning NUMA node zero\n",
      "2024-07-27 08:47:44.749617: I tensorflow/stream_executor/cuda/cuda_gpu_executor.cc:980] successful NUMA node read from SysFS had negative value (-1), but there must be at least one NUMA node, so returning NUMA node zero\n",
      "2024-07-27 08:47:44.750041: I tensorflow/stream_executor/cuda/cuda_gpu_executor.cc:980] successful NUMA node read from SysFS had negative value (-1), but there must be at least one NUMA node, so returning NUMA node zero\n",
      "2024-07-27 08:47:44.750357: I tensorflow/stream_executor/cuda/cuda_gpu_executor.cc:980] successful NUMA node read from SysFS had negative value (-1), but there must be at least one NUMA node, so returning NUMA node zero\n",
      "2024-07-27 08:47:44.750543: I tensorflow/core/common_runtime/gpu/gpu_device.cc:1616] Created device /job:localhost/replica:0/task:0/device:GPU:0 with 16384 MB memory:  -> device: 0, name: NVIDIA GeForce RTX 3090, pci bus id: 0000:07:00.0, compute capability: 8.6\n"
     ]
    },
    {
     "data": {
      "application/javascript": [
       "IPython.notebook.set_autosave_interval(180000)"
      ]
     },
     "metadata": {},
     "output_type": "display_data"
    },
    {
     "name": "stdout",
     "output_type": "stream",
     "text": [
      "Autosaving every 180 seconds\n"
     ]
    }
   ],
   "source": [
    "#load requirements for working with PCs\n",
    "from vedo import *\n",
    "from ipyvtklink.viewer import ViewInteractiveWidget\n",
    "import numpy as np\n",
    "import tensorflow as tf\n",
    "import time\n",
    "import cv2\n",
    "\n",
    "#limit GPU memory ------------------------------------------------\n",
    "gpus = tf.config.experimental.list_physical_devices('GPU')\n",
    "print(gpus)\n",
    "if gpus:\n",
    "  try:\n",
    "    memlim = 16*1024\n",
    "    tf.config.experimental.set_virtual_device_configuration(gpus[0], [tf.config.experimental.VirtualDeviceConfiguration(memory_limit=memlim)])\n",
    "  except RuntimeError as e:\n",
    "    print(e)\n",
    "#-----------------------------------------------------------------\n",
    "\n",
    "import sys\n",
    "import os\n",
    "current = os.getcwd()\n",
    "parent_directory = os.path.dirname(current)\n",
    "sys.path.append(parent_directory)\n",
    "sys.path.append(parent_directory+\"/point_cloud_rectification\")\n",
    "from ICET_spherical import ICET\n",
    "from linear_corrector import LC\n",
    "\n",
    "from utils import R_tf\n",
    "from metpy.calc import lat_lon_grid_deltas\n",
    "from scipy.spatial.transform import Rotation as R\n",
    "from matplotlib import pyplot as plt\n",
    "import copy\n",
    "import trimesh\n",
    "\n",
    "from pillow_heif import register_heif_opener\n",
    "from matplotlib import pyplot as p\n",
    "from colmapParsingUtils import *\n",
    "from scipy.spatial.transform import Rotation as R\n",
    "import cv2\n",
    "from lidar_nerf_utils import *\n",
    "\n",
    "from tqdm import tqdm_notebook as tqdm\n",
    "from PIL import Image\n",
    "\n",
    "tf.compat.v1.enable_eager_execution()\n",
    "\n",
    "\n",
    "%load_ext autoreload\n",
    "%autoreload 2\n",
    "%autosave 180\n",
    "# %matplotlib notebook"
   ]
  },
  {
   "cell_type": "code",
   "execution_count": 3,
   "id": "e9c58ba3",
   "metadata": {},
   "outputs": [
    {
     "name": "stdout",
     "output_type": "stream",
     "text": [
      "[PhysicalDevice(name='/physical_device:GPU:0', device_type='GPU')]\n"
     ]
    }
   ],
   "source": [
    "from remove_motion_basic import linear_correction_old as lc\n",
    "\n",
    "dir_name = \"/media/derm/06EF-127D4/Newer College Dataset/\"\n",
    "experiment_name = \"01_short_experiment-20230331T172433Z-009/01_short_experiment/\"\n",
    "fn_gt = dir_name + experiment_name + \"ground_truth/registered_poses.csv\"\n",
    "#sec,nsec,x,y,z,qx,qy,qz,qw\n",
    "gt = np.loadtxt(fn_gt, delimiter=',',skiprows = 1)\n",
    "seconds = gt[:, 0]\n",
    "nano_seconds = gt[:, 1]\n",
    "xyz = gt[:, 2:5]\n",
    "qxyzw = gt[:, 5:]\n",
    "num_poses = qxyzw.shape[0]\n",
    "sensor_poses = np.eye(4, dtype=np.float64).reshape(1, 4, 4).repeat(num_poses, axis=0)\n",
    "sensor_poses[:, :3, :3] = R.from_quat(qxyzw).as_matrix()\n",
    "sensor_poses[:, :3, 3] = xyz\n",
    "T_CL = np.eye(4, dtype=np.float32)\n",
    "T_CL[:3, :3] = R.from_quat([0.0, 0.0, 0.924, 0.383]).as_matrix() #was this --1134.97 deg\n",
    "T_CL[:3, 3] = np.array([-0.084, -0.025, 0.050], dtype=np.float32) #was this\n",
    "sensor_poses = np.einsum(\"nij,jk->nik\", sensor_poses, T_CL)\n",
    "initial_pose = np.linalg.inv(sensor_poses[0]) \n",
    "poses_timestamps = seconds * 10e9 + nano_seconds\n",
    "sensor_poses = np.einsum(\"ij,njk->nik\", np.linalg.inv(sensor_poses[0]), sensor_poses) #TRY COMMENTING OUT...\n",
    "\n",
    "#get body frame vel to remove motion disortion from training data\n",
    "vel_world_frame = np.diff(sensor_poses[:,:3,-1], axis = 0)\n",
    "vel_body_frame = np.linalg.pinv(sensor_poses[1:,:3,:3]) @ vel_world_frame[:,:,None]\n",
    "vel_body_frame = vel_body_frame[:,:,0]\n",
    "#smooth out velocity estimates\n",
    "def moving_average(a, n=10):\n",
    "    ret = np.cumsum(a, dtype=float)\n",
    "    ret[n:] = ret[n:] - ret[:-n]\n",
    "    return ret[n - 1:] / n\n",
    "window=50\n",
    "MAx = moving_average(vel_body_frame[:,0], n = window)\n",
    "MAy = moving_average(vel_body_frame[:,1], n = window)\n",
    "MAz = moving_average(vel_body_frame[:,2], n = window)\n",
    "vel_body_frame = np.array([MAx, MAy, MAz]).T\n",
    "\n",
    "rot_vel_euls = np.diff(R.from_matrix(sensor_poses[:,:3,:3]).as_euler('xyz'), axis = 0)\n",
    "idx = np.argwhere(rot_vel_euls > (np.pi))\n",
    "rot_vel_euls[idx] = 0\n",
    "idx = np.argwhere(rot_vel_euls < (-np.pi))\n",
    "rot_vel_euls[idx] = 0\n",
    "\n",
    "pl = '/media/derm/06EF-127D4/Newer College Dataset/new-college-29-01-2020-1cm-resolution-1stSection - mesh.ply'\n",
    "HD_map = trimesh.load(pl).vertices\n",
    "show_nth = 5 #10\n",
    "submap = HD_map[::show_nth]"
   ]
  },
  {
   "cell_type": "code",
   "execution_count": 2,
   "id": "3f178f14",
   "metadata": {},
   "outputs": [],
   "source": [
    "# #LOAD [-15,17.5]x1000, @0.005\n",
    "# np.save(\"/home/derm/Desktop/posesEval.npy\", poses)\n",
    "# np.save(\"/home/derm/Desktop/imagesEval.npy\", images)\n",
    "poses = np.load(\"/home/derm/Desktop/poses.npy\") # <--- used these for best NeRF training\n",
    "images = np.load(\"/home/derm/Desktop/images.npy\")\n",
    "# poses = np.load(\"/home/derm/Desktop/posesEval.npy\") # <--- every 5th frame, [7700:8800] for benchmarking\n",
    "# images = np.load(\"/home/derm/Desktop/imagesEval.npy\")\n",
    "#LOAD [-17.5,15]x1000, @0.005\n",
    "# np.save(\"/home/derm/Desktop/posesM17P15.npy\", poses)\n",
    "# np.save(\"/home/derm/Desktop/imagesM17P15.npy\", images)\n",
    "# poses = np.load(\"/home/derm/Desktop/posesM17P15.npy\")\n",
    "# images = np.load(\"/home/derm/Desktop/imagesM17P15.npy\")\n",
    "\n",
    "#LOAD [-15,17]x1000, 8x8 @ 0.005\n",
    "# np.save(\"/home/derm/Desktop/poses8x8.npy\", poses)\n",
    "# np.save(\"/home/derm/Desktop/images8x8.npy\", images)\n",
    "\n",
    "# #Linearly scale down translations and ranges ~~~~~~~~~~~~~~~~~~~\n",
    "# rotm[:3,-1] *= 0.002 #0.005 #0.02 #0.05\n",
    "# images[k+(j+(i*n_rots))*n_vert_patches,:,:,0] *= 0.002 #0.005 #0.02 #0.005 #0.05\n",
    "# #~~~~~~~~~~~~~~~~~~~~~~~~~~~~~~~~~~~~~~~~~~~~~~~~~~~~~~~~~~~~~~~"
   ]
  },
  {
   "cell_type": "code",
   "execution_count": 4,
   "id": "859c452e",
   "metadata": {},
   "outputs": [
    {
     "name": "stdout",
     "output_type": "stream",
     "text": [
      "(64, 0)\n"
     ]
    },
    {
     "data": {
      "image/png": "[encoded data removed]",
      "text/plain": [
       "<Figure size 640x480 with 1 Axes>"
      ]
     },
     "metadata": {},
     "output_type": "display_data"
    }
   ],
   "source": [
    "temp = np.zeros([np.shape(images)[1],0])\n",
    "print(np.shape(temp))\n",
    "for img_i in range(0,50):\n",
    "    temp = np.append(temp,images[img_i,:,:,0], axis = 1)\n",
    "\n",
    "fig, ax = p.subplots()\n",
    "ax.imshow(temp)\n",
    "\n",
    "# # # #get some window in our test\n",
    "testimg = images[12]\n",
    "testpose = poses[12]"
   ]
  },
  {
   "cell_type": "markdown",
   "id": "06756749",
   "metadata": {},
   "source": [
    "# Train NeRF using old single-network strategy"
   ]
  },
  {
   "cell_type": "code",
   "execution_count": 1309,
   "id": "8e333610",
   "metadata": {
    "scrolled": true
   },
   "outputs": [
    {
     "name": "stdout",
     "output_type": "stream",
     "text": [
      "z_vals: tf.Tensor([ 64   8 128   1], shape=(4,), dtype=int32)\n"
     ]
    },
    {
     "data": {
      "image/png": "[encoded data removed]",
      "text/plain": [
       "<Figure size 1000x400 with 3 Axes>"
      ]
     },
     "metadata": {},
     "output_type": "display_data"
    },
    {
     "name": "stdout",
     "output_type": "stream",
     "text": [
      "z_vals: tf.Tensor([ 64   8 128   1], shape=(4,), dtype=int32)\n",
      "z_vals: tf.Tensor([ 64   8 128   1], shape=(4,), dtype=int32)\n",
      "z_vals: tf.Tensor([ 64   8 128   1], shape=(4,), dtype=int32)\n",
      "z_vals: tf.Tensor([ 64   8 128   1], shape=(4,), dtype=int32)\n",
      "z_vals: tf.Tensor([ 64   8 128   1], shape=(4,), dtype=int32)\n",
      "z_vals: tf.Tensor([ 64   8 128   1], shape=(4,), dtype=int32)\n",
      "z_vals: tf.Tensor([ 64   8 128   1], shape=(4,), dtype=int32)\n",
      "z_vals: tf.Tensor([ 64   8 128   1], shape=(4,), dtype=int32)\n",
      "z_vals: tf.Tensor([ 64   8 128   1], shape=(4,), dtype=int32)\n",
      "z_vals: tf.Tensor([ 64   8 128   1], shape=(4,), dtype=int32)\n",
      "z_vals: tf.Tensor([ 64   8 128   1], shape=(4,), dtype=int32)\n",
      "z_vals: tf.Tensor([ 64   8 128   1], shape=(4,), dtype=int32)\n",
      "z_vals: tf.Tensor([ 64   8 128   1], shape=(4,), dtype=int32)\n",
      "z_vals: tf.Tensor([ 64   8 128   1], shape=(4,), dtype=int32)\n",
      "z_vals: tf.Tensor([ 64   8 128   1], shape=(4,), dtype=int32)\n",
      "z_vals: tf.Tensor([ 64   8 128   1], shape=(4,), dtype=int32)\n",
      "z_vals: tf.Tensor([ 64   8 128   1], shape=(4,), dtype=int32)\n",
      "z_vals: tf.Tensor([ 64   8 128   1], shape=(4,), dtype=int32)\n",
      "z_vals: tf.Tensor([ 64   8 128   1], shape=(4,), dtype=int32)\n",
      "z_vals: tf.Tensor([ 64   8 128   1], shape=(4,), dtype=int32)\n",
      "z_vals: tf.Tensor([ 64   8 128   1], shape=(4,), dtype=int32)\n",
      "z_vals: tf.Tensor([ 64   8 128   1], shape=(4,), dtype=int32)\n",
      "z_vals: tf.Tensor([ 64   8 128   1], shape=(4,), dtype=int32)\n",
      "z_vals: tf.Tensor([ 64   8 128   1], shape=(4,), dtype=int32)\n",
      "z_vals: tf.Tensor([ 64   8 128   1], shape=(4,), dtype=int32)\n",
      "z_vals: tf.Tensor([ 64   8 128   1], shape=(4,), dtype=int32)\n",
      "z_vals: tf.Tensor([ 64   8 128   1], shape=(4,), dtype=int32)\n",
      "z_vals: tf.Tensor([ 64   8 128   1], shape=(4,), dtype=int32)\n",
      "z_vals: tf.Tensor([ 64   8 128   1], shape=(4,), dtype=int32)\n",
      "z_vals: tf.Tensor([ 64   8 128   1], shape=(4,), dtype=int32)\n",
      "z_vals: tf.Tensor([ 64   8 128   1], shape=(4,), dtype=int32)\n",
      "z_vals: tf.Tensor([ 64   8 128   1], shape=(4,), dtype=int32)\n",
      "z_vals: tf.Tensor([ 64   8 128   1], shape=(4,), dtype=int32)\n"
     ]
    },
    {
     "ename": "KeyboardInterrupt",
     "evalue": "",
     "output_type": "error",
     "traceback": [
      "\u001b[0;31m---------------------------------------------------------------------------\u001b[0m",
      "\u001b[0;31mKeyboardInterrupt\u001b[0m                         Traceback (most recent call last)",
      "Input \u001b[0;32mIn [1309]\u001b[0m, in \u001b[0;36m<cell line: 37>\u001b[0;34m()\u001b[0m\n\u001b[1;32m    119\u001b[0m     ray_drop \u001b[38;5;241m=\u001b[39m ray_drop[:,:,\u001b[38;5;28;01mNone\u001b[39;00m]\n\u001b[1;32m    121\u001b[0m     \u001b[38;5;66;03m# loss_fine = calculate_loss(depth, ray_drop, target, target_drop_mask)\u001b[39;00m\n\u001b[0;32m--> 122\u001b[0m     loss_fine \u001b[38;5;241m=\u001b[39m \u001b[43mcalculate_loss\u001b[49m\u001b[43m(\u001b[49m\u001b[43mdepth\u001b[49m\u001b[43m,\u001b[49m\u001b[43m \u001b[49m\u001b[43mray_drop\u001b[49m\u001b[43m,\u001b[49m\u001b[43m \u001b[49m\u001b[43mtarget\u001b[49m\u001b[43m,\u001b[49m\u001b[43m \u001b[49m\u001b[43mtarget_drop_mask\u001b[49m\u001b[43m,\u001b[49m\u001b[43m \u001b[49m\u001b[43mCDF\u001b[49m\u001b[43m \u001b[49m\u001b[38;5;241;43m=\u001b[39;49m\u001b[43m \u001b[49m\u001b[43mCDF\u001b[49m\u001b[43m,\u001b[49m\u001b[43m \u001b[49m\u001b[43mgtCDF\u001b[49m\u001b[43m \u001b[49m\u001b[38;5;241;43m=\u001b[39;49m\u001b[43m \u001b[49m\u001b[43mgtCDF\u001b[49m\u001b[43m)\u001b[49m\n\u001b[1;32m    123\u001b[0m     loss \u001b[38;5;241m=\u001b[39m \u001b[38;5;241m0.1\u001b[39m\u001b[38;5;241m*\u001b[39mloss_coarse \u001b[38;5;241m+\u001b[39m \u001b[38;5;241m0.9\u001b[39m\u001b[38;5;241m*\u001b[39mloss_fine \n\u001b[1;32m    124\u001b[0m     \u001b[38;5;66;03m# ~~~~~~~~~~~~~~~~~~~~~~~~~~~~~~~~~~~~        \u001b[39;00m\n\u001b[1;32m    125\u001b[0m \n\u001b[1;32m    126\u001b[0m \u001b[38;5;66;03m#NEW--prevent NaN gradients from crashing training routine(?) -- needed for monotonically increasing outputs?\u001b[39;00m\n",
      "File \u001b[0;32m~/ASAR/v3/nerf/lidar_nerf_utils.py:698\u001b[0m, in \u001b[0;36mcalculate_loss\u001b[0;34m(depth, ray_drop, target, target_drop_mask, d1, d2, CDF, gtCDF)\u001b[0m\n\u001b[1;32m    695\u001b[0m lam2 \u001b[38;5;241m=\u001b[39m \u001b[38;5;241m1000.\u001b[39m \u001b[38;5;66;03m#1 \u001b[39;00m\n\u001b[1;32m    696\u001b[0m lam4 \u001b[38;5;241m=\u001b[39m \u001b[38;5;241m0.1\u001b[39m\n\u001b[0;32m--> 698\u001b[0m loss \u001b[38;5;241m=\u001b[39m \u001b[43mlam0\u001b[49m\u001b[38;5;241;43m*\u001b[39;49m\u001b[43mL_dist\u001b[49m\u001b[43m \u001b[49m\u001b[38;5;241;43m+\u001b[39;49m\u001b[43m \u001b[49m\u001b[43mlam1\u001b[49m\u001b[38;5;241;43m*\u001b[39;49m\u001b[43mL_reg\u001b[49m\u001b[43m \u001b[49m\u001b[38;5;241;43m+\u001b[39;49m\u001b[43m \u001b[49m\u001b[43mlam2\u001b[49m\u001b[38;5;241;43m*\u001b[39;49m\u001b[43mL_raydrop\u001b[49m \u001b[38;5;241m+\u001b[39m lam4\u001b[38;5;241m*\u001b[39mCDF_loss\n\u001b[1;32m    699\u001b[0m \u001b[38;5;66;03m# print(\"\\n L_dist: \", lam0*L_dist, \"\\n L_raydrop:\", lam2*L_raydrop, \"\\n L_CDF:\", lam4*CDF_loss)\u001b[39;00m\n\u001b[1;32m    701\u001b[0m \u001b[38;5;28;01mreturn\u001b[39;00m(loss)\n",
      "File \u001b[0;32m~/anaconda3/envs/py39/lib/python3.9/site-packages/tensorflow/python/util/traceback_utils.py:150\u001b[0m, in \u001b[0;36mfilter_traceback.<locals>.error_handler\u001b[0;34m(*args, **kwargs)\u001b[0m\n\u001b[1;32m    148\u001b[0m filtered_tb \u001b[38;5;241m=\u001b[39m \u001b[38;5;28;01mNone\u001b[39;00m\n\u001b[1;32m    149\u001b[0m \u001b[38;5;28;01mtry\u001b[39;00m:\n\u001b[0;32m--> 150\u001b[0m   \u001b[38;5;28;01mreturn\u001b[39;00m \u001b[43mfn\u001b[49m\u001b[43m(\u001b[49m\u001b[38;5;241;43m*\u001b[39;49m\u001b[43margs\u001b[49m\u001b[43m,\u001b[49m\u001b[43m \u001b[49m\u001b[38;5;241;43m*\u001b[39;49m\u001b[38;5;241;43m*\u001b[39;49m\u001b[43mkwargs\u001b[49m\u001b[43m)\u001b[49m\n\u001b[1;32m    151\u001b[0m \u001b[38;5;28;01mexcept\u001b[39;00m \u001b[38;5;167;01mException\u001b[39;00m \u001b[38;5;28;01mas\u001b[39;00m e:\n\u001b[1;32m    152\u001b[0m   filtered_tb \u001b[38;5;241m=\u001b[39m _process_traceback_frames(e\u001b[38;5;241m.\u001b[39m__traceback__)\n",
      "File \u001b[0;32m~/anaconda3/envs/py39/lib/python3.9/site-packages/tensorflow/python/ops/math_ops.py:1407\u001b[0m, in \u001b[0;36m_OverrideBinaryOperatorHelper.<locals>.binary_op_wrapper\u001b[0;34m(x, y)\u001b[0m\n\u001b[1;32m   1402\u001b[0m \u001b[38;5;28;01mtry\u001b[39;00m:\n\u001b[1;32m   1403\u001b[0m   \u001b[38;5;66;03m# force_same_dtype=False to preserve existing TF behavior\u001b[39;00m\n\u001b[1;32m   1404\u001b[0m   \u001b[38;5;66;03m# TODO(b/178860388): Figure out why binary_op_wrapper and\u001b[39;00m\n\u001b[1;32m   1405\u001b[0m   \u001b[38;5;66;03m#   r_binary_op_wrapper use different force_same_dtype values.\u001b[39;00m\n\u001b[1;32m   1406\u001b[0m   x, y \u001b[38;5;241m=\u001b[39m maybe_promote_tensors(x, y)\n\u001b[0;32m-> 1407\u001b[0m   \u001b[38;5;28;01mreturn\u001b[39;00m \u001b[43mfunc\u001b[49m\u001b[43m(\u001b[49m\u001b[43mx\u001b[49m\u001b[43m,\u001b[49m\u001b[43m \u001b[49m\u001b[43my\u001b[49m\u001b[43m,\u001b[49m\u001b[43m \u001b[49m\u001b[43mname\u001b[49m\u001b[38;5;241;43m=\u001b[39;49m\u001b[43mname\u001b[49m\u001b[43m)\u001b[49m\n\u001b[1;32m   1408\u001b[0m \u001b[38;5;28;01mexcept\u001b[39;00m (\u001b[38;5;167;01mTypeError\u001b[39;00m, \u001b[38;5;167;01mValueError\u001b[39;00m) \u001b[38;5;28;01mas\u001b[39;00m e:\n\u001b[1;32m   1409\u001b[0m   \u001b[38;5;66;03m# Even if dispatching the op failed, the RHS may be a tensor aware\u001b[39;00m\n\u001b[1;32m   1410\u001b[0m   \u001b[38;5;66;03m# object that can implement the operator with knowledge of itself\u001b[39;00m\n\u001b[0;32m   (...)\u001b[0m\n\u001b[1;32m   1413\u001b[0m   \u001b[38;5;66;03m# original error from the LHS, because it may be more\u001b[39;00m\n\u001b[1;32m   1414\u001b[0m   \u001b[38;5;66;03m# informative.\u001b[39;00m\n\u001b[1;32m   1415\u001b[0m   \u001b[38;5;28;01mif\u001b[39;00m \u001b[38;5;28mhasattr\u001b[39m(\u001b[38;5;28mtype\u001b[39m(y), \u001b[38;5;124m\"\u001b[39m\u001b[38;5;124m__r\u001b[39m\u001b[38;5;132;01m%s\u001b[39;00m\u001b[38;5;124m__\u001b[39m\u001b[38;5;124m\"\u001b[39m \u001b[38;5;241m%\u001b[39m op_name):\n",
      "File \u001b[0;32m~/anaconda3/envs/py39/lib/python3.9/site-packages/tensorflow/python/util/traceback_utils.py:150\u001b[0m, in \u001b[0;36mfilter_traceback.<locals>.error_handler\u001b[0;34m(*args, **kwargs)\u001b[0m\n\u001b[1;32m    148\u001b[0m filtered_tb \u001b[38;5;241m=\u001b[39m \u001b[38;5;28;01mNone\u001b[39;00m\n\u001b[1;32m    149\u001b[0m \u001b[38;5;28;01mtry\u001b[39;00m:\n\u001b[0;32m--> 150\u001b[0m   \u001b[38;5;28;01mreturn\u001b[39;00m \u001b[43mfn\u001b[49m\u001b[43m(\u001b[49m\u001b[38;5;241;43m*\u001b[39;49m\u001b[43margs\u001b[49m\u001b[43m,\u001b[49m\u001b[43m \u001b[49m\u001b[38;5;241;43m*\u001b[39;49m\u001b[38;5;241;43m*\u001b[39;49m\u001b[43mkwargs\u001b[49m\u001b[43m)\u001b[49m\n\u001b[1;32m    151\u001b[0m \u001b[38;5;28;01mexcept\u001b[39;00m \u001b[38;5;167;01mException\u001b[39;00m \u001b[38;5;28;01mas\u001b[39;00m e:\n\u001b[1;32m    152\u001b[0m   filtered_tb \u001b[38;5;241m=\u001b[39m _process_traceback_frames(e\u001b[38;5;241m.\u001b[39m__traceback__)\n",
      "File \u001b[0;32m~/anaconda3/envs/py39/lib/python3.9/site-packages/tensorflow/python/util/dispatch.py:1176\u001b[0m, in \u001b[0;36madd_dispatch_support.<locals>.decorator.<locals>.op_dispatch_handler\u001b[0;34m(*args, **kwargs)\u001b[0m\n\u001b[1;32m   1174\u001b[0m \u001b[38;5;66;03m# Fallback dispatch system (dispatch v1):\u001b[39;00m\n\u001b[1;32m   1175\u001b[0m \u001b[38;5;28;01mtry\u001b[39;00m:\n\u001b[0;32m-> 1176\u001b[0m   \u001b[38;5;28;01mreturn\u001b[39;00m \u001b[43mdispatch_target\u001b[49m\u001b[43m(\u001b[49m\u001b[38;5;241;43m*\u001b[39;49m\u001b[43margs\u001b[49m\u001b[43m,\u001b[49m\u001b[43m \u001b[49m\u001b[38;5;241;43m*\u001b[39;49m\u001b[38;5;241;43m*\u001b[39;49m\u001b[43mkwargs\u001b[49m\u001b[43m)\u001b[49m\n\u001b[1;32m   1177\u001b[0m \u001b[38;5;28;01mexcept\u001b[39;00m (\u001b[38;5;167;01mTypeError\u001b[39;00m, \u001b[38;5;167;01mValueError\u001b[39;00m):\n\u001b[1;32m   1178\u001b[0m   \u001b[38;5;66;03m# Note: convert_to_eager_tensor currently raises a ValueError, not a\u001b[39;00m\n\u001b[1;32m   1179\u001b[0m   \u001b[38;5;66;03m# TypeError, when given unexpected types.  So we need to catch both.\u001b[39;00m\n\u001b[1;32m   1180\u001b[0m   result \u001b[38;5;241m=\u001b[39m dispatch(op_dispatch_handler, args, kwargs)\n",
      "File \u001b[0;32m~/anaconda3/envs/py39/lib/python3.9/site-packages/tensorflow/python/ops/math_ops.py:1757\u001b[0m, in \u001b[0;36m_add_dispatch\u001b[0;34m(x, y, name)\u001b[0m\n\u001b[1;32m   1755\u001b[0m   \u001b[38;5;28;01mreturn\u001b[39;00m gen_math_ops\u001b[38;5;241m.\u001b[39madd(x, y, name\u001b[38;5;241m=\u001b[39mname)\n\u001b[1;32m   1756\u001b[0m \u001b[38;5;28;01melse\u001b[39;00m:\n\u001b[0;32m-> 1757\u001b[0m   \u001b[38;5;28;01mreturn\u001b[39;00m \u001b[43mgen_math_ops\u001b[49m\u001b[38;5;241;43m.\u001b[39;49m\u001b[43madd_v2\u001b[49m\u001b[43m(\u001b[49m\u001b[43mx\u001b[49m\u001b[43m,\u001b[49m\u001b[43m \u001b[49m\u001b[43my\u001b[49m\u001b[43m,\u001b[49m\u001b[43m \u001b[49m\u001b[43mname\u001b[49m\u001b[38;5;241;43m=\u001b[39;49m\u001b[43mname\u001b[49m\u001b[43m)\u001b[49m\n",
      "File \u001b[0;32m~/anaconda3/envs/py39/lib/python3.9/site-packages/tensorflow/python/ops/gen_math_ops.py:462\u001b[0m, in \u001b[0;36madd_v2\u001b[0;34m(x, y, name)\u001b[0m\n\u001b[1;32m    460\u001b[0m \u001b[38;5;28;01mif\u001b[39;00m tld\u001b[38;5;241m.\u001b[39mis_eager:\n\u001b[1;32m    461\u001b[0m   \u001b[38;5;28;01mtry\u001b[39;00m:\n\u001b[0;32m--> 462\u001b[0m     _result \u001b[38;5;241m=\u001b[39m \u001b[43mpywrap_tfe\u001b[49m\u001b[38;5;241;43m.\u001b[39;49m\u001b[43mTFE_Py_FastPathExecute\u001b[49m\u001b[43m(\u001b[49m\n\u001b[1;32m    463\u001b[0m \u001b[43m      \u001b[49m\u001b[43m_ctx\u001b[49m\u001b[43m,\u001b[49m\u001b[43m \u001b[49m\u001b[38;5;124;43m\"\u001b[39;49m\u001b[38;5;124;43mAddV2\u001b[39;49m\u001b[38;5;124;43m\"\u001b[39;49m\u001b[43m,\u001b[49m\u001b[43m \u001b[49m\u001b[43mname\u001b[49m\u001b[43m,\u001b[49m\u001b[43m \u001b[49m\u001b[43mx\u001b[49m\u001b[43m,\u001b[49m\u001b[43m \u001b[49m\u001b[43my\u001b[49m\u001b[43m)\u001b[49m\n\u001b[1;32m    464\u001b[0m     \u001b[38;5;28;01mreturn\u001b[39;00m _result\n\u001b[1;32m    465\u001b[0m   \u001b[38;5;28;01mexcept\u001b[39;00m _core\u001b[38;5;241m.\u001b[39m_NotOkStatusException \u001b[38;5;28;01mas\u001b[39;00m e:\n",
      "\u001b[0;31mKeyboardInterrupt\u001b[0m: "
     ]
    }
   ],
   "source": [
    "from lidar_nerf_utils import *\n",
    "from numpy.lib.stride_tricks import sliding_window_view\n",
    "\n",
    "model = init_model()\n",
    "optimizer = tf.keras.optimizers.Adam(5e-4) #default tiny-NeRF\n",
    "# optimizer = tf.keras.optimizers.Adam(5e-5) #anneal to this (LiDAR NeRF)\n",
    "# optimizer = tf.keras.optimizers.Adam(1e-5)\n",
    "# optimizer = tf.keras.optimizers.Adam(5e-6) #anneal to this (Mip-NeRF)\n",
    "# optimizer = tf.keras.optimizers.Adam(1e-6) #TEST\n",
    "\n",
    "N_samples = 128 #128\n",
    "near=0.\n",
    "far=1.\n",
    "N_iters = 5_000_000\n",
    "psnrs = []\n",
    "iternums = []\n",
    "i_plot = 64\n",
    "accumulate_gradients_steps = 1 #32\n",
    "runfine = True\n",
    "# runfine = False\n",
    "\n",
    "#IMPORTANT-- this needs to match values used when setting up training data \n",
    "n_rots = 128 #128 #number of horizontal patches per 2*pi\n",
    "n_vert_patches = 1 #8 #number of vertical patches between phimin and phimax\n",
    "H = 64 // n_vert_patches\n",
    "W = 1024 // n_rots\n",
    "\n",
    "phimin = np.deg2rad(-15.594) #observed in raw data \n",
    "phimax = np.deg2rad(17.743) #observed in raw data\n",
    "\n",
    "vertical_bins = np.linspace(phimin, phimax, n_vert_patches+1)  \n",
    "phivals = np.linspace(phimin, phimax, 64)#new (correct) way to bin elevation angles\n",
    "\n",
    "gradients = [tf.zeros_like(var) for var in model.trainable_variables]\n",
    "accumulated_loss = 0.0\n",
    "\n",
    "for i in range(N_iters+1):\n",
    "#     print(i)\n",
    "    img_i = np.random.randint(images.shape[0])\n",
    "    target = images[img_i,:,:,:1]\n",
    "    target_drop_mask = images[img_i,:,:,1:]\n",
    "    pose = poses[img_i]\n",
    "\n",
    "    idx_first=len(phivals) - (img_i%(n_vert_patches))*(64//n_vert_patches)-1\n",
    "    idx_second= (len(phivals)- ((img_i+1)%(n_vert_patches))*(64//n_vert_patches))%len(phivals)\n",
    "    phimin_patch = phivals[idx_first]\n",
    "    phimax_patch = phivals[idx_second]\n",
    "\n",
    "    #get ray origins and ray directions\n",
    "    rays_o, rays_d = get_rays(H, W, pose, phimin_patch, phimax_patch)\n",
    "    \n",
    "    with tf.GradientTape() as tape:\n",
    "\n",
    "        # run coarse network~~~~~~~~~~~~~~~~~\n",
    "        z_vals = tf.linspace(near, far, N_samples)  #IMPORTANT NOTE: z_vals must be in ascending order \n",
    "        z_vals += tf.random.uniform(list(rays_o.shape[:-1]) + [N_samples]) * (far-near)/N_samples\n",
    "#         z_vals += 0.001*tf.random.uniform(list(rays_o.shape[:-1]) + [N_samples]) * (far-near)/N_samples\n",
    "        z_vals = z_vals[:,:,:,None]#manually expand dimensions before passing in to coarse network (all pixels will share the same z_vals)\n",
    "        depth, ray_drop, CDF, weights = render_rays(model, rays_o, rays_d,  z_vals, fine = True)\n",
    "        depth = depth[:,:,None]\n",
    "        ray_drop = ray_drop[:,:,None]\n",
    "        gtCDF = z_vals[:,:,:,0] > target[:,:,:]\n",
    "        gtCDF = tf.cast(gtCDF, tf.float32)\n",
    "        loss_coarse = calculate_loss(depth, ray_drop, target, target_drop_mask, CDF = CDF, gtCDF = gtCDF) #punish similar depth returns\n",
    "        loss = loss_coarse\n",
    "        \n",
    "        print(\"z_vals:\", tf.shape(z_vals))\n",
    "        \n",
    "        if runfine:\n",
    "            # run through a 2nd time network ~~~~~~~~~~~~~~~~~~\n",
    "            #pad weights with zeros\n",
    "#             fwd = np.append(np.zeros([np.shape(weights)[0], np.shape(weights)[1], 1]), weights, axis = -1)\n",
    "#             rev = np.append(weights, np.zeros([np.shape(weights)[0], np.shape(weights)[1], 1]), axis = -1)\n",
    "#             #use additional axis to calculate all at once\n",
    "#             fwd_test = np.max(sliding_window_view(fwd, window_shape = 2, axis = 2), axis = -1)\n",
    "#             rev_test = np.max(sliding_window_view(rev, window_shape = 2, axis = 2), axis = -1)\n",
    "            #TEST-- slightly wider blur-pool\n",
    "            fwd = np.append(np.zeros([np.shape(weights)[0], np.shape(weights)[1], 3]), weights, axis = -1)\n",
    "            rev = np.append(weights, np.zeros([np.shape(weights)[0], np.shape(weights)[1], 3]), axis = -1)\n",
    "            fwd_test = np.max(sliding_window_view(fwd, window_shape = 4, axis = 2), axis = -1)\n",
    "            rev_test = np.max(sliding_window_view(rev, window_shape = 4, axis = 2), axis = -1)\n",
    "\n",
    "    \n",
    "            #blur-pool as vectorized operation\n",
    "            test2 = (fwd_test + rev_test) /2 #blur\n",
    "    #         test2 += 1/N_samples #shift up slightly\n",
    "            test2 += 1/(3*N_samples) #shift up slightly\n",
    "            test2 = test2 / np.sum(test2, axis = -1)[:,:,None] #renormalize\n",
    "            \n",
    "            cum_hist_vals = np.cumsum(test2, axis = -1)\n",
    "            cum_hist_vals_flat = cum_hist_vals.flatten()\n",
    "    \n",
    "            #modify cum_hist_vals so it is monotonically increasing (needed for interp func to work)\n",
    "            step_corr = np.linspace(0,W*H-1,W*H)\n",
    "            step_corr = np.tile(step_corr,(N_samples,1)).T\n",
    "            step_corr = np.reshape(step_corr, [1,-1])[0,:]\n",
    "            cum_hist_vals_flat+= step_corr\n",
    "    \n",
    "            linear_spaced = np.linspace(near, H*W, N_samples*H*W)\n",
    "#             #fix spacing-- go all the way through [min, max] on every channel???\n",
    "#             linear_spaced = np.linspace(near, far, N_samples)\n",
    "#             linear_spaced = np.tile(linear_spaced, (H*W))\n",
    "#             linear_spaced += step_corr\n",
    "\n",
    "            ans = np.interp(x=linear_spaced, xp=cum_hist_vals_flat, fp=linear_spaced)\n",
    "            ans -= step_corr\n",
    "            ans *= far #scale back to max value\n",
    "#             ans = np.abs(ans) #old-- was shifted to the left\n",
    "            ans = np.abs(ans) + 1/N_samples #took forever to figure this one out...\n",
    "            z_vals = np.reshape(ans, [H,W,N_samples,1])\n",
    "            \n",
    "            gtCDF = z_vals[:,:,:,0] > target[:,:,:]\n",
    "            gtCDF = tf.cast(gtCDF, tf.float32)\n",
    "            \n",
    "            #run actual 2nd pass through same network\n",
    "            depth, ray_drop, CDF, weights = render_rays(model, rays_o, rays_d,  z_vals, fine = False)\n",
    "            depth = depth[:,:,None]\n",
    "            depth = tf.cast(depth, tf.float32) #why do I have to cast this here???\n",
    "            ray_drop = ray_drop[:,:,None]\n",
    "            \n",
    "            # loss_fine = calculate_loss(depth, ray_drop, target, target_drop_mask)\n",
    "            loss_fine = calculate_loss(depth, ray_drop, target, target_drop_mask, CDF = CDF, gtCDF = gtCDF)\n",
    "            loss = 0.1*loss_coarse + 0.9*loss_fine \n",
    "            # ~~~~~~~~~~~~~~~~~~~~~~~~~~~~~~~~~~~~        \n",
    "        \n",
    "        #NEW--prevent NaN gradients from crashing training routine(?) -- needed for monotonically increasing outputs?\n",
    "        current_gradients = tape.gradient(loss, model.trainable_variables)\n",
    "        current_gradients = [grad if grad is not None else tf.zeros_like(var) for grad, var in zip(current_gradients, model.trainable_variables)]\n",
    "        gradients = [grad_accum + current_grad for grad_accum, current_grad in zip(gradients, current_gradients)]        \n",
    "\n",
    "        # #OLD-- not working with CDF stuff\n",
    "        # current_gradients = tape.gradient(loss, model.trainable_variables)\n",
    "        # gradients = [grad_accum + current_grad for grad_accum, current_grad in zip(gradients, current_gradients)]    \n",
    "        \n",
    "        accumulated_loss += loss\n",
    "    \n",
    "    if i%accumulate_gradients_steps==0:    \n",
    "        optimizer.apply_gradients(zip(gradients, model.trainable_variables))\n",
    "        accumulated_loss = 0.0\n",
    "        gradients = [tf.zeros_like(var) for var in model.trainable_variables]\n",
    "        accumulated_loss = 0\n",
    "    \n",
    "    if i%i_plot==0:\n",
    "        # Render the holdout view for logging\n",
    "        rays_o, rays_d = get_rays(H, W, testpose, vertical_bins[-2], vertical_bins[-1]) #constant validation image\n",
    "        z_vals = tf.linspace(near, far, N_samples) \n",
    "        z_vals += tf.random.uniform(list(rays_o.shape[:-1]) + [N_samples]) * (far-near)/N_samples\n",
    "        z_vals = z_vals[:,:,:,None]\n",
    "#         depth, acc, ray_drop, weights = render_rays(model, rays_o, rays_d,  z_vals)\n",
    "#         depth, acc, ray_drop, weights, d1, d2 = render_rays(model, rays_o, rays_d,  z_vals)\n",
    "        # depth, ray_drop, CDF = render_rays(model, rays_o, rays_d,  z_vals)\n",
    "        depth, ray_drop, CDF, weights = render_rays(model, rays_o, rays_d,  z_vals)\n",
    "        depth = depth[:,:,None]\n",
    "        ray_drop = ray_drop[:,:,None]\n",
    "        target = testimg[:,:,:1]\n",
    "        target_drop_mask = testimg[:,:,1:]\n",
    "        # loss = calculate_loss(depth, ray_drop, target, target_drop_mask)\n",
    "        psnr = -10. * tf.math.log(loss) / tf.math.log(10.)\n",
    "        psnrs.append(psnr.numpy())\n",
    "        iternums.append(i)\n",
    "        p.figure(figsize=(10,4))\n",
    "        p.subplot(131)\n",
    "        p.imshow(depth,cmap = \"gray\")#, norm='log')\n",
    "        p.title(f'Estimated Depth at Iteration: {i}')\n",
    "#         p.imshow(testimg[:,:,1],cmap = \"gray\") #, norm='log')\n",
    "#         p.title(f'Actual Mask at Iteration: {i}')\n",
    "        p.subplot(133)\n",
    "        p.plot(iternums, psnrs)\n",
    "        p.title('PSNR')\n",
    "        #look at depth map\n",
    "        p.subplot(132)\n",
    "        p.imshow(ray_drop, cmap=\"gray\")#, norm = 'log')\n",
    "        p.title(\"estimated ray drop mask\")\n",
    "        p.show()\n",
    "print('Done')"
   ]
  },
  {
   "cell_type": "markdown",
   "id": "e54729b1",
   "metadata": {},
   "source": [
    "# Infer cloud at novel frame"
   ]
  },
  {
   "cell_type": "code",
   "execution_count": 11,
   "id": "58746e5f",
   "metadata": {},
   "outputs": [
    {
     "name": "stdout",
     "output_type": "stream",
     "text": [
      "(65536,)\n",
      "took:  11.426483154296875 s overall\n"
     ]
    },
    {
     "data": {
      "application/vnd.jupyter.widget-view+json": {
       "model_id": "304843d8058348c6863605b7c49f4698",
       "version_major": 2,
       "version_minor": 0
      },
      "text/plain": [
       "ViewInteractiveWidget(height=960, layout=Layout(height='auto', width='100%'), width=960)"
      ]
     },
     "execution_count": 11,
     "metadata": {},
     "output_type": "execute_result"
    }
   ],
   "source": [
    "num_view = 128 #128 #number of (rotational?) patches to draw\n",
    "N_samples = 256 #128 #2048 #does not have to match what was used in training\n",
    "near=0.\n",
    "far= 1. #0.25 #2.\n",
    "n_rots = 128 #128 #number |of horizontal patches per 2*pi\n",
    "n_vert_patches = 1 #number of vertical patches between phimin and phimax\n",
    "\n",
    "H = 64 // n_vert_patches\n",
    "W = 1024 // n_rots\n",
    "phimin = np.deg2rad(-15.593) #observed in raw data\n",
    "phimax = np.deg2rad(17.743)\n",
    "# phimin = np.deg2rad(-17.743) #TEST\n",
    "# phimax = np.deg2rad(15.593) #TEST\n",
    "# phimin = np.deg2rad(-16) #TEST\n",
    "# phimax = np.deg2rad(16) #TEST\n",
    "# phimin = np.deg2rad(-5) #test -- trying flipped sign first\n",
    "# phimax = np.deg2rad(25)  #test\n",
    "\n",
    "plt = Plotter(N = 1, axes = 0, bg = (1, 1, 1), interactive = True) #axes = 4 (simple), 1(scale)\n",
    "disp=[]\n",
    "savepc = np.zeros([0,3]) #to save poitn cloud to external file\n",
    "\n",
    "very_beginning = time.time()\n",
    "\n",
    "for j in range(num_view):\n",
    "# for j in range(12,116):\n",
    "    before = time.time()\n",
    "    #get sensor transformation matrix\n",
    "    rotm = np.eye(4)\n",
    "\n",
    "    # account for image crop in rotation -------------------\n",
    "    crop_angle =  -(np.pi/n_rots) + j*(2*np.pi/n_rots)\n",
    "    rotm_crop = R.from_euler('xyz', [0,-crop_angle + np.pi/2,0]).as_matrix()\n",
    "    rotm[:3,:3] = rotm[:3,:3] @ rotm_crop\n",
    "\n",
    "#     #need to account for the fact that the LIDAR beam isn't actually centered at horizon\n",
    "#     sensor_elevation_zero_rotm = R.from_euler('xyz', [(phimin+phimax)/2,0,0]).as_matrix()\n",
    "#     rotm[:3,:3] = rotm[:3,:3] @ sensor_elevation_zero_rotm\n",
    "    # ------------------------------------------------------\n",
    "\n",
    "    # flip x and z axis\n",
    "    rotm[0,-1], rotm[2,-1] = rotm[2,-1], rotm[0,-1] \n",
    "\n",
    "    rotm[0:3,2] *= -1 # flip sign of y and z axis\n",
    "    rotm[0:3,1] *= -1\n",
    "    rotm = rotm[[1,0,2,3],:]\n",
    "    rotm[2,:] *= -1 # flip whole world upside down\n",
    "#     #main courtyard\n",
    "#     rotm[2,-1] = 0.325  #x in world frame output\n",
    "#     rotm[0,-1] = 0.008 #z in world frame output\n",
    "#     rotm[1,-1] = 0.325  #y in world frame\n",
    "    rotm[2,-1] = 0.45  #x in world frame output\n",
    "    rotm[0,-1] = 0.01 #z in world frame output\n",
    "    rotm[1,-1] = 0.40  #y in world frame\n",
    "#     rotm[2,-1] = 0.2656  #x in world frame output     #starting orientation\n",
    "#     rotm[0,-1] = 0.006 #0.0086 #z in world frame output\n",
    "#     rotm[1,-1] = 0.3254  #y in world frame\n",
    "# #     #forest\n",
    "#     rotm[2,-1] = 0.299  #x in world frame output\n",
    "#     rotm[0,-1] = 0.012 #z in world frame output\n",
    "#     rotm[1,-1] = 0.365  #y in world frame\n",
    "\n",
    "    rotm = rotm.astype(np.float32)\n",
    "    \n",
    "    vertical_bins = np.linspace(phimin, phimax, n_vert_patches+1)\n",
    "    phimin_patch = vertical_bins[img_i%n_vert_patches] \n",
    "    phimax_patch = vertical_bins[img_i%n_vert_patches + 1]\n",
    "#     print(phimin_patch, phimax_patch)\n",
    "    \n",
    "    #call NeRF using specified novel rotm\n",
    "    rays_o, rays_d = get_rays(H, W, rotm, phimin_patch, phimax_patch)\n",
    "#     depth, acc, ray_drop = render_rays(model, rays_o, rays_d, near=0., far=2., N_samples=N_samples)\n",
    "    z_vals = tf.linspace(near, far, N_samples) \n",
    "    z_vals += 1.0*tf.random.uniform(list(rays_o.shape[:-1]) + [N_samples]) * (far-near)/N_samples\n",
    "    z_vals = z_vals[:,:,:,None]\n",
    "    \n",
    "    depth, ray_drop, CDF, weights = render_rays(model, rays_o, rays_d,  z_vals, fine = False)\n",
    "    elapsed = time.time() - before\n",
    "#     print(\"1 forward pass took \", elapsed, \"s\")\n",
    "    begin_other = time.time()\n",
    "    \n",
    "    #~~~~~~~~~~~\n",
    "    #run fine pass through network\n",
    "    fwd = np.append(np.zeros([np.shape(weights)[0], np.shape(weights)[1], 1]), weights, axis = -1)\n",
    "    rev = np.append(weights, np.zeros([np.shape(weights)[0], np.shape(weights)[1], 1]), axis = -1)\n",
    "    fwd_test = np.max(sliding_window_view(fwd, window_shape = 2, axis = 2), axis = -1)\n",
    "    rev_test = np.max(sliding_window_view(rev, window_shape = 2, axis = 2), axis = -1)\n",
    "#     fwd = np.append(np.zeros([np.shape(weights)[0], np.shape(weights)[1], 3]), weights, axis = -1)\n",
    "#     rev = np.append(weights, np.zeros([np.shape(weights)[0], np.shape(weights)[1], 3]), axis = -1)\n",
    "#     fwd_test = np.max(sliding_window_view(fwd, window_shape = 4, axis = 2), axis = -1)\n",
    "#     rev_test = np.max(sliding_window_view(rev, window_shape = 4, axis = 2), axis = -1)\n",
    "    test2 = (fwd_test + rev_test) /2 #blur\n",
    "    test2 += 1/(3*N_samples) #shift up slightly\n",
    "    test2 = test2 / np.sum(test2, axis = -1)[:,:,None] #renormalize\n",
    "    cum_hist_vals = np.cumsum(test2, axis = -1)\n",
    "    randy = np.sort(0.1*np.random.randn(N_samples*W*H)) \n",
    "    cum_hist_vals_flat = cum_hist_vals.flatten()\n",
    "    step_corr = np.linspace(0,W*H-1,W*H)\n",
    "    step_corr = np.tile(step_corr,(N_samples,1)).T\n",
    "    step_corr = np.reshape(step_corr, [1,-1])[0,:]\n",
    "    cum_hist_vals_flat+= step_corr\n",
    "    linear_spaced = np.linspace(near, H*W, N_samples*H*W)\n",
    "    #fix spacing-- go all the way through [min, max] on every channel???\n",
    "#     linear_spaced = np.linspace(near, far, N_samples)\n",
    "#     linear_spaced = np.tile(linear_spaced, (H*W))\n",
    "#     linear_spaced += step_corr\n",
    "    ans = np.interp(x=linear_spaced, xp=cum_hist_vals_flat, fp=linear_spaced)\n",
    "#     print(ans)\n",
    "    ans -= step_corr\n",
    "    ans *= far\n",
    "    ans = np.abs(ans) + 1/N_samples #took forever to figure this one out...\n",
    "    z_vals = np.reshape(ans, [H,W,N_samples,1])\n",
    "    depth, ray_drop, CDF, weights = render_rays(model, rays_o, rays_d,  z_vals, fine = False\n",
    "                                               )\n",
    "    #~~~~~~~~~~~\n",
    "        \n",
    "    #TEST---- run through again??\n",
    "    ##TODO-- issue is in using <linear_spaced> a 2nd time since z_vals fed in are not uniform anymore\n",
    "    \n",
    "    new_point_cloud_spherical = np.zeros([np.shape(depth)[0]*np.shape(depth)[1],3])\n",
    "    depth = tf.transpose(depth).numpy() #need this\n",
    "    depth = np.flip(depth, axis = 0) #needed\n",
    "\n",
    "    #scale back up to normal size\n",
    "    depth *= 200 #200 #50 #200\n",
    "    ray_drop = tf.transpose(ray_drop).numpy() #test\n",
    "    ray_drop = np.flip(ray_drop, axis = 0) #test\n",
    "    \n",
    "    count = 0\n",
    "    for w in range(W):\n",
    "        for h in range(H):\n",
    "#             new_point_cloud_spherical[count,0] = depth[w,h] #radius #draw all points\n",
    "            if ray_drop[w,h] > 0.9:             \n",
    "                    new_point_cloud_spherical[count,0] = depth[w,h] #radius\n",
    "            else:\n",
    "                    new_point_cloud_spherical[count,0] = 0#100 # suppress ray dropped points\n",
    "            new_point_cloud_spherical[count,1] = (w-(1024//(2*n_rots)))/(2048//(2*n_rots))*(2*np.pi/n_rots)   #was this\n",
    "            new_point_cloud_spherical[count,2] = np.pi/2 + phimax - (phimax-phimin)*(h/(np.shape(images)[1] - 1)) #[17.74,-15.59] #(correct)       \n",
    "            count+= 1\n",
    "\n",
    "    new_point_cloud_spherical[:,1] -= (np.pi/n_rots) - j*(2*np.pi/n_rots) + np.pi #test\n",
    "    new_point_cloud_spherical[:,2] -= (phimax+phimin)\n",
    "    \n",
    "    new_point_cloud_cart = LC.s2c(LC,new_point_cloud_spherical).numpy() #was this\n",
    "    new_point_cloud_cart[:,2] = -new_point_cloud_cart[:,2] #need to flip z \n",
    "#     new_point_cloud_cart[:,1] = -new_point_cloud_cart[:,1] #flip another axis to get back to LHCS (synthetic data only?)\n",
    "\n",
    "    disp.append(Points(new_point_cloud_cart, c = 'gray', r = 3, alpha = 0.5))\n",
    "#     # rainbow by z height\n",
    "#     zheight = 100*(np.sin(0.25*new_point_cloud_cart[:,2])+1)\n",
    "#     cname = np.array([1-zheight, zheight, 1.5*zheight]).T.tolist()\n",
    "#     disp.append(Points(new_point_cloud_cart, c = cname, r = 2, alpha = 0.5))\n",
    "    savepc = np.append(savepc, new_point_cloud_cart, axis = 0)\n",
    "#     print(\"took \", time.time() - begin_other, \"s to do the rest\")\n",
    "\n",
    "#get rid of points at origin\n",
    "d = np.sqrt(np.sum(savepc**2, axis = 1))\n",
    "print(np.shape(d))\n",
    "good  = np.argwhere(d > 1)[:,0]\n",
    "savepc = savepc[good]\n",
    "\n",
    "\n",
    "print(\"took: \", time.time() - very_beginning,\"s overall\")\n",
    "# print(testpose)\n",
    "# print(\"\\n\", rotm)\n",
    "plt.show(disp, \"CDF with L1+L2 Loss, train on 64x8 patches, mask oblique surfaces\")\n",
    "ViewInteractiveWidget(plt.window)"
   ]
  },
  {
   "cell_type": "markdown",
   "id": "6d1af64a",
   "metadata": {},
   "source": [
    "# Test creating arbitrary bins for coarse and fine network outputs"
   ]
  },
  {
   "cell_type": "code",
   "execution_count": 1926,
   "id": "76fc2ca3",
   "metadata": {},
   "outputs": [],
   "source": [
    "n_bins_coarse = 5\n",
    "bins_coarse = np.linspace(0,1,n_bins_coarse)\n",
    "w_coarse = np.gradient(bins_coarse)\n",
    "# bins_coarse = bins_coarse+w_coarse/2\n",
    "w_coarse[-1] = 0\n",
    "vals_coarse = abs(1/(0.6 - bins_coarse))\n",
    "vals_coarse = vals_coarse/np.sum(vals_coarse)\n",
    "\n",
    "n_bins_fine = 30\n",
    "bins_fine = np.linspace(0,1,n_bins_fine)**0.5\n",
    "# bins_fine = np.sin(np.linspace(0,1,n_bins_fine))\n",
    "vals_fine = abs(1/((0.6 - bins_fine)*(0.9 - bins_fine)))\n",
    "w_fine = np.diff(bins_fine)\n",
    "w_fine = np.append(w_fine, 0)\n",
    "# bins_fine = bins_fine+w_fine/2\n",
    "vals_fine = vals_fine/np.sum(vals_fine)"
   ]
  },
  {
   "cell_type": "code",
   "execution_count": 1927,
   "id": "0f81a404",
   "metadata": {},
   "outputs": [
    {
     "data": {
      "text/plain": [
       "<matplotlib.legend.Legend at 0x7f807c944f40>"
      ]
     },
     "execution_count": 1927,
     "metadata": {},
     "output_type": "execute_result"
    },
    {
     "data": {
      "image/png": "[encoded data removed]",
      "text/plain": [
       "<Figure size 640x480 with 1 Axes>"
      ]
     },
     "metadata": {},
     "output_type": "display_data"
    }
   ],
   "source": [
    "from matplotlib import pyplot as p\n",
    "fig, ax = p.subplots()\n",
    "\n",
    "ax.bar(bins_coarse+w_coarse/2, vals_coarse * (n_bins_coarse/n_bins_fine), width = w_coarse, \n",
    "       color ='red', edgecolor = 'black', label = \"coarse (normalized)\", alpha = 0.5);\n",
    "# ax.scatter(bins_coarse, np.zeros(len(bins_coarse)), color = 'red')\n",
    "ax.bar(bins_fine+w_fine/2, vals_fine, width = w_fine, color = 'blue', \n",
    "       label = \"fine\", edgecolor = 'black', alpha = 0.5);\n",
    "# ax.scatter(bins_fine, np.zeros(len(bins_fine)), color = 'blue')\n",
    "\n",
    "ax.set_xlabel(\"s\")\n",
    "ax.set_ylabel(\"R(s)\")\n",
    "ax.legend(loc=\"upper left\")"
   ]
  },
  {
   "cell_type": "code",
   "execution_count": 1928,
   "id": "f4f1ea14",
   "metadata": {},
   "outputs": [
    {
     "name": "stdout",
     "output_type": "stream",
     "text": [
      "L[i] 0.0\n",
      "L[i] 0.0\n",
      "L[i] 0.0\n",
      "L[i] 0.3017487424293642\n",
      "0.3017487424293642\n"
     ]
    }
   ],
   "source": [
    "#Calculate loss for a given region in the coarse histogram\n",
    "# print(bins_coarse)\n",
    "# print(bins_fine)\n",
    "# print(np.sum(vals_coarse), np.sum(vals_fine))\n",
    "\n",
    "L = np.zeros(len(bins_coarse))\n",
    "for i in range(len(bins_coarse) - 1):\n",
    "    #get sample locations in fine distribution that fall within bin i of coarse distribution\n",
    "    small_enough_idx = np.where(bins_fine < bins_coarse[i+1])\n",
    "    big_enough_idx = np.where(bins_fine >= bins_coarse[i])\n",
    "    idx_in_range = np.intersect1d(small_enough_idx, big_enough_idx)\n",
    "\n",
    "    fine_in_bin = np.sum(vals_fine[idx_in_range])\n",
    "#     print(\"\\n coarse at i: \", vals_coarse[i])\n",
    "#     print(\"fine at i:\", fine_in_bin)\n",
    "  \n",
    "    L[i] = max(0, fine_in_bin -  vals_coarse[i])\n",
    "    print(\"L[i]\", L[i])\n",
    "print(np.sum(L))"
   ]
  },
  {
   "cell_type": "markdown",
   "id": "c7ae2783",
   "metadata": {},
   "source": [
    "# Recreating the above process in parallel using tensorflow"
   ]
  },
  {
   "cell_type": "code",
   "execution_count": 2547,
   "id": "edf11630",
   "metadata": {},
   "outputs": [],
   "source": [
    "import tensorflow_probability as tfp\n",
    "#make arbitrary fine distributions (what the fine netork of the scene)\n",
    "#  these vary in inferred density as well as sampling location\n",
    "H = 8\n",
    "W = 2\n",
    "n_bins_fine = 128\n",
    "n_bins_coarse = 8\n",
    "\n",
    "#create random sinusoidal peaks\n",
    "randy = np.pi*tf.random.uniform([H,W, 2])\n",
    "# print(np.shape(randy))\n",
    "lin = tf.cast(tf.linspace(0,1,n_bins_fine), tf.float32)\n",
    "lin = tf.tile(lin[None,None,:,None], [H,W,1,1])\n",
    "weights_fine = (tf.math.sin(randy[...,:1,None]*np.pi*lin + randy[...,1:2,None]) +1)/2\n",
    "weights_fine = weights_fine/tf.math.reduce_sum(weights_fine, axis = 2)[:,:,:,None] #normalize to sum to 1\n",
    "\n",
    "z_vals_coarse = tf.cast(tf.linspace(0,1,n_bins_coarse), tf.float32)\n",
    "z_vals_coarse = tf.tile(z_vals_coarse[None,None,:,None], [H,W,1,1])\n",
    "# print(np.shape(z_vals_coarse))\n",
    "weights_coarse = (tf.math.sin(randy[...,:1,None]*np.pi*z_vals_coarse + randy[...,1:2,None]) +1)/2\n",
    "weights_coarse = weights_coarse/tf.math.reduce_sum(weights_coarse, axis = 2)[:,:,:,None] #normalize to sum to 1\n",
    "\n",
    "w_coarse = tf.experimental.numpy.diff(z_vals_coarse, axis = 2)\n",
    "padding_config = [[0, 0],[0, 0],[0, 1],[0, 0]]\n",
    "w_coarse = tf.pad(w_coarse, padding_config, constant_values=0.001)\n",
    "\n",
    "\n",
    "#init z_vals [h, w, n_samples, 1]\n",
    "#create inconsistant spacing for z vals in fine rays\n",
    "randy2 = np.pi*tf.cast(tf.random.uniform([H,W, 2]),tf.float32) \n",
    "# randy2 = 1-randy\n",
    "#same as \"bins_fine\" in previous\n",
    "z_vals_fine = (tf.math.sin(np.pi*randy2[...,:1,None]*lin + randy2[...,1:,None]) + 2 ) /3\n",
    "# z_vals = (tf.math.sin(np.pi*randy2[:,:1]*lin + randy2[:,1:]) + 1 ) /2\n",
    "z_vals_fine = tf.cumsum(z_vals_fine, axis = -2)\n",
    "# print(\"z_vals\", np.shape(z_vals))\n",
    "z_vals_fine -= z_vals_fine[:,:,:1,:]\n",
    "z_vals_fine /= z_vals_fine[:,:,-1:,:]\n",
    "# print(\"test\", np.shape(z_vals_fine[:,:,-1:,:]))\n",
    "# print(z_vals[0,0,:,0])\n",
    "\n",
    "w_fine = tf.experimental.numpy.diff(z_vals_fine, axis = 2)\n",
    "padding_config = [[0, 0],[0, 0],[0, 1],[0, 0]]\n",
    "w_fine = tf.pad(w_fine, padding_config)\n",
    "# print(np.shape(w_fine))"
   ]
  },
  {
   "cell_type": "code",
   "execution_count": 2548,
   "id": "c796c919",
   "metadata": {},
   "outputs": [
    {
     "name": "stdout",
     "output_type": "stream",
     "text": [
      "L_i: -0.19924834\n",
      "L_along_ray tf.Tensor(\n",
      "[-0.18692824 -0.         -0.         -0.         -0.         -0.\n",
      " -0.0123201  -0.        ], shape=(8,), dtype=float32)\n"
     ]
    },
    {
     "data": {
      "text/plain": [
       "<matplotlib.legend.Legend at 0x7f805b635640>"
      ]
     },
     "execution_count": 2548,
     "metadata": {},
     "output_type": "execute_result"
    },
    {
     "data": {
      "image/png": "[encoded data removed]",
      "text/plain": [
       "<Figure size 640x480 with 1 Axes>"
      ]
     },
     "metadata": {},
     "output_type": "display_data"
    }
   ],
   "source": [
    "#~~~~~~~~~~~~~~~~~~~~~~~~~~~\n",
    "#TODO-- get area under curve, not just sum of weights!!!\n",
    "\n",
    "zc = z_vals_coarse[0,0,:,0]\n",
    "zf = z_vals_fine[0,0,:,0]\n",
    "#get index of which bin in coarse each bar in fine belongs inside of\n",
    "indices = tf.searchsorted(zc, zf, side='right')-1\n",
    "\n",
    "# Old-- just look at bar heights (not quite right)\n",
    "# fine_sum = tf.math.segment_sum(weights_fine[0,0,:,0], indices) \n",
    "\n",
    "#New-- scale by bar widths\n",
    "# fine_sum = tf.math.segment_sum(weights_fine[0,0,:,0]*w_fine[0,0,:,0], indices) \n",
    "# fine_sum *= (n_bins_coarse-1)/n_bins_coarse\n",
    "# fine_sum = fine_sum/w_coarse[0,0,:,0]\n",
    "# fine_sum /= np.sum(fine_sum)\n",
    "# fine_sum *= (n_bins_coarse-1)/(n_bins_fine-1)\n",
    "fine_sum = tf.math.segment_sum(weights_fine[0,0,:,0]*w_fine[0,0,:,0], indices)/w_coarse[0,0,:,0]\n",
    "# print(w_coarse)\n",
    "# print(fine_sum)\n",
    "\n",
    "mask = tf.cast(fine_sum > weights_coarse[0,0,:,0]* (n_bins_coarse/n_bins_fine), tf.float32)\n",
    "L_i = tf.math.reduce_sum((mask*(fine_sum-weights_coarse[0,0,:,0])))\n",
    "L_along_ray = mask*(fine_sum-weights_coarse[0,0,:,0])\n",
    "# print(L_along_ray)\n",
    "print(\"L_i:\", L_i.numpy())\n",
    "print(\"L_along_ray\", L_along_ray)\n",
    "#~~~~~~~~~~~~~~~~~~~~~~~~~~~~\n",
    "\n",
    "fig, ax = p.subplots()\n",
    "\n",
    "# ax.scatter(z_vals_fine[0,0,:,0],  tf.ones(np.shape(z_vals_fine)[2]))\n",
    "# ax.scatter(z_vals_fine[0,0,:,0],  weights_fine[0,0,:,0])\n",
    "# ax.scatter(z_vals_coarse[0,0,:,0],  weights_coarse[0,0,:,0] *  (n_bins_coarse/n_bins_fine) )\n",
    "#     ax.scatter(z_vals_fine[0,j,:,0],  weights_fine[0,j,:,0])\n",
    "#     ax.plot(z_vals_fine[0,j,:,0],  weights_fine[0,j,:,0])\n",
    "ax.bar(z_vals_coarse[0,j,:,0]+w_coarse[0,j,:,0]/2, weights_coarse[0,j,:,0]* (n_bins_coarse/n_bins_fine), width = w_coarse[0,j,:,0], \n",
    "   label = \"predicted density\", edgecolor = 'black', alpha = 0.5);\n",
    "# ax.bar(z_vals_coarse[0,j,:,0]+w_coarse[0,j,:,0]/2, weights_coarse[0,j,:,0], width = w_coarse[0,j,:,0], \n",
    "#    label = \"coarse (scaled)\", edgecolor = 'black', alpha = 0.5);\n",
    "ax.bar(z_vals_fine[0,0,:,0]+w_fine[0,0,:,0]/2, weights_fine[0,0,:,0], width = w_fine[0,j,:,0], \n",
    "   label = \"density output by fine network\", edgecolor = 'black', alpha = 0.5);\n",
    "ax.bar(z_vals_coarse[0,0,:,0]+w_coarse[0,0,:,0]/2, fine_sum, width = w_coarse[0,j,:,0], \n",
    "   label = \"fine sum\", edgecolor = 'black', hatch = '/', alpha = 0.2);\n",
    "\n",
    "# #stacked bar chart for loss\n",
    "# ax.bar(z_vals_coarse[0,0,:,0]+w_coarse[0,0,:,0]/2, -L_along_ray * (n_bins_coarse/n_bins_fine),\n",
    "#        width = w_coarse[0,0,:,0], bottom = weights_coarse[0,0,:,0] * (n_bins_coarse/n_bins_fine),\n",
    "#        label = \"loss\", color = 'red', edgecolor = 'black', hatch = '//', alpha = 0.2);\n",
    "\n",
    "\n",
    "ax.legend()\n",
    "# print(\"fine_sum\", fine_sum)\n",
    "# print(fine_sum > weights_coarse[0,0,:,0])"
   ]
  },
  {
   "cell_type": "code",
   "execution_count": 2549,
   "id": "cd1ae3fc",
   "metadata": {
    "scrolled": true
   },
   "outputs": [
    {
     "name": "stdout",
     "output_type": "stream",
     "text": [
      "tf.Tensor(\n",
      "[[0.19924834 0.        ]\n",
      " [0.26458985 0.25803208]\n",
      " [0.23988017 0.8640675 ]\n",
      " [0.27643642 0.25654387]\n",
      " [0.39272022 0.46870735]\n",
      " [0.10525934 0.36453098]\n",
      " [0.00505973 0.19292696]\n",
      " [0.249486   0.35872003]], shape=(8, 2), dtype=float32)\n"
     ]
    }
   ],
   "source": [
    "def calculate_loss_coarse_network(z_vals_coarse, z_vals_fine, weights_coarse, weights_fine):\n",
    "    '''Calculate loss for coarse network. Given histograms for scene density outptut by fine network,\n",
    "    see how close the density estimated by the coarse network got us.'''\n",
    "    \n",
    "    def run_on_ray(index): \n",
    "        i, j = index\n",
    "        zc = z_vals_coarse[i, j]\n",
    "        zf = z_vals_fine[i, j]\n",
    "        wc = weights_coarse[i, j]\n",
    "        wf = weights_fine[i, j]\n",
    "        width_fine_for_ray = width_fine[i,j] \n",
    "        width_coarse_for_ray = width_coarse[i,j]\n",
    "        \n",
    "        # Get index of which bin in coarse each bar in fine belongs inside of\n",
    "        idx = tf.searchsorted(zc, zf, side='right') - 1\n",
    "        # weight \"weights\" by bar width and sum within each coarse bin\n",
    "#         print(tf.math.segment_sum(wf*width_fine_for_ray, idx))\n",
    "#         print(width_coarse_for_ray)\n",
    "        fine_sum = tf.math.segment_sum(wf*width_fine_for_ray, idx)/width_coarse_for_ray\n",
    "#         print(\"fine_sum\",fine_sum)\n",
    "\n",
    "        mask = tf.cast(fine_sum > wc * (n_bins_coarse/n_bins_fine) , tf.float32)\n",
    "        L_i = tf.math.reduce_sum(mask*(fine_sum-wc))\n",
    "        return L_i\n",
    "    \n",
    "    #get spacing between subsequent z measurements in z_vals_fine to weight contributions\n",
    "    width_fine = tf.experimental.numpy.diff(z_vals_fine, axis = 2)\n",
    "#     print(np.shape(width_fine))\n",
    "    padding_config = [[0, 0],[0, 0],[0, 1]]\n",
    "    width_fine = tf.pad(width_fine, padding_config)\n",
    "#     print(np.shape(width_fine))\n",
    "    \n",
    "    width_coarse = tf.experimental.numpy.diff(z_vals_coarse, axis = 2)\n",
    "    padding_config = [[0, 0],[0, 0],[0, 1]]\n",
    "    width_coarse = tf.pad(width_coarse, padding_config, constant_values=0.001)\n",
    "#     print(np.shape(width_coarse))\n",
    "    \n",
    "    #map over each batch dimension\n",
    "    indices = tf.stack(tf.meshgrid(tf.range(z_vals_coarse.shape[0]), tf.range(z_vals_coarse.shape[1]), indexing='ij'), axis=-1)\n",
    "    indices = tf.reshape(indices, (-1, 2))\n",
    "    \n",
    "    # Use tf.map_fn to apply the function in parallel over indices\n",
    "    L = tf.map_fn(run_on_ray, indices, fn_output_signature=tf.float32)\n",
    "    L = -tf.reshape(L, (z_vals_coarse.shape[0], z_vals_coarse.shape[1]))\n",
    "    \n",
    "    return L\n",
    "\n",
    "L = calculate_loss_coarse_network(z_vals_coarse[...,0], z_vals_fine[...,0], weights_coarse[...,0], weights_fine[...,0])\n",
    "print(L)"
   ]
  },
  {
   "cell_type": "markdown",
   "id": "07a1b84f",
   "metadata": {},
   "source": [
    "# Upsampling from coarse to fine distribution"
   ]
  },
  {
   "cell_type": "code",
   "execution_count": 2555,
   "id": "fd17d338",
   "metadata": {},
   "outputs": [
    {
     "name": "stdout",
     "output_type": "stream",
     "text": [
      "tf.Tensor(\n",
      "[0.0000000e+00 1.5711252e-01 5.0558928e-02 3.9916078e-05 4.5598593e-02\n",
      " 1.5112354e-01 2.3297217e-01 2.2626838e-01], shape=(8,), dtype=float32)\n"
     ]
    },
    {
     "data": {
      "text/plain": [
       "<matplotlib.collections.PathCollection at 0x7f805b1472e0>"
      ]
     },
     "execution_count": 2555,
     "metadata": {},
     "output_type": "execute_result"
    },
    {
     "data": {
      "image/png": "[encoded data removed]",
      "text/plain": [
       "<Figure size 640x480 with 2 Axes>"
      ]
     },
     "metadata": {},
     "output_type": "display_data"
    }
   ],
   "source": [
    "look_at = 4 #0\n",
    "zc = z_vals_coarse[look_at,0,:,0]\n",
    "zf = z_vals_fine[look_at,0,:,0]\n",
    "wc = weights_coarse[look_at,0,:,0]\n",
    "wf = weights_fine[look_at,0,:,0]\n",
    "width_coarse = w_coarse[look_at,0,:,0]\n",
    "width_fine = w_fine[look_at,0,:,0]\n",
    "\n",
    "fig, ax = p.subplots(2,1)\n",
    "ax[0].bar(zc+width_coarse/2, wc, width = width_coarse, \n",
    "   label = \"predicted density\", edgecolor = 'black', alpha = 0.5);\n",
    "ax[0].scatter(zc,  tf.zeros_like(wc))\n",
    "\n",
    "n_resample = 100\n",
    "wc = tf.pad(wc[:,None], [[1,0], [0,0]] )[:-1,0]\n",
    "print(wc)\n",
    "wc_cdf = tf.math.cumsum(wc/tf.math.reduce_sum(wc))\n",
    "# print(\"wc_cdf: \\n\", wc_cdf.numpy())\n",
    "randy = tf.sort(tf.random.uniform([n_resample]))\n",
    "# print(\"randy: \\n \", randy.numpy())\n",
    "idx = tf.searchsorted(wc_cdf, randy, side='right')\n",
    "# print(\"idx: \\n\", idx.numpy())\n",
    "\n",
    "cdf_left = tf.gather(wc_cdf, idx - 1)\n",
    "# print(\"cdf_left:\\n\", cdf_left.numpy())\n",
    "cdf_right = tf.gather(wc_cdf, idx)\n",
    "values_left = tf.gather(zc, idx - 1)\n",
    "# print(\"values_left:\\n\", values_left.numpy())\n",
    "values_right = tf.gather(zc, idx)\n",
    "\n",
    "weights = (randy - cdf_left) / (cdf_right - cdf_left)\n",
    "continuous_samples = values_left + weights * (values_right - values_left)\n",
    "# print(continuous_samples)\n",
    "\n",
    "ax[1].plot(wc_cdf)\n",
    "ax[0].scatter(continuous_samples, tf.zeros_like(continuous_samples), alpha = 0.5)"
   ]
  },
  {
   "cell_type": "code",
   "execution_count": 2565,
   "id": "5d7c5fae",
   "metadata": {},
   "outputs": [
    {
     "data": {
      "text/plain": [
       "<matplotlib.collections.PathCollection at 0x7f805aa87be0>"
      ]
     },
     "execution_count": 2565,
     "metadata": {},
     "output_type": "execute_result"
    },
    {
     "data": {
      "image/png": "[encoded data removed]",
      "text/plain": [
       "<Figure size 640x480 with 1 Axes>"
      ]
     },
     "metadata": {},
     "output_type": "display_data"
    }
   ],
   "source": [
    "#updated to run in parallel about two batch dimensions\n",
    "def resample_z_vals(z_vals_coarse, z_vals_fine, weights_coarse, weights_fine, w_coarse, w_fine, n_resample=128):\n",
    "    zc = z_vals_coarse[:,:,:,0]\n",
    "    zf = z_vals_fine[:,:,:,0]\n",
    "    wc = weights_coarse[:,:,:,0]\n",
    "    wf = weights_fine[:,:,:,0]\n",
    "    width_coarse = w_coarse[:,:,:,0]\n",
    "    width_fine = w_fine[:,:,:,0]\n",
    "\n",
    "    # Pad weights for CDF computation, removing the first padded value after\n",
    "    wc_padded = tf.pad(wc, [[0, 0], [0, 0], [1, 0]], constant_values=0)[:, :, :-1]\n",
    "\n",
    "    # Compute the cumulative sum (CDF) across the last axis\n",
    "    wc_cdf = tf.math.cumsum(wc_padded / tf.math.reduce_sum(wc_padded, axis=-1, keepdims=True), axis=-1)\n",
    "\n",
    "    # Generate uniform random samples, sorting to ensure they're in CDF order\n",
    "    randy = tf.sort(tf.random.uniform([H, W, n_resample]), axis=-1)\n",
    "\n",
    "    # Find the indices in the CDF where the random samples should be inserted\n",
    "    idx = tf.searchsorted(wc_cdf, randy, side='right')\n",
    "\n",
    "    # Gather CDF and z-values for left and right indices\n",
    "    cdf_left = tf.gather(wc_cdf, idx - 1, batch_dims=2)\n",
    "    cdf_right = tf.gather(wc_cdf, idx, batch_dims=2)\n",
    "    values_left = tf.gather(zc, idx - 1, batch_dims=2)\n",
    "    values_right = tf.gather(zc, idx, batch_dims=2)\n",
    "\n",
    "    # Interpolate to get the continuous sample values\n",
    "    weights = (randy - cdf_left) / (cdf_right - cdf_left)\n",
    "    z_vals_new = values_left + weights * (values_right - values_left)\n",
    "\n",
    "    return z_vals_new\n",
    "\n",
    "continuous_samples = resample_z_vals(z_vals_coarse, z_vals_fine, weights_coarse, weights_fine, w_coarse, w_fine)\n",
    "\n",
    "fig, ax = p.subplots()\n",
    "look_at = 4\n",
    "ax.bar(z_vals_coarse[look_at,0,:,0]+w_coarse[look_at,0,:,0]/2, weights_coarse[look_at,0,:,0], \n",
    "       width = w_coarse[look_at,0,:,0], label = \"predicted density\", edgecolor = 'black', alpha = 0.5);\n",
    "ax.scatter(continuous_samples[look_at,0,:], tf.zeros_like(continuous_samples[look_at,0,:]), alpha = 0.5)"
   ]
  },
  {
   "cell_type": "markdown",
   "id": "d0484302",
   "metadata": {},
   "source": [
    "# TODO:  \n",
    "1. expand z_vals to correct dimensions\n",
    "2. get widths_fine with TF\n",
    "3. Make dummy coarse data\n",
    "4. get loss function working in parallel with TF\n",
    "5. do inverse sampling from coarse network\n",
    "\n",
    "* get inverse sampling working efficiently in parallel\n",
    "* put in training loop"
   ]
  },
  {
   "cell_type": "code",
   "execution_count": 1827,
   "id": "99d7f496",
   "metadata": {},
   "outputs": [
    {
     "name": "stdout",
     "output_type": "stream",
     "text": [
      "(3, 2, 3)\n"
     ]
    }
   ],
   "source": [
    "test = tf.constant([[[0.1, 0.2, 0.3], [0.4, 0.5, 0.6]], [[0.1, 0.2, 0.3], [0.4, 0.5, 0.6]], [[0.1, 0.2, 0.3], [0.4, 0.5, 0.6]]])\n",
    "print(np.shape(test))"
   ]
  },
  {
   "cell_type": "code",
   "execution_count": null,
   "id": "439ddeee",
   "metadata": {},
   "outputs": [],
   "source": []
  },
  {
   "cell_type": "code",
   "execution_count": 1867,
   "id": "64919d10",
   "metadata": {},
   "outputs": [
    {
     "name": "stdout",
     "output_type": "stream",
     "text": [
      "tf.Tensor(\n",
      "[[ 8  7]\n",
      " [17 13]\n",
      " [26  8]], shape=(3, 2), dtype=int32)\n",
      "tf.Tensor(8, shape=(), dtype=int32)\n",
      "tf.Tensor(8, shape=(), dtype=int32)\n"
     ]
    }
   ],
   "source": [
    "def foo(inputs):\n",
    "    x, y = inputs\n",
    "    out = tf.math.reduce_sum(x) + y\n",
    "    return out\n",
    "\n",
    "# Define a function that processes each element using foo\n",
    "def map_fn(index):\n",
    "    return foo((d[index[0], index[1]], y[index[0], index[1]]))\n",
    "\n",
    "a = tf.constant([[1, 2, 3, 1], [1, 2, 3, 0]])\n",
    "b = tf.constant([[4, 5, 6, 1], [1, 2, 8, 1]])\n",
    "c = tf.constant([[7, 8, 9, 1], [1, 2, 3, 1]])\n",
    "d = tf.stack([a, b, c])\n",
    "y = tf.constant([[1, 1], [1, 1], [1, 1]])  # Shape (3, 2)\n",
    "\n",
    "# Create indices to map over\n",
    "indices = tf.stack(tf.meshgrid(tf.range(d.shape[0]), tf.range(d.shape[1]), indexing='ij'), axis=-1)\n",
    "indices = tf.reshape(indices, (-1, 2))\n",
    "\n",
    "# Use tf.map_fn to apply the function over indices\n",
    "results = tf.map_fn(map_fn, indices, fn_output_signature=tf.int32)\n",
    "results = tf.reshape(results, (d.shape[0], d.shape[1]))\n",
    "\n",
    "# Test outputs\n",
    "print(results)\n",
    "print(results[2, 1])\n",
    "print(foo((d[2, 1], y[2, 1])))"
   ]
  }
 ],
 "metadata": {
  "kernelspec": {
   "display_name": "Python (py39)",
   "language": "python",
   "name": "py39"
  },
  "language_info": {
   "codemirror_mode": {
    "name": "ipython",
    "version": 3
   },
   "file_extension": ".py",
   "mimetype": "text/x-python",
   "name": "python",
   "nbconvert_exporter": "python",
   "pygments_lexer": "ipython3",
   "version": "3.9.19"
  }
 },
 "nbformat": 4,
 "nbformat_minor": 5
}
