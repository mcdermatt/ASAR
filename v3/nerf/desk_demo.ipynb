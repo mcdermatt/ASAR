{
 "cells": [
  {
   "cell_type": "markdown",
   "id": "8dd43af8",
   "metadata": {},
   "source": [
    "### Using COLMAP Structure From Motion (SFM) Package\n",
    "\n",
    "see <https://github.com/Fyusion/LLFF/tree/master> for more documentation"
   ]
  },
  {
   "cell_type": "code",
   "execution_count": 15,
   "id": "b3c33610",
   "metadata": {},
   "outputs": [],
   "source": [
    "import os\n",
    "import sys\n",
    "current = os.getcwd()\n",
    "sys.path.append(current+\"/LLFF\")\n",
    "\n",
    "from LLFF.llff.poses.pose_utils import gen_poses\n",
    "import sys\n",
    "\n",
    "#<imgs2poses.py>:\n",
    "# import argparse\n",
    "# parser = argparse.ArgumentParser()\n",
    "# parser.add_argument('--match_type', type=str, \n",
    "#                     default='exhaustive_matcher', help='type of matcher used.  Valid options: \\\n",
    "#                     exhaustive_matcher sequential_matcher.  Other matchers not supported at this time')\n",
    "# parser.add_argument('scenedir', type=str,\n",
    "#                     help='input scene directory')\n",
    "# args = parser.parse_args()\n",
    "\n",
    "# if args.match_type != 'exhaustive_matcher' and args.match_type != 'sequential_matcher':\n",
    "#     print('ERROR: matcher type ' + args.match_type + ' is not valid.  Aborting')\n",
    "#     sys.exit()\n",
    "\n",
    "# if __name__=='__main__':\n",
    "#     gen_poses(args.scenedir, args.match_type)"
   ]
  },
  {
   "cell_type": "code",
   "execution_count": 1,
   "id": "40f13d16",
   "metadata": {},
   "outputs": [
    {
     "name": "stdout",
     "output_type": "stream",
     "text": [
      "desk_demo.ipynb  desk_images  __init__.py  LLFF  tiny_nerf\r\n"
     ]
    }
   ],
   "source": [
    "!ls"
   ]
  },
  {
   "cell_type": "code",
   "execution_count": 23,
   "id": "1498d269",
   "metadata": {},
   "outputs": [
    {
     "name": "stdout",
     "output_type": "stream",
     "text": [
      "Need to run COLMAP\n",
      "[option_manager.cc:759] Check failed: ExistsDir(*image_path)\n",
      "ERROR: Invalid options provided.\n",
      "Traceback (most recent call last):\n",
      "  File \"/home/derm/ASAR/v3/nerf/imgs2poses.py\", line 18, in <module>\n",
      "    gen_poses(args.scenedir, args.match_type)\n",
      "  File \"/home/derm/ASAR/v3/nerf/LLFF/llff/poses/pose_utils.py\", line 271, in gen_poses\n",
      "    run_colmap(basedir, match_type)\n",
      "  File \"/home/derm/ASAR/v3/nerf/LLFF/llff/poses/colmap_wrapper.py\", line 35, in run_colmap\n",
      "    feat_output = ( subprocess.check_output(feature_extractor_args, universal_newlines=True) )\n",
      "  File \"/home/derm/anaconda3/envs/py39/lib/python3.9/subprocess.py\", line 424, in check_output\n",
      "    return run(*popenargs, stdout=PIPE, timeout=timeout, check=True,\n",
      "  File \"/home/derm/anaconda3/envs/py39/lib/python3.9/subprocess.py\", line 528, in run\n",
      "    raise CalledProcessError(retcode, process.args,\n",
      "subprocess.CalledProcessError: Command '['colmap', 'feature_extractor', '--database_path', 'desk_images/database.db', '--image_path', 'desk_images/images', '--ImageReader.single_camera', '1']' returned non-zero exit status 1.\n"
     ]
    }
   ],
   "source": [
    "!python imgs2poses.py --match_type 'exhaustive_matcher' desk_images"
   ]
  },
  {
   "cell_type": "code",
   "execution_count": null,
   "id": "45c55442",
   "metadata": {},
   "outputs": [],
   "source": []
  },
  {
   "cell_type": "code",
   "execution_count": null,
   "id": "0d337ee9",
   "metadata": {},
   "outputs": [],
   "source": []
  }
 ],
 "metadata": {
  "kernelspec": {
   "display_name": "Python 3 (ipykernel)",
   "language": "python",
   "name": "python3"
  },
  "language_info": {
   "codemirror_mode": {
    "name": "ipython",
    "version": 3
   },
   "file_extension": ".py",
   "mimetype": "text/x-python",
   "name": "python",
   "nbconvert_exporter": "python",
   "pygments_lexer": "ipython3",
   "version": "3.9.13"
  }
 },
 "nbformat": 4,
 "nbformat_minor": 5
}
