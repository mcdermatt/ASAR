{
 "cells": [
  {
   "cell_type": "code",
   "execution_count": 1,
   "id": "883a67e2",
   "metadata": {},
   "outputs": [
    {
     "name": "stdout",
     "output_type": "stream",
     "text": [
      "(47725, 3)\n",
      "(49152, 3)\n"
     ]
    }
   ],
   "source": [
    "import numpy as np\n",
    "# %load_ext autoreload\n",
    "# %autoreload 2\n",
    "# %autosave 180\n",
    "\n",
    "# nerf_pc = np.load(\"lidar_nerf_demo/generated_pc_at_start.npy\")\n",
    "# real_pc = np.load(\"lidar_nerf_demo/real_pc_at_start.npy\")\n",
    "# nerf_pc = np.random.randn(1000,3)\n",
    "# real_pc = np.random.randn(1000,3)\n",
    "# nerf_pc = np.load(\"generatedPointClouds/7750NeRF.npy\")\n",
    "# real_pc = np.load(\"generatedPointClouds/7750real.npy\")\n",
    "nerf_pc = np.load(\"generatedPointClouds/7800NeRF.npy\")\n",
    "real_pc = np.load(\"generatedPointClouds/7800real.npy\")\n",
    "# nerf_pc = np.load(\"generatedPointClouds/MaiCityNeRFOutput.npy\")\n",
    "# real_pc = np.load(\"generatedPointClouds/MaiCityReal.npy\")\n",
    "\n",
    "# nerf_pc = np.load(\"generatedPointClouds/MaiCityNeRFOutput_frame_10.npy\")\n",
    "# real_pc = np.load(\"generatedPointClouds/MaiCityReal_frame_10.npy\")\n",
    "\n",
    "# #remove ground plane\n",
    "# real_pc = real_pc[real_pc[:,2] > -1]\n",
    "# nerf_pc = nerf_pc[nerf_pc[:,2] > -1]\n",
    "\n",
    "# #debug: create simple pc\n",
    "# nerf_pc = np.array([[0,0,0], \n",
    "#                     [1,1,1]])\n",
    "# real_pc = np.array([[0,0,0], \n",
    "#                     [0,0,0]])\n",
    "\n",
    "#crop real PC down the same as NeRF output so bidirectional CD doesn't punish non-overlaps\n",
    "real_pc = real_pc[len(real_pc)//8:7*len(real_pc)//8,:]\n",
    "# real_pc = real_pc[len(real_pc)//8:29*len(real_pc)//32,:]\n",
    "\n",
    "\n",
    "#remove points too close to origin\n",
    "d = np.sqrt(np.sum(nerf_pc**2, axis = 1))\n",
    "good  = np.argwhere(d > 1)[:,0]\n",
    "nerf_pc = nerf_pc[good]\n",
    "\n",
    "#remove points out of range of sensor (only needed for Mai City)\n",
    "d = np.sqrt(np.sum(nerf_pc**2, axis = 1))\n",
    "good = np.argwhere(d < 100)[:,0]\n",
    "nerf_pc = nerf_pc[good]\n",
    "\n",
    "# nerf_pc = nerf_pc[::3,:]\n",
    "# real_pc = real_pc[::3,:]\n",
    "# nerf_pc = nerf_pc[:len(nerf_pc)//4,:]\n",
    "# real_pc = real_pc[:len(real_pc)//4,:]\n",
    "\n",
    "print(np.shape(nerf_pc))\n",
    "print(np.shape(real_pc))"
   ]
  },
  {
   "cell_type": "code",
   "execution_count": null,
   "id": "012d4ddf",
   "metadata": {
    "scrolled": false
   },
   "outputs": [],
   "source": [
    "import torch\n",
    "from chamferdist import ChamferDistance\n",
    "\n",
    "real_pc = torch.tensor(real_pc)\n",
    "nerf_pc = torch.tensor(nerf_pc)\n",
    "\n",
    "if len(real_pc.shape) == 2:\n",
    "    real_pc = real_pc.unsqueeze(0)  # Add batch dimension\n",
    "if len(nerf_pc.shape) == 2:\n",
    "    nerf_pc = nerf_pc.unsqueeze(0)  # Add batch dimension\n",
    "    \n",
    "# Convert to float\n",
    "real_pc = real_pc.float()\n",
    "nerf_pc = nerf_pc.float()\n",
    "print(nerf_pc.shape)\n",
    "\n",
    "chamferDist = ChamferDistance()\n",
    "# dist_forward = chamferDist(nerf_pc, real_pc)\n",
    "# print(dist_forward)\n",
    "# print(dist_forward/ nerf_pc.shape[1])\n",
    "# dist_bidirectional = chamferDist(nerf_pc, real_pc, bidirectional=True)\n",
    "# print(dist_bidirectional)\n",
    "# print(dist_bidirectional/ nerf_pc.shape[1])\n",
    "\n",
    "#TEST -- modify chamfer.py to produce output for calculating F-scores\n",
    "# dist_forward = chamferDist(nerf_pc, real_pc, reduction = 'fscore')\n",
    "dist_forward = chamferDist(nerf_pc, real_pc, reduction = 'fscore', reverse = True)\n",
    "# dist_forward is actually a SQUARED distance, so I need to take the sqrt first\n",
    "print(dist_forward)\n",
    "dist_forward = torch.sqrt(dist_forward)\n",
    "print(dist_forward)\n",
    "\n",
    "bad = np.argwhere(dist_forward > 0.1)\n",
    "\n",
    "print(np.shape(dist_forward)[1])\n",
    "print(np.shape(bad)[1])\n",
    "\n",
    "print(1 - np.shape(bad)[1] / np.shape(dist_forward)[1])"
   ]
  },
  {
   "cell_type": "code",
   "execution_count": null,
   "id": "75b4caf8",
   "metadata": {},
   "outputs": [],
   "source": [
    "a = .93\n",
    "b = 0.93\n",
    "f = 2*(a*b) / (a + b)\n",
    "\n",
    "print(f)"
   ]
  },
  {
   "cell_type": "code",
   "execution_count": 4,
   "id": "2462bf70",
   "metadata": {},
   "outputs": [
    {
     "ename": "IndexError",
     "evalue": "too many indices for array: array is 2-dimensional, but 3 were indexed",
     "output_type": "error",
     "traceback": [
      "\u001b[0;31m---------------------------------------------------------------------------\u001b[0m",
      "\u001b[0;31mIndexError\u001b[0m                                Traceback (most recent call last)",
      "Input \u001b[0;32mIn [4]\u001b[0m, in \u001b[0;36m<cell line: 17>\u001b[0;34m()\u001b[0m\n\u001b[1;32m      9\u001b[0m disp\u001b[38;5;241m=\u001b[39m[]\n\u001b[1;32m     11\u001b[0m \u001b[38;5;66;03m#crop real PC down the same as NeRF output so bidirectional CD doesn't punish non-overlaps\u001b[39;00m\n\u001b[1;32m     12\u001b[0m \u001b[38;5;66;03m# test = real_pc[0,len(real_pc[0,:,:])//8:7*len(real_pc[0,:,:])//8,:]\u001b[39;00m\n\u001b[1;32m     13\u001b[0m \u001b[38;5;66;03m# print(np.shape(test))\u001b[39;00m\n\u001b[1;32m     14\u001b[0m \u001b[38;5;66;03m# print(len(real_pc[0,:,:])//8)\u001b[39;00m\n\u001b[1;32m     15\u001b[0m \u001b[38;5;66;03m# disp.append(Points(test, c = \"red\", r = 5))\u001b[39;00m\n\u001b[0;32m---> 17\u001b[0m disp\u001b[38;5;241m.\u001b[39mappend(Points(\u001b[43mreal_pc\u001b[49m\u001b[43m[\u001b[49m\u001b[38;5;241;43m0\u001b[39;49m\u001b[43m,\u001b[49m\u001b[43m:\u001b[49m\u001b[43m,\u001b[49m\u001b[43m:\u001b[49m\u001b[43m]\u001b[49m, c \u001b[38;5;241m=\u001b[39m \u001b[38;5;124m\"\u001b[39m\u001b[38;5;124mred\u001b[39m\u001b[38;5;124m\"\u001b[39m, r \u001b[38;5;241m=\u001b[39m \u001b[38;5;241m5\u001b[39m))\n\u001b[1;32m     18\u001b[0m disp\u001b[38;5;241m.\u001b[39mappend(Points(nerf_pc[\u001b[38;5;241m0\u001b[39m,:,:], c \u001b[38;5;241m=\u001b[39m \u001b[38;5;124m\"\u001b[39m\u001b[38;5;124mblue\u001b[39m\u001b[38;5;124m\"\u001b[39m, r \u001b[38;5;241m=\u001b[39m \u001b[38;5;241m5\u001b[39m))\n\u001b[1;32m     20\u001b[0m plt\u001b[38;5;241m.\u001b[39mshow(disp, \u001b[38;5;124m\"\u001b[39m\u001b[38;5;124mtesting CD\u001b[39m\u001b[38;5;124m\"\u001b[39m)\n",
      "\u001b[0;31mIndexError\u001b[0m: too many indices for array: array is 2-dimensional, but 3 were indexed"
     ]
    }
   ],
   "source": [
    "# print(savepc)\n",
    "# print(pc1_aligned)\n",
    "# print(dist_forward/ np.shape(nerf_pc)[1])\n",
    "\n",
    "from vedo import *\n",
    "from ipyvtklink.viewer import ViewInteractiveWidget\n",
    "\n",
    "plt = Plotter(N = 1, axes = 0, bg = (1, 1, 1), interactive = True) #axes = 4 (simple), 1(scale)\n",
    "disp=[]\n",
    "\n",
    "#crop real PC down the same as NeRF output so bidirectional CD doesn't punish non-overlaps\n",
    "# test = real_pc[0,len(real_pc[0,:,:])//8:7*len(real_pc[0,:,:])//8,:]\n",
    "# print(np.shape(test))\n",
    "# print(len(real_pc[0,:,:])//8)\n",
    "# disp.append(Points(test, c = \"red\", r = 5))\n",
    "\n",
    "disp.append(Points(real_pc[0,:,:], c = \"red\", r = 5))\n",
    "disp.append(Points(nerf_pc[0,:,:], c = \"blue\", r = 5))\n",
    "\n",
    "plt.show(disp, \"testing CD\")\n",
    "ViewInteractiveWidget(plt.window)\n"
   ]
  },
  {
   "cell_type": "markdown",
   "id": "933ed52c",
   "metadata": {},
   "source": [
    "# calculate chamfer distance between NeRF output true distance for 25 frames Mai City Dataset"
   ]
  },
  {
   "cell_type": "code",
   "execution_count": null,
   "id": "6eb639ef",
   "metadata": {
    "scrolled": true
   },
   "outputs": [],
   "source": [
    "CD_hist = []\n",
    "chamferDist = ChamferDistance()\n",
    "\n",
    "for frame_idx in range(25):\n",
    "    print(frame_idx)\n",
    "    nerf_pc = np.load(\"generatedPointClouds/MaiCityNeRFOutput_frame_\" + str(frame_idx) + \".npy\")\n",
    "    real_pc = np.load(\"generatedPointClouds/MaiCityReal_frame_\" + str(frame_idx) + \".npy\")\n",
    "\n",
    "    #remove points too close to origin\n",
    "    d = np.sqrt(np.sum(nerf_pc**2, axis = 1))\n",
    "    good  = np.argwhere(d > 1)[:,0]\n",
    "    nerf_pc = nerf_pc[good]\n",
    "\n",
    "    #remove points out of range of sensor (only needed for Mai City)\n",
    "    d = np.sqrt(np.sum(nerf_pc**2, axis = 1))\n",
    "    good = np.argwhere(d < 100)[:,0]\n",
    "    nerf_pc = nerf_pc[good]\n",
    "    \n",
    "    print(np.shape(nerf_pc))\n",
    "#     nerf_pc = nerf_pc[::2,:]\n",
    "#     real_pc = real_pc[::2,:]\n",
    "#     print(np.shape(nerf_pc))\n",
    "\n",
    "    real_pc = torch.tensor(real_pc)\n",
    "    nerf_pc = torch.tensor(nerf_pc)\n",
    "\n",
    "    if len(real_pc.shape) == 2:\n",
    "        real_pc = real_pc.unsqueeze(0)  # Add batch dimension\n",
    "    if len(nerf_pc.shape) == 2:\n",
    "        nerf_pc = nerf_pc.unsqueeze(0)  # Add batch dimension\n",
    "\n",
    "    # Convert to float\n",
    "    real_pc = real_pc.float()\n",
    "    nerf_pc = nerf_pc.float()\n",
    "    \n",
    "    dist_bidirectional = chamferDist(nerf_pc, real_pc, bidirectional=True)\n",
    "    dist_bidirectional /= nerf_pc.shape[1]\n",
    "    print(dist_bidirectional)\n",
    "    \n",
    "    CD_hist = np.append(CD_hist, dist_bidirectional)"
   ]
  },
  {
   "cell_type": "code",
   "execution_count": null,
   "id": "40609085",
   "metadata": {},
   "outputs": [],
   "source": [
    "from matplotlib import pyplot as p\n",
    "\n",
    "CD_hist_2 = CD_hist.copy()\n",
    "\n",
    "fig, ax = p.subplots()\n",
    "ax.set_title(\"Chamfer Distance for Mai City Dataset\")\n",
    "# ax.plot(CD_hist_15, label = \"sample every 15th\")\n",
    "ax.plot(CD_hist_10, label = \"sample every 10th\")\n",
    "# ax.plot(CD_hist_5, label = \"sample every 5th\")\n",
    "ax.plot(CD_hist_2, label = \"sample every 2nd\")\n",
    "ax.plot(CD_hist, label = \"every point\")\n",
    "ax.set_xlabel(\"test frame index\")\n",
    "ax.set_ylabel(\"Chamfer Distance (cm)\")\n",
    "ax.legend(loc=\"best\")"
   ]
  },
  {
   "cell_type": "code",
   "execution_count": null,
   "id": "c1ee8cf3",
   "metadata": {},
   "outputs": [],
   "source": [
    "# print(np.mean(CD_hist))\n",
    "# np.save(\"generatedPointClouds/MaiCity_CD_hist.npy\", CD_hist)"
   ]
  },
  {
   "cell_type": "code",
   "execution_count": 58,
   "id": "113e91e7",
   "metadata": {
    "scrolled": true
   },
   "outputs": [
    {
     "name": "stdout",
     "output_type": "stream",
     "text": [
      "0\n",
      "1\n",
      "2\n",
      "3\n",
      "4\n",
      "5\n",
      "6\n",
      "7\n",
      "8\n",
      "9\n",
      "10\n",
      "11\n",
      "12\n",
      "13\n",
      "14\n",
      "15\n",
      "16\n",
      "17\n",
      "18\n",
      "19\n",
      "20\n",
      "21\n",
      "22\n",
      "23\n",
      "24\n",
      "25\n",
      "26\n",
      "27\n",
      "28\n",
      "29\n",
      "30\n",
      "31\n",
      "32\n",
      "33\n",
      "34\n",
      "35\n",
      "36\n",
      "37\n",
      "38\n",
      "39\n",
      "40\n",
      "41\n",
      "42\n",
      "43\n",
      "44\n",
      "45\n",
      "46\n",
      "47\n",
      "48\n",
      "49\n"
     ]
    },
    {
     "data": {
      "text/plain": [
       "True"
      ]
     },
     "execution_count": 58,
     "metadata": {},
     "output_type": "execute_result"
    }
   ],
   "source": [
    "#combine all NeRF outputs to single point cloud to render with open3d\n",
    "combined_pc = np.zeros([0,3])\n",
    "for frame_idx in range(50): #25\n",
    "    print(frame_idx)\n",
    "#     nerf_pc = np.load(\"generatedPointClouds/MaiCityNeRFOutput_frame_\" + str(frame_idx) + \".npy\") #\n",
    "    nerf_pc = np.load(\"generatedPointClouds/MaiCityNeRFOutput_velodyne_format_frame_\" + str(frame_idx) + \".npy\") #OS1 projections\n",
    "#     nerf_pc = np.load(\"generatedPointClouds/MaiCityReal_frame_\" + str(frame_idx) + \".npy\") #DEBUG -- true scans\n",
    "\n",
    "    #remove near zero points\n",
    "#     nerf_pc = nerf_pc*200\n",
    "    dists = np.sqrt(nerf_pc[:,0]**2 + nerf_pc[:,1]**2 + nerf_pc[:,2]**2)\n",
    "    good = np.argwhere(dists > 2)[:,0]\n",
    "#     print(good)\n",
    "    nerf_pc = nerf_pc[good]\n",
    "\n",
    "    nerf_pc = nerf_pc + np.array([frame_idx*.5,0.,0.])\n",
    "#     nerf_pc = nerf_pc + np.array([frame_idx*1.,0.,0.])\n",
    "    \n",
    "    combined_pc = np.append(combined_pc, nerf_pc, axis = 0)\n",
    "\n",
    "# print(np.shape(combined_pc))\n",
    "\n",
    "# #crop to help with marching cubes??\n",
    "# combined_pc = combined_pc[abs(combined_pc[:,0]) < 20]\n",
    "# combined_pc = combined_pc[abs(combined_pc[:,1]) < 20]\n",
    "# np.save(\"generatedPointClouds/CombinedMaiCity.npy\", combined_pc)\n",
    "\n",
    "import open3d as o3d\n",
    "pcd = o3d.geometry.PointCloud()\n",
    "pcd.points = o3d.utility.Vector3dVector(combined_pc)\n",
    "o3d.io.write_point_cloud(\"MaiCityNeRF.ply\", pcd)"
   ]
  },
  {
   "cell_type": "code",
   "execution_count": 42,
   "id": "f2f2a4d8",
   "metadata": {},
   "outputs": [
    {
     "data": {
      "text/plain": [
       "True"
      ]
     },
     "execution_count": 42,
     "metadata": {},
     "output_type": "execute_result"
    }
   ],
   "source": [
    "#TEST -- load and crop HD Map to test marching cubes\n",
    "import trimesh\n",
    "pl = '/media/derm/06EF-127D4/Newer College Dataset/new-college-29-01-2020-1cm-resolution-1stSection - mesh.ply'\n",
    "raw_points = trimesh.load(pl).vertices\n",
    "# points[:,2] = -points[:,2] #flip z\n",
    "# points = points[::10,:] #downsample\n",
    "points = raw_points.copy()\n",
    "\n",
    "points = points[points[:,0]>0]\n",
    "points = points[points[:,1]> - 2]\n",
    "\n",
    "combined_pc = points\n",
    "# np.save(\"generatedPointClouds/NCTestMap.npy\", combined_pc)\n",
    "\n",
    "import open3d as o3d\n",
    "pcd = o3d.geometry.PointCloud()\n",
    "pcd.points = o3d.utility.Vector3dVector(combined_pc)\n",
    "o3d.io.write_point_cloud(\"NCTestMap.ply\", pcd)\n"
   ]
  },
  {
   "cell_type": "code",
   "execution_count": 41,
   "id": "ea029e90",
   "metadata": {},
   "outputs": [
    {
     "data": {
      "application/vnd.jupyter.widget-view+json": {
       "model_id": "778ac88c473e40a7a677185f2c0c881a",
       "version_major": 2,
       "version_minor": 0
      },
      "text/plain": [
       "ViewInteractiveWidget(height=960, layout=Layout(height='auto', width='100%'), width=960)"
      ]
     },
     "execution_count": 41,
     "metadata": {},
     "output_type": "execute_result"
    }
   ],
   "source": [
    "plt = Plotter(N = 1, axes = 0, bg = (1, 1, 1), interactive = True) #axes = 4 (simple), 1(scale)\n",
    "disp=[]\n",
    "\n",
    "disp.append(Points(combined_pc, c = \"red\", r = 2.5, alpha = 0.3))\n",
    "disp.append(Points(raw_points, c = \"black\", r = 2.5, alpha = 0.1))\n",
    "\n",
    "plt.show(disp, \"testing CD\")\n",
    "ViewInteractiveWidget(plt.window)\n"
   ]
  },
  {
   "cell_type": "markdown",
   "id": "356141e9",
   "metadata": {},
   "source": [
    "### Load 100 raw frames from Mai City sequence 01 and combine to a single point cloud"
   ]
  },
  {
   "cell_type": "code",
   "execution_count": 57,
   "id": "a82ad616",
   "metadata": {
    "scrolled": true
   },
   "outputs": [
    {
     "name": "stdout",
     "output_type": "stream",
     "text": [
      "0\n",
      "1\n",
      "2\n",
      "3\n",
      "4\n",
      "5\n",
      "6\n",
      "7\n",
      "8\n",
      "9\n",
      "10\n",
      "11\n",
      "12\n",
      "13\n",
      "14\n",
      "15\n",
      "16\n",
      "17\n",
      "18\n",
      "19\n",
      "20\n",
      "21\n",
      "22\n",
      "23\n",
      "24\n",
      "25\n",
      "26\n",
      "27\n",
      "28\n",
      "29\n",
      "30\n",
      "31\n",
      "32\n",
      "33\n",
      "34\n",
      "35\n",
      "36\n",
      "37\n",
      "38\n",
      "39\n",
      "40\n",
      "41\n",
      "42\n",
      "43\n",
      "44\n",
      "45\n",
      "46\n",
      "47\n",
      "48\n",
      "49\n",
      "50\n",
      "51\n",
      "52\n",
      "53\n",
      "54\n",
      "55\n",
      "56\n",
      "57\n",
      "58\n",
      "59\n",
      "60\n",
      "61\n",
      "62\n",
      "63\n",
      "64\n",
      "65\n",
      "66\n",
      "67\n",
      "68\n",
      "69\n",
      "70\n",
      "71\n",
      "72\n",
      "73\n",
      "74\n",
      "75\n",
      "76\n",
      "77\n",
      "78\n",
      "79\n",
      "80\n",
      "81\n",
      "82\n",
      "83\n",
      "84\n",
      "85\n",
      "86\n",
      "87\n",
      "88\n",
      "89\n",
      "90\n",
      "91\n",
      "92\n",
      "93\n",
      "94\n",
      "95\n",
      "96\n",
      "97\n",
      "98\n",
      "99\n",
      "[[ 98.11171    0.        -1.729996]\n",
      " [ 58.456245   0.        -1.729998]\n",
      " [ 41.457108   0.        -1.729998]\n",
      " ...\n",
      " [103.211807   0.025409  -1.729996]\n",
      " [103.011147   0.024199  -1.729996]\n",
      " [102.826103   0.023082  -1.729996]]\n"
     ]
    },
    {
     "data": {
      "text/plain": [
       "True"
      ]
     },
     "execution_count": 57,
     "metadata": {},
     "output_type": "execute_result"
    }
   ],
   "source": [
    "# test = np.loadtxt(\"/media/derm/06EF-127D4/mai_city/txt/01/000000\")\n",
    "\n",
    "combined_pc = np.zeros([0,3])\n",
    "for idx1 in range(100):\n",
    "    print(idx1)\n",
    "    pcfn = \"/media/derm/06EF-127D4/mai_city/txt/01/\" +  f\"{idx1:06}\"\n",
    "    \n",
    "    pc = np.loadtxt(pcfn)\n",
    "    pc += np.array([1.*idx1, 0.,0.])\n",
    "    pc = pc[::2]\n",
    "    \n",
    "    combined_pc = np.append(combined_pc, pc, axis = 0)\n",
    "\n",
    "print(combined_pc)\n",
    "import open3d as o3d\n",
    "pcd = o3d.geometry.PointCloud()\n",
    "pcd.points = o3d.utility.Vector3dVector(combined_pc)\n",
    "o3d.io.write_point_cloud(\"MaiCityGTMap.ply\", pcd)"
   ]
  },
  {
   "cell_type": "code",
   "execution_count": null,
   "id": "5088391e",
   "metadata": {},
   "outputs": [],
   "source": []
  }
 ],
 "metadata": {
  "kernelspec": {
   "display_name": "Python (py39)",
   "language": "python",
   "name": "py39"
  },
  "language_info": {
   "codemirror_mode": {
    "name": "ipython",
    "version": 3
   },
   "file_extension": ".py",
   "mimetype": "text/x-python",
   "name": "python",
   "nbconvert_exporter": "python",
   "pygments_lexer": "ipython3",
   "version": "3.9.19"
  }
 },
 "nbformat": 4,
 "nbformat_minor": 5
}
