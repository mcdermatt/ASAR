{
 "cells": [
  {
   "cell_type": "code",
   "execution_count": 32,
   "id": "883a67e2",
   "metadata": {},
   "outputs": [
    {
     "name": "stdout",
     "output_type": "stream",
     "text": [
      "The autoreload extension is already loaded. To reload it, use:\n",
      "  %reload_ext autoreload\n"
     ]
    },
    {
     "data": {
      "application/javascript": [
       "IPython.notebook.set_autosave_interval(180000)"
      ]
     },
     "metadata": {},
     "output_type": "display_data"
    },
    {
     "name": "stdout",
     "output_type": "stream",
     "text": [
      "Autosaving every 180 seconds\n",
      "(52183,)\n",
      "(52183, 3)\n",
      "(65536, 3)\n"
     ]
    }
   ],
   "source": [
    "import numpy as np\n",
    "%load_ext autoreload\n",
    "%autoreload 2\n",
    "%autosave 180\n",
    "\n",
    "nerf_pc = np.load(\"lidar_nerf_demo/generated_pc_at_start.npy\")\n",
    "real_pc = np.load(\"lidar_nerf_demo/real_pc_at_start.npy\")\n",
    "\n",
    "# nerf_pc = np.random.randn(1000,3)\n",
    "# real_pc = np.random.randn(1000,3)\n",
    "\n",
    "d = np.sqrt(np.sum(nerf_pc**2, axis = 1))\n",
    "print(np.shape(d))\n",
    "good  = np.argwhere(d > 1)[:,0]\n",
    "nerf_pc = nerf_pc[good]\n",
    "\n",
    "print(np.shape(nerf_pc))\n",
    "print(np.shape(real_pc))"
   ]
  },
  {
   "cell_type": "markdown",
   "id": "f2446fe1",
   "metadata": {},
   "source": [
    "# TODO remove points at origin "
   ]
  },
  {
   "cell_type": "code",
   "execution_count": 33,
   "id": "012d4ddf",
   "metadata": {},
   "outputs": [
    {
     "name": "stdout",
     "output_type": "stream",
     "text": [
      "torch.Size([1, 52183, 3])\n",
      "tensor(0.1999)\n"
     ]
    }
   ],
   "source": [
    "import torch\n",
    "from chamferdist import ChamferDistance\n",
    "\n",
    "\n",
    "real_pc = torch.tensor(real_pc)\n",
    "nerf_pc = torch.tensor(nerf_pc)\n",
    "\n",
    "if len(real_pc.shape) == 2:\n",
    "    real_pc = real_pc.unsqueeze(0)  # Add batch dimension\n",
    "if len(nerf_pc.shape) == 2:\n",
    "    nerf_pc = nerf_pc.unsqueeze(0)  # Add batch dimension\n",
    "    \n",
    "# Convert to float\n",
    "real_pc = real_pc.float()\n",
    "nerf_pc = nerf_pc.float()\n",
    "print(nerf_pc.shape)\n",
    "\n",
    "\n",
    "chamferDist = ChamferDistance()\n",
    "dist_forward = chamferDist(nerf_pc, real_pc)\n",
    "print(dist_forward/ nerf_pc.shape[1])"
   ]
  },
  {
   "cell_type": "code",
   "execution_count": 34,
   "id": "2462bf70",
   "metadata": {},
   "outputs": [
    {
     "data": {
      "application/vnd.jupyter.widget-view+json": {
       "model_id": "c51be40a3f1542b5a951e04e81e09ea4",
       "version_major": 2,
       "version_minor": 0
      },
      "text/plain": [
       "ViewInteractiveWidget(height=960, layout=Layout(height='auto', width='100%'), width=960)"
      ]
     },
     "execution_count": 34,
     "metadata": {},
     "output_type": "execute_result"
    }
   ],
   "source": [
    "# print(savepc)\n",
    "# print(pc1_aligned)\n",
    "# print(dist_forward/ np.shape(nerf_pc)[1])\n",
    "\n",
    "from vedo import *\n",
    "from ipyvtklink.viewer import ViewInteractiveWidget\n",
    "\n",
    "plt = Plotter(N = 1, axes = 0, bg = (1, 1, 1), interactive = True) #axes = 4 (simple), 1(scale)\n",
    "disp=[]\n",
    "\n",
    "disp.append(Points(real_pc[0,:,:], c = \"red\", r = 5))\n",
    "disp.append(Points(nerf_pc[0,:,:], c = \"blue\", r = 5))\n",
    "\n",
    "plt.show(disp, \"testing CD\")\n",
    "ViewInteractiveWidget(plt.window)\n"
   ]
  },
  {
   "cell_type": "code",
   "execution_count": null,
   "id": "6dd4b1c9",
   "metadata": {},
   "outputs": [],
   "source": [
    "import inspect\n",
    "\n",
    "signature = inspect.signature(ChamferDistance)\n",
    "print(\"Arguments of example_function:\")\n",
    "for name, param in signature.parameters.items():\n",
    "    print(f\"{name} ({param.kind})\")"
   ]
  },
  {
   "cell_type": "code",
   "execution_count": null,
   "id": "1f90a4ae",
   "metadata": {},
   "outputs": [],
   "source": [
    "import chamferdist\n",
    "print(chamferdist.__file__)"
   ]
  },
  {
   "cell_type": "code",
   "execution_count": null,
   "id": "d3e3277a",
   "metadata": {},
   "outputs": [],
   "source": [
    "%%bash\n",
    "which python"
   ]
  },
  {
   "cell_type": "code",
   "execution_count": null,
   "id": "4acef2f5",
   "metadata": {},
   "outputs": [],
   "source": [
    "torch.sqrt(torch.tensor([10]))"
   ]
  },
  {
   "cell_type": "code",
   "execution_count": null,
   "id": "f49a2e23",
   "metadata": {},
   "outputs": [],
   "source": []
  }
 ],
 "metadata": {
  "kernelspec": {
   "display_name": "Python (py39)",
   "language": "python",
   "name": "py39"
  },
  "language_info": {
   "codemirror_mode": {
    "name": "ipython",
    "version": 3
   },
   "file_extension": ".py",
   "mimetype": "text/x-python",
   "name": "python",
   "nbconvert_exporter": "python",
   "pygments_lexer": "ipython3",
   "version": "3.9.19"
  }
 },
 "nbformat": 4,
 "nbformat_minor": 5
}
