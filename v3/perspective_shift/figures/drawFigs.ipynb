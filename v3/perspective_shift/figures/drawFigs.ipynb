{
 "cells": [
  {
   "cell_type": "markdown",
   "id": "handmade-standing",
   "metadata": {},
   "source": [
    "### File for generating figures for DNN filter paper"
   ]
  },
  {
   "cell_type": "code",
   "execution_count": 1,
   "id": "sized-concentration",
   "metadata": {},
   "outputs": [
    {
     "name": "stdout",
     "output_type": "stream",
     "text": [
      "2.3.0\n"
     ]
    },
    {
     "data": {
      "application/javascript": [
       "IPython.notebook.set_autosave_interval(180000)"
      ]
     },
     "metadata": {},
     "output_type": "display_data"
    },
    {
     "name": "stdout",
     "output_type": "stream",
     "text": [
      "Autosaving every 180 seconds\n"
     ]
    }
   ],
   "source": [
    "#setup - rememeber to switch to tensorflow 2.3 kernel...\n",
    "import numpy as np\n",
    "import tensorflow as tf\n",
    "import matplotlib.pyplot as plt\n",
    "import scipy.io as sio\n",
    "import datetime\n",
    "import trimesh\n",
    "import time\n",
    "from vedo import *\n",
    "from ipyvtklink.viewer import ViewInteractiveWidget\n",
    "\n",
    "#need to have these two lines to work on my ancient 1060 3gb\n",
    "#  https://stackoverflow.com/questions/43990046/tensorflow-blas-gemm-launch-failed\n",
    "physical_devices = tf.config.list_physical_devices('GPU') \n",
    "tf.config.experimental.set_memory_growth(physical_devices[0], True)\n",
    "\n",
    "print(tf.__version__)\n",
    "\n",
    "%matplotlib inline\n",
    "plt.rcParams['figure.figsize'] = (10.0, 8.0) # set default size of plots\n",
    "plt.rcParams['image.interpolation'] = 'nearest'\n",
    "plt.rcParams['image.cmap'] = 'gray'\n",
    "%matplotlib notebook\n",
    "\n",
    "%load_ext tensorboard\n",
    "\n",
    "# for auto-reloading external modules\n",
    "%load_ext autoreload\n",
    "%autoreload 2\n",
    "%autosave 180"
   ]
  },
  {
   "cell_type": "code",
   "execution_count": 2,
   "id": "selective-fitness",
   "metadata": {},
   "outputs": [
    {
     "name": "stdout",
     "output_type": "stream",
     "text": [
      "[-40.  -40.   -5.2]\n"
     ]
    }
   ],
   "source": [
    "#load mesh of object\n",
    "surf_fn = \"C:/Users/Derm/vaRLnt/v3/perspective_shift/figures/wall_scaled.stl\"\n",
    "M = trimesh.load(surf_fn)\n",
    "#get ground truth translation\n",
    "gt = np.loadtxt(\"C:/Users/Derm/vaRLnt/v3/perspective_shift/figures/gt.txt\")\n",
    "print(gt)\n",
    "#load point clouds of surface generated in Matlab\n",
    "pts1_fn = \"C:/Users/Derm/vaRLnt/v3/perspective_shift/figures/s1.txt\"\n",
    "pts1 = np.loadtxt(pts1_fn)\n",
    "pts2_fn = \"C:/Users/Derm/vaRLnt/v3/perspective_shift/figures/s2.txt\"\n",
    "pts2 = np.loadtxt(pts2_fn)\n",
    "# pts = pts - gt #+ np.array([20,5,1.72])"
   ]
  },
  {
   "cell_type": "code",
   "execution_count": 4,
   "id": "compound-cookbook",
   "metadata": {},
   "outputs": [
    {
     "name": "stdout",
     "output_type": "stream",
     "text": [
      "-5.2\n"
     ]
    },
    {
     "data": {
      "application/vnd.jupyter.widget-view+json": {
       "model_id": "cf49cb89522446e5804f476d295187ac",
       "version_major": 2,
       "version_minor": 0
      },
      "text/plain": [
       "ViewInteractiveWidget(height=960, layout=Layout(height='auto', width='100%'), width=960)"
      ]
     },
     "metadata": {},
     "output_type": "display_data"
    }
   ],
   "source": [
    "#plot with Vedo\n",
    "plt1 = Plotter(N = 1, axes = 4, bg = (1, 1, 1), interactive = True)\n",
    "disp = []\n",
    "disp.append(Points(pts1, c = 'red', r = 3, alpha = 1))\n",
    "w1 = Mesh(M).c(\"gray\").alpha(1)\n",
    "w1.pos(gt[0], gt[1], gt[2])\n",
    "print(gt[2])\n",
    "disp.append(w1)\n",
    "\n",
    "# L = Light(pos = (30,30,30), focalPoint = (0,0,0), angle = 180, c = (1,1,1), intensity = 1, removeOthers = False)\n",
    "# disp.append(L)\n",
    "\n",
    "plt1.show(disp, \"Fig 2.1\")\n",
    "ViewInteractiveWidget(plt1.window)"
   ]
  },
  {
   "cell_type": "markdown",
   "id": "binary-calcium",
   "metadata": {},
   "source": [
    "## Plot Points + distributions"
   ]
  },
  {
   "cell_type": "code",
   "execution_count": null,
   "id": "demanding-lottery",
   "metadata": {},
   "outputs": [],
   "source": [
    "#Run ICET\n",
    "import os\n",
    "import sys\n",
    "import inspect\n",
    "currentdir = os.path.dirname(os.path.abspath(inspect.getfile(inspect.currentframe())))\n",
    "parentdir = os.path.dirname(os.path.dirname(currentdir))\n",
    "sys.path.insert(0, parentdir)\n",
    "\n",
    "print(currentdir)\n",
    "print(parentdir)\n",
    "\n",
    "from ICET_spherical import ICET\n",
    "\n",
    "D = True\n",
    "# D = False\n",
    "it1 = ICET(cloud1 = pts1, cloud2 = pts2,  fid = 70, draw = D, \n",
    "            niter = 5, group= 2, RM = False, DNN_filter = False)\n",
    "\n",
    "#add mesh to ICET visualization\n",
    "w2 = Mesh(M).c(\"gray\").alpha(0.25)\n",
    "w2.pos(gt[0], gt[1], gt[2])\n",
    "it1.disp.append(w2)\n",
    "it1.plt.show(it1.disp, \"Figure 2\", resetcam = False)\n",
    "\n",
    "ViewInteractiveWidget(it1.plt.window)"
   ]
  },
  {
   "cell_type": "markdown",
   "id": "undefined-quantity",
   "metadata": {},
   "source": [
    "## Missed Detection/ False Alarm plots"
   ]
  },
  {
   "cell_type": "code",
   "execution_count": null,
   "id": "heavy-consultation",
   "metadata": {},
   "outputs": [],
   "source": [
    "import matplotlib.pyplot as plt\n",
    "import scipy as sp\n",
    "from scipy import stats\n",
    "import numpy as np\n",
    "\n",
    "plt.rcParams.update({\n",
    "    \"font.family\": \"serif\",\n",
    "    \"font.sans-serif\": [\"Times\"],\n",
    "    \"font.size\": 12})"
   ]
  },
  {
   "cell_type": "code",
   "execution_count": null,
   "id": "private-bouquet",
   "metadata": {},
   "outputs": [],
   "source": [
    "fig, ax = plt.subplots(2,1)\n",
    "\n",
    "thresh = 2\n",
    "width = 8\n",
    "xlim = 8\n",
    "bias = -3.5\n",
    "\n",
    "#Top Plot: \n",
    "x_data = np.arange(-width, width, 0.001)\n",
    "y_data = stats.norm.pdf(x_data, 0, 1)\n",
    "ax[0].plot(x_data, y_data, label = \"DNN solution\")\n",
    "ax[0].set_ylim(0,0.5)\n",
    "ax[0].set_xlim(-xlim,xlim)\n",
    "ax[0].set_ylabel(\"PDF\")\n",
    "ax[0].fill_between(x_data[x_data > thresh],\n",
    "                   stats.norm.pdf(x_data[x_data > thresh], 0, 1), \n",
    "                   color = [0,0,0], alpha = 0.2, label = 'False Alarm')\n",
    "ax[0].fill_between(x_data[x_data < -thresh],\n",
    "                   stats.norm.pdf(x_data[x_data < -thresh], 0, 1), \n",
    "                   color = [0,0,0], alpha = 0.2)\n",
    "ax[0].scatter(0, np.max(y_data), color = (1,0,0), label = 'Bias of D2D centers')\n",
    "ax[0].plot(thresh*np.ones([10,1]), np.linspace(0, 0.5, 10), ls = '--', color = (0.1, 0.1, 0.1, 0.5), label = \"Alert limit\")\n",
    "ax[0].plot(-thresh*np.ones([10,1]), np.linspace(0, 0.5, 10), ls = '--', color = (0.1, 0.1, 0.1, 0.5))\n",
    "ax[0].legend(loc = 'upper right')\n",
    "\n",
    "#Bottom Plot\n",
    "ax[1].set_xlabel(\"Monitor Statistic (Normalized by σ)\")\n",
    "ax[1].set_ylabel(\"PDF\")\n",
    "x_data = np.arange(-width, width, 0.001)\n",
    "y_data = stats.norm.pdf(x_data-bias, 0, 1)\n",
    "ax[1].plot(x_data, y_data, label = \"DNN solution\")\n",
    "ax[1].set_ylim(0,0.5)\n",
    "ax[1].set_xlim(-xlim,xlim)\n",
    "ax[1].set_ylabel(\"PDF\")\n",
    "if bias > 0:\n",
    "    ax[1].fill_between(x_data[x_data < thresh],\n",
    "                       stats.norm.pdf(x_data[x_data < thresh] - bias, 0, 1), \n",
    "                       color = [0,0,0], alpha = 0.2, label = 'False Alarm')\n",
    "if bias < 0:\n",
    "    ax[1].fill_between(x_data[x_data > -thresh],\n",
    "                       stats.norm.pdf(x_data[x_data > -thresh] - bias, 0, 1), \n",
    "                       color = [0,0,0], alpha = 0.2, label = 'Missed Detection')\n",
    "ax[1].scatter(bias, np.max(y_data), color = (1,0,0), label = 'Bias of D2D centers')\n",
    "ax[1].plot(thresh*np.ones([10,1]), np.linspace(0, 0.5, 10), ls = '--', color = (0.1, 0.1, 0.1, 0.5), label = \"Alert limit\")\n",
    "ax[1].plot(-thresh*np.ones([10,1]), np.linspace(0, 0.5, 10), ls = '--', color = (0.1, 0.1, 0.1, 0.5))\n",
    "ax[1].legend(loc = 'upper right')\n",
    "\n",
    "print(np.max(y_data))"
   ]
  },
  {
   "cell_type": "markdown",
   "id": "bizarre-miracle",
   "metadata": {},
   "source": [
    "## Figure 1: draw multiple objects in same scene"
   ]
  },
  {
   "cell_type": "code",
   "execution_count": null,
   "id": "impaired-election",
   "metadata": {},
   "outputs": [],
   "source": [
    "# bgc = (0,0,0)\n",
    "bgc = (1,1,1) #background color\n",
    "mc  = (0.5,0.5,0.5) #'white' #\n",
    "plt2 = Plotter(N = 1, axes = 4, bg = bgc, interactive = True)\n",
    "disp2 = []\n",
    "alph = 0.8#alpha for points\n",
    "rad = 2\n",
    "\n",
    "#load point clouds\n",
    "c1 = np.loadtxt('fig1_s1.txt') \n",
    "c2 = np.loadtxt('fig1_s2.txt')\n",
    "gt = np.loadtxt('fig1_gt.txt')\n",
    "print(gt)\n",
    "ground = -2.55 #define ground height\n",
    "c1_ground = c1[c1[:,2] < ground]\n",
    "c2_ground = c2[c2[:,2] < ground]\n",
    "c1 = c1[c1[:,2] > ground] #remove ground plane\n",
    "c2 = c2[c2[:,2] > ground]\n",
    "\n",
    "surf_fn = \"Assembly1_scaled.stl\"\n",
    "M = trimesh.load(surf_fn)\n",
    "w1 = Mesh(M).c(mc).alpha(1)\n",
    "w1.pos(0, 0, -1.2)\n",
    "w1.crop(bounds = [-10,10,-10,10,-1.45,5])\n",
    "disp2.append(w1)\n",
    "\n",
    "vox_fn = \"voxel.stl\"\n",
    "v1 = Mesh(trimesh.load(vox_fn)).c((0,0,0)) #draw voxel around head of dummy\n",
    "v1.pos(-5.5,7.5,0)\n",
    "disp2.append(v1)\n",
    "\n",
    "v2 = Mesh(trimesh.load(vox_fn)).c((0,0,0))\n",
    "v2.pos(2.5,7,-1)\n",
    "disp2.append(v2)\n",
    "\n",
    "\n",
    "#add light \n",
    "L = Light(pos = (0,-10,30), focalPoint = (0,0,0), angle = 180, c = (1,1,1), intensity = 1, removeOthers = False)\n",
    "# disp2.append(L)\n",
    "\n",
    "disp2.append(Points(c1, c = 'red', r = rad, alpha = alph))\n",
    "disp2.append(Points(c2 - gt/10, c = 'blue', r = rad, alpha = alph))\n",
    "disp2.append(Points(c1_ground, c = 'red', r = rad, alpha = alph/4))\n",
    "disp2.append(Points(c2_ground - gt/10, c = 'blue', r = rad, alpha = alph/4))\n",
    "\n",
    "plt2.show(disp2, \"Figure 1\")\n",
    "ViewInteractiveWidget(plt2.window)"
   ]
  },
  {
   "cell_type": "code",
   "execution_count": null,
   "id": "clear-remains",
   "metadata": {},
   "outputs": [],
   "source": []
  },
  {
   "cell_type": "code",
   "execution_count": null,
   "id": "incredible-engineering",
   "metadata": {},
   "outputs": [],
   "source": []
  }
 ],
 "metadata": {
  "kernelspec": {
   "display_name": "Python 3",
   "language": "python",
   "name": "python3"
  },
  "language_info": {
   "codemirror_mode": {
    "name": "ipython",
    "version": 3
   },
   "file_extension": ".py",
   "mimetype": "text/x-python",
   "name": "python",
   "nbconvert_exporter": "python",
   "pygments_lexer": "ipython3",
   "version": "3.7.10"
  }
 },
 "nbformat": 4,
 "nbformat_minor": 5
}
