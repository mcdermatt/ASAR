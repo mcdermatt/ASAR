{
 "cells": [
  {
   "cell_type": "markdown",
   "id": "rental-ordinary",
   "metadata": {},
   "source": [
    "### Monte-Carlo sims for comparing D2D and DNN solution vectors\n",
    "\n",
    "\n",
    "\n",
    "#### TODO:\n",
    "\n",
    "\n",
    "Bring cartesian representation of corners back to training data generation file\n",
    "\n",
    "Break test data into \"easy, medium, and hard\" scans with varying degrees of perspective shift\n"
   ]
  },
  {
   "cell_type": "code",
   "execution_count": 1,
   "id": "bacterial-nerve",
   "metadata": {},
   "outputs": [
    {
     "name": "stdout",
     "output_type": "stream",
     "text": [
      "2.9.1\n"
     ]
    },
    {
     "data": {
      "application/javascript": [
       "IPython.notebook.set_autosave_interval(180000)"
      ]
     },
     "metadata": {},
     "output_type": "display_data"
    },
    {
     "name": "stdout",
     "output_type": "stream",
     "text": [
      "Autosaving every 180 seconds\n"
     ]
    }
   ],
   "source": [
    "#setup\n",
    "import numpy as np\n",
    "import tensorflow as tf\n",
    "import matplotlib.pyplot as plt\n",
    "import scipy.io as sio\n",
    "import datetime\n",
    "\n",
    "#need to have these two lines to work on my ancient 1060 3gb\n",
    "#  https://stackoverflow.com/questions/43990046/tensorflow-blas-gemm-launch-failed\n",
    "# physical_devices = tf.config.list_physical_devices('GPU') \n",
    "# tf.config.experimental.set_memory_growth(physical_devices[0], True)\n",
    "\n",
    "print(tf.__version__) #requires tensorflow 2.3\n",
    "\n",
    "%matplotlib notebook\n",
    "%load_ext tensorboard\n",
    "%load_ext autoreload\n",
    "%autoreload 2\n",
    "%autosave 180"
   ]
  },
  {
   "cell_type": "code",
   "execution_count": 37,
   "id": "utility-burst",
   "metadata": {},
   "outputs": [
    {
     "name": "stdout",
     "output_type": "stream",
     "text": [
      "(221848, 100, 3)\n",
      "(11677, 100, 3)\n"
     ]
    }
   ],
   "source": [
    "#Load data directly from numpy files-- KEEP IN RAM (DO NOT CONVERT TO TF Tensor!!!)\n",
    "# #_________________________________________________________________\n",
    "# #load individual data numpy files\n",
    "# d1_1 = np.load(\"C:/Users/Derm/Desktop/big/pshift/ICET_Ford_v1_scan1.npy\")\n",
    "# d2_1 = np.load(\"C:/Users/Derm/Desktop/big/pshift/ICET_Ford_v1_scan2.npy\")\n",
    "# gt_1 = np.load(\"C:/Users/Derm/Desktop/big/pshift/ICET_Ford_v1_ground_truth.npy\")\n",
    "# # d1_1 = np.load(\"C:/Users/Derm/Desktop/big/pshift/ICET_Ford_v3_scan1.npy\")\n",
    "# # d2_1 = np.load(\"C:/Users/Derm/Desktop/big/pshift/ICET_Ford_v3_scan2.npy\")\n",
    "# # gt_1 = np.load(\"C:/Users/Derm/Desktop/big/pshift/ICET_Ford_v3_ground_truth.npy\")\n",
    "\n",
    "# # d1_1 = np.load(\"C:/Users/Derm/Desktop/big/pshift/scan1_300k_50_samples.npy\")\n",
    "# # d2_1 = np.load(\"C:/Users/Derm/Desktop/big/pshift/scan2_300k_50_samples.npy\")\n",
    "# # gt_1 = np.load(\"C:/Users/Derm/Desktop/big/pshift/ground_truth_300k_50_samples.npy\")\n",
    "# # gt_1 = gt_1*0.1 #scale to match real-world data (vel-> pos)\n",
    "\n",
    "# # d1_2 = np.load(\"C:/Users/Derm/Desktop/big/pshift/ICET_Ford_v2_scan1.npy\")\n",
    "# # d2_2 = np.load(\"C:/Users/Derm/Desktop/big/pshift/ICET_Ford_v2_scan2.npy\")\n",
    "# # gt_2 = np.load(\"C:/Users/Derm/Desktop/big/pshift/ICET_Ford_v2_ground_truth.npy\")\n",
    "# d1_2 = np.load(\"C:/Users/Derm/Desktop/big/pshift/ICET_Ford_v4_scan1.npy\")\n",
    "# d2_2 = np.load(\"C:/Users/Derm/Desktop/big/pshift/ICET_Ford_v4_scan2.npy\")\n",
    "# gt_2 = np.load(\"C:/Users/Derm/Desktop/big/pshift/ICET_Ford_v4_ground_truth.npy\")\n",
    "\n",
    "\n",
    "# d1 = np.append(d1_1, d1_2, axis = 0)\n",
    "# d2 = np.append(d2_1, d2_2, axis = 0)\n",
    "# gt = np.append(gt_1, gt_2, axis = 0)\n",
    "# #_________________________________________________________________\n",
    "\n",
    "#Single datset\n",
    "d1 = np.load(\"C:/Users/Derm/Desktop/big/pshift/ICET_Ford_v2_scan1.npy\")\n",
    "d2 = np.load(\"C:/Users/Derm/Desktop/big/pshift/ICET_Ford_v2_scan2.npy\")\n",
    "gt = np.load(\"C:/Users/Derm/Desktop/big/pshift/ICET_Ford_v2_ground_truth.npy\")\n",
    "\n",
    "# d1 = np.load(\"C:/Users/Derm/Desktop/big/pshift/scan1_300k_50_samples.npy\")\n",
    "# d2 = np.load(\"C:/Users/Derm/Desktop/big/pshift/scan2_300k_50_samples.npy\")\n",
    "# gt = np.load(\"C:/Users/Derm/Desktop/big/pshift/ground_truth_300k_50_samples.npy\")\n",
    "# gt = gt*0.1 #scale to match real-world data (vel-> pos)\n",
    "#_________________________________________________________________\n",
    "\n",
    "# d1 = np.load(\"training_data/compact_scan1.npy\")\n",
    "# d2 = np.load(\"training_data/compact_scan2.npy\")\n",
    "# gt = np.load(\"training_data/compact_ground_truth.npy\")\n",
    "# LUT = np.load(\"training_data/LUT.npy\")\n",
    "# L = np.load(\"training_data/L.npy\")\n",
    "# U = np.load(\"training_data/U.npy\")\n",
    "# corn = np.load(\"training_data/corn.npy\")\n",
    "#_________________________________________________________________\n",
    "\n",
    "\n",
    "#reshape but don't convert to tensor\n",
    "points_per_sample = 50          #poitns sammpled from each voxel\n",
    "tsplit = 0.95 #0.95                   #this fraction goes into training\n",
    "\n",
    "scan1 = np.reshape(d1, [-1, points_per_sample, 3])\n",
    "scan2 = np.reshape(d2, [-1, points_per_sample, 3])\n",
    "ntrain = int(tsplit*tf.shape(scan1)[0].numpy())\n",
    "\n",
    "x_train = np.append(scan1[:ntrain], scan2[:ntrain], axis = 1)\n",
    "x_test = np.append(scan1[ntrain:], scan2[ntrain:], axis = 1)\n",
    "print(np.shape(x_train))\n",
    "print(np.shape(x_test))\n",
    "\n",
    "y_train = gt[:ntrain] #for standard training/ test data\n",
    "y_test = gt[ntrain:]\n",
    "# y_train = gt[:ntrain][:,:,0] #when using compact data\n",
    "# y_test = gt[ntrain:][:,:,0]\n",
    "LUT = tf.convert_to_tensor(LUT)[ntrain:]\n",
    "U = tf.convert_to_tensor(U)[ntrain:]\n",
    "L = tf.convert_to_tensor(L)[ntrain:]\n",
    "corn_train = corn[:ntrain]\n",
    "corn_test = corn[ntrain:]\n",
    "\n",
    "# print(y_train)\n",
    "# print(np.shape(y_train))\n",
    "# print(np.shape(y_test))\n",
    "# print(np.shape(gt))\n",
    "# print(np.shape(corn))\n",
    "# print(corn)\n",
    "#-------------------------------------------------------------------"
   ]
  },
  {
   "cell_type": "code",
   "execution_count": 18,
   "id": "significant-device",
   "metadata": {},
   "outputs": [],
   "source": [
    "# model = tf.keras.models.load_model(\"FORDNetV3.kmod\")\n",
    "model = tf.keras.models.load_model(\"Net.kmod\")\n",
    "# model = tf.keras.models.load_model(\"FORDNetCP.kmod\")"
   ]
  },
  {
   "cell_type": "code",
   "execution_count": null,
   "id": "floppy-wealth",
   "metadata": {},
   "outputs": [],
   "source": [
    "# DNN = model.predict(x_test[:10])\n",
    "# print(DNN)\n",
    "# print(tf.shape(y_test))\n",
    "# print(tf.shape(x_test))\n",
    "# print(tf.shape(LUT))\n",
    "# print(tf.shape(U))\n",
    "# print(tf.shape(L))"
   ]
  },
  {
   "cell_type": "code",
   "execution_count": 4,
   "id": "protective-flush",
   "metadata": {},
   "outputs": [],
   "source": [
    "#define functions to convert between spherical and cartesian coordinate representations\n",
    "def c2s(pts):\n",
    "    \"\"\" converts points from cartesian coordinates to spherical coordinates \"\"\"\n",
    "    r = tf.sqrt(pts[:,0]**2 + pts[:,1]**2 + pts[:,2]**2)\n",
    "    phi = tf.math.acos(pts[:,2]/r)\n",
    "    theta = tf.math.atan2(pts[:,1], pts[:,0])\n",
    "\n",
    "    out = tf.transpose(tf.Variable([r, theta, phi]))\n",
    "    return(out)\n",
    "def s2c(pts):\n",
    "    \"\"\"converts spherical -> cartesian\"\"\"\n",
    "\n",
    "    x = pts[:,0]*tf.math.sin(pts[:,2])*tf.math.cos(pts[:,1])\n",
    "    y = pts[:,0]*tf.math.sin(pts[:,2])*tf.math.sin(pts[:,1]) \n",
    "    z = pts[:,0]*tf.math.cos(pts[:,2])\n",
    "\n",
    "    out = tf.transpose(tf.Variable([x, y, z]))\n",
    "    # out = tf.Variable([x, y, z])\n",
    "    return(out)"
   ]
  },
  {
   "cell_type": "markdown",
   "id": "declared-burst",
   "metadata": {},
   "source": [
    "### Iterative solution for single test sample"
   ]
  },
  {
   "cell_type": "code",
   "execution_count": 24,
   "id": "quiet-philip",
   "metadata": {},
   "outputs": [
    {
     "name": "stdout",
     "output_type": "stream",
     "text": [
      "446\n",
      "1/1 [==============================] - 0s 14ms/step\n",
      "1/1 [==============================] - 0s 13ms/step\n",
      "1/1 [==============================] - 0s 13ms/step\n",
      "1/1 [==============================] - 0s 20ms/step\n",
      "1/1 [==============================] - 0s 21ms/step\n",
      "1/1 [==============================] - 0s 12ms/step\n",
      "1/1 [==============================] - 0s 12ms/step\n",
      "1/1 [==============================] - 0s 12ms/step\n",
      "1/1 [==============================] - 0s 12ms/step\n",
      "1/1 [==============================] - 0s 12ms/step\n",
      "\n",
      " correct soln [ 0.02719096 -0.0005978   0.01532195]\n",
      "\n",
      " estiamted soln: [[-0.04176365 -0.03068454 -0.06339331]]\n",
      "\n",
      " error from DNN: [[0.06895461 0.03008674 0.07871527]]\n",
      "\n",
      " error in means [-0.00699964 -0.13848411 -0.0386646 ]\n"
     ]
    }
   ],
   "source": [
    "n = int(np.floor(500*np.random.rand()))\n",
    "# n = 0\n",
    "print(n)\n",
    "\n",
    "c1 = np.array([x_test[n,:points_per_sample,0], x_test[n,:points_per_sample,1], x_test[n,:points_per_sample,2]])\n",
    "c2 = np.array([x_test[n,points_per_sample:,0], x_test[n,points_per_sample:,1], x_test[n,points_per_sample:,2]])\n",
    "\n",
    "inputs = x_test[n][None,:]\n",
    "runlen = 10\n",
    "corr_sum = np.zeros([1,3]) #init var to store correction contributions\n",
    "for i in range(runlen):\n",
    "    correction = model.predict(inputs)[0] #show what the network thinks\n",
    "#     correction = correction*0.1 #for synthetic matab data only??\n",
    "#     correction = y_test[n] #show actual solution\n",
    "    corr_sum += correction\n",
    "    c1 = np.array([c1[0,:] + correction[0], c1[1,:] + correction[1], c1[2,:] + correction[2]])\n",
    "    inputs = np.append(c1, c2, axis = 1).T[None,:,:]\n",
    "\n",
    "print(\"\\n correct soln\", y_test[n])\n",
    "print(\"\\n estiamted soln:\", corr_sum)\n",
    "print(\"\\n error from DNN:\", y_test[n] - corr_sum)\n",
    "mean1 = np.mean(x_test[n,:points_per_sample], axis = 0)\n",
    "mean2 = np.mean(x_test[n,points_per_sample:], axis = 0)\n",
    "print(\"\\n error in means\",  y_test[n] + (mean1 - mean2))"
   ]
  },
  {
   "cell_type": "code",
   "execution_count": 25,
   "id": "active-liverpool",
   "metadata": {},
   "outputs": [
    {
     "ename": "InvalidArgumentError",
     "evalue": "slice index 446 of dimension 0 out of bounds. [Op:StridedSlice] name: strided_slice/",
     "output_type": "error",
     "traceback": [
      "\u001b[1;31m---------------------------------------------------------------------------\u001b[0m",
      "\u001b[1;31mInvalidArgumentError\u001b[0m                      Traceback (most recent call last)",
      "Input \u001b[1;32mIn [25]\u001b[0m, in \u001b[0;36m<cell line: 20>\u001b[1;34m()\u001b[0m\n\u001b[0;32m     17\u001b[0m disp\u001b[38;5;241m.\u001b[39mappend(Arrow(mean1 \u001b[38;5;241m+\u001b[39m y_test[n], mean1, c \u001b[38;5;241m=\u001b[39m \u001b[38;5;124m'\u001b[39m\u001b[38;5;124my4\u001b[39m\u001b[38;5;124m'\u001b[39m, res \u001b[38;5;241m=\u001b[39m \u001b[38;5;241m100\u001b[39m)) \u001b[38;5;66;03m#arbitrarily start arrow from scan1 center\u001b[39;00m\n\u001b[0;32m     19\u001b[0m \u001b[38;5;66;03m#draw ground truth arrow cut short by U and L\u001b[39;00m\n\u001b[1;32m---> 20\u001b[0m soln_compact \u001b[38;5;241m=\u001b[39m tf\u001b[38;5;241m.\u001b[39mmatmul(\u001b[43mLUT\u001b[49m\u001b[43m[\u001b[49m\u001b[43mn\u001b[49m\u001b[43m]\u001b[49m, y_test[n][:, \u001b[38;5;28;01mNone\u001b[39;00m])\n\u001b[0;32m     21\u001b[0m soln_compact_xyz \u001b[38;5;241m=\u001b[39m tf\u001b[38;5;241m.\u001b[39mmatmul(U[n], soln_compact)[:,\u001b[38;5;241m0\u001b[39m]\n\u001b[0;32m     22\u001b[0m \u001b[38;5;66;03m# soln_compact_xyz = tf.matmul(tf.transpose(U[n]), soln_compact)[:,0]\u001b[39;00m\n",
      "File \u001b[1;32m~\\anaconda3\\envs\\py39\\lib\\site-packages\\tensorflow\\python\\util\\traceback_utils.py:153\u001b[0m, in \u001b[0;36mfilter_traceback.<locals>.error_handler\u001b[1;34m(*args, **kwargs)\u001b[0m\n\u001b[0;32m    151\u001b[0m \u001b[38;5;28;01mexcept\u001b[39;00m \u001b[38;5;167;01mException\u001b[39;00m \u001b[38;5;28;01mas\u001b[39;00m e:\n\u001b[0;32m    152\u001b[0m   filtered_tb \u001b[38;5;241m=\u001b[39m _process_traceback_frames(e\u001b[38;5;241m.\u001b[39m__traceback__)\n\u001b[1;32m--> 153\u001b[0m   \u001b[38;5;28;01mraise\u001b[39;00m e\u001b[38;5;241m.\u001b[39mwith_traceback(filtered_tb) \u001b[38;5;28;01mfrom\u001b[39;00m \u001b[38;5;28mNone\u001b[39m\n\u001b[0;32m    154\u001b[0m \u001b[38;5;28;01mfinally\u001b[39;00m:\n\u001b[0;32m    155\u001b[0m   \u001b[38;5;28;01mdel\u001b[39;00m filtered_tb\n",
      "File \u001b[1;32m~\\anaconda3\\envs\\py39\\lib\\site-packages\\tensorflow\\python\\framework\\ops.py:7164\u001b[0m, in \u001b[0;36mraise_from_not_ok_status\u001b[1;34m(e, name)\u001b[0m\n\u001b[0;32m   7162\u001b[0m \u001b[38;5;28;01mdef\u001b[39;00m \u001b[38;5;21mraise_from_not_ok_status\u001b[39m(e, name):\n\u001b[0;32m   7163\u001b[0m   e\u001b[38;5;241m.\u001b[39mmessage \u001b[38;5;241m+\u001b[39m\u001b[38;5;241m=\u001b[39m (\u001b[38;5;124m\"\u001b[39m\u001b[38;5;124m name: \u001b[39m\u001b[38;5;124m\"\u001b[39m \u001b[38;5;241m+\u001b[39m name \u001b[38;5;28;01mif\u001b[39;00m name \u001b[38;5;129;01mis\u001b[39;00m \u001b[38;5;129;01mnot\u001b[39;00m \u001b[38;5;28;01mNone\u001b[39;00m \u001b[38;5;28;01melse\u001b[39;00m \u001b[38;5;124m\"\u001b[39m\u001b[38;5;124m\"\u001b[39m)\n\u001b[1;32m-> 7164\u001b[0m   \u001b[38;5;28;01mraise\u001b[39;00m core\u001b[38;5;241m.\u001b[39m_status_to_exception(e) \u001b[38;5;28;01mfrom\u001b[39;00m \u001b[38;5;28mNone\u001b[39m\n",
      "\u001b[1;31mInvalidArgumentError\u001b[0m: slice index 446 of dimension 0 out of bounds. [Op:StridedSlice] name: strided_slice/"
     ]
    }
   ],
   "source": [
    "#use Vedo to plot inital and transformed point clouds in 3D \n",
    "from vedo import *\n",
    "from ipyvtklink.viewer import ViewInteractiveWidget\n",
    "\n",
    "plt1 = Plotter(N = 1, axes = 13, bg = (1, 1, 1), interactive = True)\n",
    "disp = []\n",
    "\n",
    "#draw scan1 \n",
    "# disp.append(Points(x_test[n,:points_per_sample].numpy(), c = 'green', r = 5))\n",
    "disp.append(Points(x_test[n,:points_per_sample], c = 'red', r = 5))\n",
    "\n",
    "#draw initial scan2\n",
    "# disp.append(Points(x_test[n,points_per_sample:].numpy(), c = 'red', r = 5))\n",
    "disp.append(Points(x_test[n,points_per_sample:], c = 'blue', r = 5))\n",
    "\n",
    "#Draw arrow for ground truth soln vec\n",
    "disp.append(Arrow(mean1 + y_test[n], mean1, c = 'y4', res = 100)) #arbitrarily start arrow from scan1 center\n",
    "\n",
    "#draw ground truth arrow cut short by U and L\n",
    "soln_compact = tf.matmul(LUT[n], y_test[n][:, None])\n",
    "soln_compact_xyz = tf.matmul(U[n], soln_compact)[:,0]\n",
    "# soln_compact_xyz = tf.matmul(tf.transpose(U[n]), soln_compact)[:,0]\n",
    "print(soln_compact_xyz)\n",
    "disp.append(Arrow( mean2, mean2 - soln_compact_xyz, c = 'p4', res = 100)) #arbitrarily start arrow from scan1 center\n",
    "\n",
    "#draw the set of 8 points that defined the voxel boundaries for the keyframe scan\n",
    "corn_cart = s2c(corn_test[n])\n",
    "# disp.append(Points(corn_cart, c = 'black', r = 10))\n",
    "\n",
    "#draw box instead of individual points______________________________\n",
    "p1, p2, p3, p4, p5, p6, p7, p8 = corn_cart.numpy()\n",
    "print(p1)\n",
    "print(p2)\n",
    "lineWidth = 2\n",
    "c1 = \"black\"\n",
    "\n",
    "arc1 = shapes.Line(p1, p2, c = c1, lw = lineWidth) \n",
    "disp.append(arc1)\n",
    "arc2 = shapes.Line(p3, p4, c = c1, lw = lineWidth) #debug\n",
    "disp.append(arc2)\n",
    "line1 = shapes.Line(p1, p3, c = c1, lw = lineWidth)\n",
    "disp.append(line1)\n",
    "line2 = shapes.Line(p2, p4, c = c1, lw = lineWidth) #problem here\n",
    "disp.append(line2)\n",
    "arc3 = shapes.Line(p5, p6, c = c1, lw = lineWidth) #debug\n",
    "disp.append(arc3)\n",
    "arc4 = shapes.Line(p7, p8, c = c1, lw = lineWidth) #debug\n",
    "disp.append(arc4)\n",
    "line3 = shapes.Line(p5, p7, c = c1, lw = lineWidth)\n",
    "disp.append(line3)\n",
    "line4 = shapes.Line(p6, p8, c = c1, lw = lineWidth)\n",
    "disp.append(line4)\n",
    "disp.append(shapes.Line(p1,p5, c = c1, lw = lineWidth))\n",
    "disp.append(shapes.Line(p2,p6, c = c1, lw = lineWidth))\n",
    "disp.append(shapes.Line(p3,p7, c = c1, lw = lineWidth))\n",
    "disp.append(shapes.Line(p4,p8, c = c1, lw = lineWidth))\n",
    "#_____________________________________________________________________\n",
    "\n",
    "#draw transformed scan2\n",
    "# disp.append(Points(c1, c = 'blue', r = 5))\n",
    "\n",
    "plt1.show(disp, \"Network Performance Test\")\n",
    "ViewInteractiveWidget(plt1.window)\n"
   ]
  },
  {
   "cell_type": "markdown",
   "id": "classified-christopher",
   "metadata": {},
   "source": [
    "### Run network on all test data"
   ]
  },
  {
   "cell_type": "code",
   "execution_count": 41,
   "id": "proud-puzzle",
   "metadata": {},
   "outputs": [
    {
     "name": "stdout",
     "output_type": "stream",
     "text": [
      "x_test tf.Tensor([11677   100     3], shape=(3,), dtype=int32)\n",
      "365/365 [==============================] - 1s 4ms/step\n",
      "\n",
      " correct soln \n",
      " [[ 1.3427068   0.28033057 -0.08233906]\n",
      " [-0.84379113 -1.19002652 -0.11752342]\n",
      " [ 1.55817676  2.03263688 -0.02357887]\n",
      " ...\n",
      " [-0.36864427 -0.20942391  0.05193758]\n",
      " [-0.49712634  2.78181624  0.11735026]\n",
      " [ 1.32521117 -0.26827535  0.09005117]]\n",
      "\n",
      " estiamted soln: \n",
      " [[ 1.37119126e+00  2.47682005e-01 -9.46199580e-04]\n",
      " [-8.47417057e-01 -1.25208974e+00  6.36248365e-02]\n",
      " [ 1.54584646e+00  2.00052834e+00  2.78207031e-03]\n",
      " ...\n",
      " [-4.85011667e-01 -1.88255347e-02 -1.03679635e-02]\n",
      " [-4.12366241e-01  2.10849071e+00 -7.70751899e-03]\n",
      " [ 1.37857568e+00 -2.65536338e-01  3.84745449e-02]]\n",
      "\n",
      " error from DNN: \n",
      " [[-0.02848446  0.03264856 -0.08139286]\n",
      " [ 0.00362593  0.06206322 -0.18114826]\n",
      " [ 0.01233029  0.03210855 -0.02636094]\n",
      " ...\n",
      " [ 0.1163674  -0.19059838  0.06230554]\n",
      " [-0.0847601   0.67332554  0.12505778]\n",
      " [-0.05336452 -0.00273901  0.05157663]]\n",
      "\n",
      " mean raw DNN error: \n",
      " [0.10501293 0.10236023 0.08123295]\n",
      "\n",
      " mean raw D2D error \n",
      " [0.00341316 0.0040769  0.00115405]\n"
     ]
    }
   ],
   "source": [
    "# for n in range(numToTest):\n",
    "c1 = np.array([x_test[:,:points_per_sample,0], x_test[:,:points_per_sample,1], x_test[:,:points_per_sample,2]])\n",
    "c2 = np.array([x_test[:,points_per_sample:,0], x_test[:,points_per_sample:,1], x_test[:,points_per_sample:,2]])\n",
    "c1 = np.transpose(c1, (1,2,0))\n",
    "c2 = np.transpose(c2, (1,2,0))\n",
    "\n",
    "inputs = x_test\n",
    "# print(\"c1\" , tf.shape(c1))\n",
    "print(\"x_test\" , tf.shape(x_test))\n",
    "runlen = 1\n",
    "corr_sum = np.zeros([tf.shape(x_test)[0].numpy(),1,3]) #init var to store correction contributions\n",
    "for i in range(runlen):\n",
    "    correction = model.predict(inputs)[:,None,:] #show what the network thinks\n",
    "#     correction = correction*0.1 #for synthetic matab data only??\n",
    "#     correction = y_test[n] #show actual solution\n",
    "    corr_sum += correction\n",
    "#     print(\"corr_sum\", tf.shape(corr_sum))\n",
    "    c1 += correction\n",
    "#     print(\"after correction\", tf.shape(c1))\n",
    "    inputs = np.append(c1, c2, axis = 1)#.T\n",
    "#     print(\"\\n new inputs\", tf.shape(inputs))\n",
    "    \n",
    "dnn_estimates = corr_sum[:,0,:]\n",
    "print(\"\\n correct soln \\n\", y_test)\n",
    "print(\"\\n estiamted soln: \\n\", dnn_estimates)\n",
    "print(\"\\n error from DNN: \\n\", y_test - dnn_estimates)\n",
    "\n",
    "# print(\"\\n mean raw DNN error: \\n\", np.sqrt(np.sum(np.mean(np.abs(y_test - dnn_estimates), axis = 0)**2)))\n",
    "print(\"\\n mean raw DNN error: \\n\", np.sqrt(np.mean(np.abs(y_test - dnn_estimates), axis = 0)**2))\n",
    "\n",
    "D2D_distance = np.mean(x_test[:,:points_per_sample], axis = 1) - np.mean(x_test[:,points_per_sample:], axis = 1)\n",
    "# print(tf.shape(D2D_distance))\n",
    "# print(tf.shape(y_test))\n",
    "# print(\"\\n mean raw D2D error \\n\", np.sqrt(np.sum(np.mean(np.abs(y_test + D2D_distance), axis = 0)**2 )))\n",
    "print(\"\\n mean raw D2D error \\n\", np.sqrt(np.sum(np.mean(np.abs(y_test + D2D_distance), axis = 0)**2 )))"
   ]
  },
  {
   "cell_type": "code",
   "execution_count": 27,
   "id": "understanding-gibson",
   "metadata": {},
   "outputs": [
    {
     "ename": "InvalidArgumentError",
     "evalue": "In[0] and In[1] must have compatible batch dimensions: [0,3,3] vs. [3200,3,1] [Op:BatchMatMulV2]",
     "output_type": "error",
     "traceback": [
      "\u001b[1;31m---------------------------------------------------------------------------\u001b[0m",
      "\u001b[1;31mInvalidArgumentError\u001b[0m                      Traceback (most recent call last)",
      "Input \u001b[1;32mIn [27]\u001b[0m, in \u001b[0;36m<cell line: 5>\u001b[1;34m()\u001b[0m\n\u001b[0;32m      1\u001b[0m \u001b[38;5;66;03m#just considering the residuals doesn't tell the whole story \u001b[39;00m\n\u001b[0;32m      2\u001b[0m \u001b[38;5;66;03m#   we need to consider error in COMPACT only directions\u001b[39;00m\n\u001b[0;32m      3\u001b[0m \n\u001b[0;32m      4\u001b[0m \u001b[38;5;66;03m#use LUT to get compact axis of DNN solution vec for each trial\u001b[39;00m\n\u001b[1;32m----> 5\u001b[0m dnn_compact \u001b[38;5;241m=\u001b[39m \u001b[43mtf\u001b[49m\u001b[38;5;241;43m.\u001b[39;49m\u001b[43mmatmul\u001b[49m\u001b[43m(\u001b[49m\u001b[43mLUT\u001b[49m\u001b[43m,\u001b[49m\u001b[43m \u001b[49m\u001b[43mdnn_estimates\u001b[49m\u001b[43m[\u001b[49m\u001b[43m:\u001b[49m\u001b[43m,\u001b[49m\u001b[43m:\u001b[49m\u001b[43m,\u001b[49m\u001b[38;5;28;43;01mNone\u001b[39;49;00m\u001b[43m]\u001b[49m\u001b[43m)\u001b[49m\n\u001b[0;32m      6\u001b[0m dnn_compact_xyz \u001b[38;5;241m=\u001b[39m tf\u001b[38;5;241m.\u001b[39mmatmul(U, dnn_compact)\n\u001b[0;32m      8\u001b[0m \u001b[38;5;66;03m#for distrubution means distance\u001b[39;00m\n",
      "File \u001b[1;32m~\\anaconda3\\envs\\py39\\lib\\site-packages\\tensorflow\\python\\util\\traceback_utils.py:153\u001b[0m, in \u001b[0;36mfilter_traceback.<locals>.error_handler\u001b[1;34m(*args, **kwargs)\u001b[0m\n\u001b[0;32m    151\u001b[0m \u001b[38;5;28;01mexcept\u001b[39;00m \u001b[38;5;167;01mException\u001b[39;00m \u001b[38;5;28;01mas\u001b[39;00m e:\n\u001b[0;32m    152\u001b[0m   filtered_tb \u001b[38;5;241m=\u001b[39m _process_traceback_frames(e\u001b[38;5;241m.\u001b[39m__traceback__)\n\u001b[1;32m--> 153\u001b[0m   \u001b[38;5;28;01mraise\u001b[39;00m e\u001b[38;5;241m.\u001b[39mwith_traceback(filtered_tb) \u001b[38;5;28;01mfrom\u001b[39;00m \u001b[38;5;28mNone\u001b[39m\n\u001b[0;32m    154\u001b[0m \u001b[38;5;28;01mfinally\u001b[39;00m:\n\u001b[0;32m    155\u001b[0m   \u001b[38;5;28;01mdel\u001b[39;00m filtered_tb\n",
      "File \u001b[1;32m~\\anaconda3\\envs\\py39\\lib\\site-packages\\tensorflow\\python\\framework\\ops.py:7164\u001b[0m, in \u001b[0;36mraise_from_not_ok_status\u001b[1;34m(e, name)\u001b[0m\n\u001b[0;32m   7162\u001b[0m \u001b[38;5;28;01mdef\u001b[39;00m \u001b[38;5;21mraise_from_not_ok_status\u001b[39m(e, name):\n\u001b[0;32m   7163\u001b[0m   e\u001b[38;5;241m.\u001b[39mmessage \u001b[38;5;241m+\u001b[39m\u001b[38;5;241m=\u001b[39m (\u001b[38;5;124m\"\u001b[39m\u001b[38;5;124m name: \u001b[39m\u001b[38;5;124m\"\u001b[39m \u001b[38;5;241m+\u001b[39m name \u001b[38;5;28;01mif\u001b[39;00m name \u001b[38;5;129;01mis\u001b[39;00m \u001b[38;5;129;01mnot\u001b[39;00m \u001b[38;5;28;01mNone\u001b[39;00m \u001b[38;5;28;01melse\u001b[39;00m \u001b[38;5;124m\"\u001b[39m\u001b[38;5;124m\"\u001b[39m)\n\u001b[1;32m-> 7164\u001b[0m   \u001b[38;5;28;01mraise\u001b[39;00m core\u001b[38;5;241m.\u001b[39m_status_to_exception(e) \u001b[38;5;28;01mfrom\u001b[39;00m \u001b[38;5;28mNone\u001b[39m\n",
      "\u001b[1;31mInvalidArgumentError\u001b[0m: In[0] and In[1] must have compatible batch dimensions: [0,3,3] vs. [3200,3,1] [Op:BatchMatMulV2]"
     ]
    }
   ],
   "source": [
    "#just considering the residuals doesn't tell the whole story \n",
    "#   we need to consider error in COMPACT only directions\n",
    "\n",
    "#use LUT to get compact axis of DNN solution vec for each trial\n",
    "dnn_compact = tf.matmul(LUT, dnn_estimates[:,:,None])\n",
    "dnn_compact_xyz = tf.matmul(U, dnn_compact)\n",
    "\n",
    "#for distrubution means distance\n",
    "d2d_compact = tf.matmul(LUT, D2D_distance[:,:,None])\n",
    "d2d_compact_xyz = tf.matmul(U, d2d_compact)\n",
    "\n",
    "truth_compact = tf.matmul(LUT, y_test[:,:,None])\n",
    "truth_compact_xyz = tf.matmul(U, truth_compact)\n",
    "\n",
    "error_DNN_compact = np.sqrt(np.sum( np.mean(np.abs(truth_compact_xyz - dnn_compact_xyz), axis = 0)**2 ))\n",
    "print(\"\\n mean compact error DNN: \\n\", error_DNN_compact)\n",
    "\n",
    "error_D2D_compact = np.sqrt(np.sum( np.mean(np.abs(truth_compact_xyz + d2d_compact_xyz), axis = 0)**2 ))\n",
    "print(\"\\n mean compact error D2D: \\n\", error_D2D_compact)\n",
    "\n"
   ]
  },
  {
   "cell_type": "code",
   "execution_count": null,
   "id": "entire-brick",
   "metadata": {},
   "outputs": [],
   "source": [
    "s2c(corn_test[n])"
   ]
  },
  {
   "cell_type": "code",
   "execution_count": null,
   "id": "mineral-celebration",
   "metadata": {},
   "outputs": [],
   "source": []
  }
 ],
 "metadata": {
  "kernelspec": {
   "display_name": "Python 3 (ipykernel)",
   "language": "python",
   "name": "python3"
  },
  "language_info": {
   "codemirror_mode": {
    "name": "ipython",
    "version": 3
   },
   "file_extension": ".py",
   "mimetype": "text/x-python",
   "name": "python",
   "nbconvert_exporter": "python",
   "pygments_lexer": "ipython3",
   "version": "3.9.12"
  }
 },
 "nbformat": 4,
 "nbformat_minor": 5
}
