{
 "cells": [
  {
   "cell_type": "markdown",
   "id": "handmade-standing",
   "metadata": {},
   "source": [
    "### File for generating figures for DNN filter paper"
   ]
  },
  {
   "cell_type": "code",
   "execution_count": 8,
   "id": "sized-concentration",
   "metadata": {},
   "outputs": [
    {
     "name": "stdout",
     "output_type": "stream",
     "text": [
      "2.3.0\n",
      "The tensorboard extension is already loaded. To reload it, use:\n",
      "  %reload_ext tensorboard\n",
      "The autoreload extension is already loaded. To reload it, use:\n",
      "  %reload_ext autoreload\n"
     ]
    },
    {
     "data": {
      "application/javascript": [
       "IPython.notebook.set_autosave_interval(180000)"
      ]
     },
     "metadata": {},
     "output_type": "display_data"
    },
    {
     "name": "stdout",
     "output_type": "stream",
     "text": [
      "Autosaving every 180 seconds\n"
     ]
    }
   ],
   "source": [
    "#setup - rememeber to switch to tensorflow 2.3 kernel...\n",
    "import numpy as np\n",
    "import tensorflow as tf\n",
    "import matplotlib.pyplot as plt\n",
    "import scipy.io as sio\n",
    "import datetime\n",
    "import trimesh\n",
    "import time\n",
    "from vedo import *\n",
    "from ipyvtklink.viewer import ViewInteractiveWidget\n",
    "\n",
    "#need to have these two lines to work on my ancient 1060 3gb\n",
    "#  https://stackoverflow.com/questions/43990046/tensorflow-blas-gemm-launch-failed\n",
    "physical_devices = tf.config.list_physical_devices('GPU') \n",
    "tf.config.experimental.set_memory_growth(physical_devices[0], True)\n",
    "\n",
    "print(tf.__version__)\n",
    "\n",
    "%matplotlib inline\n",
    "plt.rcParams['figure.figsize'] = (10.0, 8.0) # set default size of plots\n",
    "plt.rcParams['image.interpolation'] = 'nearest'\n",
    "plt.rcParams['image.cmap'] = 'gray'\n",
    "%matplotlib notebook\n",
    "\n",
    "%load_ext tensorboard\n",
    "\n",
    "# for auto-reloading external modules\n",
    "%load_ext autoreload\n",
    "%autoreload 2\n",
    "%autosave 180"
   ]
  },
  {
   "cell_type": "code",
   "execution_count": 9,
   "id": "selective-fitness",
   "metadata": {},
   "outputs": [
    {
     "name": "stdout",
     "output_type": "stream",
     "text": [
      "[-40.   -40.    -1.72]\n"
     ]
    }
   ],
   "source": [
    "#load mesh of object\n",
    "surf_fn = \"C:/Users/Derm/vaRLnt/v3/demo/sigmaPoint/wall_scaled.stl\"\n",
    "M = trimesh.load(surf_fn)\n",
    "#get ground truth translation\n",
    "gt = np.loadtxt(\"C:/Users/Derm/vaRLnt/v3/demo/sigmaPoint/gt.txt\")\n",
    "print(gt)\n",
    "#load point clouds of surface generated in Matlab\n",
    "pts1_fn = \"C:/Users/Derm/vaRLnt/v3/demo/sigmaPoint/s1.txt\"\n",
    "pts1 = np.loadtxt(pts1_fn)\n",
    "pts2_fn = \"C:/Users/Derm/vaRLnt/v3/demo/sigmaPoint/s2.txt\"\n",
    "pts2 = np.loadtxt(pts2_fn)\n",
    "# pts = pts - gt #+ np.array([20,5,1.72])"
   ]
  },
  {
   "cell_type": "code",
   "execution_count": 18,
   "id": "compound-cookbook",
   "metadata": {},
   "outputs": [
    {
     "data": {
      "application/vnd.jupyter.widget-view+json": {
       "model_id": "0a36a633acf74796a2b587b2ca6de1e1",
       "version_major": 2,
       "version_minor": 0
      },
      "text/plain": [
       "ViewInteractiveWidget(height=960, layout=Layout(height='auto', width='100%'), width=960)"
      ]
     },
     "metadata": {},
     "output_type": "display_data"
    }
   ],
   "source": [
    "#plot with Vedo\n",
    "plt1 = Plotter(N = 1, axes = 4, bg = (1, 1, 1), interactive = True)\n",
    "disp = []\n",
    "disp.append(Points(pts1, c = 'blue', r = 5))\n",
    "w = Mesh(M).c(\"gray\").alpha(1)\n",
    "w.pos(gt[0], gt[1], gt[2])\n",
    "disp.append(w)\n",
    "plt1.show(disp, \"Fig 2.1\")\n",
    "ViewInteractiveWidget(plt1.window)"
   ]
  },
  {
   "cell_type": "markdown",
   "id": "binary-calcium",
   "metadata": {},
   "source": [
    "## Plot Points + distributions"
   ]
  },
  {
   "cell_type": "code",
   "execution_count": 14,
   "id": "demanding-lottery",
   "metadata": {},
   "outputs": [
    {
     "name": "stdout",
     "output_type": "stream",
     "text": [
      "\n",
      " estimated solution vector X: \n",
      " tf.Tensor([0. 0. 0. 0. 0. 0.], shape=(6,), dtype=float32)\n",
      "\n",
      " estimated solution vector X: \n",
      " tf.Tensor([ 0.16795835  0.15730187  0.02488479 -0.00243735  0.00048641 -0.0468597 ], shape=(6,), dtype=float32)\n",
      "\n",
      " estimated solution vector X: \n",
      " tf.Tensor([ 0.05870809  0.06011345  0.01452601  0.01167046  0.00593119 -0.04243828], shape=(6,), dtype=float32)\n",
      "\n",
      " estimated solution vector X: \n",
      " tf.Tensor([ 0.11494814  0.11475622  0.02274464  0.00891307  0.00510857 -0.04389664], shape=(6,), dtype=float32)\n",
      "\n",
      " estimated solution vector X: \n",
      " tf.Tensor([ 0.1175898   0.11732428  0.02311989  0.00926398  0.00588422 -0.04374135], shape=(6,), dtype=float32)\n",
      "pred_stds: \n",
      " tf.Tensor([0.00492102 0.00478641 0.0007244  0.00189868 0.00163151 0.00030081], shape=(6,), dtype=float32)\n",
      " L2: \n",
      " tf.Tensor(\n",
      "[[0. 1. 0. 0. 0. 0.]\n",
      " [0. 0. 1. 0. 0. 0.]\n",
      " [0. 0. 0. 1. 0. 0.]\n",
      " [0. 0. 0. 0. 1. 0.]\n",
      " [0. 0. 0. 0. 0. 1.]], shape=(5, 6), dtype=float32)\n"
     ]
    }
   ],
   "source": [
    "#Run ICET\n",
    "import os\n",
    "import sys\n",
    "import inspect\n",
    "currentdir = os.path.dirname(os.path.abspath(inspect.getfile(inspect.currentframe())))\n",
    "parentdir = os.path.dirname(currentdir)\n",
    "sys.path.insert(0, parentdir)\n",
    "from ICET_spherical import ICET\n",
    "# print(currentdir)\n",
    "# print(parentdir)\n",
    "\n",
    "D = True\n",
    "# D = False\n",
    "it1 = ICET(cloud1 = pts1, cloud2 = pts2,  fid = 40, draw = D, \n",
    "            niter = 5, group= 2, RM = False, DNN_filter = False)\n",
    "if D == True:\n",
    "    ViewInteractiveWidget(it1.plt.window)"
   ]
  },
  {
   "cell_type": "code",
   "execution_count": null,
   "id": "antique-concord",
   "metadata": {},
   "outputs": [],
   "source": []
  },
  {
   "cell_type": "code",
   "execution_count": 6,
   "id": "heavy-consultation",
   "metadata": {},
   "outputs": [
    {
     "name": "stdout",
     "output_type": "stream",
     "text": [
      "tf.Tensor([[0 1 2 3 4]], shape=(1, 5), dtype=int64)\n",
      "tf.Tensor([[0 1 5]], shape=(1, 3), dtype=int64)\n",
      "tf.Tensor(\n",
      "[[0 2]\n",
      " [0 3]\n",
      " [0 4]], shape=(3, 2), dtype=int64)\n",
      "tf.Tensor([[1 1]], shape=(1, 2), dtype=int64)\n",
      "tf.Tensor(\n",
      "[[1 1]\n",
      " [0 2]\n",
      " [0 3]\n",
      " [0 4]], shape=(4, 2), dtype=int64)\n"
     ]
    }
   ],
   "source": [
    "#unit test for fixing no skip bug\n",
    "all_spikes = tf.cast(tf.linspace(0,4,5), tf.int64)[None,:]\n",
    "used = tf.constant([0, 1, 5], dtype = tf.int64)[None,:]\n",
    "print(all_spikes)\n",
    "print(used)\n",
    "\n",
    "to_add = tf.sets.difference(all_spikes, used).values[None,:]\n",
    "z = tf.zeros(tf.shape(to_add), dtype = tf.int64)\n",
    "# print(z)\n",
    "to_add = tf.transpose(tf.concat((z, to_add), axis = 0))\n",
    "print(to_add)\n",
    "\n",
    "# print(tf.math.reduce_max(used))\n",
    "\n",
    "t = tf.constant([[1,1]], dtype = tf.int64)\n",
    "print(t)\n",
    "ans = tf.concat((t, to_add), axis = 0)\n",
    "print(ans)\n"
   ]
  },
  {
   "cell_type": "code",
   "execution_count": null,
   "id": "private-bouquet",
   "metadata": {},
   "outputs": [],
   "source": []
  }
 ],
 "metadata": {
  "kernelspec": {
   "display_name": "Python 3",
   "language": "python",
   "name": "python3"
  },
  "language_info": {
   "codemirror_mode": {
    "name": "ipython",
    "version": 3
   },
   "file_extension": ".py",
   "mimetype": "text/x-python",
   "name": "python",
   "nbconvert_exporter": "python",
   "pygments_lexer": "ipython3",
   "version": "3.7.10"
  }
 },
 "nbformat": 4,
 "nbformat_minor": 5
}
