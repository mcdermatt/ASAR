{
 "cells": [
  {
   "cell_type": "code",
   "execution_count": null,
   "id": "aac09008",
   "metadata": {},
   "outputs": [],
   "source": [
    "import argparse\n",
    "import os\n",
    "import sys\n",
    "import logging\n",
    "import numpy\n",
    "import numpy as np\n",
    "import torch\n",
    "import torch.utils.data\n",
    "import torchvision\n",
    "from torch.utils.data import DataLoader\n",
    "from tensorboardX import SummaryWriter\n",
    "from tqdm import tqdm\n",
    "\n",
    "%matplotlib notebook\n",
    "# %load_ext tensorboard\n",
    "%load_ext autoreload\n",
    "%autoreload 2\n",
    "%autosave 180"
   ]
  },
  {
   "cell_type": "code",
   "execution_count": null,
   "id": "3cea90dd",
   "metadata": {},
   "outputs": [],
   "source": [
    "from learning3d.models import PointNet"
   ]
  },
  {
   "cell_type": "code",
   "execution_count": null,
   "id": "e510de28",
   "metadata": {},
   "outputs": [],
   "source": [
    "pn = PointNet(emb_dims=1024, input_shape='bnc', use_bn=False)"
   ]
  },
  {
   "cell_type": "code",
   "execution_count": null,
   "id": "9a1cd69f",
   "metadata": {},
   "outputs": [],
   "source": [
    "print(pn)"
   ]
  },
  {
   "cell_type": "code",
   "execution_count": null,
   "id": "4c24d43b",
   "metadata": {},
   "outputs": [],
   "source": []
  }
 ],
 "metadata": {
  "kernelspec": {
   "display_name": "Python 3 (ipykernel)",
   "language": "python",
   "name": "python3"
  },
  "language_info": {
   "codemirror_mode": {
    "name": "ipython",
    "version": 3
   },
   "file_extension": ".py",
   "mimetype": "text/x-python",
   "name": "python",
   "nbconvert_exporter": "python",
   "pygments_lexer": "ipython3",
   "version": "3.9.13"
  }
 },
 "nbformat": 4,
 "nbformat_minor": 5
}
