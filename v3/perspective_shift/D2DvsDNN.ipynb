{
 "cells": [
  {
   "cell_type": "markdown",
   "id": "rental-ordinary",
   "metadata": {},
   "source": [
    "### Monte-Carlo sims for comparing D2D and DNN solution vectors\n",
    "\n",
    "\n",
    "\n",
    "#### TODO:\n",
    "\n",
    "\n",
    "Bring cartesian representation of corners back to training data generation file\n",
    "\n",
    "Break test data into \"easy, medium, and hard\" scans with varying degrees of perspective shift\n"
   ]
  },
  {
   "cell_type": "code",
   "execution_count": 1,
   "id": "bacterial-nerve",
   "metadata": {},
   "outputs": [
    {
     "name": "stdout",
     "output_type": "stream",
     "text": [
      "2.9.1\n"
     ]
    },
    {
     "data": {
      "application/javascript": [
       "IPython.notebook.set_autosave_interval(180000)"
      ]
     },
     "metadata": {},
     "output_type": "display_data"
    },
    {
     "name": "stdout",
     "output_type": "stream",
     "text": [
      "Autosaving every 180 seconds\n"
     ]
    }
   ],
   "source": [
    "#setup\n",
    "import numpy as np\n",
    "import tensorflow as tf\n",
    "import matplotlib.pyplot as plt\n",
    "import scipy.io as sio\n",
    "import datetime\n",
    "\n",
    "#need to have these two lines to work on my ancient 1060 3gb\n",
    "#  https://stackoverflow.com/questions/43990046/tensorflow-blas-gemm-launch-failed\n",
    "# physical_devices = tf.config.list_physical_devices('GPU') \n",
    "# tf.config.experimental.set_memory_growth(physical_devices[0], True)\n",
    "\n",
    "print(tf.__version__) #requires tensorflow 2.3\n",
    "\n",
    "%matplotlib notebook\n",
    "%load_ext tensorboard\n",
    "%load_ext autoreload\n",
    "%autoreload 2\n",
    "%autosave 180"
   ]
  },
  {
   "cell_type": "code",
   "execution_count": 2,
   "id": "utility-burst",
   "metadata": {},
   "outputs": [
    {
     "name": "stdout",
     "output_type": "stream",
     "text": [
      "(1471, 100, 3)\n",
      "(1472, 100, 3)\n"
     ]
    }
   ],
   "source": [
    "#Load data directly from numpy files-- KEEP IN RAM (DO NOT CONVERT TO TF Tensor!!!)\n",
    "# #_________________________________________________________________\n",
    "# #load individual data numpy files\n",
    "# d1_1 = np.load(\"C:/Users/Derm/Desktop/big/pshift/ICET_Ford_v1_scan1.npy\")\n",
    "# d2_1 = np.load(\"C:/Users/Derm/Desktop/big/pshift/ICET_Ford_v1_scan2.npy\")\n",
    "# gt_1 = np.load(\"C:/Users/Derm/Desktop/big/pshift/ICET_Ford_v1_ground_truth.npy\")\n",
    "# # d1_1 = np.load(\"C:/Users/Derm/Desktop/big/pshift/ICET_Ford_v3_scan1.npy\")\n",
    "# # d2_1 = np.load(\"C:/Users/Derm/Desktop/big/pshift/ICET_Ford_v3_scan2.npy\")\n",
    "# # gt_1 = np.load(\"C:/Users/Derm/Desktop/big/pshift/ICET_Ford_v3_ground_truth.npy\")\n",
    "\n",
    "# # d1_1 = np.load(\"C:/Users/Derm/Desktop/big/pshift/scan1_300k_50_samples.npy\")\n",
    "# # d2_1 = np.load(\"C:/Users/Derm/Desktop/big/pshift/scan2_300k_50_samples.npy\")\n",
    "# # gt_1 = np.load(\"C:/Users/Derm/Desktop/big/pshift/ground_truth_300k_50_samples.npy\")\n",
    "# # gt_1 = gt_1*0.1 #scale to match real-world data (vel-> pos)\n",
    "\n",
    "# # d1_2 = np.load(\"C:/Users/Derm/Desktop/big/pshift/ICET_Ford_v2_scan1.npy\")\n",
    "# # d2_2 = np.load(\"C:/Users/Derm/Desktop/big/pshift/ICET_Ford_v2_scan2.npy\")\n",
    "# # gt_2 = np.load(\"C:/Users/Derm/Desktop/big/pshift/ICET_Ford_v2_ground_truth.npy\")\n",
    "# d1_2 = np.load(\"C:/Users/Derm/Desktop/big/pshift/ICET_Ford_v4_scan1.npy\")\n",
    "# d2_2 = np.load(\"C:/Users/Derm/Desktop/big/pshift/ICET_Ford_v4_scan2.npy\")\n",
    "# gt_2 = np.load(\"C:/Users/Derm/Desktop/big/pshift/ICET_Ford_v4_ground_truth.npy\")\n",
    "\n",
    "\n",
    "# d1 = np.append(d1_1, d1_2, axis = 0)\n",
    "# d2 = np.append(d2_1, d2_2, axis = 0)\n",
    "# gt = np.append(gt_1, gt_2, axis = 0)\n",
    "# #_________________________________________________________________\n",
    "\n",
    "#Single datset\n",
    "# d1 = np.load(\"C:/Users/Derm/Desktop/big/pshift/ICET_Ford_v2_scan1.npy\")\n",
    "# d2 = np.load(\"C:/Users/Derm/Desktop/big/pshift/ICET_Ford_v2_scan2.npy\")\n",
    "# gt = np.load(\"C:/Users/Derm/Desktop/big/pshift/ICET_Ford_v2_ground_truth.npy\")\n",
    "\n",
    "# d1 = np.load(\"C:/Users/Derm/Desktop/big/pshift/scan1_300k_50_samples.npy\")\n",
    "# d2 = np.load(\"C:/Users/Derm/Desktop/big/pshift/scan2_300k_50_samples.npy\")\n",
    "# gt = np.load(\"C:/Users/Derm/Desktop/big/pshift/ground_truth_300k_50_samples.npy\")\n",
    "# gt = gt*0.1 #scale to match real-world data (vel-> pos)\n",
    "#_________________________________________________________________\n",
    "\n",
    "d1 = np.load(\"training_data/compact_scan1.npy\")\n",
    "d2 = np.load(\"training_data/compact_scan2.npy\")\n",
    "gt = np.load(\"training_data/compact_ground_truth.npy\")\n",
    "LUT = np.load(\"training_data/LUT.npy\")\n",
    "L = np.load(\"training_data/L.npy\")\n",
    "U = np.load(\"training_data/U.npy\")\n",
    "corn = np.load(\"training_data/corn.npy\")\n",
    "#_________________________________________________________________\n",
    "\n",
    "\n",
    "#reshape but don't convert to tensor\n",
    "points_per_sample = 50          #poitns sammpled from each voxel\n",
    "tsplit = 0.5 #0.95                   #this fraction goes into training\n",
    "\n",
    "scan1 = np.reshape(d1, [-1, points_per_sample, 3])\n",
    "scan2 = np.reshape(d2, [-1, points_per_sample, 3])\n",
    "ntrain = int(tsplit*tf.shape(scan1)[0].numpy())\n",
    "\n",
    "x_train = np.append(scan1[:ntrain], scan2[:ntrain], axis = 1)\n",
    "x_test = np.append(scan1[ntrain:], scan2[ntrain:], axis = 1)\n",
    "print(np.shape(x_train))\n",
    "print(np.shape(x_test))\n",
    "\n",
    "y_train = gt[:ntrain] #for standard training/ test data\n",
    "y_test = gt[ntrain:]\n",
    "# y_train = gt[:ntrain][:,:,0] #when using compact data\n",
    "# y_test = gt[ntrain:][:,:,0]\n",
    "LUT = tf.convert_to_tensor(LUT)[ntrain:]\n",
    "U = tf.convert_to_tensor(U)[ntrain:]\n",
    "L = tf.convert_to_tensor(L)[ntrain:]\n",
    "corn_train = corn[:ntrain]\n",
    "corn_test = corn[ntrain:]\n",
    "\n",
    "# print(y_train)\n",
    "# print(np.shape(y_train))\n",
    "# print(np.shape(y_test))\n",
    "# print(np.shape(gt))\n",
    "# print(np.shape(corn))\n",
    "# print(corn)\n",
    "#-------------------------------------------------------------------"
   ]
  },
  {
   "cell_type": "code",
   "execution_count": 3,
   "id": "significant-device",
   "metadata": {},
   "outputs": [],
   "source": [
    "# model = tf.keras.models.load_model(\"FORDNetV3.kmod\")\n",
    "model = tf.keras.models.load_model(\"FORDNetCP.kmod\")"
   ]
  },
  {
   "cell_type": "code",
   "execution_count": 8,
   "id": "floppy-wealth",
   "metadata": {},
   "outputs": [],
   "source": [
    "# DNN = model.predict(x_test[:10])\n",
    "# print(DNN)\n",
    "# print(tf.shape(y_test))\n",
    "# print(tf.shape(x_test))\n",
    "# print(tf.shape(LUT))\n",
    "# print(tf.shape(U))\n",
    "# print(tf.shape(L))"
   ]
  },
  {
   "cell_type": "code",
   "execution_count": 4,
   "id": "protective-flush",
   "metadata": {},
   "outputs": [],
   "source": [
    "#define functions to convert between spherical and cartesian coordinate representations\n",
    "def c2s(pts):\n",
    "    \"\"\" converts points from cartesian coordinates to spherical coordinates \"\"\"\n",
    "    r = tf.sqrt(pts[:,0]**2 + pts[:,1]**2 + pts[:,2]**2)\n",
    "    phi = tf.math.acos(pts[:,2]/r)\n",
    "    theta = tf.math.atan2(pts[:,1], pts[:,0])\n",
    "\n",
    "    out = tf.transpose(tf.Variable([r, theta, phi]))\n",
    "    return(out)\n",
    "def s2c(pts):\n",
    "    \"\"\"converts spherical -> cartesian\"\"\"\n",
    "\n",
    "    x = pts[:,0]*tf.math.sin(pts[:,2])*tf.math.cos(pts[:,1])\n",
    "    y = pts[:,0]*tf.math.sin(pts[:,2])*tf.math.sin(pts[:,1]) \n",
    "    z = pts[:,0]*tf.math.cos(pts[:,2])\n",
    "\n",
    "    out = tf.transpose(tf.Variable([x, y, z]))\n",
    "    # out = tf.Variable([x, y, z])\n",
    "    return(out)"
   ]
  },
  {
   "cell_type": "markdown",
   "id": "declared-burst",
   "metadata": {},
   "source": [
    "### Iterative solution for single test sample"
   ]
  },
  {
   "cell_type": "code",
   "execution_count": 6,
   "id": "quiet-philip",
   "metadata": {},
   "outputs": [
    {
     "name": "stdout",
     "output_type": "stream",
     "text": [
      "47\n",
      "1/1 [==============================] - 0s 14ms/step\n",
      "1/1 [==============================] - 0s 12ms/step\n",
      "1/1 [==============================] - 0s 11ms/step\n",
      "1/1 [==============================] - 0s 13ms/step\n",
      "1/1 [==============================] - 0s 11ms/step\n",
      "1/1 [==============================] - 0s 11ms/step\n",
      "1/1 [==============================] - 0s 17ms/step\n",
      "1/1 [==============================] - 0s 16ms/step\n",
      "1/1 [==============================] - 0s 12ms/step\n",
      "1/1 [==============================] - 0s 11ms/step\n",
      "\n",
      " correct soln [ 0.52963376 -1.5925289  -0.11975689]\n",
      "\n",
      " estiamted soln: [[ 0.51067625 -1.73462761 -0.16316545]]\n",
      "\n",
      " error from DNN: [[0.01895751 0.14209867 0.04340855]]\n",
      "\n",
      " error in means [0.00147319 0.00860536 0.02639726]\n"
     ]
    }
   ],
   "source": [
    "n = int(np.floor(500*np.random.rand()))\n",
    "# n = 0\n",
    "print(n)\n",
    "\n",
    "c1 = np.array([x_test[n,:points_per_sample,0], x_test[n,:points_per_sample,1], x_test[n,:points_per_sample,2]])\n",
    "c2 = np.array([x_test[n,points_per_sample:,0], x_test[n,points_per_sample:,1], x_test[n,points_per_sample:,2]])\n",
    "\n",
    "inputs = x_test[n][None,:]\n",
    "runlen = 10\n",
    "corr_sum = np.zeros([1,3]) #init var to store correction contributions\n",
    "for i in range(runlen):\n",
    "    correction = model.predict(inputs)[0] #show what the network thinks\n",
    "#     correction = correction*0.1 #for synthetic matab data only??\n",
    "#     correction = y_test[n] #show actual solution\n",
    "    corr_sum += correction\n",
    "    c1 = np.array([c1[0,:] + correction[0], c1[1,:] + correction[1], c1[2,:] + correction[2]])\n",
    "    inputs = np.append(c1, c2, axis = 1).T[None,:,:]\n",
    "\n",
    "print(\"\\n correct soln\", y_test[n])\n",
    "print(\"\\n estiamted soln:\", corr_sum)\n",
    "print(\"\\n error from DNN:\", y_test[n] - corr_sum)\n",
    "mean1 = np.mean(x_test[n,:points_per_sample], axis = 0)\n",
    "mean2 = np.mean(x_test[n,points_per_sample:], axis = 0)\n",
    "print(\"\\n error in means\",  y_test[n] + (mean1 - mean2))"
   ]
  },
  {
   "cell_type": "code",
   "execution_count": 7,
   "id": "active-liverpool",
   "metadata": {},
   "outputs": [
    {
     "name": "stdout",
     "output_type": "stream",
     "text": [
      "tf.Tensor([ 0.53243005  0.00128222 -0.05259839], shape=(3,), dtype=float32)\n",
      "[ 4.709242   -3.4214644   0.20789552]\n",
      "[ 4.9969807  -2.9855585   0.20789552]\n"
     ]
    },
    {
     "data": {
      "application/vnd.jupyter.widget-view+json": {
       "model_id": "f25d3237d06a432bba2e67448dbbe98d",
       "version_major": 2,
       "version_minor": 0
      },
      "text/plain": [
       "ViewInteractiveWidget(height=960, layout=Layout(height='auto', width='100%'), width=960)"
      ]
     },
     "metadata": {},
     "output_type": "display_data"
    }
   ],
   "source": [
    "#use Vedo to plot inital and transformed point clouds in 3D \n",
    "from vedo import *\n",
    "from ipyvtklink.viewer import ViewInteractiveWidget\n",
    "\n",
    "plt1 = Plotter(N = 1, axes = 13, bg = (1, 1, 1), interactive = True)\n",
    "disp = []\n",
    "\n",
    "#draw scan1 \n",
    "# disp.append(Points(x_test[n,:points_per_sample].numpy(), c = 'green', r = 5))\n",
    "disp.append(Points(x_test[n,:points_per_sample], c = 'red', r = 5))\n",
    "\n",
    "#draw initial scan2\n",
    "# disp.append(Points(x_test[n,points_per_sample:].numpy(), c = 'red', r = 5))\n",
    "disp.append(Points(x_test[n,points_per_sample:], c = 'blue', r = 5))\n",
    "\n",
    "#Draw arrow for ground truth soln vec\n",
    "disp.append(Arrow(mean1 + y_test[n], mean1, c = 'y4', res = 100)) #arbitrarily start arrow from scan1 center\n",
    "\n",
    "#draw ground truth arrow cut short by U and L\n",
    "soln_compact = tf.matmul(LUT[n], y_test[n][:, None])\n",
    "soln_compact_xyz = tf.matmul(U[n], soln_compact)[:,0]\n",
    "# soln_compact_xyz = tf.matmul(tf.transpose(U[n]), soln_compact)[:,0]\n",
    "print(soln_compact_xyz)\n",
    "disp.append(Arrow( mean2, mean2 - soln_compact_xyz, c = 'p4', res = 100)) #arbitrarily start arrow from scan1 center\n",
    "\n",
    "#draw the set of 8 points that defined the voxel boundaries for the keyframe scan\n",
    "corn_cart = s2c(corn_test[n])\n",
    "# disp.append(Points(corn_cart, c = 'black', r = 10))\n",
    "\n",
    "#draw box instead of individual points______________________________\n",
    "p1, p2, p3, p4, p5, p6, p7, p8 = corn_cart.numpy()\n",
    "print(p1)\n",
    "print(p2)\n",
    "lineWidth = 2\n",
    "c1 = \"black\"\n",
    "\n",
    "arc1 = shapes.Line(p1, p2, c = c1, lw = lineWidth) \n",
    "disp.append(arc1)\n",
    "arc2 = shapes.Line(p3, p4, c = c1, lw = lineWidth) #debug\n",
    "disp.append(arc2)\n",
    "line1 = shapes.Line(p1, p3, c = c1, lw = lineWidth)\n",
    "disp.append(line1)\n",
    "line2 = shapes.Line(p2, p4, c = c1, lw = lineWidth) #problem here\n",
    "disp.append(line2)\n",
    "arc3 = shapes.Line(p5, p6, c = c1, lw = lineWidth) #debug\n",
    "disp.append(arc3)\n",
    "arc4 = shapes.Line(p7, p8, c = c1, lw = lineWidth) #debug\n",
    "disp.append(arc4)\n",
    "line3 = shapes.Line(p5, p7, c = c1, lw = lineWidth)\n",
    "disp.append(line3)\n",
    "line4 = shapes.Line(p6, p8, c = c1, lw = lineWidth)\n",
    "disp.append(line4)\n",
    "disp.append(shapes.Line(p1,p5, c = c1, lw = lineWidth))\n",
    "disp.append(shapes.Line(p2,p6, c = c1, lw = lineWidth))\n",
    "disp.append(shapes.Line(p3,p7, c = c1, lw = lineWidth))\n",
    "disp.append(shapes.Line(p4,p8, c = c1, lw = lineWidth))\n",
    "#_____________________________________________________________________\n",
    "\n",
    "#draw transformed scan2\n",
    "# disp.append(Points(c1, c = 'blue', r = 5))\n",
    "\n",
    "plt1.show(disp, \"Network Performance Test\")\n",
    "ViewInteractiveWidget(plt1.window)\n"
   ]
  },
  {
   "cell_type": "markdown",
   "id": "classified-christopher",
   "metadata": {},
   "source": [
    "### Run network on all test data"
   ]
  },
  {
   "cell_type": "code",
   "execution_count": 8,
   "id": "proud-puzzle",
   "metadata": {},
   "outputs": [
    {
     "name": "stdout",
     "output_type": "stream",
     "text": [
      "x_test tf.Tensor([1472  100    3], shape=(3,), dtype=int32)\n",
      "46/46 [==============================] - 0s 2ms/step\n",
      "46/46 [==============================] - 0s 2ms/step\n",
      "46/46 [==============================] - 0s 2ms/step\n",
      "46/46 [==============================] - 0s 2ms/step\n",
      "46/46 [==============================] - 0s 2ms/step\n",
      "46/46 [==============================] - 0s 2ms/step\n",
      "46/46 [==============================] - 0s 2ms/step\n",
      "46/46 [==============================] - 0s 2ms/step\n",
      "46/46 [==============================] - 0s 2ms/step\n",
      "46/46 [==============================] - 0s 2ms/step\n",
      "\n",
      " correct soln \n",
      " [[-1.5052794  -0.061748   -0.02118067]\n",
      " [-0.72679394 -0.54963243  0.05901803]\n",
      " [ 0.2958136   0.4468636  -0.04729297]\n",
      " ...\n",
      " [ 0.01318293  1.3810297  -0.04743544]\n",
      " [-1.8122277  -1.8693733  -0.04297731]\n",
      " [-0.7231753   0.3887675  -0.00653277]]\n",
      "\n",
      " estiamted soln: \n",
      " [[-1.58495105 -0.07757852 -0.01402593]\n",
      " [-0.80877191 -0.59026881  0.02493609]\n",
      " [ 0.13410813  0.41948672 -0.06199452]\n",
      " ...\n",
      " [ 0.08477809  1.34650388 -0.0826522 ]\n",
      " [-1.8182852  -1.85418773 -0.02040547]\n",
      " [-0.72365818  0.34285385 -0.32680475]]\n",
      "\n",
      " error from DNN: \n",
      " [[ 0.07967163  0.01583052 -0.00715474]\n",
      " [ 0.08197797  0.04063638  0.03408195]\n",
      " [ 0.16170546  0.02737688  0.01470155]\n",
      " ...\n",
      " [-0.07159516  0.03452585  0.03521677]\n",
      " [ 0.00605747 -0.01518559 -0.02257183]\n",
      " [ 0.00048289  0.04591366  0.32027198]]\n",
      "\n",
      " mean raw DNN error: \n",
      " 0.12247131528202262\n",
      "\n",
      " mean raw D2D error \n",
      " 0.051821\n"
     ]
    }
   ],
   "source": [
    "# for n in range(numToTest):\n",
    "c1 = np.array([x_test[:,:points_per_sample,0], x_test[:,:points_per_sample,1], x_test[:,:points_per_sample,2]])\n",
    "c2 = np.array([x_test[:,points_per_sample:,0], x_test[:,points_per_sample:,1], x_test[:,points_per_sample:,2]])\n",
    "c1 = np.transpose(c1, (1,2,0))\n",
    "c2 = np.transpose(c2, (1,2,0))\n",
    "\n",
    "inputs = x_test\n",
    "# print(\"c1\" , tf.shape(c1))\n",
    "print(\"x_test\" , tf.shape(x_test))\n",
    "runlen = 10\n",
    "corr_sum = np.zeros([tf.shape(x_test)[0].numpy(),1,3]) #init var to store correction contributions\n",
    "for i in range(runlen):\n",
    "    correction = model.predict(inputs)[:,None,:] #show what the network thinks\n",
    "#     correction = correction*0.1 #for synthetic matab data only??\n",
    "#     correction = y_test[n] #show actual solution\n",
    "    corr_sum += correction\n",
    "#     print(\"corr_sum\", tf.shape(corr_sum))\n",
    "    c1 += correction\n",
    "#     print(\"after correction\", tf.shape(c1))\n",
    "    inputs = np.append(c1, c2, axis = 1)#.T\n",
    "#     print(\"\\n new inputs\", tf.shape(inputs))\n",
    "    \n",
    "dnn_estimates = corr_sum[:,0,:]\n",
    "print(\"\\n correct soln \\n\", y_test)\n",
    "print(\"\\n estiamted soln: \\n\", dnn_estimates)\n",
    "print(\"\\n error from DNN: \\n\", y_test - dnn_estimates)\n",
    "\n",
    "print(\"\\n mean raw DNN error: \\n\", np.sqrt(np.sum(np.mean(np.abs(y_test - dnn_estimates), axis = 0)**2)))\n",
    "\n",
    "D2D_distance = np.mean(x_test[:,:points_per_sample], axis = 1) - np.mean(x_test[:,points_per_sample:], axis = 1)\n",
    "# print(tf.shape(D2D_distance))\n",
    "# print(tf.shape(y_test))\n",
    "print(\"\\n mean raw D2D error \\n\", np.sqrt(np.sum(np.mean(np.abs(y_test + D2D_distance), axis = 0)**2 )))"
   ]
  },
  {
   "cell_type": "code",
   "execution_count": 9,
   "id": "understanding-gibson",
   "metadata": {},
   "outputs": [
    {
     "name": "stdout",
     "output_type": "stream",
     "text": [
      "\n",
      " mean compact error DNN: \n",
      " 0.058368146\n",
      "\n",
      " mean compact error D2D: \n",
      " 0.014100906\n"
     ]
    }
   ],
   "source": [
    "#just considering the residuals doesn't tell the whole story \n",
    "#   we need to consider error in COMPACT only directions\n",
    "\n",
    "#use LUT to get compact axis of DNN solution vec for each trial\n",
    "dnn_compact = tf.matmul(LUT, dnn_estimates[:,:,None])\n",
    "dnn_compact_xyz = tf.matmul(U, dnn_compact)\n",
    "\n",
    "#for distrubution means distance\n",
    "d2d_compact = tf.matmul(LUT, D2D_distance[:,:,None])\n",
    "d2d_compact_xyz = tf.matmul(U, d2d_compact)\n",
    "\n",
    "truth_compact = tf.matmul(LUT, y_test[:,:,None])\n",
    "truth_compact_xyz = tf.matmul(U, truth_compact)\n",
    "\n",
    "error_DNN_compact = np.sqrt(np.sum( np.mean(np.abs(truth_compact_xyz - dnn_compact_xyz), axis = 0)**2 ))\n",
    "print(\"\\n mean compact error DNN: \\n\", error_DNN_compact)\n",
    "\n",
    "error_D2D_compact = np.sqrt(np.sum( np.mean(np.abs(truth_compact_xyz + d2d_compact_xyz), axis = 0)**2 ))\n",
    "print(\"\\n mean compact error D2D: \\n\", error_D2D_compact)\n",
    "\n"
   ]
  },
  {
   "cell_type": "code",
   "execution_count": 15,
   "id": "entire-brick",
   "metadata": {},
   "outputs": [
    {
     "data": {
      "text/plain": [
       "<tf.Tensor: shape=(8, 3), dtype=float32, numpy=\n",
       "array([[ 6.597618  , -3.177247  ,  0.78728276],\n",
       "       [ 6.8558645 , -2.57305   ,  0.78728276],\n",
       "       [ 7.220676  , -3.4772959 ,  0.8616312 ],\n",
       "       [ 7.50331   , -2.8160405 ,  0.8616312 ],\n",
       "       [ 6.6314106 , -3.1935205 ,  0.2628742 ],\n",
       "       [ 6.89098   , -2.5862288 ,  0.2628742 ],\n",
       "       [ 7.2576594 , -3.4951062 ,  0.2876992 ],\n",
       "       [ 7.5417414 , -2.8304641 ,  0.2876992 ]], dtype=float32)>"
      ]
     },
     "execution_count": 15,
     "metadata": {},
     "output_type": "execute_result"
    }
   ],
   "source": [
    "s2c(corn_test[n])"
   ]
  },
  {
   "cell_type": "code",
   "execution_count": null,
   "id": "mineral-celebration",
   "metadata": {},
   "outputs": [],
   "source": []
  }
 ],
 "metadata": {
  "kernelspec": {
   "display_name": "Python 3 (ipykernel)",
   "language": "python",
   "name": "python3"
  },
  "language_info": {
   "codemirror_mode": {
    "name": "ipython",
    "version": 3
   },
   "file_extension": ".py",
   "mimetype": "text/x-python",
   "name": "python",
   "nbconvert_exporter": "python",
   "pygments_lexer": "ipython3",
   "version": "3.9.12"
  }
 },
 "nbformat": 4,
 "nbformat_minor": 5
}
