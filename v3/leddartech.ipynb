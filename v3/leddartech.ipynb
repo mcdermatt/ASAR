{
 "cells": [
  {
   "cell_type": "code",
   "execution_count": 27,
   "id": "e0a48c7b",
   "metadata": {},
   "outputs": [
    {
     "name": "stdout",
     "output_type": "stream",
     "text": [
      "[PhysicalDevice(name='/physical_device:GPU:0', device_type='GPU')]\n",
      "The autoreload extension is already loaded. To reload it, use:\n",
      "  %reload_ext autoreload\n"
     ]
    },
    {
     "data": {
      "application/javascript": [
       "IPython.notebook.set_autosave_interval(180000)"
      ]
     },
     "metadata": {},
     "output_type": "display_data"
    },
    {
     "name": "stdout",
     "output_type": "stream",
     "text": [
      "Autosaving every 180 seconds\n"
     ]
    }
   ],
   "source": [
    "\n",
    "from vedo import *\n",
    "import os\n",
    "from ipyvtklink.viewer import ViewInteractiveWidget\n",
    "import pykitti\n",
    "import numpy as np\n",
    "import tensorflow as tf\n",
    "import time\n",
    "import pickle\n",
    "\n",
    "#limit GPU memory ------------------------------------------------\n",
    "gpus = tf.config.experimental.list_physical_devices('GPU')\n",
    "print(gpus)\n",
    "if gpus:\n",
    "  try:\n",
    "    memlim = 12*1024\n",
    "    tf.config.experimental.set_virtual_device_configuration(gpus[0], [tf.config.experimental.VirtualDeviceConfiguration(memory_limit=memlim)])\n",
    "  except RuntimeError as e:\n",
    "    print(e)\n",
    "#-----------------------------------------------------------------\n",
    "# tf.config.set_visible_devices([], 'GPU') #run on CPU only -- seems to actually execute main parts of code faster here...\n",
    "\n",
    "from tensorflow.math import sin, cos, tan\n",
    "import tensorflow_probability as tfp\n",
    "from ICET_spherical import ICET\n",
    "from utils import R_tf\n",
    "from metpy.calc import lat_lon_grid_deltas\n",
    "\n",
    "%load_ext autoreload\n",
    "%autoreload 2\n",
    "%autosave 180\n",
    "%matplotlib notebook\n"
   ]
  },
  {
   "cell_type": "code",
   "execution_count": 111,
   "id": "8bb9b607",
   "metadata": {},
   "outputs": [],
   "source": [
    "# test- raw Pixell data?\n",
    "prefix = \"/media/derm/06EF-127D1/leddartech/20200721_144638_part36_1956_2229/pixell_bfc_ech/\" #test\n",
    "fn1 = prefix + \"00000150.pkl\"\n",
    "with open(fn1, 'rb') as f:\n",
    "    data = pickle.load(f)\n",
    "# print(data)\n",
    "data = data['data'] #just want to hold on to Pixell measurements\n",
    "# print(np.shape(data))"
   ]
  },
  {
   "cell_type": "code",
   "execution_count": 122,
   "id": "745b0eef",
   "metadata": {},
   "outputs": [],
   "source": [
    "#Ouster OS1-64 mechanical LiDAR\n",
    "prefix = \"/home/derm/Downloads/20200721_144638_part36_1956_2229/ouster64_bfc_xyzit/\" #very good quality\n",
    "fn1 = prefix + \"00000025.pkl\"\n",
    "with open(fn1, 'rb') as f:\n",
    "    data = pickle.load(f)\n",
    "\n",
    "data = np.asarray(data.tolist())[:,:3]\n",
    "# print(np.shape(data))\n",
    "# print(data[:10])"
   ]
  },
  {
   "cell_type": "code",
   "execution_count": 121,
   "id": "d697c8f5",
   "metadata": {},
   "outputs": [
    {
     "data": {
      "application/vnd.jupyter.widget-view+json": {
       "model_id": "bd9b89ec29e6489d96dd007d315b43ff",
       "version_major": 2,
       "version_minor": 0
      },
      "text/plain": [
       "ViewInteractiveWidget(height=1598, layout=Layout(height='auto', width='100%'), width=1280)"
      ]
     },
     "metadata": {},
     "output_type": "display_data"
    }
   ],
   "source": [
    "plt1 = Plotter(N = 1, axes = 4, bg = (1, 1, 1), interactive = True)\n",
    "disp = []\n",
    "disp.append(Points(data, c = 'red', r = 2.5, alpha = 1))\n",
    "plt1.show(disp, \"Fig LedderTech\")\n",
    "ViewInteractiveWidget(plt1.window)"
   ]
  },
  {
   "cell_type": "code",
   "execution_count": null,
   "id": "02a280ce",
   "metadata": {},
   "outputs": [],
   "source": []
  }
 ],
 "metadata": {
  "kernelspec": {
   "display_name": "Python 3 (ipykernel)",
   "language": "python",
   "name": "python3"
  },
  "language_info": {
   "codemirror_mode": {
    "name": "ipython",
    "version": 3
   },
   "file_extension": ".py",
   "mimetype": "text/x-python",
   "name": "python",
   "nbconvert_exporter": "python",
   "pygments_lexer": "ipython3",
   "version": "3.9.13"
  }
 },
 "nbformat": 4,
 "nbformat_minor": 5
}
