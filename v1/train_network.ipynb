{
 "cells": [
  {
   "cell_type": "markdown",
   "id": "split-fraction",
   "metadata": {},
   "source": [
    "# Baseline: CNN for Lidar Odometry"
   ]
  },
  {
   "cell_type": "code",
   "execution_count": 1,
   "id": "eleven-homeless",
   "metadata": {},
   "outputs": [
    {
     "data": {
      "application/javascript": [
       "IPython.notebook.set_autosave_interval(180000)"
      ]
     },
     "metadata": {},
     "output_type": "display_data"
    },
    {
     "name": "stdout",
     "output_type": "stream",
     "text": [
      "Autosaving every 180 seconds\n"
     ]
    }
   ],
   "source": [
    "#setup\n",
    "import numpy as np\n",
    "# import tensorflow as tf\n",
    "import matplotlib.pyplot as plt\n",
    "import scipy.io as sio\n",
    "\n",
    "#need to have these two lines to work on my ancient 1060 3gb\n",
    "#  https://stackoverflow.com/questions/43990046/tensorflow-blas-gemm-launch-failed\n",
    "# physical_devices = tf.config.list_physical_devices('GPU') \n",
    "# tf.config.experimental.set_memory_growth(physical_devices[0], True)\n",
    "\n",
    "%matplotlib inline\n",
    "plt.rcParams['figure.figsize'] = (10.0, 8.0) # set default size of plots\n",
    "plt.rcParams['image.interpolation'] = 'nearest'\n",
    "plt.rcParams['image.cmap'] = 'gray'\n",
    "\n",
    "# for auto-reloading external modules\n",
    "%load_ext autoreload\n",
    "%autoreload 2\n",
    "%autosave 180\n",
    "# %matplotlib notebook\n",
    "\n"
   ]
  },
  {
   "cell_type": "code",
   "execution_count": 2,
   "id": "filled-omaha",
   "metadata": {},
   "outputs": [],
   "source": [
    "# file = \"data/train_10k.npy\" #has noise in readings\n",
    "# file = \"data/train_100k.npy\" #no noise\n",
    "# file = \"data/train_straight_1k.npy\" #no noise, no lateral movement relative to initial heading\n",
    "file = \"data/train_dxdy_100k.npy\" #no noise, displacement in x and y relative to starting orientation\n",
    "\n",
    "dataset = np.load(file)"
   ]
  },
  {
   "cell_type": "code",
   "execution_count": null,
   "id": "victorian-practitioner",
   "metadata": {},
   "outputs": [],
   "source": [
    "#combine 100k and 200k datasets\n",
    "# ds2 = np.load(\"data/train_dxdy_100k.npy\")\n",
    "# dataset = np.append(dataset, ds2, axis =0)\n",
    "# np.save(\"data/train_dxdy_300k.npy\", dataset)"
   ]
  },
  {
   "cell_type": "code",
   "execution_count": null,
   "id": "naughty-ottawa",
   "metadata": {},
   "outputs": [],
   "source": [
    "dataset[0,100:]\n",
    "np.shape(dataset)"
   ]
  },
  {
   "cell_type": "code",
   "execution_count": null,
   "id": "sized-orleans",
   "metadata": {},
   "outputs": [],
   "source": [
    "# dataset[100,:]"
   ]
  },
  {
   "cell_type": "code",
   "execution_count": null,
   "id": "statutory-campus",
   "metadata": {},
   "outputs": [],
   "source": [
    "from network import Net1, Net2\n",
    "\n",
    "np.random.seed(1337)\n",
    "\n",
    "#convert data from numpy to tensors\n",
    "# x_train = tf.convert_to_tensor(dataset[:,:100])\n",
    "\n",
    "#alternate dataset where we are just looking at the changes in measurement from the first sample to the 2nd\n",
    "x_temp = tf.convert_to_tensor(dataset[:,:100])\n",
    "x_train = np.zeros([np.shape(dataset)[0], 50])\n",
    "x_train[:,:50] = x_temp[:,:50] - x_temp[:,50:100]\n",
    "\n",
    "print(np.shape(x_train))\n",
    "\n",
    "y_train = tf.convert_to_tensor(dataset[:,100:])"
   ]
  },
  {
   "cell_type": "code",
   "execution_count": null,
   "id": "durable-commander",
   "metadata": {},
   "outputs": [],
   "source": [
    "model = Net1() # 50 input data (looking at differences in measurememnt between each point) \n",
    "# model = Net2() # 100 input network (looking at full data)\n",
    "\n",
    "runLen = 30    \n",
    "BS = 128 #256 #works well\n",
    "\n",
    "def scheduler(epoch, lr):\n",
    "    part1 = 2*runLen//3\n",
    "    part2 = 5*runLen//6\n",
    "\n",
    "#     part1 = runLen//3\n",
    "#     part2 = 2*runLen//3\n",
    "\n",
    "    if epoch < part1:\n",
    "        lr = 0.01\n",
    "        return lr\n",
    "    if epoch >= part1 and epoch < part2:\n",
    "        lr = 0.005\n",
    "        return lr\n",
    "    if epoch >= part2:\n",
    "        lr = 0.001\n",
    "        return lr\n",
    "\n",
    "#TODO: figure out how to implement sample weight\n",
    "# L = tf.keras.losses.MeanAbsoluteError()\n",
    "# sample_weight = [0.3,0.3,0.4]\n",
    "    \n",
    "model.compile(\n",
    "    optimizer=tf.keras.optimizers.Adam(lr=0.001),\n",
    "#     loss=tf.keras.losses.MeanSquaredError(),\n",
    "    loss=tf.keras.losses.MeanAbsoluteError(),\n",
    "#     loss = tf.keras.losses.MeanAbsolutePercentageError(),\n",
    ")\n",
    "\n",
    "summary = model.summary()\n",
    "print(summary)\n",
    "\n",
    "callback = tf.keras.callbacks.LearningRateScheduler(scheduler)\n",
    "\n",
    "trace = model.fit(x=x_train, y=y_train, batch_size=BS, epochs=runLen, verbose=1, \n",
    "                  validation_split=0.05, callbacks = [callback], shuffle=True)\n"
   ]
  },
  {
   "cell_type": "code",
   "execution_count": null,
   "id": "voluntary-samuel",
   "metadata": {},
   "outputs": [],
   "source": [
    "model = tf.keras.models.load_model('dead_reckoning_1pt22_mse.kmod')"
   ]
  },
  {
   "cell_type": "code",
   "execution_count": null,
   "id": "brutal-plastic",
   "metadata": {},
   "outputs": [],
   "source": [
    "plt.subplot(2, 1, 1)\n",
    "plt.plot(trace.history['loss'], '-')\n",
    "plt.plot(trace.history['val_loss'], '-')\n",
    "plt.legend(['train', 'val'], loc='upper left')\n",
    "plt.xlabel('iteration')\n",
    "plt.ylabel('loss')"
   ]
  },
  {
   "cell_type": "code",
   "execution_count": null,
   "id": "grave-terror",
   "metadata": {},
   "outputs": [],
   "source": [
    "r = int(np.random.rand()*100)\n",
    "print(y_train[r])\n",
    "out = model.predict(x_train[:100])\n",
    "print(out[r])"
   ]
  },
  {
   "cell_type": "code",
   "execution_count": null,
   "id": "commercial-tucson",
   "metadata": {},
   "outputs": [],
   "source": [
    "test_file = \"data/test_dxdy.npy\"\n",
    "test_dataset = np.load(test_file)\n",
    "rand = int(np.shape(test_dataset)[0]*np.random.rand())\n",
    "\n",
    "#test for standard case\n",
    "# x_test = test_dataset[:,:100]\n",
    "# x_test = tf.convert_to_tensor(x_test)\n",
    "\n",
    "#test when looking at displacement between two measurements\n",
    "x_temp2 = tf.convert_to_tensor(test_dataset[:,:100])\n",
    "x_test = np.zeros([np.shape(test_dataset)[0], 50])\n",
    "x_test[:,:50] = x_temp2[:,:50] - x_temp2[:,50:100]\n",
    "\n",
    "y_test = test_dataset[:,100:]\n",
    "y_test = tf.convert_to_tensor(y_test)\n",
    "# print(y_test[rand])\n",
    "print(y_train[rand])\n",
    "\n",
    "# guess = model.predict(x_test)\n",
    "guess = model.predict(x_train)\n",
    "print(guess[rand])"
   ]
  },
  {
   "cell_type": "code",
   "execution_count": null,
   "id": "hired-partnership",
   "metadata": {},
   "outputs": [],
   "source": [
    "# model.save(\"dead_reckoning_1pt22_mse.kmod\") #got this with 50 input model"
   ]
  },
  {
   "cell_type": "markdown",
   "id": "nominated-theorem",
   "metadata": {},
   "source": [
    "Results:\n",
    "\n",
    "Best MSE with 100k dataset: 1.36\n",
    "\n",
    "Best MSE with 300k dataset: 1.22"
   ]
  },
  {
   "cell_type": "markdown",
   "id": "failing-enough",
   "metadata": {},
   "source": [
    "## Generate Normal Distribution Ellipse"
   ]
  },
  {
   "cell_type": "code",
   "execution_count": 3,
   "id": "liquid-oxford",
   "metadata": {},
   "outputs": [
    {
     "name": "stdout",
     "output_type": "stream",
     "text": [
      "mu =  [5.44688628 2.37655469]\n",
      "sigma =  [[8.61899367 4.2781698 ]\n",
      " [4.2781698  2.49114647]]\n",
      "eigenval =  [10.81723357  0.29290657]\n",
      "eigenvec =  [[ 0.88945362 -0.45702544]\n",
      " [ 0.45702544  0.88945362]]\n"
     ]
    }
   ],
   "source": [
    "# %matplotlib notebook\n",
    "from utils import fit_gaussian\n",
    "\n",
    "numpts = 10\n",
    "points = np.random.randn(numpts, 2)\n",
    "\n",
    "#adds order to points\n",
    "points[:,0] += np.linspace(1,10,numpts)\n",
    "points[:,1] += np.linspace(0,5*np.random.randn(),numpts)\n",
    " \n",
    "mu, sigma = fit_gaussian(points)\n",
    "print(\"mu = \", mu)\n",
    "print(\"sigma = \", sigma)\n",
    "\n",
    "eig = np.linalg.eig(sigma)\n",
    "eigenval = eig[0]\n",
    "eigenvec = eig[1]\n",
    "\n",
    "print(\"eigenval = \", eigenval)\n",
    "print(\"eigenvec = \", eigenvec)\n"
   ]
  },
  {
   "cell_type": "code",
   "execution_count": 4,
   "id": "revised-providence",
   "metadata": {},
   "outputs": [
    {
     "name": "stdout",
     "output_type": "stream",
     "text": [
      "-0.5396399890207166\n"
     ]
    }
   ],
   "source": [
    "from utils import R\n",
    "# print(eigenvec)\n",
    "theta_temp = np.arcsin(eigenvec[0,1]/eigenvec[0,0])\n",
    "print(theta_temp)\n",
    "# print(R(theta_temp))\n",
    "# print(R(np.arctan(eigenvec[0,1]/eigenvec[0,0])))"
   ]
  },
  {
   "cell_type": "code",
   "execution_count": 5,
   "id": "running-advertiser",
   "metadata": {
    "scrolled": false
   },
   "outputs": [
    {
     "data": {
      "text/plain": [
       "<matplotlib.patches.Ellipse at 0x23a95b35e88>"
      ]
     },
     "execution_count": 5,
     "metadata": {},
     "output_type": "execute_result"
    },
    {
     "data": {
      "image/png": "[encoded data removed]",
      "text/plain": [
       "<Figure size 720x576 with 1 Axes>"
      ]
     },
     "metadata": {
      "needs_background": "light"
     },
     "output_type": "display_data"
    }
   ],
   "source": [
    "#draw ellipse around 1std to prove fit_guassian works\n",
    "from matplotlib.patches import Ellipse\n",
    "import matplotlib.patches as mpatches \n",
    "\n",
    "nstd = 2\n",
    "\n",
    "fig2 = plt.figure(1)\n",
    "ax2 = fig2.add_subplot()\n",
    "\n",
    "patches = []\n",
    "\n",
    "ax2.set_xlim(-15,15)\n",
    "ax2.set_ylim(-15,15)\n",
    "ax2.scatter(points[:,0], points[:,1])\n",
    "\n",
    "rot = -np.rad2deg(np.arcsin(eigenvec[0,1]/eigenvec[0,0]))\n",
    "width = 2*nstd*np.sqrt(eigenval[0])\n",
    "height = 2*nstd*np.sqrt(eigenval[1])\n",
    "\n",
    "ell = Ellipse((mu[0],mu[1]),width, height, angle = rot, fill = False)\n",
    "ax2.add_patch(ell)\n"
   ]
  },
  {
   "cell_type": "markdown",
   "id": "chemical-silence",
   "metadata": {},
   "source": [
    "## Best fit ellipses directly on dataset"
   ]
  },
  {
   "cell_type": "code",
   "execution_count": 6,
   "id": "computational-florist",
   "metadata": {},
   "outputs": [
    {
     "data": {
      "image/png": "[encoded data removed]",
      "text/plain": [
       "<Figure size 720x576 with 1 Axes>"
      ]
     },
     "metadata": {
      "needs_background": "light"
     },
     "output_type": "display_data"
    }
   ],
   "source": [
    "from utils import draw_scan, subdivide_scan\n",
    "\n",
    "fig3 = plt.figure(1)\n",
    "ax3 = fig3.add_subplot()\n",
    "ax3.set_aspect('equal')\n",
    "rand2 = int(np.random.rand()*50) #82 is a simple corner, 2 is a doorway\n",
    "# print(rand2)\n",
    "\n",
    "# dat = np.load(\"data/noisy_dxdy_100.npy\") #only 50 very noisy data points\n",
    "scanpts = 1000\n",
    "dat = np.load(\"data/high_res_noisy_dxdy_100.npy\") #what I had been using\n",
    "# dat = np.load(\"data/cross_track.npy\")   #new dataset\n",
    "\n",
    "dat1 = dat[:,:scanpts]\n",
    "dat2 = dat[:,scanpts:2*scanpts]\n",
    "\n",
    "rand2 = 2 #easy test (moving away from corner)\n",
    "\n",
    "#get point positions and draw lidar scan\n",
    "pp1 = draw_scan(dat1[rand2],fig3,ax3, pt = 0) #pt0\n",
    "pp2 = draw_scan(dat2[rand2],fig3,ax3, pt = 1) #pt1\n",
    "\n",
    "f = 25 #overall region of scan is broken down into a fxf scan\n",
    "E1 = subdivide_scan(pp1,fig3,ax3, nstd = 3, fidelity = f, pt =0)\n",
    "E2 = subdivide_scan(pp2,fig3,ax3, nstd = 3, fidelity = f, pt =1)\n",
    "\n",
    "# green = before\n",
    "# blue = after"
   ]
  },
  {
   "cell_type": "markdown",
   "id": "injured-optimization",
   "metadata": {},
   "source": [
    "Note: stretched ellipses mean cov matrix is getting close to singular"
   ]
  },
  {
   "cell_type": "markdown",
   "id": "political-season",
   "metadata": {},
   "source": [
    "## Vanilla ICP with SVD"
   ]
  },
  {
   "cell_type": "code",
   "execution_count": null,
   "id": "intermediate-guitar",
   "metadata": {
    "scrolled": false
   },
   "outputs": [],
   "source": [
    "from ICP import vanilla_ICP\n",
    "fig4 = plt.figure(1)\n",
    "ax4 = fig4.add_subplot()\n",
    "blue = mpatches.Patch(color='blue', label='Original')\n",
    "green = mpatches.Patch(color='green', label='Random Transformation Applied')\n",
    "red = mpatches.Patch(color='red', label='Estimated transformation')\n",
    "plt.legend(handles=[green, blue, red])\n",
    "\n",
    "#create dummy data\n",
    "angle = np.pi / 4\n",
    "R_true = np.array([[np.cos(angle), -np.sin(angle)], \n",
    "                   [np.sin(angle),  np.cos(angle)]])\n",
    "t_true = np.array([[-2], [5]])\n",
    "\n",
    "# Generate data as a list of 2d points\n",
    "num_points = 30\n",
    "true_data = np.zeros((2, num_points))\n",
    "true_data[0, :] = range(0, num_points)\n",
    "true_data[1, :] = 0.2 * true_data[0, :] * np.cos(0.5 * true_data[0, :]) \n",
    "# Move the data\n",
    "moved_data = R_true.dot(true_data) + t_true #+ 0.5*np.random.randn(num_points) #roate and add noise\n",
    "moved_data = moved_data[:,8:] #cut move dataset short\n",
    "# moved_data[:, 0] = np.array([-20,5]) #create outliar at start\n",
    "\n",
    "# Assign to variables we use in formulas.\n",
    "Q = true_data\n",
    "P = moved_data\n",
    "\n",
    "green, = ax4.plot(P[0,:],P[1,:], 'g.-')\n",
    "blue, = ax4.plot(Q[0,:], Q[1,:], 'b.-')\n",
    "\n",
    "\n",
    "dc = False     #display correspondences\n",
    "nc = 4    #number of cycles\n",
    "R, t = vanilla_ICP(Q,P,fig4,ax4,draw=dc,num_cycles = nc)\n",
    "\n",
    "print(\"R: \", R)\n",
    "print(\"t: \", t)"
   ]
  },
  {
   "cell_type": "markdown",
   "id": "norwegian-hopkins",
   "metadata": {},
   "source": [
    "## Apply vanilla ICP function with SVD to a noisy dataset. \n",
    "As predicted, results are not great."
   ]
  },
  {
   "cell_type": "code",
   "execution_count": null,
   "id": "wound-switzerland",
   "metadata": {},
   "outputs": [],
   "source": [
    "fig5 = plt.figure(1)\n",
    "ax5 = fig5.add_subplot()\n",
    "ax5.set_aspect('equal')\n",
    "\n",
    "dc2 = False\n",
    "nc2 = 3 #number of cycles\n",
    "\n",
    "# rand3 = int(np.random.rand()*100)\n",
    "rand3 = 2 #easy test\n",
    "pp1 = draw_scan(dat1[rand3],fig5,ax5, pt = 0) \n",
    "pp2 = draw_scan(dat2[rand3],fig5,ax5, pt = 1)\n",
    "\n",
    "R, t = vanilla_ICP(pp2.T,pp1.T,fig5,ax5,draw=dc2,num_cycles = nc2)\n",
    "print(\"R: \", R)\n",
    "print(\"t: \", t)\n",
    "\n",
    "green = mpatches.Patch(color='green', label='1st Scan')\n",
    "blue = mpatches.Patch(color='blue', label='2nd Scan')\n",
    "red = mpatches.Patch(color='red', label='Estimated transformation')\n",
    "plt.legend(handles=[green, blue, red])"
   ]
  },
  {
   "cell_type": "markdown",
   "id": "polish-chance",
   "metadata": {},
   "source": [
    "## Apply Vanilla ICP to normal distribution ellipses"
   ]
  },
  {
   "cell_type": "code",
   "execution_count": null,
   "id": "annoying-dollar",
   "metadata": {},
   "outputs": [],
   "source": [
    "fig6 = plt.figure(1)\n",
    "ax6 = fig6.add_subplot()\n",
    "ax6.set_aspect('equal')\n",
    "rand2 = int(np.random.rand()*9) #82 is a simple corner, 2 is a doorway\n",
    "green = mpatches.Patch(color='green', label='1st Scan')\n",
    "blue = mpatches.Patch(color='blue', label='2nd Scan')\n",
    "red = mpatches.Patch(color='red', label='Estimated transformation')\n",
    "plt.legend(handles=[green, blue, red])\n",
    "\n",
    "# rand2 = 33 #easy test (moving away from corner)\n",
    "\n",
    "#get point positions and draw lidar scan\n",
    "pp1 = draw_scan(dat1[rand2],fig6,ax6, pt = 0) \n",
    "pp2 = draw_scan(dat2[rand2],fig6,ax6, pt = 1) \n",
    "\n",
    "f = 8 #overall region of scan is broken down into a fxf scan\n",
    "E1 = subdivide_scan(pp1,fig6,ax6, fidelity = f, pt =0)\n",
    "E2 = subdivide_scan(pp2,fig6,ax6, fidelity = f, pt =1)\n",
    "\n",
    "print(len(E1), \" ellipses from first scan\")\n",
    "print(len(E2), \" ellipses from 2nd scan\")\n",
    "\n",
    "#loop through outputs to get coords of std ellipses\n",
    "s1 = np.zeros([len(E1),2])\n",
    "for count, i in enumerate(E1):\n",
    "    s1[count] = i[0]\n",
    "s2 = np.zeros([len(E2),2])\n",
    "for count, i in enumerate(E2):\n",
    "    s2[count] = i[0] \n",
    "\n",
    "if len(s1) > len(s2):\n",
    "    s1 = s1[:len(s2)]\n",
    "if len(s2) > len(s1):\n",
    "    s2 = s2[:len(s1)]\n",
    "\n",
    "ax6.plot(s1[:,0],s1[:,1],'g.', markersize = 30)\n",
    "ax6.plot(s2[:,0],s2[:,1],'b.', markersize = 30)\n",
    "    \n",
    "dc3 = False\n",
    "nc3 = 1 \n",
    "R, t = vanilla_ICP(s1.T,s2.T,fig6,ax6,draw=dc3,num_cycles = nc3)\n",
    "print(\"R = \", R)\n",
    "print(\"t = \", t)"
   ]
  },
  {
   "cell_type": "markdown",
   "id": "martial-style",
   "metadata": {},
   "source": [
    "Notes:\n",
    "\n",
    "SVD seems to translate only on the first iteration, least squares approach will update translation estimate after each iteration\n",
    "\n",
    "error analysis more difficult on NDT\n",
    "\n",
    "what to do about features only detected in 2nd scan?\n",
    "    after n iterations of ICP, remove features with higest error, continue calculating. \n",
    "        If performance improves, these features should remain removed, else put them back in\n"
   ]
  },
  {
   "cell_type": "markdown",
   "id": "interesting-potential",
   "metadata": {},
   "source": [
    "## Least Squares ICP"
   ]
  },
  {
   "cell_type": "code",
   "execution_count": null,
   "id": "desirable-startup",
   "metadata": {
    "scrolled": false
   },
   "outputs": [],
   "source": [
    "from  ICP import ICP_least_squares\n",
    "fig7 = plt.figure(1)\n",
    "ax7 = fig7.add_subplot()\n",
    "ax7.set_aspect('equal')\n",
    "rand2 = int(np.random.rand()*50) #82 is a simple corner, 2 is a doorway\n",
    "green = mpatches.Patch(color='green', label='1st Scan')\n",
    "blue = mpatches.Patch(color='blue', label='2nd Scan')\n",
    "red = mpatches.Patch(color='red', label='Estimated transformation')\n",
    "plt.legend(handles=[green, blue, red])\n",
    "\n",
    "#create dummy data\n",
    "angle = np.pi / 4\n",
    "R_true = np.array([[np.cos(angle), -np.sin(angle)], \n",
    "                   [np.sin(angle),  np.cos(angle)]])\n",
    "t_true = np.array([[-2], [5]])\n",
    "\n",
    "# Generate data as a list of 2d points\n",
    "num_points = 30\n",
    "true_data = np.zeros((2, num_points))\n",
    "true_data[0, :] = range(0, num_points)\n",
    "true_data[1, :] = 0.2 * true_data[0, :] * np.cos(0.5 * true_data[0, :]) \n",
    "# Move the data\n",
    "moved_data = R_true.dot(true_data) + t_true #+ .25*np.random.randn(num_points) #roate and add noise\n",
    "# moved_data = moved_data[:,8:] #cut move dataset short\n",
    "moved_data[:, 0] = np.array([-5,25]) #create outliar at start\n",
    "\n",
    "# Assign to variables we use in formulas.\n",
    "Q = true_data\n",
    "P = moved_data\n",
    "\n",
    "green, = ax7.plot(P[0,:],P[1,:], 'g.-')\n",
    "blue, = ax7.plot(Q[0,:], Q[1,:], 'b.-')\n",
    "\n",
    "\n",
    "NC = 10\n",
    "P_corrected = ICP_least_squares(Q,P,fig7,ax7, num_cycles = NC, draw = False)"
   ]
  },
  {
   "cell_type": "markdown",
   "id": "improved-screen",
   "metadata": {},
   "source": [
    "Notes about Least Squares:\n",
    "\n",
    "Less susceptable to initial conditions\n",
    "\n",
    "capable of working with inconsistant datasets (ex: |P| = 15, |Q| = 20)\n",
    "\n",
    "more dependant on outliars?"
   ]
  },
  {
   "cell_type": "markdown",
   "id": "removable-collective",
   "metadata": {},
   "source": [
    "### Applying Least Squares to lidar scan dataset"
   ]
  },
  {
   "cell_type": "code",
   "execution_count": null,
   "id": "headed-radiation",
   "metadata": {
    "scrolled": true
   },
   "outputs": [],
   "source": [
    "fig8 = plt.figure()\n",
    "ax8 = fig8.add_subplot()\n",
    "ax8.set_aspect('equal')\n",
    "green = mpatches.Patch(color='green', label='1st Scan')\n",
    "blue = mpatches.Patch(color='blue', label='2nd Scan')\n",
    "red = mpatches.Patch(color='red', label='Estimated transformation')\n",
    "plt.legend(handles=[green, blue, red])\n",
    "\n",
    "# rand3 = int(np.random.rand()*100)\n",
    "# print(\"scan #: \", rand3)\n",
    "rand3 = 2 #or 33 for easy test\n",
    "pp1 = draw_scan(dat1[rand3],fig8,ax8, pt = 0) \n",
    "pp2 = draw_scan(dat2[rand3],fig8,ax8, pt = 1)\n",
    "\n",
    "\n",
    "dc = False\n",
    "nc = 10 #number of cycles\n",
    "P_corrected, t, rot = ICP_least_squares(pp2.T,pp1.T,fig8,ax8, num_cycles = nc, draw = dc)\n",
    "# print(\"t = \", t)\n",
    "# print(\"rot = \", rot)"
   ]
  },
  {
   "cell_type": "markdown",
   "id": "italic-webster",
   "metadata": {},
   "source": [
    "#### Notes:\n",
    "good accuracy but SLOW"
   ]
  },
  {
   "cell_type": "markdown",
   "id": "brown-technology",
   "metadata": {},
   "source": [
    "# Normal Distribution Transform (NDT)"
   ]
  },
  {
   "cell_type": "code",
   "execution_count": null,
   "id": "mounted-assist",
   "metadata": {
    "scrolled": false
   },
   "outputs": [],
   "source": [
    "# from NDT import NDT_old as NDT\n",
    "from NDT import NDT\n",
    "\n",
    "fig9 = plt.figure()\n",
    "ax9 = fig9.add_subplot()\n",
    "# ax9.set_xlim(-125,150)\n",
    "green = mpatches.Patch(color='green', label='1st Scan')\n",
    "blue = mpatches.Patch(color='blue', label='2nd Scan')\n",
    "red = mpatches.Patch(color='red', label='Estimated transformation')\n",
    "plt.legend(handles=[green, blue, red])\n",
    "ax9.set_aspect('equal') \n",
    "\n",
    "# a = int(100*np.random.rand())\n",
    "# print(a)\n",
    "a = 59 #59 #10 #97 #33 #easy test scans\n",
    "fidelity = 10 # [N x N] grid of ellipses\n",
    "nc = 250  # number of cycles\n",
    "atd = True #along track demo\n",
    "\n",
    "r, t, results, x_actual = NDT(dat1[a],dat2[a],fig9,ax9, fid = fidelity, \n",
    "                              num_cycles = nc, along_track_demo = atd,\n",
    "                             output_actual = True)\n",
    "x_est = np.array([t[0], t[1], r]).T\n",
    "print(\"Estimated transformation \\n\", np.array(x_est))\n",
    "print(\"Actual transformation: \\n\", x_actual)\n",
    "print(\"error: \\n\", x_est + x_actual)"
   ]
  },
  {
   "cell_type": "code",
   "execution_count": null,
   "id": "silent-director",
   "metadata": {
    "scrolled": false
   },
   "outputs": [],
   "source": [
    "fig10 = plt.figure()\n",
    "ax10 = fig10.add_subplot()\n",
    "ax10.set_title(\"NDT loss\")\n",
    "\n",
    "ax10.plot(results)"
   ]
  },
  {
   "cell_type": "markdown",
   "id": "boxed-dream",
   "metadata": {},
   "source": [
    "# NDT Monte-Carlo Sim"
   ]
  },
  {
   "cell_type": "code",
   "execution_count": null,
   "id": "alternate-despite",
   "metadata": {
    "scrolled": true
   },
   "outputs": [],
   "source": [
    "# from NDT import NDT_old as NDT\n",
    "from NDT import NDT\n",
    "\n",
    "fig9_2 = plt.figure()\n",
    "ax9_2 = fig9_2.add_subplot()\n",
    "# ax9.set_xlim(-125,150)\n",
    "green = mpatches.Patch(color='green', label='1st Scan')\n",
    "blue = mpatches.Patch(color='blue', label='2nd Scan')\n",
    "red = mpatches.Patch(color='red', label='Estimated transformation')\n",
    "plt.legend(handles=[green, blue, red])\n",
    "\n",
    "a = 59 #59 #10 #97 #33 #easy test scans\n",
    "fidelity = 10 # [N x N] grid of ellipses\n",
    "nc = 250  # number of cycles in each trial\n",
    "atd = True #along track demo\n",
    "\n",
    "numTrials = 50\n",
    "NDT_errors = np.zeros([numTrials,3])\n",
    "for i in range(numTrials):\n",
    "    r, t, results, x_actual = NDT(dat1[a],dat2[a],fig9_2,ax9_2, fid = fidelity, \n",
    "                                  num_cycles = nc, along_track_demo = atd,\n",
    "                                 output_actual = True)\n",
    "    x_est = np.array([t[0], t[1], r]).T\n",
    "    dif = x_actual + x_est\n",
    "    print(\"Epoch \", i)\n",
    "#     print(\"Estimated transformation \\n\", x_est)\n",
    "#     print(\"Actual transformation: \\n\", x_actual)\n",
    "#     print(\"difference: \\n\", dif)\n",
    "    NDT_errors[i,:] = dif"
   ]
  },
  {
   "cell_type": "code",
   "execution_count": null,
   "id": "loaded-overall",
   "metadata": {},
   "outputs": [],
   "source": [
    "# print(np.std(NDT_errors, axis = 0))\n",
    "# print(np.shape(NDT_errors_no_outliars))\n",
    "# print(\"with outliars:  \", np.std(NDT_errors, axis = 0))\n",
    "\n",
    "percentile = 90\n",
    "x90th = np.percentile(abs(NDT_errors[:,0]),percentile)\n",
    "x_no_outliars = np.std(NDT_errors[abs(NDT_errors[:,0]) < x90th, 0 ])\n",
    "y90th = np.percentile(abs(NDT_errors[:,1]),percentile)\n",
    "y_no_outliars = np.std(NDT_errors[abs(NDT_errors[:,1]) < y90th, 1 ])\n",
    "theta90th = np.percentile(abs(NDT_errors[:,2]),percentile)\n",
    "theta_no_outliars = np.std(NDT_errors[abs(NDT_errors[:,2]) < theta90th, 2 ])\n",
    "\n",
    "ans90th = np.array([x_no_outliars, y_no_outliars, theta_no_outliars])\n",
    "print(\"lower \", percentile, \"% STD:    \", ans90th          )"
   ]
  },
  {
   "cell_type": "markdown",
   "id": "detailed-powder",
   "metadata": {},
   "source": [
    "### Questions about NDT\n",
    "\n",
    "1) NDT: It seems like optimal hyperparameter values are different between scans. Are there rules of thumb that can be used to generalize step size, etc?\n",
    "\n",
    "2) Only works when we set minimum ellipse size (or else we could be 100 STDs away)\n",
    "\n",
    "3) Square standard deviations (to discourage outliars)- is this like adding variances???\n",
    "\n",
    "4) Momentum parameters for gradient descent (similar to adam?)"
   ]
  },
  {
   "cell_type": "markdown",
   "id": "polar-least",
   "metadata": {},
   "source": [
    "## Iterative Closest Ellipse Transform (ICET)\n",
    "\n",
    "V1: ICP applied to ellipses"
   ]
  },
  {
   "cell_type": "code",
   "execution_count": null,
   "id": "popular-amino",
   "metadata": {
    "scrolled": false
   },
   "outputs": [],
   "source": [
    "from ICET import ICET_v1\n",
    "\n",
    "fig11 = plt.figure()\n",
    "ax11 = fig11.add_subplot()\n",
    "green = mpatches.Patch(color='green', label='1st Scan')\n",
    "blue = mpatches.Patch(color='blue', label='2nd Scan')\n",
    "red = mpatches.Patch(color='red', label='Estimated transformation')\n",
    "plt.legend(handles=[green, blue, red])\n",
    "\n",
    "a = int(100*np.random.rand())\n",
    "a = 40 #59 #10 #97 #33 #easy test scans\n",
    "fidelity = 10 # [N x N] grid of ellipses\n",
    "nc = 100       # number of cycles\n",
    "\n",
    "t, rot = ICET_v1(dat1[a],dat2[a],fig11,ax11, fid = fidelity, num_cycles = nc)"
   ]
  },
  {
   "cell_type": "markdown",
   "id": "dominant-customs",
   "metadata": {},
   "source": [
    "### Questions about ICET\n",
    "\n",
    "uncharacteristically wide noise distributions are anomalies for lidar point clouds -> wide distributions reflect deterministic structure in the scene\n",
    "\n",
    "Our technique should exclude the two elongated directons but preserve the direction normal to the wall\n",
    "    \n",
    "    Is this just like NDT?\n",
    "    \n",
    "(Page 9) How can we replace y with z? if z is missing a dimension how is it useful for calculating averages?\n",
    "\n",
    "should voxels be rigidly fixed in world space? or should they range between minimum and maximum points?"
   ]
  },
  {
   "cell_type": "code",
   "execution_count": null,
   "id": "immediate-rebecca",
   "metadata": {},
   "outputs": [],
   "source": [
    "from ICET import weighted_psudoinverse\n",
    "\n",
    "H = np.array([[1, 2],[3, 4],[5, 6]])    #jacobian of first scan of points\n",
    "H1 = np.array([[2, 2],[2, 3],[2, 2.5]]) #jacobian of translated points\n",
    "\n",
    "print(\"H: \\n\", H)\n",
    "\n",
    "W = np.identity(np.shape(H)[0]) #debug this...\n",
    "print(\"W: \\n\", W)\n",
    "\n",
    "#solves for x in Ax = b\n",
    "H_w = weighted_psudoinverse(H, W) \n",
    "print(\"H^w: \\n\", H_w)\n",
    "\n",
    "\n",
    "#proof this works\n",
    "# print(\"(H^w)*H: \\n\", np.round(H_w.dot(H), decimals = 10))\n",
    "#gets the same results as the MatLab function pinv(A) or np.linalg.pinv\n",
    "\n",
    "#state estimate update on top of page 5 of ICET\n",
    "print(\"dx = \\n\", H_w.dot(H-H1))"
   ]
  },
  {
   "cell_type": "code",
   "execution_count": null,
   "id": "informed-belief",
   "metadata": {},
   "outputs": [],
   "source": [
    "from ICET import get_H\n",
    "\n",
    "x = np.array([[1],[2],[0.1]])\n",
    "H = get_H(P,x)\n",
    "print(\"P: \\n\", P)\n",
    "\n",
    "# print(H)\n",
    "W = np.identity(np.shape(H)[0])\n",
    "# print(\"W: \\n\", W)\n",
    "\n",
    "H_w = weighted_psudoinverse(H, W) \n",
    "# print(H_w)\n",
    "print(\"(H^w)*H: \\n\", np.round(H_w.dot(H), decimals = 10))"
   ]
  },
  {
   "cell_type": "markdown",
   "id": "modern-continuity",
   "metadata": {},
   "source": [
    "## State estimation with ICET\n",
    "\n",
    "X = X + dx\n",
    "\n",
    "dx = H_w(y - y0) , y & y0 are point cloud mean vectors | dx shape=[3,1]\n",
    "\n",
    "y ~= y0 + Hdx + HOT"
   ]
  },
  {
   "cell_type": "code",
   "execution_count": 31,
   "id": "educational-receiver",
   "metadata": {
    "scrolled": false
   },
   "outputs": [
    {
     "name": "stdout",
     "output_type": "stream",
     "text": [
      "error: \n",
      " [[-0.08060831  0.02995234  0.00014665]]\n",
      "predicted error std: \n",
      " 0.10125238979167445 0.05999551780858984 0.0003469505764358647\n",
      "L2: \n",
      " [[1. 0. 0.]\n",
      " [0. 1. 0.]\n",
      " [0. 0. 1.]]\n"
     ]
    },
    {
     "data": {
      "image/png": "[encoded data removed]",
      "text/plain": [
       "<Figure size 720x576 with 1 Axes>"
      ]
     },
     "metadata": {
      "needs_background": "light"
     },
     "output_type": "display_data"
    }
   ],
   "source": [
    "from ICET import ICET_v2\n",
    "fig12 = plt.figure()\n",
    "ax12 = fig12.add_subplot()\n",
    "ax12.set_aspect('equal') \n",
    "\n",
    "# a = int(10*np.random.rand())\n",
    "# print(a)\n",
    "\n",
    "# dat = np.load(\"data/cross_track.npy\")\n",
    "# a = 9             #makes cross track blow up (without new L matrix)\n",
    "# dat = np.load(\"data/cross_track_rotated.npy\")\n",
    "\n",
    "# dat = np.load(\"data/along_track.npy\")\n",
    "# a = 0 #makes along track example explode\n",
    "\n",
    "dat = np.load(\"data/high_res_noisy_dxdy_100.npy\") #default\n",
    "a = 59            # easy test scans on default dataset: #40 #59 #10 #97 #33 \n",
    "\n",
    "# dat = np.load(\"data/validation.npy\")\n",
    "# a = 2 #good validation example\n",
    "\n",
    "dat1 = dat[:,:scanpts]\n",
    "dat2 = dat[:,scanpts:2*scanpts]\n",
    "\n",
    "green = mpatches.Patch(color='green', label='1st Scan')\n",
    "blue = mpatches.Patch(color='blue', label='2nd Scan')\n",
    "# red = mpatches.Patch(color='red', label='Estimated transformation')\n",
    "# plt.legend(handles=[green, blue, red])\n",
    "plt.legend(handles=[green, blue])\n",
    "\n",
    "\n",
    "fidelity = 10     # [N x N] grid of ellipses\n",
    "nc = 25    # number of cycles\n",
    "min_num_pts = 10  # minimum number of points per ellipse #works well with 5 for default\n",
    "atd = True #along track demo\n",
    "\n",
    "if atd == True:\n",
    "    X, Q, hist, x_actual, condinfo = ICET_v2(dat1[a],dat2[a],fig12,ax12, \n",
    "                                              fid = fidelity, num_cycles = nc, min_num_pts = min_num_pts, along_track_demo = atd)\n",
    "    print(\"error: \\n\", x_actual+X.T)\n",
    "#     print(\"estimate: \\n\", X.T)\n",
    "#     print(\"x_actual: \\n\", x_actual)\n",
    "else:\n",
    "    X, Q, hist, condinfo = ICET_v2(dat1[a],dat2[a],fig12,ax12, \n",
    "                                    fid = fidelity, num_cycles = nc, min_num_pts = min_num_pts, along_track_demo = atd)\n",
    "# print(\"best transformation X = \\n\", X.T)\n",
    "# print(\"Q = \\n\", Q)\n",
    "\n",
    "print(\"predicted error std: \\n\", np.sqrt(Q[0,0]), np.sqrt(Q[1,1]), np.sqrt(Q[2,2]))\n",
    "\n",
    "print(\"L2: \\n\", condinfo[0])\n",
    "# print(\"lam: \\n\", condinfo[1])\n",
    "# print(\"U2: \\n\", condinfo[2])\n",
    "\n",
    "x_hat_hist, y_hist, z_hist = hist\n",
    "# print(y_hist)\n"
   ]
  },
  {
   "cell_type": "code",
   "execution_count": 22,
   "id": "expressed-potential",
   "metadata": {
    "scrolled": false
   },
   "outputs": [
    {
     "data": {
      "text/plain": [
       "[<matplotlib.lines.Line2D at 0x23a9a162e48>]"
      ]
     },
     "execution_count": 22,
     "metadata": {},
     "output_type": "execute_result"
    },
    {
     "data": {
      "image/png": "[encoded data removed]",
      "text/plain": [
       "<Figure size 720x576 with 3 Axes>"
      ]
     },
     "metadata": {
      "needs_background": "light"
     },
     "output_type": "display_data"
    }
   ],
   "source": [
    "# fig13 = plt.figure()\n",
    "# ax13 = fig13.add_subplot()\n",
    "fig13, ax13 = plt.subplots(nrows = 3, ncols =1)\n",
    "fig13.subplots_adjust(left = 0.1, right = 0.9, hspace = 0.5, wspace = 0.03)\n",
    "ax13[0].set_title(\"x[0] - x_hat[0] (error in x component of solution)\")\n",
    "# ax13[0].set_xlabel(\"iteration\")\n",
    "# ax13[0].set_ylabel(\"score\")\n",
    "ax13[0].plot(x_hat_hist[:,0] + x_actual[0])\n",
    "\n",
    "ax13[1].set_title(\"|y - y0| (abs sum of distances in 2D)\")\n",
    "ax13[1].plot(y_hist)\n",
    "\n",
    "ax13[2].set_title(\"|z - z0| (abs sum of distances in compact direction) (log scale)\")\n",
    "ax13[2].plot(np.log(z_hist))\n",
    "# print(x_actual)\n",
    "# print(x_hat_hist)\n",
    "# print(z_hist)"
   ]
  },
  {
   "cell_type": "markdown",
   "id": "moved-trigger",
   "metadata": {},
   "source": [
    "## ICET Monte-Carlo Sim"
   ]
  },
  {
   "cell_type": "code",
   "execution_count": null,
   "id": "contrary-nursery",
   "metadata": {
    "scrolled": true
   },
   "outputs": [],
   "source": [
    "from ICET import ICET_v2\n",
    "fig12_2 = plt.figure()\n",
    "ax12_2 = fig12_2.add_subplot()\n",
    "ax12_2.set_aspect('equal') \n",
    "\n",
    "dat = np.load(\"data/high_res_noisy_dxdy_100.npy\") #default\n",
    "a = 59            # easy test scans on default dataset: #40 #59 #10 #97 #33 \n",
    "\n",
    "dat1 = dat[:,:scanpts]\n",
    "dat2 = dat[:,scanpts:2*scanpts]\n",
    "\n",
    "green = mpatches.Patch(color='green', label='1st Scan')\n",
    "blue = mpatches.Patch(color='blue', label='2nd Scan')\n",
    "red = mpatches.Patch(color='red', label='Estimated transformation')\n",
    "plt.legend(handles=[green, blue, red])\n",
    "\n",
    "fidelity = 10     # [N x N] grid of ellipses\n",
    "nc = 5            # number of cycles\n",
    "min_num_pts = 10  # minimum number of points per ellipse #works well with 5 for default\n",
    "atd = True        #along track demo\n",
    "\n",
    "Epochs = 100\n",
    "ICET_errors = np.zeros([Epochs,3])\n",
    "ICET_estimated_errors = np.zeros([Epochs,3])\n",
    "for i in range(Epochs):\n",
    "    print(\"Epoch \", i)\n",
    "    X, Q, hist, x_actual, condinfo = ICET_v2(dat1[a],dat2[a],fig12_2,ax12_2, fid = fidelity, \n",
    "                                              num_cycles = nc, min_num_pts = min_num_pts, \n",
    "                                              along_track_demo = atd)\n",
    "#     print(\"best transformation X = \\n\", X.T)\n",
    "#     print(\"actual: \\n\", x_actual)\n",
    "#     print(\"Q = \\n\", Q)\n",
    "    err = X.T + x_actual\n",
    "#     print(\"error: \", err)\n",
    "    ICET_errors[i,:] = err\n",
    "    \n",
    "    #DEBUG: switching up x and y because everything is based off of the minor axis?\n",
    "#     ICET_estimated_errors[i,0] = np.sqrt(Q[1,1])\n",
    "#     ICET_estimated_errors[i,1] = np.sqrt(Q[0,0])\n",
    "    ICET_estimated_errors[i,0] = np.sqrt(Q[0,0])\n",
    "    ICET_estimated_errors[i,1] = np.sqrt(Q[1,1])\n",
    "    ICET_estimated_errors[i,2] = np.sqrt(Q[2,2])\n",
    "    \n",
    "print(\"std errors: \\n\", np.std(ICET_errors, axis = 0))\n",
    "print(\"estimated std errors \\n\", np.mean(ICET_estimated_errors, axis = 0))\n",
    "# print(\"estimated std errors: \\n\", np.std(ICET_estimated_errors, axis =0))"
   ]
  },
  {
   "cell_type": "code",
   "execution_count": null,
   "id": "accurate-harris",
   "metadata": {},
   "outputs": [],
   "source": [
    "# ICET_errors_no_outliars = ICET_errors[abs(ICET_errors[:,0]) < 3]\n",
    "# print(ICET_estimated_errors)\n",
    "# print(ICET_errors)\n",
    "\n",
    "print(\"mean errors:       \", np.mean(ICET_errors, axis =0))\n",
    "\n",
    "print(\"actual std (with outliars): \", np.std(ICET_errors, axis = 0))\n",
    "# print(\"actual std (no outliars):   \", np.std(ICET_errors_no_outliars, axis =0))\n",
    "# print(np.shape(ICET_errors_no_outliars))\n",
    "\n",
    "print(\"estimated std:              \", np.mean(ICET_estimated_errors, axis = 0))\n",
    "# print(\"estimated std errors:       \", np.std(ICET_estimated_errors, axis =0))\n",
    "\n",
    "#calculate 90th percentile for each of the three parameters \n",
    "percentile = 90\n",
    "x90th = np.percentile(abs(ICET_errors[:,0]),percentile)\n",
    "x_no_outliars = np.std(ICET_errors[abs(ICET_errors[:,0]) < x90th, 0 ])\n",
    "y90th = np.percentile(abs(ICET_errors[:,1]),percentile)\n",
    "y_no_outliars = np.std(ICET_errors[abs(ICET_errors[:,1]) < y90th, 1 ])\n",
    "theta90th = np.percentile(abs(ICET_errors[:,2]),percentile)\n",
    "theta_no_outliars = np.std(ICET_errors[abs(ICET_errors[:,2]) < theta90th, 2 ])\n",
    "\n",
    "ans90th = np.array([x_no_outliars, y_no_outliars, theta_no_outliars])\n",
    "print(\"lower \", percentile, \"% STD:    \", ans90th          )\n"
   ]
  },
  {
   "cell_type": "code",
   "execution_count": null,
   "id": "prescription-mineral",
   "metadata": {},
   "outputs": [],
   "source": [
    "fig13, ax13 = plt.subplots(nrows = 3, ncols =1)\n",
    "fig13.subplots_adjust(left = 0.1, right = 0.9, hspace = 0.5, wspace = 0.03)\n",
    "# ax13.set_aspect('equal') \n",
    "# print(ICET_estimated_errors)\n",
    "# print(ICET_errors)\n",
    "# bins = np.linspace(1,100,50)/200 - 0.25; #for ICET_errors[:,2]\n",
    "ax13[0].hist(ICET_errors[:,0], bins = 25)\n",
    "ax13[0].set_title(\"x\")\n",
    "ax13[0].set_xlabel(\"error (m)\")\n",
    "ax13[0].set_ylabel(\"frequency\")\n",
    "\n",
    "ax13[1].hist(ICET_errors[:,1], bins = 25)\n",
    "ax13[1].set_xlabel(\"error (m)\")\n",
    "ax13[1].set_title(\"y\")\n",
    "ax13[1].set_ylabel(\"frequency\")\n",
    "\n",
    "ax13[2].set_title(\"theta\")\n",
    "ax13[2].hist(ICET_errors[:,2], bins = 25)\n",
    "ax13[2].set_xlabel(\"error (rad)\")\n",
    "ax13[2].set_ylabel(\"frequency\")\n"
   ]
  },
  {
   "cell_type": "code",
   "execution_count": null,
   "id": "solved-comfort",
   "metadata": {},
   "outputs": [],
   "source": [
    "A = np.identity(2)\n",
    "A[0,0] = 0.999\n",
    "A[1,1] = 0.999\n",
    "A[1,0] = -0.003\n",
    "A[0,1] = 0.003\n",
    "print(A)\n",
    "# print(np.linalg.pinv(A))\n",
    "# print(A.T)\n",
    "B = np.array([1,0])\n",
    "print(B.dot(A))"
   ]
  },
  {
   "cell_type": "code",
   "execution_count": null,
   "id": "infinite-concern",
   "metadata": {},
   "outputs": [],
   "source": [
    " #FOUND MY BUG??!!?\n",
    "# U_Test = R(np.pi/6.22)\n",
    "U_Test = np.array([[0.7122, 0.6925],[-0.6925, 0.7122]]) #u matrices currently look like this (wrong)\n",
    "# U_Test = np.array([[-0.8508, -0.525],[0.525, -0.8508]])\n",
    "print(U_Test)\n",
    "R_noise = np.array([[10.069,2.01],[-2.01,10.069]])\n",
    "print(U_Test.dot(R_noise))\n",
    "# print(U_Test.dot(R_noise).dot(U_Test.T))"
   ]
  },
  {
   "cell_type": "code",
   "execution_count": null,
   "id": "revised-administrator",
   "metadata": {},
   "outputs": [],
   "source": [
    "print(np.linalg.eig(arr))"
   ]
  },
  {
   "cell_type": "code",
   "execution_count": null,
   "id": "sitting-channels",
   "metadata": {},
   "outputs": [],
   "source": [
    "test = np.identity(4)\n",
    "test[0,0] = 4\n",
    "test[1,0] = 3\n",
    "test[0,1] = 2\n",
    "test[2,3] = 9\n",
    "test[3,2] = -11\n",
    "print(test)\n",
    "print(np.linalg.pinv(test))\n",
    "\n",
    "test2 = np.array([[4,2],\n",
    "                  [3,1]])\n",
    "print(\"test2: \\n\", test2)\n",
    "print(np.linalg.pinv(test2))\n",
    "\n",
    "print(np.linalg.pinv(test[:2,:2]) == np.linalg.pinv(test2))"
   ]
  },
  {
   "cell_type": "markdown",
   "id": "hundred-extraction",
   "metadata": {},
   "source": [
    "## Proof that (H.T)(W)(H) = (U)(lam)(U.T)"
   ]
  },
  {
   "cell_type": "code",
   "execution_count": null,
   "id": "wanted-painting",
   "metadata": {},
   "outputs": [],
   "source": [
    "from utils import *\n",
    "\n",
    "H_temp = np.random.rand(6,3)\n",
    "W_temp = np.identity(6)\n",
    "arr = H_temp.T.dot(W_temp).dot(H_temp)\n",
    "\n",
    "print(\"arr: \\n\", arr)\n",
    "eig = np.linalg.eig(arr)\n",
    "eigenval = eig[0][:,None]\n",
    "eigenvec = eig[1]\n",
    "\n",
    "print(\"eigenvec: \\n\", eigenvec)\n",
    "# print(\"eigenval: \\n\", eigenval)\n",
    "\n",
    "lam = np.identity(3)\n",
    "for i in range(3):\n",
    "    lam[i,i] = eigenval[i]\n",
    "\n",
    "print(\"lam: \\n\", lam)\n",
    "    \n",
    "print(\"ans: \\n\", eigenvec.dot(lam).dot(eigenvec.T))\n"
   ]
  },
  {
   "cell_type": "code",
   "execution_count": null,
   "id": "recognized-alarm",
   "metadata": {},
   "outputs": [],
   "source": [
    "# from scipy import misc\n",
    "\n",
    "#not going to work with our inputs\n",
    "\n",
    "def f(x):\n",
    "    #works\n",
    "    return(np.sin(x+1)/4)\n",
    "    \n",
    "def NewtonsMethod(f, x, tolerance=0.001):\n",
    "    while True:\n",
    "        x1 = x - f(x) / misc.derivative(f, x) \n",
    "        t = abs(x1 - x)\n",
    "        if t < tolerance:\n",
    "            break\n",
    "        x = x1\n",
    "    return x\n",
    "\n",
    "x = 3\n",
    "\n",
    "x0 = NewtonsMethod(f, x)\n",
    "print(x0)"
   ]
  },
  {
   "cell_type": "code",
   "execution_count": null,
   "id": "announced-medicaid",
   "metadata": {},
   "outputs": [],
   "source": [
    "#ellipse z score equation\n",
    "\n",
    "pt_x = 1\n",
    "pt_y = 1.5\n",
    "\n",
    "major = 1.94 #20\n",
    "minor = 1.166 #12\n",
    "\n",
    "ratio = major / minor\n",
    "\n",
    "print(\"inside if < 1: \", (pt_x**2)/(minor**2) + (pt_y**2)/(major**2))\n",
    "\n",
    "b = np.sqrt( (pt_x**2)/(ratio**2) + pt_y**2 )\n",
    "print(b)\n",
    "a = ratio*b\n",
    "print(a)\n",
    "\n",
    "print(\"z-score: \", a/major)"
   ]
  },
  {
   "cell_type": "markdown",
   "id": "professional-semiconductor",
   "metadata": {},
   "source": []
  },
  {
   "cell_type": "code",
   "execution_count": null,
   "id": "beginning-supplier",
   "metadata": {
    "scrolled": false
   },
   "outputs": [],
   "source": [
    "from ICET import get_U_and_L\n",
    "\n",
    "ctr1 = np.zeros([len(E1),2])\n",
    "cov1 = np.zeros([len(E1),2,2])\n",
    "npts1 = np.zeros(len(E1))\n",
    "for idx1, c1 in enumerate(E1):\n",
    "    ctr1[idx1,:] = c1[0]\n",
    "    cov1[idx1,:] = c1[1]\n",
    "    \n",
    "U, L = get_U_and_L(cov1)\n",
    "print(\"U[:3] = \\n\", U[:3], \"\\n L = \\n\", L, np.shape(L))"
   ]
  },
  {
   "cell_type": "code",
   "execution_count": null,
   "id": "divine-diameter",
   "metadata": {},
   "outputs": [],
   "source": [
    "np.linalg.pinv(np.array([[0,1],[0,1]]))"
   ]
  },
  {
   "cell_type": "code",
   "execution_count": null,
   "id": "ordered-fleet",
   "metadata": {},
   "outputs": [],
   "source": [
    "from ICET import fast_weighted_psudoinverse\n",
    "\n",
    "inpoints = np.reshape(pp1, (np.shape(pp1)[0]*2,1), order='C')\n",
    "\n",
    "print(np.shape(inpoints))\n",
    "fast_weighted_psudoinverse(inpoints,np.array([1,1,1]))"
   ]
  },
  {
   "cell_type": "markdown",
   "id": "departmental-database",
   "metadata": {},
   "source": [
    "### Differentiation tests"
   ]
  },
  {
   "cell_type": "code",
   "execution_count": null,
   "id": "inclusive-weapon",
   "metadata": {
    "scrolled": false
   },
   "outputs": [],
   "source": [
    "# import tensorflow as tf\n",
    "# tf.compat.v1.enable_eager_execution()\n",
    "\n",
    "# x = tf.constant([[3.0, 4.0, 10.0, 100.]])\n",
    "\n",
    "# with tf.GradientTape() as grad:\n",
    "#     grad.watch(x)\n",
    "#     y = x * x\n",
    "    \n",
    "# dy_dx = grad.gradient(y,x)\n",
    "# print(dy_dx.numpy())\n",
    "\n",
    "# H = tf.hessians(ys, xs, gate_gradients=False, aggregation_method=None)\n",
    "# print(H)\n",
    "\n",
    "#--------------------------------------------\n",
    "\n",
    "# import numpy as np\n",
    "# # def f(x,y):\n",
    "# #     return np.sin((x + y))\n",
    "# # x = y = np.arange(-5, 5, 0.05)\n",
    "\n",
    "# x = np.random.rand(3)\n",
    "# y = np.random.rand(3)\n",
    "\n",
    "# X, Y = np.meshgrid(x, y)\n",
    "# print(X,\"\\n\", Y)\n",
    "\n",
    "# zs = np.array([f(x,y) for x,y in zip(np.ravel(X), np.ravel(Y))])\n",
    "# Z = zs.reshape(X.shape)\n",
    "\n",
    "# gx,gy = np.gradient(Z,0.05,0.05)\n",
    "\n",
    "# print(\"gx: \\n\", gx, \"\\n gy: \\n\",gy)\n",
    "#-------------------------------------------------------\n",
    "import numpy as np\n",
    "\n",
    "# arr = np.random.rand(3,3)\n",
    "arr = np.linspace(0,4,5)\n",
    "arr = np.array([arr,2*arr])\n",
    "print(\"input array: \\n\", arr)\n",
    "\n",
    "d1 = np.gradient(arr)\n",
    "print(\"df/dy \\n\",d1[0])\n",
    "print(\"df/dx \\n\", d1[1])\n",
    "\n",
    "d2f_dx = np.gradient(d1[1])\n",
    "print(\"d2f_dxdy \\n\", d2f_dx[0])\n",
    "print(\"d2f_d2x \\n\", d2f_dx[1]) \n",
    "\n",
    "d2f_dy = np.gradient(d1[0])\n",
    "print(\"d2f_dydx \\n\", d2f_dy[1])\n",
    "print(\"d2f_d2y \\n\", d2f_dy[0]) \n",
    "\n",
    "#order of partials does not matter...\n",
    "# print(d2f_dx[0] == d2f_dy[1])\n"
   ]
  },
  {
   "cell_type": "code",
   "execution_count": null,
   "id": "blank-davis",
   "metadata": {},
   "outputs": [],
   "source": [
    "l1 = np.zeros([2,2])\n",
    "l2 = np.ones(2)\n",
    "\n",
    "a = []\n",
    "a.append(l1)\n",
    "a.append(l2)\n",
    "print(a)"
   ]
  },
  {
   "cell_type": "code",
   "execution_count": null,
   "id": "crazy-bulgarian",
   "metadata": {},
   "outputs": [],
   "source": [
    "a = np.array([[1,0]])\n",
    "np.shape(a)"
   ]
  },
  {
   "cell_type": "markdown",
   "id": "tired-evans",
   "metadata": {},
   "source": [
    "### Notes:\n",
    "\n",
    "- ICET is very sensitive to voxel size:\n",
    "        \n",
    "            increasing voxel size can cause multiple objects to be grouped within the same ellipse, this will cause the ellipse to be rotated not in the direction of geometric ambiguity of each individual shape but merely be rotated to represent the spatial relationship between the two objects\n",
    "            \n",
    "            \n",
    "- much better results when dividing cellsize by 2 (may be due to radius/ diameter inconsistancy)\n",
    "\n",
    "### Questions:\n",
    "\n",
    "- what do I do if BOTH axis of ellipse extend past the cutoff value?\n",
    "\n",
    "- both pure cross track and pure along track will explode in some situations \n",
    "\n",
    "- do conditioning on each summand of first term (H_i.T)(W_i)(H_i) or at the end? \n",
    "        \n",
    "        - I'm assuming the end...\n",
    "\n",
    "- when removing axis after calculting condition number how do I know which axis are associated with each eigenvalue?\n",
    "\n",
    "        - should I be using an identity matrix or should I just use whatever axis the eig() function puts out eigenvectors\n",
    "\n",
    "- is the goal of the 2nd L matrix to avoid explosion or to encourage convergence? \n",
    "\n"
   ]
  },
  {
   "cell_type": "code",
   "execution_count": null,
   "id": "monetary-dining",
   "metadata": {},
   "outputs": [],
   "source": [
    "#test\n",
    "x = -np.linspace(0,10,11)\n",
    "A, B, C = sorted(x)[0:3]\n",
    "print(x)\n",
    "print(A, B, C)"
   ]
  },
  {
   "cell_type": "code",
   "execution_count": null,
   "id": "driven-state",
   "metadata": {},
   "outputs": [],
   "source": [
    "np.linalg.pinv(np.identity(1))"
   ]
  },
  {
   "cell_type": "code",
   "execution_count": null,
   "id": "municipal-mechanism",
   "metadata": {},
   "outputs": [],
   "source": []
  }
 ],
 "metadata": {
  "kernelspec": {
   "display_name": "Python 3",
   "language": "python",
   "name": "python3"
  },
  "language_info": {
   "codemirror_mode": {
    "name": "ipython",
    "version": 3
   },
   "file_extension": ".py",
   "mimetype": "text/x-python",
   "name": "python",
   "nbconvert_exporter": "python",
   "pygments_lexer": "ipython3",
   "version": "3.7.10"
  }
 },
 "nbformat": 4,
 "nbformat_minor": 5
}
