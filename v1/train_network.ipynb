{
 "cells": [
  {
   "cell_type": "markdown",
   "id": "grateful-bread",
   "metadata": {},
   "source": [
    "# Neural Network for Lidar Odometry"
   ]
  },
  {
   "cell_type": "code",
   "execution_count": 1,
   "id": "willing-starter",
   "metadata": {},
   "outputs": [
    {
     "data": {
      "application/javascript": [
       "IPython.notebook.set_autosave_interval(180000)"
      ]
     },
     "metadata": {},
     "output_type": "display_data"
    },
    {
     "name": "stdout",
     "output_type": "stream",
     "text": [
      "Autosaving every 180 seconds\n"
     ]
    }
   ],
   "source": [
    "#setup\n",
    "import numpy as np\n",
    "import tensorflow as tf\n",
    "import matplotlib.pyplot as plt\n",
    "import scipy.io as sio\n",
    "\n",
    "#need to have these two lines to work on my ancient 1060 3gb\n",
    "#  https://stackoverflow.com/questions/43990046/tensorflow-blas-gemm-launch-failed\n",
    "physical_devices = tf.config.list_physical_devices('GPU') \n",
    "tf.config.experimental.set_memory_growth(physical_devices[0], True)\n",
    "\n",
    "%matplotlib inline\n",
    "plt.rcParams['figure.figsize'] = (10.0, 8.0) # set default size of plots\n",
    "plt.rcParams['image.interpolation'] = 'nearest'\n",
    "plt.rcParams['image.cmap'] = 'gray'\n",
    "\n",
    "# for auto-reloading external modules\n",
    "%load_ext autoreload\n",
    "%autoreload 2\n",
    "%autosave 180"
   ]
  },
  {
   "cell_type": "code",
   "execution_count": 2,
   "id": "spare-monroe",
   "metadata": {},
   "outputs": [],
   "source": [
    "# file = \"data/train_10k.npy\" #has noise in readings\n",
    "# file = \"data/train_100k.npy\" #no noise\n",
    "# file = \"data/train_straight_1k.npy\" #no noise, no lateral movement relative to initial heading\n",
    "file = \"data/train_dxdy_200k.npy\" #no noise, displacement in x and y relative to starting orientation\n",
    "\n",
    "dataset = np.load(file)"
   ]
  },
  {
   "cell_type": "code",
   "execution_count": 3,
   "id": "referenced-virgin",
   "metadata": {},
   "outputs": [
    {
     "data": {
      "text/plain": [
       "(200000, 103)"
      ]
     },
     "execution_count": 3,
     "metadata": {},
     "output_type": "execute_result"
    }
   ],
   "source": [
    "dataset[0,100:]\n",
    "np.shape(dataset)"
   ]
  },
  {
   "cell_type": "code",
   "execution_count": 4,
   "id": "outside-assessment",
   "metadata": {},
   "outputs": [
    {
     "name": "stdout",
     "output_type": "stream",
     "text": [
      "(200000, 50)\n"
     ]
    }
   ],
   "source": [
    "from network import Net1, Net2\n",
    "\n",
    "np.random.seed(1337)\n",
    "\n",
    "#convert data from numpy to tensors\n",
    "# x_train = tf.convert_to_tensor(dataset[:,:100])\n",
    "\n",
    "#alternate dataset where we are just looking at the changes in measurement from the first sample to the 2nd\n",
    "x_temp = tf.convert_to_tensor(dataset[:,:100])\n",
    "x_train = np.zeros([np.shape(dataset)[0], 50])\n",
    "x_train[:,:50] = x_temp[:,:50] - x_temp[:,50:100]\n",
    "\n",
    "print(np.shape(x_train))\n",
    "\n",
    "y_train = tf.convert_to_tensor(dataset[:,100:])"
   ]
  },
  {
   "cell_type": "code",
   "execution_count": null,
   "id": "induced-south",
   "metadata": {},
   "outputs": [
    {
     "name": "stdout",
     "output_type": "stream",
     "text": [
      "Model: \"functional_3\"\n",
      "_________________________________________________________________\n",
      "Layer (type)                 Output Shape              Param #   \n",
      "=================================================================\n",
      "input_2 (InputLayer)         [(None, 50, 1)]           0         \n",
      "_________________________________________________________________\n",
      "batch_normalization_4 (Batch (None, 50, 1)             4         \n",
      "_________________________________________________________________\n",
      "conv1d_2 (Conv1D)            (None, 46, 128)           768       \n",
      "_________________________________________________________________\n",
      "batch_normalization_5 (Batch (None, 46, 128)           512       \n",
      "_________________________________________________________________\n",
      "conv1d_3 (Conv1D)            (None, 44, 128)           49280     \n",
      "_________________________________________________________________\n",
      "flatten_1 (Flatten)          (None, 5632)              0         \n",
      "_________________________________________________________________\n",
      "dense_3 (Dense)              (None, 256)               1442048   \n",
      "_________________________________________________________________\n",
      "batch_normalization_6 (Batch (None, 256)               1024      \n",
      "_________________________________________________________________\n",
      "dense_4 (Dense)              (None, 128)               32896     \n",
      "_________________________________________________________________\n",
      "batch_normalization_7 (Batch (None, 128)               512       \n",
      "_________________________________________________________________\n",
      "dense_5 (Dense)              (None, 3)                 387       \n",
      "_________________________________________________________________\n",
      "tf_op_layer_Mul_1 (TensorFlo [(None, 3)]               0         \n",
      "=================================================================\n",
      "Total params: 1,527,431\n",
      "Trainable params: 1,526,405\n",
      "Non-trainable params: 1,026\n",
      "_________________________________________________________________\n",
      "None\n",
      "Epoch 1/100\n",
      "1485/1485 [==============================] - 8s 5ms/step - loss: 1.9958 - val_loss: 1.8497\n",
      "Epoch 2/100\n",
      "1485/1485 [==============================] - 8s 5ms/step - loss: 1.8054 - val_loss: 1.9139\n",
      "Epoch 3/100\n",
      "1485/1485 [==============================] - 8s 5ms/step - loss: 1.7338 - val_loss: 1.7095\n",
      "Epoch 4/100\n",
      "1485/1485 [==============================] - 8s 5ms/step - loss: 1.6923 - val_loss: 1.6623\n",
      "Epoch 5/100\n",
      "1485/1485 [==============================] - 8s 5ms/step - loss: 1.6594 - val_loss: 1.6424\n",
      "Epoch 6/100\n",
      "1485/1485 [==============================] - 8s 5ms/step - loss: 1.6235 - val_loss: 1.6450\n",
      "Epoch 7/100\n",
      "1485/1485 [==============================] - 8s 5ms/step - loss: 1.5835 - val_loss: 1.5692\n",
      "Epoch 8/100\n",
      "1485/1485 [==============================] - 8s 5ms/step - loss: 1.5524 - val_loss: 1.5239\n",
      "Epoch 9/100\n",
      "1485/1485 [==============================] - 8s 5ms/step - loss: 1.5152 - val_loss: 1.5152\n",
      "Epoch 10/100\n",
      "1485/1485 [==============================] - 8s 5ms/step - loss: 1.5123 - val_loss: 1.5633\n",
      "Epoch 11/100\n",
      "1485/1485 [==============================] - 8s 5ms/step - loss: 1.4955 - val_loss: 1.4394\n",
      "Epoch 12/100\n",
      "1485/1485 [==============================] - 8s 5ms/step - loss: 1.4593 - val_loss: 1.4535\n",
      "Epoch 13/100\n",
      "1485/1485 [==============================] - 8s 5ms/step - loss: 1.4291 - val_loss: 1.5635\n",
      "Epoch 14/100\n",
      "1485/1485 [==============================] - 8s 5ms/step - loss: 1.4091 - val_loss: 1.4603\n",
      "Epoch 15/100\n",
      "1485/1485 [==============================] - 8s 5ms/step - loss: 1.4020 - val_loss: 1.4171\n",
      "Epoch 16/100\n",
      "1485/1485 [==============================] - 8s 5ms/step - loss: 1.3723 - val_loss: 1.3752\n",
      "Epoch 17/100\n",
      "1485/1485 [==============================] - 8s 5ms/step - loss: 1.3576 - val_loss: 1.4131\n",
      "Epoch 18/100\n",
      "1485/1485 [==============================] - 8s 5ms/step - loss: 1.3600 - val_loss: 1.4040\n",
      "Epoch 19/100\n",
      "1485/1485 [==============================] - 8s 5ms/step - loss: 1.3394 - val_loss: 1.4163\n",
      "Epoch 20/100\n",
      "1485/1485 [==============================] - 8s 5ms/step - loss: 1.3203 - val_loss: 1.3975\n",
      "Epoch 21/100\n",
      "1485/1485 [==============================] - 8s 5ms/step - loss: 1.3365 - val_loss: 1.4273\n",
      "Epoch 22/100\n",
      "1485/1485 [==============================] - 8s 5ms/step - loss: 1.3172 - val_loss: 1.3405\n",
      "Epoch 23/100\n",
      "1485/1485 [==============================] - 8s 5ms/step - loss: 1.2965 - val_loss: 1.3331\n",
      "Epoch 24/100\n",
      "1485/1485 [==============================] - 8s 5ms/step - loss: 1.2844 - val_loss: 1.3309\n",
      "Epoch 25/100\n",
      "1485/1485 [==============================] - 8s 5ms/step - loss: 1.2764 - val_loss: 1.3416\n",
      "Epoch 26/100\n",
      "1485/1485 [==============================] - 8s 5ms/step - loss: 1.2676 - val_loss: 1.3498\n",
      "Epoch 27/100\n",
      "1485/1485 [==============================] - 8s 5ms/step - loss: 1.2578 - val_loss: 1.3304\n",
      "Epoch 28/100\n",
      "1485/1485 [==============================] - 8s 5ms/step - loss: 1.2492 - val_loss: 1.3398\n",
      "Epoch 29/100\n",
      "1485/1485 [==============================] - 8s 5ms/step - loss: 1.2395 - val_loss: 1.3204\n",
      "Epoch 30/100\n",
      "1485/1485 [==============================] - 8s 5ms/step - loss: 1.2386 - val_loss: 1.3513\n",
      "Epoch 31/100\n",
      "1485/1485 [==============================] - 8s 5ms/step - loss: 1.2257 - val_loss: 1.3462\n",
      "Epoch 32/100\n",
      "1485/1485 [==============================] - 8s 5ms/step - loss: 1.2265 - val_loss: 1.4769\n",
      "Epoch 33/100\n",
      "1485/1485 [==============================] - 8s 5ms/step - loss: 1.2232 - val_loss: 1.4685\n",
      "Epoch 34/100\n",
      "1485/1485 [==============================] - 8s 5ms/step - loss: 1.2080 - val_loss: 1.4370\n",
      "Epoch 35/100\n",
      "1485/1485 [==============================] - 8s 5ms/step - loss: 1.2050 - val_loss: 1.3400\n",
      "Epoch 36/100\n",
      "1485/1485 [==============================] - 8s 5ms/step - loss: 1.1983 - val_loss: 1.3588\n",
      "Epoch 37/100\n",
      "1485/1485 [==============================] - 8s 5ms/step - loss: 1.1922 - val_loss: 1.3397\n",
      "Epoch 38/100\n",
      "1485/1485 [==============================] - 8s 5ms/step - loss: 1.1880 - val_loss: 1.3114\n",
      "Epoch 39/100\n",
      "1485/1485 [==============================] - 8s 5ms/step - loss: 1.1784 - val_loss: 1.3260\n",
      "Epoch 40/100\n",
      "1485/1485 [==============================] - 8s 5ms/step - loss: 1.1931 - val_loss: 1.3197\n",
      "Epoch 41/100\n",
      "1485/1485 [==============================] - 8s 5ms/step - loss: 1.1655 - val_loss: 1.3149\n",
      "Epoch 42/100\n",
      "1485/1485 [==============================] - 8s 5ms/step - loss: 1.1648 - val_loss: 1.3121\n",
      "Epoch 43/100\n",
      "1485/1485 [==============================] - 8s 5ms/step - loss: 1.1622 - val_loss: 1.3240\n",
      "Epoch 44/100\n",
      " 388/1485 [======>.......................] - ETA: 5s - loss: 1.1417"
     ]
    }
   ],
   "source": [
    "model = Net1() # 50 input data (looking at differences in measurememnt between each point) \n",
    "# model = Net2() # 100 input network (looking at full data)\n",
    "\n",
    "runLen = 100    \n",
    "BS = 128 #256 #works well\n",
    "\n",
    "def scheduler(epoch, lr):\n",
    "    part1 = 2*runLen//3\n",
    "    part2 = 5*runLen//6\n",
    "\n",
    "#     part1 = runLen//3\n",
    "#     part2 = 2*runLen//3\n",
    "\n",
    "    if epoch < part1:\n",
    "        lr = 0.01\n",
    "        return lr\n",
    "    if epoch >= part1 and epoch < part2:\n",
    "        lr = 0.005\n",
    "        return lr\n",
    "    if epoch >= part2:\n",
    "        lr = 0.001\n",
    "        return lr\n",
    "\n",
    "#TODO: figure out how to implement sample weight\n",
    "# L = tf.keras.losses.MeanAbsoluteError()\n",
    "# sample_weight = [0.3,0.3,0.4]\n",
    "    \n",
    "model.compile(\n",
    "    optimizer=tf.keras.optimizers.Adam(lr=0.001),\n",
    "#     loss=tf.keras.losses.MeanSquaredError(),\n",
    "    loss=tf.keras.losses.MeanAbsoluteError(),\n",
    "#     loss = tf.keras.losses.MeanAbsolutePercentageError(),\n",
    ")\n",
    "\n",
    "summary = model.summary()\n",
    "print(summary)\n",
    "\n",
    "callback = tf.keras.callbacks.LearningRateScheduler(scheduler)\n",
    "\n",
    "trace = model.fit(x=x_train, y=y_train, batch_size=BS, epochs=runLen, verbose=1, \n",
    "                  validation_split=0.05, callbacks = [callback], shuffle=True)\n"
   ]
  },
  {
   "cell_type": "code",
   "execution_count": null,
   "id": "speaking-production",
   "metadata": {},
   "outputs": [],
   "source": [
    "plt.subplot(2, 1, 1)\n",
    "plt.plot(trace.history['loss'], '-')\n",
    "plt.plot(trace.history['val_loss'], '-')\n",
    "plt.legend(['train', 'val'], loc='upper left')\n",
    "plt.xlabel('iteration')\n",
    "plt.ylabel('loss')"
   ]
  },
  {
   "cell_type": "code",
   "execution_count": null,
   "id": "advised-junction",
   "metadata": {},
   "outputs": [],
   "source": [
    "r = int(np.random.rand()*100)\n",
    "print(y_train[r])\n",
    "# out = model.predict(x_train)\n",
    "print(out[r])"
   ]
  },
  {
   "cell_type": "code",
   "execution_count": null,
   "id": "lucky-vampire",
   "metadata": {},
   "outputs": [],
   "source": [
    "test_file = \"data/test_dxdy.npy\"\n",
    "test_dataset = np.load(test_file)\n",
    "rand = int(np.shape(test_dataset)[0]*np.random.rand())\n",
    "\n",
    "#test for standard case\n",
    "# x_test = test_dataset[:,:100]\n",
    "# x_test = tf.convert_to_tensor(x_test)\n",
    "\n",
    "#test when looking at displacement between two measurements\n",
    "x_temp2 = tf.convert_to_tensor(test_dataset[:,:100])\n",
    "x_test = np.zeros([np.shape(test_dataset)[0], 50])\n",
    "x_test[:,:50] = x_temp2[:,:50] - x_temp2[:,50:100]\n",
    "\n",
    "y_test = test_dataset[:,100:]\n",
    "y_test = tf.convert_to_tensor(y_test)\n",
    "# print(y_test[rand])\n",
    "print(y_train[rand])\n",
    "\n",
    "# guess = model.predict(x_test)\n",
    "guess = model.predict(x_train)\n",
    "print(guess[rand])"
   ]
  },
  {
   "cell_type": "code",
   "execution_count": null,
   "id": "accessible-circular",
   "metadata": {},
   "outputs": [],
   "source": [
    "# model.save(\"dead_reckoning_1pt36_mse.kmod\") #got this with 50 input model"
   ]
  },
  {
   "cell_type": "markdown",
   "id": "unusual-error",
   "metadata": {},
   "source": [
    "# Normal Distribution Transform (NDT)"
   ]
  },
  {
   "cell_type": "markdown",
   "id": "bored-activation",
   "metadata": {},
   "source": [
    "Step 2: generate a normal distribution for each subset of points"
   ]
  },
  {
   "cell_type": "code",
   "execution_count": null,
   "id": "south-intersection",
   "metadata": {},
   "outputs": [],
   "source": [
    "from NDT import fit_gaussian\n",
    "\n",
    "numpts = 10\n",
    "points = np.random.randn(numpts, 2)\n",
    "\n",
    "#adds order to points\n",
    "# points[:,0] += np.linspace(1,10,numpts)\n",
    "# points[:,1] += np.linspace(0,2,numpts)\n",
    " \n",
    "mu, sigma = fit_gaussian(points)\n",
    "print(\"mu = \", mu)\n",
    "print(\"sigma = \", sigma)\n",
    "\n",
    "eig = np.linalg.eig(sigma)\n",
    "eigenval = eig[0]\n",
    "eigenvec = eig[1]\n",
    "\n",
    "print(\"eigenval = \", eigenval)\n",
    "print(\"eigenvec = \", eigenvec)\n"
   ]
  },
  {
   "cell_type": "code",
   "execution_count": null,
   "id": "acoustic-dutch",
   "metadata": {},
   "outputs": [],
   "source": [
    "#draw ellipse around 1std to prove fit_guassian works\n",
    "from matplotlib.patches import Ellipse\n",
    "\n",
    "nstd = 2\n",
    "\n",
    "fig2 = plt.figure(1)\n",
    "ax2 = fig2.add_subplot()\n",
    "\n",
    "patches = []\n",
    "\n",
    "ax2.set_xlim(-15,15)\n",
    "ax2.set_ylim(-15,15)\n",
    "ax2.scatter(points[:,0], points[:,1])\n",
    "\n",
    "rot = -np.rad2deg(np.arcsin(eigenvec[0,1]/eigenvec[0,0]))\n",
    "width = 2*nstd*np.sqrt(eigenval[0])\n",
    "height = 2*nstd*np.sqrt(eigenval[1])\n",
    "\n",
    "ell = Ellipse((mu[0],mu[1]),width, height, angle = rot, fill = False)\n",
    "ax2.add_patch(ell)\n"
   ]
  },
  {
   "cell_type": "code",
   "execution_count": null,
   "id": "assumed-board",
   "metadata": {},
   "outputs": [],
   "source": []
  }
 ],
 "metadata": {
  "kernelspec": {
   "display_name": "dnn",
   "language": "python",
   "name": "dnn"
  },
  "language_info": {
   "codemirror_mode": {
    "name": "ipython",
    "version": 3
   },
   "file_extension": ".py",
   "mimetype": "text/x-python",
   "name": "python",
   "nbconvert_exporter": "python",
   "pygments_lexer": "ipython3",
   "version": "3.7.10"
  }
 },
 "nbformat": 4,
 "nbformat_minor": 5
}
