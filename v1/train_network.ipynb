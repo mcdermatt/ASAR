{
 "cells": [
  {
   "cell_type": "markdown",
   "id": "positive-praise",
   "metadata": {},
   "source": [
    "# Neural Network for Lidar Odometry"
   ]
  },
  {
   "cell_type": "code",
   "execution_count": 1,
   "id": "former-services",
   "metadata": {},
   "outputs": [
    {
     "data": {
      "application/javascript": [
       "IPython.notebook.set_autosave_interval(180000)"
      ]
     },
     "metadata": {},
     "output_type": "display_data"
    },
    {
     "name": "stdout",
     "output_type": "stream",
     "text": [
      "Autosaving every 180 seconds\n"
     ]
    }
   ],
   "source": [
    "#setup\n",
    "import numpy as np\n",
    "import tensorflow as tf\n",
    "import matplotlib.pyplot as plt\n",
    "import scipy.io as sio\n",
    "\n",
    "#need to have these two lines to work on my ancient 1060 3gb\n",
    "#  https://stackoverflow.com/questions/43990046/tensorflow-blas-gemm-launch-failed\n",
    "physical_devices = tf.config.list_physical_devices('GPU') \n",
    "tf.config.experimental.set_memory_growth(physical_devices[0], True)\n",
    "\n",
    "%matplotlib inline\n",
    "plt.rcParams['figure.figsize'] = (10.0, 8.0) # set default size of plots\n",
    "plt.rcParams['image.interpolation'] = 'nearest'\n",
    "plt.rcParams['image.cmap'] = 'gray'\n",
    "\n",
    "# for auto-reloading external modules\n",
    "%load_ext autoreload\n",
    "%autoreload 2\n",
    "%autosave 180"
   ]
  },
  {
   "cell_type": "code",
   "execution_count": 2,
   "id": "considerable-intensity",
   "metadata": {},
   "outputs": [],
   "source": [
    "# file = \"data/train_10k.npy\" #has noise in readings\n",
    "# file = \"data/train_100k.npy\" #no noise\n",
    "# file = \"data/train_straight_1k.npy\" #no noise, no lateral movement relative to initial heading\n",
    "file = \"data/train_dxdy_100k.npy\" #no noise, displacement in x and y relative to starting orientation\n",
    "\n",
    "dataset = np.load(file)"
   ]
  },
  {
   "cell_type": "code",
   "execution_count": 3,
   "id": "growing-retreat",
   "metadata": {},
   "outputs": [],
   "source": [
    "#combine 100k and 200k datasets\n",
    "# ds2 = np.load(\"data/train_dxdy_100k.npy\")\n",
    "# dataset = np.append(dataset, ds2, axis =0)\n",
    "# np.save(\"data/train_dxdy_300k.npy\", dataset)"
   ]
  },
  {
   "cell_type": "code",
   "execution_count": 4,
   "id": "modular-edition",
   "metadata": {},
   "outputs": [
    {
     "data": {
      "text/plain": [
       "(100000, 103)"
      ]
     },
     "execution_count": 4,
     "metadata": {},
     "output_type": "execute_result"
    }
   ],
   "source": [
    "dataset[0,100:]\n",
    "np.shape(dataset)"
   ]
  },
  {
   "cell_type": "code",
   "execution_count": 5,
   "id": "verified-abortion",
   "metadata": {},
   "outputs": [],
   "source": [
    "# dataset[100,:]"
   ]
  },
  {
   "cell_type": "code",
   "execution_count": 6,
   "id": "numerous-membership",
   "metadata": {},
   "outputs": [
    {
     "name": "stdout",
     "output_type": "stream",
     "text": [
      "(100000, 50)\n"
     ]
    }
   ],
   "source": [
    "from network import Net1, Net2\n",
    "\n",
    "np.random.seed(1337)\n",
    "\n",
    "#convert data from numpy to tensors\n",
    "# x_train = tf.convert_to_tensor(dataset[:,:100])\n",
    "\n",
    "#alternate dataset where we are just looking at the changes in measurement from the first sample to the 2nd\n",
    "x_temp = tf.convert_to_tensor(dataset[:,:100])\n",
    "x_train = np.zeros([np.shape(dataset)[0], 50])\n",
    "x_train[:,:50] = x_temp[:,:50] - x_temp[:,50:100]\n",
    "\n",
    "print(np.shape(x_train))\n",
    "\n",
    "y_train = tf.convert_to_tensor(dataset[:,100:])"
   ]
  },
  {
   "cell_type": "code",
   "execution_count": 7,
   "id": "million-watts",
   "metadata": {},
   "outputs": [
    {
     "name": "stdout",
     "output_type": "stream",
     "text": [
      "Model: \"functional_1\"\n",
      "_________________________________________________________________\n",
      "Layer (type)                 Output Shape              Param #   \n",
      "=================================================================\n",
      "input_1 (InputLayer)         [(None, 50, 1)]           0         \n",
      "_________________________________________________________________\n",
      "batch_normalization (BatchNo (None, 50, 1)             4         \n",
      "_________________________________________________________________\n",
      "conv1d (Conv1D)              (None, 46, 128)           768       \n",
      "_________________________________________________________________\n",
      "batch_normalization_1 (Batch (None, 46, 128)           512       \n",
      "_________________________________________________________________\n",
      "conv1d_1 (Conv1D)            (None, 44, 128)           49280     \n",
      "_________________________________________________________________\n",
      "flatten (Flatten)            (None, 5632)              0         \n",
      "_________________________________________________________________\n",
      "dense (Dense)                (None, 256)               1442048   \n",
      "_________________________________________________________________\n",
      "batch_normalization_2 (Batch (None, 256)               1024      \n",
      "_________________________________________________________________\n",
      "dense_1 (Dense)              (None, 128)               32896     \n",
      "_________________________________________________________________\n",
      "batch_normalization_3 (Batch (None, 128)               512       \n",
      "_________________________________________________________________\n",
      "dense_2 (Dense)              (None, 3)                 387       \n",
      "_________________________________________________________________\n",
      "tf_op_layer_Mul (TensorFlowO [(None, 3)]               0         \n",
      "=================================================================\n",
      "Total params: 1,527,431\n",
      "Trainable params: 1,526,405\n",
      "Non-trainable params: 1,026\n",
      "_________________________________________________________________\n",
      "None\n",
      "Epoch 1/30\n",
      "743/743 [==============================] - 4s 5ms/step - loss: 2.1302 - val_loss: 1.9390\n",
      "Epoch 2/30\n",
      "743/743 [==============================] - 12s 17ms/step - loss: 1.9278 - val_loss: 1.9195\n",
      "Epoch 3/30\n",
      "743/743 [==============================] - 4s 5ms/step - loss: 1.8526 - val_loss: 2.5655\n",
      "Epoch 4/30\n",
      "743/743 [==============================] - 4s 5ms/step - loss: 1.8611 - val_loss: 1.9687\n",
      "Epoch 5/30\n",
      "743/743 [==============================] - 4s 5ms/step - loss: 1.8199 - val_loss: 1.8306\n",
      "Epoch 6/30\n",
      "743/743 [==============================] - 4s 5ms/step - loss: 1.7823 - val_loss: 1.8089\n",
      "Epoch 7/30\n",
      "743/743 [==============================] - 4s 5ms/step - loss: 1.7608 - val_loss: 1.9092\n",
      "Epoch 8/30\n",
      "743/743 [==============================] - 4s 5ms/step - loss: 1.7469 - val_loss: 1.8696\n",
      "Epoch 9/30\n",
      "743/743 [==============================] - 4s 5ms/step - loss: 1.7258 - val_loss: 1.7264\n",
      "Epoch 10/30\n",
      "743/743 [==============================] - 4s 5ms/step - loss: 1.7135 - val_loss: 1.7014\n",
      "Epoch 11/30\n",
      "743/743 [==============================] - 4s 5ms/step - loss: 1.7168 - val_loss: 1.9423\n",
      "Epoch 12/30\n",
      "743/743 [==============================] - 4s 5ms/step - loss: 1.6879 - val_loss: 1.7103\n",
      "Epoch 13/30\n",
      "743/743 [==============================] - 4s 5ms/step - loss: 1.6680 - val_loss: 1.6625\n",
      "Epoch 14/30\n",
      "743/743 [==============================] - 4s 5ms/step - loss: 1.6502 - val_loss: 1.7448\n",
      "Epoch 15/30\n",
      "743/743 [==============================] - 4s 5ms/step - loss: 1.6337 - val_loss: 1.8637\n",
      "Epoch 16/30\n",
      "743/743 [==============================] - 4s 5ms/step - loss: 1.6229 - val_loss: 1.6060\n",
      "Epoch 17/30\n",
      "743/743 [==============================] - 4s 5ms/step - loss: 1.5986 - val_loss: 1.6400\n",
      "Epoch 18/30\n",
      "743/743 [==============================] - 4s 5ms/step - loss: 1.5804 - val_loss: 1.5925\n",
      "Epoch 19/30\n",
      "743/743 [==============================] - 4s 5ms/step - loss: 1.5734 - val_loss: 1.6110\n",
      "Epoch 20/30\n",
      "743/743 [==============================] - 4s 5ms/step - loss: 1.5432 - val_loss: 1.5954\n",
      "Epoch 21/30\n",
      "743/743 [==============================] - 4s 5ms/step - loss: 1.4778 - val_loss: 1.5099\n",
      "Epoch 22/30\n",
      "743/743 [==============================] - 4s 5ms/step - loss: 1.4582 - val_loss: 1.5571\n",
      "Epoch 23/30\n",
      "743/743 [==============================] - 4s 5ms/step - loss: 1.4447 - val_loss: 1.5385\n",
      "Epoch 24/30\n",
      "743/743 [==============================] - 4s 6ms/step - loss: 1.4287 - val_loss: 1.4926\n",
      "Epoch 25/30\n",
      "743/743 [==============================] - 4s 6ms/step - loss: 1.4165 - val_loss: 1.5430\n",
      "Epoch 26/30\n",
      "743/743 [==============================] - 4s 5ms/step - loss: 1.3697 - val_loss: 1.4553\n",
      "Epoch 27/30\n",
      "743/743 [==============================] - 4s 6ms/step - loss: 1.3567 - val_loss: 1.4427\n",
      "Epoch 28/30\n",
      "743/743 [==============================] - 4s 5ms/step - loss: 1.3510 - val_loss: 1.4548\n",
      "Epoch 29/30\n",
      "743/743 [==============================] - 4s 5ms/step - loss: 1.3540 - val_loss: 1.4384\n",
      "Epoch 30/30\n",
      "743/743 [==============================] - 4s 5ms/step - loss: 1.3390 - val_loss: 1.4342\n"
     ]
    }
   ],
   "source": [
    "model = Net1() # 50 input data (looking at differences in measurememnt between each point) \n",
    "# model = Net2() # 100 input network (looking at full data)\n",
    "\n",
    "runLen = 30    \n",
    "BS = 128 #256 #works well\n",
    "\n",
    "def scheduler(epoch, lr):\n",
    "    part1 = 2*runLen//3\n",
    "    part2 = 5*runLen//6\n",
    "\n",
    "#     part1 = runLen//3\n",
    "#     part2 = 2*runLen//3\n",
    "\n",
    "    if epoch < part1:\n",
    "        lr = 0.01\n",
    "        return lr\n",
    "    if epoch >= part1 and epoch < part2:\n",
    "        lr = 0.005\n",
    "        return lr\n",
    "    if epoch >= part2:\n",
    "        lr = 0.001\n",
    "        return lr\n",
    "\n",
    "#TODO: figure out how to implement sample weight\n",
    "# L = tf.keras.losses.MeanAbsoluteError()\n",
    "# sample_weight = [0.3,0.3,0.4]\n",
    "    \n",
    "model.compile(\n",
    "    optimizer=tf.keras.optimizers.Adam(lr=0.001),\n",
    "#     loss=tf.keras.losses.MeanSquaredError(),\n",
    "    loss=tf.keras.losses.MeanAbsoluteError(),\n",
    "#     loss = tf.keras.losses.MeanAbsolutePercentageError(),\n",
    ")\n",
    "\n",
    "summary = model.summary()\n",
    "print(summary)\n",
    "\n",
    "callback = tf.keras.callbacks.LearningRateScheduler(scheduler)\n",
    "\n",
    "trace = model.fit(x=x_train, y=y_train, batch_size=BS, epochs=runLen, verbose=1, \n",
    "                  validation_split=0.05, callbacks = [callback], shuffle=True)\n"
   ]
  },
  {
   "cell_type": "code",
   "execution_count": 8,
   "id": "e0782c37",
   "metadata": {},
   "outputs": [],
   "source": [
    "model = tf.keras.models.load_model('dead_reckoning_1pt22_mse.kmod')"
   ]
  },
  {
   "cell_type": "code",
   "execution_count": 9,
   "id": "completed-ordinance",
   "metadata": {},
   "outputs": [
    {
     "data": {
      "text/plain": [
       "Text(0, 0.5, 'loss')"
      ]
     },
     "execution_count": 9,
     "metadata": {},
     "output_type": "execute_result"
    },
    {
     "data": {
      "image/png": "[encoded data removed]",
      "text/plain": [
       "<Figure size 720x576 with 1 Axes>"
      ]
     },
     "metadata": {
      "needs_background": "light"
     },
     "output_type": "display_data"
    }
   ],
   "source": [
    "plt.subplot(2, 1, 1)\n",
    "plt.plot(trace.history['loss'], '-')\n",
    "plt.plot(trace.history['val_loss'], '-')\n",
    "plt.legend(['train', 'val'], loc='upper left')\n",
    "plt.xlabel('iteration')\n",
    "plt.ylabel('loss')"
   ]
  },
  {
   "cell_type": "code",
   "execution_count": 10,
   "id": "racial-kelly",
   "metadata": {},
   "outputs": [
    {
     "name": "stdout",
     "output_type": "stream",
     "text": [
      "tf.Tensor([ 3.11196867 -5.54958664 -0.07489633], shape=(3,), dtype=float64)\n",
      "[ 2.793902  -5.443067  -0.1253431]\n"
     ]
    }
   ],
   "source": [
    "r = int(np.random.rand()*100)\n",
    "print(y_train[r])\n",
    "out = model.predict(x_train[:100])\n",
    "print(out[r])"
   ]
  },
  {
   "cell_type": "code",
   "execution_count": 11,
   "id": "operating-oklahoma",
   "metadata": {},
   "outputs": [
    {
     "name": "stdout",
     "output_type": "stream",
     "text": [
      "tf.Tensor([-1.03825531 -1.18696428 -0.27855577], shape=(3,), dtype=float64)\n",
      "[-0.66899127 -0.72045064 -0.2537779 ]\n"
     ]
    }
   ],
   "source": [
    "test_file = \"data/test_dxdy.npy\"\n",
    "test_dataset = np.load(test_file)\n",
    "rand = int(np.shape(test_dataset)[0]*np.random.rand())\n",
    "\n",
    "#test for standard case\n",
    "# x_test = test_dataset[:,:100]\n",
    "# x_test = tf.convert_to_tensor(x_test)\n",
    "\n",
    "#test when looking at displacement between two measurements\n",
    "x_temp2 = tf.convert_to_tensor(test_dataset[:,:100])\n",
    "x_test = np.zeros([np.shape(test_dataset)[0], 50])\n",
    "x_test[:,:50] = x_temp2[:,:50] - x_temp2[:,50:100]\n",
    "\n",
    "y_test = test_dataset[:,100:]\n",
    "y_test = tf.convert_to_tensor(y_test)\n",
    "# print(y_test[rand])\n",
    "print(y_train[rand])\n",
    "\n",
    "# guess = model.predict(x_test)\n",
    "guess = model.predict(x_train)\n",
    "print(guess[rand])"
   ]
  },
  {
   "cell_type": "code",
   "execution_count": null,
   "id": "million-actor",
   "metadata": {},
   "outputs": [],
   "source": [
    "# model.save(\"dead_reckoning_1pt22_mse.kmod\") #got this with 50 input model"
   ]
  },
  {
   "cell_type": "markdown",
   "id": "yellow-commissioner",
   "metadata": {},
   "source": [
    "Results:\n",
    "\n",
    "Best MSE with 100k dataset: 1.36\n",
    "\n",
    "Best MSE with 300k dataset: 1.22"
   ]
  },
  {
   "cell_type": "markdown",
   "id": "disturbed-driving",
   "metadata": {},
   "source": [
    "# Normal Distribution Transform (NDT)"
   ]
  },
  {
   "cell_type": "markdown",
   "id": "catholic-spring",
   "metadata": {},
   "source": [
    "Step 2: generate a normal distribution for each subset of points"
   ]
  },
  {
   "cell_type": "code",
   "execution_count": 12,
   "id": "developed-picnic",
   "metadata": {},
   "outputs": [
    {
     "name": "stdout",
     "output_type": "stream",
     "text": [
      "mu =  [ 0.23899221 -0.62200275]\n",
      "sigma =  [[ 1.07276725 -0.62068128]\n",
      " [-0.62068128  1.14169201]]\n",
      "eigenval =  [0.48559235 1.72886691]\n",
      "eigenvec =  [[-0.72644273  0.68722701]\n",
      " [-0.68722701 -0.72644273]]\n"
     ]
    }
   ],
   "source": [
    "from NDT import fit_gaussian\n",
    "\n",
    "numpts = 10\n",
    "points = np.random.randn(numpts, 2)\n",
    "\n",
    "#adds order to points\n",
    "# points[:,0] += np.linspace(1,10,numpts)\n",
    "# points[:,1] += np.linspace(0,2,numpts)\n",
    " \n",
    "mu, sigma = fit_gaussian(points)\n",
    "print(\"mu = \", mu)\n",
    "print(\"sigma = \", sigma)\n",
    "\n",
    "eig = np.linalg.eig(sigma)\n",
    "eigenval = eig[0]\n",
    "eigenvec = eig[1]\n",
    "\n",
    "print(\"eigenval = \", eigenval)\n",
    "print(\"eigenvec = \", eigenvec)\n"
   ]
  },
  {
   "cell_type": "code",
   "execution_count": 13,
   "id": "balanced-generic",
   "metadata": {
    "scrolled": false
   },
   "outputs": [
    {
     "data": {
      "text/plain": [
       "<matplotlib.patches.Ellipse at 0x29dec1455c8>"
      ]
     },
     "execution_count": 13,
     "metadata": {},
     "output_type": "execute_result"
    },
    {
     "data": {
      "image/png": "[encoded data removed]",
      "text/plain": [
       "<Figure size 720x576 with 1 Axes>"
      ]
     },
     "metadata": {
      "needs_background": "light"
     },
     "output_type": "display_data"
    }
   ],
   "source": [
    "#draw ellipse around 1std to prove fit_guassian works\n",
    "from matplotlib.patches import Ellipse\n",
    "\n",
    "nstd = 2\n",
    "\n",
    "fig2 = plt.figure(1)\n",
    "ax2 = fig2.add_subplot()\n",
    "\n",
    "patches = []\n",
    "\n",
    "ax2.set_xlim(-15,15)\n",
    "ax2.set_ylim(-15,15)\n",
    "ax2.scatter(points[:,0], points[:,1])\n",
    "\n",
    "rot = -np.rad2deg(np.arcsin(eigenvec[0,1]/eigenvec[0,0]))\n",
    "width = 2*nstd*np.sqrt(eigenval[0])\n",
    "height = 2*nstd*np.sqrt(eigenval[1])\n",
    "\n",
    "ell = Ellipse((mu[0],mu[1]),width, height, angle = rot, fill = False)\n",
    "ax2.add_patch(ell)\n"
   ]
  },
  {
   "cell_type": "markdown",
   "id": "comprehensive-crack",
   "metadata": {},
   "source": [
    "Step 1: Subdivide scan into grid cells:"
   ]
  },
  {
   "cell_type": "code",
   "execution_count": 14,
   "id": "excited-evidence",
   "metadata": {},
   "outputs": [
    {
     "data": {
      "image/png": "[encoded data removed]",
      "text/plain": [
       "<Figure size 720x576 with 1 Axes>"
      ]
     },
     "metadata": {
      "needs_background": "light"
     },
     "output_type": "display_data"
    }
   ],
   "source": [
    "from NDT import draw_scan, subdivide_scan\n",
    "\n",
    "fig3 = plt.figure(1)\n",
    "ax3 = fig3.add_subplot()\n",
    "ax3.set_aspect('equal')\n",
    "rand2 = int(np.random.rand()*50) #82 is a simple corner, 2 is a doorway\n",
    "# print(rand2)\n",
    "\n",
    "# dat = dataset[:,:50] #regular data\n",
    "dat = np.load(\"data/noisy_dxdy_100.npy\")  #noisy data\n",
    "dat1 = dat[:,:50]\n",
    "dat2 = dat[:,50:100]\n",
    "\n",
    "rand2 = 20\n",
    "\n",
    "#get point positions and draw lidar scan\n",
    "pp1 = draw_scan(dat1[rand2],fig3,ax3, pt = 0) \n",
    "pp2 = draw_scan(dat2[rand2],fig3,ax3, pt = 1) \n",
    "\n",
    "f = 6 #overall region of scan is broken down into a 5x5 scan\n",
    "E1 = subdivide_scan(pp1,fig3,ax3, fidelity = f, pt =0)\n",
    "E2 = subdivide_scan(pp2,fig3,ax3, fidelity = f, pt =1)\n",
    "\n",
    "# green = before\n",
    "# blue = after"
   ]
  },
  {
   "cell_type": "code",
   "execution_count": null,
   "id": "polyphonic-report",
   "metadata": {},
   "outputs": [],
   "source": [
    "E1[0]"
   ]
  },
  {
   "cell_type": "code",
   "execution_count": null,
   "id": "mineral-ending",
   "metadata": {},
   "outputs": [],
   "source": []
  },
  {
   "cell_type": "code",
   "execution_count": null,
   "id": "periodic-bronze",
   "metadata": {},
   "outputs": [],
   "source": []
  }
 ],
 "metadata": {
  "kernelspec": {
   "display_name": "Python 3",
   "language": "python",
   "name": "python3"
  },
  "language_info": {
   "codemirror_mode": {
    "name": "ipython",
    "version": 3
   },
   "file_extension": ".py",
   "mimetype": "text/x-python",
   "name": "python",
   "nbconvert_exporter": "python",
   "pygments_lexer": "ipython3",
   "version": "3.7.10"
  }
 },
 "nbformat": 4,
 "nbformat_minor": 5
}
