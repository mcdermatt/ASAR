{
 "cells": [
  {
   "cell_type": "code",
   "execution_count": null,
   "id": "current-lancaster",
   "metadata": {},
   "outputs": [],
   "source": [
    "%matplotlib notebook\n",
    "import cv2\n",
    "import numpy as np\n",
    "from matplotlib import pyplot as plt\n",
    "from ipywidgets import IntSlider\n",
    "import time\n",
    "\n",
    "from player import Player\n",
    "\n",
    "\n",
    "%load_ext autoreload\n",
    "%autoreload 2\n",
    "%autosave 180"
   ]
  },
  {
   "cell_type": "code",
   "execution_count": null,
   "id": "urban-joseph",
   "metadata": {},
   "outputs": [],
   "source": [
    "FOV = IntSlider()\n",
    "FOV"
   ]
  },
  {
   "cell_type": "code",
   "execution_count": null,
   "id": "atomic-virginia",
   "metadata": {},
   "outputs": [],
   "source": [
    "print(FOV.value)"
   ]
  },
  {
   "cell_type": "code",
   "execution_count": null,
   "id": "multiple-greece",
   "metadata": {
    "scrolled": false
   },
   "outputs": [],
   "source": [
    "fig = plt.figure(0)\n",
    "ax = fig.add_subplot()\n",
    "ax.set_xlim(0,800)\n",
    "ax.set_ylim(800,0)\n",
    "\n",
    "plt.ion()\n",
    "fig.show()\n",
    "fig.canvas.draw()\n",
    "\n",
    "img = cv2.imread('assets/map1.png')\n",
    "\n",
    "scale_percent = 100 # percent of original size\n",
    "width = int(img.shape[1] * scale_percent / 100)\n",
    "height = int(img.shape[0] * scale_percent / 100)\n",
    "dim = (width, height)\n",
    "# resize image\n",
    "img = cv2.resize(img, dim, interpolation = cv2.INTER_AREA)\n",
    "ax.imshow(img, cmap = 'gray', interpolation = 'bicubic')"
   ]
  },
  {
   "cell_type": "code",
   "execution_count": null,
   "id": "collected-individual",
   "metadata": {},
   "outputs": [],
   "source": [
    "#test to dynamically update map\n",
    "runLen = 50\n",
    "step = 0\n",
    "while step < runLen:\n",
    "    \n",
    "    enemy, = ax.plot(step*10,step*10,'r.')\n",
    "    plt.pause(0.01)\n",
    "    fig.canvas.draw()\n",
    "    enemy.remove()\n",
    "    \n",
    "    step +=1 \n",
    "    "
   ]
  },
  {
   "cell_type": "code",
   "execution_count": null,
   "id": "secure-generation",
   "metadata": {},
   "outputs": [],
   "source": [
    "p = Player(fig, ax, img, FOV = 45)\n",
    "p.pos = np.array([int(800*np.random.rand()),int(800*np.random.rand())])"
   ]
  },
  {
   "cell_type": "code",
   "execution_count": null,
   "id": "southeast-queens",
   "metadata": {},
   "outputs": [],
   "source": [
    "p.draw()"
   ]
  },
  {
   "cell_type": "code",
   "execution_count": null,
   "id": "multiple-mambo",
   "metadata": {},
   "outputs": [],
   "source": [
    "p.remove()"
   ]
  },
  {
   "cell_type": "code",
   "execution_count": null,
   "id": "interim-julian",
   "metadata": {},
   "outputs": [],
   "source": [
    "for i in range(100):\n",
    "    p.heading += 0.5\n",
    "    p.draw()\n",
    "    time.sleep(0.01)\n",
    "    p.remove()\n",
    "    "
   ]
  },
  {
   "cell_type": "code",
   "execution_count": null,
   "id": "tested-hungary",
   "metadata": {},
   "outputs": [],
   "source": []
  },
  {
   "cell_type": "code",
   "execution_count": null,
   "id": "sudden-synthesis",
   "metadata": {},
   "outputs": [],
   "source": []
  }
 ],
 "metadata": {
  "kernelspec": {
   "display_name": "dnn",
   "language": "python",
   "name": "dnn"
  },
  "language_info": {
   "codemirror_mode": {
    "name": "ipython",
    "version": 3
   },
   "file_extension": ".py",
   "mimetype": "text/x-python",
   "name": "python",
   "nbconvert_exporter": "python",
   "pygments_lexer": "ipython3",
   "version": "3.7.10"
  }
 },
 "nbformat": 4,
 "nbformat_minor": 5
}
