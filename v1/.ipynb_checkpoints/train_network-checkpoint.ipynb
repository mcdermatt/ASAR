{
 "cells": [
  {
   "cell_type": "markdown",
   "id": "positive-praise",
   "metadata": {},
   "source": [
    "# Neural Network for Lidar Odometry"
   ]
  },
  {
   "cell_type": "code",
   "execution_count": 1,
   "id": "former-services",
   "metadata": {},
   "outputs": [
    {
     "data": {
      "application/javascript": [
       "IPython.notebook.set_autosave_interval(180000)"
      ]
     },
     "metadata": {},
     "output_type": "display_data"
    },
    {
     "name": "stdout",
     "output_type": "stream",
     "text": [
      "Autosaving every 180 seconds\n"
     ]
    }
   ],
   "source": [
    "#setup\n",
    "import numpy as np\n",
    "import tensorflow as tf\n",
    "import matplotlib.pyplot as plt\n",
    "import scipy.io as sio\n",
    "\n",
    "#need to have these two lines to work on my ancient 1060 3gb\n",
    "#  https://stackoverflow.com/questions/43990046/tensorflow-blas-gemm-launch-failed\n",
    "physical_devices = tf.config.list_physical_devices('GPU') \n",
    "tf.config.experimental.set_memory_growth(physical_devices[0], True)\n",
    "\n",
    "%matplotlib inline\n",
    "plt.rcParams['figure.figsize'] = (10.0, 8.0) # set default size of plots\n",
    "plt.rcParams['image.interpolation'] = 'nearest'\n",
    "plt.rcParams['image.cmap'] = 'gray'\n",
    "\n",
    "# for auto-reloading external modules\n",
    "%load_ext autoreload\n",
    "%autoreload 2\n",
    "%autosave 180"
   ]
  },
  {
   "cell_type": "code",
   "execution_count": 2,
   "id": "considerable-intensity",
   "metadata": {},
   "outputs": [],
   "source": [
    "# file = \"data/train_10k.npy\" #has noise in readings\n",
    "# file = \"data/train_100k.npy\" #no noise\n",
    "# file = \"data/train_straight_1k.npy\" #no noise, no lateral movement relative to initial heading\n",
    "file = \"data/train_dxdy_300k.npy\" #no noise, displacement in x and y relative to starting orientation\n",
    "\n",
    "dataset = np.load(file)"
   ]
  },
  {
   "cell_type": "code",
   "execution_count": 3,
   "id": "growing-retreat",
   "metadata": {},
   "outputs": [],
   "source": [
    "#combine 100k and 200k datasets\n",
    "# ds2 = np.load(\"data/train_dxdy_100k.npy\")\n",
    "# dataset = np.append(dataset, ds2, axis =0)\n",
    "# np.save(\"data/train_dxdy_300k.npy\", dataset)"
   ]
  },
  {
   "cell_type": "code",
   "execution_count": 4,
   "id": "modular-edition",
   "metadata": {},
   "outputs": [
    {
     "data": {
      "text/plain": [
       "(300000, 103)"
      ]
     },
     "execution_count": 4,
     "metadata": {},
     "output_type": "execute_result"
    }
   ],
   "source": [
    "dataset[0,100:]\n",
    "np.shape(dataset)"
   ]
  },
  {
   "cell_type": "code",
   "execution_count": 45,
   "id": "pleasant-vatican",
   "metadata": {},
   "outputs": [
    {
     "data": {
      "text/plain": [
       "array([ 1.25000000e+02,  1.25000000e+02,  1.34000000e+02,  1.43000000e+02,\n",
       "        1.55000000e+02,  1.68000000e+02,  1.84000000e+02,  2.03000000e+02,\n",
       "        2.26000000e+02,  2.54000000e+02,  2.53000000e+02,  2.52000000e+02,\n",
       "        2.52000000e+02,  2.51000000e+02,  2.51000000e+02,  2.51000000e+02,\n",
       "        2.51000000e+02,  2.51000000e+02,  2.51000000e+02,  2.51000000e+02,\n",
       "        2.51000000e+02,  2.52000000e+02,  2.52000000e+02,  2.53000000e+02,\n",
       "        2.54000000e+02,  2.55000000e+02,  2.56000000e+02,  2.57000000e+02,\n",
       "        2.58000000e+02,  2.42000000e+02,  2.25000000e+02,  2.10000000e+02,\n",
       "        1.97000000e+02,  1.85000000e+02,  1.75000000e+02,  1.69000000e+02,\n",
       "        1.71000000e+02,  1.72000000e+02,  1.74000000e+02,  1.76000000e+02,\n",
       "        2.84000000e+02,  2.88000000e+02,  2.91000000e+02,  2.95000000e+02,\n",
       "        2.99000000e+02,  3.03000000e+02,  3.08000000e+02,  3.12000000e+02,\n",
       "        3.17000000e+02,  3.23000000e+02,  1.68000000e+02,  1.68000000e+02,\n",
       "        1.83000000e+02,  2.01000000e+02,  2.23000000e+02,  2.51000000e+02,\n",
       "        2.60000000e+02,  2.60000000e+02,  2.59000000e+02,  2.58000000e+02,\n",
       "        2.58000000e+02,  2.58000000e+02,  2.58000000e+02,  2.58000000e+02,\n",
       "        2.58000000e+02,  2.58000000e+02,  2.58000000e+02,  2.58000000e+02,\n",
       "        2.59000000e+02,  2.60000000e+02,  2.60000000e+02,  2.61000000e+02,\n",
       "        2.62000000e+02,  2.63000000e+02,  2.64000000e+02,  2.45000000e+02,\n",
       "        2.27000000e+02,  2.11000000e+02,  1.97000000e+02,  1.85000000e+02,\n",
       "        1.75000000e+02,  1.76000000e+02,  1.77000000e+02,  1.79000000e+02,\n",
       "        1.81000000e+02,  2.87000000e+02,  2.91000000e+02,  2.94000000e+02,\n",
       "        2.97000000e+02,  3.01000000e+02,  3.05000000e+02,  3.09000000e+02,\n",
       "        3.14000000e+02,  9.80000000e+01,  9.50000000e+01,  9.30000000e+01,\n",
       "        9.10000000e+01,  8.80000000e+01,  8.60000000e+01,  8.40000000e+01,\n",
       "       -5.44516895e+00, -4.14846752e+00, -7.21812703e-02])"
      ]
     },
     "execution_count": 45,
     "metadata": {},
     "output_type": "execute_result"
    }
   ],
   "source": [
    "dataset[100,:]"
   ]
  },
  {
   "cell_type": "code",
   "execution_count": 5,
   "id": "numerous-membership",
   "metadata": {},
   "outputs": [
    {
     "name": "stdout",
     "output_type": "stream",
     "text": [
      "(300000, 50)\n"
     ]
    }
   ],
   "source": [
    "from network import Net1, Net2\n",
    "\n",
    "np.random.seed(1337)\n",
    "\n",
    "#convert data from numpy to tensors\n",
    "# x_train = tf.convert_to_tensor(dataset[:,:100])\n",
    "\n",
    "#alternate dataset where we are just looking at the changes in measurement from the first sample to the 2nd\n",
    "x_temp = tf.convert_to_tensor(dataset[:,:100])\n",
    "x_train = np.zeros([np.shape(dataset)[0], 50])\n",
    "x_train[:,:50] = x_temp[:,:50] - x_temp[:,50:100]\n",
    "\n",
    "print(np.shape(x_train))\n",
    "\n",
    "y_train = tf.convert_to_tensor(dataset[:,100:])"
   ]
  },
  {
   "cell_type": "code",
   "execution_count": 19,
   "id": "million-watts",
   "metadata": {},
   "outputs": [
    {
     "name": "stdout",
     "output_type": "stream",
     "text": [
      "Model: \"functional_5\"\n",
      "_________________________________________________________________\n",
      "Layer (type)                 Output Shape              Param #   \n",
      "=================================================================\n",
      "input_3 (InputLayer)         [(None, 50, 1)]           0         \n",
      "_________________________________________________________________\n",
      "batch_normalization_8 (Batch (None, 50, 1)             4         \n",
      "_________________________________________________________________\n",
      "conv1d_4 (Conv1D)            (None, 46, 128)           768       \n",
      "_________________________________________________________________\n",
      "batch_normalization_9 (Batch (None, 46, 128)           512       \n",
      "_________________________________________________________________\n",
      "conv1d_5 (Conv1D)            (None, 44, 128)           49280     \n",
      "_________________________________________________________________\n",
      "flatten_2 (Flatten)          (None, 5632)              0         \n",
      "_________________________________________________________________\n",
      "dense_6 (Dense)              (None, 256)               1442048   \n",
      "_________________________________________________________________\n",
      "batch_normalization_10 (Batc (None, 256)               1024      \n",
      "_________________________________________________________________\n",
      "dense_7 (Dense)              (None, 128)               32896     \n",
      "_________________________________________________________________\n",
      "batch_normalization_11 (Batc (None, 128)               512       \n",
      "_________________________________________________________________\n",
      "dense_8 (Dense)              (None, 3)                 387       \n",
      "_________________________________________________________________\n",
      "tf_op_layer_Mul_2 (TensorFlo [(None, 3)]               0         \n",
      "=================================================================\n",
      "Total params: 1,527,431\n",
      "Trainable params: 1,526,405\n",
      "Non-trainable params: 1,026\n",
      "_________________________________________________________________\n",
      "None\n",
      "Epoch 1/100\n",
      "8907/8907 [==============================] - 29s 3ms/step - loss: 1.9898 - val_loss: 2.3965\n",
      "Epoch 2/100\n",
      "8907/8907 [==============================] - 29s 3ms/step - loss: 1.9213 - val_loss: 1.9042\n",
      "Epoch 3/100\n",
      "8907/8907 [==============================] - 29s 3ms/step - loss: 1.8830 - val_loss: 1.8225\n",
      "Epoch 4/100\n",
      "8907/8907 [==============================] - 29s 3ms/step - loss: 1.8361 - val_loss: 1.8416\n",
      "Epoch 5/100\n",
      "8907/8907 [==============================] - 29s 3ms/step - loss: 1.8051 - val_loss: 1.8834\n",
      "Epoch 6/100\n",
      "8907/8907 [==============================] - 29s 3ms/step - loss: 1.7975 - val_loss: 1.7380\n",
      "Epoch 7/100\n",
      "8907/8907 [==============================] - 29s 3ms/step - loss: 1.7607 - val_loss: 1.8625\n",
      "Epoch 8/100\n",
      "8907/8907 [==============================] - 29s 3ms/step - loss: 1.7360 - val_loss: 1.8481\n",
      "Epoch 9/100\n",
      "8907/8907 [==============================] - 29s 3ms/step - loss: 1.7145 - val_loss: 1.6800\n",
      "Epoch 10/100\n",
      "8907/8907 [==============================] - 29s 3ms/step - loss: 1.6828 - val_loss: 1.8693\n",
      "Epoch 11/100\n",
      "8907/8907 [==============================] - 29s 3ms/step - loss: 1.6495 - val_loss: 1.5803\n",
      "Epoch 12/100\n",
      "8907/8907 [==============================] - 29s 3ms/step - loss: 1.6269 - val_loss: 2.0522\n",
      "Epoch 13/100\n",
      "8907/8907 [==============================] - 29s 3ms/step - loss: 1.6649 - val_loss: 1.5360\n",
      "Epoch 14/100\n",
      "8907/8907 [==============================] - 29s 3ms/step - loss: 1.5849 - val_loss: 1.5364\n",
      "Epoch 15/100\n",
      "8907/8907 [==============================] - 30s 3ms/step - loss: 1.5681 - val_loss: 1.5105\n",
      "Epoch 16/100\n",
      "8907/8907 [==============================] - 30s 3ms/step - loss: 1.5474 - val_loss: 1.6019\n",
      "Epoch 17/100\n",
      "8907/8907 [==============================] - 29s 3ms/step - loss: 1.5293 - val_loss: 1.4578\n",
      "Epoch 18/100\n",
      "8907/8907 [==============================] - 29s 3ms/step - loss: 1.5123 - val_loss: 1.4327\n",
      "Epoch 19/100\n",
      "8907/8907 [==============================] - 29s 3ms/step - loss: 1.6165 - val_loss: 1.6077\n",
      "Epoch 20/100\n",
      "8907/8907 [==============================] - 29s 3ms/step - loss: 1.5872 - val_loss: 1.4573\n",
      "Epoch 21/100\n",
      "8907/8907 [==============================] - 29s 3ms/step - loss: 1.5058 - val_loss: 1.8925\n",
      "Epoch 22/100\n",
      "8907/8907 [==============================] - 29s 3ms/step - loss: 1.4833 - val_loss: 1.5305\n",
      "Epoch 23/100\n",
      "8907/8907 [==============================] - 29s 3ms/step - loss: 1.4749 - val_loss: 1.4111\n",
      "Epoch 24/100\n",
      "8907/8907 [==============================] - 29s 3ms/step - loss: 1.4715 - val_loss: 1.4810\n",
      "Epoch 25/100\n",
      "8907/8907 [==============================] - 29s 3ms/step - loss: 1.4723 - val_loss: 1.4324\n",
      "Epoch 26/100\n",
      "8907/8907 [==============================] - 29s 3ms/step - loss: 1.4868 - val_loss: 1.5396\n",
      "Epoch 27/100\n",
      "8907/8907 [==============================] - 29s 3ms/step - loss: 1.4618 - val_loss: 1.5854\n",
      "Epoch 28/100\n",
      "8907/8907 [==============================] - 30s 3ms/step - loss: 1.4463 - val_loss: 1.5020\n",
      "Epoch 29/100\n",
      "8907/8907 [==============================] - 29s 3ms/step - loss: 1.4359 - val_loss: 1.4153\n",
      "Epoch 30/100\n",
      "8907/8907 [==============================] - 29s 3ms/step - loss: 1.4335 - val_loss: 1.4382\n",
      "Epoch 31/100\n",
      "8907/8907 [==============================] - 29s 3ms/step - loss: 1.4250 - val_loss: 1.4197\n",
      "Epoch 32/100\n",
      "8907/8907 [==============================] - 29s 3ms/step - loss: 1.4165 - val_loss: 1.3998\n",
      "Epoch 33/100\n",
      "8907/8907 [==============================] - 29s 3ms/step - loss: 1.4130 - val_loss: 1.4104\n",
      "Epoch 34/100\n",
      "8907/8907 [==============================] - 29s 3ms/step - loss: 1.4098 - val_loss: 1.3731\n",
      "Epoch 35/100\n",
      "8907/8907 [==============================] - 29s 3ms/step - loss: 1.4066 - val_loss: 1.4352\n",
      "Epoch 36/100\n",
      "8907/8907 [==============================] - 29s 3ms/step - loss: 1.3970 - val_loss: 1.4211\n",
      "Epoch 37/100\n",
      "8907/8907 [==============================] - 29s 3ms/step - loss: 1.3948 - val_loss: 1.4031\n",
      "Epoch 38/100\n",
      "8907/8907 [==============================] - 29s 3ms/step - loss: 1.3924 - val_loss: 1.3544\n",
      "Epoch 39/100\n",
      "8907/8907 [==============================] - 29s 3ms/step - loss: 1.3890 - val_loss: 1.3622\n",
      "Epoch 40/100\n",
      "8907/8907 [==============================] - 29s 3ms/step - loss: 1.3829 - val_loss: 1.3688\n",
      "Epoch 41/100\n",
      "8907/8907 [==============================] - 29s 3ms/step - loss: 1.3782 - val_loss: 1.4591\n",
      "Epoch 42/100\n",
      "8907/8907 [==============================] - 29s 3ms/step - loss: 1.3803 - val_loss: 1.4520\n",
      "Epoch 43/100\n",
      "8907/8907 [==============================] - 29s 3ms/step - loss: 1.3738 - val_loss: 1.4585\n",
      "Epoch 44/100\n",
      "8907/8907 [==============================] - 29s 3ms/step - loss: 1.3706 - val_loss: 1.3655\n",
      "Epoch 45/100\n",
      "8907/8907 [==============================] - 29s 3ms/step - loss: 1.3667 - val_loss: 1.3465\n",
      "Epoch 46/100\n",
      "8907/8907 [==============================] - 29s 3ms/step - loss: 1.3632 - val_loss: 1.4405\n",
      "Epoch 47/100\n",
      "8907/8907 [==============================] - 29s 3ms/step - loss: 1.3610 - val_loss: 1.4279\n",
      "Epoch 48/100\n",
      "8907/8907 [==============================] - 29s 3ms/step - loss: 1.3602 - val_loss: 1.3283\n",
      "Epoch 49/100\n",
      "8907/8907 [==============================] - 29s 3ms/step - loss: 1.3553 - val_loss: 1.3808\n",
      "Epoch 50/100\n",
      "8907/8907 [==============================] - 29s 3ms/step - loss: 1.3523 - val_loss: 1.3893\n",
      "Epoch 51/100\n",
      "8907/8907 [==============================] - 29s 3ms/step - loss: 1.3627 - val_loss: 1.3254\n",
      "Epoch 52/100\n",
      "8907/8907 [==============================] - 29s 3ms/step - loss: 1.3650 - val_loss: 1.4325\n",
      "Epoch 53/100\n",
      "8907/8907 [==============================] - 29s 3ms/step - loss: 1.3549 - val_loss: 1.4011\n",
      "Epoch 54/100\n",
      "8907/8907 [==============================] - 29s 3ms/step - loss: 1.3463 - val_loss: 1.3189\n",
      "Epoch 55/100\n",
      "8907/8907 [==============================] - 29s 3ms/step - loss: 1.3385 - val_loss: 1.3602\n",
      "Epoch 56/100\n",
      "8907/8907 [==============================] - 29s 3ms/step - loss: 1.3370 - val_loss: 1.4591\n",
      "Epoch 57/100\n",
      "8907/8907 [==============================] - 29s 3ms/step - loss: 1.3367 - val_loss: 1.3827\n",
      "Epoch 58/100\n",
      "8907/8907 [==============================] - 29s 3ms/step - loss: 1.3344 - val_loss: 1.3640\n",
      "Epoch 59/100\n",
      "8907/8907 [==============================] - 29s 3ms/step - loss: 1.3339 - val_loss: 1.3454\n",
      "Epoch 60/100\n"
     ]
    },
    {
     "name": "stdout",
     "output_type": "stream",
     "text": [
      "8907/8907 [==============================] - 29s 3ms/step - loss: 1.3285 - val_loss: 1.4042\n",
      "Epoch 61/100\n",
      "8907/8907 [==============================] - 29s 3ms/step - loss: 1.3322 - val_loss: 1.9675\n",
      "Epoch 62/100\n",
      "8907/8907 [==============================] - 29s 3ms/step - loss: 1.3270 - val_loss: 1.5644\n",
      "Epoch 63/100\n",
      "8907/8907 [==============================] - 29s 3ms/step - loss: 1.3211 - val_loss: 1.3268\n",
      "Epoch 64/100\n",
      "8907/8907 [==============================] - 29s 3ms/step - loss: 1.3231 - val_loss: 1.4763\n",
      "Epoch 65/100\n",
      "8907/8907 [==============================] - 29s 3ms/step - loss: 1.3187 - val_loss: 1.4575\n",
      "Epoch 66/100\n",
      "8907/8907 [==============================] - 29s 3ms/step - loss: 1.3227 - val_loss: 1.3002\n",
      "Epoch 67/100\n",
      "8907/8907 [==============================] - 29s 3ms/step - loss: 1.2787 - val_loss: 1.2702\n",
      "Epoch 68/100\n",
      "8907/8907 [==============================] - 29s 3ms/step - loss: 1.2720 - val_loss: 1.3438\n",
      "Epoch 69/100\n",
      "8907/8907 [==============================] - 29s 3ms/step - loss: 1.2685 - val_loss: 1.2782\n",
      "Epoch 70/100\n",
      "8907/8907 [==============================] - 29s 3ms/step - loss: 1.2663 - val_loss: 1.2885\n",
      "Epoch 71/100\n",
      "8907/8907 [==============================] - 29s 3ms/step - loss: 1.2653 - val_loss: 1.3117\n",
      "Epoch 72/100\n",
      "8907/8907 [==============================] - 29s 3ms/step - loss: 1.2610 - val_loss: 1.2799\n",
      "Epoch 73/100\n",
      "8907/8907 [==============================] - 29s 3ms/step - loss: 1.2595 - val_loss: 1.2829\n",
      "Epoch 74/100\n",
      "8907/8907 [==============================] - 29s 3ms/step - loss: 1.2589 - val_loss: 1.3035\n",
      "Epoch 75/100\n",
      "8907/8907 [==============================] - 29s 3ms/step - loss: 1.2568 - val_loss: 1.2841\n",
      "Epoch 76/100\n",
      "8907/8907 [==============================] - 29s 3ms/step - loss: 1.2542 - val_loss: 1.3249\n",
      "Epoch 77/100\n",
      "8907/8907 [==============================] - 29s 3ms/step - loss: 1.2689 - val_loss: 1.2961\n",
      "Epoch 78/100\n",
      "8907/8907 [==============================] - 29s 3ms/step - loss: 1.2548 - val_loss: 1.3660\n",
      "Epoch 79/100\n",
      "8907/8907 [==============================] - 29s 3ms/step - loss: 1.2529 - val_loss: 1.2851\n",
      "Epoch 80/100\n",
      "8907/8907 [==============================] - 29s 3ms/step - loss: 1.2541 - val_loss: 1.4004\n",
      "Epoch 81/100\n",
      "8907/8907 [==============================] - 29s 3ms/step - loss: 1.2515 - val_loss: 1.2759\n",
      "Epoch 82/100\n",
      "8907/8907 [==============================] - 29s 3ms/step - loss: 1.2514 - val_loss: 1.3102\n",
      "Epoch 83/100\n",
      "8907/8907 [==============================] - 29s 3ms/step - loss: 1.2475 - val_loss: 1.3011\n",
      "Epoch 84/100\n",
      "8907/8907 [==============================] - 29s 3ms/step - loss: 1.2158 - val_loss: 1.2593\n",
      "Epoch 85/100\n",
      "8907/8907 [==============================] - 29s 3ms/step - loss: 1.2145 - val_loss: 1.2614\n",
      "Epoch 86/100\n",
      "8907/8907 [==============================] - 29s 3ms/step - loss: 1.2117 - val_loss: 1.2576\n",
      "Epoch 87/100\n",
      "8907/8907 [==============================] - 29s 3ms/step - loss: 1.2107 - val_loss: 1.2748\n",
      "Epoch 88/100\n",
      "8907/8907 [==============================] - 29s 3ms/step - loss: 1.2102 - val_loss: 1.2546\n",
      "Epoch 89/100\n",
      "8907/8907 [==============================] - 29s 3ms/step - loss: 1.2082 - val_loss: 1.2510\n",
      "Epoch 90/100\n",
      "8907/8907 [==============================] - 29s 3ms/step - loss: 1.2077 - val_loss: 1.2580\n",
      "Epoch 91/100\n",
      "8907/8907 [==============================] - 29s 3ms/step - loss: 1.2102 - val_loss: 1.2617\n",
      "Epoch 92/100\n",
      "8907/8907 [==============================] - 29s 3ms/step - loss: 1.2050 - val_loss: 1.2570\n",
      "Epoch 93/100\n",
      "8907/8907 [==============================] - 29s 3ms/step - loss: 1.2090 - val_loss: 1.2743\n",
      "Epoch 94/100\n",
      "8907/8907 [==============================] - 29s 3ms/step - loss: 1.2045 - val_loss: 1.2607\n",
      "Epoch 95/100\n",
      "8907/8907 [==============================] - 29s 3ms/step - loss: 1.2038 - val_loss: 1.2521\n",
      "Epoch 96/100\n",
      "8907/8907 [==============================] - 29s 3ms/step - loss: 1.2042 - val_loss: 1.2642\n",
      "Epoch 97/100\n",
      "8907/8907 [==============================] - 29s 3ms/step - loss: 1.2038 - val_loss: 1.2639\n",
      "Epoch 98/100\n",
      "8907/8907 [==============================] - 30s 3ms/step - loss: 1.2043 - val_loss: 1.2544\n",
      "Epoch 99/100\n",
      "8907/8907 [==============================] - 29s 3ms/step - loss: 1.2040 - val_loss: 1.2577\n",
      "Epoch 100/100\n",
      "8907/8907 [==============================] - 29s 3ms/step - loss: 1.2017 - val_loss: 1.2558\n"
     ]
    }
   ],
   "source": [
    "model = Net1() # 50 input data (looking at differences in measurememnt between each point) \n",
    "# model = Net2() # 100 input network (looking at full data)\n",
    "\n",
    "runLen = 100    \n",
    "BS = 32 #128 #256 #works well\n",
    "\n",
    "def scheduler(epoch, lr):\n",
    "    part1 = 2*runLen//3\n",
    "    part2 = 5*runLen//6\n",
    "\n",
    "#     part1 = runLen//3\n",
    "#     part2 = 2*runLen//3\n",
    "\n",
    "    if epoch < part1:\n",
    "        lr = 0.01\n",
    "        return lr\n",
    "    if epoch >= part1 and epoch < part2:\n",
    "        lr = 0.005\n",
    "        return lr\n",
    "    if epoch >= part2:\n",
    "        lr = 0.001\n",
    "        return lr\n",
    "\n",
    "#TODO: figure out how to implement sample weight\n",
    "# L = tf.keras.losses.MeanAbsoluteError()\n",
    "# sample_weight = [0.3,0.3,0.4]\n",
    "    \n",
    "model.compile(\n",
    "    optimizer=tf.keras.optimizers.Adam(lr=0.001),\n",
    "#     loss=tf.keras.losses.MeanSquaredError(),\n",
    "    loss=tf.keras.losses.MeanAbsoluteError(),\n",
    "#     loss = tf.keras.losses.MeanAbsolutePercentageError(),\n",
    ")\n",
    "\n",
    "summary = model.summary()\n",
    "print(summary)\n",
    "\n",
    "callback = tf.keras.callbacks.LearningRateScheduler(scheduler)\n",
    "\n",
    "trace = model.fit(x=x_train, y=y_train, batch_size=BS, epochs=runLen, verbose=1, \n",
    "                  validation_split=0.05, callbacks = [callback], shuffle=True)\n"
   ]
  },
  {
   "cell_type": "code",
   "execution_count": 32,
   "id": "completed-ordinance",
   "metadata": {},
   "outputs": [
    {
     "data": {
      "text/plain": [
       "Text(0, 0.5, 'loss')"
      ]
     },
     "execution_count": 32,
     "metadata": {},
     "output_type": "execute_result"
    },
    {
     "data": {
      "image/png": "[encoded data removed]",
      "text/plain": [
       "<Figure size 720x576 with 1 Axes>"
      ]
     },
     "metadata": {
      "needs_background": "light"
     },
     "output_type": "display_data"
    }
   ],
   "source": [
    "plt.subplot(2, 1, 1)\n",
    "plt.plot(trace.history['loss'], '-')\n",
    "plt.plot(trace.history['val_loss'], '-')\n",
    "plt.legend(['train', 'val'], loc='upper left')\n",
    "plt.xlabel('iteration')\n",
    "plt.ylabel('loss')"
   ]
  },
  {
   "cell_type": "code",
   "execution_count": 87,
   "id": "racial-kelly",
   "metadata": {},
   "outputs": [
    {
     "name": "stdout",
     "output_type": "stream",
     "text": [
      "tf.Tensor([ 6.35746061  2.87179544 -0.06358878], shape=(3,), dtype=float64)\n",
      "[ 5.540073    2.485626   -0.03683225]\n"
     ]
    }
   ],
   "source": [
    "r = int(np.random.rand()*100)\n",
    "print(y_train[r])\n",
    "# out = model.predict(x_train)\n",
    "print(out[r])"
   ]
  },
  {
   "cell_type": "code",
   "execution_count": 80,
   "id": "operating-oklahoma",
   "metadata": {},
   "outputs": [
    {
     "name": "stdout",
     "output_type": "stream",
     "text": [
      "tf.Tensor([-0.55375167 -2.85650712  0.07779664], shape=(3,), dtype=float64)\n",
      "[ 0.74294055 -2.167066    0.04748894]\n"
     ]
    }
   ],
   "source": [
    "test_file = \"data/test_dxdy.npy\"\n",
    "test_dataset = np.load(test_file)\n",
    "rand = int(np.shape(test_dataset)[0]*np.random.rand())\n",
    "\n",
    "#test for standard case\n",
    "# x_test = test_dataset[:,:100]\n",
    "# x_test = tf.convert_to_tensor(x_test)\n",
    "\n",
    "#test when looking at displacement between two measurements\n",
    "x_temp2 = tf.convert_to_tensor(test_dataset[:,:100])\n",
    "x_test = np.zeros([np.shape(test_dataset)[0], 50])\n",
    "x_test[:,:50] = x_temp2[:,:50] - x_temp2[:,50:100]\n",
    "\n",
    "y_test = test_dataset[:,100:]\n",
    "y_test = tf.convert_to_tensor(y_test)\n",
    "# print(y_test[rand])\n",
    "print(y_train[rand])\n",
    "\n",
    "# guess = model.predict(x_test)\n",
    "guess = model.predict(x_train)\n",
    "print(guess[rand])"
   ]
  },
  {
   "cell_type": "code",
   "execution_count": null,
   "id": "million-actor",
   "metadata": {},
   "outputs": [],
   "source": [
    "# model.save(\"dead_reckoning_1pt22_mse.kmod\") #got this with 50 input model"
   ]
  },
  {
   "cell_type": "markdown",
   "id": "yellow-commissioner",
   "metadata": {},
   "source": [
    "Results:\n",
    "\n",
    "Best MSE with 100k dataset: 1.36\n",
    "\n",
    "Best MSE with 300k dataset: 1.22"
   ]
  },
  {
   "cell_type": "markdown",
   "id": "disturbed-driving",
   "metadata": {},
   "source": [
    "# Normal Distribution Transform (NDT)"
   ]
  },
  {
   "cell_type": "markdown",
   "id": "catholic-spring",
   "metadata": {},
   "source": [
    "Step 2: generate a normal distribution for each subset of points"
   ]
  },
  {
   "cell_type": "code",
   "execution_count": 50,
   "id": "developed-picnic",
   "metadata": {},
   "outputs": [
    {
     "name": "stdout",
     "output_type": "stream",
     "text": [
      "mu =  [0.18090625 0.16389922]\n",
      "sigma =  [[1.11806662 0.25747504]\n",
      " [0.25747504 0.52449994]]\n",
      "eigenval =  [1.21418753 0.42837903]\n",
      "eigenvec =  [[ 0.93684522 -0.34974424]\n",
      " [ 0.34974424  0.93684522]]\n"
     ]
    }
   ],
   "source": [
    "from NDT import fit_gaussian\n",
    "\n",
    "numpts = 10\n",
    "points = np.random.randn(numpts, 2)\n",
    "\n",
    "#adds order to points\n",
    "# points[:,0] += np.linspace(1,10,numpts)\n",
    "# points[:,1] += np.linspace(0,2,numpts)\n",
    " \n",
    "mu, sigma = fit_gaussian(points)\n",
    "print(\"mu = \", mu)\n",
    "print(\"sigma = \", sigma)\n",
    "\n",
    "eig = np.linalg.eig(sigma)\n",
    "eigenval = eig[0]\n",
    "eigenvec = eig[1]\n",
    "\n",
    "print(\"eigenval = \", eigenval)\n",
    "print(\"eigenvec = \", eigenvec)\n"
   ]
  },
  {
   "cell_type": "code",
   "execution_count": 51,
   "id": "balanced-generic",
   "metadata": {
    "scrolled": false
   },
   "outputs": [
    {
     "data": {
      "text/plain": [
       "<matplotlib.patches.Ellipse at 0x24cae96adc8>"
      ]
     },
     "execution_count": 51,
     "metadata": {},
     "output_type": "execute_result"
    },
    {
     "data": {
      "image/png": "[encoded data removed]",
      "text/plain": [
       "<Figure size 720x576 with 1 Axes>"
      ]
     },
     "metadata": {
      "needs_background": "light"
     },
     "output_type": "display_data"
    }
   ],
   "source": [
    "#draw ellipse around 1std to prove fit_guassian works\n",
    "from matplotlib.patches import Ellipse\n",
    "\n",
    "nstd = 2\n",
    "\n",
    "fig2 = plt.figure(1)\n",
    "ax2 = fig2.add_subplot()\n",
    "\n",
    "patches = []\n",
    "\n",
    "ax2.set_xlim(-15,15)\n",
    "ax2.set_ylim(-15,15)\n",
    "ax2.scatter(points[:,0], points[:,1])\n",
    "\n",
    "rot = -np.rad2deg(np.arcsin(eigenvec[0,1]/eigenvec[0,0]))\n",
    "width = 2*nstd*np.sqrt(eigenval[0])\n",
    "height = 2*nstd*np.sqrt(eigenval[1])\n",
    "\n",
    "ell = Ellipse((mu[0],mu[1]),width, height, angle = rot, fill = False)\n",
    "ax2.add_patch(ell)\n"
   ]
  },
  {
   "cell_type": "markdown",
   "id": "quick-stereo",
   "metadata": {},
   "source": [
    "Step 1: Subdivide scan into grid cells:"
   ]
  },
  {
   "cell_type": "code",
   "execution_count": 221,
   "id": "excited-evidence",
   "metadata": {},
   "outputs": [
    {
     "data": {
      "text/plain": [
       "<matplotlib.patches.Ellipse at 0x24d0d9ad948>"
      ]
     },
     "execution_count": 221,
     "metadata": {},
     "output_type": "execute_result"
    },
    {
     "data": {
      "image/png": "[encoded data removed]",
      "text/plain": [
       "<Figure size 720x576 with 1 Axes>"
      ]
     },
     "metadata": {
      "needs_background": "light"
     },
     "output_type": "display_data"
    }
   ],
   "source": [
    "from NDT import draw_scan, subdivide_scan\n",
    "\n",
    "fig3 = plt.figure(1)\n",
    "ax3 = fig3.add_subplot()\n",
    "ax3.set_aspect('equal')\n",
    "rand2 = int(np.random.rand()*50) #82 is a simple corner, 2 is a doorway\n",
    "\n",
    "# dat = dataset[:,:50] #regular data\n",
    "dat = np.load(\"data/noisy_dxdy_100.npy\")  #noisy data\n",
    "dat = dat[:,:50]\n",
    "\n",
    "#get point positions and draw lidar scan\n",
    "pp = draw_scan(dat[rand2],fig3,ax3) \n",
    "\n",
    "f = 6 #overall region of scan is broken down into a 5x5 scan\n",
    "subdivide_scan(pp,fig3,ax3, fidelity = f)"
   ]
  },
  {
   "cell_type": "code",
   "execution_count": 177,
   "id": "wooden-wages",
   "metadata": {},
   "outputs": [
    {
     "name": "stdout",
     "output_type": "stream",
     "text": [
      "[-123.46778428  200.955184  ]\n",
      "[-87.27399906 192.78488611]\n",
      "[-61.91633162 201.83626343]\n",
      "[ 48.77371485 142.85206845]\n",
      "[ 82.00594272 116.84972365]\n"
     ]
    },
    {
     "data": {
      "text/plain": [
       "<matplotlib.patches.Ellipse at 0x24ca2561b88>"
      ]
     },
     "execution_count": 177,
     "metadata": {},
     "output_type": "execute_result"
    }
   ],
   "source": []
  },
  {
   "cell_type": "code",
   "execution_count": 135,
   "id": "inner-panel",
   "metadata": {},
   "outputs": [
    {
     "data": {
      "text/plain": [
       "array([[-77.87713718, 348.40228401],\n",
       "       [-65.58346011, 343.80053776],\n",
       "       [-53.81345597, 339.76478916],\n",
       "       [-42.36263294, 335.33476904],\n",
       "       [-31.24396002, 330.52657225],\n",
       "       [-20.53249989, 326.3547402 ],\n",
       "       [-10.11426442, 321.84111244]])"
      ]
     },
     "execution_count": 135,
     "metadata": {},
     "output_type": "execute_result"
    }
   ],
   "source": [
    "temp = pp[pp[:,0] < 0]\n",
    "temp = temp[temp[:,1] > 250]\n",
    "temp"
   ]
  },
  {
   "cell_type": "code",
   "execution_count": null,
   "id": "sharp-joint",
   "metadata": {},
   "outputs": [],
   "source": []
  }
 ],
 "metadata": {
  "kernelspec": {
   "display_name": "dnn",
   "language": "python",
   "name": "dnn"
  },
  "language_info": {
   "codemirror_mode": {
    "name": "ipython",
    "version": 3
   },
   "file_extension": ".py",
   "mimetype": "text/x-python",
   "name": "python",
   "nbconvert_exporter": "python",
   "pygments_lexer": "ipython3",
   "version": "3.7.10"
  }
 },
 "nbformat": 4,
 "nbformat_minor": 5
}
