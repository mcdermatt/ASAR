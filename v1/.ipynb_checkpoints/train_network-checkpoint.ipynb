{
 "cells": [
  {
   "cell_type": "markdown",
   "id": "central-prague",
   "metadata": {},
   "source": [
    "# Neural Network for Lidar Odometry"
   ]
  },
  {
   "cell_type": "code",
   "execution_count": 1,
   "id": "sudden-middle",
   "metadata": {},
   "outputs": [
    {
     "data": {
      "application/javascript": [
       "IPython.notebook.set_autosave_interval(180000)"
      ]
     },
     "metadata": {},
     "output_type": "display_data"
    },
    {
     "name": "stdout",
     "output_type": "stream",
     "text": [
      "Autosaving every 180 seconds\n"
     ]
    }
   ],
   "source": [
    "#setup\n",
    "import numpy as np\n",
    "import tensorflow as tf\n",
    "import matplotlib.pyplot as plt\n",
    "import scipy.io as sio\n",
    "\n",
    "#need to have these two lines to work on my ancient 1060 3gb\n",
    "#  https://stackoverflow.com/questions/43990046/tensorflow-blas-gemm-launch-failed\n",
    "physical_devices = tf.config.list_physical_devices('GPU') \n",
    "tf.config.experimental.set_memory_growth(physical_devices[0], True)\n",
    "\n",
    "%matplotlib inline\n",
    "plt.rcParams['figure.figsize'] = (10.0, 8.0) # set default size of plots\n",
    "plt.rcParams['image.interpolation'] = 'nearest'\n",
    "plt.rcParams['image.cmap'] = 'gray'\n",
    "\n",
    "# for auto-reloading external modules\n",
    "%load_ext autoreload\n",
    "%autoreload 2\n",
    "%autosave 180"
   ]
  },
  {
   "cell_type": "code",
   "execution_count": 2,
   "id": "swedish-lucas",
   "metadata": {},
   "outputs": [],
   "source": [
    "# file = \"data/train_10k.npy\" #has noise in readings\n",
    "# file = \"data/train_100k.npy\" #no noise\n",
    "# file = \"data/train_straight_1k.npy\" #no noise, no lateral movement relative to initial heading\n",
    "file = \"data/train_dxdy_100k.npy\" #no noise, displacement in x and y relative to starting orientation\n",
    "\n",
    "dataset = np.load(file)"
   ]
  },
  {
   "cell_type": "code",
   "execution_count": 3,
   "id": "korean-device",
   "metadata": {},
   "outputs": [
    {
     "data": {
      "text/plain": [
       "(100000, 103)"
      ]
     },
     "execution_count": 3,
     "metadata": {},
     "output_type": "execute_result"
    }
   ],
   "source": [
    "dataset[0,100:]\n",
    "np.shape(dataset)"
   ]
  },
  {
   "cell_type": "code",
   "execution_count": 4,
   "id": "elegant-press",
   "metadata": {},
   "outputs": [
    {
     "name": "stdout",
     "output_type": "stream",
     "text": [
      "(100000, 50)\n"
     ]
    }
   ],
   "source": [
    "from network import Net1, Net2\n",
    "\n",
    "np.random.seed(1337)\n",
    "\n",
    "#convert data from numpy to tensors\n",
    "# x_train = tf.convert_to_tensor(dataset[:,:100])\n",
    "\n",
    "#alternate dataset where we are just looking at the changes in measurement from the first sample to the 2nd\n",
    "x_temp = tf.convert_to_tensor(dataset[:,:100])\n",
    "x_train = np.zeros([np.shape(dataset)[0], 50])\n",
    "x_train[:,:50] = x_temp[:,:50] - x_temp[:,50:100]\n",
    "\n",
    "print(np.shape(x_train))\n",
    "\n",
    "y_train = tf.convert_to_tensor(dataset[:,100:])"
   ]
  },
  {
   "cell_type": "code",
   "execution_count": 9,
   "id": "logical-nickel",
   "metadata": {},
   "outputs": [
    {
     "name": "stdout",
     "output_type": "stream",
     "text": [
      "Model: \"functional_5\"\n",
      "_________________________________________________________________\n",
      "Layer (type)                 Output Shape              Param #   \n",
      "=================================================================\n",
      "input_3 (InputLayer)         [(None, 50, 1)]           0         \n",
      "_________________________________________________________________\n",
      "batch_normalization_8 (Batch (None, 50, 1)             4         \n",
      "_________________________________________________________________\n",
      "conv1d_4 (Conv1D)            (None, 46, 128)           768       \n",
      "_________________________________________________________________\n",
      "batch_normalization_9 (Batch (None, 46, 128)           512       \n",
      "_________________________________________________________________\n",
      "conv1d_5 (Conv1D)            (None, 44, 128)           49280     \n",
      "_________________________________________________________________\n",
      "flatten_2 (Flatten)          (None, 5632)              0         \n",
      "_________________________________________________________________\n",
      "dense_6 (Dense)              (None, 256)               1442048   \n",
      "_________________________________________________________________\n",
      "batch_normalization_10 (Batc (None, 256)               1024      \n",
      "_________________________________________________________________\n",
      "dense_7 (Dense)              (None, 128)               32896     \n",
      "_________________________________________________________________\n",
      "batch_normalization_11 (Batc (None, 128)               512       \n",
      "_________________________________________________________________\n",
      "dense_8 (Dense)              (None, 3)                 387       \n",
      "_________________________________________________________________\n",
      "tf_op_layer_Mul_2 (TensorFlo [(None, 3)]               0         \n",
      "=================================================================\n",
      "Total params: 1,527,431\n",
      "Trainable params: 1,526,405\n",
      "Non-trainable params: 1,026\n",
      "_________________________________________________________________\n",
      "None\n",
      "Epoch 1/100\n",
      "1485/1485 [==============================] - 6s 4ms/step - loss: 2.0987 - val_loss: 1.9574\n",
      "Epoch 2/100\n",
      "1485/1485 [==============================] - 6s 4ms/step - loss: 1.9064 - val_loss: 1.8492\n",
      "Epoch 3/100\n",
      "1485/1485 [==============================] - 6s 4ms/step - loss: 1.8953 - val_loss: 1.8503\n",
      "Epoch 4/100\n",
      "1485/1485 [==============================] - 6s 4ms/step - loss: 1.9243 - val_loss: 1.9139\n",
      "Epoch 5/100\n",
      "1485/1485 [==============================] - 6s 4ms/step - loss: 1.8844 - val_loss: 1.8316\n",
      "Epoch 6/100\n",
      "1485/1485 [==============================] - 6s 4ms/step - loss: 1.8432 - val_loss: 1.8200\n",
      "Epoch 7/100\n",
      "1485/1485 [==============================] - 6s 4ms/step - loss: 1.8131 - val_loss: 1.7644\n",
      "Epoch 8/100\n",
      "1485/1485 [==============================] - 6s 4ms/step - loss: 1.8003 - val_loss: 2.0041\n",
      "Epoch 9/100\n",
      "1485/1485 [==============================] - 6s 4ms/step - loss: 1.8274 - val_loss: 1.7715\n",
      "Epoch 10/100\n",
      "1485/1485 [==============================] - 6s 4ms/step - loss: 1.7758 - val_loss: 1.7267\n",
      "Epoch 11/100\n",
      "1485/1485 [==============================] - 6s 4ms/step - loss: 1.7719 - val_loss: 1.7886\n",
      "Epoch 12/100\n",
      "1485/1485 [==============================] - 6s 4ms/step - loss: 1.7622 - val_loss: 1.7887\n",
      "Epoch 13/100\n",
      "1485/1485 [==============================] - 6s 4ms/step - loss: 1.7360 - val_loss: 1.7026\n",
      "Epoch 14/100\n",
      "1485/1485 [==============================] - 6s 4ms/step - loss: 1.7238 - val_loss: 1.6882\n",
      "Epoch 15/100\n",
      "1485/1485 [==============================] - 6s 4ms/step - loss: 1.7096 - val_loss: 1.7096\n",
      "Epoch 16/100\n",
      "1485/1485 [==============================] - 6s 4ms/step - loss: 1.6980 - val_loss: 1.9286\n",
      "Epoch 17/100\n",
      "1485/1485 [==============================] - 6s 4ms/step - loss: 1.6711 - val_loss: 1.6471\n",
      "Epoch 18/100\n",
      "1485/1485 [==============================] - 6s 4ms/step - loss: 1.6513 - val_loss: 1.7607\n",
      "Epoch 19/100\n",
      "1485/1485 [==============================] - 6s 4ms/step - loss: 1.6305 - val_loss: 1.6218\n",
      "Epoch 20/100\n",
      "1485/1485 [==============================] - 6s 4ms/step - loss: 1.6093 - val_loss: 1.6392\n",
      "Epoch 21/100\n",
      "1485/1485 [==============================] - 6s 4ms/step - loss: 1.6072 - val_loss: 1.6604\n",
      "Epoch 22/100\n",
      "1485/1485 [==============================] - 6s 4ms/step - loss: 1.6294 - val_loss: 1.5690\n",
      "Epoch 23/100\n",
      "1485/1485 [==============================] - 6s 4ms/step - loss: 1.6259 - val_loss: 1.7398\n",
      "Epoch 24/100\n",
      "1485/1485 [==============================] - 6s 4ms/step - loss: 1.5684 - val_loss: 1.5588\n",
      "Epoch 25/100\n",
      "1485/1485 [==============================] - 6s 4ms/step - loss: 1.5480 - val_loss: 1.5260\n",
      "Epoch 26/100\n",
      "1485/1485 [==============================] - 6s 4ms/step - loss: 1.5822 - val_loss: 1.5713\n",
      "Epoch 27/100\n",
      "1485/1485 [==============================] - 6s 4ms/step - loss: 1.5336 - val_loss: 1.5861\n",
      "Epoch 28/100\n",
      "1485/1485 [==============================] - 6s 4ms/step - loss: 1.5183 - val_loss: 1.4954\n",
      "Epoch 29/100\n",
      "1485/1485 [==============================] - 6s 4ms/step - loss: 1.5320 - val_loss: 2.1700\n",
      "Epoch 30/100\n",
      "1485/1485 [==============================] - 6s 4ms/step - loss: 1.4966 - val_loss: 1.7400\n",
      "Epoch 31/100\n",
      "1485/1485 [==============================] - 6s 4ms/step - loss: 1.4916 - val_loss: 1.4876\n",
      "Epoch 32/100\n",
      "1485/1485 [==============================] - 6s 4ms/step - loss: 1.4706 - val_loss: 1.4882\n",
      "Epoch 33/100\n",
      "1485/1485 [==============================] - 6s 4ms/step - loss: 1.4654 - val_loss: 1.6543\n",
      "Epoch 34/100\n",
      "1485/1485 [==============================] - 6s 4ms/step - loss: 1.4632 - val_loss: 1.4462\n",
      "Epoch 35/100\n",
      "1485/1485 [==============================] - 6s 4ms/step - loss: 1.4439 - val_loss: 1.5157\n",
      "Epoch 36/100\n",
      "1485/1485 [==============================] - 6s 4ms/step - loss: 1.4334 - val_loss: 1.5990\n",
      "Epoch 37/100\n",
      "1485/1485 [==============================] - 6s 4ms/step - loss: 1.5512 - val_loss: 1.5085\n",
      "Epoch 38/100\n",
      "1485/1485 [==============================] - 6s 4ms/step - loss: 1.4401 - val_loss: 2.0134\n",
      "Epoch 39/100\n",
      "1485/1485 [==============================] - 6s 4ms/step - loss: 1.4462 - val_loss: 1.5165\n",
      "Epoch 40/100\n",
      "1485/1485 [==============================] - 6s 4ms/step - loss: 1.4101 - val_loss: 1.4948\n",
      "Epoch 41/100\n",
      "1485/1485 [==============================] - 6s 4ms/step - loss: 1.4050 - val_loss: 1.6272\n",
      "Epoch 42/100\n",
      "1485/1485 [==============================] - 6s 4ms/step - loss: 1.3935 - val_loss: 1.5912\n",
      "Epoch 43/100\n",
      "1485/1485 [==============================] - 6s 4ms/step - loss: 1.3870 - val_loss: 1.4768\n",
      "Epoch 44/100\n",
      "1485/1485 [==============================] - 6s 4ms/step - loss: 1.3829 - val_loss: 1.4778\n",
      "Epoch 45/100\n",
      "1485/1485 [==============================] - 6s 4ms/step - loss: 1.3687 - val_loss: 1.4884\n",
      "Epoch 46/100\n",
      "1485/1485 [==============================] - 6s 4ms/step - loss: 1.3687 - val_loss: 1.5993\n",
      "Epoch 47/100\n",
      "1485/1485 [==============================] - 6s 4ms/step - loss: 1.3588 - val_loss: 1.4490\n",
      "Epoch 48/100\n",
      "1485/1485 [==============================] - 6s 4ms/step - loss: 1.3554 - val_loss: 1.4625\n",
      "Epoch 49/100\n",
      "1485/1485 [==============================] - 6s 4ms/step - loss: 1.3490 - val_loss: 1.4450\n",
      "Epoch 50/100\n",
      "1485/1485 [==============================] - 6s 4ms/step - loss: 1.3569 - val_loss: 1.4696\n",
      "Epoch 51/100\n",
      "1485/1485 [==============================] - 6s 4ms/step - loss: 1.3604 - val_loss: 1.4642\n",
      "Epoch 52/100\n",
      "1485/1485 [==============================] - 6s 4ms/step - loss: 1.3419 - val_loss: 1.4256\n",
      "Epoch 53/100\n",
      "1485/1485 [==============================] - 6s 4ms/step - loss: 1.3271 - val_loss: 1.4900\n",
      "Epoch 54/100\n",
      "1485/1485 [==============================] - 6s 4ms/step - loss: 1.3157 - val_loss: 1.4560\n",
      "Epoch 55/100\n",
      "1485/1485 [==============================] - 6s 4ms/step - loss: 1.3254 - val_loss: 1.5385\n",
      "Epoch 56/100\n",
      "1485/1485 [==============================] - 6s 4ms/step - loss: 1.3153 - val_loss: 1.4482\n",
      "Epoch 57/100\n",
      "1485/1485 [==============================] - 6s 4ms/step - loss: 1.3376 - val_loss: 1.4268\n",
      "Epoch 58/100\n",
      "1485/1485 [==============================] - 6s 4ms/step - loss: 1.3042 - val_loss: 1.4258\n",
      "Epoch 59/100\n",
      "1485/1485 [==============================] - 6s 4ms/step - loss: 1.2967 - val_loss: 1.4957\n",
      "Epoch 60/100\n",
      "1485/1485 [==============================] - 6s 4ms/step - loss: 1.2970 - val_loss: 1.4663\n",
      "Epoch 61/100\n"
     ]
    },
    {
     "name": "stdout",
     "output_type": "stream",
     "text": [
      "1485/1485 [==============================] - 6s 4ms/step - loss: 1.2893 - val_loss: 1.4436\n",
      "Epoch 62/100\n",
      "1485/1485 [==============================] - 6s 4ms/step - loss: 1.2911 - val_loss: 1.5126\n",
      "Epoch 63/100\n",
      "1485/1485 [==============================] - 6s 4ms/step - loss: 1.3348 - val_loss: 1.6109\n",
      "Epoch 64/100\n",
      "1485/1485 [==============================] - 6s 4ms/step - loss: 1.2814 - val_loss: 1.4614\n",
      "Epoch 65/100\n",
      "1485/1485 [==============================] - 6s 4ms/step - loss: 1.2741 - val_loss: 1.4599\n",
      "Epoch 66/100\n",
      "1485/1485 [==============================] - 6s 4ms/step - loss: 1.2727 - val_loss: 1.6599\n",
      "Epoch 67/100\n",
      "1485/1485 [==============================] - 6s 4ms/step - loss: 1.2249 - val_loss: 1.5011\n",
      "Epoch 68/100\n",
      "1485/1485 [==============================] - 6s 4ms/step - loss: 1.2138 - val_loss: 1.4292\n",
      "Epoch 69/100\n",
      "1485/1485 [==============================] - 6s 4ms/step - loss: 1.2101 - val_loss: 1.6214\n",
      "Epoch 70/100\n",
      "1485/1485 [==============================] - 6s 4ms/step - loss: 1.2018 - val_loss: 1.4101\n",
      "Epoch 71/100\n",
      "1485/1485 [==============================] - 6s 4ms/step - loss: 1.2025 - val_loss: 1.3967\n",
      "Epoch 72/100\n",
      "1485/1485 [==============================] - 6s 4ms/step - loss: 1.1983 - val_loss: 1.4892\n",
      "Epoch 73/100\n",
      "1485/1485 [==============================] - 6s 4ms/step - loss: 1.1989 - val_loss: 1.4601\n",
      "Epoch 74/100\n",
      "1485/1485 [==============================] - 6s 4ms/step - loss: 1.1922 - val_loss: 1.4681\n",
      "Epoch 75/100\n",
      "1485/1485 [==============================] - 6s 4ms/step - loss: 1.1918 - val_loss: 1.4700\n",
      "Epoch 76/100\n",
      "1485/1485 [==============================] - 6s 4ms/step - loss: 1.1858 - val_loss: 1.4009\n",
      "Epoch 77/100\n",
      "1485/1485 [==============================] - 6s 4ms/step - loss: 1.1828 - val_loss: 1.3879\n",
      "Epoch 78/100\n",
      "1485/1485 [==============================] - 6s 4ms/step - loss: 1.1824 - val_loss: 1.4396\n",
      "Epoch 79/100\n",
      "1485/1485 [==============================] - 6s 4ms/step - loss: 1.1803 - val_loss: 1.4103\n",
      "Epoch 80/100\n",
      "1485/1485 [==============================] - 6s 4ms/step - loss: 1.1786 - val_loss: 1.3817\n",
      "Epoch 81/100\n",
      "1485/1485 [==============================] - 6s 4ms/step - loss: 1.1719 - val_loss: 1.3766\n",
      "Epoch 82/100\n",
      "1485/1485 [==============================] - 6s 4ms/step - loss: 1.1741 - val_loss: 1.4595\n",
      "Epoch 83/100\n",
      "1485/1485 [==============================] - 6s 4ms/step - loss: 1.1691 - val_loss: 1.3837\n",
      "Epoch 84/100\n",
      "1485/1485 [==============================] - 6s 4ms/step - loss: 1.1332 - val_loss: 1.3603\n",
      "Epoch 85/100\n",
      "1485/1485 [==============================] - 6s 4ms/step - loss: 1.1293 - val_loss: 1.3668\n",
      "Epoch 86/100\n",
      "1485/1485 [==============================] - 6s 4ms/step - loss: 1.1255 - val_loss: 1.3658\n",
      "Epoch 87/100\n",
      "1485/1485 [==============================] - 6s 4ms/step - loss: 1.1218 - val_loss: 1.3690\n",
      "Epoch 88/100\n",
      "1485/1485 [==============================] - 6s 4ms/step - loss: 1.1265 - val_loss: 1.3761\n",
      "Epoch 89/100\n",
      "1485/1485 [==============================] - 6s 4ms/step - loss: 1.1201 - val_loss: 1.3752\n",
      "Epoch 90/100\n",
      "1485/1485 [==============================] - 6s 4ms/step - loss: 1.1167 - val_loss: 1.3648\n",
      "Epoch 91/100\n",
      "1485/1485 [==============================] - 6s 4ms/step - loss: 1.1176 - val_loss: 1.3678\n",
      "Epoch 92/100\n",
      "1485/1485 [==============================] - 6s 4ms/step - loss: 1.1186 - val_loss: 1.3616\n",
      "Epoch 93/100\n",
      "1485/1485 [==============================] - 6s 4ms/step - loss: 1.1181 - val_loss: 1.3708\n",
      "Epoch 94/100\n",
      "1485/1485 [==============================] - 6s 4ms/step - loss: 1.1161 - val_loss: 1.3653\n",
      "Epoch 95/100\n",
      "1485/1485 [==============================] - 6s 4ms/step - loss: 1.1142 - val_loss: 1.3677\n",
      "Epoch 96/100\n",
      "1485/1485 [==============================] - 6s 4ms/step - loss: 1.1152 - val_loss: 1.3625\n",
      "Epoch 97/100\n",
      "1485/1485 [==============================] - 6s 4ms/step - loss: 1.1141 - val_loss: 1.3733\n",
      "Epoch 98/100\n",
      "1485/1485 [==============================] - 6s 4ms/step - loss: 1.1126 - val_loss: 1.3625\n",
      "Epoch 99/100\n",
      "1485/1485 [==============================] - 6s 4ms/step - loss: 1.1105 - val_loss: 1.3723\n",
      "Epoch 100/100\n",
      "1485/1485 [==============================] - 6s 4ms/step - loss: 1.1174 - val_loss: 1.3665\n"
     ]
    }
   ],
   "source": [
    "model = Net1() # 50 input data (looking at differences in measurememnt between each point) \n",
    "# model = Net2() # 100 input network (looking at full data)\n",
    "\n",
    "runLen = 100    \n",
    "BS = 64 #128 #256 #works well\n",
    "\n",
    "def scheduler(epoch, lr):\n",
    "    part1 = 2*runLen//3\n",
    "    part2 = 5*runLen//6\n",
    "\n",
    "#     part1 = runLen//3\n",
    "#     part2 = 2*runLen//3\n",
    "\n",
    "    if epoch < part1:\n",
    "        lr = 0.01\n",
    "        return lr\n",
    "    if epoch >= part1 and epoch < part2:\n",
    "        lr = 0.005\n",
    "        return lr\n",
    "    if epoch >= part2:\n",
    "        lr = 0.001\n",
    "        return lr\n",
    "\n",
    "#TODO: figure out how to implement sample weight\n",
    "# L = tf.keras.losses.MeanAbsoluteError()\n",
    "# sample_weight = [0.3,0.3,0.4]\n",
    "    \n",
    "model.compile(\n",
    "    optimizer=tf.keras.optimizers.Adam(lr=0.001),\n",
    "#     loss=tf.keras.losses.MeanSquaredError(),\n",
    "    loss=tf.keras.losses.MeanAbsoluteError(),\n",
    "#     loss = tf.keras.losses.MeanAbsolutePercentageError(),\n",
    ")\n",
    "\n",
    "summary = model.summary()\n",
    "print(summary)\n",
    "\n",
    "callback = tf.keras.callbacks.LearningRateScheduler(scheduler)\n",
    "\n",
    "trace = model.fit(x=x_train, y=y_train, batch_size=BS, epochs=runLen, verbose=1, \n",
    "                  validation_split=0.05, callbacks = [callback], shuffle=True)\n"
   ]
  },
  {
   "cell_type": "code",
   "execution_count": 10,
   "id": "moderate-richmond",
   "metadata": {},
   "outputs": [
    {
     "data": {
      "text/plain": [
       "Text(0, 0.5, 'loss')"
      ]
     },
     "execution_count": 10,
     "metadata": {},
     "output_type": "execute_result"
    },
    {
     "data": {
      "image/png": "[encoded data removed]",
      "text/plain": [
       "<Figure size 720x576 with 1 Axes>"
      ]
     },
     "metadata": {
      "needs_background": "light"
     },
     "output_type": "display_data"
    }
   ],
   "source": [
    "plt.subplot(2, 1, 1)\n",
    "plt.plot(trace.history['loss'], '-')\n",
    "plt.plot(trace.history['val_loss'], '-')\n",
    "plt.legend(['train', 'val'], loc='upper left')\n",
    "plt.xlabel('iteration')\n",
    "plt.ylabel('loss')"
   ]
  },
  {
   "cell_type": "code",
   "execution_count": 23,
   "id": "hundred-sally",
   "metadata": {},
   "outputs": [
    {
     "name": "stdout",
     "output_type": "stream",
     "text": [
      "tf.Tensor([5.57147026 0.33258899 0.0548402 ], shape=(3,), dtype=float64)\n",
      "[5.34591    0.09556718 0.05692722]\n"
     ]
    }
   ],
   "source": [
    "r = int(np.random.rand()*100)\n",
    "print(y_train[r])\n",
    "# out = model.predict(x_train)\n",
    "print(out[r])"
   ]
  },
  {
   "cell_type": "code",
   "execution_count": null,
   "id": "informative-hacker",
   "metadata": {},
   "outputs": [],
   "source": [
    "test_file = \"data/test_dxdy.npy\"\n",
    "test_dataset = np.load(test_file)\n",
    "rand = int(np.shape(test_dataset)[0]*np.random.rand())\n",
    "\n",
    "#test for standard case\n",
    "# x_test = test_dataset[:,:100]\n",
    "# x_test = tf.convert_to_tensor(x_test)\n",
    "\n",
    "#test when looking at displacement between two measurements\n",
    "x_temp2 = tf.convert_to_tensor(test_dataset[:,:100])\n",
    "x_test = np.zeros([np.shape(test_dataset)[0], 50])\n",
    "x_test[:,:50] = x_temp2[:,:50] - x_temp2[:,50:100]\n",
    "\n",
    "y_test = test_dataset[:,100:]\n",
    "y_test = tf.convert_to_tensor(y_test)\n",
    "# print(y_test[rand])\n",
    "print(y_train[rand])\n",
    "\n",
    "# guess = model.predict(x_test)\n",
    "guess = model.predict(x_train)\n",
    "print(guess[rand])"
   ]
  },
  {
   "cell_type": "code",
   "execution_count": null,
   "id": "stunning-message",
   "metadata": {},
   "outputs": [],
   "source": [
    "# model.save(\"dead_reckoning_1pt36_mse.kmod\") #got this with 50 input model"
   ]
  },
  {
   "cell_type": "markdown",
   "id": "based-medication",
   "metadata": {},
   "source": [
    "# Normal Distribution Transform (NDT)"
   ]
  },
  {
   "cell_type": "code",
   "execution_count": 90,
   "id": "genuine-screw",
   "metadata": {},
   "outputs": [
    {
     "name": "stdout",
     "output_type": "stream",
     "text": [
      "mu =  [5.48295373 1.07693568]\n",
      "sigma =  [[8.2759349  1.21589682]\n",
      " [1.21589682 1.24364581]]\n",
      "eigenval =  [8.48023086 1.03934985]\n",
      "eigenvec =  [[ 0.98617651 -0.16569817]\n",
      " [ 0.16569817  0.98617651]]\n"
     ]
    }
   ],
   "source": [
    "from NDT import fit_gaussian\n",
    "\n",
    "numpts = 100\n",
    "points = np.random.randn(numpts, 2)\n",
    "points[:,0] += np.linspace(1,10,numpts)\n",
    "points[:,1] += np.linspace(0,2,numpts)\n",
    " \n",
    "mu, sigma = fit_gaussian(points)\n",
    "print(\"mu = \", mu)\n",
    "print(\"sigma = \", sigma)\n",
    "\n",
    "eig = np.linalg.eig(sigma)\n",
    "eigenval = eig[0]\n",
    "eigenvec = eig[1]\n",
    "\n",
    "print(\"eigenval = \", eigenval)\n",
    "print(\"eigenvec = \", eigenvec)\n"
   ]
  },
  {
   "cell_type": "code",
   "execution_count": 126,
   "id": "impressed-myrtle",
   "metadata": {},
   "outputs": [
    {
     "data": {
      "text/plain": [
       "<matplotlib.patches.Ellipse at 0x13d49c06908>"
      ]
     },
     "execution_count": 126,
     "metadata": {},
     "output_type": "execute_result"
    },
    {
     "data": {
      "image/png": "[encoded data removed]",
      "text/plain": [
       "<Figure size 720x576 with 1 Axes>"
      ]
     },
     "metadata": {
      "needs_background": "light"
     },
     "output_type": "display_data"
    }
   ],
   "source": [
    "#draw ellipse around 1std to prove fit_guassian works\n",
    "from matplotlib.patches import Ellipse\n",
    "\n",
    "nstd = 2\n",
    "\n",
    "fig2 = plt.figure(1)\n",
    "ax2 = fig2.add_subplot()\n",
    "\n",
    "patches = []\n",
    "\n",
    "ax2.set_xlim(-15,15)\n",
    "ax2.set_ylim(-15,15)\n",
    "ax2.scatter(points[:,0], points[:,1])\n",
    "\n",
    "rot = -np.rad2deg(np.arcsin(eigenvec[0,1]/eigenvec[0,0]))\n",
    "width = nstd*np.sqrt(eigenval[0])\n",
    "height = nstd*np.sqrt(eigneval[1])\n",
    "\n",
    "ell = Ellipse((mu[0],mu[1]),width, height = nstd*eigenval[1], angle = rot, fill = False)\n",
    "ax2.add_patch(ell)\n"
   ]
  },
  {
   "cell_type": "code",
   "execution_count": null,
   "id": "demonstrated-avenue",
   "metadata": {},
   "outputs": [],
   "source": []
  }
 ],
 "metadata": {
  "kernelspec": {
   "display_name": "dnn",
   "language": "python",
   "name": "dnn"
  },
  "language_info": {
   "codemirror_mode": {
    "name": "ipython",
    "version": 3
   },
   "file_extension": ".py",
   "mimetype": "text/x-python",
   "name": "python",
   "nbconvert_exporter": "python",
   "pygments_lexer": "ipython3",
   "version": "3.7.10"
  }
 },
 "nbformat": 4,
 "nbformat_minor": 5
}
