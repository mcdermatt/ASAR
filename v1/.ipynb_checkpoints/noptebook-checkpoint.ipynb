{
 "cells": [
  {
   "cell_type": "code",
   "execution_count": null,
   "id": "current-lancaster",
   "metadata": {},
   "outputs": [],
   "source": [
    "%matplotlib notebook\n",
    "import cv2\n",
    "import numpy as np\n",
    "from matplotlib import pyplot as plt\n",
    "from ipywidgets import IntSlider\n",
    "import time\n",
    "\n",
    "from player import Player  #, enemy\n",
    "from game import game\n",
    "\n",
    "\n",
    "%load_ext autoreload\n",
    "%autoreload 2\n",
    "%autosave 180"
   ]
  },
  {
   "cell_type": "code",
   "execution_count": null,
   "id": "multiple-greece",
   "metadata": {
    "scrolled": false
   },
   "outputs": [],
   "source": [
    "fig = plt.figure(0)\n",
    "ax = fig.add_subplot()\n",
    "ax.set_xlim(0,800)\n",
    "ax.set_ylim(800,0)\n",
    "\n",
    "plt.ion()\n",
    "plt.axis('off')\n",
    "fig.show()\n",
    "fig.patch.set_facecolor('xkcd:greyish blue')\n",
    "fig.canvas.draw()\n",
    "\n",
    "img = cv2.imread('assets/map1.png')\n",
    "\n",
    "scale_percent = 100 # percent of original size\n",
    "width = int(img.shape[1] * scale_percent / 100)\n",
    "height = int(img.shape[0] * scale_percent / 100)\n",
    "dim = (width, height)\n",
    "# resize image\n",
    "img = cv2.resize(img, dim, interpolation = cv2.INTER_AREA)\n",
    "ax.imshow(img, cmap = 'gray', interpolation = 'bicubic')\n",
    "\n",
    "#test to dynamically update map\n",
    "# runLen = 50\n",
    "# step = 0\n",
    "# while step < runLen:\n",
    "#     enemy, = ax.plot(step*10,step*10,'r.')\n",
    "#     plt.pause(0.01)\n",
    "#     fig.canvas.draw()\n",
    "#     enemy.remove()\n",
    "#     step +=1 "
   ]
  },
  {
   "cell_type": "code",
   "execution_count": null,
   "id": "specialized-confidentiality",
   "metadata": {},
   "outputs": [],
   "source": [
    "g = game(fig,ax,img)"
   ]
  },
  {
   "cell_type": "code",
   "execution_count": null,
   "id": "challenging-grace",
   "metadata": {},
   "outputs": [],
   "source": [
    "g.run()"
   ]
  },
  {
   "cell_type": "code",
   "execution_count": null,
   "id": "amended-mineral",
   "metadata": {},
   "outputs": [],
   "source": [
    "g.e1"
   ]
  },
  {
   "cell_type": "code",
   "execution_count": null,
   "id": "92a9af76",
   "metadata": {},
   "outputs": [],
   "source": [
    "ans = g.p.lidar[:10]\n",
    "print(ans)"
   ]
  },
  {
   "cell_type": "code",
   "execution_count": null,
   "id": "general-concentration",
   "metadata": {},
   "outputs": [],
   "source": [
    "p = Player(fig, ax, img, FOV = 45)"
   ]
  },
  {
   "cell_type": "code",
   "execution_count": null,
   "id": "future-anaheim",
   "metadata": {},
   "outputs": [],
   "source": [
    "p.draw()"
   ]
  },
  {
   "cell_type": "code",
   "execution_count": null,
   "id": "lonely-royalty",
   "metadata": {},
   "outputs": [],
   "source": [
    "p.remove()"
   ]
  },
  {
   "cell_type": "code",
   "execution_count": null,
   "id": "flying-maldives",
   "metadata": {},
   "outputs": [],
   "source": [
    "for i in range(100):\n",
    "    p.heading += 0.05\n",
    "    p.pos[0] += np.sin(i/10)*10\n",
    "    p.pos[1] += np.sin(i/10)*10\n",
    "    \n",
    "    p.draw()\n",
    "    time.sleep(0.01)\n",
    "    p.remove()\n",
    "    "
   ]
  },
  {
   "cell_type": "code",
   "execution_count": null,
   "id": "proof-advisory",
   "metadata": {},
   "outputs": [],
   "source": [
    "FOV = IntSlider()\n",
    "FOV"
   ]
  },
  {
   "cell_type": "code",
   "execution_count": null,
   "id": "cardiac-mitchell",
   "metadata": {},
   "outputs": [],
   "source": [
    "print(FOV.value)"
   ]
  },
  {
   "cell_type": "code",
   "execution_count": null,
   "id": "experienced-swift",
   "metadata": {},
   "outputs": [],
   "source": [
    "img[500,200][0]"
   ]
  },
  {
   "cell_type": "code",
   "execution_count": null,
   "id": "settled-outdoors",
   "metadata": {},
   "outputs": [],
   "source": []
  }
 ],
 "metadata": {
  "kernelspec": {
   "display_name": "Python 3",
   "language": "python",
   "name": "python3"
  },
  "language_info": {
   "codemirror_mode": {
    "name": "ipython",
    "version": 3
   },
   "file_extension": ".py",
   "mimetype": "text/x-python",
   "name": "python",
   "nbconvert_exporter": "python",
   "pygments_lexer": "ipython3",
   "version": "3.7.10"
  }
 },
 "nbformat": 4,
 "nbformat_minor": 5
}
