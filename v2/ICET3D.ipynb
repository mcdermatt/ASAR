{
 "cells": [
  {
   "cell_type": "markdown",
   "metadata": {},
   "source": [
    "## Init TF"
   ]
  },
  {
   "cell_type": "code",
   "execution_count": null,
   "metadata": {},
   "outputs": [],
   "source": [
    "from utils import *\n",
    "import numpy as np\n",
    "import tensorflow as tf\n",
    "import tensorflow_probability as tfp\n",
    "# from tensorflow.python.framework.ops import disable_eager_execution\n",
    "import time\n",
    "\n",
    "#need to have these two lines to work on my ancient 1060 3gb\n",
    "#  https://stackoverflow.com/questions/43990046/tensorflow-blas-gemm-launch-failed\n",
    "# physical_devices = tf.config.list_physical_devices('GPU') \n",
    "# tf.config.experimental.set_memory_growth(physical_devices[0], True)\n",
    "\n",
    "#turn off eager execution\n",
    "# disable_eager_execution() #no?\n",
    "\n",
    "# for auto-reloading external modules\n",
    "%load_ext autoreload\n",
    "%autoreload 2\n",
    "%autosave 180\n",
    "# %matplotlib notebook"
   ]
  },
  {
   "cell_type": "code",
   "execution_count": null,
   "metadata": {},
   "outputs": [],
   "source": [
    "tf.config.list_physical_devices('GPU')"
   ]
  },
  {
   "cell_type": "markdown",
   "metadata": {},
   "source": [
    "## Using NumPy"
   ]
  },
  {
   "cell_type": "code",
   "execution_count": null,
   "metadata": {
    "scrolled": false
   },
   "outputs": [],
   "source": [
    "## from vedo import *\n",
    "from utils import *\n",
    "import numpy as np\n",
    "import os\n",
    "from ipyvtklink.viewer import ViewInteractiveWidget\n",
    "import pykitti\n",
    "\n",
    "settings.embedWindow(backend='ipyvtk', verbose = True) #was this\n",
    "\n",
    "try:\n",
    "    plt1.closeWindow()\n",
    "    print(\"closed\")\n",
    "except:\n",
    "    pass\n",
    "\n",
    "plt1 = Plotter(N=1, axes=1, bg = (0.1,0.1,0.1), bg2 = (0.3,0.3,0.3),  interactive=True)\n",
    "# settings.useParallelProjection = True #makes view orthographic\n",
    "\n",
    "## uncomment to use VOLPE dataset -----------------------------------------------------\n",
    "# location = 'C:/Users/Derm/2021-03-10-16-43-50_Velodyne-VLP-16-Data_garminSignage.txt'\n",
    "# cloud = np.loadtxt(open(location, \"rb\"), delimiter=\",\")\n",
    "# cloud = cloud[~np.isnan(cloud).any(axis=1)] #remove all rows with NaN elements\n",
    "## ------------------------------------------------------------------------------------\n",
    "\n",
    "## uncomment to use KITTI dataset -----------------------------------------------------\n",
    "basedir = 'C:/kitti/'\n",
    "date = '2011_09_26'\n",
    "drive = '0005'\n",
    "frame_range = range(150, 151, 1)\n",
    "dataset = pykitti.raw(basedir, date, drive)\n",
    "velo1 = dataset.get_velo(0) # Each scan is a Nx4 array of [x,y,z,reflectance]\n",
    "cloud = velo1[:,:3]\n",
    "print(type(cloud))\n",
    "## ------------------------------------------------------------------------------------\n",
    "\n",
    "# make 2D sinusioal motion (for debug) ------------------------------------------------\n",
    "# cloud = np.random.randn(10000,3)\n",
    "# cloud[:,0] += -50*cloud[:,1] + np.random.randn()*5\n",
    "# cloud[:,1] += 5\n",
    "# cloud[:,1] = cloud[:,1] * 3 + 10*np.random.randn() + np.sin(cloud[:,1]*5)*10\n",
    "# cloud[:,2] += 0.5*cloud[:,1] - 10\n",
    "##-------------------------------------------------------------------------------------\n",
    "\n",
    "# f =np.array([200,200,40]) #fidelity in x, y, z #takes ~30s on my dsektop\n",
    "# lim = np.array([-50,50,-50,50,-10,10])\n",
    "\n",
    "f =np.array([50,50,1]) #fidelity in x, y, z # < 5s\n",
    "lim = np.array([-100,100,-100,100,-10,10])\n",
    "\n",
    "E = subdivide_scan(cloud,plt1, bounds = lim, fid = f, draw_grid = False, show_pc = False) \n",
    "ViewInteractiveWidget(plt1.window)"
   ]
  },
  {
   "cell_type": "markdown",
   "metadata": {},
   "source": [
    "## Using TensorFlow"
   ]
  },
  {
   "cell_type": "code",
   "execution_count": 1,
   "metadata": {
    "scrolled": true
   },
   "outputs": [
    {
     "name": "stdout",
     "output_type": "stream",
     "text": [
      "<tf.Variable 'Variable:0' shape=(3,) dtype=float32, numpy=array([23.665249 ,  0.9999643,  1.0103214], dtype=float32)>\n",
      "<tf.Variable 'Variable:0' shape=(3,) dtype=float32, numpy=array([25.318369 ,  3.142531 ,  1.0738642], dtype=float32)>\n",
      "<tf.Variable 'Variable:0' shape=(3,) dtype=float32, numpy=array([28.953072 , 16.444204 ,  1.3827578], dtype=float32)>\n",
      "<tf.Variable 'Variable:0' shape=(3,) dtype=float32, numpy=array([-3.25275  , 10.039799 ,  1.1490233], dtype=float32)>\n",
      "<tf.Variable 'Variable:0' shape=(3,) dtype=float32, numpy=array([-0.24406411,  7.712153  ,  1.126723  ], dtype=float32)>\n",
      "<tf.Variable 'Variable:0' shape=(3,) dtype=float32, numpy=array([24.649332 , 18.603691 ,  1.3275675], dtype=float32)>\n",
      "<tf.Variable 'Variable:0' shape=(3,) dtype=float32, numpy=array([-2.440729 , 16.835114 ,  1.2582564], dtype=float32)>\n",
      "<tf.Variable 'Variable:0' shape=(3,) dtype=float32, numpy=array([38.254974 , 13.248639 ,  1.5939476], dtype=float32)>\n",
      "<tf.Variable 'Variable:0' shape=(3,) dtype=float32, numpy=array([24.578587 ,  1.8982158,  1.0434706], dtype=float32)>\n",
      "<tf.Variable 'Variable:0' shape=(3,) dtype=float32, numpy=array([38.482914 , 13.047957 ,  1.5985242], dtype=float32)>\n",
      "<tf.Variable 'Variable:0' shape=(3,) dtype=float32, numpy=array([-25.621971 ,  34.451263 ,   1.6619413], dtype=float32)>\n",
      "<tf.Variable 'Variable:0' shape=(3,) dtype=float32, numpy=array([12.286621, 22.95003 ,  1.339885], dtype=float32)>\n",
      "<tf.Variable 'Variable:0' shape=(3,) dtype=float32, numpy=array([ 0.43200505,  2.1462207 , -0.3975161 ], dtype=float32)>\n",
      "<tf.Variable 'Variable:0' shape=(3,) dtype=float32, numpy=array([2.9683437, 4.6797976, 0.8805953], dtype=float32)>\n",
      "<tf.Variable 'Variable:0' shape=(3,) dtype=float32, numpy=array([0.57829845, 3.4555173 , 0.10449588], dtype=float32)>\n",
      "<tf.Variable 'Variable:0' shape=(3,) dtype=float32, numpy=array([3.6572542, 7.2103496, 1.1372668], dtype=float32)>\n",
      "<tf.Variable 'Variable:0' shape=(3,) dtype=float32, numpy=array([  3.465161 , -19.4506   ,   0.9642154], dtype=float32)>\n",
      "<tf.Variable 'Variable:0' shape=(3,) dtype=float32, numpy=array([-1.3798162,  6.7559342,  1.237548 ], dtype=float32)>\n",
      "<tf.Variable 'Variable:0' shape=(3,) dtype=float32, numpy=array([30.651995 , 14.286218 ,  1.3828895], dtype=float32)>\n",
      "<tf.Variable 'Variable:0' shape=(3,) dtype=float32, numpy=array([32.326523 ,  6.9766555,  1.333664 ], dtype=float32)>\n",
      "<tf.Variable 'Variable:0' shape=(3,) dtype=float32, numpy=array([28.111847 ,  4.8300767,  1.1777116], dtype=float32)>\n",
      "<tf.Variable 'Variable:0' shape=(3,) dtype=float32, numpy=array([29.522411 , 15.75163  ,  1.3823982], dtype=float32)>\n",
      "<tf.Variable 'Variable:0' shape=(3,) dtype=float32, numpy=array([2.6486342, 2.8543353, 1.1779186], dtype=float32)>\n",
      "<tf.Variable 'Variable:0' shape=(3,) dtype=float32, numpy=array([1.2009054 , 2.6683564 , 0.00373123], dtype=float32)>\n",
      "<tf.Variable 'Variable:0' shape=(3,) dtype=float32, numpy=array([1.3174357, 5.6113634, 1.0498257], dtype=float32)>\n",
      "<tf.Variable 'Variable:0' shape=(3,) dtype=float32, numpy=array([ 0.7682971 ,  3.262844  , -0.20559603], dtype=float32)>\n",
      "<tf.Variable 'Variable:0' shape=(3,) dtype=float32, numpy=array([1.3227395, 4.4730062, 0.9911176], dtype=float32)>\n",
      "<tf.Variable 'Variable:0' shape=(3,) dtype=float32, numpy=array([ 1.0715849, 21.239634 ,  1.337852 ], dtype=float32)>\n",
      "<tf.Variable 'Variable:0' shape=(3,) dtype=float32, numpy=array([24.621096 ,  1.9399807,  1.0450385], dtype=float32)>\n",
      "<tf.Variable 'Variable:0' shape=(3,) dtype=float32, numpy=array([24.81127  ,  2.7707298,  1.054946 ], dtype=float32)>\n",
      "<tf.Variable 'Variable:0' shape=(3,) dtype=float32, numpy=array([28.80869  , 16.90517  ,  1.3898687], dtype=float32)>\n",
      "<tf.Variable 'Variable:0' shape=(3,) dtype=float32, numpy=array([ 0.15090291, 20.536556  ,  1.3296713 ], dtype=float32)>\n",
      "<tf.Variable 'Variable:0' shape=(3,) dtype=float32, numpy=array([-0.3194877,  7.367516 ,  1.1166912], dtype=float32)>\n",
      "<tf.Variable 'Variable:0' shape=(3,) dtype=float32, numpy=array([6.274811 , 5.237807 , 1.1927568], dtype=float32)>\n",
      "<tf.Variable 'Variable:0' shape=(3,) dtype=float32, numpy=array([ 0.12644765, 20.515194  ,  1.329382  ], dtype=float32)>\n",
      "<tf.Variable 'Variable:0' shape=(3,) dtype=float32, numpy=array([ 5.4775467, 23.37989  ,  1.3625683], dtype=float32)>\n",
      "<tf.Variable 'Variable:0' shape=(3,) dtype=float32, numpy=array([20.110575 , 17.327953 ,  1.1968147], dtype=float32)>\n",
      "<tf.Variable 'Variable:0' shape=(3,) dtype=float32, numpy=array([24.142624 ,  1.4574001,  1.02745  ], dtype=float32)>\n",
      "<tf.Variable 'Variable:0' shape=(3,) dtype=float32, numpy=array([34.20257  , 13.02145  ,  1.4651716], dtype=float32)>\n"
     ]
    },
    {
     "data": {
      "application/vnd.jupyter.widget-view+json": {
       "model_id": "44be43803cf84e669a097fac87a1960a",
       "version_major": 2,
       "version_minor": 0
      },
      "text/plain": [
       "ViewInteractiveWidget(height=960, layout=Layout(height='auto', width='100%'), width=960)"
      ]
     },
     "metadata": {},
     "output_type": "display_data"
    }
   ],
   "source": [
    "## from vedo import *\n",
    "from utils import *\n",
    "import numpy as np\n",
    "import os\n",
    "from ipyvtklink.viewer import ViewInteractiveWidget\n",
    "import pykitti\n",
    "\n",
    "settings.embedWindow(backend='ipyvtk', verbose = True) #was this\n",
    "\n",
    "plt2 = Plotter(N=1, axes=1, bg = (0.1,0.1,0.1), bg2 = (0.3,0.3,0.3),  interactive=True)\n",
    "\n",
    "basedir = 'C:/kitti/'\n",
    "date = '2011_09_26'\n",
    "drive = '0005'\n",
    "frame_range = range(150, 151, 1)\n",
    "dataset = pykitti.raw(basedir, date, drive)\n",
    "velo1 = dataset.get_velo(0) # Each scan is a Nx4 array of [x,y,z,reflectance]\n",
    "cloud = velo1[:,:3]\n",
    "# print(type(cloud))\n",
    "\n",
    "f = tf.constant([10,10,2]) #fidelity in x, y, z # < 5s\n",
    "lim = tf.constant([-100.,100.,-100.,100.,-10.,10.])\n",
    "\n",
    "E = subdivide_scan_tf(cloud,plt2, bounds = lim, fid = f, draw_grid = False, show_pc = True) \n",
    "ViewInteractiveWidget(plt2.window)"
   ]
  },
  {
   "cell_type": "markdown",
   "metadata": {},
   "source": [
    "## Unit Test R() and Jacobian"
   ]
  },
  {
   "cell_type": "code",
   "execution_count": null,
   "metadata": {},
   "outputs": [],
   "source": [
    "n_hat = np.array([1,0,0])\n",
    "theta =  0.1 #np.pi/6 #rad\n",
    "\n",
    "rot_mat_simp = R_simp(n_hat, theta)\n",
    "print(rot_mat_simp)\n",
    "angs = np.array([theta,0 ,0])\n",
    "rot_mat = R(angs)\n",
    "print(rot_mat)\n",
    "\n",
    "print(R2Euler(rot_mat))\n",
    "\n",
    "p_point = np.array([1,1,1]).T\n",
    "\n",
    "J = jacobian(angs, p_point)\n",
    "\n",
    "d_rot_mat_simp = dR_simp(n_hat,theta)\n",
    "# print(d_rot_mat_simp)"
   ]
  },
  {
   "cell_type": "markdown",
   "metadata": {},
   "source": [
    "## Unit test R2Euler_tf and R_tf\n",
    "#### Works with single axis roation\n",
    "#### Works with vectoried input\n",
    "#### Solution becomes ambiguious with mutliple axis inputs"
   ]
  },
  {
   "cell_type": "code",
   "execution_count": null,
   "metadata": {},
   "outputs": [],
   "source": [
    "angs = tf.random.normal((3,1)) * tf.constant([[0.], [0.], [1.] ]) #single axis angle input\n",
    "# angs = tf.Variable([[0.],[ np.pi/2],[ 0.]]) #vector input, multiple axis rotation\n",
    "print(\"Input angs: \\n\", angs.numpy())\n",
    "# print(\"R(angs): \\n\", R_tf(angs).numpy())\n",
    "test1 = R2Euler_tf(R_tf(angs))\n",
    "print(\"R2Euler_tf(R(angs)): \\n\", test1.numpy())\n",
    "# test2 = R2Euler(R(angs[:,:2]))\n",
    "# print(test2)"
   ]
  },
  {
   "cell_type": "markdown",
   "metadata": {},
   "source": [
    "### Unit test tfp find bins"
   ]
  },
  {
   "cell_type": "code",
   "execution_count": null,
   "metadata": {},
   "outputs": [],
   "source": [
    "c = tf.convert_to_tensor(cloud, np.float32)#[:100]\n",
    "# print(\"c: \\n\", c.numpy())\n",
    "startx = -100.\n",
    "stopx = 100.\n",
    "numx = 10\n",
    "edgesx = tf.linspace(startx, stopx, numx)\n",
    "xbins = tfp.stats.find_bins(c[:,0], edgesx)\n",
    "print(xbins)\n",
    "starty = -100.\n",
    "stopy = 100.\n",
    "numy = 10\n",
    "edgesy = tf.linspace(starty, stopy, numy)\n",
    "ybins = tfp.stats.find_bins(c[:,1], edgesy)\n",
    "print(ybins)\n",
    "\n",
    "min_num_pts = 1000\n",
    "\n",
    "count = 0\n",
    "E = []\n",
    "\n",
    "for x in range(numx):\n",
    "    for y in range(numy):\n",
    "        #only do calculations if there are a sufficicently high number of points in the bin\n",
    "        xin = tf.where(xbins == x)\n",
    "        if tf.shape(xin)[0] > min_num_pts:\n",
    "            if tf.shape(tf.where(tf.gather(ybins, xin) == y))[0] > min_num_pts: #repeat for y points at x coord\n",
    "#                 print(\"working\", x, y)\n",
    "                count += 1\n",
    "# print(xin)\n",
    "# print(ybins)\n",
    "print(count)"
   ]
  },
  {
   "cell_type": "code",
   "execution_count": null,
   "metadata": {},
   "outputs": [],
   "source": [
    "test = tf.linspace(1,5,5)\n",
    "print(test)\n",
    "ans = tf.where(test < 4)\n",
    "print(\"ans: \\n\",ans)\n",
    "print(\"\\n\", tf.gather(test, ans))"
   ]
  },
  {
   "cell_type": "markdown",
   "metadata": {},
   "source": [
    "\n",
    "## Inline volumetric rendering using ipyvolume"
   ]
  },
  {
   "cell_type": "code",
   "execution_count": null,
   "metadata": {},
   "outputs": [],
   "source": [
    "#simple demo\n",
    "import ipyvolume\n",
    "ds = ipyvolume.datasets.aquariusA2.fetch()\n",
    "short = ds.data[:,:,:]\n",
    "ipyvolume.quickvolshow(short, lighting=True)"
   ]
  },
  {
   "cell_type": "code",
   "execution_count": null,
   "metadata": {},
   "outputs": [],
   "source": [
    "ans = np.linspace(1,12,8)\n",
    "ans[2] = 0\n",
    "print(ans)\n",
    "\n",
    "test = ans[ans < 10]\n",
    "print(test)\n",
    "np.shape(test)[0]\n",
    "\n",
    "print(np.median(test[:3]))"
   ]
  },
  {
   "cell_type": "code",
   "execution_count": null,
   "metadata": {},
   "outputs": [],
   "source": []
  },
  {
   "cell_type": "code",
   "execution_count": null,
   "metadata": {},
   "outputs": [],
   "source": [
    "# a = tf.reshape([10.,10.,2.], (3,1))\n",
    "# print(type(a))\n",
    "# t = tf.Tensor(a, dtype = \"float32\")\n",
    "\n",
    "a = tf.constant([2.1,2.,3.])\n",
    "b = tf.constant([1.,2.,3.])\n",
    "tf.tensordot(a,b, axes = 0)"
   ]
  },
  {
   "cell_type": "code",
   "execution_count": null,
   "metadata": {},
   "outputs": [],
   "source": [
    "eye = tf.eye(3)\n",
    "# print(j)\n",
    "Jx = tf.constant([[1.], [2.], [3.]])\n",
    "J = tf.concat([eye, Jx], axis = 1)\n",
    "print(J)"
   ]
  },
  {
   "cell_type": "code",
   "execution_count": null,
   "metadata": {},
   "outputs": [],
   "source": [
    "# print(tf.sin(1.))\n",
    "start = time.time()\n",
    "numiter = 100\n",
    "angs  = np.array([1.,0.1,0.1])\n",
    "p_point = np.array([1.,2.,3.])\n",
    "for _ in range(numiter):\n",
    "    J = jacobian(angs, p_point);\n",
    "print(\"took\", time.time()-start, \"seconds on CPU\")\n",
    "print(J)"
   ]
  },
  {
   "cell_type": "code",
   "execution_count": null,
   "metadata": {},
   "outputs": [],
   "source": [
    "#TF is slower if we do them one by one BUT is waaay faster if we send them in all at once\n",
    "start = time.time()\n",
    "numiter = 100000\n",
    "angs = tf.random.normal((3,numiter))\n",
    "p_point = tf.random.normal((3,numiter))\n",
    "J = jacobian_tf(angs, p_point);\n",
    "print(\"took\", time.time()-start, \"seconds on GPU\")\n",
    "print(J.numpy())"
   ]
  },
  {
   "cell_type": "code",
   "execution_count": null,
   "metadata": {},
   "outputs": [],
   "source": []
  },
  {
   "cell_type": "code",
   "execution_count": null,
   "metadata": {},
   "outputs": [],
   "source": []
  },
  {
   "cell_type": "code",
   "execution_count": null,
   "metadata": {},
   "outputs": [],
   "source": []
  },
  {
   "cell_type": "code",
   "execution_count": null,
   "metadata": {},
   "outputs": [],
   "source": []
  }
 ],
 "metadata": {
  "kernelspec": {
   "display_name": "Python 3",
   "language": "python",
   "name": "python3"
  },
  "language_info": {
   "codemirror_mode": {
    "name": "ipython",
    "version": 3
   },
   "file_extension": ".py",
   "mimetype": "text/x-python",
   "name": "python",
   "nbconvert_exporter": "python",
   "pygments_lexer": "ipython3",
   "version": "3.7.6"
  }
 },
 "nbformat": 4,
 "nbformat_minor": 4
}
